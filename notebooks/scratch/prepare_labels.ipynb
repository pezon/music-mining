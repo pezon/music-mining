{
 "cells": [
  {
   "cell_type": "code",
   "execution_count": 1,
   "metadata": {
    "collapsed": true
   },
   "outputs": [
    {
     "name": "stdout",
     "output_type": "stream",
     "text": [
      "Collecting musicbrainzngs\r\n",
      "  Downloading musicbrainzngs-0.7.1-py2.py3-none-any.whl (25 kB)\r\n",
      "Installing collected packages: musicbrainzngs\r\n",
      "Successfully installed musicbrainzngs-0.7.1\r\n"
     ]
    }
   ],
   "source": [
    "!pip install musicbrainzngs"
   ]
  },
  {
   "cell_type": "code",
   "execution_count": 2,
   "outputs": [],
   "source": [
    "import musicbrainzngs as mbz\n",
    "\n",
    "mbz.set_useragent(\"msca-musicmine\", \"0.1\", \"pezon@uchicago.edu\")"
   ],
   "metadata": {
    "collapsed": false,
    "pycharm": {
     "name": "#%%\n"
    }
   }
  },
  {
   "cell_type": "markdown",
   "source": [],
   "metadata": {
    "collapsed": false,
    "pycharm": {
     "name": "#%% md\n"
    }
   }
  },
  {
   "cell_type": "code",
   "execution_count": 7,
   "outputs": [],
   "source": [
    "r = mbz.search_release_groups(\"*\", limit=100)"
   ],
   "metadata": {
    "collapsed": false,
    "pycharm": {
     "name": "#%%\n"
    }
   }
  },
  {
   "cell_type": "code",
   "execution_count": 57,
   "outputs": [],
   "source": [
    "r = mbz.search_labels(\"type:Holding AND country:US\", limit=100)"
   ],
   "metadata": {
    "collapsed": false,
    "pycharm": {
     "name": "#%%\n"
    }
   }
  },
  {
   "cell_type": "code",
   "execution_count": 58,
   "outputs": [
    {
     "data": {
      "text/plain": "308"
     },
     "execution_count": 58,
     "metadata": {},
     "output_type": "execute_result"
    }
   ],
   "source": [
    "r[\"label-count\"]"
   ],
   "metadata": {
    "collapsed": false,
    "pycharm": {
     "name": "#%%\n"
    }
   }
  },
  {
   "cell_type": "code",
   "execution_count": 59,
   "outputs": [],
   "source": [
    "import pandas as pd\n",
    "label_df = pd.DataFrame(r[\"label-list\"])"
   ],
   "metadata": {
    "collapsed": false,
    "pycharm": {
     "name": "#%%\n"
    }
   }
  },
  {
   "cell_type": "code",
   "execution_count": 60,
   "outputs": [
    {
     "data": {
      "text/plain": "                                      id     type ext:score  \\\n0   19d052fa-570a-4b17-9a3d-8f2f029b7b57  Holding       100   \n1   ee9d7dfa-1fe9-4e0c-bf94-4b43eb53dd20  Holding        86   \n2   8aa8f64b-55a1-48db-b124-44fcba58836f  Holding        86   \n3   c9ecb3cf-ed8c-4f48-b99a-7d63ed12d89b  Holding        81   \n4   4fb00dfd-7674-44c0-bf67-79daf8c61767  Holding        81   \n..                                   ...      ...       ...   \n95  92b526c3-7980-46c5-9ba1-41f972c0f13b  Holding        46   \n96  a57fa9c5-f488-4bae-9eb6-41b734227e90  Holding        46   \n97  229aef18-efd2-4aa7-827e-00469892d27e  Holding        46   \n98  2f82a52f-900a-4061-b557-25023a324228  Holding        46   \n99  4e0e831c-932b-4ba5-87f3-bec15ae18b25  Holding        46   \n\n                               name                        sort-name  \\\n0             Universal Music Group            Universal Music Group   \n1              UMG Recordings, Inc.             UMG Recordings, Inc.   \n2   Universal Music Special Markets  Universal Music Special Markets   \n3    The Island Def Jam Music Group   The Island Def Jam Music Group   \n4                 Verve Music Group                Verve Music Group   \n..                              ...                              ...   \n95        Prime Entertainment, Inc.        Prime Entertainment, Inc.   \n96      Sony Corporation of America      Sony Corporation of America   \n97                 Motéma Music LLC                 Motéma Music LLC   \n98                             CTMG                             CTMG   \n99    Direct Holdings Americas Inc.    Direct Holdings Americas Inc.   \n\n                                       disambiguation country  \\\n0          has logo with just “Universal Music Group”      US   \n1   for use as release label only when no sub-labe...      US   \n2                                                 NaN      US   \n3   holding company, not a release label; use appr...      US   \n4   now known as Verve Label Group; not for releas...      US   \n..                                                ...     ...   \n95                                                NaN      US   \n96         parent company of Sony Music Entertainment      US   \n97           for release labels, pleaseu use \"Motéma\"      US   \n98  Columbia Tristar Marketing Group, for motion p...      US   \n99                                                NaN      US   \n\n                                                 area  \\\n0   {'id': '489ce91b-6658-3307-9877-795b68554c98',...   \n1   {'id': '489ce91b-6658-3307-9877-795b68554c98',...   \n2   {'id': '489ce91b-6658-3307-9877-795b68554c98',...   \n3   {'id': '489ce91b-6658-3307-9877-795b68554c98',...   \n4   {'id': '489ce91b-6658-3307-9877-795b68554c98',...   \n..                                                ...   \n95  {'id': '489ce91b-6658-3307-9877-795b68554c98',...   \n96  {'id': '489ce91b-6658-3307-9877-795b68554c98',...   \n97  {'id': '489ce91b-6658-3307-9877-795b68554c98',...   \n98  {'id': '489ce91b-6658-3307-9877-795b68554c98',...   \n99  {'id': '489ce91b-6658-3307-9877-795b68554c98',...   \n\n                                            life-span  \\\n0                 {'begin': '1934', 'ended': 'false'}   \n1              {'begin': '1998-12', 'ended': 'false'}   \n2                                  {'ended': 'false'}   \n3   {'begin': '1999', 'end': '2014-04-01', 'ended'...   \n4                 {'begin': '1998', 'ended': 'false'}   \n..                                                ...   \n95                                 {'ended': 'false'}   \n96          {'begin': '1960-02-15', 'ended': 'false'}   \n97                {'begin': '2003', 'ended': 'false'}   \n98                                 {'ended': 'false'}   \n99                                 {'ended': 'false'}   \n\n                                           alias-list label-code  \\\n0   [{'sort-name': 'Universal Music Group Company'...        NaN   \n1   [{'sort-name': 'UMG Recordings', 'alias': 'UMG...        NaN   \n2   [{'sort-name': 'UMVD Special Markets', 'alias'...      28080   \n3   [{'sort-name': 'IDJMG', 'type': 'Label name', ...       8427   \n4   [{'sort-name': 'Verve Label Group', 'type': 'L...        NaN   \n..                                                ...        ...   \n95                                                NaN        NaN   \n96                                                NaN        NaN   \n97  [{'sort-name': 'Motéma Music', 'alias': 'Motém...        NaN   \n98  [{'sort-name': 'Columbia Tristar Marketing Gro...        NaN   \n99                                                NaN        NaN   \n\n                                             tag-list ipi-list  \n0                                                 NaN      NaN  \n1                                                 NaN      NaN  \n2                  [{'count': '1', 'name': 'strait'}]      NaN  \n3                [{'count': '1', 'name': 'clean up'}]      NaN  \n4   [{'count': '1', 'name': 'jazz'}, {'count': '1'...      NaN  \n..                                                ...      ...  \n95                                                NaN      NaN  \n96                                                NaN      NaN  \n97                                                NaN      NaN  \n98                                                NaN      NaN  \n99                                                NaN      NaN  \n\n[100 rows x 13 columns]",
      "text/html": "<div>\n<style scoped>\n    .dataframe tbody tr th:only-of-type {\n        vertical-align: middle;\n    }\n\n    .dataframe tbody tr th {\n        vertical-align: top;\n    }\n\n    .dataframe thead th {\n        text-align: right;\n    }\n</style>\n<table border=\"1\" class=\"dataframe\">\n  <thead>\n    <tr style=\"text-align: right;\">\n      <th></th>\n      <th>id</th>\n      <th>type</th>\n      <th>ext:score</th>\n      <th>name</th>\n      <th>sort-name</th>\n      <th>disambiguation</th>\n      <th>country</th>\n      <th>area</th>\n      <th>life-span</th>\n      <th>alias-list</th>\n      <th>label-code</th>\n      <th>tag-list</th>\n      <th>ipi-list</th>\n    </tr>\n  </thead>\n  <tbody>\n    <tr>\n      <th>0</th>\n      <td>19d052fa-570a-4b17-9a3d-8f2f029b7b57</td>\n      <td>Holding</td>\n      <td>100</td>\n      <td>Universal Music Group</td>\n      <td>Universal Music Group</td>\n      <td>has logo with just “Universal Music Group”</td>\n      <td>US</td>\n      <td>{'id': '489ce91b-6658-3307-9877-795b68554c98',...</td>\n      <td>{'begin': '1934', 'ended': 'false'}</td>\n      <td>[{'sort-name': 'Universal Music Group Company'...</td>\n      <td>NaN</td>\n      <td>NaN</td>\n      <td>NaN</td>\n    </tr>\n    <tr>\n      <th>1</th>\n      <td>ee9d7dfa-1fe9-4e0c-bf94-4b43eb53dd20</td>\n      <td>Holding</td>\n      <td>86</td>\n      <td>UMG Recordings, Inc.</td>\n      <td>UMG Recordings, Inc.</td>\n      <td>for use as release label only when no sub-labe...</td>\n      <td>US</td>\n      <td>{'id': '489ce91b-6658-3307-9877-795b68554c98',...</td>\n      <td>{'begin': '1998-12', 'ended': 'false'}</td>\n      <td>[{'sort-name': 'UMG Recordings', 'alias': 'UMG...</td>\n      <td>NaN</td>\n      <td>NaN</td>\n      <td>NaN</td>\n    </tr>\n    <tr>\n      <th>2</th>\n      <td>8aa8f64b-55a1-48db-b124-44fcba58836f</td>\n      <td>Holding</td>\n      <td>86</td>\n      <td>Universal Music Special Markets</td>\n      <td>Universal Music Special Markets</td>\n      <td>NaN</td>\n      <td>US</td>\n      <td>{'id': '489ce91b-6658-3307-9877-795b68554c98',...</td>\n      <td>{'ended': 'false'}</td>\n      <td>[{'sort-name': 'UMVD Special Markets', 'alias'...</td>\n      <td>28080</td>\n      <td>[{'count': '1', 'name': 'strait'}]</td>\n      <td>NaN</td>\n    </tr>\n    <tr>\n      <th>3</th>\n      <td>c9ecb3cf-ed8c-4f48-b99a-7d63ed12d89b</td>\n      <td>Holding</td>\n      <td>81</td>\n      <td>The Island Def Jam Music Group</td>\n      <td>The Island Def Jam Music Group</td>\n      <td>holding company, not a release label; use appr...</td>\n      <td>US</td>\n      <td>{'id': '489ce91b-6658-3307-9877-795b68554c98',...</td>\n      <td>{'begin': '1999', 'end': '2014-04-01', 'ended'...</td>\n      <td>[{'sort-name': 'IDJMG', 'type': 'Label name', ...</td>\n      <td>8427</td>\n      <td>[{'count': '1', 'name': 'clean up'}]</td>\n      <td>NaN</td>\n    </tr>\n    <tr>\n      <th>4</th>\n      <td>4fb00dfd-7674-44c0-bf67-79daf8c61767</td>\n      <td>Holding</td>\n      <td>81</td>\n      <td>Verve Music Group</td>\n      <td>Verve Music Group</td>\n      <td>now known as Verve Label Group; not for releas...</td>\n      <td>US</td>\n      <td>{'id': '489ce91b-6658-3307-9877-795b68554c98',...</td>\n      <td>{'begin': '1998', 'ended': 'false'}</td>\n      <td>[{'sort-name': 'Verve Label Group', 'type': 'L...</td>\n      <td>NaN</td>\n      <td>[{'count': '1', 'name': 'jazz'}, {'count': '1'...</td>\n      <td>NaN</td>\n    </tr>\n    <tr>\n      <th>...</th>\n      <td>...</td>\n      <td>...</td>\n      <td>...</td>\n      <td>...</td>\n      <td>...</td>\n      <td>...</td>\n      <td>...</td>\n      <td>...</td>\n      <td>...</td>\n      <td>...</td>\n      <td>...</td>\n      <td>...</td>\n      <td>...</td>\n    </tr>\n    <tr>\n      <th>95</th>\n      <td>92b526c3-7980-46c5-9ba1-41f972c0f13b</td>\n      <td>Holding</td>\n      <td>46</td>\n      <td>Prime Entertainment, Inc.</td>\n      <td>Prime Entertainment, Inc.</td>\n      <td>NaN</td>\n      <td>US</td>\n      <td>{'id': '489ce91b-6658-3307-9877-795b68554c98',...</td>\n      <td>{'ended': 'false'}</td>\n      <td>NaN</td>\n      <td>NaN</td>\n      <td>NaN</td>\n      <td>NaN</td>\n    </tr>\n    <tr>\n      <th>96</th>\n      <td>a57fa9c5-f488-4bae-9eb6-41b734227e90</td>\n      <td>Holding</td>\n      <td>46</td>\n      <td>Sony Corporation of America</td>\n      <td>Sony Corporation of America</td>\n      <td>parent company of Sony Music Entertainment</td>\n      <td>US</td>\n      <td>{'id': '489ce91b-6658-3307-9877-795b68554c98',...</td>\n      <td>{'begin': '1960-02-15', 'ended': 'false'}</td>\n      <td>NaN</td>\n      <td>NaN</td>\n      <td>NaN</td>\n      <td>NaN</td>\n    </tr>\n    <tr>\n      <th>97</th>\n      <td>229aef18-efd2-4aa7-827e-00469892d27e</td>\n      <td>Holding</td>\n      <td>46</td>\n      <td>Motéma Music LLC</td>\n      <td>Motéma Music LLC</td>\n      <td>for release labels, pleaseu use \"Motéma\"</td>\n      <td>US</td>\n      <td>{'id': '489ce91b-6658-3307-9877-795b68554c98',...</td>\n      <td>{'begin': '2003', 'ended': 'false'}</td>\n      <td>[{'sort-name': 'Motéma Music', 'alias': 'Motém...</td>\n      <td>NaN</td>\n      <td>NaN</td>\n      <td>NaN</td>\n    </tr>\n    <tr>\n      <th>98</th>\n      <td>2f82a52f-900a-4061-b557-25023a324228</td>\n      <td>Holding</td>\n      <td>46</td>\n      <td>CTMG</td>\n      <td>CTMG</td>\n      <td>Columbia Tristar Marketing Group, for motion p...</td>\n      <td>US</td>\n      <td>{'id': '489ce91b-6658-3307-9877-795b68554c98',...</td>\n      <td>{'ended': 'false'}</td>\n      <td>[{'sort-name': 'Columbia Tristar Marketing Gro...</td>\n      <td>NaN</td>\n      <td>NaN</td>\n      <td>NaN</td>\n    </tr>\n    <tr>\n      <th>99</th>\n      <td>4e0e831c-932b-4ba5-87f3-bec15ae18b25</td>\n      <td>Holding</td>\n      <td>46</td>\n      <td>Direct Holdings Americas Inc.</td>\n      <td>Direct Holdings Americas Inc.</td>\n      <td>NaN</td>\n      <td>US</td>\n      <td>{'id': '489ce91b-6658-3307-9877-795b68554c98',...</td>\n      <td>{'ended': 'false'}</td>\n      <td>NaN</td>\n      <td>NaN</td>\n      <td>NaN</td>\n      <td>NaN</td>\n    </tr>\n  </tbody>\n</table>\n<p>100 rows × 13 columns</p>\n</div>"
     },
     "execution_count": 60,
     "metadata": {},
     "output_type": "execute_result"
    }
   ],
   "source": [
    "label_df"
   ],
   "metadata": {
    "collapsed": false,
    "pycharm": {
     "name": "#%%\n"
    }
   }
  },
  {
   "cell_type": "code",
   "execution_count": 46,
   "outputs": [
    {
     "ename": "TypeError",
     "evalue": "browse_labels() got an unexpected keyword argument 'label'",
     "output_type": "error",
     "traceback": [
      "\u001B[0;31m---------------------------------------------------------------------------\u001B[0m",
      "\u001B[0;31mTypeError\u001B[0m                                 Traceback (most recent call last)",
      "\u001B[0;32m/var/folders/x2/3tdlb6px40qfq870vwx5y6080000gn/T/ipykernel_12585/2866780351.py\u001B[0m in \u001B[0;36m<module>\u001B[0;34m\u001B[0m\n\u001B[0;32m----> 1\u001B[0;31m \u001B[0mmbz\u001B[0m\u001B[0;34m.\u001B[0m\u001B[0mbrowse_labels\u001B[0m\u001B[0;34m(\u001B[0m\u001B[0mlabel\u001B[0m\u001B[0;34m=\u001B[0m\u001B[0;34m\"b54769e4-b75e-4f60-884a-c4714687bb4c\"\u001B[0m\u001B[0;34m)\u001B[0m\u001B[0;34m\u001B[0m\u001B[0;34m\u001B[0m\u001B[0m\n\u001B[0m",
      "\u001B[0;31mTypeError\u001B[0m: browse_labels() got an unexpected keyword argument 'label'"
     ]
    }
   ],
   "source": [
    "mbz.browse_labels(label=\"b54769e4-b75e-4f60-884a-c4714687bb4c\")"
   ],
   "metadata": {
    "collapsed": false,
    "pycharm": {
     "name": "#%%\n"
    }
   }
  },
  {
   "cell_type": "code",
   "execution_count": null,
   "outputs": [],
   "source": [
    "# Examples:\n",
    "# Interscope Records\n",
    "# parent: UMG Recordings, Inc.\n",
    "# parent: Interscope Geffen A&M\n",
    "# subsidiaries: ...?"
   ],
   "metadata": {
    "collapsed": false,
    "pycharm": {
     "name": "#%%\n"
    }
   }
  },
  {
   "cell_type": "code",
   "execution_count": 112,
   "outputs": [
    {
     "name": "stdout",
     "output_type": "stream",
     "text": [
      "9142\n"
     ]
    },
    {
     "data": {
      "text/plain": "                                      id                 type ext:score  \\\n0   b3f4e6a5-ece0-43be-a530-68ad0d49fee8  Original Production       100   \n1   2182a316-c4bd-4605-936a-5e2fac52bdd2  Original Production        99   \n2   5899271b-a77a-4081-93a9-0bd05b9b4180  Original Production        95   \n3   c62e3985-6370-446a-bfb8-f1f6122e9c33  Original Production        95   \n4   99a24d71-54c1-4d3f-88cc-00fbcc4fce83  Original Production        94   \n..                                   ...                  ...       ...   \n95  1ead555f-78d5-4d8a-aab5-d69f4013a0ac  Original Production        73   \n96  4b5cba06-6a79-454c-91f5-3fe220d4950d  Original Production        73   \n97  83b99127-6ecc-4034-a194-9ea99a1a1c8a  Original Production        73   \n98  5c2d7816-147b-4f88-8338-9c7cf1cd0936  Original Production        73   \n99  148498ac-d0d5-40ff-ad4c-50a0a6654564  Original Production        73   \n\n                         name                  sort-name label-code country  \\\n0                  RCA Victor                 RCA Victor        316      US   \n1          Interscope Records         Interscope Records       6406      US   \n2          Roadrunner Records         Roadrunner Records       9231      US   \n3                      Arista                     Arista       3484      US   \n4                       Verve                      Verve        383      US   \n..                        ...                        ...        ...     ...   \n95          Ipecac Recordings          Ipecac Recordings        NaN      US   \n96            Nothing Records            Nothing Records        NaN      US   \n97                 Savoy Jazz                 Savoy Jazz        NaN      US   \n98  Intervox Production Music  Intervox Production Music      10743      US   \n99                   Arhoolie                   Arhoolie        NaN      US   \n\n                                                 area  \\\n0   {'id': '489ce91b-6658-3307-9877-795b68554c98',...   \n1   {'id': '489ce91b-6658-3307-9877-795b68554c98',...   \n2   {'id': '489ce91b-6658-3307-9877-795b68554c98',...   \n3   {'id': '489ce91b-6658-3307-9877-795b68554c98',...   \n4   {'id': '489ce91b-6658-3307-9877-795b68554c98',...   \n..                                                ...   \n95  {'id': '489ce91b-6658-3307-9877-795b68554c98',...   \n96  {'id': '489ce91b-6658-3307-9877-795b68554c98',...   \n97  {'id': '489ce91b-6658-3307-9877-795b68554c98',...   \n98  {'id': '489ce91b-6658-3307-9877-795b68554c98',...   \n99  {'id': '489ce91b-6658-3307-9877-795b68554c98',...   \n\n                                            life-span  \\\n0                 {'begin': '1929', 'ended': 'false'}   \n1                 {'begin': '1990', 'ended': 'false'}   \n2                 {'begin': '1980', 'ended': 'false'}   \n3                 {'begin': '1974', 'ended': 'false'}   \n4                 {'begin': '1953', 'ended': 'false'}   \n..                                                ...   \n95          {'begin': '1999-04-01', 'ended': 'false'}   \n96  {'begin': '1992', 'end': '2004', 'ended': 'true'}   \n97                                 {'ended': 'false'}   \n98                                 {'ended': 'false'}   \n99                {'begin': '1960', 'ended': 'false'}   \n\n                                           alias-list  \\\n0   [{'sort-name': 'RCA Victor Canada Internationa...   \n1   [{'sort-name': 'Interscape Records', 'alias': ...   \n2   [{'sort-name': 'ロードランナー・ジャパン', 'alias': 'ロードラン...   \n3   [{'sort-name': 'Artista', 'alias': 'Artista'},...   \n4   [{'sort-name': 'Verve Records', 'alias': 'Verv...   \n..                                                ...   \n95                                                NaN   \n96                                                NaN   \n97                                                NaN   \n98   [{'sort-name': 'Intervox', 'alias': 'Intervox'}]   \n99  [{'sort-name': 'Arhoolie Records', 'alias': 'A...   \n\n                                             tag-list  \\\n0                 [{'count': '0', 'name': 'kes 103'}]   \n1   [{'count': '1', 'name': 'rock'}, {'count': '1'...   \n2   [{'count': '1', 'name': 'metalcore'}, {'count'...   \n3                                                 NaN   \n4   [{'count': '2', 'name': 'jazz'}, {'count': '1'...   \n..                                                ...   \n95           [{'count': '1', 'name': 'epic records'}]   \n96                                                NaN   \n97                                                NaN   \n98       [{'count': '1', 'name': 'production music'}]   \n99                                                NaN   \n\n                                       disambiguation  \n0                                                 NaN  \n1                                                 NaN  \n2                                                 NaN  \n3                                                 NaN  \n4   jazz label, aka “Verve Records”, use this for ...  \n..                                                ...  \n95                                                NaN  \n96   US industrial/electronic founded by Trent Reznor  \n97                                                NaN  \n98                                                NaN  \n99                                                NaN  \n\n[100 rows x 12 columns]",
      "text/html": "<div>\n<style scoped>\n    .dataframe tbody tr th:only-of-type {\n        vertical-align: middle;\n    }\n\n    .dataframe tbody tr th {\n        vertical-align: top;\n    }\n\n    .dataframe thead th {\n        text-align: right;\n    }\n</style>\n<table border=\"1\" class=\"dataframe\">\n  <thead>\n    <tr style=\"text-align: right;\">\n      <th></th>\n      <th>id</th>\n      <th>type</th>\n      <th>ext:score</th>\n      <th>name</th>\n      <th>sort-name</th>\n      <th>label-code</th>\n      <th>country</th>\n      <th>area</th>\n      <th>life-span</th>\n      <th>alias-list</th>\n      <th>tag-list</th>\n      <th>disambiguation</th>\n    </tr>\n  </thead>\n  <tbody>\n    <tr>\n      <th>0</th>\n      <td>b3f4e6a5-ece0-43be-a530-68ad0d49fee8</td>\n      <td>Original Production</td>\n      <td>100</td>\n      <td>RCA Victor</td>\n      <td>RCA Victor</td>\n      <td>316</td>\n      <td>US</td>\n      <td>{'id': '489ce91b-6658-3307-9877-795b68554c98',...</td>\n      <td>{'begin': '1929', 'ended': 'false'}</td>\n      <td>[{'sort-name': 'RCA Victor Canada Internationa...</td>\n      <td>[{'count': '0', 'name': 'kes 103'}]</td>\n      <td>NaN</td>\n    </tr>\n    <tr>\n      <th>1</th>\n      <td>2182a316-c4bd-4605-936a-5e2fac52bdd2</td>\n      <td>Original Production</td>\n      <td>99</td>\n      <td>Interscope Records</td>\n      <td>Interscope Records</td>\n      <td>6406</td>\n      <td>US</td>\n      <td>{'id': '489ce91b-6658-3307-9877-795b68554c98',...</td>\n      <td>{'begin': '1990', 'ended': 'false'}</td>\n      <td>[{'sort-name': 'Interscape Records', 'alias': ...</td>\n      <td>[{'count': '1', 'name': 'rock'}, {'count': '1'...</td>\n      <td>NaN</td>\n    </tr>\n    <tr>\n      <th>2</th>\n      <td>5899271b-a77a-4081-93a9-0bd05b9b4180</td>\n      <td>Original Production</td>\n      <td>95</td>\n      <td>Roadrunner Records</td>\n      <td>Roadrunner Records</td>\n      <td>9231</td>\n      <td>US</td>\n      <td>{'id': '489ce91b-6658-3307-9877-795b68554c98',...</td>\n      <td>{'begin': '1980', 'ended': 'false'}</td>\n      <td>[{'sort-name': 'ロードランナー・ジャパン', 'alias': 'ロードラン...</td>\n      <td>[{'count': '1', 'name': 'metalcore'}, {'count'...</td>\n      <td>NaN</td>\n    </tr>\n    <tr>\n      <th>3</th>\n      <td>c62e3985-6370-446a-bfb8-f1f6122e9c33</td>\n      <td>Original Production</td>\n      <td>95</td>\n      <td>Arista</td>\n      <td>Arista</td>\n      <td>3484</td>\n      <td>US</td>\n      <td>{'id': '489ce91b-6658-3307-9877-795b68554c98',...</td>\n      <td>{'begin': '1974', 'ended': 'false'}</td>\n      <td>[{'sort-name': 'Artista', 'alias': 'Artista'},...</td>\n      <td>NaN</td>\n      <td>NaN</td>\n    </tr>\n    <tr>\n      <th>4</th>\n      <td>99a24d71-54c1-4d3f-88cc-00fbcc4fce83</td>\n      <td>Original Production</td>\n      <td>94</td>\n      <td>Verve</td>\n      <td>Verve</td>\n      <td>383</td>\n      <td>US</td>\n      <td>{'id': '489ce91b-6658-3307-9877-795b68554c98',...</td>\n      <td>{'begin': '1953', 'ended': 'false'}</td>\n      <td>[{'sort-name': 'Verve Records', 'alias': 'Verv...</td>\n      <td>[{'count': '2', 'name': 'jazz'}, {'count': '1'...</td>\n      <td>jazz label, aka “Verve Records”, use this for ...</td>\n    </tr>\n    <tr>\n      <th>...</th>\n      <td>...</td>\n      <td>...</td>\n      <td>...</td>\n      <td>...</td>\n      <td>...</td>\n      <td>...</td>\n      <td>...</td>\n      <td>...</td>\n      <td>...</td>\n      <td>...</td>\n      <td>...</td>\n      <td>...</td>\n    </tr>\n    <tr>\n      <th>95</th>\n      <td>1ead555f-78d5-4d8a-aab5-d69f4013a0ac</td>\n      <td>Original Production</td>\n      <td>73</td>\n      <td>Ipecac Recordings</td>\n      <td>Ipecac Recordings</td>\n      <td>NaN</td>\n      <td>US</td>\n      <td>{'id': '489ce91b-6658-3307-9877-795b68554c98',...</td>\n      <td>{'begin': '1999-04-01', 'ended': 'false'}</td>\n      <td>NaN</td>\n      <td>[{'count': '1', 'name': 'epic records'}]</td>\n      <td>NaN</td>\n    </tr>\n    <tr>\n      <th>96</th>\n      <td>4b5cba06-6a79-454c-91f5-3fe220d4950d</td>\n      <td>Original Production</td>\n      <td>73</td>\n      <td>Nothing Records</td>\n      <td>Nothing Records</td>\n      <td>NaN</td>\n      <td>US</td>\n      <td>{'id': '489ce91b-6658-3307-9877-795b68554c98',...</td>\n      <td>{'begin': '1992', 'end': '2004', 'ended': 'true'}</td>\n      <td>NaN</td>\n      <td>NaN</td>\n      <td>US industrial/electronic founded by Trent Reznor</td>\n    </tr>\n    <tr>\n      <th>97</th>\n      <td>83b99127-6ecc-4034-a194-9ea99a1a1c8a</td>\n      <td>Original Production</td>\n      <td>73</td>\n      <td>Savoy Jazz</td>\n      <td>Savoy Jazz</td>\n      <td>NaN</td>\n      <td>US</td>\n      <td>{'id': '489ce91b-6658-3307-9877-795b68554c98',...</td>\n      <td>{'ended': 'false'}</td>\n      <td>NaN</td>\n      <td>NaN</td>\n      <td>NaN</td>\n    </tr>\n    <tr>\n      <th>98</th>\n      <td>5c2d7816-147b-4f88-8338-9c7cf1cd0936</td>\n      <td>Original Production</td>\n      <td>73</td>\n      <td>Intervox Production Music</td>\n      <td>Intervox Production Music</td>\n      <td>10743</td>\n      <td>US</td>\n      <td>{'id': '489ce91b-6658-3307-9877-795b68554c98',...</td>\n      <td>{'ended': 'false'}</td>\n      <td>[{'sort-name': 'Intervox', 'alias': 'Intervox'}]</td>\n      <td>[{'count': '1', 'name': 'production music'}]</td>\n      <td>NaN</td>\n    </tr>\n    <tr>\n      <th>99</th>\n      <td>148498ac-d0d5-40ff-ad4c-50a0a6654564</td>\n      <td>Original Production</td>\n      <td>73</td>\n      <td>Arhoolie</td>\n      <td>Arhoolie</td>\n      <td>NaN</td>\n      <td>US</td>\n      <td>{'id': '489ce91b-6658-3307-9877-795b68554c98',...</td>\n      <td>{'begin': '1960', 'ended': 'false'}</td>\n      <td>[{'sort-name': 'Arhoolie Records', 'alias': 'A...</td>\n      <td>NaN</td>\n      <td>NaN</td>\n    </tr>\n  </tbody>\n</table>\n<p>100 rows × 12 columns</p>\n</div>"
     },
     "execution_count": 112,
     "metadata": {},
     "output_type": "execute_result"
    }
   ],
   "source": [
    "labels_original = mbz.search_labels(\"country:(US OR UK) AND type:\\\"Original Production\\\"\", limit=100)\n",
    "print(labels_original[\"label-count\"])\n",
    "labels_original_df = pd.DataFrame(labels_original[\"label-list\"])\n",
    "labels_original_df"
   ],
   "metadata": {
    "collapsed": false,
    "pycharm": {
     "name": "#%%\n"
    }
   }
  },
  {
   "cell_type": "code",
   "execution_count": 113,
   "outputs": [
    {
     "name": "stdout",
     "output_type": "stream",
     "text": [
      "308\n"
     ]
    },
    {
     "data": {
      "text/plain": "                                      id     type ext:score  \\\n0   19d052fa-570a-4b17-9a3d-8f2f029b7b57  Holding       100   \n1   ee9d7dfa-1fe9-4e0c-bf94-4b43eb53dd20  Holding        86   \n2   8aa8f64b-55a1-48db-b124-44fcba58836f  Holding        86   \n3   c9ecb3cf-ed8c-4f48-b99a-7d63ed12d89b  Holding        82   \n4   4fb00dfd-7674-44c0-bf67-79daf8c61767  Holding        81   \n..                                   ...      ...       ...   \n95  2556d09c-93ae-4ca9-9b01-e275fdec5bec  Holding        47   \n96  4e0e831c-932b-4ba5-87f3-bec15ae18b25  Holding        47   \n97  7db419f6-e7a9-405c-bc8c-bd1f46268477  Holding        47   \n98  0c6efbcf-57c8-4987-b108-1b716c7aca5b  Holding        47   \n99  b6d8294a-63b2-4f27-acc3-4aedb67ae41a  Holding        47   \n\n                               name                        sort-name  \\\n0             Universal Music Group            Universal Music Group   \n1              UMG Recordings, Inc.             UMG Recordings, Inc.   \n2   Universal Music Special Markets  Universal Music Special Markets   \n3    The Island Def Jam Music Group   The Island Def Jam Music Group   \n4                 Verve Music Group                Verve Music Group   \n..                              ...                              ...   \n95       Mercury Record Corporation       Mercury Record Corporation   \n96    Direct Holdings Americas Inc.    Direct Holdings Americas Inc.   \n97                   Media Creature                   Media Creature   \n98                Freedom Stars LLC                Freedom Stars LLC   \n99      DMI Music & Media Solutions      DMI Music & Media Solutions   \n\n                                       disambiguation country  \\\n0          has logo with just “Universal Music Group”      US   \n1   for use as release label only when no sub-labe...      US   \n2                                                 NaN      US   \n3   holding company, not a release label; use appr...      US   \n4   now known as Verve Label Group; not for releas...      US   \n..                                                ...     ...   \n95                            mid 1960’s-early 1970’s      US   \n96                                                NaN      US   \n97                                                NaN      US   \n98                                                NaN      US   \n99                                                NaN      US   \n\n                                                 area  \\\n0   {'id': '489ce91b-6658-3307-9877-795b68554c98',...   \n1   {'id': '489ce91b-6658-3307-9877-795b68554c98',...   \n2   {'id': '489ce91b-6658-3307-9877-795b68554c98',...   \n3   {'id': '489ce91b-6658-3307-9877-795b68554c98',...   \n4   {'id': '489ce91b-6658-3307-9877-795b68554c98',...   \n..                                                ...   \n95  {'id': '489ce91b-6658-3307-9877-795b68554c98',...   \n96  {'id': '489ce91b-6658-3307-9877-795b68554c98',...   \n97  {'id': '489ce91b-6658-3307-9877-795b68554c98',...   \n98  {'id': '489ce91b-6658-3307-9877-795b68554c98',...   \n99  {'id': '489ce91b-6658-3307-9877-795b68554c98',...   \n\n                                            life-span  \\\n0                 {'begin': '1934', 'ended': 'false'}   \n1              {'begin': '1998-12', 'ended': 'false'}   \n2                                  {'ended': 'false'}   \n3   {'begin': '1999', 'end': '2014-04-01', 'ended'...   \n4                 {'begin': '1998', 'ended': 'false'}   \n..                                                ...   \n95                                 {'ended': 'false'}   \n96                                 {'ended': 'false'}   \n97          {'begin': '2007-08-23', 'ended': 'false'}   \n98          {'begin': '2013-02-26', 'ended': 'false'}   \n99                                 {'ended': 'false'}   \n\n                                           alias-list label-code  \\\n0   [{'sort-name': 'Universal Music Group Company'...        NaN   \n1   [{'sort-name': 'UMG Recordings', 'alias': 'UMG...        NaN   \n2   [{'sort-name': 'UMVD Special Markets', 'alias'...      28080   \n3   [{'sort-name': 'IDJMG', 'type': 'Label name', ...       8427   \n4   [{'sort-name': 'Verve Label Group', 'type': 'L...        NaN   \n..                                                ...        ...   \n95                                                NaN        NaN   \n96                                                NaN        NaN   \n97                                                NaN        NaN   \n98                                                NaN        NaN   \n99                                                NaN        NaN   \n\n                                             tag-list  \n0                                                 NaN  \n1                                                 NaN  \n2                  [{'count': '1', 'name': 'strait'}]  \n3                [{'count': '1', 'name': 'clean up'}]  \n4   [{'count': '1', 'name': 'jazz'}, {'count': '1'...  \n..                                                ...  \n95                                                NaN  \n96                                                NaN  \n97                                                NaN  \n98                                                NaN  \n99       [{'count': '1', 'name': 'production music'}]  \n\n[100 rows x 12 columns]",
      "text/html": "<div>\n<style scoped>\n    .dataframe tbody tr th:only-of-type {\n        vertical-align: middle;\n    }\n\n    .dataframe tbody tr th {\n        vertical-align: top;\n    }\n\n    .dataframe thead th {\n        text-align: right;\n    }\n</style>\n<table border=\"1\" class=\"dataframe\">\n  <thead>\n    <tr style=\"text-align: right;\">\n      <th></th>\n      <th>id</th>\n      <th>type</th>\n      <th>ext:score</th>\n      <th>name</th>\n      <th>sort-name</th>\n      <th>disambiguation</th>\n      <th>country</th>\n      <th>area</th>\n      <th>life-span</th>\n      <th>alias-list</th>\n      <th>label-code</th>\n      <th>tag-list</th>\n    </tr>\n  </thead>\n  <tbody>\n    <tr>\n      <th>0</th>\n      <td>19d052fa-570a-4b17-9a3d-8f2f029b7b57</td>\n      <td>Holding</td>\n      <td>100</td>\n      <td>Universal Music Group</td>\n      <td>Universal Music Group</td>\n      <td>has logo with just “Universal Music Group”</td>\n      <td>US</td>\n      <td>{'id': '489ce91b-6658-3307-9877-795b68554c98',...</td>\n      <td>{'begin': '1934', 'ended': 'false'}</td>\n      <td>[{'sort-name': 'Universal Music Group Company'...</td>\n      <td>NaN</td>\n      <td>NaN</td>\n    </tr>\n    <tr>\n      <th>1</th>\n      <td>ee9d7dfa-1fe9-4e0c-bf94-4b43eb53dd20</td>\n      <td>Holding</td>\n      <td>86</td>\n      <td>UMG Recordings, Inc.</td>\n      <td>UMG Recordings, Inc.</td>\n      <td>for use as release label only when no sub-labe...</td>\n      <td>US</td>\n      <td>{'id': '489ce91b-6658-3307-9877-795b68554c98',...</td>\n      <td>{'begin': '1998-12', 'ended': 'false'}</td>\n      <td>[{'sort-name': 'UMG Recordings', 'alias': 'UMG...</td>\n      <td>NaN</td>\n      <td>NaN</td>\n    </tr>\n    <tr>\n      <th>2</th>\n      <td>8aa8f64b-55a1-48db-b124-44fcba58836f</td>\n      <td>Holding</td>\n      <td>86</td>\n      <td>Universal Music Special Markets</td>\n      <td>Universal Music Special Markets</td>\n      <td>NaN</td>\n      <td>US</td>\n      <td>{'id': '489ce91b-6658-3307-9877-795b68554c98',...</td>\n      <td>{'ended': 'false'}</td>\n      <td>[{'sort-name': 'UMVD Special Markets', 'alias'...</td>\n      <td>28080</td>\n      <td>[{'count': '1', 'name': 'strait'}]</td>\n    </tr>\n    <tr>\n      <th>3</th>\n      <td>c9ecb3cf-ed8c-4f48-b99a-7d63ed12d89b</td>\n      <td>Holding</td>\n      <td>82</td>\n      <td>The Island Def Jam Music Group</td>\n      <td>The Island Def Jam Music Group</td>\n      <td>holding company, not a release label; use appr...</td>\n      <td>US</td>\n      <td>{'id': '489ce91b-6658-3307-9877-795b68554c98',...</td>\n      <td>{'begin': '1999', 'end': '2014-04-01', 'ended'...</td>\n      <td>[{'sort-name': 'IDJMG', 'type': 'Label name', ...</td>\n      <td>8427</td>\n      <td>[{'count': '1', 'name': 'clean up'}]</td>\n    </tr>\n    <tr>\n      <th>4</th>\n      <td>4fb00dfd-7674-44c0-bf67-79daf8c61767</td>\n      <td>Holding</td>\n      <td>81</td>\n      <td>Verve Music Group</td>\n      <td>Verve Music Group</td>\n      <td>now known as Verve Label Group; not for releas...</td>\n      <td>US</td>\n      <td>{'id': '489ce91b-6658-3307-9877-795b68554c98',...</td>\n      <td>{'begin': '1998', 'ended': 'false'}</td>\n      <td>[{'sort-name': 'Verve Label Group', 'type': 'L...</td>\n      <td>NaN</td>\n      <td>[{'count': '1', 'name': 'jazz'}, {'count': '1'...</td>\n    </tr>\n    <tr>\n      <th>...</th>\n      <td>...</td>\n      <td>...</td>\n      <td>...</td>\n      <td>...</td>\n      <td>...</td>\n      <td>...</td>\n      <td>...</td>\n      <td>...</td>\n      <td>...</td>\n      <td>...</td>\n      <td>...</td>\n      <td>...</td>\n    </tr>\n    <tr>\n      <th>95</th>\n      <td>2556d09c-93ae-4ca9-9b01-e275fdec5bec</td>\n      <td>Holding</td>\n      <td>47</td>\n      <td>Mercury Record Corporation</td>\n      <td>Mercury Record Corporation</td>\n      <td>mid 1960’s-early 1970’s</td>\n      <td>US</td>\n      <td>{'id': '489ce91b-6658-3307-9877-795b68554c98',...</td>\n      <td>{'ended': 'false'}</td>\n      <td>NaN</td>\n      <td>NaN</td>\n      <td>NaN</td>\n    </tr>\n    <tr>\n      <th>96</th>\n      <td>4e0e831c-932b-4ba5-87f3-bec15ae18b25</td>\n      <td>Holding</td>\n      <td>47</td>\n      <td>Direct Holdings Americas Inc.</td>\n      <td>Direct Holdings Americas Inc.</td>\n      <td>NaN</td>\n      <td>US</td>\n      <td>{'id': '489ce91b-6658-3307-9877-795b68554c98',...</td>\n      <td>{'ended': 'false'}</td>\n      <td>NaN</td>\n      <td>NaN</td>\n      <td>NaN</td>\n    </tr>\n    <tr>\n      <th>97</th>\n      <td>7db419f6-e7a9-405c-bc8c-bd1f46268477</td>\n      <td>Holding</td>\n      <td>47</td>\n      <td>Media Creature</td>\n      <td>Media Creature</td>\n      <td>NaN</td>\n      <td>US</td>\n      <td>{'id': '489ce91b-6658-3307-9877-795b68554c98',...</td>\n      <td>{'begin': '2007-08-23', 'ended': 'false'}</td>\n      <td>NaN</td>\n      <td>NaN</td>\n      <td>NaN</td>\n    </tr>\n    <tr>\n      <th>98</th>\n      <td>0c6efbcf-57c8-4987-b108-1b716c7aca5b</td>\n      <td>Holding</td>\n      <td>47</td>\n      <td>Freedom Stars LLC</td>\n      <td>Freedom Stars LLC</td>\n      <td>NaN</td>\n      <td>US</td>\n      <td>{'id': '489ce91b-6658-3307-9877-795b68554c98',...</td>\n      <td>{'begin': '2013-02-26', 'ended': 'false'}</td>\n      <td>NaN</td>\n      <td>NaN</td>\n      <td>NaN</td>\n    </tr>\n    <tr>\n      <th>99</th>\n      <td>b6d8294a-63b2-4f27-acc3-4aedb67ae41a</td>\n      <td>Holding</td>\n      <td>47</td>\n      <td>DMI Music &amp; Media Solutions</td>\n      <td>DMI Music &amp; Media Solutions</td>\n      <td>NaN</td>\n      <td>US</td>\n      <td>{'id': '489ce91b-6658-3307-9877-795b68554c98',...</td>\n      <td>{'ended': 'false'}</td>\n      <td>NaN</td>\n      <td>NaN</td>\n      <td>[{'count': '1', 'name': 'production music'}]</td>\n    </tr>\n  </tbody>\n</table>\n<p>100 rows × 12 columns</p>\n</div>"
     },
     "execution_count": 113,
     "metadata": {},
     "output_type": "execute_result"
    }
   ],
   "source": [
    "labels_original = mbz.search_labels(\"country:(US OR UK) AND type:\\\"Holding\\\"\", limit=100)\n",
    "print(labels_original[\"label-count\"])\n",
    "labels_original_df = pd.DataFrame(labels_original[\"label-list\"])\n",
    "labels_original_df"
   ],
   "metadata": {
    "collapsed": false,
    "pycharm": {
     "name": "#%%\n"
    }
   }
  },
  {
   "cell_type": "code",
   "execution_count": 117,
   "outputs": [
    {
     "name": "stdout",
     "output_type": "stream",
     "text": [
      "6\n"
     ]
    },
    {
     "data": {
      "text/plain": "                                     id                 type ext:score  \\\n0  a539bb1e-f2e1-4b45-9db8-8053841e7503  Original Production       100   \n1  ca432a28-17fb-48d5-a584-771c9b60ff2c              Holding        68   \n2  def32a2f-fb29-4af4-84e8-c2d34d5abeeb                  NaN        55   \n3  3d4fac4e-21b5-4cad-9e33-80999f0bb502            Publisher        55   \n4  be10a4a8-c85d-46e2-8191-9aa3571b1ed2            Publisher        49   \n5  d6025dee-9ac4-4790-ac52-b83bb032b23e  Original Production        28   \n\n                  name            sort-name label-code  \\\n0                  4AD                  4AD       5807   \n1          4AD Limited          4AD Limited       5807   \n2     4AD Records Ltd.     4AD Records Ltd.        NaN   \n3       4AD Music Ltd.       4AD Music Ltd.        NaN   \n4  HOLLA4ADOLLER MUSIC  HOLLA4ADOLLER MUSIC        NaN   \n5         Axis Records         Axis Records        NaN   \n\n                                                area  \\\n0  {'id': '54181a4b-9f77-4919-b8c5-f7af03fbbe17',...   \n1  {'id': '8a754a16-0027-3a29-b6d7-2b40ea0481ed',...   \n2                                                NaN   \n3                                                NaN   \n4                                                NaN   \n5  {'id': '8a754a16-0027-3a29-b6d7-2b40ea0481ed',...   \n\n                                           life-span  \\\n0                {'begin': '1979', 'ended': 'false'}   \n1          {'begin': '1981-12-31', 'ended': 'false'}   \n2                                 {'ended': 'false'}   \n3                                 {'ended': 'false'}   \n4                                 {'ended': 'false'}   \n5  {'begin': '1979', 'end': '1979', 'ended': 'true'}   \n\n                                          alias-list  \\\n0       [{'sort-name': '4AD US', 'alias': '4AD US'}]   \n1  [{'sort-name': '4AD Ltd.', 'type': 'Search hin...   \n2                                                NaN   \n3                                                NaN   \n4                                                NaN   \n5                                                NaN   \n\n                                            tag-list country       ipi-list  \\\n0  [{'count': '1', 'name': 'alternative rock'}, {...     NaN            NaN   \n1                                                NaN      GB            NaN   \n2                                                NaN     NaN            NaN   \n3                                                NaN     NaN  [00293165943]   \n4                                                NaN     NaN            NaN   \n5                                                NaN      GB            NaN   \n\n                  disambiguation  \n0                            NaN  \n1                            NaN  \n2                            NaN  \n3                            NaN  \n4                            NaN  \n5  1979 UK label, renamed to 4AD  ",
      "text/html": "<div>\n<style scoped>\n    .dataframe tbody tr th:only-of-type {\n        vertical-align: middle;\n    }\n\n    .dataframe tbody tr th {\n        vertical-align: top;\n    }\n\n    .dataframe thead th {\n        text-align: right;\n    }\n</style>\n<table border=\"1\" class=\"dataframe\">\n  <thead>\n    <tr style=\"text-align: right;\">\n      <th></th>\n      <th>id</th>\n      <th>type</th>\n      <th>ext:score</th>\n      <th>name</th>\n      <th>sort-name</th>\n      <th>label-code</th>\n      <th>area</th>\n      <th>life-span</th>\n      <th>alias-list</th>\n      <th>tag-list</th>\n      <th>country</th>\n      <th>ipi-list</th>\n      <th>disambiguation</th>\n    </tr>\n  </thead>\n  <tbody>\n    <tr>\n      <th>0</th>\n      <td>a539bb1e-f2e1-4b45-9db8-8053841e7503</td>\n      <td>Original Production</td>\n      <td>100</td>\n      <td>4AD</td>\n      <td>4AD</td>\n      <td>5807</td>\n      <td>{'id': '54181a4b-9f77-4919-b8c5-f7af03fbbe17',...</td>\n      <td>{'begin': '1979', 'ended': 'false'}</td>\n      <td>[{'sort-name': '4AD US', 'alias': '4AD US'}]</td>\n      <td>[{'count': '1', 'name': 'alternative rock'}, {...</td>\n      <td>NaN</td>\n      <td>NaN</td>\n      <td>NaN</td>\n    </tr>\n    <tr>\n      <th>1</th>\n      <td>ca432a28-17fb-48d5-a584-771c9b60ff2c</td>\n      <td>Holding</td>\n      <td>68</td>\n      <td>4AD Limited</td>\n      <td>4AD Limited</td>\n      <td>5807</td>\n      <td>{'id': '8a754a16-0027-3a29-b6d7-2b40ea0481ed',...</td>\n      <td>{'begin': '1981-12-31', 'ended': 'false'}</td>\n      <td>[{'sort-name': '4AD Ltd.', 'type': 'Search hin...</td>\n      <td>NaN</td>\n      <td>GB</td>\n      <td>NaN</td>\n      <td>NaN</td>\n    </tr>\n    <tr>\n      <th>2</th>\n      <td>def32a2f-fb29-4af4-84e8-c2d34d5abeeb</td>\n      <td>NaN</td>\n      <td>55</td>\n      <td>4AD Records Ltd.</td>\n      <td>4AD Records Ltd.</td>\n      <td>NaN</td>\n      <td>NaN</td>\n      <td>{'ended': 'false'}</td>\n      <td>NaN</td>\n      <td>NaN</td>\n      <td>NaN</td>\n      <td>NaN</td>\n      <td>NaN</td>\n    </tr>\n    <tr>\n      <th>3</th>\n      <td>3d4fac4e-21b5-4cad-9e33-80999f0bb502</td>\n      <td>Publisher</td>\n      <td>55</td>\n      <td>4AD Music Ltd.</td>\n      <td>4AD Music Ltd.</td>\n      <td>NaN</td>\n      <td>NaN</td>\n      <td>{'ended': 'false'}</td>\n      <td>NaN</td>\n      <td>NaN</td>\n      <td>NaN</td>\n      <td>[00293165943]</td>\n      <td>NaN</td>\n    </tr>\n    <tr>\n      <th>4</th>\n      <td>be10a4a8-c85d-46e2-8191-9aa3571b1ed2</td>\n      <td>Publisher</td>\n      <td>49</td>\n      <td>HOLLA4ADOLLER MUSIC</td>\n      <td>HOLLA4ADOLLER MUSIC</td>\n      <td>NaN</td>\n      <td>NaN</td>\n      <td>{'ended': 'false'}</td>\n      <td>NaN</td>\n      <td>NaN</td>\n      <td>NaN</td>\n      <td>NaN</td>\n      <td>NaN</td>\n    </tr>\n    <tr>\n      <th>5</th>\n      <td>d6025dee-9ac4-4790-ac52-b83bb032b23e</td>\n      <td>Original Production</td>\n      <td>28</td>\n      <td>Axis Records</td>\n      <td>Axis Records</td>\n      <td>NaN</td>\n      <td>{'id': '8a754a16-0027-3a29-b6d7-2b40ea0481ed',...</td>\n      <td>{'begin': '1979', 'end': '1979', 'ended': 'true'}</td>\n      <td>NaN</td>\n      <td>NaN</td>\n      <td>GB</td>\n      <td>NaN</td>\n      <td>1979 UK label, renamed to 4AD</td>\n    </tr>\n  </tbody>\n</table>\n</div>"
     },
     "execution_count": 117,
     "metadata": {},
     "output_type": "execute_result"
    }
   ],
   "source": [
    "# Indie: Arbutus, 4AD, Warp\n",
    "# Major: Universal, Sony, Warner, Columbia\n",
    "\n",
    "labels_original = mbz.search_labels(\"4AD\", limit=100)\n",
    "print(labels_original[\"label-count\"])\n",
    "labels_original_df = pd.DataFrame(labels_original[\"label-list\"])\n",
    "labels_original_df"
   ],
   "metadata": {
    "collapsed": false,
    "pycharm": {
     "name": "#%%\n"
    }
   }
  },
  {
   "cell_type": "code",
   "execution_count": 64,
   "outputs": [
    {
     "ename": "ResponseError",
     "evalue": "caused by: HTTP Error 404: Not Found",
     "output_type": "error",
     "traceback": [
      "\u001B[0;31m---------------------------------------------------------------------------\u001B[0m",
      "\u001B[0;31mHTTPError\u001B[0m                                 Traceback (most recent call last)",
      "\u001B[0;32m~/.conda/envs/dataspell-2/lib/python3.9/site-packages/musicbrainzngs/musicbrainz.py\u001B[0m in \u001B[0;36m_safe_read\u001B[0;34m(opener, req, body, max_retries, retry_delay_delta)\u001B[0m\n\u001B[1;32m    496\u001B[0m                         \u001B[0;32melse\u001B[0m\u001B[0;34m:\u001B[0m\u001B[0;34m\u001B[0m\u001B[0;34m\u001B[0m\u001B[0m\n\u001B[0;32m--> 497\u001B[0;31m                                 \u001B[0mf\u001B[0m \u001B[0;34m=\u001B[0m \u001B[0mopener\u001B[0m\u001B[0;34m.\u001B[0m\u001B[0mopen\u001B[0m\u001B[0;34m(\u001B[0m\u001B[0mreq\u001B[0m\u001B[0;34m)\u001B[0m\u001B[0;34m\u001B[0m\u001B[0;34m\u001B[0m\u001B[0m\n\u001B[0m\u001B[1;32m    498\u001B[0m                         \u001B[0;32mreturn\u001B[0m \u001B[0mf\u001B[0m\u001B[0;34m.\u001B[0m\u001B[0mread\u001B[0m\u001B[0;34m(\u001B[0m\u001B[0;34m)\u001B[0m\u001B[0;34m\u001B[0m\u001B[0;34m\u001B[0m\u001B[0m\n",
      "\u001B[0;32m~/.conda/envs/dataspell-2/lib/python3.9/urllib/request.py\u001B[0m in \u001B[0;36mopen\u001B[0;34m(self, fullurl, data, timeout)\u001B[0m\n\u001B[1;32m    522\u001B[0m             \u001B[0mmeth\u001B[0m \u001B[0;34m=\u001B[0m \u001B[0mgetattr\u001B[0m\u001B[0;34m(\u001B[0m\u001B[0mprocessor\u001B[0m\u001B[0;34m,\u001B[0m \u001B[0mmeth_name\u001B[0m\u001B[0;34m)\u001B[0m\u001B[0;34m\u001B[0m\u001B[0;34m\u001B[0m\u001B[0m\n\u001B[0;32m--> 523\u001B[0;31m             \u001B[0mresponse\u001B[0m \u001B[0;34m=\u001B[0m \u001B[0mmeth\u001B[0m\u001B[0;34m(\u001B[0m\u001B[0mreq\u001B[0m\u001B[0;34m,\u001B[0m \u001B[0mresponse\u001B[0m\u001B[0;34m)\u001B[0m\u001B[0;34m\u001B[0m\u001B[0;34m\u001B[0m\u001B[0m\n\u001B[0m\u001B[1;32m    524\u001B[0m \u001B[0;34m\u001B[0m\u001B[0m\n",
      "\u001B[0;32m~/.conda/envs/dataspell-2/lib/python3.9/urllib/request.py\u001B[0m in \u001B[0;36mhttp_response\u001B[0;34m(self, request, response)\u001B[0m\n\u001B[1;32m    631\u001B[0m         \u001B[0;32mif\u001B[0m \u001B[0;32mnot\u001B[0m \u001B[0;34m(\u001B[0m\u001B[0;36m200\u001B[0m \u001B[0;34m<=\u001B[0m \u001B[0mcode\u001B[0m \u001B[0;34m<\u001B[0m \u001B[0;36m300\u001B[0m\u001B[0;34m)\u001B[0m\u001B[0;34m:\u001B[0m\u001B[0;34m\u001B[0m\u001B[0;34m\u001B[0m\u001B[0m\n\u001B[0;32m--> 632\u001B[0;31m             response = self.parent.error(\n\u001B[0m\u001B[1;32m    633\u001B[0m                 'http', request, response, code, msg, hdrs)\n",
      "\u001B[0;32m~/.conda/envs/dataspell-2/lib/python3.9/urllib/request.py\u001B[0m in \u001B[0;36merror\u001B[0;34m(self, proto, *args)\u001B[0m\n\u001B[1;32m    560\u001B[0m             \u001B[0margs\u001B[0m \u001B[0;34m=\u001B[0m \u001B[0;34m(\u001B[0m\u001B[0mdict\u001B[0m\u001B[0;34m,\u001B[0m \u001B[0;34m'default'\u001B[0m\u001B[0;34m,\u001B[0m \u001B[0;34m'http_error_default'\u001B[0m\u001B[0;34m)\u001B[0m \u001B[0;34m+\u001B[0m \u001B[0morig_args\u001B[0m\u001B[0;34m\u001B[0m\u001B[0;34m\u001B[0m\u001B[0m\n\u001B[0;32m--> 561\u001B[0;31m             \u001B[0;32mreturn\u001B[0m \u001B[0mself\u001B[0m\u001B[0;34m.\u001B[0m\u001B[0m_call_chain\u001B[0m\u001B[0;34m(\u001B[0m\u001B[0;34m*\u001B[0m\u001B[0margs\u001B[0m\u001B[0;34m)\u001B[0m\u001B[0;34m\u001B[0m\u001B[0;34m\u001B[0m\u001B[0m\n\u001B[0m\u001B[1;32m    562\u001B[0m \u001B[0;34m\u001B[0m\u001B[0m\n",
      "\u001B[0;32m~/.conda/envs/dataspell-2/lib/python3.9/urllib/request.py\u001B[0m in \u001B[0;36m_call_chain\u001B[0;34m(self, chain, kind, meth_name, *args)\u001B[0m\n\u001B[1;32m    493\u001B[0m             \u001B[0mfunc\u001B[0m \u001B[0;34m=\u001B[0m \u001B[0mgetattr\u001B[0m\u001B[0;34m(\u001B[0m\u001B[0mhandler\u001B[0m\u001B[0;34m,\u001B[0m \u001B[0mmeth_name\u001B[0m\u001B[0;34m)\u001B[0m\u001B[0;34m\u001B[0m\u001B[0;34m\u001B[0m\u001B[0m\n\u001B[0;32m--> 494\u001B[0;31m             \u001B[0mresult\u001B[0m \u001B[0;34m=\u001B[0m \u001B[0mfunc\u001B[0m\u001B[0;34m(\u001B[0m\u001B[0;34m*\u001B[0m\u001B[0margs\u001B[0m\u001B[0;34m)\u001B[0m\u001B[0;34m\u001B[0m\u001B[0;34m\u001B[0m\u001B[0m\n\u001B[0m\u001B[1;32m    495\u001B[0m             \u001B[0;32mif\u001B[0m \u001B[0mresult\u001B[0m \u001B[0;32mis\u001B[0m \u001B[0;32mnot\u001B[0m \u001B[0;32mNone\u001B[0m\u001B[0;34m:\u001B[0m\u001B[0;34m\u001B[0m\u001B[0;34m\u001B[0m\u001B[0m\n",
      "\u001B[0;32m~/.conda/envs/dataspell-2/lib/python3.9/urllib/request.py\u001B[0m in \u001B[0;36mhttp_error_default\u001B[0;34m(self, req, fp, code, msg, hdrs)\u001B[0m\n\u001B[1;32m    640\u001B[0m     \u001B[0;32mdef\u001B[0m \u001B[0mhttp_error_default\u001B[0m\u001B[0;34m(\u001B[0m\u001B[0mself\u001B[0m\u001B[0;34m,\u001B[0m \u001B[0mreq\u001B[0m\u001B[0;34m,\u001B[0m \u001B[0mfp\u001B[0m\u001B[0;34m,\u001B[0m \u001B[0mcode\u001B[0m\u001B[0;34m,\u001B[0m \u001B[0mmsg\u001B[0m\u001B[0;34m,\u001B[0m \u001B[0mhdrs\u001B[0m\u001B[0;34m)\u001B[0m\u001B[0;34m:\u001B[0m\u001B[0;34m\u001B[0m\u001B[0;34m\u001B[0m\u001B[0m\n\u001B[0;32m--> 641\u001B[0;31m         \u001B[0;32mraise\u001B[0m \u001B[0mHTTPError\u001B[0m\u001B[0;34m(\u001B[0m\u001B[0mreq\u001B[0m\u001B[0;34m.\u001B[0m\u001B[0mfull_url\u001B[0m\u001B[0;34m,\u001B[0m \u001B[0mcode\u001B[0m\u001B[0;34m,\u001B[0m \u001B[0mmsg\u001B[0m\u001B[0;34m,\u001B[0m \u001B[0mhdrs\u001B[0m\u001B[0;34m,\u001B[0m \u001B[0mfp\u001B[0m\u001B[0;34m)\u001B[0m\u001B[0;34m\u001B[0m\u001B[0;34m\u001B[0m\u001B[0m\n\u001B[0m\u001B[1;32m    642\u001B[0m \u001B[0;34m\u001B[0m\u001B[0m\n",
      "\u001B[0;31mHTTPError\u001B[0m: HTTP Error 404: Not Found",
      "\nDuring handling of the above exception, another exception occurred:\n",
      "\u001B[0;31mResponseError\u001B[0m                             Traceback (most recent call last)",
      "\u001B[0;32m/var/folders/x2/3tdlb6px40qfq870vwx5y6080000gn/T/ipykernel_12585/3904431885.py\u001B[0m in \u001B[0;36m<module>\u001B[0;34m\u001B[0m\n\u001B[0;32m----> 1\u001B[0;31m \u001B[0mmbz\u001B[0m\u001B[0;34m.\u001B[0m\u001B[0mbrowse_urls\u001B[0m\u001B[0;34m(\u001B[0m\u001B[0;34m\"6408cbcf-42ae-4727-837d-41870863c29b\"\u001B[0m\u001B[0;34m)\u001B[0m\u001B[0;34m\u001B[0m\u001B[0;34m\u001B[0m\u001B[0m\n\u001B[0m",
      "\u001B[0;32m~/.conda/envs/dataspell-2/lib/python3.9/site-packages/musicbrainzngs/musicbrainz.py\u001B[0m in \u001B[0;36mbrowse_urls\u001B[0;34m(resource, includes, limit, offset)\u001B[0m\n\u001B[1;32m   1175\u001B[0m     *Available includes*: {includes}\"\"\"\n\u001B[1;32m   1176\u001B[0m     \u001B[0mparams\u001B[0m \u001B[0;34m=\u001B[0m \u001B[0;34m{\u001B[0m\u001B[0;34m\"resource\"\u001B[0m\u001B[0;34m:\u001B[0m \u001B[0mresource\u001B[0m\u001B[0;34m}\u001B[0m\u001B[0;34m\u001B[0m\u001B[0;34m\u001B[0m\u001B[0m\n\u001B[0;32m-> 1177\u001B[0;31m     \u001B[0;32mreturn\u001B[0m \u001B[0m_browse_impl\u001B[0m\u001B[0;34m(\u001B[0m\u001B[0;34m\"url\"\u001B[0m\u001B[0;34m,\u001B[0m \u001B[0mincludes\u001B[0m\u001B[0;34m,\u001B[0m \u001B[0mlimit\u001B[0m\u001B[0;34m,\u001B[0m \u001B[0moffset\u001B[0m\u001B[0;34m,\u001B[0m \u001B[0mparams\u001B[0m\u001B[0;34m)\u001B[0m\u001B[0;34m\u001B[0m\u001B[0;34m\u001B[0m\u001B[0m\n\u001B[0m\u001B[1;32m   1178\u001B[0m \u001B[0;34m\u001B[0m\u001B[0m\n\u001B[1;32m   1179\u001B[0m \u001B[0;34m@\u001B[0m\u001B[0m_docstring_browse\u001B[0m\u001B[0;34m(\u001B[0m\u001B[0;34m\"work\"\u001B[0m\u001B[0;34m)\u001B[0m\u001B[0;34m\u001B[0m\u001B[0;34m\u001B[0m\u001B[0m\n",
      "\u001B[0;32m~/.conda/envs/dataspell-2/lib/python3.9/site-packages/musicbrainzngs/musicbrainz.py\u001B[0m in \u001B[0;36m_browse_impl\u001B[0;34m(entity, includes, limit, offset, params, release_status, release_type)\u001B[0m\n\u001B[1;32m   1074\u001B[0m     \u001B[0mfilterp\u001B[0m \u001B[0;34m=\u001B[0m \u001B[0m_check_filter_and_make_params\u001B[0m\u001B[0;34m(\u001B[0m\u001B[0mentity\u001B[0m\u001B[0;34m,\u001B[0m \u001B[0mincludes\u001B[0m\u001B[0;34m,\u001B[0m \u001B[0mrelease_status\u001B[0m\u001B[0;34m,\u001B[0m \u001B[0mrelease_type\u001B[0m\u001B[0;34m)\u001B[0m\u001B[0;34m\u001B[0m\u001B[0;34m\u001B[0m\u001B[0m\n\u001B[1;32m   1075\u001B[0m     \u001B[0mp\u001B[0m\u001B[0;34m.\u001B[0m\u001B[0mupdate\u001B[0m\u001B[0;34m(\u001B[0m\u001B[0mfilterp\u001B[0m\u001B[0;34m)\u001B[0m\u001B[0;34m\u001B[0m\u001B[0;34m\u001B[0m\u001B[0m\n\u001B[0;32m-> 1076\u001B[0;31m     \u001B[0;32mreturn\u001B[0m \u001B[0m_do_mb_query\u001B[0m\u001B[0;34m(\u001B[0m\u001B[0mentity\u001B[0m\u001B[0;34m,\u001B[0m \u001B[0;34m\"\"\u001B[0m\u001B[0;34m,\u001B[0m \u001B[0mincludes\u001B[0m\u001B[0;34m,\u001B[0m \u001B[0mp\u001B[0m\u001B[0;34m)\u001B[0m\u001B[0;34m\u001B[0m\u001B[0;34m\u001B[0m\u001B[0m\n\u001B[0m\u001B[1;32m   1077\u001B[0m \u001B[0;34m\u001B[0m\u001B[0m\n\u001B[1;32m   1078\u001B[0m \u001B[0;31m# Browse methods\u001B[0m\u001B[0;34m\u001B[0m\u001B[0;34m\u001B[0m\u001B[0m\n",
      "\u001B[0;32m~/.conda/envs/dataspell-2/lib/python3.9/site-packages/musicbrainzngs/musicbrainz.py\u001B[0m in \u001B[0;36m_do_mb_query\u001B[0;34m(entity, id, includes, params)\u001B[0m\n\u001B[1;32m    726\u001B[0m         \u001B[0;31m# Build the endpoint components.\u001B[0m\u001B[0;34m\u001B[0m\u001B[0;34m\u001B[0m\u001B[0m\n\u001B[1;32m    727\u001B[0m         \u001B[0mpath\u001B[0m \u001B[0;34m=\u001B[0m \u001B[0;34m'%s/%s'\u001B[0m \u001B[0;34m%\u001B[0m \u001B[0;34m(\u001B[0m\u001B[0mentity\u001B[0m\u001B[0;34m,\u001B[0m \u001B[0mid\u001B[0m\u001B[0;34m)\u001B[0m\u001B[0;34m\u001B[0m\u001B[0;34m\u001B[0m\u001B[0m\n\u001B[0;32m--> 728\u001B[0;31m         \u001B[0;32mreturn\u001B[0m \u001B[0m_mb_request\u001B[0m\u001B[0;34m(\u001B[0m\u001B[0mpath\u001B[0m\u001B[0;34m,\u001B[0m \u001B[0;34m'GET'\u001B[0m\u001B[0;34m,\u001B[0m \u001B[0mauth_required\u001B[0m\u001B[0;34m,\u001B[0m \u001B[0margs\u001B[0m\u001B[0;34m=\u001B[0m\u001B[0margs\u001B[0m\u001B[0;34m)\u001B[0m\u001B[0;34m\u001B[0m\u001B[0;34m\u001B[0m\u001B[0m\n\u001B[0m\u001B[1;32m    729\u001B[0m \u001B[0;34m\u001B[0m\u001B[0m\n\u001B[1;32m    730\u001B[0m def _do_mb_search(entity, query='', fields={},\n",
      "\u001B[0;32m~/.conda/envs/dataspell-2/lib/python3.9/site-packages/musicbrainzngs/musicbrainz.py\u001B[0m in \u001B[0;36m__call__\u001B[0;34m(self, *args, **kwargs)\u001B[0m\n\u001B[1;32m    415\u001B[0m                 \u001B[0;31m# Call the original function, \"paying\" for this call.\u001B[0m\u001B[0;34m\u001B[0m\u001B[0;34m\u001B[0m\u001B[0m\n\u001B[1;32m    416\u001B[0m                 \u001B[0mself\u001B[0m\u001B[0;34m.\u001B[0m\u001B[0mremaining_requests\u001B[0m \u001B[0;34m-=\u001B[0m \u001B[0;36m1.0\u001B[0m\u001B[0;34m\u001B[0m\u001B[0;34m\u001B[0m\u001B[0m\n\u001B[0;32m--> 417\u001B[0;31m             \u001B[0;32mreturn\u001B[0m \u001B[0mself\u001B[0m\u001B[0;34m.\u001B[0m\u001B[0mfun\u001B[0m\u001B[0;34m(\u001B[0m\u001B[0;34m*\u001B[0m\u001B[0margs\u001B[0m\u001B[0;34m,\u001B[0m \u001B[0;34m**\u001B[0m\u001B[0mkwargs\u001B[0m\u001B[0;34m)\u001B[0m\u001B[0;34m\u001B[0m\u001B[0;34m\u001B[0m\u001B[0m\n\u001B[0m\u001B[1;32m    418\u001B[0m \u001B[0;34m\u001B[0m\u001B[0m\n\u001B[1;32m    419\u001B[0m \u001B[0;31m# From pymb2\u001B[0m\u001B[0;34m\u001B[0m\u001B[0;34m\u001B[0m\u001B[0m\n",
      "\u001B[0;32m~/.conda/envs/dataspell-2/lib/python3.9/site-packages/musicbrainzngs/musicbrainz.py\u001B[0m in \u001B[0;36m_mb_request\u001B[0;34m(path, method, auth_required, client_required, args, data, body)\u001B[0m\n\u001B[1;32m    688\u001B[0m         \u001B[0;31m# will be sent (avoids HTTP 411 error).\u001B[0m\u001B[0;34m\u001B[0m\u001B[0;34m\u001B[0m\u001B[0m\n\u001B[1;32m    689\u001B[0m         \u001B[0mreq\u001B[0m\u001B[0;34m.\u001B[0m\u001B[0madd_header\u001B[0m\u001B[0;34m(\u001B[0m\u001B[0;34m'Content-Length'\u001B[0m\u001B[0;34m,\u001B[0m \u001B[0;34m'0'\u001B[0m\u001B[0;34m)\u001B[0m\u001B[0;34m\u001B[0m\u001B[0;34m\u001B[0m\u001B[0m\n\u001B[0;32m--> 690\u001B[0;31m     \u001B[0mresp\u001B[0m \u001B[0;34m=\u001B[0m \u001B[0m_safe_read\u001B[0m\u001B[0;34m(\u001B[0m\u001B[0mopener\u001B[0m\u001B[0;34m,\u001B[0m \u001B[0mreq\u001B[0m\u001B[0;34m,\u001B[0m \u001B[0mbody\u001B[0m\u001B[0;34m)\u001B[0m\u001B[0;34m\u001B[0m\u001B[0;34m\u001B[0m\u001B[0m\n\u001B[0m\u001B[1;32m    691\u001B[0m \u001B[0;34m\u001B[0m\u001B[0m\n\u001B[1;32m    692\u001B[0m     \u001B[0;32mreturn\u001B[0m \u001B[0mparser_fun\u001B[0m\u001B[0;34m(\u001B[0m\u001B[0mresp\u001B[0m\u001B[0;34m)\u001B[0m\u001B[0;34m\u001B[0m\u001B[0;34m\u001B[0m\u001B[0m\n",
      "\u001B[0;32m~/.conda/envs/dataspell-2/lib/python3.9/site-packages/musicbrainzngs/musicbrainz.py\u001B[0m in \u001B[0;36m_safe_read\u001B[0;34m(opener, req, body, max_retries, retry_delay_delta)\u001B[0m\n\u001B[1;32m    501\u001B[0m                         \u001B[0;32mif\u001B[0m \u001B[0mexc\u001B[0m\u001B[0;34m.\u001B[0m\u001B[0mcode\u001B[0m \u001B[0;32min\u001B[0m \u001B[0;34m(\u001B[0m\u001B[0;36m400\u001B[0m\u001B[0;34m,\u001B[0m \u001B[0;36m404\u001B[0m\u001B[0;34m,\u001B[0m \u001B[0;36m411\u001B[0m\u001B[0;34m)\u001B[0m\u001B[0;34m:\u001B[0m\u001B[0;34m\u001B[0m\u001B[0;34m\u001B[0m\u001B[0m\n\u001B[1;32m    502\u001B[0m                                 \u001B[0;31m# Bad request, not found, etc.\u001B[0m\u001B[0;34m\u001B[0m\u001B[0;34m\u001B[0m\u001B[0m\n\u001B[0;32m--> 503\u001B[0;31m                                 \u001B[0;32mraise\u001B[0m \u001B[0mResponseError\u001B[0m\u001B[0;34m(\u001B[0m\u001B[0mcause\u001B[0m\u001B[0;34m=\u001B[0m\u001B[0mexc\u001B[0m\u001B[0;34m)\u001B[0m\u001B[0;34m\u001B[0m\u001B[0;34m\u001B[0m\u001B[0m\n\u001B[0m\u001B[1;32m    504\u001B[0m                         \u001B[0;32melif\u001B[0m \u001B[0mexc\u001B[0m\u001B[0;34m.\u001B[0m\u001B[0mcode\u001B[0m \u001B[0;32min\u001B[0m \u001B[0;34m(\u001B[0m\u001B[0;36m503\u001B[0m\u001B[0;34m,\u001B[0m \u001B[0;36m502\u001B[0m\u001B[0;34m,\u001B[0m \u001B[0;36m500\u001B[0m\u001B[0;34m)\u001B[0m\u001B[0;34m:\u001B[0m\u001B[0;34m\u001B[0m\u001B[0;34m\u001B[0m\u001B[0m\n\u001B[1;32m    505\u001B[0m                                 \u001B[0;31m# Rate limiting, internal overloading...\u001B[0m\u001B[0;34m\u001B[0m\u001B[0;34m\u001B[0m\u001B[0m\n",
      "\u001B[0;31mResponseError\u001B[0m: caused by: HTTP Error 404: Not Found"
     ]
    }
   ],
   "source": [
    "mbz.browse_urls(\"6408cbcf-42ae-4727-837d-41870863c29b\")"
   ],
   "metadata": {
    "collapsed": false,
    "pycharm": {
     "name": "#%%\n"
    }
   }
  },
  {
   "cell_type": "code",
   "execution_count": 10,
   "outputs": [
    {
     "name": "stdout",
     "output_type": "stream",
     "text": [
      "Requirement already satisfied: pandas in /Users/pez/.conda/envs/dataspell-2/lib/python3.9/site-packages (1.3.5)\r\n",
      "Requirement already satisfied: pytz>=2017.3 in /Users/pez/.conda/envs/dataspell-2/lib/python3.9/site-packages (from pandas) (2021.3)\r\n",
      "Requirement already satisfied: python-dateutil>=2.7.3 in /Users/pez/.conda/envs/dataspell-2/lib/python3.9/site-packages (from pandas) (2.8.2)\r\n",
      "Requirement already satisfied: numpy>=1.17.3 in /Users/pez/.conda/envs/dataspell-2/lib/python3.9/site-packages (from pandas) (1.22.1)\r\n",
      "Requirement already satisfied: six>=1.5 in /Users/pez/.conda/envs/dataspell-2/lib/python3.9/site-packages (from python-dateutil>=2.7.3->pandas) (1.16.0)\r\n"
     ]
    }
   ],
   "source": [
    "!pip install pandas"
   ],
   "metadata": {
    "collapsed": false,
    "pycharm": {
     "name": "#%%\n"
    }
   }
  },
  {
   "cell_type": "code",
   "execution_count": 29,
   "outputs": [],
   "source": [
    "# Schema based on: https://github.com/metabrainz/musicbrainz-server/blob/master/admin/sql/CreateTables.sql\n",
    "import pandas as pd\n",
    "\n",
    "basepath = \"/Users/pez/Downloads/mbdump/mbdump\"\n",
    "\n",
    "label = pd.read_csv(f\"{basepath}/label\", sep='\\t', na_values=\"\\\\N\", names=[\n",
    "    \"id\",\n",
    "    \"gid\",\n",
    "    \"name\",\n",
    "    \"begin_date_year\",\n",
    "    \"begin_date_month\",\n",
    "    \"begin_date_day\",\n",
    "    \"end_date_year\",\n",
    "    \"end_date_month\",\n",
    "    \"label_code\",\n",
    "    \"type\",\n",
    "    \"area\",\n",
    "    \"comment\",\n",
    "    \"edits_pending\",\n",
    "    \"last_updated\",\n",
    "    \"ended\"\n",
    "])"
   ],
   "metadata": {
    "collapsed": false,
    "pycharm": {
     "name": "#%%\n"
    }
   }
  },
  {
   "cell_type": "code",
   "execution_count": 25,
   "outputs": [
    {
     "data": {
      "text/plain": "4.0     41977\n7.0     27227\n3.0     13949\n9.0      6423\n1.0      5764\n2.0      3290\n5.0      2054\n6.0      1721\n10.0      568\n8.0       106\nName: type, dtype: int64"
     },
     "execution_count": 25,
     "metadata": {},
     "output_type": "execute_result"
    }
   ],
   "source": [
    "df[\"type\"].value_counts()"
   ],
   "metadata": {
    "collapsed": false,
    "pycharm": {
     "name": "#%%\n"
    }
   }
  },
  {
   "cell_type": "code",
   "execution_count": null,
   "outputs": [],
   "source": [
    "# defining a label: the main activity of a label\n",
    "# https://musicbrainz.org/doc/Label/Type\n",
    "#\n",
    "# imprint = can be a closed or defunct company, owned by parent company\n",
    "# original production\n",
    "# holding"
   ],
   "metadata": {
    "collapsed": false,
    "pycharm": {
     "name": "#%%\n"
    }
   }
  },
  {
   "cell_type": "code",
   "execution_count": 28,
   "outputs": [
    {
     "data": {
      "text/plain": "    0                    1    2   3   4                                     5\n0   1          Distributor  NaN   0 NaN  53ab8dcc-9946-3b62-966e-7634d78e5034\n1   2              Holding  NaN   0 NaN  43f31a62-97e4-36f6-9752-453c131b71ed\n2   3           Production  NaN   0 NaN  a2426aab-2dd4-339c-b47d-b4923a241678\n3   7            Publisher  NaN   0 NaN  e9ad53b0-e3d0-3885-a10b-8193d501338c\n4   8       Rights Society  NaN   0 NaN  78ab2758-7809-372c-9b99-74b7ab87f390\n5   9              Imprint  NaN   0 NaN  b6285b2a-3514-3d43-80df-fcf528824ded\n6   4  Original Production  3.0   0 NaN  7aaa37fe-2def-3476-b359-80245850062d\n7   5   Bootleg Production  3.0   0 NaN  fdac9b96-359b-3488-9322-ad99c2473636\n8   6   Reissue Production  3.0   0 NaN  88ee6ae7-f413-3490-a1d2-54f6a9f0838c\n9  10         Manufacturer  NaN  10 NaN  e1db00ba-f002-4edc-bc02-6f48e58e2a2e",
      "text/html": "<div>\n<style scoped>\n    .dataframe tbody tr th:only-of-type {\n        vertical-align: middle;\n    }\n\n    .dataframe tbody tr th {\n        vertical-align: top;\n    }\n\n    .dataframe thead th {\n        text-align: right;\n    }\n</style>\n<table border=\"1\" class=\"dataframe\">\n  <thead>\n    <tr style=\"text-align: right;\">\n      <th></th>\n      <th>0</th>\n      <th>1</th>\n      <th>2</th>\n      <th>3</th>\n      <th>4</th>\n      <th>5</th>\n    </tr>\n  </thead>\n  <tbody>\n    <tr>\n      <th>0</th>\n      <td>1</td>\n      <td>Distributor</td>\n      <td>NaN</td>\n      <td>0</td>\n      <td>NaN</td>\n      <td>53ab8dcc-9946-3b62-966e-7634d78e5034</td>\n    </tr>\n    <tr>\n      <th>1</th>\n      <td>2</td>\n      <td>Holding</td>\n      <td>NaN</td>\n      <td>0</td>\n      <td>NaN</td>\n      <td>43f31a62-97e4-36f6-9752-453c131b71ed</td>\n    </tr>\n    <tr>\n      <th>2</th>\n      <td>3</td>\n      <td>Production</td>\n      <td>NaN</td>\n      <td>0</td>\n      <td>NaN</td>\n      <td>a2426aab-2dd4-339c-b47d-b4923a241678</td>\n    </tr>\n    <tr>\n      <th>3</th>\n      <td>7</td>\n      <td>Publisher</td>\n      <td>NaN</td>\n      <td>0</td>\n      <td>NaN</td>\n      <td>e9ad53b0-e3d0-3885-a10b-8193d501338c</td>\n    </tr>\n    <tr>\n      <th>4</th>\n      <td>8</td>\n      <td>Rights Society</td>\n      <td>NaN</td>\n      <td>0</td>\n      <td>NaN</td>\n      <td>78ab2758-7809-372c-9b99-74b7ab87f390</td>\n    </tr>\n    <tr>\n      <th>5</th>\n      <td>9</td>\n      <td>Imprint</td>\n      <td>NaN</td>\n      <td>0</td>\n      <td>NaN</td>\n      <td>b6285b2a-3514-3d43-80df-fcf528824ded</td>\n    </tr>\n    <tr>\n      <th>6</th>\n      <td>4</td>\n      <td>Original Production</td>\n      <td>3.0</td>\n      <td>0</td>\n      <td>NaN</td>\n      <td>7aaa37fe-2def-3476-b359-80245850062d</td>\n    </tr>\n    <tr>\n      <th>7</th>\n      <td>5</td>\n      <td>Bootleg Production</td>\n      <td>3.0</td>\n      <td>0</td>\n      <td>NaN</td>\n      <td>fdac9b96-359b-3488-9322-ad99c2473636</td>\n    </tr>\n    <tr>\n      <th>8</th>\n      <td>6</td>\n      <td>Reissue Production</td>\n      <td>3.0</td>\n      <td>0</td>\n      <td>NaN</td>\n      <td>88ee6ae7-f413-3490-a1d2-54f6a9f0838c</td>\n    </tr>\n    <tr>\n      <th>9</th>\n      <td>10</td>\n      <td>Manufacturer</td>\n      <td>NaN</td>\n      <td>10</td>\n      <td>NaN</td>\n      <td>e1db00ba-f002-4edc-bc02-6f48e58e2a2e</td>\n    </tr>\n  </tbody>\n</table>\n</div>"
     },
     "execution_count": 28,
     "metadata": {},
     "output_type": "execute_result"
    }
   ],
   "source": [
    "label_type = pd.read_csv(f\"{basepath}/label_type\", sep='\\t', na_values=\"\\\\N\", header=None)\n",
    "([#],names=[\n",
    "    \"id\",\n",
    "    \"gid\",\n",
    "    \"name\",\n",
    "    \"begin_date_year\",\n",
    "    \"begin_date_month\",\n",
    "    \"begin_date_day\",\n",
    "    \"end_date_year\",\n",
    "    \"end_date_month\",\n",
    "    \"label_code\",\n",
    "    \"type\",\n",
    "    \"area\",\n",
    "    \"comment\",\n",
    "    \"edits_pending\",\n",
    "    \"last_updated\",\n",
    "    \"ended\"\n",
    "])\n",
    "label_type"
   ],
   "metadata": {
    "collapsed": false,
    "pycharm": {
     "name": "#%%\n"
    }
   }
  },
  {
   "cell_type": "code",
   "execution_count": 36,
   "outputs": [
    {
     "ename": "KeyError",
     "evalue": "\"None of [Index([(False, True, True, True, True, True, True, False, True, False, False, False, False, True, True, False, False, False, False, False, False, False, False, False, False, False, True, True, True, True, False, False, True, False, False, False, True, True, True, True, True, False, True, True, False, False, True, True, False, False, False, False, True, False, True, True, True, True, False, True, False, True, True, False, False, False, False, False, True, True, True, True, True, False, True, True, True, True, False, True, True, False, False, False, False, False, False, True, False, False, False, True, True, False, False, False, False, False, False, True, ...)], dtype='object')] are in the [columns]\"",
     "output_type": "error",
     "traceback": [
      "\u001B[0;31m---------------------------------------------------------------------------\u001B[0m",
      "\u001B[0;31mKeyError\u001B[0m                                  Traceback (most recent call last)",
      "\u001B[0;32m/var/folders/x2/3tdlb6px40qfq870vwx5y6080000gn/T/ipykernel_12585/2774637670.py\u001B[0m in \u001B[0;36m<module>\u001B[0;34m\u001B[0m\n\u001B[1;32m      6\u001B[0m \u001B[0;34m\u001B[0m\u001B[0m\n\u001B[1;32m      7\u001B[0m \u001B[0;34m\u001B[0m\u001B[0m\n\u001B[0;32m----> 8\u001B[0;31m \u001B[0mlabel\u001B[0m\u001B[0;34m[\u001B[0m\u001B[0;34m[\u001B[0m\u001B[0mlabel\u001B[0m\u001B[0;34m.\u001B[0m\u001B[0mtype\u001B[0m \u001B[0;34m==\u001B[0m \u001B[0;36m4.0\u001B[0m\u001B[0;34m]\u001B[0m\u001B[0;34m]\u001B[0m\u001B[0;34m\u001B[0m\u001B[0;34m\u001B[0m\u001B[0m\n\u001B[0m",
      "\u001B[0;32m~/.conda/envs/dataspell-2/lib/python3.9/site-packages/pandas/core/frame.py\u001B[0m in \u001B[0;36m__getitem__\u001B[0;34m(self, key)\u001B[0m\n\u001B[1;32m   3462\u001B[0m             \u001B[0;32mif\u001B[0m \u001B[0mis_iterator\u001B[0m\u001B[0;34m(\u001B[0m\u001B[0mkey\u001B[0m\u001B[0;34m)\u001B[0m\u001B[0;34m:\u001B[0m\u001B[0;34m\u001B[0m\u001B[0;34m\u001B[0m\u001B[0m\n\u001B[1;32m   3463\u001B[0m                 \u001B[0mkey\u001B[0m \u001B[0;34m=\u001B[0m \u001B[0mlist\u001B[0m\u001B[0;34m(\u001B[0m\u001B[0mkey\u001B[0m\u001B[0;34m)\u001B[0m\u001B[0;34m\u001B[0m\u001B[0;34m\u001B[0m\u001B[0m\n\u001B[0;32m-> 3464\u001B[0;31m             \u001B[0mindexer\u001B[0m \u001B[0;34m=\u001B[0m \u001B[0mself\u001B[0m\u001B[0;34m.\u001B[0m\u001B[0mloc\u001B[0m\u001B[0;34m.\u001B[0m\u001B[0m_get_listlike_indexer\u001B[0m\u001B[0;34m(\u001B[0m\u001B[0mkey\u001B[0m\u001B[0;34m,\u001B[0m \u001B[0maxis\u001B[0m\u001B[0;34m=\u001B[0m\u001B[0;36m1\u001B[0m\u001B[0;34m)\u001B[0m\u001B[0;34m[\u001B[0m\u001B[0;36m1\u001B[0m\u001B[0;34m]\u001B[0m\u001B[0;34m\u001B[0m\u001B[0;34m\u001B[0m\u001B[0m\n\u001B[0m\u001B[1;32m   3465\u001B[0m \u001B[0;34m\u001B[0m\u001B[0m\n\u001B[1;32m   3466\u001B[0m         \u001B[0;31m# take() does not accept boolean indexers\u001B[0m\u001B[0;34m\u001B[0m\u001B[0;34m\u001B[0m\u001B[0m\n",
      "\u001B[0;32m~/.conda/envs/dataspell-2/lib/python3.9/site-packages/pandas/core/indexing.py\u001B[0m in \u001B[0;36m_get_listlike_indexer\u001B[0;34m(self, key, axis)\u001B[0m\n\u001B[1;32m   1312\u001B[0m             \u001B[0mkeyarr\u001B[0m\u001B[0;34m,\u001B[0m \u001B[0mindexer\u001B[0m\u001B[0;34m,\u001B[0m \u001B[0mnew_indexer\u001B[0m \u001B[0;34m=\u001B[0m \u001B[0max\u001B[0m\u001B[0;34m.\u001B[0m\u001B[0m_reindex_non_unique\u001B[0m\u001B[0;34m(\u001B[0m\u001B[0mkeyarr\u001B[0m\u001B[0;34m)\u001B[0m\u001B[0;34m\u001B[0m\u001B[0;34m\u001B[0m\u001B[0m\n\u001B[1;32m   1313\u001B[0m \u001B[0;34m\u001B[0m\u001B[0m\n\u001B[0;32m-> 1314\u001B[0;31m         \u001B[0mself\u001B[0m\u001B[0;34m.\u001B[0m\u001B[0m_validate_read_indexer\u001B[0m\u001B[0;34m(\u001B[0m\u001B[0mkeyarr\u001B[0m\u001B[0;34m,\u001B[0m \u001B[0mindexer\u001B[0m\u001B[0;34m,\u001B[0m \u001B[0maxis\u001B[0m\u001B[0;34m)\u001B[0m\u001B[0;34m\u001B[0m\u001B[0;34m\u001B[0m\u001B[0m\n\u001B[0m\u001B[1;32m   1315\u001B[0m \u001B[0;34m\u001B[0m\u001B[0m\n\u001B[1;32m   1316\u001B[0m         if needs_i8_conversion(ax.dtype) or isinstance(\n",
      "\u001B[0;32m~/.conda/envs/dataspell-2/lib/python3.9/site-packages/pandas/core/indexing.py\u001B[0m in \u001B[0;36m_validate_read_indexer\u001B[0;34m(self, key, indexer, axis)\u001B[0m\n\u001B[1;32m   1372\u001B[0m                 \u001B[0;32mif\u001B[0m \u001B[0muse_interval_msg\u001B[0m\u001B[0;34m:\u001B[0m\u001B[0;34m\u001B[0m\u001B[0;34m\u001B[0m\u001B[0m\n\u001B[1;32m   1373\u001B[0m                     \u001B[0mkey\u001B[0m \u001B[0;34m=\u001B[0m \u001B[0mlist\u001B[0m\u001B[0;34m(\u001B[0m\u001B[0mkey\u001B[0m\u001B[0;34m)\u001B[0m\u001B[0;34m\u001B[0m\u001B[0;34m\u001B[0m\u001B[0m\n\u001B[0;32m-> 1374\u001B[0;31m                 \u001B[0;32mraise\u001B[0m \u001B[0mKeyError\u001B[0m\u001B[0;34m(\u001B[0m\u001B[0;34mf\"None of [{key}] are in the [{axis_name}]\"\u001B[0m\u001B[0;34m)\u001B[0m\u001B[0;34m\u001B[0m\u001B[0;34m\u001B[0m\u001B[0m\n\u001B[0m\u001B[1;32m   1375\u001B[0m \u001B[0;34m\u001B[0m\u001B[0m\n\u001B[1;32m   1376\u001B[0m             \u001B[0mnot_found\u001B[0m \u001B[0;34m=\u001B[0m \u001B[0mlist\u001B[0m\u001B[0;34m(\u001B[0m\u001B[0mensure_index\u001B[0m\u001B[0;34m(\u001B[0m\u001B[0mkey\u001B[0m\u001B[0;34m)\u001B[0m\u001B[0;34m[\u001B[0m\u001B[0mmissing_mask\u001B[0m\u001B[0;34m.\u001B[0m\u001B[0mnonzero\u001B[0m\u001B[0;34m(\u001B[0m\u001B[0;34m)\u001B[0m\u001B[0;34m[\u001B[0m\u001B[0;36m0\u001B[0m\u001B[0;34m]\u001B[0m\u001B[0;34m]\u001B[0m\u001B[0;34m.\u001B[0m\u001B[0munique\u001B[0m\u001B[0;34m(\u001B[0m\u001B[0;34m)\u001B[0m\u001B[0;34m)\u001B[0m\u001B[0;34m\u001B[0m\u001B[0;34m\u001B[0m\u001B[0m\n",
      "\u001B[0;31mKeyError\u001B[0m: \"None of [Index([(False, True, True, True, True, True, True, False, True, False, False, False, False, True, True, False, False, False, False, False, False, False, False, False, False, False, True, True, True, True, False, False, True, False, False, False, True, True, True, True, True, False, True, True, False, False, True, True, False, False, False, False, True, False, True, True, True, True, False, True, False, True, True, False, False, False, False, False, True, True, True, True, True, False, True, True, True, True, False, True, True, False, False, False, False, False, False, True, False, False, False, True, True, False, False, False, False, False, False, True, ...)], dtype='object')] are in the [columns]\""
     ]
    }
   ],
   "source": [
    "from enum import Enum\n",
    "\n",
    "class LabelType(Enum):\n",
    "    holding = 2\n",
    "    original = 4\n",
    "\n",
    "\n",
    "label[[label.type == 4.0]]"
   ],
   "metadata": {
    "collapsed": false,
    "pycharm": {
     "name": "#%%\n"
    }
   }
  },
  {
   "cell_type": "code",
   "execution_count": 56,
   "outputs": [
    {
     "data": {
      "text/plain": "           id    p_id    c_id  type                             _1  _2  \\\n1       26583    2740   16352     0  2011-05-16 15:03:23.368437+00   0   \n2       26584    2202    3229     0  2011-05-16 15:03:23.368437+00   0   \n5       26583    3513   18776     0  2011-05-16 15:03:23.368437+00   0   \n6       26585     266   17460     0  2011-05-16 15:03:23.368437+00   0   \n9       26583    5509   20309     0  2011-05-16 15:03:23.368437+00   0   \n...       ...     ...     ...   ...                            ...  ..   \n14029   26583     174  144682     0  2022-01-08 12:00:17.808389+00   0   \n14970   26583     174  153780     0  2022-01-08 12:00:17.808389+00   0   \n9075   165640   98288     174     0  2022-01-08 12:00:17.808389+00   0   \n13898  150834  143685     174     0  2022-01-25 15:15:50.047933+00   0   \n23266  883049  234024  234025     0   2022-01-25 20:32:46.14805+00   0   \n\n                      _3   _4  \n1                    NaN  NaN  \n2                    NaN  NaN  \n5                    NaN  NaN  \n6                    NaN  NaN  \n9                    NaN  NaN  \n...                  ...  ...  \n14029                NaN  NaN  \n14970                NaN  NaN  \n9075                 NaN  NaN  \n13898                NaN  NaN  \n23266  Warner Music Asia  NaN  \n\n[22115 rows x 8 columns]",
      "text/html": "<div>\n<style scoped>\n    .dataframe tbody tr th:only-of-type {\n        vertical-align: middle;\n    }\n\n    .dataframe tbody tr th {\n        vertical-align: top;\n    }\n\n    .dataframe thead th {\n        text-align: right;\n    }\n</style>\n<table border=\"1\" class=\"dataframe\">\n  <thead>\n    <tr style=\"text-align: right;\">\n      <th></th>\n      <th>id</th>\n      <th>p_id</th>\n      <th>c_id</th>\n      <th>type</th>\n      <th>_1</th>\n      <th>_2</th>\n      <th>_3</th>\n      <th>_4</th>\n    </tr>\n  </thead>\n  <tbody>\n    <tr>\n      <th>1</th>\n      <td>26583</td>\n      <td>2740</td>\n      <td>16352</td>\n      <td>0</td>\n      <td>2011-05-16 15:03:23.368437+00</td>\n      <td>0</td>\n      <td>NaN</td>\n      <td>NaN</td>\n    </tr>\n    <tr>\n      <th>2</th>\n      <td>26584</td>\n      <td>2202</td>\n      <td>3229</td>\n      <td>0</td>\n      <td>2011-05-16 15:03:23.368437+00</td>\n      <td>0</td>\n      <td>NaN</td>\n      <td>NaN</td>\n    </tr>\n    <tr>\n      <th>5</th>\n      <td>26583</td>\n      <td>3513</td>\n      <td>18776</td>\n      <td>0</td>\n      <td>2011-05-16 15:03:23.368437+00</td>\n      <td>0</td>\n      <td>NaN</td>\n      <td>NaN</td>\n    </tr>\n    <tr>\n      <th>6</th>\n      <td>26585</td>\n      <td>266</td>\n      <td>17460</td>\n      <td>0</td>\n      <td>2011-05-16 15:03:23.368437+00</td>\n      <td>0</td>\n      <td>NaN</td>\n      <td>NaN</td>\n    </tr>\n    <tr>\n      <th>9</th>\n      <td>26583</td>\n      <td>5509</td>\n      <td>20309</td>\n      <td>0</td>\n      <td>2011-05-16 15:03:23.368437+00</td>\n      <td>0</td>\n      <td>NaN</td>\n      <td>NaN</td>\n    </tr>\n    <tr>\n      <th>...</th>\n      <td>...</td>\n      <td>...</td>\n      <td>...</td>\n      <td>...</td>\n      <td>...</td>\n      <td>...</td>\n      <td>...</td>\n      <td>...</td>\n    </tr>\n    <tr>\n      <th>14029</th>\n      <td>26583</td>\n      <td>174</td>\n      <td>144682</td>\n      <td>0</td>\n      <td>2022-01-08 12:00:17.808389+00</td>\n      <td>0</td>\n      <td>NaN</td>\n      <td>NaN</td>\n    </tr>\n    <tr>\n      <th>14970</th>\n      <td>26583</td>\n      <td>174</td>\n      <td>153780</td>\n      <td>0</td>\n      <td>2022-01-08 12:00:17.808389+00</td>\n      <td>0</td>\n      <td>NaN</td>\n      <td>NaN</td>\n    </tr>\n    <tr>\n      <th>9075</th>\n      <td>165640</td>\n      <td>98288</td>\n      <td>174</td>\n      <td>0</td>\n      <td>2022-01-08 12:00:17.808389+00</td>\n      <td>0</td>\n      <td>NaN</td>\n      <td>NaN</td>\n    </tr>\n    <tr>\n      <th>13898</th>\n      <td>150834</td>\n      <td>143685</td>\n      <td>174</td>\n      <td>0</td>\n      <td>2022-01-25 15:15:50.047933+00</td>\n      <td>0</td>\n      <td>NaN</td>\n      <td>NaN</td>\n    </tr>\n    <tr>\n      <th>23266</th>\n      <td>883049</td>\n      <td>234024</td>\n      <td>234025</td>\n      <td>0</td>\n      <td>2022-01-25 20:32:46.14805+00</td>\n      <td>0</td>\n      <td>Warner Music Asia</td>\n      <td>NaN</td>\n    </tr>\n  </tbody>\n</table>\n<p>22115 rows × 8 columns</p>\n</div>"
     },
     "execution_count": 56,
     "metadata": {},
     "output_type": "execute_result"
    }
   ],
   "source": [
    "l_label_label = pd.read_csv(f\"{basepath}/l_label_label\", sep='\\t', na_values=\"\\\\N\", names=[\n",
    "    \"id\", \"p_id\", \"c_id\", \"type\", \"_1\", \"_2\", \"_3\", \"_4\"\n",
    "])\n",
    "l_label_label"
   ],
   "metadata": {
    "collapsed": false,
    "pycharm": {
     "name": "#%%\n"
    }
   }
  },
  {
   "cell_type": "code",
   "execution_count": null,
   "outputs": [],
   "source": [],
   "metadata": {
    "collapsed": false,
    "pycharm": {
     "name": "#%%\n"
    }
   }
  }
 ],
 "metadata": {
  "kernelspec": {
   "display_name": "Python 3",
   "language": "python",
   "name": "python3"
  },
  "language_info": {
   "codemirror_mode": {
    "name": "ipython",
    "version": 2
   },
   "file_extension": ".py",
   "mimetype": "text/x-python",
   "name": "python",
   "nbconvert_exporter": "python",
   "pygments_lexer": "ipython2",
   "version": "2.7.6"
  }
 },
 "nbformat": 4,
 "nbformat_minor": 0
}