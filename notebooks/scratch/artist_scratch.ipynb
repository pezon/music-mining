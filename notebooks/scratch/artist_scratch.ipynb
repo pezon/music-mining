{
 "cells": [
  {
   "cell_type": "code",
   "execution_count": 1,
   "metadata": {
    "collapsed": true
   },
   "outputs": [],
   "source": [
    "from util import mbz"
   ]
  },
  {
   "cell_type": "code",
   "execution_count": null,
   "outputs": [],
   "source": [
    "def get_artist_info(artist_name):\n",
    "    artists = mbz.search_artists(artist_name)\n",
    "    if artists[\"artist-count\"] > 0:\n",
    "        artist = artists[\"artist-list\"][0]\n",
    "        artist_gender = artist.get(\"gender\")\n",
    "        artist_country= artist.get(\"country\")\n",
    "        artist_tags = artist.get(\"tag-list\")\n",
    "        artist_begin_area = artist.get(\"begin-area\", {}).get(\"name\")\n",
    "        try:\n",
    "            top_genre = sorted(artist_tags, key=lambda tag: tag[\"count\"])[-1][\"name\"]\n",
    "        except:\n",
    "            return {}\n",
    "        return {\n",
    "            \"gender\": artist_gender,\n",
    "            \"country\": artist_country,\n",
    "            \"genre\": top_genre,\n",
    "            \"begin_area\": artist_begin_area,\n",
    "        }\n",
    "    return {}"
   ],
   "metadata": {
    "collapsed": false,
    "pycharm": {
     "name": "#%%\n"
    }
   }
  },
  {
   "cell_type": "code",
   "execution_count": 6,
   "outputs": [
    {
     "data": {
      "text/plain": "{'id': 'b7ffd2af-418f-4be2-bdd1-22f8b48613da',\n 'type': 'Group',\n 'ext:score': '100',\n 'name': 'Nine Inch Nails',\n 'sort-name': 'Nine Inch Nails',\n 'country': 'US',\n 'area': {'id': '489ce91b-6658-3307-9877-795b68554c98',\n  'type': 'Country',\n  'name': 'United States',\n  'sort-name': 'United States',\n  'life-span': {'ended': 'false'}},\n 'begin-area': {'id': '7b2ca1e7-e7f6-4155-881d-c660a45c11e8',\n  'type': 'City',\n  'name': 'Cleveland',\n  'sort-name': 'Cleveland',\n  'life-span': {'ended': 'false'}},\n 'isni-list': ['0000000121493471'],\n 'life-span': {'begin': '1988', 'ended': 'false'},\n 'alias-list': [{'sort-name': 'И1И31ИCHИ41L5', 'alias': 'И1И31ИCHИ41L5'},\n  {'sort-name': 'N.I.N.', 'alias': 'N.I.N.'},\n  {'sort-name': 'NineInchNails', 'alias': 'NineInchNails'},\n  {'sort-name': 'NIИ', 'alias': 'NIИ'},\n  {'sort-name': 'NIN', 'alias': 'NIN'},\n  {'sort-name': 'Nine Inch Nails Live', 'alias': 'Nine Inch Nails Live'}],\n 'tag-list': [{'count': '2', 'name': 'rock'},\n  {'count': '4', 'name': 'electronic'},\n  {'count': '0', 'name': 'synthpop'},\n  {'count': '5', 'name': 'alternative rock'},\n  {'count': '6', 'name': 'industrial'},\n  {'count': '19', 'name': 'industrial rock'},\n  {'count': '0', 'name': 'creative commons'},\n  {'count': '2', 'name': 'industrial metal'},\n  {'count': '3', 'name': 'american'},\n  {'count': '1', 'name': 'usa'},\n  {'count': '0', 'name': 'américain'},\n  {'count': '0', 'name': 'experimental rock'},\n  {'count': '2', 'name': 'electro-industrial'},\n  {'count': '0', 'name': 'bootleg'},\n  {'count': '0', 'name': 'rock and indie'},\n  {'count': '0', 'name': 'n3'},\n  {'count': '0', 'name': '2008 universal fire victim'}]}"
     },
     "execution_count": 6,
     "metadata": {},
     "output_type": "execute_result"
    }
   ],
   "source": [
    "artists = mbz.search_artists(\"Nine Inch Nails\")\n",
    "a = artists[\"artist-list\"][0]\n",
    "a[\"life-span\"][\"begin\"]\n",
    "a"
   ],
   "metadata": {
    "collapsed": false,
    "pycharm": {
     "name": "#%%\n"
    }
   }
  },
  {
   "cell_type": "code",
   "execution_count": 8,
   "outputs": [],
   "source": [
    "artist_releases = mbz.browse_release_groups(artist=\"b7ffd2af-418f-4be2-bdd1-22f8b48613da\")"
   ],
   "metadata": {
    "collapsed": false,
    "pycharm": {
     "name": "#%%\n"
    }
   }
  },
  {
   "cell_type": "code",
   "execution_count": 11,
   "outputs": [
    {
     "data": {
      "text/plain": "25"
     },
     "execution_count": 11,
     "metadata": {},
     "output_type": "execute_result"
    }
   ],
   "source": [
    "len(artist_releases[\"release-group-list\"])"
   ],
   "metadata": {
    "collapsed": false,
    "pycharm": {
     "name": "#%%\n"
    }
   }
  },
  {
   "cell_type": "code",
   "execution_count": null,
   "outputs": [],
   "source": [],
   "metadata": {
    "collapsed": false,
    "pycharm": {
     "name": "#%%\n"
    }
   }
  }
 ],
 "metadata": {
  "kernelspec": {
   "display_name": "Python 3",
   "language": "python",
   "name": "python3"
  },
  "language_info": {
   "codemirror_mode": {
    "name": "ipython",
    "version": 2
   },
   "file_extension": ".py",
   "mimetype": "text/x-python",
   "name": "python",
   "nbconvert_exporter": "python",
   "pygments_lexer": "ipython2",
   "version": "2.7.6"
  }
 },
 "nbformat": 4,
 "nbformat_minor": 0
}