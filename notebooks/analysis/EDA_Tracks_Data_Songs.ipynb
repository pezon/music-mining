{
 "cells": [
  {
   "cell_type": "markdown",
   "metadata": {},
   "source": [
    "# EDA for Spodity Dataset"
   ]
  },
  {
   "cell_type": "code",
   "execution_count": 1,
   "metadata": {},
   "outputs": [],
   "source": [
    "import numpy as np\n",
    "import pandas as pd\n",
    "from sklearn import preprocessing\n",
    "from sklearn.metrics import pairwise\n",
    "import matplotlib.pylab as plt\n",
    "import seaborn as sns\n",
    "\n",
    "df = pd.read_csv(\"G:/My Drive/Documents 1/MScA 31008/Final Project/Peter Class files/tracks_v3.csv\")"
   ]
  },
  {
   "cell_type": "markdown",
   "metadata": {},
   "source": [
    " ## Overallview of Data"
   ]
  },
  {
   "cell_type": "code",
   "execution_count": 2,
   "metadata": {},
   "outputs": [
    {
     "data": {
      "text/html": [
       "<div>\n",
       "<style scoped>\n",
       "    .dataframe tbody tr th:only-of-type {\n",
       "        vertical-align: middle;\n",
       "    }\n",
       "\n",
       "    .dataframe tbody tr th {\n",
       "        vertical-align: top;\n",
       "    }\n",
       "\n",
       "    .dataframe thead th {\n",
       "        text-align: right;\n",
       "    }\n",
       "</style>\n",
       "<table border=\"1\" class=\"dataframe\">\n",
       "  <thead>\n",
       "    <tr style=\"text-align: right;\">\n",
       "      <th></th>\n",
       "      <th>id</th>\n",
       "      <th>name</th>\n",
       "      <th>album</th>\n",
       "      <th>album_id</th>\n",
       "      <th>artists</th>\n",
       "      <th>artist_ids</th>\n",
       "      <th>track_number</th>\n",
       "      <th>disc_number</th>\n",
       "      <th>explicit</th>\n",
       "      <th>duration_ms</th>\n",
       "      <th>...</th>\n",
       "      <th>artist_chart_months</th>\n",
       "      <th>artist_chart_months_recently</th>\n",
       "      <th>artist_releases_recently</th>\n",
       "      <th>genre</th>\n",
       "      <th>label_name</th>\n",
       "      <th>major_label</th>\n",
       "      <th>label_matched</th>\n",
       "      <th>chart_status</th>\n",
       "      <th>award_status</th>\n",
       "      <th>selected_genre</th>\n",
       "    </tr>\n",
       "  </thead>\n",
       "  <tbody>\n",
       "    <tr>\n",
       "      <th>0</th>\n",
       "      <td>10iesoGb4mCYTcur1QfdO9</td>\n",
       "      <td>JCVD</td>\n",
       "      <td>Rien 100 Rien</td>\n",
       "      <td>2GLuHlc49dJKY8yzxUZb8p</td>\n",
       "      <td>Jul</td>\n",
       "      <td>[\"3IW7ScrzXmPvZhB27hmfgy\"]</td>\n",
       "      <td>2</td>\n",
       "      <td>1</td>\n",
       "      <td>True</td>\n",
       "      <td>194266</td>\n",
       "      <td>...</td>\n",
       "      <td>0</td>\n",
       "      <td>0</td>\n",
       "      <td>33</td>\n",
       "      <td>rap marseille</td>\n",
       "      <td>D’Or et de Platine</td>\n",
       "      <td>0.0</td>\n",
       "      <td>1.0</td>\n",
       "      <td>0</td>\n",
       "      <td>0</td>\n",
       "      <td>rap</td>\n",
       "    </tr>\n",
       "    <tr>\n",
       "      <th>1</th>\n",
       "      <td>0DlHQxrVijRqVUfuS6PKaY</td>\n",
       "      <td>Deixa de Onda (Porra Nenhuma)</td>\n",
       "      <td>Deixa de Onda (Porra Nenhuma)</td>\n",
       "      <td>1fjkJADMiiZWMDusZSMNix</td>\n",
       "      <td>DENNIS, Xamã, LUDMILLA</td>\n",
       "      <td>[\"6xlRSRMLgZbsSNd0BMobwy\", \"5YwzDz4RJfTiMHS4td...</td>\n",
       "      <td>1</td>\n",
       "      <td>1</td>\n",
       "      <td>True</td>\n",
       "      <td>184999</td>\n",
       "      <td>...</td>\n",
       "      <td>0</td>\n",
       "      <td>0</td>\n",
       "      <td>118</td>\n",
       "      <td>funk das antigas</td>\n",
       "      <td>Sony Music</td>\n",
       "      <td>1.0</td>\n",
       "      <td>1.0</td>\n",
       "      <td>0</td>\n",
       "      <td>0</td>\n",
       "      <td>trap</td>\n",
       "    </tr>\n",
       "    <tr>\n",
       "      <th>2</th>\n",
       "      <td>2QtM6ZVLx13TBOO1iwmXYy</td>\n",
       "      <td>Cubra Libre Bar - Café Buddha del Mar Mix</td>\n",
       "      <td>Hotel Paradise del Mar (Chill Out Lounge Café ...</td>\n",
       "      <td>3wsWiiFbTF3TpC41yStCTL</td>\n",
       "      <td>Mark Bareilles</td>\n",
       "      <td>[\"22PKRoZlEMpKexRXSLStVP\"]</td>\n",
       "      <td>12</td>\n",
       "      <td>1</td>\n",
       "      <td>False</td>\n",
       "      <td>332068</td>\n",
       "      <td>...</td>\n",
       "      <td>0</td>\n",
       "      <td>0</td>\n",
       "      <td>0</td>\n",
       "      <td>other</td>\n",
       "      <td>NaN</td>\n",
       "      <td>NaN</td>\n",
       "      <td>NaN</td>\n",
       "      <td>0</td>\n",
       "      <td>0</td>\n",
       "      <td>other</td>\n",
       "    </tr>\n",
       "    <tr>\n",
       "      <th>3</th>\n",
       "      <td>27hFQQS3cVUmIK3ser5bpu</td>\n",
       "      <td>More Than Gravity</td>\n",
       "      <td>More Than Gravity</td>\n",
       "      <td>4kcSIHj40oMyfHgMG6XAmO</td>\n",
       "      <td>Colin &amp; Caroline</td>\n",
       "      <td>[\"2Y4125mDrgQyPD7dt76Rtm\"]</td>\n",
       "      <td>1</td>\n",
       "      <td>1</td>\n",
       "      <td>False</td>\n",
       "      <td>266078</td>\n",
       "      <td>...</td>\n",
       "      <td>0</td>\n",
       "      <td>0</td>\n",
       "      <td>0</td>\n",
       "      <td>acoustic cover</td>\n",
       "      <td>NaN</td>\n",
       "      <td>NaN</td>\n",
       "      <td>NaN</td>\n",
       "      <td>0</td>\n",
       "      <td>0</td>\n",
       "      <td>pop</td>\n",
       "    </tr>\n",
       "    <tr>\n",
       "      <th>4</th>\n",
       "      <td>1YcqYmviKagJ68DOmjSWQW</td>\n",
       "      <td>Tojo Tojo</td>\n",
       "      <td>Tojo Tojo</td>\n",
       "      <td>58NV8EvCFPHWwi7HHdVqSy</td>\n",
       "      <td>Nik Tendo, Karlo</td>\n",
       "      <td>[\"28oxY7ZfDt1BJFf8FVfpEh\", \"6gvVFtkTV4OCyQSCzG...</td>\n",
       "      <td>1</td>\n",
       "      <td>1</td>\n",
       "      <td>True</td>\n",
       "      <td>197010</td>\n",
       "      <td>...</td>\n",
       "      <td>0</td>\n",
       "      <td>0</td>\n",
       "      <td>68</td>\n",
       "      <td>czsk hip hop</td>\n",
       "      <td>W.C. Records</td>\n",
       "      <td>0.0</td>\n",
       "      <td>1.0</td>\n",
       "      <td>0</td>\n",
       "      <td>0</td>\n",
       "      <td>hip hop</td>\n",
       "    </tr>\n",
       "  </tbody>\n",
       "</table>\n",
       "<p>5 rows × 70 columns</p>\n",
       "</div>"
      ],
      "text/plain": [
       "                       id                                       name  \\\n",
       "0  10iesoGb4mCYTcur1QfdO9                                       JCVD   \n",
       "1  0DlHQxrVijRqVUfuS6PKaY              Deixa de Onda (Porra Nenhuma)   \n",
       "2  2QtM6ZVLx13TBOO1iwmXYy  Cubra Libre Bar - Café Buddha del Mar Mix   \n",
       "3  27hFQQS3cVUmIK3ser5bpu                          More Than Gravity   \n",
       "4  1YcqYmviKagJ68DOmjSWQW                                  Tojo Tojo   \n",
       "\n",
       "                                               album                album_id  \\\n",
       "0                                      Rien 100 Rien  2GLuHlc49dJKY8yzxUZb8p   \n",
       "1                      Deixa de Onda (Porra Nenhuma)  1fjkJADMiiZWMDusZSMNix   \n",
       "2  Hotel Paradise del Mar (Chill Out Lounge Café ...  3wsWiiFbTF3TpC41yStCTL   \n",
       "3                                  More Than Gravity  4kcSIHj40oMyfHgMG6XAmO   \n",
       "4                                          Tojo Tojo  58NV8EvCFPHWwi7HHdVqSy   \n",
       "\n",
       "                  artists                                         artist_ids  \\\n",
       "0                     Jul                         [\"3IW7ScrzXmPvZhB27hmfgy\"]   \n",
       "1  DENNIS, Xamã, LUDMILLA  [\"6xlRSRMLgZbsSNd0BMobwy\", \"5YwzDz4RJfTiMHS4td...   \n",
       "2          Mark Bareilles                         [\"22PKRoZlEMpKexRXSLStVP\"]   \n",
       "3        Colin & Caroline                         [\"2Y4125mDrgQyPD7dt76Rtm\"]   \n",
       "4        Nik Tendo, Karlo  [\"28oxY7ZfDt1BJFf8FVfpEh\", \"6gvVFtkTV4OCyQSCzG...   \n",
       "\n",
       "   track_number  disc_number  explicit  duration_ms  ...  artist_chart_months  \\\n",
       "0             2            1      True       194266  ...                    0   \n",
       "1             1            1      True       184999  ...                    0   \n",
       "2            12            1     False       332068  ...                    0   \n",
       "3             1            1     False       266078  ...                    0   \n",
       "4             1            1      True       197010  ...                    0   \n",
       "\n",
       "  artist_chart_months_recently  artist_releases_recently             genre  \\\n",
       "0                            0                        33     rap marseille   \n",
       "1                            0                       118  funk das antigas   \n",
       "2                            0                         0             other   \n",
       "3                            0                         0    acoustic cover   \n",
       "4                            0                        68      czsk hip hop   \n",
       "\n",
       "           label_name  major_label  label_matched  chart_status  award_status  \\\n",
       "0  D’Or et de Platine          0.0            1.0             0             0   \n",
       "1          Sony Music          1.0            1.0             0             0   \n",
       "2                 NaN          NaN            NaN             0             0   \n",
       "3                 NaN          NaN            NaN             0             0   \n",
       "4        W.C. Records          0.0            1.0             0             0   \n",
       "\n",
       "   selected_genre  \n",
       "0             rap  \n",
       "1            trap  \n",
       "2           other  \n",
       "3             pop  \n",
       "4         hip hop  \n",
       "\n",
       "[5 rows x 70 columns]"
      ]
     },
     "execution_count": 2,
     "metadata": {},
     "output_type": "execute_result"
    }
   ],
   "source": [
    "df.head()"
   ]
  },
  {
   "cell_type": "code",
   "execution_count": 3,
   "metadata": {},
   "outputs": [
    {
     "data": {
      "text/html": [
       "<div>\n",
       "<style scoped>\n",
       "    .dataframe tbody tr th:only-of-type {\n",
       "        vertical-align: middle;\n",
       "    }\n",
       "\n",
       "    .dataframe tbody tr th {\n",
       "        vertical-align: top;\n",
       "    }\n",
       "\n",
       "    .dataframe thead th {\n",
       "        text-align: right;\n",
       "    }\n",
       "</style>\n",
       "<table border=\"1\" class=\"dataframe\">\n",
       "  <thead>\n",
       "    <tr style=\"text-align: right;\">\n",
       "      <th></th>\n",
       "      <th>track_number</th>\n",
       "      <th>disc_number</th>\n",
       "      <th>duration_ms</th>\n",
       "      <th>year</th>\n",
       "      <th>popularity</th>\n",
       "      <th>audio_features</th>\n",
       "      <th>danceability</th>\n",
       "      <th>energy</th>\n",
       "      <th>key</th>\n",
       "      <th>loudness</th>\n",
       "      <th>...</th>\n",
       "      <th>artist_nominations</th>\n",
       "      <th>artist_wins</th>\n",
       "      <th>artist_releases</th>\n",
       "      <th>artist_chart_months</th>\n",
       "      <th>artist_chart_months_recently</th>\n",
       "      <th>artist_releases_recently</th>\n",
       "      <th>major_label</th>\n",
       "      <th>label_matched</th>\n",
       "      <th>chart_status</th>\n",
       "      <th>award_status</th>\n",
       "    </tr>\n",
       "  </thead>\n",
       "  <tbody>\n",
       "    <tr>\n",
       "      <th>count</th>\n",
       "      <td>14967.000000</td>\n",
       "      <td>14967.000000</td>\n",
       "      <td>1.496700e+04</td>\n",
       "      <td>14967.000000</td>\n",
       "      <td>14967.000000</td>\n",
       "      <td>14967.000000</td>\n",
       "      <td>14965.000000</td>\n",
       "      <td>14965.000000</td>\n",
       "      <td>14965.000000</td>\n",
       "      <td>14965.000000</td>\n",
       "      <td>...</td>\n",
       "      <td>14967.000000</td>\n",
       "      <td>14967.000000</td>\n",
       "      <td>14967.000000</td>\n",
       "      <td>14967.000000</td>\n",
       "      <td>14967.000000</td>\n",
       "      <td>14967.000000</td>\n",
       "      <td>6363.000000</td>\n",
       "      <td>6363.0</td>\n",
       "      <td>14967.000000</td>\n",
       "      <td>14967.000000</td>\n",
       "    </tr>\n",
       "    <tr>\n",
       "      <th>mean</th>\n",
       "      <td>4.277410</td>\n",
       "      <td>1.010891</td>\n",
       "      <td>2.214180e+05</td>\n",
       "      <td>2014.754126</td>\n",
       "      <td>45.380704</td>\n",
       "      <td>0.999866</td>\n",
       "      <td>0.648840</td>\n",
       "      <td>0.652521</td>\n",
       "      <td>5.310992</td>\n",
       "      <td>-6.596083</td>\n",
       "      <td>...</td>\n",
       "      <td>0.412307</td>\n",
       "      <td>0.139841</td>\n",
       "      <td>17.268658</td>\n",
       "      <td>7.682167</td>\n",
       "      <td>3.236854</td>\n",
       "      <td>10.369279</td>\n",
       "      <td>0.689926</td>\n",
       "      <td>1.0</td>\n",
       "      <td>0.330661</td>\n",
       "      <td>0.034810</td>\n",
       "    </tr>\n",
       "    <tr>\n",
       "      <th>std</th>\n",
       "      <td>5.237422</td>\n",
       "      <td>0.139016</td>\n",
       "      <td>5.872728e+04</td>\n",
       "      <td>5.443802</td>\n",
       "      <td>28.020607</td>\n",
       "      <td>0.011559</td>\n",
       "      <td>0.152082</td>\n",
       "      <td>0.186772</td>\n",
       "      <td>3.614923</td>\n",
       "      <td>3.070745</td>\n",
       "      <td>...</td>\n",
       "      <td>1.435007</td>\n",
       "      <td>0.662482</td>\n",
       "      <td>22.966667</td>\n",
       "      <td>19.773718</td>\n",
       "      <td>8.263523</td>\n",
       "      <td>15.886941</td>\n",
       "      <td>0.462560</td>\n",
       "      <td>0.0</td>\n",
       "      <td>0.668718</td>\n",
       "      <td>0.205312</td>\n",
       "    </tr>\n",
       "    <tr>\n",
       "      <th>min</th>\n",
       "      <td>1.000000</td>\n",
       "      <td>1.000000</td>\n",
       "      <td>3.056000e+03</td>\n",
       "      <td>2000.000000</td>\n",
       "      <td>0.000000</td>\n",
       "      <td>0.000000</td>\n",
       "      <td>0.000000</td>\n",
       "      <td>0.000000</td>\n",
       "      <td>0.000000</td>\n",
       "      <td>-60.000000</td>\n",
       "      <td>...</td>\n",
       "      <td>0.000000</td>\n",
       "      <td>0.000000</td>\n",
       "      <td>0.000000</td>\n",
       "      <td>0.000000</td>\n",
       "      <td>0.000000</td>\n",
       "      <td>0.000000</td>\n",
       "      <td>0.000000</td>\n",
       "      <td>1.0</td>\n",
       "      <td>0.000000</td>\n",
       "      <td>0.000000</td>\n",
       "    </tr>\n",
       "    <tr>\n",
       "      <th>25%</th>\n",
       "      <td>1.000000</td>\n",
       "      <td>1.000000</td>\n",
       "      <td>1.888905e+05</td>\n",
       "      <td>2012.000000</td>\n",
       "      <td>23.000000</td>\n",
       "      <td>1.000000</td>\n",
       "      <td>0.552000</td>\n",
       "      <td>0.536000</td>\n",
       "      <td>2.000000</td>\n",
       "      <td>-7.810000</td>\n",
       "      <td>...</td>\n",
       "      <td>0.000000</td>\n",
       "      <td>0.000000</td>\n",
       "      <td>2.000000</td>\n",
       "      <td>0.000000</td>\n",
       "      <td>0.000000</td>\n",
       "      <td>1.000000</td>\n",
       "      <td>0.000000</td>\n",
       "      <td>1.0</td>\n",
       "      <td>0.000000</td>\n",
       "      <td>0.000000</td>\n",
       "    </tr>\n",
       "    <tr>\n",
       "      <th>50%</th>\n",
       "      <td>2.000000</td>\n",
       "      <td>1.000000</td>\n",
       "      <td>2.145060e+05</td>\n",
       "      <td>2017.000000</td>\n",
       "      <td>54.000000</td>\n",
       "      <td>1.000000</td>\n",
       "      <td>0.665000</td>\n",
       "      <td>0.675000</td>\n",
       "      <td>6.000000</td>\n",
       "      <td>-6.038000</td>\n",
       "      <td>...</td>\n",
       "      <td>0.000000</td>\n",
       "      <td>0.000000</td>\n",
       "      <td>9.000000</td>\n",
       "      <td>0.000000</td>\n",
       "      <td>0.000000</td>\n",
       "      <td>5.000000</td>\n",
       "      <td>1.000000</td>\n",
       "      <td>1.0</td>\n",
       "      <td>0.000000</td>\n",
       "      <td>0.000000</td>\n",
       "    </tr>\n",
       "    <tr>\n",
       "      <th>75%</th>\n",
       "      <td>6.000000</td>\n",
       "      <td>1.000000</td>\n",
       "      <td>2.443565e+05</td>\n",
       "      <td>2019.000000</td>\n",
       "      <td>68.000000</td>\n",
       "      <td>1.000000</td>\n",
       "      <td>0.759000</td>\n",
       "      <td>0.794000</td>\n",
       "      <td>8.000000</td>\n",
       "      <td>-4.700000</td>\n",
       "      <td>...</td>\n",
       "      <td>0.000000</td>\n",
       "      <td>0.000000</td>\n",
       "      <td>24.000000</td>\n",
       "      <td>3.000000</td>\n",
       "      <td>1.000000</td>\n",
       "      <td>13.000000</td>\n",
       "      <td>1.000000</td>\n",
       "      <td>1.0</td>\n",
       "      <td>0.000000</td>\n",
       "      <td>0.000000</td>\n",
       "    </tr>\n",
       "    <tr>\n",
       "      <th>max</th>\n",
       "      <td>106.000000</td>\n",
       "      <td>10.000000</td>\n",
       "      <td>1.465480e+06</td>\n",
       "      <td>2022.000000</td>\n",
       "      <td>96.000000</td>\n",
       "      <td>1.000000</td>\n",
       "      <td>0.983000</td>\n",
       "      <td>0.999000</td>\n",
       "      <td>11.000000</td>\n",
       "      <td>1.509000</td>\n",
       "      <td>...</td>\n",
       "      <td>26.000000</td>\n",
       "      <td>20.000000</td>\n",
       "      <td>334.000000</td>\n",
       "      <td>193.000000</td>\n",
       "      <td>87.000000</td>\n",
       "      <td>282.000000</td>\n",
       "      <td>1.000000</td>\n",
       "      <td>1.0</td>\n",
       "      <td>2.000000</td>\n",
       "      <td>2.000000</td>\n",
       "    </tr>\n",
       "  </tbody>\n",
       "</table>\n",
       "<p>8 rows × 50 columns</p>\n",
       "</div>"
      ],
      "text/plain": [
       "       track_number   disc_number   duration_ms          year    popularity  \\\n",
       "count  14967.000000  14967.000000  1.496700e+04  14967.000000  14967.000000   \n",
       "mean       4.277410      1.010891  2.214180e+05   2014.754126     45.380704   \n",
       "std        5.237422      0.139016  5.872728e+04      5.443802     28.020607   \n",
       "min        1.000000      1.000000  3.056000e+03   2000.000000      0.000000   \n",
       "25%        1.000000      1.000000  1.888905e+05   2012.000000     23.000000   \n",
       "50%        2.000000      1.000000  2.145060e+05   2017.000000     54.000000   \n",
       "75%        6.000000      1.000000  2.443565e+05   2019.000000     68.000000   \n",
       "max      106.000000     10.000000  1.465480e+06   2022.000000     96.000000   \n",
       "\n",
       "       audio_features  danceability        energy           key      loudness  \\\n",
       "count    14967.000000  14965.000000  14965.000000  14965.000000  14965.000000   \n",
       "mean         0.999866      0.648840      0.652521      5.310992     -6.596083   \n",
       "std          0.011559      0.152082      0.186772      3.614923      3.070745   \n",
       "min          0.000000      0.000000      0.000000      0.000000    -60.000000   \n",
       "25%          1.000000      0.552000      0.536000      2.000000     -7.810000   \n",
       "50%          1.000000      0.665000      0.675000      6.000000     -6.038000   \n",
       "75%          1.000000      0.759000      0.794000      8.000000     -4.700000   \n",
       "max          1.000000      0.983000      0.999000     11.000000      1.509000   \n",
       "\n",
       "       ...  artist_nominations   artist_wins  artist_releases  \\\n",
       "count  ...        14967.000000  14967.000000     14967.000000   \n",
       "mean   ...            0.412307      0.139841        17.268658   \n",
       "std    ...            1.435007      0.662482        22.966667   \n",
       "min    ...            0.000000      0.000000         0.000000   \n",
       "25%    ...            0.000000      0.000000         2.000000   \n",
       "50%    ...            0.000000      0.000000         9.000000   \n",
       "75%    ...            0.000000      0.000000        24.000000   \n",
       "max    ...           26.000000     20.000000       334.000000   \n",
       "\n",
       "       artist_chart_months  artist_chart_months_recently  \\\n",
       "count         14967.000000                  14967.000000   \n",
       "mean              7.682167                      3.236854   \n",
       "std              19.773718                      8.263523   \n",
       "min               0.000000                      0.000000   \n",
       "25%               0.000000                      0.000000   \n",
       "50%               0.000000                      0.000000   \n",
       "75%               3.000000                      1.000000   \n",
       "max             193.000000                     87.000000   \n",
       "\n",
       "       artist_releases_recently  major_label  label_matched  chart_status  \\\n",
       "count              14967.000000  6363.000000         6363.0  14967.000000   \n",
       "mean                  10.369279     0.689926            1.0      0.330661   \n",
       "std                   15.886941     0.462560            0.0      0.668718   \n",
       "min                    0.000000     0.000000            1.0      0.000000   \n",
       "25%                    1.000000     0.000000            1.0      0.000000   \n",
       "50%                    5.000000     1.000000            1.0      0.000000   \n",
       "75%                   13.000000     1.000000            1.0      0.000000   \n",
       "max                  282.000000     1.000000            1.0      2.000000   \n",
       "\n",
       "       award_status  \n",
       "count  14967.000000  \n",
       "mean       0.034810  \n",
       "std        0.205312  \n",
       "min        0.000000  \n",
       "25%        0.000000  \n",
       "50%        0.000000  \n",
       "75%        0.000000  \n",
       "max        2.000000  \n",
       "\n",
       "[8 rows x 50 columns]"
      ]
     },
     "execution_count": 3,
     "metadata": {},
     "output_type": "execute_result"
    }
   ],
   "source": [
    "df.describe()"
   ]
  },
  {
   "cell_type": "code",
   "execution_count": 4,
   "metadata": {},
   "outputs": [
    {
     "name": "stdout",
     "output_type": "stream",
     "text": [
      "id                 object\n",
      "name               object\n",
      "album              object\n",
      "album_id           object\n",
      "artists            object\n",
      "                   ...   \n",
      "major_label       float64\n",
      "label_matched     float64\n",
      "chart_status        int64\n",
      "award_status        int64\n",
      "selected_genre     object\n",
      "Length: 70, dtype: object\n"
     ]
    }
   ],
   "source": [
    "print(df.dtypes)"
   ]
  },
  {
   "cell_type": "code",
   "execution_count": 5,
   "metadata": {},
   "outputs": [
    {
     "data": {
      "text/plain": [
       "(14967, 70)"
      ]
     },
     "execution_count": 5,
     "metadata": {},
     "output_type": "execute_result"
    }
   ],
   "source": [
    "df.shape"
   ]
  },
  {
   "cell_type": "markdown",
   "metadata": {},
   "source": [
    "### Breakdown between both Songs"
   ]
  },
  {
   "cell_type": "code",
   "execution_count": 6,
   "metadata": {},
   "outputs": [
    {
     "data": {
      "text/html": [
       "<div>\n",
       "<style scoped>\n",
       "    .dataframe tbody tr th:only-of-type {\n",
       "        vertical-align: middle;\n",
       "    }\n",
       "\n",
       "    .dataframe tbody tr th {\n",
       "        vertical-align: top;\n",
       "    }\n",
       "\n",
       "    .dataframe thead th {\n",
       "        text-align: right;\n",
       "    }\n",
       "</style>\n",
       "<table border=\"1\" class=\"dataframe\">\n",
       "  <thead>\n",
       "    <tr style=\"text-align: right;\">\n",
       "      <th></th>\n",
       "      <th>danceability</th>\n",
       "      <th>energy</th>\n",
       "      <th>key</th>\n",
       "      <th>loudness</th>\n",
       "      <th>mode</th>\n",
       "      <th>speechiness</th>\n",
       "      <th>acousticness</th>\n",
       "      <th>instrumentalness</th>\n",
       "      <th>liveness</th>\n",
       "      <th>valence</th>\n",
       "      <th>tempo</th>\n",
       "      <th>time_signature</th>\n",
       "      <th>track_chart_indicativerevenue</th>\n",
       "    </tr>\n",
       "  </thead>\n",
       "  <tbody>\n",
       "    <tr>\n",
       "      <th>0</th>\n",
       "      <td>0.847</td>\n",
       "      <td>0.830</td>\n",
       "      <td>7.0</td>\n",
       "      <td>-5.873</td>\n",
       "      <td>0.0</td>\n",
       "      <td>0.0340</td>\n",
       "      <td>0.479</td>\n",
       "      <td>0.000003</td>\n",
       "      <td>0.068</td>\n",
       "      <td>0.895</td>\n",
       "      <td>130.050</td>\n",
       "      <td>4.0</td>\n",
       "      <td>0.0</td>\n",
       "    </tr>\n",
       "    <tr>\n",
       "      <th>1</th>\n",
       "      <td>0.815</td>\n",
       "      <td>0.690</td>\n",
       "      <td>9.0</td>\n",
       "      <td>-4.622</td>\n",
       "      <td>1.0</td>\n",
       "      <td>0.0469</td>\n",
       "      <td>0.290</td>\n",
       "      <td>0.000000</td>\n",
       "      <td>0.312</td>\n",
       "      <td>0.654</td>\n",
       "      <td>135.036</td>\n",
       "      <td>4.0</td>\n",
       "      <td>0.0</td>\n",
       "    </tr>\n",
       "    <tr>\n",
       "      <th>2</th>\n",
       "      <td>0.607</td>\n",
       "      <td>0.359</td>\n",
       "      <td>9.0</td>\n",
       "      <td>-13.140</td>\n",
       "      <td>0.0</td>\n",
       "      <td>0.0392</td>\n",
       "      <td>0.823</td>\n",
       "      <td>0.912000</td>\n",
       "      <td>0.111</td>\n",
       "      <td>0.450</td>\n",
       "      <td>79.988</td>\n",
       "      <td>4.0</td>\n",
       "      <td>0.0</td>\n",
       "    </tr>\n",
       "    <tr>\n",
       "      <th>3</th>\n",
       "      <td>0.620</td>\n",
       "      <td>0.468</td>\n",
       "      <td>4.0</td>\n",
       "      <td>-9.648</td>\n",
       "      <td>1.0</td>\n",
       "      <td>0.0268</td>\n",
       "      <td>0.715</td>\n",
       "      <td>0.000039</td>\n",
       "      <td>0.106</td>\n",
       "      <td>0.217</td>\n",
       "      <td>110.969</td>\n",
       "      <td>4.0</td>\n",
       "      <td>0.0</td>\n",
       "    </tr>\n",
       "    <tr>\n",
       "      <th>4</th>\n",
       "      <td>0.654</td>\n",
       "      <td>0.739</td>\n",
       "      <td>2.0</td>\n",
       "      <td>-6.595</td>\n",
       "      <td>1.0</td>\n",
       "      <td>0.4650</td>\n",
       "      <td>0.186</td>\n",
       "      <td>0.000000</td>\n",
       "      <td>0.109</td>\n",
       "      <td>0.732</td>\n",
       "      <td>147.586</td>\n",
       "      <td>4.0</td>\n",
       "      <td>0.0</td>\n",
       "    </tr>\n",
       "  </tbody>\n",
       "</table>\n",
       "</div>"
      ],
      "text/plain": [
       "   danceability  energy  key  loudness  mode  speechiness  acousticness  \\\n",
       "0         0.847   0.830  7.0    -5.873   0.0       0.0340         0.479   \n",
       "1         0.815   0.690  9.0    -4.622   1.0       0.0469         0.290   \n",
       "2         0.607   0.359  9.0   -13.140   0.0       0.0392         0.823   \n",
       "3         0.620   0.468  4.0    -9.648   1.0       0.0268         0.715   \n",
       "4         0.654   0.739  2.0    -6.595   1.0       0.4650         0.186   \n",
       "\n",
       "   instrumentalness  liveness  valence    tempo  time_signature  \\\n",
       "0          0.000003     0.068    0.895  130.050             4.0   \n",
       "1          0.000000     0.312    0.654  135.036             4.0   \n",
       "2          0.912000     0.111    0.450   79.988             4.0   \n",
       "3          0.000039     0.106    0.217  110.969             4.0   \n",
       "4          0.000000     0.109    0.732  147.586             4.0   \n",
       "\n",
       "   track_chart_indicativerevenue  \n",
       "0                            0.0  \n",
       "1                            0.0  \n",
       "2                            0.0  \n",
       "3                            0.0  \n",
       "4                            0.0  "
      ]
     },
     "execution_count": 6,
     "metadata": {},
     "output_type": "execute_result"
    }
   ],
   "source": [
    "df_Song_Description = df[[\"danceability\",\"energy\",\"key\",\"loudness\",\"mode\",\"speechiness\",\"acousticness\",\"instrumentalness\",\"liveness\",\"valence\",\"tempo\",\"time_signature\",\"track_chart_indicativerevenue\"]]\n",
    "# df_Song_Description = preprocessing.normalize(df_Song_Description)\n",
    "df_Song_Description.head()"
   ]
  },
  {
   "cell_type": "markdown",
   "metadata": {},
   "source": [
    "### Here we go into a better view of the metadata from the sub datasets"
   ]
  },
  {
   "cell_type": "code",
   "execution_count": 7,
   "metadata": {},
   "outputs": [
    {
     "data": {
      "text/html": [
       "<div>\n",
       "<style scoped>\n",
       "    .dataframe tbody tr th:only-of-type {\n",
       "        vertical-align: middle;\n",
       "    }\n",
       "\n",
       "    .dataframe tbody tr th {\n",
       "        vertical-align: top;\n",
       "    }\n",
       "\n",
       "    .dataframe thead th {\n",
       "        text-align: right;\n",
       "    }\n",
       "</style>\n",
       "<table border=\"1\" class=\"dataframe\">\n",
       "  <thead>\n",
       "    <tr style=\"text-align: right;\">\n",
       "      <th></th>\n",
       "      <th>danceability</th>\n",
       "      <th>energy</th>\n",
       "      <th>key</th>\n",
       "      <th>loudness</th>\n",
       "      <th>mode</th>\n",
       "      <th>speechiness</th>\n",
       "      <th>acousticness</th>\n",
       "      <th>instrumentalness</th>\n",
       "      <th>liveness</th>\n",
       "      <th>valence</th>\n",
       "      <th>tempo</th>\n",
       "      <th>time_signature</th>\n",
       "      <th>track_chart_indicativerevenue</th>\n",
       "    </tr>\n",
       "  </thead>\n",
       "  <tbody>\n",
       "    <tr>\n",
       "      <th>count</th>\n",
       "      <td>14965.000000</td>\n",
       "      <td>14965.000000</td>\n",
       "      <td>14965.000000</td>\n",
       "      <td>14965.000000</td>\n",
       "      <td>14965.000000</td>\n",
       "      <td>14965.000000</td>\n",
       "      <td>14965.000000</td>\n",
       "      <td>14965.000000</td>\n",
       "      <td>14965.000000</td>\n",
       "      <td>14965.000000</td>\n",
       "      <td>14965.000000</td>\n",
       "      <td>14965.000000</td>\n",
       "      <td>14967.000000</td>\n",
       "    </tr>\n",
       "    <tr>\n",
       "      <th>mean</th>\n",
       "      <td>0.648840</td>\n",
       "      <td>0.652521</td>\n",
       "      <td>5.310992</td>\n",
       "      <td>-6.596083</td>\n",
       "      <td>0.595857</td>\n",
       "      <td>0.106494</td>\n",
       "      <td>0.241840</td>\n",
       "      <td>0.039014</td>\n",
       "      <td>0.179689</td>\n",
       "      <td>0.505407</td>\n",
       "      <td>121.619092</td>\n",
       "      <td>3.958904</td>\n",
       "      <td>1122.223930</td>\n",
       "    </tr>\n",
       "    <tr>\n",
       "      <th>std</th>\n",
       "      <td>0.152082</td>\n",
       "      <td>0.186772</td>\n",
       "      <td>3.614923</td>\n",
       "      <td>3.070745</td>\n",
       "      <td>0.490742</td>\n",
       "      <td>0.104965</td>\n",
       "      <td>0.260172</td>\n",
       "      <td>0.159843</td>\n",
       "      <td>0.142303</td>\n",
       "      <td>0.230656</td>\n",
       "      <td>29.228437</td>\n",
       "      <td>0.296749</td>\n",
       "      <td>3146.513452</td>\n",
       "    </tr>\n",
       "    <tr>\n",
       "      <th>min</th>\n",
       "      <td>0.000000</td>\n",
       "      <td>0.000000</td>\n",
       "      <td>0.000000</td>\n",
       "      <td>-60.000000</td>\n",
       "      <td>0.000000</td>\n",
       "      <td>0.000000</td>\n",
       "      <td>0.000000</td>\n",
       "      <td>0.000000</td>\n",
       "      <td>0.000000</td>\n",
       "      <td>0.000000</td>\n",
       "      <td>0.000000</td>\n",
       "      <td>0.000000</td>\n",
       "      <td>0.000000</td>\n",
       "    </tr>\n",
       "    <tr>\n",
       "      <th>25%</th>\n",
       "      <td>0.552000</td>\n",
       "      <td>0.536000</td>\n",
       "      <td>2.000000</td>\n",
       "      <td>-7.810000</td>\n",
       "      <td>0.000000</td>\n",
       "      <td>0.038300</td>\n",
       "      <td>0.033900</td>\n",
       "      <td>0.000000</td>\n",
       "      <td>0.094400</td>\n",
       "      <td>0.326000</td>\n",
       "      <td>98.003000</td>\n",
       "      <td>4.000000</td>\n",
       "      <td>0.000000</td>\n",
       "    </tr>\n",
       "    <tr>\n",
       "      <th>50%</th>\n",
       "      <td>0.665000</td>\n",
       "      <td>0.675000</td>\n",
       "      <td>6.000000</td>\n",
       "      <td>-6.038000</td>\n",
       "      <td>1.000000</td>\n",
       "      <td>0.059400</td>\n",
       "      <td>0.141000</td>\n",
       "      <td>0.000000</td>\n",
       "      <td>0.123000</td>\n",
       "      <td>0.506000</td>\n",
       "      <td>120.048000</td>\n",
       "      <td>4.000000</td>\n",
       "      <td>0.000000</td>\n",
       "    </tr>\n",
       "    <tr>\n",
       "      <th>75%</th>\n",
       "      <td>0.759000</td>\n",
       "      <td>0.794000</td>\n",
       "      <td>8.000000</td>\n",
       "      <td>-4.700000</td>\n",
       "      <td>1.000000</td>\n",
       "      <td>0.133000</td>\n",
       "      <td>0.374000</td>\n",
       "      <td>0.000125</td>\n",
       "      <td>0.221000</td>\n",
       "      <td>0.684000</td>\n",
       "      <td>140.006000</td>\n",
       "      <td>4.000000</td>\n",
       "      <td>0.000000</td>\n",
       "    </tr>\n",
       "    <tr>\n",
       "      <th>max</th>\n",
       "      <td>0.983000</td>\n",
       "      <td>0.999000</td>\n",
       "      <td>11.000000</td>\n",
       "      <td>1.509000</td>\n",
       "      <td>1.000000</td>\n",
       "      <td>0.954000</td>\n",
       "      <td>0.996000</td>\n",
       "      <td>0.993000</td>\n",
       "      <td>0.986000</td>\n",
       "      <td>0.982000</td>\n",
       "      <td>230.186000</td>\n",
       "      <td>5.000000</td>\n",
       "      <td>54179.658000</td>\n",
       "    </tr>\n",
       "  </tbody>\n",
       "</table>\n",
       "</div>"
      ],
      "text/plain": [
       "       danceability        energy           key      loudness          mode  \\\n",
       "count  14965.000000  14965.000000  14965.000000  14965.000000  14965.000000   \n",
       "mean       0.648840      0.652521      5.310992     -6.596083      0.595857   \n",
       "std        0.152082      0.186772      3.614923      3.070745      0.490742   \n",
       "min        0.000000      0.000000      0.000000    -60.000000      0.000000   \n",
       "25%        0.552000      0.536000      2.000000     -7.810000      0.000000   \n",
       "50%        0.665000      0.675000      6.000000     -6.038000      1.000000   \n",
       "75%        0.759000      0.794000      8.000000     -4.700000      1.000000   \n",
       "max        0.983000      0.999000     11.000000      1.509000      1.000000   \n",
       "\n",
       "        speechiness  acousticness  instrumentalness      liveness  \\\n",
       "count  14965.000000  14965.000000      14965.000000  14965.000000   \n",
       "mean       0.106494      0.241840          0.039014      0.179689   \n",
       "std        0.104965      0.260172          0.159843      0.142303   \n",
       "min        0.000000      0.000000          0.000000      0.000000   \n",
       "25%        0.038300      0.033900          0.000000      0.094400   \n",
       "50%        0.059400      0.141000          0.000000      0.123000   \n",
       "75%        0.133000      0.374000          0.000125      0.221000   \n",
       "max        0.954000      0.996000          0.993000      0.986000   \n",
       "\n",
       "            valence         tempo  time_signature  \\\n",
       "count  14965.000000  14965.000000    14965.000000   \n",
       "mean       0.505407    121.619092        3.958904   \n",
       "std        0.230656     29.228437        0.296749   \n",
       "min        0.000000      0.000000        0.000000   \n",
       "25%        0.326000     98.003000        4.000000   \n",
       "50%        0.506000    120.048000        4.000000   \n",
       "75%        0.684000    140.006000        4.000000   \n",
       "max        0.982000    230.186000        5.000000   \n",
       "\n",
       "       track_chart_indicativerevenue  \n",
       "count                   14967.000000  \n",
       "mean                     1122.223930  \n",
       "std                      3146.513452  \n",
       "min                         0.000000  \n",
       "25%                         0.000000  \n",
       "50%                         0.000000  \n",
       "75%                         0.000000  \n",
       "max                     54179.658000  "
      ]
     },
     "execution_count": 7,
     "metadata": {},
     "output_type": "execute_result"
    }
   ],
   "source": [
    "df_Song_Description.describe()"
   ]
  },
  {
   "cell_type": "code",
   "execution_count": 8,
   "metadata": {},
   "outputs": [
    {
     "data": {
      "text/plain": [
       "danceability                     float64\n",
       "energy                           float64\n",
       "key                              float64\n",
       "loudness                         float64\n",
       "mode                             float64\n",
       "speechiness                      float64\n",
       "acousticness                     float64\n",
       "instrumentalness                 float64\n",
       "liveness                         float64\n",
       "valence                          float64\n",
       "tempo                            float64\n",
       "time_signature                   float64\n",
       "track_chart_indicativerevenue    float64\n",
       "dtype: object"
      ]
     },
     "execution_count": 8,
     "metadata": {},
     "output_type": "execute_result"
    }
   ],
   "source": [
    "df_Song_Description.dtypes"
   ]
  },
  {
   "cell_type": "code",
   "execution_count": 9,
   "metadata": {},
   "outputs": [
    {
     "data": {
      "text/plain": [
       "(14967, 13)"
      ]
     },
     "execution_count": 9,
     "metadata": {},
     "output_type": "execute_result"
    }
   ],
   "source": [
    "df_Song_Description.shape"
   ]
  },
  {
   "cell_type": "markdown",
   "metadata": {},
   "source": [
    "### Graphs explaining the relationship with the data subsets and missing values/ outliers"
   ]
  },
  {
   "cell_type": "code",
   "execution_count": 10,
   "metadata": {},
   "outputs": [],
   "source": [
    "corr_matrix_Songs=df_Song_Description.corr()\n"
   ]
  },
  {
   "cell_type": "code",
   "execution_count": 11,
   "metadata": {},
   "outputs": [
    {
     "data": {
      "text/plain": [
       "<AxesSubplot:>"
      ]
     },
     "execution_count": 11,
     "metadata": {},
     "output_type": "execute_result"
    },
    {
     "data": {
      "image/png": "[encoded data removed]",
      "text/plain": [
       "<Figure size 432x288 with 2 Axes>"
      ]
     },
     "metadata": {
      "needs_background": "light"
     },
     "output_type": "display_data"
    }
   ],
   "source": [
    "sns.heatmap(corr_matrix_Songs, cmap='PuOr')"
   ]
  },
  {
   "cell_type": "code",
   "execution_count": 12,
   "metadata": {},
   "outputs": [],
   "source": [
    "# High correlation between 3 attributes, loudness & enegergy, acusticness & Energy, acousticness and & loudness"
   ]
  },
  {
   "cell_type": "code",
   "execution_count": 13,
   "metadata": {},
   "outputs": [
    {
     "data": {
      "text/plain": [
       "<AxesSubplot:xlabel='loudness', ylabel='energy'>"
      ]
     },
     "execution_count": 13,
     "metadata": {},
     "output_type": "execute_result"
    },
    {
     "data": {
      "image/png": "[encoded data removed]",
      "text/plain": [
       "<Figure size 432x288 with 1 Axes>"
      ]
     },
     "metadata": {
      "needs_background": "light"
     },
     "output_type": "display_data"
    }
   ],
   "source": [
    "df.plot.scatter(x='loudness', y='energy', marker='o')"
   ]
  },
  {
   "cell_type": "code",
   "execution_count": 14,
   "metadata": {},
   "outputs": [
    {
     "data": {
      "text/plain": [
       "<AxesSubplot:xlabel='acousticness', ylabel='energy'>"
      ]
     },
     "execution_count": 14,
     "metadata": {},
     "output_type": "execute_result"
    },
    {
     "data": {
      "image/png": "[encoded data removed]",
      "text/plain": [
       "<Figure size 432x288 with 1 Axes>"
      ]
     },
     "metadata": {
      "needs_background": "light"
     },
     "output_type": "display_data"
    }
   ],
   "source": [
    "df.plot.scatter(x='acousticness', y='energy', marker='o')"
   ]
  },
  {
   "cell_type": "code",
   "execution_count": 15,
   "metadata": {},
   "outputs": [
    {
     "data": {
      "text/plain": [
       "<AxesSubplot:xlabel='loudness', ylabel='acousticness'>"
      ]
     },
     "execution_count": 15,
     "metadata": {},
     "output_type": "execute_result"
    },
    {
     "data": {
      "image/png": "[encoded data removed]",
      "text/plain": [
       "<Figure size 432x288 with 1 Axes>"
      ]
     },
     "metadata": {
      "needs_background": "light"
     },
     "output_type": "display_data"
    }
   ],
   "source": [
    "df.plot.scatter(x='loudness', y='acousticness', marker='o')"
   ]
  },
  {
   "cell_type": "code",
   "execution_count": 16,
   "metadata": {},
   "outputs": [
    {
     "data": {
      "text/plain": [
       "<AxesSubplot:xlabel='track_chart_indicativerevenue', ylabel='Count'>"
      ]
     },
     "execution_count": 16,
     "metadata": {},
     "output_type": "execute_result"
    },
    {
     "data": {
      "image/png": "[encoded data removed]",
      "text/plain": [
       "<Figure size 432x288 with 1 Axes>"
      ]
     },
     "metadata": {
      "needs_background": "light"
     },
     "output_type": "display_data"
    }
   ],
   "source": [
    "sns.histplot(data= df, x= df[\"track_chart_indicativerevenue\"], bins = 20)"
   ]
  },
  {
   "cell_type": "code",
   "execution_count": 17,
   "metadata": {},
   "outputs": [],
   "source": [
    "# Understanding better the distribution of # from features in graphs"
   ]
  },
  {
   "cell_type": "code",
   "execution_count": 18,
   "metadata": {},
   "outputs": [
    {
     "data": {
      "image/png": "[encoded data removed]",
      "text/plain": [
       "<Figure size 432x288 with 1 Axes>"
      ]
     },
     "metadata": {
      "needs_background": "light"
     },
     "output_type": "display_data"
    }
   ],
   "source": [
    "boxplot = df_Song_Description.boxplot(column=[\"loudness\"])"
   ]
  },
  {
   "cell_type": "code",
   "execution_count": 19,
   "metadata": {},
   "outputs": [
    {
     "data": {
      "image/png": "[encoded data removed]",
      "text/plain": [
       "<Figure size 432x288 with 1 Axes>"
      ]
     },
     "metadata": {
      "needs_background": "light"
     },
     "output_type": "display_data"
    }
   ],
   "source": [
    "boxplot = df_Song_Description.boxplot(column=[\"mode\",\"speechiness\",\"acousticness\",\"instrumentalness\",\"liveness\",\"valence\"])"
   ]
  },
  {
   "cell_type": "code",
   "execution_count": 20,
   "metadata": {},
   "outputs": [
    {
     "data": {
      "image/png": "[encoded data removed]",
      "text/plain": [
       "<Figure size 432x288 with 1 Axes>"
      ]
     },
     "metadata": {
      "needs_background": "light"
     },
     "output_type": "display_data"
    }
   ],
   "source": [
    "boxplot = df_Song_Description.boxplot(column=[\"tempo\"])"
   ]
  },
  {
   "cell_type": "code",
   "execution_count": 21,
   "metadata": {},
   "outputs": [
    {
     "data": {
      "image/png": "[encoded data removed]",
      "text/plain": [
       "<Figure size 432x288 with 1 Axes>"
      ]
     },
     "metadata": {
      "needs_background": "light"
     },
     "output_type": "display_data"
    }
   ],
   "source": [
    "boxplot = df_Song_Description.boxplot(column=[\"time_signature\"])"
   ]
  },
  {
   "cell_type": "code",
   "execution_count": null,
   "metadata": {},
   "outputs": [],
   "source": []
  }
 ],
 "metadata": {
  "kernelspec": {
   "display_name": "Python 3",
   "language": "python",
   "name": "python3"
  },
  "language_info": {
   "codemirror_mode": {
    "name": "ipython",
    "version": 3
   },
   "file_extension": ".py",
   "mimetype": "text/x-python",
   "name": "python",
   "nbconvert_exporter": "python",
   "pygments_lexer": "ipython3",
   "version": "3.8.5"
  }
 },
 "nbformat": 4,
 "nbformat_minor": 4
}
