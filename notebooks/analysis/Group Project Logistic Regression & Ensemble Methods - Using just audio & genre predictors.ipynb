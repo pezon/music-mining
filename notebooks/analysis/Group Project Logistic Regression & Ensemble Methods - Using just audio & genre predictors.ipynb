{
 "cells": [
  {
   "cell_type": "code",
   "execution_count": 30,
   "metadata": {},
   "outputs": [],
   "source": [
    "import pandas as pd\n",
    "import numpy as np\n",
    "from sklearn.linear_model import LogisticRegression\n",
    "from sklearn.model_selection import train_test_split\n",
    "from dmba import classificationSummary\n",
    "from sklearn import preprocessing"
   ]
  },
  {
   "cell_type": "code",
   "execution_count": 2,
   "metadata": {},
   "outputs": [],
   "source": [
    "tracks = pd.read_csv('tracks.csv')"
   ]
  },
  {
   "cell_type": "code",
   "execution_count": 3,
   "metadata": {},
   "outputs": [],
   "source": [
    "#create a target variable \"charted\"\n",
    "\n",
    "mask = tracks['chart_status'] > 0\n",
    "tracks['charted'] = np.where(mask, 1, 0)"
   ]
  },
  {
   "cell_type": "code",
   "execution_count": 4,
   "metadata": {},
   "outputs": [],
   "source": [
    "# define predictors and target\n",
    "\n",
    "predictors = ['danceability', 'energy', 'key', 'loudness' , 'mode' , 'speechiness', 'acousticness', \n",
    "              'instrumentalness', 'liveness', 'valence','tempo']\n"
   ]
  },
  {
   "cell_type": "code",
   "execution_count": 5,
   "metadata": {},
   "outputs": [],
   "source": [
    "#Fill NA values with zero\n",
    "\n",
    "tracks.fillna(0, inplace = True)"
   ]
  },
  {
   "cell_type": "code",
   "execution_count": 6,
   "metadata": {},
   "outputs": [],
   "source": [
    "#define x and y\n",
    "\n",
    "X = tracks[predictors]\n",
    "y = tracks['charted']"
   ]
  },
  {
   "cell_type": "code",
   "execution_count": 7,
   "metadata": {},
   "outputs": [
    {
     "data": {
      "text/plain": [
       "LogisticRegression(C=1e+42, solver='liblinear')"
      ]
     },
     "execution_count": 7,
     "metadata": {},
     "output_type": "execute_result"
    }
   ],
   "source": [
    "#fit logistic regression model\n",
    "\n",
    "train_X, valid_X, train_y, valid_y = train_test_split(X, y, test_size=0.2, random_state=23)\n",
    "\n",
    "logit_reg = LogisticRegression(penalty=\"l2\", C=1e42, solver='liblinear')\n",
    "logit_reg.fit(train_X, train_y)"
   ]
  },
  {
   "cell_type": "code",
   "execution_count": 8,
   "metadata": {},
   "outputs": [
    {
     "name": "stdout",
     "output_type": "stream",
     "text": [
      "Confusion Matrix (Accuracy 0.7253)\n",
      "\n",
      "       Prediction\n",
      "Actual    0    1\n",
      "     0 6072  192\n",
      "     1 2223  303\n"
     ]
    }
   ],
   "source": [
    "classificationSummary(train_y, logit_reg.predict(train_X))"
   ]
  },
  {
   "cell_type": "code",
   "execution_count": 9,
   "metadata": {
    "scrolled": true
   },
   "outputs": [
    {
     "name": "stdout",
     "output_type": "stream",
     "text": [
      "Confusion Matrix (Accuracy 0.7111)\n",
      "\n",
      "       Prediction\n",
      "Actual    0    1\n",
      "     0 1490   39\n",
      "     1  596   73\n"
     ]
    }
   ],
   "source": [
    "classificationSummary(valid_y, logit_reg.predict(valid_X))"
   ]
  },
  {
   "cell_type": "code",
   "execution_count": 10,
   "metadata": {},
   "outputs": [
    {
     "name": "stdout",
     "output_type": "stream",
     "text": [
      "['pop', 'other', 'hip', 'hop', 'country', 'rock', 'rap', 'canadian', 'r&b', 'post-teen', 'contemporary', 'road', 'dance', 'modern', 'metal', 'uk', 'dawn', 'east', 'coast', 'german', 'boy', 'band', 'house', 'soul', 'art', 'neo', 'new', 'chicago', 'crunk', 'funk', 'nu', 'atl', 'wave', 'australian', 'permanent', 'alternative', 'indie', 'group', 'urban', 'barbadian', 'miami', 'mellow', 'girl', 'orleans', 'detroit', '8-bit', 'trap', 'old', 'school', 'south']\n"
     ]
    }
   ],
   "source": [
    "#create top word list from genre column\n",
    "\n",
    "tracks_charted = tracks.loc[tracks['chart_status'] >= 1].copy()\n",
    "\n",
    "from collections import Counter\n",
    "top_genres = Counter(\" \".join(tracks_charted['genre']).split()).most_common(50)\n",
    "top_word, top_count = zip(*top_genres)\n",
    "\n",
    "top_word = list(top_word)\n",
    "print(top_word)\n",
    "\n",
    "for word in top_word:\n",
    "    mask = tracks[\"genre\"].str.contains(word)\n",
    "    tracks[word] = np.where(mask, 1, 0)\n",
    "\n"
   ]
  },
  {
   "cell_type": "code",
   "execution_count": 11,
   "metadata": {},
   "outputs": [],
   "source": [
    "#add dummy genre variables to predictors\n",
    "\n",
    "X = tracks[predictors + top_word]\n",
    "y = tracks['charted']"
   ]
  },
  {
   "cell_type": "code",
   "execution_count": 12,
   "metadata": {},
   "outputs": [
    {
     "data": {
      "text/plain": [
       "LogisticRegression(C=1e+42, solver='liblinear')"
      ]
     },
     "execution_count": 12,
     "metadata": {},
     "output_type": "execute_result"
    }
   ],
   "source": [
    "#fit second logistic regression\n",
    "\n",
    "train_X, valid_X, train_y, valid_y = train_test_split(X, y, test_size=0.2, random_state=23)\n",
    "\n",
    "logit_reg = LogisticRegression(penalty=\"l2\", C=1e42, solver='liblinear')\n",
    "logit_reg.fit(train_X, train_y)"
   ]
  },
  {
   "cell_type": "code",
   "execution_count": 13,
   "metadata": {
    "scrolled": true
   },
   "outputs": [
    {
     "name": "stdout",
     "output_type": "stream",
     "text": [
      "Confusion Matrix (Accuracy 0.8011)\n",
      "\n",
      "       Prediction\n",
      "Actual    0    1\n",
      "     0 5768  496\n",
      "     1 1252 1274\n",
      "Confusion Matrix (Accuracy 0.7816)\n",
      "\n",
      "       Prediction\n",
      "Actual    0    1\n",
      "     0 1402  127\n",
      "     1  353  316\n"
     ]
    }
   ],
   "source": [
    "classificationSummary(train_y, logit_reg.predict(train_X))\n",
    "\n",
    "classificationSummary(valid_y, logit_reg.predict(valid_X))"
   ]
  },
  {
   "cell_type": "markdown",
   "metadata": {},
   "source": [
    "# Trying ensemble methods"
   ]
  },
  {
   "cell_type": "markdown",
   "metadata": {},
   "source": [
    "## Voting set to 'hard'"
   ]
  },
  {
   "cell_type": "code",
   "execution_count": 14,
   "metadata": {},
   "outputs": [],
   "source": [
    "from sklearn.ensemble import RandomForestClassifier \n",
    "from sklearn.ensemble import VotingClassifier\n",
    "from sklearn.svm import SVC"
   ]
  },
  {
   "cell_type": "code",
   "execution_count": 15,
   "metadata": {},
   "outputs": [],
   "source": [
    "log_clf = LogisticRegression(solver=\"liblinear\", random_state=23)\n",
    "rnd_clf = RandomForestClassifier(n_estimators=10, random_state=23)\n",
    "svm_clf = SVC(gamma=\"auto\", random_state=23)\n",
    "\n",
    "voting_clf = VotingClassifier(\n",
    "    estimators=[('lr', log_clf), ('rf', rnd_clf), ('svc', svm_clf)],\n",
    "    voting='hard')"
   ]
  },
  {
   "cell_type": "code",
   "execution_count": 16,
   "metadata": {},
   "outputs": [
    {
     "data": {
      "text/plain": [
       "VotingClassifier(estimators=[('lr',\n",
       "                              LogisticRegression(random_state=23,\n",
       "                                                 solver='liblinear')),\n",
       "                             ('rf',\n",
       "                              RandomForestClassifier(n_estimators=10,\n",
       "                                                     random_state=23)),\n",
       "                             ('svc', SVC(gamma='auto', random_state=23))])"
      ]
     },
     "execution_count": 16,
     "metadata": {},
     "output_type": "execute_result"
    }
   ],
   "source": [
    "voting_clf.fit(train_X, train_y)"
   ]
  },
  {
   "cell_type": "code",
   "execution_count": 17,
   "metadata": {},
   "outputs": [
    {
     "name": "stdout",
     "output_type": "stream",
     "text": [
      "LogisticRegression 0.7834394904458599\n",
      "RandomForestClassifier 0.7711555959963603\n",
      "SVC 0.7029117379435851\n",
      "VotingClassifier 0.7720655141037307\n"
     ]
    }
   ],
   "source": [
    "from sklearn.metrics import accuracy_score\n",
    "\n",
    "for clf in (log_clf, rnd_clf, svm_clf, voting_clf):\n",
    "    clf.fit(train_X, train_y)\n",
    "    pred_y = clf.predict(valid_X)\n",
    "    print(clf.__class__.__name__, accuracy_score(valid_y, pred_y))"
   ]
  },
  {
   "cell_type": "markdown",
   "metadata": {},
   "source": [
    "## Voting set to 'soft'"
   ]
  },
  {
   "cell_type": "code",
   "execution_count": 18,
   "metadata": {},
   "outputs": [
    {
     "data": {
      "text/plain": [
       "VotingClassifier(estimators=[('lr',\n",
       "                              LogisticRegression(random_state=23,\n",
       "                                                 solver='liblinear')),\n",
       "                             ('rf',\n",
       "                              RandomForestClassifier(n_estimators=10,\n",
       "                                                     random_state=23)),\n",
       "                             ('svc',\n",
       "                              SVC(gamma='auto', probability=True,\n",
       "                                  random_state=23))],\n",
       "                 voting='soft')"
      ]
     },
     "execution_count": 18,
     "metadata": {},
     "output_type": "execute_result"
    }
   ],
   "source": [
    "log_clf = LogisticRegression(solver=\"liblinear\", random_state=23)\n",
    "rnd_clf = RandomForestClassifier(n_estimators=10, random_state=23)\n",
    "svm_clf = SVC(gamma=\"auto\", probability=True, random_state=23)\n",
    "\n",
    "voting_clf = VotingClassifier(\n",
    "    estimators=[('lr', log_clf), ('rf', rnd_clf), ('svc', svm_clf)],\n",
    "    voting='soft')\n",
    "\n",
    "voting_clf.fit(train_X, train_y)"
   ]
  },
  {
   "cell_type": "code",
   "execution_count": 19,
   "metadata": {},
   "outputs": [
    {
     "name": "stdout",
     "output_type": "stream",
     "text": [
      "LogisticRegression 0.7834394904458599\n",
      "RandomForestClassifier 0.7711555959963603\n",
      "SVC 0.7029117379435851\n",
      "VotingClassifier 0.7793448589626933\n"
     ]
    }
   ],
   "source": [
    "for clf in (log_clf, rnd_clf, svm_clf, voting_clf):\n",
    "    clf.fit(train_X, train_y)\n",
    "    pred_y = clf.predict(valid_X)\n",
    "    print(clf.__class__.__name__, accuracy_score(valid_y, pred_y))"
   ]
  },
  {
   "cell_type": "code",
   "execution_count": 20,
   "metadata": {},
   "outputs": [
    {
     "name": "stdout",
     "output_type": "stream",
     "text": [
      "Confusion Matrix (Accuracy 0.8681)\n",
      "\n",
      "       Prediction\n",
      "Actual    0    1\n",
      "     0 6149  115\n",
      "     1 1044 1482\n",
      "Confusion Matrix (Accuracy 0.7793)\n",
      "\n",
      "       Prediction\n",
      "Actual    0    1\n",
      "     0 1455   74\n",
      "     1  411  258\n"
     ]
    }
   ],
   "source": [
    "classificationSummary(train_y, voting_clf.predict(train_X))\n",
    "\n",
    "classificationSummary(valid_y, voting_clf.predict(valid_X))"
   ]
  },
  {
   "cell_type": "markdown",
   "metadata": {},
   "source": [
    "# Neural Net"
   ]
  },
  {
   "cell_type": "code",
   "execution_count": 35,
   "metadata": {},
   "outputs": [
    {
     "data": {
      "text/plain": [
       "MLPClassifier(activation='logistic', hidden_layer_sizes=20, max_iter=1000,\n",
       "              random_state=1, solver='lbfgs')"
      ]
     },
     "execution_count": 35,
     "metadata": {},
     "output_type": "execute_result"
    }
   ],
   "source": [
    "from sklearn.neural_network import MLPClassifier\n",
    "\n",
    "clf_NN = MLPClassifier(hidden_layer_sizes=(20), max_iter = 1000, activation='logistic', solver='lbfgs', \n",
    "                    random_state=1)\n",
    "\n",
    "scaler = preprocessing.StandardScaler().fit(train_X)\n",
    "X_scaled = scaler.transform(train_X)\n",
    "\n",
    "clf_NN.fit(X_scaled, train_y)"
   ]
  },
  {
   "cell_type": "code",
   "execution_count": 36,
   "metadata": {},
   "outputs": [
    {
     "name": "stdout",
     "output_type": "stream",
     "text": [
      "Confusion Matrix (Accuracy 0.8918)\n",
      "\n",
      "       Prediction\n",
      "Actual    0    1\n",
      "     0 5921  343\n",
      "     1  608 1918\n",
      "Confusion Matrix (Accuracy 0.7334)\n",
      "\n",
      "       Prediction\n",
      "Actual    0    1\n",
      "     0 1264  265\n",
      "     1  321  348\n"
     ]
    }
   ],
   "source": [
    "classificationSummary(train_y, clf_NN.predict(X_scaled))\n",
    "\n",
    "X_scaled_val = scaler.transform(valid_X)\n",
    "\n",
    "classificationSummary(valid_y, clf_NN.predict(X_scaled_val))"
   ]
  },
  {
   "cell_type": "code",
   "execution_count": 46,
   "metadata": {},
   "outputs": [
    {
     "name": "stdout",
     "output_type": "stream",
     "text": [
      "LogisticRegression(random_state=23, solver='liblinear') score is 0.7970882620564149\n",
      "RandomForestClassifier(n_estimators=10, random_state=23) score is 0.764634516226873\n",
      "SVC(gamma='auto', probability=True, random_state=23) score is 0.8092205034880194\n",
      "MLPClassifier(activation='logistic', hidden_layer_sizes=20, max_iter=1000,\n",
      "              random_state=1, solver='lbfgs') score is 0.7561419472247498\n"
     ]
    }
   ],
   "source": [
    "#attempt at pipeline\n",
    "from sklearn.pipeline import make_pipeline\n",
    "\n",
    "nn_clf = MLPClassifier(hidden_layer_sizes=(20), max_iter = 1000, activation='logistic', solver='lbfgs', \n",
    "                    random_state=1)\n",
    "\n",
    "for clf in (log_clf, rnd_clf, svm_clf, nn_clf):\n",
    "    X_train, X_test, y_train, y_test = train_test_split(X, y, test_size=0.3, random_state=42)\n",
    "    pipe = make_pipeline(preprocessing.StandardScaler(), clf)\n",
    "    pipe.fit(X_train, y_train)  \n",
    "    print(f'{clf} score is {pipe.score(X_test, y_test)}')\n"
   ]
  },
  {
   "cell_type": "code",
   "execution_count": 47,
   "metadata": {},
   "outputs": [
    {
     "name": "stdout",
     "output_type": "stream",
     "text": [
      "Confusion Matrix (Accuracy 0.7971)\n",
      "\n",
      "       Prediction\n",
      "Actual    0    1\n",
      "     0 2151  187\n",
      "     1  482  477\n",
      "Confusion Matrix (Accuracy 0.7646)\n",
      "\n",
      "       Prediction\n",
      "Actual    0    1\n",
      "     0 2144  194\n",
      "     1  582  377\n",
      "Confusion Matrix (Accuracy 0.8092)\n",
      "\n",
      "       Prediction\n",
      "Actual    0    1\n",
      "     0 2171  167\n",
      "     1  462  497\n",
      "Confusion Matrix (Accuracy 0.7561)\n",
      "\n",
      "       Prediction\n",
      "Actual    0    1\n",
      "     0 1996  342\n",
      "     1  462  497\n"
     ]
    }
   ],
   "source": [
    "for clf in (log_clf, rnd_clf, svm_clf, nn_clf):\n",
    "    X_train, X_test, y_train, y_test = train_test_split(X, y, test_size=0.3, random_state=42)\n",
    "    pipe = make_pipeline(preprocessing.StandardScaler(), clf)\n",
    "    pipe.fit(X_train, y_train)  \n",
    "    classificationSummary(y_test, pipe.predict(X_test))\n"
   ]
  },
  {
   "cell_type": "markdown",
   "metadata": {},
   "source": [
    "# Multinomial"
   ]
  },
  {
   "cell_type": "code",
   "execution_count": 48,
   "metadata": {},
   "outputs": [],
   "source": [
    "X = tracks[predictors + top_word]\n",
    "y = tracks['chart_status']"
   ]
  },
  {
   "cell_type": "code",
   "execution_count": 49,
   "metadata": {},
   "outputs": [
    {
     "data": {
      "text/plain": [
       "0    0\n",
       "1    0\n",
       "2    0\n",
       "3    2\n",
       "4    0\n",
       "5    0\n",
       "6    1\n",
       "7    0\n",
       "8    0\n",
       "9    0\n",
       "Name: chart_status, dtype: int64"
      ]
     },
     "execution_count": 49,
     "metadata": {},
     "output_type": "execute_result"
    }
   ],
   "source": [
    "y.head(10)"
   ]
  },
  {
   "cell_type": "code",
   "execution_count": 58,
   "metadata": {},
   "outputs": [
    {
     "name": "stdout",
     "output_type": "stream",
     "text": [
      "Confusion Matrix (Accuracy 0.7644)\n",
      "\n",
      "       Prediction\n",
      "Actual    0    1    2\n",
      "     0 5991   86  187\n",
      "     1  673  296  222\n",
      "     2  836   67  432\n",
      "Confusion Matrix (Accuracy 0.7461)\n",
      "\n",
      "       Prediction\n",
      "Actual    0    1    2\n",
      "     0 1456   27   46\n",
      "     1  193   85   42\n",
      "     2  228   22   99\n"
     ]
    },
    {
     "name": "stderr",
     "output_type": "stream",
     "text": [
      "/opt/anaconda3/lib/python3.8/site-packages/sklearn/linear_model/_logistic.py:762: ConvergenceWarning: lbfgs failed to converge (status=1):\n",
      "STOP: TOTAL NO. of ITERATIONS REACHED LIMIT.\n",
      "\n",
      "Increase the number of iterations (max_iter) or scale the data as shown in:\n",
      "    https://scikit-learn.org/stable/modules/preprocessing.html\n",
      "Please also refer to the documentation for alternative solver options:\n",
      "    https://scikit-learn.org/stable/modules/linear_model.html#logistic-regression\n",
      "  n_iter_i = _check_optimize_result(\n"
     ]
    }
   ],
   "source": [
    "#maybe there is value in this. If we're looking for just songs that will chart, we can ignore the predicted zeros.\n",
    "#We will miss some hits, but we're trying to identify songs that have a good chance of being a hit\n",
    "\n",
    "train_X, valid_X, train_y, valid_y = train_test_split(X, y, test_size=0.2, random_state=23)\n",
    "\n",
    "logit_reg = LogisticRegression(penalty=\"l2\", C=1e42, solver='lbfgs', max_iter=2000, multi_class='multinomial')\n",
    "logit_reg.fit(train_X, train_y)\n",
    "\n",
    "classificationSummary(train_y, logit_reg.predict(train_X))\n",
    "\n",
    "classificationSummary(valid_y, logit_reg.predict(valid_X))\n"
   ]
  },
  {
   "cell_type": "code",
   "execution_count": 60,
   "metadata": {},
   "outputs": [
    {
     "data": {
      "text/plain": [
       "0.7725856697819314"
      ]
     },
     "execution_count": 60,
     "metadata": {},
     "output_type": "execute_result"
    }
   ],
   "source": [
    "(85+22+42+99)/(27+85+22+42+99+46)"
   ]
  },
  {
   "cell_type": "code",
   "execution_count": 57,
   "metadata": {},
   "outputs": [
    {
     "name": "stdout",
     "output_type": "stream",
     "text": [
      "Confusion Matrix (Accuracy 0.7403)\n",
      "\n",
      "       Prediction\n",
      "Actual    0    1    2\n",
      "     0 6045    0  219\n",
      "     1  817    0  374\n",
      "     2  873    0  462\n",
      "Confusion Matrix (Accuracy 0.7197)\n",
      "\n",
      "       Prediction\n",
      "Actual    0    1    2\n",
      "     0 1478    0   51\n",
      "     1  234    0   86\n",
      "     2  245    0  104\n"
     ]
    }
   ],
   "source": [
    "#ordinal logistic regression - this didn't work at all\n",
    "\n",
    "from mord import LogisticIT\n",
    "\n",
    "logit = LogisticIT(alpha=0)\n",
    "logit.fit(train_X, train_y)\n",
    "\n",
    "classificationSummary(train_y, logit.predict(train_X))\n",
    "\n",
    "classificationSummary(valid_y, logit.predict(valid_X))"
   ]
  }
 ],
 "metadata": {
  "kernelspec": {
   "display_name": "Python 3",
   "language": "python",
   "name": "python3"
  },
  "language_info": {
   "codemirror_mode": {
    "name": "ipython",
    "version": 3
   },
   "file_extension": ".py",
   "mimetype": "text/x-python",
   "name": "python",
   "nbconvert_exporter": "python",
   "pygments_lexer": "ipython3",
   "version": "3.8.5"
  }
 },
 "nbformat": 4,
 "nbformat_minor": 4
}
