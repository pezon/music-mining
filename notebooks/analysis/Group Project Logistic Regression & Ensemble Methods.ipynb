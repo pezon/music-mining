{
 "cells": [
  {
   "cell_type": "code",
   "execution_count": 58,
   "metadata": {},
   "outputs": [],
   "source": [
    "import pandas as pd\n",
    "import numpy as np\n",
    "from sklearn.linear_model import LogisticRegression\n",
    "from sklearn.model_selection import train_test_split\n",
    "from dmba import classificationSummary\n",
    "from sklearn import preprocessing"
   ]
  },
  {
   "cell_type": "code",
   "execution_count": 2,
   "metadata": {},
   "outputs": [],
   "source": [
    "tracks = pd.read_csv('tracks.csv')"
   ]
  },
  {
   "cell_type": "code",
   "execution_count": 3,
   "metadata": {},
   "outputs": [],
   "source": [
    "#create a target variable \"charted\"\n",
    "\n",
    "mask = tracks['chart_status'] > 0\n",
    "tracks['charted'] = np.where(mask, 1, 0)"
   ]
  },
  {
   "cell_type": "code",
   "execution_count": 4,
   "metadata": {},
   "outputs": [],
   "source": [
    "# define predictors and target\n",
    "\n",
    "predictors = ['danceability', 'energy', 'key', 'loudness' , 'mode' , 'speechiness', 'acousticness', \n",
    "              'instrumentalness', 'liveness', 'valence','tempo', 'time_signature', 'artist_lifetime_wins', \n",
    "              'artist_lifetime_nominations', 'artist_lifetime_releases', 'recording_award_nominee', \n",
    "              'recording_award_winner', 'album_award_nominee', 'album_award_winner', \n",
    "              'artist_lifetime_chart_months', 'artist_chart_tracks','artist_chart_peak', \n",
    "              'artist_chart_months_recently']\n"
   ]
  },
  {
   "cell_type": "code",
   "execution_count": 5,
   "metadata": {},
   "outputs": [],
   "source": [
    "#Fill NA values with zero\n",
    "\n",
    "tracks.fillna(0, inplace = True)"
   ]
  },
  {
   "cell_type": "code",
   "execution_count": 13,
   "metadata": {},
   "outputs": [],
   "source": [
    "#define x and y\n",
    "\n",
    "X = tracks[predictors]\n",
    "y = tracks['charted']"
   ]
  },
  {
   "cell_type": "code",
   "execution_count": 14,
   "metadata": {},
   "outputs": [
    {
     "data": {
      "text/plain": [
       "LogisticRegression(C=1e+42, solver='liblinear')"
      ]
     },
     "execution_count": 14,
     "metadata": {},
     "output_type": "execute_result"
    }
   ],
   "source": [
    "#fit logistic regression model\n",
    "\n",
    "train_X, valid_X, train_y, valid_y = train_test_split(X, y, test_size=0.2, random_state=23)\n",
    "\n",
    "logit_reg = LogisticRegression(penalty=\"l2\", C=1e42, solver='liblinear')\n",
    "logit_reg.fit(train_X, train_y)"
   ]
  },
  {
   "cell_type": "code",
   "execution_count": 16,
   "metadata": {},
   "outputs": [
    {
     "name": "stdout",
     "output_type": "stream",
     "text": [
      "Confusion Matrix (Accuracy 0.8147)\n",
      "\n",
      "       Prediction\n",
      "Actual    0    1\n",
      "     0 5690  574\n",
      "     1 1055 1471\n"
     ]
    }
   ],
   "source": [
    "classificationSummary(train_y, logit_reg.predict(train_X))"
   ]
  },
  {
   "cell_type": "code",
   "execution_count": 17,
   "metadata": {
    "scrolled": true
   },
   "outputs": [
    {
     "name": "stdout",
     "output_type": "stream",
     "text": [
      "Confusion Matrix (Accuracy 0.8057)\n",
      "\n",
      "       Prediction\n",
      "Actual    0    1\n",
      "     0 1394  135\n",
      "     1  292  377\n"
     ]
    }
   ],
   "source": [
    "classificationSummary(valid_y, logit_reg.predict(valid_X))"
   ]
  },
  {
   "cell_type": "code",
   "execution_count": 35,
   "metadata": {},
   "outputs": [
    {
     "name": "stdout",
     "output_type": "stream",
     "text": [
      "['pop', 'other', 'hip', 'hop', 'country', 'rock', 'rap', 'canadian', 'r&b', 'post-teen', 'contemporary', 'road', 'dance', 'modern', 'metal', 'uk', 'dawn', 'east', 'coast', 'german', 'boy', 'band', 'house', 'soul', 'art', 'neo', 'new', 'chicago', 'crunk', 'funk', 'nu', 'atl', 'wave', 'australian', 'permanent', 'alternative', 'indie', 'group', 'urban', 'barbadian', 'miami', 'mellow', 'girl', 'orleans', 'detroit', '8-bit', 'trap', 'old', 'school', 'south']\n"
     ]
    }
   ],
   "source": [
    "#create top word list from genre column\n",
    "\n",
    "tracks_charted = tracks.loc[tracks['chart_status'] >= 1].copy()\n",
    "\n",
    "from collections import Counter\n",
    "top_genres = Counter(\" \".join(tracks_charted['genre']).split()).most_common(50)\n",
    "top_word, top_count = zip(*top_genres)\n",
    "\n",
    "top_word = list(top_word)\n",
    "print(top_word)\n",
    "\n",
    "for word in top_word:\n",
    "    mask = tracks[\"genre\"].str.contains(word)\n",
    "    tracks[word] = np.where(mask, 1, 0)\n",
    "\n"
   ]
  },
  {
   "cell_type": "code",
   "execution_count": 36,
   "metadata": {},
   "outputs": [],
   "source": [
    "#add dummy genre variables to predictors\n",
    "\n",
    "X = tracks[predictors + top_word]\n",
    "y = tracks['charted']"
   ]
  },
  {
   "cell_type": "code",
   "execution_count": 52,
   "metadata": {},
   "outputs": [
    {
     "data": {
      "text/plain": [
       "LogisticRegression(C=1e+42, penalty='l1', solver='liblinear')"
      ]
     },
     "execution_count": 52,
     "metadata": {},
     "output_type": "execute_result"
    }
   ],
   "source": [
    "#fit second logistic regression\n",
    "\n",
    "train_X, valid_X, train_y, valid_y = train_test_split(X, y, test_size=0.3, random_state=23)\n",
    "\n",
    "logit_reg = LogisticRegression(penalty=\"l1\", C=1e42, solver='liblinear')\n",
    "logit_reg.fit(train_X, train_y)"
   ]
  },
  {
   "cell_type": "code",
   "execution_count": 53,
   "metadata": {
    "scrolled": true
   },
   "outputs": [
    {
     "name": "stdout",
     "output_type": "stream",
     "text": [
      "Confusion Matrix (Accuracy 0.8416)\n",
      "\n",
      "       Prediction\n",
      "Actual    0    1\n",
      "     0 4996  479\n",
      "     1  739 1477\n",
      "Confusion Matrix (Accuracy 0.8350)\n",
      "\n",
      "       Prediction\n",
      "Actual    0    1\n",
      "     0 2116  202\n",
      "     1  342  637\n"
     ]
    }
   ],
   "source": [
    "classificationSummary(train_y, logit_reg.predict(train_X))\n",
    "\n",
    "classificationSummary(valid_y, logit_reg.predict(valid_X))"
   ]
  },
  {
   "cell_type": "markdown",
   "metadata": {},
   "source": [
    "# Trying ensemble methods"
   ]
  },
  {
   "cell_type": "markdown",
   "metadata": {},
   "source": [
    "## Voting set to 'hard'"
   ]
  },
  {
   "cell_type": "code",
   "execution_count": 39,
   "metadata": {},
   "outputs": [],
   "source": [
    "from sklearn.ensemble import RandomForestClassifier \n",
    "from sklearn.ensemble import VotingClassifier\n",
    "from sklearn.svm import SVC"
   ]
  },
  {
   "cell_type": "code",
   "execution_count": 40,
   "metadata": {},
   "outputs": [],
   "source": [
    "log_clf = LogisticRegression(solver=\"liblinear\", random_state=23)\n",
    "rnd_clf = RandomForestClassifier(n_estimators=10, random_state=23)\n",
    "svm_clf = SVC(gamma=\"auto\", random_state=23)\n",
    "\n",
    "voting_clf = VotingClassifier(\n",
    "    estimators=[('lr', log_clf), ('rf', rnd_clf), ('svc', svm_clf)],\n",
    "    voting='hard')"
   ]
  },
  {
   "cell_type": "code",
   "execution_count": 42,
   "metadata": {},
   "outputs": [
    {
     "data": {
      "text/plain": [
       "VotingClassifier(estimators=[('lr',\n",
       "                              LogisticRegression(random_state=23,\n",
       "                                                 solver='liblinear')),\n",
       "                             ('rf',\n",
       "                              RandomForestClassifier(n_estimators=10,\n",
       "                                                     random_state=23)),\n",
       "                             ('svc', SVC(gamma='auto', random_state=23))])"
      ]
     },
     "execution_count": 42,
     "metadata": {},
     "output_type": "execute_result"
    }
   ],
   "source": [
    "voting_clf.fit(train_X, train_y)"
   ]
  },
  {
   "cell_type": "code",
   "execution_count": 44,
   "metadata": {},
   "outputs": [
    {
     "name": "stdout",
     "output_type": "stream",
     "text": [
      "LogisticRegression 0.8421292083712466\n",
      "RandomForestClassifier 0.8412192902638762\n",
      "SVC 0.8234758871701547\n",
      "VotingClassifier 0.8475887170154686\n"
     ]
    }
   ],
   "source": [
    "from sklearn.metrics import accuracy_score\n",
    "\n",
    "for clf in (log_clf, rnd_clf, svm_clf, voting_clf):\n",
    "    clf.fit(train_X, train_y)\n",
    "    pred_y = clf.predict(valid_X)\n",
    "    print(clf.__class__.__name__, accuracy_score(valid_y, pred_y))"
   ]
  },
  {
   "cell_type": "markdown",
   "metadata": {},
   "source": [
    "## Voting set to 'soft'"
   ]
  },
  {
   "cell_type": "code",
   "execution_count": 47,
   "metadata": {},
   "outputs": [
    {
     "data": {
      "text/plain": [
       "VotingClassifier(estimators=[('lr',\n",
       "                              LogisticRegression(random_state=23,\n",
       "                                                 solver='liblinear')),\n",
       "                             ('rf',\n",
       "                              RandomForestClassifier(n_estimators=10,\n",
       "                                                     random_state=23)),\n",
       "                             ('svc',\n",
       "                              SVC(gamma='auto', probability=True,\n",
       "                                  random_state=23))],\n",
       "                 voting='soft')"
      ]
     },
     "execution_count": 47,
     "metadata": {},
     "output_type": "execute_result"
    }
   ],
   "source": [
    "log_clf = LogisticRegression(solver=\"liblinear\", random_state=23)\n",
    "rnd_clf = RandomForestClassifier(n_estimators=10, random_state=23)\n",
    "svm_clf = SVC(gamma=\"auto\", probability=True, random_state=23)\n",
    "\n",
    "voting_clf = VotingClassifier(\n",
    "    estimators=[('lr', log_clf), ('rf', rnd_clf), ('svc', svm_clf)],\n",
    "    voting='soft')\n",
    "\n",
    "voting_clf.fit(train_X, train_y)"
   ]
  },
  {
   "cell_type": "code",
   "execution_count": 48,
   "metadata": {},
   "outputs": [
    {
     "name": "stdout",
     "output_type": "stream",
     "text": [
      "LogisticRegression 0.8421292083712466\n",
      "RandomForestClassifier 0.8412192902638762\n",
      "SVC 0.8234758871701547\n",
      "VotingClassifier 0.848498635122839\n"
     ]
    }
   ],
   "source": [
    "for clf in (log_clf, rnd_clf, svm_clf, voting_clf):\n",
    "    clf.fit(train_X, train_y)\n",
    "    pred_y = clf.predict(valid_X)\n",
    "    print(clf.__class__.__name__, accuracy_score(valid_y, pred_y))"
   ]
  },
  {
   "cell_type": "code",
   "execution_count": 49,
   "metadata": {},
   "outputs": [
    {
     "name": "stdout",
     "output_type": "stream",
     "text": [
      "Confusion Matrix (Accuracy 0.9732)\n",
      "\n",
      "       Prediction\n",
      "Actual    0    1\n",
      "     0 6168   96\n",
      "     1  140 2386\n",
      "Confusion Matrix (Accuracy 0.8485)\n",
      "\n",
      "       Prediction\n",
      "Actual    0    1\n",
      "     0 1376  153\n",
      "     1  180  489\n"
     ]
    }
   ],
   "source": [
    "classificationSummary(train_y, voting_clf.predict(train_X))\n",
    "\n",
    "classificationSummary(valid_y, voting_clf.predict(valid_X))"
   ]
  },
  {
   "cell_type": "markdown",
   "metadata": {},
   "source": [
    "# Neural Net"
   ]
  },
  {
   "cell_type": "code",
   "execution_count": 54,
   "metadata": {},
   "outputs": [],
   "source": [
    "from sklearn.neural_network import MLPClassifier"
   ]
  },
  {
   "cell_type": "code",
   "execution_count": 56,
   "metadata": {},
   "outputs": [
    {
     "name": "stderr",
     "output_type": "stream",
     "text": [
      "/opt/anaconda3/lib/python3.8/site-packages/sklearn/neural_network/_multilayer_perceptron.py:471: ConvergenceWarning: lbfgs failed to converge (status=1):\n",
      "STOP: TOTAL NO. of ITERATIONS REACHED LIMIT.\n",
      "\n",
      "Increase the number of iterations (max_iter) or scale the data as shown in:\n",
      "    https://scikit-learn.org/stable/modules/preprocessing.html\n",
      "  self.n_iter_ = _check_optimize_result(\"lbfgs\", opt_res, self.max_iter)\n"
     ]
    },
    {
     "data": {
      "text/plain": [
       "MLPClassifier(activation='logistic', hidden_layer_sizes=10, random_state=1,\n",
       "              solver='lbfgs')"
      ]
     },
     "execution_count": 56,
     "metadata": {},
     "output_type": "execute_result"
    }
   ],
   "source": [
    "clf_NN = MLPClassifier(hidden_layer_sizes=(10), activation='logistic', solver='lbfgs', \n",
    "                    random_state=1)\n",
    "\n",
    "\n",
    "clf_NN.fit(train_X, train_y)"
   ]
  },
  {
   "cell_type": "code",
   "execution_count": 57,
   "metadata": {},
   "outputs": [
    {
     "name": "stdout",
     "output_type": "stream",
     "text": [
      "Confusion Matrix (Accuracy 0.8363)\n",
      "\n",
      "       Prediction\n",
      "Actual    0    1\n",
      "     0 4461 1014\n",
      "     1  245 1971\n",
      "Confusion Matrix (Accuracy 0.8232)\n",
      "\n",
      "       Prediction\n",
      "Actual    0    1\n",
      "     0 1857  461\n",
      "     1  122  857\n"
     ]
    }
   ],
   "source": [
    "classificationSummary(train_y, clf_NN.predict(train_X))\n",
    "\n",
    "classificationSummary(valid_y, clf_NN.predict(valid_X))"
   ]
  },
  {
   "cell_type": "markdown",
   "metadata": {},
   "source": [
    "# Multinomial"
   ]
  },
  {
   "cell_type": "code",
   "execution_count": 59,
   "metadata": {},
   "outputs": [],
   "source": [
    "X = tracks[predictors + top_word]\n",
    "y = tracks['chart_status']"
   ]
  },
  {
   "cell_type": "code",
   "execution_count": 61,
   "metadata": {},
   "outputs": [
    {
     "name": "stdout",
     "output_type": "stream",
     "text": [
      "Confusion Matrix (Accuracy 0.7970)\n",
      "\n",
      "       Prediction\n",
      "Actual    0    1    2\n",
      "     0 5856  169  239\n",
      "     1  385  597  209\n",
      "     2  661  121  553\n",
      "Confusion Matrix (Accuracy 0.7894)\n",
      "\n",
      "       Prediction\n",
      "Actual    0    1    2\n",
      "     0 1438   40   51\n",
      "     1  103  170   47\n",
      "     2  185   37  127\n"
     ]
    },
    {
     "name": "stderr",
     "output_type": "stream",
     "text": [
      "/opt/anaconda3/lib/python3.8/site-packages/sklearn/linear_model/_logistic.py:762: ConvergenceWarning: lbfgs failed to converge (status=1):\n",
      "STOP: TOTAL NO. of ITERATIONS REACHED LIMIT.\n",
      "\n",
      "Increase the number of iterations (max_iter) or scale the data as shown in:\n",
      "    https://scikit-learn.org/stable/modules/preprocessing.html\n",
      "Please also refer to the documentation for alternative solver options:\n",
      "    https://scikit-learn.org/stable/modules/linear_model.html#logistic-regression\n",
      "  n_iter_i = _check_optimize_result(\n"
     ]
    }
   ],
   "source": [
    "train_X, valid_X, train_y, valid_y = train_test_split(X, y, test_size=0.2, random_state=23)\n",
    "\n",
    "two_logit_reg = LogisticRegression(penalty=\"l2\", C=1e42, solver='lbfgs', max_iter=2000, multi_class='multinomial')\n",
    "two_logit_reg.fit(train_X, train_y)\n",
    "\n",
    "classificationSummary(train_y, two_logit_reg.predict(train_X))\n",
    "\n",
    "classificationSummary(valid_y, two_logit_reg.predict(valid_X))"
   ]
  }
 ],
 "metadata": {
  "kernelspec": {
   "display_name": "Python 3",
   "language": "python",
   "name": "python3"
  },
  "language_info": {
   "codemirror_mode": {
    "name": "ipython",
    "version": 3
   },
   "file_extension": ".py",
   "mimetype": "text/x-python",
   "name": "python",
   "nbconvert_exporter": "python",
   "pygments_lexer": "ipython3",
   "version": "3.8.5"
  }
 },
 "nbformat": 4,
 "nbformat_minor": 4
}
