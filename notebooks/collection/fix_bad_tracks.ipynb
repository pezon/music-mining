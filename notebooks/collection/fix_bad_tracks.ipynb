{
 "cells": [
  {
   "cell_type": "code",
   "execution_count": 1,
   "outputs": [
    {
     "name": "stdout",
     "output_type": "stream",
     "text": [
      "(14996, 69) (3195, 69)\n",
      "(14740, 69) (2944, 69)\n"
     ]
    }
   ],
   "source": [
    "import os\n",
    "from pathlib import Path\n",
    "\n",
    "import pandas as pd\n",
    "\n",
    "data_path = Path(\"../../data\").resolve()\n",
    "os.makedirs(data_path, exist_ok=True)\n",
    "\n",
    "tracks_df = pd.read_parquet(data_path / \"tracks.pq\")\n",
    "print(tracks_df.shape, tracks_df[tracks_df[\"track_chart_months\"] >= 1].shape)\n",
    "\n",
    "tracks_df = tracks_df[~tracks_df[\"name\"].str.lower().str.contains(\"karaoke\")]\n",
    "tracks_df = tracks_df[~tracks_df[\"name\"].str.lower().str.contains(\"originally performed by\")]\n",
    "tracks_df = tracks_df[~tracks_df[\"name\"].str.lower().str.contains(\"instrumental\")]\n",
    "print(tracks_df.shape, tracks_df[tracks_df[\"track_chart_months\"] >= 1].shape)\n",
    "\n",
    "tracks_df.to_csv(data_path / \"tracks_v2.csv.gz\", compression=\"gzip\", index=False)\n",
    "tracks_df.to_parquet(data_path / \"tracks_v2.pq\", index=False)"
   ],
   "metadata": {
    "collapsed": false,
    "pycharm": {
     "name": "#%%\n"
    }
   }
  },
  {
   "cell_type": "code",
   "execution_count": null,
   "outputs": [],
   "source": [],
   "metadata": {
    "collapsed": false,
    "pycharm": {
     "name": "#%%\n"
    }
   }
  }
 ],
 "metadata": {
  "kernelspec": {
   "display_name": "Python 3",
   "language": "python",
   "name": "python3"
  },
  "language_info": {
   "codemirror_mode": {
    "name": "ipython",
    "version": 2
   },
   "file_extension": ".py",
   "mimetype": "text/x-python",
   "name": "python",
   "nbconvert_exporter": "python",
   "pygments_lexer": "ipython2",
   "version": "2.7.6"
  }
 },
 "nbformat": 4,
 "nbformat_minor": 0
}