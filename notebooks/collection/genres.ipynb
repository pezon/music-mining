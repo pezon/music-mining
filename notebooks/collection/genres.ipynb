{
 "cells": [
  {
   "cell_type": "code",
   "execution_count": null,
   "metadata": {
    "collapsed": true
   },
   "outputs": [],
   "source": [
    "import os\n",
    "from pathlib import Path\n",
    "\n",
    "import numpy as np\n",
    "import pandas as pd\n",
    "from sklearn.feature_extraction.text import CountVectorizer\n",
    "\n",
    "data_path = Path(\"../../data\").resolve()\n",
    "os.makedirs(data_path, exist_ok=True)\n",
    "\n",
    "tracks_df = pd.read_parquet(data_path / \"tracks.pq\")\n",
    "genres = tracks_df[\"artist_genres\"].explode().rename(\"genre\").dropna()\n",
    "\n",
    "vectorizer = CountVectorizer(ngram_range=(1, 3))\n",
    "vectorizer.fit_transform(genres)\n",
    "bag_of_words = vectorizer.transform(genres)\n",
    "sum_words = bag_of_words.sum(axis=0)\n",
    "words_freq = [(word, sum_words[0, idx]) for word, idx in vectorizer.vocabulary_.items()]\n",
    "words_freq = sorted(words_freq, key = lambda x: x[1], reverse=True)\n",
    "words_freq_df = pd.DataFrame(words_freq, columns=[\"genre\", \"count\"])\n",
    "words_freq_df[\"freq\"] = words_freq_df[\"count\"] / words_freq_df[\"count\"].sum()\n",
    "words_freq_df = words_freq_df[\n",
    "    (words_freq_df[\"genre\"] != \"hop\")\n",
    "    & (words_freq_df[\"genre\"] != \"hip\")\n",
    "    ]\n",
    "words_freq_df[\"pop_genre\"] = np.where(words_freq_df.index <= 23, 1, 0)\n",
    "top_word = words_freq_df[words_freq_df[\"pop_genre\"] == 1][\"genre\"].tolist()\n",
    "\n",
    "df_ = tracks_df[[\"id\", \"artist_genres\"]]\n",
    "df_[\"artist_genres\"] = df_[\"artist_genres\"].apply(lambda g: \"; \".join(list(g)) if g is not None else \"other\")\n",
    "df_[\"selected_genre\"] = \"other\"\n",
    "\n",
    "for word in top_word:\n",
    "    mask = df_[\"artist_genres\"].str.contains(word)\n",
    "    df_[word] = np.where(mask, 1, 0)\n",
    "    df_[\"selected_genre\"] = np.where(df_[\"artist_genres\"].str.contains(word), word, df_[\"selected_genre\"])\n",
    "\n",
    "df_.to_parquet(data_path / \"track_genres.csv\")"
   ]
  }
 ],
 "metadata": {
  "kernelspec": {
   "display_name": "Python 3",
   "language": "python",
   "name": "python3"
  },
  "language_info": {
   "codemirror_mode": {
    "name": "ipython",
    "version": 2
   },
   "file_extension": ".py",
   "mimetype": "text/x-python",
   "name": "python",
   "nbconvert_exporter": "python",
   "pygments_lexer": "ipython2",
   "version": "2.7.6"
  }
 },
 "nbformat": 4,
 "nbformat_minor": 0
}