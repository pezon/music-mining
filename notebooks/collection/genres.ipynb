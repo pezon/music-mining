{
 "cells": [
  {
   "cell_type": "code",
   "execution_count": 1,
   "metadata": {
    "collapsed": true
   },
   "outputs": [
    {
     "name": "stderr",
     "output_type": "stream",
     "text": [
      "/var/folders/x2/3tdlb6px40qfq870vwx5y6080000gn/T/ipykernel_45642/4164447551.py:30: SettingWithCopyWarning: \n",
      "A value is trying to be set on a copy of a slice from a DataFrame.\n",
      "Try using .loc[row_indexer,col_indexer] = value instead\n",
      "\n",
      "See the caveats in the documentation: https://pandas.pydata.org/pandas-docs/stable/user_guide/indexing.html#returning-a-view-versus-a-copy\n",
      "  df_[\"artist_genres\"] = df_[\"artist_genres\"].apply(lambda g: \"; \".join(list(g)) if g is not None else \"other\")\n",
      "/var/folders/x2/3tdlb6px40qfq870vwx5y6080000gn/T/ipykernel_45642/4164447551.py:31: SettingWithCopyWarning: \n",
      "A value is trying to be set on a copy of a slice from a DataFrame.\n",
      "Try using .loc[row_indexer,col_indexer] = value instead\n",
      "\n",
      "See the caveats in the documentation: https://pandas.pydata.org/pandas-docs/stable/user_guide/indexing.html#returning-a-view-versus-a-copy\n",
      "  df_[\"selected_genre\"] = \"other\"\n",
      "/var/folders/x2/3tdlb6px40qfq870vwx5y6080000gn/T/ipykernel_45642/4164447551.py:35: SettingWithCopyWarning: \n",
      "A value is trying to be set on a copy of a slice from a DataFrame.\n",
      "Try using .loc[row_indexer,col_indexer] = value instead\n",
      "\n",
      "See the caveats in the documentation: https://pandas.pydata.org/pandas-docs/stable/user_guide/indexing.html#returning-a-view-versus-a-copy\n",
      "  df_[word] = np.where(mask, 1, 0)\n",
      "/var/folders/x2/3tdlb6px40qfq870vwx5y6080000gn/T/ipykernel_45642/4164447551.py:36: SettingWithCopyWarning: \n",
      "A value is trying to be set on a copy of a slice from a DataFrame.\n",
      "Try using .loc[row_indexer,col_indexer] = value instead\n",
      "\n",
      "See the caveats in the documentation: https://pandas.pydata.org/pandas-docs/stable/user_guide/indexing.html#returning-a-view-versus-a-copy\n",
      "  df_[\"selected_genre\"] = np.where(df_[\"artist_genres\"].str.contains(word), word, df_[\"selected_genre\"])\n"
     ]
    },
    {
     "data": {
      "text/plain": "                           id  \\\n0      10iesoGb4mCYTcur1QfdO9   \n1      0DlHQxrVijRqVUfuS6PKaY   \n2      2QtM6ZVLx13TBOO1iwmXYy   \n3      27hFQQS3cVUmIK3ser5bpu   \n4      1YcqYmviKagJ68DOmjSWQW   \n...                       ...   \n14962  23CsjGOYDQiJpX44BSn9TM   \n14963  6I6NX6tjGsxFAsIfGzY9lJ   \n14964  41BzKiCrKpUQHS3TP0jmdr   \n14965  5V7mTIcXVU9k2JNu0mE6vy   \n14966  4dvQg9sD8k9y4qiEURuj8v   \n\n                                           artist_genres selected_genre  pop  \\\n0                               francoton; rap marseille            rap    0   \n1      funk carioca; funk das antigas; sertanejo pop;...           trap    1   \n2                                                  other          other    0   \n3                              acoustic cover; viral pop            pop    1   \n4             czsk hip hop; czsk hip hop; slovak hip hop        hip hop    0   \n...                                                  ...            ...  ...   \n14962  latin; latin arena pop; latin pop; mexican pop...    trap latino    1   \n14963  conscious hip hop; hip hop; north carolina hip...        hip hop    0   \n14964             latin; reggaeton; reggaeton colombiano      reggaeton    0   \n14965  neo mellow; piano rock; pixie; pop punk; pop rock           rock    1   \n14966  dance pop; girl group; hip pop; pop; r&b; urba...   contemporary    1   \n\n       rap  hip hop  dance  trap  rock  dance pop  ...  contemporary  indie  \\\n0        1        0      0     0     0          0  ...             0      0   \n1        1        1      0     1     0          0  ...             0      0   \n2        0        0      0     0     0          0  ...             0      0   \n3        0        0      0     0     0          0  ...             0      0   \n4        0        1      0     0     0          0  ...             0      0   \n...    ...      ...    ...   ...   ...        ...  ...           ...    ...   \n14962    1        0      0     1     0          0  ...             0      0   \n14963    1        1      0     0     0          0  ...             0      0   \n14964    0        0      0     0     0          0  ...             0      0   \n14965    0        0      0     0     1          0  ...             0      0   \n14966    0        0      1     0     0          1  ...             1      0   \n\n       latino  trap latino  post  alternative  edm  modern  teen  teen pop  \n0           0            0     0            0    0       0     0         0  \n1           0            0     0            0    0       0     0         0  \n2           0            0     0            0    0       0     0         0  \n3           0            0     0            0    0       0     0         0  \n4           0            0     0            0    0       0     0         0  \n...       ...          ...   ...          ...  ...     ...   ...       ...  \n14962       1            1     0            0    0       0     0         0  \n14963       0            0     0            0    0       0     0         0  \n14964       0            0     0            0    0       0     0         0  \n14965       0            0     0            0    0       0     0         0  \n14966       0            0     0            0    0       0     0         0  \n\n[14967 rows x 25 columns]",
      "text/html": "<div>\n<style scoped>\n    .dataframe tbody tr th:only-of-type {\n        vertical-align: middle;\n    }\n\n    .dataframe tbody tr th {\n        vertical-align: top;\n    }\n\n    .dataframe thead th {\n        text-align: right;\n    }\n</style>\n<table border=\"1\" class=\"dataframe\">\n  <thead>\n    <tr style=\"text-align: right;\">\n      <th></th>\n      <th>id</th>\n      <th>artist_genres</th>\n      <th>selected_genre</th>\n      <th>pop</th>\n      <th>rap</th>\n      <th>hip hop</th>\n      <th>dance</th>\n      <th>trap</th>\n      <th>rock</th>\n      <th>dance pop</th>\n      <th>...</th>\n      <th>contemporary</th>\n      <th>indie</th>\n      <th>latino</th>\n      <th>trap latino</th>\n      <th>post</th>\n      <th>alternative</th>\n      <th>edm</th>\n      <th>modern</th>\n      <th>teen</th>\n      <th>teen pop</th>\n    </tr>\n  </thead>\n  <tbody>\n    <tr>\n      <th>0</th>\n      <td>10iesoGb4mCYTcur1QfdO9</td>\n      <td>francoton; rap marseille</td>\n      <td>rap</td>\n      <td>0</td>\n      <td>1</td>\n      <td>0</td>\n      <td>0</td>\n      <td>0</td>\n      <td>0</td>\n      <td>0</td>\n      <td>...</td>\n      <td>0</td>\n      <td>0</td>\n      <td>0</td>\n      <td>0</td>\n      <td>0</td>\n      <td>0</td>\n      <td>0</td>\n      <td>0</td>\n      <td>0</td>\n      <td>0</td>\n    </tr>\n    <tr>\n      <th>1</th>\n      <td>0DlHQxrVijRqVUfuS6PKaY</td>\n      <td>funk carioca; funk das antigas; sertanejo pop;...</td>\n      <td>trap</td>\n      <td>1</td>\n      <td>1</td>\n      <td>1</td>\n      <td>0</td>\n      <td>1</td>\n      <td>0</td>\n      <td>0</td>\n      <td>...</td>\n      <td>0</td>\n      <td>0</td>\n      <td>0</td>\n      <td>0</td>\n      <td>0</td>\n      <td>0</td>\n      <td>0</td>\n      <td>0</td>\n      <td>0</td>\n      <td>0</td>\n    </tr>\n    <tr>\n      <th>2</th>\n      <td>2QtM6ZVLx13TBOO1iwmXYy</td>\n      <td>other</td>\n      <td>other</td>\n      <td>0</td>\n      <td>0</td>\n      <td>0</td>\n      <td>0</td>\n      <td>0</td>\n      <td>0</td>\n      <td>0</td>\n      <td>...</td>\n      <td>0</td>\n      <td>0</td>\n      <td>0</td>\n      <td>0</td>\n      <td>0</td>\n      <td>0</td>\n      <td>0</td>\n      <td>0</td>\n      <td>0</td>\n      <td>0</td>\n    </tr>\n    <tr>\n      <th>3</th>\n      <td>27hFQQS3cVUmIK3ser5bpu</td>\n      <td>acoustic cover; viral pop</td>\n      <td>pop</td>\n      <td>1</td>\n      <td>0</td>\n      <td>0</td>\n      <td>0</td>\n      <td>0</td>\n      <td>0</td>\n      <td>0</td>\n      <td>...</td>\n      <td>0</td>\n      <td>0</td>\n      <td>0</td>\n      <td>0</td>\n      <td>0</td>\n      <td>0</td>\n      <td>0</td>\n      <td>0</td>\n      <td>0</td>\n      <td>0</td>\n    </tr>\n    <tr>\n      <th>4</th>\n      <td>1YcqYmviKagJ68DOmjSWQW</td>\n      <td>czsk hip hop; czsk hip hop; slovak hip hop</td>\n      <td>hip hop</td>\n      <td>0</td>\n      <td>0</td>\n      <td>1</td>\n      <td>0</td>\n      <td>0</td>\n      <td>0</td>\n      <td>0</td>\n      <td>...</td>\n      <td>0</td>\n      <td>0</td>\n      <td>0</td>\n      <td>0</td>\n      <td>0</td>\n      <td>0</td>\n      <td>0</td>\n      <td>0</td>\n      <td>0</td>\n      <td>0</td>\n    </tr>\n    <tr>\n      <th>...</th>\n      <td>...</td>\n      <td>...</td>\n      <td>...</td>\n      <td>...</td>\n      <td>...</td>\n      <td>...</td>\n      <td>...</td>\n      <td>...</td>\n      <td>...</td>\n      <td>...</td>\n      <td>...</td>\n      <td>...</td>\n      <td>...</td>\n      <td>...</td>\n      <td>...</td>\n      <td>...</td>\n      <td>...</td>\n      <td>...</td>\n      <td>...</td>\n      <td>...</td>\n      <td>...</td>\n    </tr>\n    <tr>\n      <th>14962</th>\n      <td>23CsjGOYDQiJpX44BSn9TM</td>\n      <td>latin; latin arena pop; latin pop; mexican pop...</td>\n      <td>trap latino</td>\n      <td>1</td>\n      <td>1</td>\n      <td>0</td>\n      <td>0</td>\n      <td>1</td>\n      <td>0</td>\n      <td>0</td>\n      <td>...</td>\n      <td>0</td>\n      <td>0</td>\n      <td>1</td>\n      <td>1</td>\n      <td>0</td>\n      <td>0</td>\n      <td>0</td>\n      <td>0</td>\n      <td>0</td>\n      <td>0</td>\n    </tr>\n    <tr>\n      <th>14963</th>\n      <td>6I6NX6tjGsxFAsIfGzY9lJ</td>\n      <td>conscious hip hop; hip hop; north carolina hip...</td>\n      <td>hip hop</td>\n      <td>0</td>\n      <td>1</td>\n      <td>1</td>\n      <td>0</td>\n      <td>0</td>\n      <td>0</td>\n      <td>0</td>\n      <td>...</td>\n      <td>0</td>\n      <td>0</td>\n      <td>0</td>\n      <td>0</td>\n      <td>0</td>\n      <td>0</td>\n      <td>0</td>\n      <td>0</td>\n      <td>0</td>\n      <td>0</td>\n    </tr>\n    <tr>\n      <th>14964</th>\n      <td>41BzKiCrKpUQHS3TP0jmdr</td>\n      <td>latin; reggaeton; reggaeton colombiano</td>\n      <td>reggaeton</td>\n      <td>0</td>\n      <td>0</td>\n      <td>0</td>\n      <td>0</td>\n      <td>0</td>\n      <td>0</td>\n      <td>0</td>\n      <td>...</td>\n      <td>0</td>\n      <td>0</td>\n      <td>0</td>\n      <td>0</td>\n      <td>0</td>\n      <td>0</td>\n      <td>0</td>\n      <td>0</td>\n      <td>0</td>\n      <td>0</td>\n    </tr>\n    <tr>\n      <th>14965</th>\n      <td>5V7mTIcXVU9k2JNu0mE6vy</td>\n      <td>neo mellow; piano rock; pixie; pop punk; pop rock</td>\n      <td>rock</td>\n      <td>1</td>\n      <td>0</td>\n      <td>0</td>\n      <td>0</td>\n      <td>0</td>\n      <td>1</td>\n      <td>0</td>\n      <td>...</td>\n      <td>0</td>\n      <td>0</td>\n      <td>0</td>\n      <td>0</td>\n      <td>0</td>\n      <td>0</td>\n      <td>0</td>\n      <td>0</td>\n      <td>0</td>\n      <td>0</td>\n    </tr>\n    <tr>\n      <th>14966</th>\n      <td>4dvQg9sD8k9y4qiEURuj8v</td>\n      <td>dance pop; girl group; hip pop; pop; r&amp;b; urba...</td>\n      <td>contemporary</td>\n      <td>1</td>\n      <td>0</td>\n      <td>0</td>\n      <td>1</td>\n      <td>0</td>\n      <td>0</td>\n      <td>1</td>\n      <td>...</td>\n      <td>1</td>\n      <td>0</td>\n      <td>0</td>\n      <td>0</td>\n      <td>0</td>\n      <td>0</td>\n      <td>0</td>\n      <td>0</td>\n      <td>0</td>\n      <td>0</td>\n    </tr>\n  </tbody>\n</table>\n<p>14967 rows × 25 columns</p>\n</div>"
     },
     "execution_count": 1,
     "metadata": {},
     "output_type": "execute_result"
    }
   ],
   "source": [
    "import os\n",
    "from pathlib import Path\n",
    "\n",
    "import numpy as np\n",
    "import pandas as pd\n",
    "from sklearn.feature_extraction.text import CountVectorizer\n",
    "\n",
    "data_path = Path(\"../../data\").resolve()\n",
    "os.makedirs(data_path, exist_ok=True)\n",
    "\n",
    "tracks_df = pd.read_parquet(data_path / \"tracks_v3.pq\")\n",
    "genres = tracks_df[\"artist_genres\"].explode().rename(\"genre\").dropna()\n",
    "\n",
    "vectorizer = CountVectorizer(ngram_range=(1, 3))\n",
    "vectorizer.fit_transform(genres)\n",
    "bag_of_words = vectorizer.transform(genres)\n",
    "sum_words = bag_of_words.sum(axis=0)\n",
    "words_freq = [(word, sum_words[0, idx]) for word, idx in vectorizer.vocabulary_.items()]\n",
    "words_freq = sorted(words_freq, key = lambda x: x[1], reverse=True)\n",
    "words_freq_df = pd.DataFrame(words_freq, columns=[\"genre\", \"count\"])\n",
    "words_freq_df[\"freq\"] = words_freq_df[\"count\"] / words_freq_df[\"count\"].sum()\n",
    "words_freq_df = words_freq_df[\n",
    "    (words_freq_df[\"genre\"] != \"hop\")\n",
    "    & (words_freq_df[\"genre\"] != \"hip\")\n",
    "]\n",
    "words_freq_df[\"pop_genre\"] = np.where(words_freq_df.index <= 23, 1, 0)\n",
    "top_word = words_freq_df[words_freq_df[\"pop_genre\"] == 1][\"genre\"].tolist()\n",
    "\n",
    "df_ = tracks_df[[\"id\", \"artist_genres\"]]\n",
    "df_[\"artist_genres\"] = df_[\"artist_genres\"].apply(lambda g: \"; \".join(list(g)) if g is not None else \"other\")\n",
    "df_[\"selected_genre\"] = \"other\"\n",
    "\n",
    "for word in top_word:\n",
    "    mask = df_[\"artist_genres\"].str.contains(word)\n",
    "    df_[word] = np.where(mask, 1, 0)\n",
    "    df_[\"selected_genre\"] = np.where(df_[\"artist_genres\"].str.contains(word), word, df_[\"selected_genre\"])\n",
    "\n",
    "df_.to_csv(data_path / \"track_genres.csv\", index=False)\n",
    "df_"
   ]
  },
  {
   "cell_type": "code",
   "execution_count": null,
   "outputs": [],
   "source": [],
   "metadata": {
    "collapsed": false,
    "pycharm": {
     "name": "#%%\n"
    }
   }
  }
 ],
 "metadata": {
  "kernelspec": {
   "display_name": "Python 3",
   "language": "python",
   "name": "python3"
  },
  "language_info": {
   "codemirror_mode": {
    "name": "ipython",
    "version": 2
   },
   "file_extension": ".py",
   "mimetype": "text/x-python",
   "name": "python",
   "nbconvert_exporter": "python",
   "pygments_lexer": "ipython2",
   "version": "2.7.6"
  }
 },
 "nbformat": 4,
 "nbformat_minor": 0
}