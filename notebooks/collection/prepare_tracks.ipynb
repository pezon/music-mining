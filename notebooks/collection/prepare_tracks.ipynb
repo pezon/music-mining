{
 "cells": [
  {
   "cell_type": "code",
   "execution_count": 4,
   "outputs": [],
   "source": [
    "import json\n",
    "import itertools\n",
    "import os\n",
    "import random\n",
    "from pathlib import Path\n",
    "from time import sleep\n",
    "\n",
    "import numpy as np\n",
    "import pandas as pd\n",
    "from dotenv import load_dotenv\n",
    "\n",
    "from spotipy import Spotify\n",
    "from spotipy.oauth2 import SpotifyClientCredentials\n",
    "\n",
    "diff_dataset = False\n",
    "\n",
    "data_path = Path(\"../../data\").resolve()\n",
    "os.makedirs(data_path, exist_ok=True)\n",
    "\n",
    "load_dotenv()\n",
    "spotify = Spotify(client_credentials_manager=SpotifyClientCredentials(),\n",
    "                  requests_timeout=10, retries=3)"
   ],
   "metadata": {
    "collapsed": false,
    "pycharm": {
     "name": "#%%\n"
    }
   }
  },
  {
   "cell_type": "code",
   "execution_count": 5,
   "metadata": {
    "collapsed": true
   },
   "outputs": [],
   "source": [
    "def fetch_spotify_chart(filepath, num_samples=1000, seed=42):\n",
    "    # currently: batshit crazy 4.3 GB spotify top200 chart CSV from kaggle: https://www.kaggle.com/general/232036\n",
    "    # @TODO: series of fetching for random date from 1/1/2017 to present day.\n",
    "    # url = \"https://spotifycharts.com/regional/global/weekly/2018-10-12--2018-10-19/download\"\n",
    "    random.seed(seed)\n",
    "    n = sum(1 for line in open(filepath)) - 1  # number of records in file (excludes header)\n",
    "    s = num_samples  # desired sample size\n",
    "    skip = sorted(random.sample(range(1, n + 1), n - s))  # the 0-indexed header will not be included in the skip list\n",
    "    df = pd.read_csv(filepath, skiprows=skip)\n",
    "    df[\"id\"] = df[\"url\"].apply(lambda url: url.split(\"/\")[-1])\n",
    "    return df\n",
    "\n",
    "\n",
    "spotify_chart_df = fetch_spotify_chart(\"/Users/pez/Downloads/charts.csv\", num_samples=15000, seed=42)"
   ]
  },
  {
   "cell_type": "code",
   "execution_count": 6,
   "outputs": [
    {
     "name": "stdout",
     "output_type": "stream",
     "text": [
      "unique tracks: 16129\n",
      "spotify chart tracks: 8063\n",
      "grammy tracks: 535\n",
      "chart2000 tracks: 3379\n",
      "random tracks: 4872\n"
     ]
    },
    {
     "data": {
      "text/plain": "86"
     },
     "execution_count": 6,
     "metadata": {},
     "output_type": "execute_result"
    }
   ],
   "source": [
    "def extract_track_ids(df, id_key=\"id\"):\n",
    "    return list(df[(~df[id_key].isnull())]\n",
    "                [id_key].to_dict().values())\n",
    "\n",
    "# track ids from spotify top 200 daily charts selected at random\n",
    "spotify_chart_track_ids = extract_track_ids(spotify_chart_df, \"id\")\n",
    "\n",
    "# track ids from grammy nominations dataset\n",
    "recording_nominations_df = pd.read_parquet(data_path / \"raw/recording_nominations.pq\")\n",
    "recording_nominations_track_ids = extract_track_ids(recording_nominations_df, \"spotify_track_id\")\n",
    "\n",
    "# track ids from chart2000 dataset\n",
    "song_chart_df = pd.read_parquet(data_path / \"raw/song_chart_by_month.pq\")\n",
    "song_chart_track_ids = extract_track_ids(song_chart_df, \"spotify_track_id\")\n",
    "\n",
    "# track ids from random table\n",
    "random_tracks_df = pd.read_csv(data_path / \"random_track_ids.csv\")\n",
    "random_track_ids = extract_track_ids(random_tracks_df, \"track_id\")\n",
    "\n",
    "# combine track ids and deduplicate\n",
    "track_ids = list(set(\n",
    "    recording_nominations_track_ids\n",
    "    + song_chart_track_ids\n",
    "    + spotify_chart_track_ids\n",
    "    + random_track_ids\n",
    "))\n",
    "\n",
    "print(f\"unique tracks: {len(track_ids)}\")\n",
    "print(f\"spotify chart tracks: {len(set(spotify_chart_track_ids))}\")\n",
    "print(f\"grammy tracks: {len(set(recording_nominations_track_ids))}\")\n",
    "print(f\"chart2000 tracks: {len(set(song_chart_track_ids))}\")\n",
    "print(f\"random tracks: {len(set(random_track_ids))}\")\n",
    "\n",
    "# how many new unique tracks have we added with additional random tracks?\n",
    "track_ids_ = list(set(\n",
    "    recording_nominations_track_ids\n",
    "    + song_chart_track_ids\n",
    "    + spotify_chart_track_ids\n",
    "))\n",
    "len(set(track_ids_) & set(random_track_ids))"
   ],
   "metadata": {
    "collapsed": false,
    "pycharm": {
     "name": "#%%\n"
    }
   }
  },
  {
   "cell_type": "code",
   "execution_count": 7,
   "outputs": [
    {
     "name": "stdout",
     "output_type": "stream",
     "text": [
      "fetching track metadata: 0 (0.00)\n",
      "fetching track metadata: 500 (3.10)\n",
      "fetching track metadata: 1000 (6.20)\n",
      "fetching track metadata: 1500 (9.30)\n",
      "fetching track metadata: 2000 (12.40)\n",
      "fetching track metadata: 2500 (15.50)\n",
      "fetching track metadata: 3000 (18.60)\n",
      "fetching track metadata: 3500 (21.70)\n",
      "fetching track metadata: 4000 (24.80)\n",
      "fetching track metadata: 4500 (27.90)\n",
      "fetching track metadata: 5000 (31.00)\n",
      "fetching track metadata: 5500 (34.10)\n",
      "fetching track metadata: 6000 (37.20)\n",
      "fetching track metadata: 6500 (40.30)\n",
      "fetching track metadata: 7000 (43.40)\n",
      "fetching track metadata: 7500 (46.50)\n",
      "fetching track metadata: 8000 (49.60)\n",
      "fetching track metadata: 8500 (52.70)\n",
      "fetching track metadata: 9000 (55.80)\n",
      "fetching track metadata: 9500 (58.90)\n",
      "fetching track metadata: 10000 (62.00)\n",
      "fetching track metadata: 10500 (65.10)\n",
      "fetching track metadata: 11000 (68.20)\n",
      "fetching track metadata: 11500 (71.30)\n",
      "fetching track metadata: 12000 (74.40)\n",
      "fetching track metadata: 12500 (77.50)\n",
      "fetching track metadata: 13000 (80.60)\n",
      "fetching track metadata: 13500 (83.70)\n",
      "fetching track metadata: 14000 (86.80)\n",
      "fetching track metadata: 14500 (89.90)\n",
      "fetching track metadata: 15000 (93.00)\n",
      "fetching track metadata: 15500 (96.10)\n",
      "fetching track metadata: 16000 (99.20)\n",
      "(16129, 27)\n"
     ]
    },
    {
     "data": {
      "text/plain": "                       id                                       name  \\\n0  10iesoGb4mCYTcur1QfdO9                                       JCVD   \n1  0DlHQxrVijRqVUfuS6PKaY              Deixa de Onda (Porra Nenhuma)   \n2  2QtM6ZVLx13TBOO1iwmXYy  Cubra Libre Bar - Café Buddha del Mar Mix   \n3  27hFQQS3cVUmIK3ser5bpu                          More Than Gravity   \n4  1YcqYmviKagJ68DOmjSWQW                                  Tojo Tojo   \n\n                                               album                album_id  \\\n0                                      Rien 100 Rien  2GLuHlc49dJKY8yzxUZb8p   \n1                      Deixa de Onda (Porra Nenhuma)  1fjkJADMiiZWMDusZSMNix   \n2  Hotel Paradise del Mar (Chill Out Lounge Café ...  3wsWiiFbTF3TpC41yStCTL   \n3                                  More Than Gravity  4kcSIHj40oMyfHgMG6XAmO   \n4                                          Tojo Tojo  58NV8EvCFPHWwi7HHdVqSy   \n\n                                artists  \\\n0                               [\"Jul\"]   \n1   [\"DENNIS\", \"Xam\\u00e3\", \"LUDMILLA\"]   \n2                    [\"Mark Bareilles\"]   \n3                  [\"Colin & Caroline\"]   \n4  [\"Robin Zoot\", \"Nik Tendo\", \"Karlo\"]   \n\n                                          artist_ids  track_number  \\\n0                         [\"3IW7ScrzXmPvZhB27hmfgy\"]             2   \n1  [\"6xlRSRMLgZbsSNd0BMobwy\", \"5YwzDz4RJfTiMHS4td...             1   \n2                         [\"22PKRoZlEMpKexRXSLStVP\"]            12   \n3                         [\"2Y4125mDrgQyPD7dt76Rtm\"]             1   \n4  [\"28oxY7ZfDt1BJFf8FVfpEh\", \"6gvVFtkTV4OCyQSCzG...             1   \n\n   disc_number  explicit  duration_ms  ...  key loudness  mode  speechiness  \\\n0            1      True       194266  ...  7.0   -5.873   0.0       0.0340   \n1            1      True       184999  ...  9.0   -4.622   1.0       0.0469   \n2            1     False       332068  ...  9.0  -13.140   0.0       0.0392   \n3            1     False       266078  ...  4.0   -9.648   1.0       0.0268   \n4            1      True       197010  ...  2.0   -6.595   1.0       0.4650   \n\n  acousticness  instrumentalness  liveness  valence    tempo  time_signature  \n0        0.479          0.000003     0.068    0.895  130.050             4.0  \n1        0.290          0.000000     0.312    0.654  135.036             4.0  \n2        0.823          0.912000     0.111    0.450   79.988             4.0  \n3        0.715          0.000039     0.106    0.217  110.969             4.0  \n4        0.186          0.000000     0.109    0.732  147.586             4.0  \n\n[5 rows x 27 columns]",
      "text/html": "<div>\n<style scoped>\n    .dataframe tbody tr th:only-of-type {\n        vertical-align: middle;\n    }\n\n    .dataframe tbody tr th {\n        vertical-align: top;\n    }\n\n    .dataframe thead th {\n        text-align: right;\n    }\n</style>\n<table border=\"1\" class=\"dataframe\">\n  <thead>\n    <tr style=\"text-align: right;\">\n      <th></th>\n      <th>id</th>\n      <th>name</th>\n      <th>album</th>\n      <th>album_id</th>\n      <th>artists</th>\n      <th>artist_ids</th>\n      <th>track_number</th>\n      <th>disc_number</th>\n      <th>explicit</th>\n      <th>duration_ms</th>\n      <th>...</th>\n      <th>key</th>\n      <th>loudness</th>\n      <th>mode</th>\n      <th>speechiness</th>\n      <th>acousticness</th>\n      <th>instrumentalness</th>\n      <th>liveness</th>\n      <th>valence</th>\n      <th>tempo</th>\n      <th>time_signature</th>\n    </tr>\n  </thead>\n  <tbody>\n    <tr>\n      <th>0</th>\n      <td>10iesoGb4mCYTcur1QfdO9</td>\n      <td>JCVD</td>\n      <td>Rien 100 Rien</td>\n      <td>2GLuHlc49dJKY8yzxUZb8p</td>\n      <td>[\"Jul\"]</td>\n      <td>[\"3IW7ScrzXmPvZhB27hmfgy\"]</td>\n      <td>2</td>\n      <td>1</td>\n      <td>True</td>\n      <td>194266</td>\n      <td>...</td>\n      <td>7.0</td>\n      <td>-5.873</td>\n      <td>0.0</td>\n      <td>0.0340</td>\n      <td>0.479</td>\n      <td>0.000003</td>\n      <td>0.068</td>\n      <td>0.895</td>\n      <td>130.050</td>\n      <td>4.0</td>\n    </tr>\n    <tr>\n      <th>1</th>\n      <td>0DlHQxrVijRqVUfuS6PKaY</td>\n      <td>Deixa de Onda (Porra Nenhuma)</td>\n      <td>Deixa de Onda (Porra Nenhuma)</td>\n      <td>1fjkJADMiiZWMDusZSMNix</td>\n      <td>[\"DENNIS\", \"Xam\\u00e3\", \"LUDMILLA\"]</td>\n      <td>[\"6xlRSRMLgZbsSNd0BMobwy\", \"5YwzDz4RJfTiMHS4td...</td>\n      <td>1</td>\n      <td>1</td>\n      <td>True</td>\n      <td>184999</td>\n      <td>...</td>\n      <td>9.0</td>\n      <td>-4.622</td>\n      <td>1.0</td>\n      <td>0.0469</td>\n      <td>0.290</td>\n      <td>0.000000</td>\n      <td>0.312</td>\n      <td>0.654</td>\n      <td>135.036</td>\n      <td>4.0</td>\n    </tr>\n    <tr>\n      <th>2</th>\n      <td>2QtM6ZVLx13TBOO1iwmXYy</td>\n      <td>Cubra Libre Bar - Café Buddha del Mar Mix</td>\n      <td>Hotel Paradise del Mar (Chill Out Lounge Café ...</td>\n      <td>3wsWiiFbTF3TpC41yStCTL</td>\n      <td>[\"Mark Bareilles\"]</td>\n      <td>[\"22PKRoZlEMpKexRXSLStVP\"]</td>\n      <td>12</td>\n      <td>1</td>\n      <td>False</td>\n      <td>332068</td>\n      <td>...</td>\n      <td>9.0</td>\n      <td>-13.140</td>\n      <td>0.0</td>\n      <td>0.0392</td>\n      <td>0.823</td>\n      <td>0.912000</td>\n      <td>0.111</td>\n      <td>0.450</td>\n      <td>79.988</td>\n      <td>4.0</td>\n    </tr>\n    <tr>\n      <th>3</th>\n      <td>27hFQQS3cVUmIK3ser5bpu</td>\n      <td>More Than Gravity</td>\n      <td>More Than Gravity</td>\n      <td>4kcSIHj40oMyfHgMG6XAmO</td>\n      <td>[\"Colin &amp; Caroline\"]</td>\n      <td>[\"2Y4125mDrgQyPD7dt76Rtm\"]</td>\n      <td>1</td>\n      <td>1</td>\n      <td>False</td>\n      <td>266078</td>\n      <td>...</td>\n      <td>4.0</td>\n      <td>-9.648</td>\n      <td>1.0</td>\n      <td>0.0268</td>\n      <td>0.715</td>\n      <td>0.000039</td>\n      <td>0.106</td>\n      <td>0.217</td>\n      <td>110.969</td>\n      <td>4.0</td>\n    </tr>\n    <tr>\n      <th>4</th>\n      <td>1YcqYmviKagJ68DOmjSWQW</td>\n      <td>Tojo Tojo</td>\n      <td>Tojo Tojo</td>\n      <td>58NV8EvCFPHWwi7HHdVqSy</td>\n      <td>[\"Robin Zoot\", \"Nik Tendo\", \"Karlo\"]</td>\n      <td>[\"28oxY7ZfDt1BJFf8FVfpEh\", \"6gvVFtkTV4OCyQSCzG...</td>\n      <td>1</td>\n      <td>1</td>\n      <td>True</td>\n      <td>197010</td>\n      <td>...</td>\n      <td>2.0</td>\n      <td>-6.595</td>\n      <td>1.0</td>\n      <td>0.4650</td>\n      <td>0.186</td>\n      <td>0.000000</td>\n      <td>0.109</td>\n      <td>0.732</td>\n      <td>147.586</td>\n      <td>4.0</td>\n    </tr>\n  </tbody>\n</table>\n<p>5 rows × 27 columns</p>\n</div>"
     },
     "execution_count": 7,
     "metadata": {},
     "output_type": "execute_result"
    }
   ],
   "source": [
    "def fetch_bulk_track_features(track_ids):\n",
    "    fetched_tracks = []\n",
    "    for i in range(0, len(track_ids), 50):\n",
    "        chunk = track_ids[i:i + 50]\n",
    "        if i % 500 == 0:\n",
    "            print(f\"fetching track metadata: {i} ({i / len(track_ids) * 100:.2f})\")\n",
    "        tracks = spotify.tracks(chunk)[\"tracks\"]\n",
    "        sleep(.50)\n",
    "        track_audio_features = spotify.audio_features(chunk)\n",
    "        sleep(.50)\n",
    "        for track, audio_features in zip(tracks, track_audio_features):\n",
    "            track_ = {\n",
    "                \"id\": track[\"id\"],\n",
    "                \"name\": track[\"name\"],\n",
    "                \"album\": track[\"album\"][\"name\"],\n",
    "                \"album_id\": track[\"album\"][\"id\"],\n",
    "                \"artists\": json.dumps([a[\"name\"] for a in track[\"artists\"]]),\n",
    "                \"artist_ids\": json.dumps([a[\"id\"] for a in track[\"artists\"]]),\n",
    "                \"track_number\": track[\"track_number\"],\n",
    "                \"disc_number\": track[\"disc_number\"],\n",
    "                \"explicit\": track[\"explicit\"],\n",
    "                \"duration_ms\": track[\"duration_ms\"],\n",
    "                \"year\": int(track[\"album\"][\"release_date\"][0:4]),\n",
    "                \"release_date\": track[\"album\"][\"release_date\"],\n",
    "                \"popularity\": track[\"popularity\"],\n",
    "                \"audio_features\": 0,\n",
    "                \"isrc\": track.get(\"external_ids\", {}).get(\"isrc\")\n",
    "            }\n",
    "            if audio_features is not None:\n",
    "                track_.update({\n",
    "                    \"audio_features\": 1,\n",
    "                    \"danceability\": audio_features[\"danceability\"],\n",
    "                    \"energy\": audio_features[\"energy\"],\n",
    "                    \"key\": audio_features[\"key\"],\n",
    "                    \"loudness\": audio_features[\"loudness\"],\n",
    "                    \"mode\": audio_features[\"mode\"],\n",
    "                    \"speechiness\": audio_features[\"speechiness\"],\n",
    "                    \"acousticness\": audio_features[\"acousticness\"],\n",
    "                    \"instrumentalness\": audio_features[\"instrumentalness\"],\n",
    "                    \"liveness\": audio_features[\"liveness\"],\n",
    "                    \"valence\": audio_features[\"valence\"],\n",
    "                    \"tempo\": audio_features[\"tempo\"],\n",
    "                    \"time_signature\": audio_features[\"time_signature\"],\n",
    "                })\n",
    "            fetched_tracks.append(track_)\n",
    "    return pd.DataFrame(fetched_tracks)\n",
    "\n",
    "\n",
    "tracks_df = fetch_bulk_track_features(track_ids)\n",
    "print(tracks_df.shape)\n",
    "tracks_df.head()"
   ],
   "metadata": {
    "collapsed": false,
    "pycharm": {
     "name": "#%%\n"
    }
   }
  },
  {
   "cell_type": "code",
   "execution_count": 8,
   "outputs": [
    {
     "name": "stdout",
     "output_type": "stream",
     "text": [
      "(16129, 32)\n"
     ]
    },
    {
     "data": {
      "text/plain": "                       id                                       name  \\\n0  10iesoGb4mCYTcur1QfdO9                                       JCVD   \n1  0DlHQxrVijRqVUfuS6PKaY              Deixa de Onda (Porra Nenhuma)   \n2  2QtM6ZVLx13TBOO1iwmXYy  Cubra Libre Bar - Café Buddha del Mar Mix   \n3  27hFQQS3cVUmIK3ser5bpu                          More Than Gravity   \n4  1YcqYmviKagJ68DOmjSWQW                                  Tojo Tojo   \n\n                                               album                album_id  \\\n0                                      Rien 100 Rien  2GLuHlc49dJKY8yzxUZb8p   \n1                      Deixa de Onda (Porra Nenhuma)  1fjkJADMiiZWMDusZSMNix   \n2  Hotel Paradise del Mar (Chill Out Lounge Café ...  3wsWiiFbTF3TpC41yStCTL   \n3                                  More Than Gravity  4kcSIHj40oMyfHgMG6XAmO   \n4                                          Tojo Tojo  58NV8EvCFPHWwi7HHdVqSy   \n\n                                artists  \\\n0                               [\"Jul\"]   \n1   [\"DENNIS\", \"Xam\\u00e3\", \"LUDMILLA\"]   \n2                    [\"Mark Bareilles\"]   \n3                  [\"Colin & Caroline\"]   \n4  [\"Robin Zoot\", \"Nik Tendo\", \"Karlo\"]   \n\n                                          artist_ids  track_number  \\\n0                         [\"3IW7ScrzXmPvZhB27hmfgy\"]             2   \n1  [\"6xlRSRMLgZbsSNd0BMobwy\", \"5YwzDz4RJfTiMHS4td...             1   \n2                         [\"22PKRoZlEMpKexRXSLStVP\"]            12   \n3                         [\"2Y4125mDrgQyPD7dt76Rtm\"]             1   \n4  [\"28oxY7ZfDt1BJFf8FVfpEh\", \"6gvVFtkTV4OCyQSCzG...             1   \n\n   disc_number  explicit  duration_ms  ...  instrumentalness liveness  \\\n0            1      True       194266  ...          0.000003    0.068   \n1            1      True       184999  ...          0.000000    0.312   \n2            1     False       332068  ...          0.912000    0.111   \n3            1     False       266078  ...          0.000039    0.106   \n4            1      True       197010  ...          0.000000    0.109   \n\n   valence    tempo time_signature  track_chart_months  \\\n0    0.895  130.050            4.0                 0.0   \n1    0.654  135.036            4.0                 0.0   \n2    0.450   79.988            4.0                 0.0   \n3    0.217  110.969            4.0                 0.0   \n4    0.732  147.586            4.0                 0.0   \n\n   track_chart_indicativerevenue  track_chart_peak  track_chart_mean  \\\n0                            0.0               NaN               NaN   \n1                            0.0               NaN               NaN   \n2                            0.0               NaN               NaN   \n3                            0.0               NaN               NaN   \n4                            0.0               NaN               NaN   \n\n   track_chart_median  \n0                 NaN  \n1                 NaN  \n2                 NaN  \n3                 NaN  \n4                 NaN  \n\n[5 rows x 32 columns]",
      "text/html": "<div>\n<style scoped>\n    .dataframe tbody tr th:only-of-type {\n        vertical-align: middle;\n    }\n\n    .dataframe tbody tr th {\n        vertical-align: top;\n    }\n\n    .dataframe thead th {\n        text-align: right;\n    }\n</style>\n<table border=\"1\" class=\"dataframe\">\n  <thead>\n    <tr style=\"text-align: right;\">\n      <th></th>\n      <th>id</th>\n      <th>name</th>\n      <th>album</th>\n      <th>album_id</th>\n      <th>artists</th>\n      <th>artist_ids</th>\n      <th>track_number</th>\n      <th>disc_number</th>\n      <th>explicit</th>\n      <th>duration_ms</th>\n      <th>...</th>\n      <th>instrumentalness</th>\n      <th>liveness</th>\n      <th>valence</th>\n      <th>tempo</th>\n      <th>time_signature</th>\n      <th>track_chart_months</th>\n      <th>track_chart_indicativerevenue</th>\n      <th>track_chart_peak</th>\n      <th>track_chart_mean</th>\n      <th>track_chart_median</th>\n    </tr>\n  </thead>\n  <tbody>\n    <tr>\n      <th>0</th>\n      <td>10iesoGb4mCYTcur1QfdO9</td>\n      <td>JCVD</td>\n      <td>Rien 100 Rien</td>\n      <td>2GLuHlc49dJKY8yzxUZb8p</td>\n      <td>[\"Jul\"]</td>\n      <td>[\"3IW7ScrzXmPvZhB27hmfgy\"]</td>\n      <td>2</td>\n      <td>1</td>\n      <td>True</td>\n      <td>194266</td>\n      <td>...</td>\n      <td>0.000003</td>\n      <td>0.068</td>\n      <td>0.895</td>\n      <td>130.050</td>\n      <td>4.0</td>\n      <td>0.0</td>\n      <td>0.0</td>\n      <td>NaN</td>\n      <td>NaN</td>\n      <td>NaN</td>\n    </tr>\n    <tr>\n      <th>1</th>\n      <td>0DlHQxrVijRqVUfuS6PKaY</td>\n      <td>Deixa de Onda (Porra Nenhuma)</td>\n      <td>Deixa de Onda (Porra Nenhuma)</td>\n      <td>1fjkJADMiiZWMDusZSMNix</td>\n      <td>[\"DENNIS\", \"Xam\\u00e3\", \"LUDMILLA\"]</td>\n      <td>[\"6xlRSRMLgZbsSNd0BMobwy\", \"5YwzDz4RJfTiMHS4td...</td>\n      <td>1</td>\n      <td>1</td>\n      <td>True</td>\n      <td>184999</td>\n      <td>...</td>\n      <td>0.000000</td>\n      <td>0.312</td>\n      <td>0.654</td>\n      <td>135.036</td>\n      <td>4.0</td>\n      <td>0.0</td>\n      <td>0.0</td>\n      <td>NaN</td>\n      <td>NaN</td>\n      <td>NaN</td>\n    </tr>\n    <tr>\n      <th>2</th>\n      <td>2QtM6ZVLx13TBOO1iwmXYy</td>\n      <td>Cubra Libre Bar - Café Buddha del Mar Mix</td>\n      <td>Hotel Paradise del Mar (Chill Out Lounge Café ...</td>\n      <td>3wsWiiFbTF3TpC41yStCTL</td>\n      <td>[\"Mark Bareilles\"]</td>\n      <td>[\"22PKRoZlEMpKexRXSLStVP\"]</td>\n      <td>12</td>\n      <td>1</td>\n      <td>False</td>\n      <td>332068</td>\n      <td>...</td>\n      <td>0.912000</td>\n      <td>0.111</td>\n      <td>0.450</td>\n      <td>79.988</td>\n      <td>4.0</td>\n      <td>0.0</td>\n      <td>0.0</td>\n      <td>NaN</td>\n      <td>NaN</td>\n      <td>NaN</td>\n    </tr>\n    <tr>\n      <th>3</th>\n      <td>27hFQQS3cVUmIK3ser5bpu</td>\n      <td>More Than Gravity</td>\n      <td>More Than Gravity</td>\n      <td>4kcSIHj40oMyfHgMG6XAmO</td>\n      <td>[\"Colin &amp; Caroline\"]</td>\n      <td>[\"2Y4125mDrgQyPD7dt76Rtm\"]</td>\n      <td>1</td>\n      <td>1</td>\n      <td>False</td>\n      <td>266078</td>\n      <td>...</td>\n      <td>0.000039</td>\n      <td>0.106</td>\n      <td>0.217</td>\n      <td>110.969</td>\n      <td>4.0</td>\n      <td>0.0</td>\n      <td>0.0</td>\n      <td>NaN</td>\n      <td>NaN</td>\n      <td>NaN</td>\n    </tr>\n    <tr>\n      <th>4</th>\n      <td>1YcqYmviKagJ68DOmjSWQW</td>\n      <td>Tojo Tojo</td>\n      <td>Tojo Tojo</td>\n      <td>58NV8EvCFPHWwi7HHdVqSy</td>\n      <td>[\"Robin Zoot\", \"Nik Tendo\", \"Karlo\"]</td>\n      <td>[\"28oxY7ZfDt1BJFf8FVfpEh\", \"6gvVFtkTV4OCyQSCzG...</td>\n      <td>1</td>\n      <td>1</td>\n      <td>True</td>\n      <td>197010</td>\n      <td>...</td>\n      <td>0.000000</td>\n      <td>0.109</td>\n      <td>0.732</td>\n      <td>147.586</td>\n      <td>4.0</td>\n      <td>0.0</td>\n      <td>0.0</td>\n      <td>NaN</td>\n      <td>NaN</td>\n      <td>NaN</td>\n    </tr>\n  </tbody>\n</table>\n<p>5 rows × 32 columns</p>\n</div>"
     },
     "execution_count": 8,
     "metadata": {},
     "output_type": "execute_result"
    }
   ],
   "source": [
    "def with_track_charting_summary(df, song_chart_df):\n",
    "    song_chart_df = song_chart_df.rename(columns={\n",
    "        \"spotify_artist_id\": \"artist_id\",\n",
    "        \"spotify_track_id\": \"id\"\n",
    "    })\n",
    "    song_chart_df[\"chart_months\"] = 1\n",
    "    song_chart_df = (\n",
    "        song_chart_df\n",
    "            .sort_values(by=[\"id\"])\n",
    "            .groupby([\"id\"])\n",
    "            .aggregate({\n",
    "                \"chart_months\": \"sum\",\n",
    "                \"indicativerevenue\": \"sum\",\n",
    "                \"position\": [\"min\", \"mean\", \"median\"],\n",
    "            })\n",
    "            .reset_index()\n",
    "            .set_axis([\"id\", \"track_chart_months\", \"track_chart_indicativerevenue\", \"track_chart_peak\", \"track_chart_mean\", \"track_chart_median\"], axis=1)\n",
    "    )\n",
    "\n",
    "    df = pd.merge(df, song_chart_df, on=\"id\", how=\"left\")\n",
    "    df[\"track_chart_months\"] = df[\"track_chart_months\"].fillna(0)\n",
    "    df[\"track_chart_indicativerevenue\"] = df[\"track_chart_indicativerevenue\"].fillna(0)\n",
    "    return df\n",
    "\n",
    "\n",
    "drop_columns = [col for col in tracks_df.columns if col.startswith(\"track_chart_\")]\n",
    "tracks_df = tracks_df.drop(columns=drop_columns)\n",
    "\n",
    "song_chart_df = pd.read_parquet(data_path / \"raw/song_chart_by_month.pq\")\n",
    "tracks_df = with_track_charting_summary(tracks_df, song_chart_df)\n",
    "print(tracks_df.shape)\n",
    "tracks_df.head()"
   ],
   "metadata": {
    "collapsed": false,
    "pycharm": {
     "name": "#%%\n"
    }
   }
  },
  {
   "cell_type": "code",
   "execution_count": 9,
   "outputs": [
    {
     "name": "stdout",
     "output_type": "stream",
     "text": [
      "(16129, 35)\n"
     ]
    },
    {
     "data": {
      "text/plain": "                       id                                       name  \\\n0  10iesoGb4mCYTcur1QfdO9                                       JCVD   \n1  0DlHQxrVijRqVUfuS6PKaY              Deixa de Onda (Porra Nenhuma)   \n2  2QtM6ZVLx13TBOO1iwmXYy  Cubra Libre Bar - Café Buddha del Mar Mix   \n3  27hFQQS3cVUmIK3ser5bpu                          More Than Gravity   \n4  1YcqYmviKagJ68DOmjSWQW                                  Tojo Tojo   \n\n                                               album                album_id  \\\n0                                      Rien 100 Rien  2GLuHlc49dJKY8yzxUZb8p   \n1                      Deixa de Onda (Porra Nenhuma)  1fjkJADMiiZWMDusZSMNix   \n2  Hotel Paradise del Mar (Chill Out Lounge Café ...  3wsWiiFbTF3TpC41yStCTL   \n3                                  More Than Gravity  4kcSIHj40oMyfHgMG6XAmO   \n4                                          Tojo Tojo  58NV8EvCFPHWwi7HHdVqSy   \n\n                                artists  \\\n0                               [\"Jul\"]   \n1   [\"DENNIS\", \"Xam\\u00e3\", \"LUDMILLA\"]   \n2                    [\"Mark Bareilles\"]   \n3                  [\"Colin & Caroline\"]   \n4  [\"Robin Zoot\", \"Nik Tendo\", \"Karlo\"]   \n\n                                          artist_ids  track_number  \\\n0                         [\"3IW7ScrzXmPvZhB27hmfgy\"]             2   \n1  [\"6xlRSRMLgZbsSNd0BMobwy\", \"5YwzDz4RJfTiMHS4td...             1   \n2                         [\"22PKRoZlEMpKexRXSLStVP\"]            12   \n3                         [\"2Y4125mDrgQyPD7dt76Rtm\"]             1   \n4  [\"28oxY7ZfDt1BJFf8FVfpEh\", \"6gvVFtkTV4OCyQSCzG...             1   \n\n   disc_number  explicit  duration_ms  ...    tempo time_signature  \\\n0            1      True       194266  ...  130.050            4.0   \n1            1      True       184999  ...  135.036            4.0   \n2            1     False       332068  ...   79.988            4.0   \n3            1     False       266078  ...  110.969            4.0   \n4            1      True       197010  ...  147.586            4.0   \n\n   track_chart_months  track_chart_indicativerevenue track_chart_peak  \\\n0                 0.0                            0.0              NaN   \n1                 0.0                            0.0              NaN   \n2                 0.0                            0.0              NaN   \n3                 0.0                            0.0              NaN   \n4                 0.0                            0.0              NaN   \n\n   track_chart_mean  track_chart_median  recording_award_category  \\\n0               NaN                 NaN                       NaN   \n1               NaN                 NaN                       NaN   \n2               NaN                 NaN                       NaN   \n3               NaN                 NaN                       NaN   \n4               NaN                 NaN                       NaN   \n\n   recording_award_nominee  recording_award_winner  \n0                      0.0                     0.0  \n1                      0.0                     0.0  \n2                      0.0                     0.0  \n3                      0.0                     0.0  \n4                      0.0                     0.0  \n\n[5 rows x 35 columns]",
      "text/html": "<div>\n<style scoped>\n    .dataframe tbody tr th:only-of-type {\n        vertical-align: middle;\n    }\n\n    .dataframe tbody tr th {\n        vertical-align: top;\n    }\n\n    .dataframe thead th {\n        text-align: right;\n    }\n</style>\n<table border=\"1\" class=\"dataframe\">\n  <thead>\n    <tr style=\"text-align: right;\">\n      <th></th>\n      <th>id</th>\n      <th>name</th>\n      <th>album</th>\n      <th>album_id</th>\n      <th>artists</th>\n      <th>artist_ids</th>\n      <th>track_number</th>\n      <th>disc_number</th>\n      <th>explicit</th>\n      <th>duration_ms</th>\n      <th>...</th>\n      <th>tempo</th>\n      <th>time_signature</th>\n      <th>track_chart_months</th>\n      <th>track_chart_indicativerevenue</th>\n      <th>track_chart_peak</th>\n      <th>track_chart_mean</th>\n      <th>track_chart_median</th>\n      <th>recording_award_category</th>\n      <th>recording_award_nominee</th>\n      <th>recording_award_winner</th>\n    </tr>\n  </thead>\n  <tbody>\n    <tr>\n      <th>0</th>\n      <td>10iesoGb4mCYTcur1QfdO9</td>\n      <td>JCVD</td>\n      <td>Rien 100 Rien</td>\n      <td>2GLuHlc49dJKY8yzxUZb8p</td>\n      <td>[\"Jul\"]</td>\n      <td>[\"3IW7ScrzXmPvZhB27hmfgy\"]</td>\n      <td>2</td>\n      <td>1</td>\n      <td>True</td>\n      <td>194266</td>\n      <td>...</td>\n      <td>130.050</td>\n      <td>4.0</td>\n      <td>0.0</td>\n      <td>0.0</td>\n      <td>NaN</td>\n      <td>NaN</td>\n      <td>NaN</td>\n      <td>NaN</td>\n      <td>0.0</td>\n      <td>0.0</td>\n    </tr>\n    <tr>\n      <th>1</th>\n      <td>0DlHQxrVijRqVUfuS6PKaY</td>\n      <td>Deixa de Onda (Porra Nenhuma)</td>\n      <td>Deixa de Onda (Porra Nenhuma)</td>\n      <td>1fjkJADMiiZWMDusZSMNix</td>\n      <td>[\"DENNIS\", \"Xam\\u00e3\", \"LUDMILLA\"]</td>\n      <td>[\"6xlRSRMLgZbsSNd0BMobwy\", \"5YwzDz4RJfTiMHS4td...</td>\n      <td>1</td>\n      <td>1</td>\n      <td>True</td>\n      <td>184999</td>\n      <td>...</td>\n      <td>135.036</td>\n      <td>4.0</td>\n      <td>0.0</td>\n      <td>0.0</td>\n      <td>NaN</td>\n      <td>NaN</td>\n      <td>NaN</td>\n      <td>NaN</td>\n      <td>0.0</td>\n      <td>0.0</td>\n    </tr>\n    <tr>\n      <th>2</th>\n      <td>2QtM6ZVLx13TBOO1iwmXYy</td>\n      <td>Cubra Libre Bar - Café Buddha del Mar Mix</td>\n      <td>Hotel Paradise del Mar (Chill Out Lounge Café ...</td>\n      <td>3wsWiiFbTF3TpC41yStCTL</td>\n      <td>[\"Mark Bareilles\"]</td>\n      <td>[\"22PKRoZlEMpKexRXSLStVP\"]</td>\n      <td>12</td>\n      <td>1</td>\n      <td>False</td>\n      <td>332068</td>\n      <td>...</td>\n      <td>79.988</td>\n      <td>4.0</td>\n      <td>0.0</td>\n      <td>0.0</td>\n      <td>NaN</td>\n      <td>NaN</td>\n      <td>NaN</td>\n      <td>NaN</td>\n      <td>0.0</td>\n      <td>0.0</td>\n    </tr>\n    <tr>\n      <th>3</th>\n      <td>27hFQQS3cVUmIK3ser5bpu</td>\n      <td>More Than Gravity</td>\n      <td>More Than Gravity</td>\n      <td>4kcSIHj40oMyfHgMG6XAmO</td>\n      <td>[\"Colin &amp; Caroline\"]</td>\n      <td>[\"2Y4125mDrgQyPD7dt76Rtm\"]</td>\n      <td>1</td>\n      <td>1</td>\n      <td>False</td>\n      <td>266078</td>\n      <td>...</td>\n      <td>110.969</td>\n      <td>4.0</td>\n      <td>0.0</td>\n      <td>0.0</td>\n      <td>NaN</td>\n      <td>NaN</td>\n      <td>NaN</td>\n      <td>NaN</td>\n      <td>0.0</td>\n      <td>0.0</td>\n    </tr>\n    <tr>\n      <th>4</th>\n      <td>1YcqYmviKagJ68DOmjSWQW</td>\n      <td>Tojo Tojo</td>\n      <td>Tojo Tojo</td>\n      <td>58NV8EvCFPHWwi7HHdVqSy</td>\n      <td>[\"Robin Zoot\", \"Nik Tendo\", \"Karlo\"]</td>\n      <td>[\"28oxY7ZfDt1BJFf8FVfpEh\", \"6gvVFtkTV4OCyQSCzG...</td>\n      <td>1</td>\n      <td>1</td>\n      <td>True</td>\n      <td>197010</td>\n      <td>...</td>\n      <td>147.586</td>\n      <td>4.0</td>\n      <td>0.0</td>\n      <td>0.0</td>\n      <td>NaN</td>\n      <td>NaN</td>\n      <td>NaN</td>\n      <td>NaN</td>\n      <td>0.0</td>\n      <td>0.0</td>\n    </tr>\n  </tbody>\n</table>\n<p>5 rows × 35 columns</p>\n</div>"
     },
     "execution_count": 9,
     "metadata": {},
     "output_type": "execute_result"
    }
   ],
   "source": [
    "def with_recording_nominations(df, recording_nominations_df):\n",
    "    recording_nominations_df = (\n",
    "        recording_nominations_df[[\n",
    "                \"award_category\",\n",
    "                \"award_nominee\",\n",
    "                \"award_winner\",\n",
    "                \"spotify_track_id\",\n",
    "            ]]\n",
    "            .groupby([\"spotify_track_id\"])\n",
    "            .aggregate({\n",
    "                \"award_category\": \"max\",\n",
    "                \"award_nominee\": \"sum\",\n",
    "                \"award_winner\": \"sum\",\n",
    "            })\n",
    "            .reset_index()\n",
    "            .drop_duplicates(subset=[\"spotify_track_id\"])\n",
    "            .rename(columns={\n",
    "                \"spotify_track_id\": \"id\",\n",
    "                \"award_category\": \"recording_award_category\",\n",
    "                \"award_nominee\": \"recording_award_nominee\",\n",
    "                \"award_winner\": \"recording_award_winner\",\n",
    "            })\n",
    "    )\n",
    "    df = pd.merge(df, recording_nominations_df, on=\"id\", how=\"outer\")\n",
    "    df[\"recording_award_nominee\"] = df[\"recording_award_nominee\"].fillna(0)\n",
    "    df[\"recording_award_winner\"] = df[\"recording_award_winner\"].fillna(0)\n",
    "    return df\n",
    "\n",
    "\n",
    "drop_columns = [col for col in tracks_df.columns if col.startswith(\"recording_award_\")]\n",
    "tracks_df = tracks_df.drop(columns=drop_columns)\n",
    "\n",
    "recording_nominations_df = pd.read_parquet(data_path / \"raw/recording_nominations.pq\")\n",
    "tracks_df = with_recording_nominations(tracks_df, recording_nominations_df)\n",
    "print(tracks_df.shape)\n",
    "tracks_df.head()"
   ],
   "metadata": {
    "collapsed": false,
    "pycharm": {
     "name": "#%%\n"
    }
   }
  },
  {
   "cell_type": "code",
   "execution_count": 10,
   "outputs": [
    {
     "name": "stdout",
     "output_type": "stream",
     "text": [
      "(16129, 38)\n"
     ]
    },
    {
     "data": {
      "text/plain": "                       id                                       name  \\\n0  10iesoGb4mCYTcur1QfdO9                                       JCVD   \n1  0DlHQxrVijRqVUfuS6PKaY              Deixa de Onda (Porra Nenhuma)   \n2  2QtM6ZVLx13TBOO1iwmXYy  Cubra Libre Bar - Café Buddha del Mar Mix   \n3  27hFQQS3cVUmIK3ser5bpu                          More Than Gravity   \n4  1YcqYmviKagJ68DOmjSWQW                                  Tojo Tojo   \n\n                                               album                album_id  \\\n0                                      Rien 100 Rien  2GLuHlc49dJKY8yzxUZb8p   \n1                      Deixa de Onda (Porra Nenhuma)  1fjkJADMiiZWMDusZSMNix   \n2  Hotel Paradise del Mar (Chill Out Lounge Café ...  3wsWiiFbTF3TpC41yStCTL   \n3                                  More Than Gravity  4kcSIHj40oMyfHgMG6XAmO   \n4                                          Tojo Tojo  58NV8EvCFPHWwi7HHdVqSy   \n\n                                artists  \\\n0                               [\"Jul\"]   \n1   [\"DENNIS\", \"Xam\\u00e3\", \"LUDMILLA\"]   \n2                    [\"Mark Bareilles\"]   \n3                  [\"Colin & Caroline\"]   \n4  [\"Robin Zoot\", \"Nik Tendo\", \"Karlo\"]   \n\n                                          artist_ids  track_number  \\\n0                         [\"3IW7ScrzXmPvZhB27hmfgy\"]             2   \n1  [\"6xlRSRMLgZbsSNd0BMobwy\", \"5YwzDz4RJfTiMHS4td...             1   \n2                         [\"22PKRoZlEMpKexRXSLStVP\"]            12   \n3                         [\"2Y4125mDrgQyPD7dt76Rtm\"]             1   \n4  [\"28oxY7ZfDt1BJFf8FVfpEh\", \"6gvVFtkTV4OCyQSCzG...             1   \n\n   disc_number  explicit  duration_ms  ...  track_chart_indicativerevenue  \\\n0            1      True       194266  ...                            0.0   \n1            1      True       184999  ...                            0.0   \n2            1     False       332068  ...                            0.0   \n3            1     False       266078  ...                            0.0   \n4            1      True       197010  ...                            0.0   \n\n  track_chart_peak  track_chart_mean  track_chart_median  \\\n0              NaN               NaN                 NaN   \n1              NaN               NaN                 NaN   \n2              NaN               NaN                 NaN   \n3              NaN               NaN                 NaN   \n4              NaN               NaN                 NaN   \n\n  recording_award_category  recording_award_nominee  recording_award_winner  \\\n0                      NaN                      0.0                     0.0   \n1                      NaN                      0.0                     0.0   \n2                      NaN                      0.0                     0.0   \n3                      NaN                      0.0                     0.0   \n4                      NaN                      0.0                     0.0   \n\n   album_award_category  album_award_nominee  album_award_winner  \n0                   NaN                  NaN                 NaN  \n1                   NaN                  NaN                 NaN  \n2                   NaN                  NaN                 NaN  \n3                   NaN                  NaN                 NaN  \n4                   NaN                  NaN                 NaN  \n\n[5 rows x 38 columns]",
      "text/html": "<div>\n<style scoped>\n    .dataframe tbody tr th:only-of-type {\n        vertical-align: middle;\n    }\n\n    .dataframe tbody tr th {\n        vertical-align: top;\n    }\n\n    .dataframe thead th {\n        text-align: right;\n    }\n</style>\n<table border=\"1\" class=\"dataframe\">\n  <thead>\n    <tr style=\"text-align: right;\">\n      <th></th>\n      <th>id</th>\n      <th>name</th>\n      <th>album</th>\n      <th>album_id</th>\n      <th>artists</th>\n      <th>artist_ids</th>\n      <th>track_number</th>\n      <th>disc_number</th>\n      <th>explicit</th>\n      <th>duration_ms</th>\n      <th>...</th>\n      <th>track_chart_indicativerevenue</th>\n      <th>track_chart_peak</th>\n      <th>track_chart_mean</th>\n      <th>track_chart_median</th>\n      <th>recording_award_category</th>\n      <th>recording_award_nominee</th>\n      <th>recording_award_winner</th>\n      <th>album_award_category</th>\n      <th>album_award_nominee</th>\n      <th>album_award_winner</th>\n    </tr>\n  </thead>\n  <tbody>\n    <tr>\n      <th>0</th>\n      <td>10iesoGb4mCYTcur1QfdO9</td>\n      <td>JCVD</td>\n      <td>Rien 100 Rien</td>\n      <td>2GLuHlc49dJKY8yzxUZb8p</td>\n      <td>[\"Jul\"]</td>\n      <td>[\"3IW7ScrzXmPvZhB27hmfgy\"]</td>\n      <td>2</td>\n      <td>1</td>\n      <td>True</td>\n      <td>194266</td>\n      <td>...</td>\n      <td>0.0</td>\n      <td>NaN</td>\n      <td>NaN</td>\n      <td>NaN</td>\n      <td>NaN</td>\n      <td>0.0</td>\n      <td>0.0</td>\n      <td>NaN</td>\n      <td>NaN</td>\n      <td>NaN</td>\n    </tr>\n    <tr>\n      <th>1</th>\n      <td>0DlHQxrVijRqVUfuS6PKaY</td>\n      <td>Deixa de Onda (Porra Nenhuma)</td>\n      <td>Deixa de Onda (Porra Nenhuma)</td>\n      <td>1fjkJADMiiZWMDusZSMNix</td>\n      <td>[\"DENNIS\", \"Xam\\u00e3\", \"LUDMILLA\"]</td>\n      <td>[\"6xlRSRMLgZbsSNd0BMobwy\", \"5YwzDz4RJfTiMHS4td...</td>\n      <td>1</td>\n      <td>1</td>\n      <td>True</td>\n      <td>184999</td>\n      <td>...</td>\n      <td>0.0</td>\n      <td>NaN</td>\n      <td>NaN</td>\n      <td>NaN</td>\n      <td>NaN</td>\n      <td>0.0</td>\n      <td>0.0</td>\n      <td>NaN</td>\n      <td>NaN</td>\n      <td>NaN</td>\n    </tr>\n    <tr>\n      <th>2</th>\n      <td>2QtM6ZVLx13TBOO1iwmXYy</td>\n      <td>Cubra Libre Bar - Café Buddha del Mar Mix</td>\n      <td>Hotel Paradise del Mar (Chill Out Lounge Café ...</td>\n      <td>3wsWiiFbTF3TpC41yStCTL</td>\n      <td>[\"Mark Bareilles\"]</td>\n      <td>[\"22PKRoZlEMpKexRXSLStVP\"]</td>\n      <td>12</td>\n      <td>1</td>\n      <td>False</td>\n      <td>332068</td>\n      <td>...</td>\n      <td>0.0</td>\n      <td>NaN</td>\n      <td>NaN</td>\n      <td>NaN</td>\n      <td>NaN</td>\n      <td>0.0</td>\n      <td>0.0</td>\n      <td>NaN</td>\n      <td>NaN</td>\n      <td>NaN</td>\n    </tr>\n    <tr>\n      <th>3</th>\n      <td>27hFQQS3cVUmIK3ser5bpu</td>\n      <td>More Than Gravity</td>\n      <td>More Than Gravity</td>\n      <td>4kcSIHj40oMyfHgMG6XAmO</td>\n      <td>[\"Colin &amp; Caroline\"]</td>\n      <td>[\"2Y4125mDrgQyPD7dt76Rtm\"]</td>\n      <td>1</td>\n      <td>1</td>\n      <td>False</td>\n      <td>266078</td>\n      <td>...</td>\n      <td>0.0</td>\n      <td>NaN</td>\n      <td>NaN</td>\n      <td>NaN</td>\n      <td>NaN</td>\n      <td>0.0</td>\n      <td>0.0</td>\n      <td>NaN</td>\n      <td>NaN</td>\n      <td>NaN</td>\n    </tr>\n    <tr>\n      <th>4</th>\n      <td>1YcqYmviKagJ68DOmjSWQW</td>\n      <td>Tojo Tojo</td>\n      <td>Tojo Tojo</td>\n      <td>58NV8EvCFPHWwi7HHdVqSy</td>\n      <td>[\"Robin Zoot\", \"Nik Tendo\", \"Karlo\"]</td>\n      <td>[\"28oxY7ZfDt1BJFf8FVfpEh\", \"6gvVFtkTV4OCyQSCzG...</td>\n      <td>1</td>\n      <td>1</td>\n      <td>True</td>\n      <td>197010</td>\n      <td>...</td>\n      <td>0.0</td>\n      <td>NaN</td>\n      <td>NaN</td>\n      <td>NaN</td>\n      <td>NaN</td>\n      <td>0.0</td>\n      <td>0.0</td>\n      <td>NaN</td>\n      <td>NaN</td>\n      <td>NaN</td>\n    </tr>\n  </tbody>\n</table>\n<p>5 rows × 38 columns</p>\n</div>"
     },
     "execution_count": 10,
     "metadata": {},
     "output_type": "execute_result"
    }
   ],
   "source": [
    "def with_album_nominations(df, album_nominations_df):\n",
    "    album_nominations_df = (\n",
    "        album_nominations_df[[\n",
    "            \"award_category\",\n",
    "            \"award_nominee\",\n",
    "            \"award_winner\",\n",
    "            \"spotify_album_id\",\n",
    "        ]]\n",
    "        .groupby([\"spotify_album_id\"])\n",
    "        .aggregate({\n",
    "            \"award_category\": \"max\",\n",
    "            \"award_nominee\": \"sum\",\n",
    "            \"award_winner\": \"sum\",\n",
    "        })\n",
    "        .reset_index()\n",
    "        .drop_duplicates(subset=[\"spotify_album_id\"])\n",
    "        .rename(columns={\n",
    "            \"spotify_album_id\": \"album_id\",\n",
    "            \"award_category\": \"album_award_category\",\n",
    "            \"award_nominee\": \"album_award_nominee\",\n",
    "            \"award_winner\": \"album_award_winner\",\n",
    "        })\n",
    "    )\n",
    "    return (\n",
    "        pd.merge(df, album_nominations_df, on=\"album_id\",  how=\"left\")\n",
    "    )\n",
    "\n",
    "\n",
    "album_nominations_df = pd.read_parquet(data_path / \"raw/album_nominations.pq\")\n",
    "tracks_df = with_album_nominations(tracks_df, album_nominations_df)\n",
    "print(tracks_df.shape)\n",
    "tracks_df.head()"
   ],
   "metadata": {
    "collapsed": false,
    "pycharm": {
     "name": "#%%\n"
    }
   }
  },
  {
   "cell_type": "code",
   "execution_count": 11,
   "outputs": [],
   "source": [
    "tracks_df[\"num_artists\"] = tracks_df[\"artist_ids\"].apply(json.loads).apply(len)"
   ],
   "metadata": {
    "collapsed": false,
    "pycharm": {
     "name": "#%%\n"
    }
   }
  },
  {
   "cell_type": "code",
   "execution_count": 12,
   "outputs": [
    {
     "name": "stdout",
     "output_type": "stream",
     "text": [
      "(16129, 63)\n",
      "(759, 63)\n"
     ]
    },
    {
     "data": {
      "text/plain": "                       id                                       name  \\\n0  10iesoGb4mCYTcur1QfdO9                                       JCVD   \n1  0DlHQxrVijRqVUfuS6PKaY              Deixa de Onda (Porra Nenhuma)   \n2  2QtM6ZVLx13TBOO1iwmXYy  Cubra Libre Bar - Café Buddha del Mar Mix   \n3  27hFQQS3cVUmIK3ser5bpu                          More Than Gravity   \n4  1YcqYmviKagJ68DOmjSWQW                                  Tojo Tojo   \n\n                                               album                album_id  \\\n0                                      Rien 100 Rien  2GLuHlc49dJKY8yzxUZb8p   \n1                      Deixa de Onda (Porra Nenhuma)  1fjkJADMiiZWMDusZSMNix   \n2  Hotel Paradise del Mar (Chill Out Lounge Café ...  3wsWiiFbTF3TpC41yStCTL   \n3                                  More Than Gravity  4kcSIHj40oMyfHgMG6XAmO   \n4                                          Tojo Tojo  58NV8EvCFPHWwi7HHdVqSy   \n\n                  artists                                         artist_ids  \\\n0                     Jul                         [\"3IW7ScrzXmPvZhB27hmfgy\"]   \n1  DENNIS, Xamã, LUDMILLA  [\"6xlRSRMLgZbsSNd0BMobwy\", \"5YwzDz4RJfTiMHS4td...   \n2          Mark Bareilles                         [\"22PKRoZlEMpKexRXSLStVP\"]   \n3        Colin & Caroline                         [\"2Y4125mDrgQyPD7dt76Rtm\"]   \n4        Nik Tendo, Karlo  [\"28oxY7ZfDt1BJFf8FVfpEh\", \"6gvVFtkTV4OCyQSCzG...   \n\n   track_number  disc_number  explicit  duration_ms  ...  \\\n0             2            1      True       194266  ...   \n1             1            1      True       184999  ...   \n2            12            1     False       332068  ...   \n3             1            1     False       266078  ...   \n4             1            1      True       197010  ...   \n\n   artist_lifetime_revenue artist_first_chart_year  artist_chart_tracks  \\\n0                      0.0                     0.0                  0.0   \n1                      0.0                     0.0                  0.0   \n2                      0.0                     NaN                  0.0   \n3                      0.0                     NaN                  0.0   \n4                      0.0                     0.0                  0.0   \n\n   artist_chart_peak artist_nominations  artist_wins  artist_releases  \\\n0                0.0                0.0          0.0             39.0   \n1                0.0                0.0          0.0            158.0   \n2                NaN                0.0          0.0              0.0   \n3                NaN                0.0          0.0              0.0   \n4                0.0                0.0          0.0             81.0   \n\n   artist_chart_months  artist_chart_months_recently  artist_releases_recently  \n0                  0.0                           0.0                      33.0  \n1                  0.0                           0.0                     118.0  \n2                  0.0                           0.0                       0.0  \n3                  0.0                           0.0                       0.0  \n4                  0.0                           0.0                      68.0  \n\n[5 rows x 63 columns]",
      "text/html": "<div>\n<style scoped>\n    .dataframe tbody tr th:only-of-type {\n        vertical-align: middle;\n    }\n\n    .dataframe tbody tr th {\n        vertical-align: top;\n    }\n\n    .dataframe thead th {\n        text-align: right;\n    }\n</style>\n<table border=\"1\" class=\"dataframe\">\n  <thead>\n    <tr style=\"text-align: right;\">\n      <th></th>\n      <th>id</th>\n      <th>name</th>\n      <th>album</th>\n      <th>album_id</th>\n      <th>artists</th>\n      <th>artist_ids</th>\n      <th>track_number</th>\n      <th>disc_number</th>\n      <th>explicit</th>\n      <th>duration_ms</th>\n      <th>...</th>\n      <th>artist_lifetime_revenue</th>\n      <th>artist_first_chart_year</th>\n      <th>artist_chart_tracks</th>\n      <th>artist_chart_peak</th>\n      <th>artist_nominations</th>\n      <th>artist_wins</th>\n      <th>artist_releases</th>\n      <th>artist_chart_months</th>\n      <th>artist_chart_months_recently</th>\n      <th>artist_releases_recently</th>\n    </tr>\n  </thead>\n  <tbody>\n    <tr>\n      <th>0</th>\n      <td>10iesoGb4mCYTcur1QfdO9</td>\n      <td>JCVD</td>\n      <td>Rien 100 Rien</td>\n      <td>2GLuHlc49dJKY8yzxUZb8p</td>\n      <td>Jul</td>\n      <td>[\"3IW7ScrzXmPvZhB27hmfgy\"]</td>\n      <td>2</td>\n      <td>1</td>\n      <td>True</td>\n      <td>194266</td>\n      <td>...</td>\n      <td>0.0</td>\n      <td>0.0</td>\n      <td>0.0</td>\n      <td>0.0</td>\n      <td>0.0</td>\n      <td>0.0</td>\n      <td>39.0</td>\n      <td>0.0</td>\n      <td>0.0</td>\n      <td>33.0</td>\n    </tr>\n    <tr>\n      <th>1</th>\n      <td>0DlHQxrVijRqVUfuS6PKaY</td>\n      <td>Deixa de Onda (Porra Nenhuma)</td>\n      <td>Deixa de Onda (Porra Nenhuma)</td>\n      <td>1fjkJADMiiZWMDusZSMNix</td>\n      <td>DENNIS, Xamã, LUDMILLA</td>\n      <td>[\"6xlRSRMLgZbsSNd0BMobwy\", \"5YwzDz4RJfTiMHS4td...</td>\n      <td>1</td>\n      <td>1</td>\n      <td>True</td>\n      <td>184999</td>\n      <td>...</td>\n      <td>0.0</td>\n      <td>0.0</td>\n      <td>0.0</td>\n      <td>0.0</td>\n      <td>0.0</td>\n      <td>0.0</td>\n      <td>158.0</td>\n      <td>0.0</td>\n      <td>0.0</td>\n      <td>118.0</td>\n    </tr>\n    <tr>\n      <th>2</th>\n      <td>2QtM6ZVLx13TBOO1iwmXYy</td>\n      <td>Cubra Libre Bar - Café Buddha del Mar Mix</td>\n      <td>Hotel Paradise del Mar (Chill Out Lounge Café ...</td>\n      <td>3wsWiiFbTF3TpC41yStCTL</td>\n      <td>Mark Bareilles</td>\n      <td>[\"22PKRoZlEMpKexRXSLStVP\"]</td>\n      <td>12</td>\n      <td>1</td>\n      <td>False</td>\n      <td>332068</td>\n      <td>...</td>\n      <td>0.0</td>\n      <td>NaN</td>\n      <td>0.0</td>\n      <td>NaN</td>\n      <td>0.0</td>\n      <td>0.0</td>\n      <td>0.0</td>\n      <td>0.0</td>\n      <td>0.0</td>\n      <td>0.0</td>\n    </tr>\n    <tr>\n      <th>3</th>\n      <td>27hFQQS3cVUmIK3ser5bpu</td>\n      <td>More Than Gravity</td>\n      <td>More Than Gravity</td>\n      <td>4kcSIHj40oMyfHgMG6XAmO</td>\n      <td>Colin &amp; Caroline</td>\n      <td>[\"2Y4125mDrgQyPD7dt76Rtm\"]</td>\n      <td>1</td>\n      <td>1</td>\n      <td>False</td>\n      <td>266078</td>\n      <td>...</td>\n      <td>0.0</td>\n      <td>NaN</td>\n      <td>0.0</td>\n      <td>NaN</td>\n      <td>0.0</td>\n      <td>0.0</td>\n      <td>0.0</td>\n      <td>0.0</td>\n      <td>0.0</td>\n      <td>0.0</td>\n    </tr>\n    <tr>\n      <th>4</th>\n      <td>1YcqYmviKagJ68DOmjSWQW</td>\n      <td>Tojo Tojo</td>\n      <td>Tojo Tojo</td>\n      <td>58NV8EvCFPHWwi7HHdVqSy</td>\n      <td>Nik Tendo, Karlo</td>\n      <td>[\"28oxY7ZfDt1BJFf8FVfpEh\", \"6gvVFtkTV4OCyQSCzG...</td>\n      <td>1</td>\n      <td>1</td>\n      <td>True</td>\n      <td>197010</td>\n      <td>...</td>\n      <td>0.0</td>\n      <td>0.0</td>\n      <td>0.0</td>\n      <td>0.0</td>\n      <td>0.0</td>\n      <td>0.0</td>\n      <td>81.0</td>\n      <td>0.0</td>\n      <td>0.0</td>\n      <td>68.0</td>\n    </tr>\n  </tbody>\n</table>\n<p>5 rows × 63 columns</p>\n</div>"
     },
     "execution_count": 12,
     "metadata": {},
     "output_type": "execute_result"
    }
   ],
   "source": [
    "def lookup(artist_df, artist_ids):\n",
    "    artist_ids = json.loads(artist_ids.replace(\"'\", \"\\\"\"))\n",
    "    artists_ = []\n",
    "    for artist_id in artist_ids:\n",
    "        matches = artist_df[artist_df[\"id\"] == artist_id]\n",
    "        if len(matches) > 0:\n",
    "            artists_.append(matches.to_dict('records')[0])\n",
    "    return artists_\n",
    "\n",
    "\n",
    "def with_artist_summary(df, artist_df):\n",
    "    df = df.copy()\n",
    "    # df[\"num_artists\"] = df.apply(lambda r: len(df[\"artist_ids\"]), axis=1)\n",
    "    df[\"artists\"] = df.apply(lambda r: lookup(artist_df, r[\"artist_ids\"]), axis=1)\n",
    "    df[\"artist_matched\"] = df.apply(lambda r: len(r[\"artists\"]) > 0, axis=1)\n",
    "    df[\"artist_names\"] = df.apply(lambda r: [a[\"name\"] for a in r[\"artists\"]], axis=1)\n",
    "    df[\"artist_names\"] = df.apply(lambda r: \", \".join(r[\"artist_names\"]), axis=1)\n",
    "    df[\"artist_genres\"] = df.apply(lambda r: [a[\"genres\"] for a in r[\"artists\"]], axis=1)\n",
    "    df[\"artist_genres\"] = df.apply(lambda r: list(itertools.chain(*r[\"artist_genres\"])), axis=1)\n",
    "    df[\"artist_genres\"] = df.apply(lambda r: r[\"artist_genres\"] if r[\"artist_genres\"] else np.nan, axis=1)\n",
    "    # df[\"artist_genres\"] = df.apply(lambda r: \"; \".join(list(itertools.chain(*r[\"artist_genres\"]))), axis=1)\n",
    "    df[\"artist_popularity\"] = df.apply(lambda r: [a[\"popularity\"] for a in r[\"artists\"]], axis=1)\n",
    "    df[\"artist_popularity\"] = df.apply(lambda r: max(r[\"artist_popularity\"]) if r[\"artist_popularity\"] else 0, axis=1)\n",
    "    df[\"artist_first_release\"] = df.apply(lambda r: [a[\"first_release\"] for a in r[\"artists\"]], axis=1)\n",
    "    df[\"artist_first_release\"] = df.apply(lambda r: min(r[\"artist_first_release\"]) if r[\"artist_first_release\"] else np.nan, axis=1)\n",
    "    # df[\"artist_last_release\"] = df.apply(lambda r: [a[\"last_release\"] for a in r[\"artists\"]], axis=1)\n",
    "    # df[f\"artist_last_release\"] = df.apply(lambda r: max(df[\"artist_last_release\"])\n",
    "    df[\"artist_lifetime_releases\"] = df.apply(lambda r: [a[\"total_releases\"] for a in r[\"artists\"]], axis=1)\n",
    "    df[\"artist_lifetime_releases\"] = df.apply(lambda r: sum(m for m in r[\"artist_lifetime_releases\"] if m is not None), axis=1).fillna(0)\n",
    "    df[\"artist_gender\"] = df.apply(lambda r: [a[\"gender\"] for a in r[\"artists\"]], axis=1)\n",
    "    #df[\"artist_gender\"] = df.apply(lambda r: r[\"artist_gender\"][0] if r[\"artist_gender\"] else np.nan, axis=1)\n",
    "    df[\"artist_country\"] = df.apply(lambda r:[a[\"country\"] for a in r[\"artists\"]], axis=1)\n",
    "    df[\"artist_country\"] = df.apply(lambda r: r[\"artist_country\"][0] if r[\"artist_country\"] else np.nan, axis=1)\n",
    "    df[\"artist_hometown\"] = df.apply(lambda r: [a[\"hometown\"] for a in r[\"artists\"]], axis=1)\n",
    "    df[\"artist_hometown\"] = df.apply(lambda r: r[\"artist_hometown\"][0] if r[\"artist_hometown\"] else np.nan, axis=1)\n",
    "    df[\"artist_first_win\"] = df.apply(lambda r: [a[\"first_win\"] for a in r[\"artists\"]], axis=1)\n",
    "    df[\"artist_first_win\"] = df.apply(lambda r: min(r[\"artist_first_win\"]) if r[\"artist_first_win\"] else np.nan, axis=1)\n",
    "    df[\"artist_first_nomination\"] = df.apply(lambda r: [a[\"first_nomination\"] for a in r[\"artists\"]], axis=1)\n",
    "    df[\"artist_first_nomination\"] = df.apply(lambda r: min(r[\"artist_first_nomination\"]) if r[\"artist_first_nomination\"] else np.nan, axis=1)\n",
    "    # df[\"artist_last_win\"] = df.apply(lambda r: [a[\"last_win\"] for a in r[\"artists\"]], axis=1)\n",
    "    # df[\"artist_last_win\"] = df.apply(lambda r: max(df[\"artist_last_win\"])\n",
    "    # df[\"artist_last_nomination\"] = df.apply(lambda r: [a[\"last_nomination\"] for a in r[\"artists\"]], axis=1)\n",
    "    # df[\"artist_last_nomination\"] = df.apply(lambda r: max(df[\"artist_last_nomination\"])\n",
    "    df[\"artist_lifetime_wins\"] = df.apply(lambda r: [a[\"total_wins\"] for a in r[\"artists\"]], axis=1)\n",
    "    df[\"artist_lifetime_wins\"] = df.apply(lambda r: sum(m for m in r[\"artist_lifetime_wins\"] if m is not None), axis=1).fillna(0)\n",
    "    df[\"artist_lifetime_nominations\"] = df.apply(lambda r: [a[\"total_nominations\"] for a in r[\"artists\"]], axis=1)\n",
    "    df[\"artist_lifetime_nominations\"] = df.apply(lambda r: sum(m for m in r[\"artist_lifetime_nominations\"] if m is not None), axis=1).fillna(0)\n",
    "    df[\"artist_lifetime_chart_months\"] = df.apply(lambda r: [a[\"chart_months\"] for a in r[\"artists\"]], axis=1)\n",
    "    df[\"artist_lifetime_chart_months\"] = df.apply(lambda r: sum(r[\"artist_lifetime_chart_months\"]), axis=1).fillna(0)\n",
    "    df[\"artist_lifetime_revenue\"] = df.apply(lambda r: [a[\"total_revenue\"] for a in r[\"artists\"]], axis=1)\n",
    "    df[\"artist_lifetime_revenue\"] = df.apply(lambda r: sum(m for m in r[\"artist_lifetime_revenue\"] if m is not None), axis=1).fillna(0)\n",
    "    df[\"artist_first_chart_year\"] = df.apply(lambda r: [a[\"first_chart_year\"] for a in r[\"artists\"]], axis=1)\n",
    "    df[\"artist_first_chart_year\"] = df.apply(lambda r: min(r[\"artist_first_chart_year\"]) if r[\"artist_first_chart_year\"] else np.nan, axis=1)\n",
    "    # df[\"artist_last_chart_year\"] = df.apply(lambda r: [a[\"last_chart_year\"] for a in r[\"artists\"]], axis=1)\n",
    "    # df[\"artist_last_chart_year\"] = df.apply(lambda r: max(df[\"artist_last_chart_year\"])\n",
    "    df[\"artist_chart_tracks\"] = df.apply(lambda r: [a[\"chart_tracks\"] for a in r[\"artists\"]], axis=1)\n",
    "    df[\"artist_chart_tracks\"] = df.apply(lambda r: max(r[\"artist_chart_tracks\"]) if r[\"artist_chart_tracks\"] else 0, axis=1).fillna(0)\n",
    "    df[\"artist_chart_peak\"] = df.apply(lambda r: [a[\"chart_peak\"] for a in r[\"artists\"]], axis=1)\n",
    "    df[\"artist_chart_peak\"] = df.apply(lambda r: min(r[\"artist_chart_peak\"]) if r[\"artist_chart_peak\"] else 0, axis=1)\n",
    "    df[\"artist_nominations\"] = df.apply(lambda r: [a.get(f\"grammy_nominated_{r['year'] - 1}\") for a in r[\"artists\"]], axis=1)\n",
    "    df[\"artist_nominations\"] = df.apply(lambda r: sum(m for m in r[\"artist_nominations\"] if m is not None), axis=1).fillna(0)\n",
    "    df[\"artist_wins\"] = df.apply(lambda r: [a.get(f\"grammy_won_{r['year'] - 1}\") for a in r[\"artists\"]], axis=1)\n",
    "    df[\"artist_wins\"] = df.apply(lambda r: sum(m for m in r[\"artist_wins\"] if m is not None), axis=1).fillna(0)\n",
    "    df[\"artist_releases\"] = df.apply(lambda r: [a.get(f\"releases_{r['year'] - 1}\") for a in r[\"artists\"]], axis=1)\n",
    "    df[\"artist_releases\"] = df.apply(lambda r: sum(m for m in r[\"artist_releases\"] if m is not None), axis=1).fillna(0)\n",
    "    df[\"artist_chart_months\"] = df.apply(lambda r: [a.get(f\"chart_months_{r['year'] - 1}\") for a in r[\"artists\"]], axis=1)\n",
    "    df[\"artist_chart_months\"] = df.apply(lambda r: sum(m for m in r[\"artist_chart_months\"] if m is not None), axis=1).fillna(0)\n",
    "    df[\"artist_chart_months_recently\"] = df.apply(lambda r: [a.get(f\"chart_months_recently_{r['year'] - 1}\") for a in r[\"artists\"]], axis=1)\n",
    "    df[\"artist_chart_months_recently\"] = df.apply(lambda r: sum(m for m in r[\"artist_chart_months_recently\"] if m is not None), axis=1).fillna(0)\n",
    "    df[\"artist_releases_recently\"] = df.apply(lambda r:  [a.get(f\"releases_{r['year'] - 1}\", 0) - a.get(f\"releases_{r['year'] - 4}\") for a in r[\"artists\"]], axis=1)\n",
    "    df[\"artist_releases_recently\"] = df.apply(lambda r: sum(m for m in r[\"artist_releases_recently\"] if m is not None), axis=1).fillna(0)\n",
    "    df[\"artists\"] = df[\"artist_names\"]\n",
    "    return df\n",
    "\n",
    "\n",
    "artist_df = pd.read_parquet(data_path / \"artist_summary.pq\")\n",
    "tracks_df = with_artist_summary(tracks_df, artist_df)\n",
    "print(tracks_df.shape)\n",
    "print(tracks_df[tracks_df[\"artist_matched\"] == 0].shape)\n",
    "tracks_df.head()"
   ],
   "metadata": {
    "collapsed": false,
    "pycharm": {
     "name": "#%%\n"
    }
   }
  },
  {
   "cell_type": "code",
   "execution_count": 13,
   "outputs": [
    {
     "name": "stdout",
     "output_type": "stream",
     "text": [
      "(759, 64)\n",
      "(16129, 64)\n"
     ]
    },
    {
     "data": {
      "text/plain": "                       id                                       name  \\\n0  10iesoGb4mCYTcur1QfdO9                                       JCVD   \n1  0DlHQxrVijRqVUfuS6PKaY              Deixa de Onda (Porra Nenhuma)   \n2  2QtM6ZVLx13TBOO1iwmXYy  Cubra Libre Bar - Café Buddha del Mar Mix   \n3  27hFQQS3cVUmIK3ser5bpu                          More Than Gravity   \n4  1YcqYmviKagJ68DOmjSWQW                                  Tojo Tojo   \n\n                                               album                album_id  \\\n0                                      Rien 100 Rien  2GLuHlc49dJKY8yzxUZb8p   \n1                      Deixa de Onda (Porra Nenhuma)  1fjkJADMiiZWMDusZSMNix   \n2  Hotel Paradise del Mar (Chill Out Lounge Café ...  3wsWiiFbTF3TpC41yStCTL   \n3                                  More Than Gravity  4kcSIHj40oMyfHgMG6XAmO   \n4                                          Tojo Tojo  58NV8EvCFPHWwi7HHdVqSy   \n\n                  artists                                         artist_ids  \\\n0                     Jul                         [\"3IW7ScrzXmPvZhB27hmfgy\"]   \n1  DENNIS, Xamã, LUDMILLA  [\"6xlRSRMLgZbsSNd0BMobwy\", \"5YwzDz4RJfTiMHS4td...   \n2          Mark Bareilles                         [\"22PKRoZlEMpKexRXSLStVP\"]   \n3        Colin & Caroline                         [\"2Y4125mDrgQyPD7dt76Rtm\"]   \n4        Nik Tendo, Karlo  [\"28oxY7ZfDt1BJFf8FVfpEh\", \"6gvVFtkTV4OCyQSCzG...   \n\n   track_number  disc_number  explicit  duration_ms  ...  \\\n0             2            1      True       194266  ...   \n1             1            1      True       184999  ...   \n2            12            1     False       332068  ...   \n3             1            1     False       266078  ...   \n4             1            1      True       197010  ...   \n\n   artist_first_chart_year artist_chart_tracks  artist_chart_peak  \\\n0                      0.0                 0.0                0.0   \n1                      0.0                 0.0                0.0   \n2                      NaN                 0.0                NaN   \n3                      NaN                 0.0                NaN   \n4                      0.0                 0.0                0.0   \n\n   artist_nominations artist_wins  artist_releases  artist_chart_months  \\\n0                 0.0         0.0             39.0                  0.0   \n1                 0.0         0.0            158.0                  0.0   \n2                 0.0         0.0              0.0                  0.0   \n3                 0.0         0.0              0.0                  0.0   \n4                 0.0         0.0             81.0                  0.0   \n\n   artist_chart_months_recently  artist_releases_recently             genre  \n0                           0.0                      33.0     rap marseille  \n1                           0.0                     118.0  funk das antigas  \n2                           0.0                       0.0             other  \n3                           0.0                       0.0    acoustic cover  \n4                           0.0                      68.0      czsk hip hop  \n\n[5 rows x 64 columns]",
      "text/html": "<div>\n<style scoped>\n    .dataframe tbody tr th:only-of-type {\n        vertical-align: middle;\n    }\n\n    .dataframe tbody tr th {\n        vertical-align: top;\n    }\n\n    .dataframe thead th {\n        text-align: right;\n    }\n</style>\n<table border=\"1\" class=\"dataframe\">\n  <thead>\n    <tr style=\"text-align: right;\">\n      <th></th>\n      <th>id</th>\n      <th>name</th>\n      <th>album</th>\n      <th>album_id</th>\n      <th>artists</th>\n      <th>artist_ids</th>\n      <th>track_number</th>\n      <th>disc_number</th>\n      <th>explicit</th>\n      <th>duration_ms</th>\n      <th>...</th>\n      <th>artist_first_chart_year</th>\n      <th>artist_chart_tracks</th>\n      <th>artist_chart_peak</th>\n      <th>artist_nominations</th>\n      <th>artist_wins</th>\n      <th>artist_releases</th>\n      <th>artist_chart_months</th>\n      <th>artist_chart_months_recently</th>\n      <th>artist_releases_recently</th>\n      <th>genre</th>\n    </tr>\n  </thead>\n  <tbody>\n    <tr>\n      <th>0</th>\n      <td>10iesoGb4mCYTcur1QfdO9</td>\n      <td>JCVD</td>\n      <td>Rien 100 Rien</td>\n      <td>2GLuHlc49dJKY8yzxUZb8p</td>\n      <td>Jul</td>\n      <td>[\"3IW7ScrzXmPvZhB27hmfgy\"]</td>\n      <td>2</td>\n      <td>1</td>\n      <td>True</td>\n      <td>194266</td>\n      <td>...</td>\n      <td>0.0</td>\n      <td>0.0</td>\n      <td>0.0</td>\n      <td>0.0</td>\n      <td>0.0</td>\n      <td>39.0</td>\n      <td>0.0</td>\n      <td>0.0</td>\n      <td>33.0</td>\n      <td>rap marseille</td>\n    </tr>\n    <tr>\n      <th>1</th>\n      <td>0DlHQxrVijRqVUfuS6PKaY</td>\n      <td>Deixa de Onda (Porra Nenhuma)</td>\n      <td>Deixa de Onda (Porra Nenhuma)</td>\n      <td>1fjkJADMiiZWMDusZSMNix</td>\n      <td>DENNIS, Xamã, LUDMILLA</td>\n      <td>[\"6xlRSRMLgZbsSNd0BMobwy\", \"5YwzDz4RJfTiMHS4td...</td>\n      <td>1</td>\n      <td>1</td>\n      <td>True</td>\n      <td>184999</td>\n      <td>...</td>\n      <td>0.0</td>\n      <td>0.0</td>\n      <td>0.0</td>\n      <td>0.0</td>\n      <td>0.0</td>\n      <td>158.0</td>\n      <td>0.0</td>\n      <td>0.0</td>\n      <td>118.0</td>\n      <td>funk das antigas</td>\n    </tr>\n    <tr>\n      <th>2</th>\n      <td>2QtM6ZVLx13TBOO1iwmXYy</td>\n      <td>Cubra Libre Bar - Café Buddha del Mar Mix</td>\n      <td>Hotel Paradise del Mar (Chill Out Lounge Café ...</td>\n      <td>3wsWiiFbTF3TpC41yStCTL</td>\n      <td>Mark Bareilles</td>\n      <td>[\"22PKRoZlEMpKexRXSLStVP\"]</td>\n      <td>12</td>\n      <td>1</td>\n      <td>False</td>\n      <td>332068</td>\n      <td>...</td>\n      <td>NaN</td>\n      <td>0.0</td>\n      <td>NaN</td>\n      <td>0.0</td>\n      <td>0.0</td>\n      <td>0.0</td>\n      <td>0.0</td>\n      <td>0.0</td>\n      <td>0.0</td>\n      <td>other</td>\n    </tr>\n    <tr>\n      <th>3</th>\n      <td>27hFQQS3cVUmIK3ser5bpu</td>\n      <td>More Than Gravity</td>\n      <td>More Than Gravity</td>\n      <td>4kcSIHj40oMyfHgMG6XAmO</td>\n      <td>Colin &amp; Caroline</td>\n      <td>[\"2Y4125mDrgQyPD7dt76Rtm\"]</td>\n      <td>1</td>\n      <td>1</td>\n      <td>False</td>\n      <td>266078</td>\n      <td>...</td>\n      <td>NaN</td>\n      <td>0.0</td>\n      <td>NaN</td>\n      <td>0.0</td>\n      <td>0.0</td>\n      <td>0.0</td>\n      <td>0.0</td>\n      <td>0.0</td>\n      <td>0.0</td>\n      <td>acoustic cover</td>\n    </tr>\n    <tr>\n      <th>4</th>\n      <td>1YcqYmviKagJ68DOmjSWQW</td>\n      <td>Tojo Tojo</td>\n      <td>Tojo Tojo</td>\n      <td>58NV8EvCFPHWwi7HHdVqSy</td>\n      <td>Nik Tendo, Karlo</td>\n      <td>[\"28oxY7ZfDt1BJFf8FVfpEh\", \"6gvVFtkTV4OCyQSCzG...</td>\n      <td>1</td>\n      <td>1</td>\n      <td>True</td>\n      <td>197010</td>\n      <td>...</td>\n      <td>0.0</td>\n      <td>0.0</td>\n      <td>0.0</td>\n      <td>0.0</td>\n      <td>0.0</td>\n      <td>81.0</td>\n      <td>0.0</td>\n      <td>0.0</td>\n      <td>68.0</td>\n      <td>czsk hip hop</td>\n    </tr>\n  </tbody>\n</table>\n<p>5 rows × 64 columns</p>\n</div>"
     },
     "execution_count": 13,
     "metadata": {},
     "output_type": "execute_result"
    }
   ],
   "source": [
    "def resolve_genre(genres, genre_weights):\n",
    "    genre = sorted(genres, key=genre_weights.get)[0]\\\n",
    "        if genres is not None and isinstance(genres, list) and len(genres) > 0\\\n",
    "        else \"other\"\n",
    "    # print(f\"{genres} => {genre}\")\n",
    "    return genre\n",
    "\n",
    "\n",
    "def with_genres_resolved(tracks_df, artist_df):\n",
    "    genre_weights = artist_df[\"genres\"].explode().value_counts().to_dict()\n",
    "    genre_weight_values = list(genre_weights.values())\n",
    "    genre_weight_cutoff = np.average(genre_weight_values) + 1.5 * np.std(genre_weight_values)\n",
    "    genre_weights = dict((k, v if v > genre_weight_cutoff else 0) for k, v in genre_weights.items())\n",
    "    tracks_df[\"genre\"] = tracks_df[\"artist_genres\"].apply(lambda genres: resolve_genre(genres, genre_weights))\n",
    "    return tracks_df\n",
    "\n",
    "\n",
    "# tracks_df = tracks_df.drop(columns=[\"genre\"])\n",
    "\n",
    "artist_df = pd.read_parquet(data_path / \"artist_summary.pq\")\n",
    "tracks_df = with_genres_resolved(tracks_df, artist_df)\n",
    "print(tracks_df[tracks_df[\"artist_matched\"] == 0].shape)\n",
    "print(tracks_df.shape)\n",
    "tracks_df.head()"
   ],
   "metadata": {
    "collapsed": false,
    "pycharm": {
     "name": "#%%\n"
    }
   }
  },
  {
   "cell_type": "code",
   "execution_count": 14,
   "outputs": [
    {
     "name": "stdout",
     "output_type": "stream",
     "text": [
      "(16129, 67)\n",
      "(0, 67)\n"
     ]
    },
    {
     "data": {
      "text/plain": "                       id                                       name  \\\n0  10iesoGb4mCYTcur1QfdO9                                       JCVD   \n1  0DlHQxrVijRqVUfuS6PKaY              Deixa de Onda (Porra Nenhuma)   \n2  2QtM6ZVLx13TBOO1iwmXYy  Cubra Libre Bar - Café Buddha del Mar Mix   \n3  27hFQQS3cVUmIK3ser5bpu                          More Than Gravity   \n4  1YcqYmviKagJ68DOmjSWQW                                  Tojo Tojo   \n\n                                               album                album_id  \\\n0                                      Rien 100 Rien  2GLuHlc49dJKY8yzxUZb8p   \n1                      Deixa de Onda (Porra Nenhuma)  1fjkJADMiiZWMDusZSMNix   \n2  Hotel Paradise del Mar (Chill Out Lounge Café ...  3wsWiiFbTF3TpC41yStCTL   \n3                                  More Than Gravity  4kcSIHj40oMyfHgMG6XAmO   \n4                                          Tojo Tojo  58NV8EvCFPHWwi7HHdVqSy   \n\n                  artists                                         artist_ids  \\\n0                     Jul                         [\"3IW7ScrzXmPvZhB27hmfgy\"]   \n1  DENNIS, Xamã, LUDMILLA  [\"6xlRSRMLgZbsSNd0BMobwy\", \"5YwzDz4RJfTiMHS4td...   \n2          Mark Bareilles                         [\"22PKRoZlEMpKexRXSLStVP\"]   \n3        Colin & Caroline                         [\"2Y4125mDrgQyPD7dt76Rtm\"]   \n4        Nik Tendo, Karlo  [\"28oxY7ZfDt1BJFf8FVfpEh\", \"6gvVFtkTV4OCyQSCzG...   \n\n   track_number  disc_number  explicit  duration_ms  ...  artist_nominations  \\\n0             2            1      True       194266  ...                 0.0   \n1             1            1      True       184999  ...                 0.0   \n2            12            1     False       332068  ...                 0.0   \n3             1            1     False       266078  ...                 0.0   \n4             1            1      True       197010  ...                 0.0   \n\n  artist_wins  artist_releases  artist_chart_months  \\\n0         0.0             39.0                  0.0   \n1         0.0            158.0                  0.0   \n2         0.0              0.0                  0.0   \n3         0.0              0.0                  0.0   \n4         0.0             81.0                  0.0   \n\n  artist_chart_months_recently  artist_releases_recently             genre  \\\n0                          0.0                      33.0     rap marseille   \n1                          0.0                     118.0  funk das antigas   \n2                          0.0                       0.0             other   \n3                          0.0                       0.0    acoustic cover   \n4                          0.0                      68.0      czsk hip hop   \n\n           label_name  major_label  label_matched  \n0  D’Or et de Platine          0.0            1.0  \n1          Sony Music          1.0            1.0  \n2                 NaN          NaN            NaN  \n3                 NaN          NaN            NaN  \n4        W.C. Records          0.0            1.0  \n\n[5 rows x 67 columns]",
      "text/html": "<div>\n<style scoped>\n    .dataframe tbody tr th:only-of-type {\n        vertical-align: middle;\n    }\n\n    .dataframe tbody tr th {\n        vertical-align: top;\n    }\n\n    .dataframe thead th {\n        text-align: right;\n    }\n</style>\n<table border=\"1\" class=\"dataframe\">\n  <thead>\n    <tr style=\"text-align: right;\">\n      <th></th>\n      <th>id</th>\n      <th>name</th>\n      <th>album</th>\n      <th>album_id</th>\n      <th>artists</th>\n      <th>artist_ids</th>\n      <th>track_number</th>\n      <th>disc_number</th>\n      <th>explicit</th>\n      <th>duration_ms</th>\n      <th>...</th>\n      <th>artist_nominations</th>\n      <th>artist_wins</th>\n      <th>artist_releases</th>\n      <th>artist_chart_months</th>\n      <th>artist_chart_months_recently</th>\n      <th>artist_releases_recently</th>\n      <th>genre</th>\n      <th>label_name</th>\n      <th>major_label</th>\n      <th>label_matched</th>\n    </tr>\n  </thead>\n  <tbody>\n    <tr>\n      <th>0</th>\n      <td>10iesoGb4mCYTcur1QfdO9</td>\n      <td>JCVD</td>\n      <td>Rien 100 Rien</td>\n      <td>2GLuHlc49dJKY8yzxUZb8p</td>\n      <td>Jul</td>\n      <td>[\"3IW7ScrzXmPvZhB27hmfgy\"]</td>\n      <td>2</td>\n      <td>1</td>\n      <td>True</td>\n      <td>194266</td>\n      <td>...</td>\n      <td>0.0</td>\n      <td>0.0</td>\n      <td>39.0</td>\n      <td>0.0</td>\n      <td>0.0</td>\n      <td>33.0</td>\n      <td>rap marseille</td>\n      <td>D’Or et de Platine</td>\n      <td>0.0</td>\n      <td>1.0</td>\n    </tr>\n    <tr>\n      <th>1</th>\n      <td>0DlHQxrVijRqVUfuS6PKaY</td>\n      <td>Deixa de Onda (Porra Nenhuma)</td>\n      <td>Deixa de Onda (Porra Nenhuma)</td>\n      <td>1fjkJADMiiZWMDusZSMNix</td>\n      <td>DENNIS, Xamã, LUDMILLA</td>\n      <td>[\"6xlRSRMLgZbsSNd0BMobwy\", \"5YwzDz4RJfTiMHS4td...</td>\n      <td>1</td>\n      <td>1</td>\n      <td>True</td>\n      <td>184999</td>\n      <td>...</td>\n      <td>0.0</td>\n      <td>0.0</td>\n      <td>158.0</td>\n      <td>0.0</td>\n      <td>0.0</td>\n      <td>118.0</td>\n      <td>funk das antigas</td>\n      <td>Sony Music</td>\n      <td>1.0</td>\n      <td>1.0</td>\n    </tr>\n    <tr>\n      <th>2</th>\n      <td>2QtM6ZVLx13TBOO1iwmXYy</td>\n      <td>Cubra Libre Bar - Café Buddha del Mar Mix</td>\n      <td>Hotel Paradise del Mar (Chill Out Lounge Café ...</td>\n      <td>3wsWiiFbTF3TpC41yStCTL</td>\n      <td>Mark Bareilles</td>\n      <td>[\"22PKRoZlEMpKexRXSLStVP\"]</td>\n      <td>12</td>\n      <td>1</td>\n      <td>False</td>\n      <td>332068</td>\n      <td>...</td>\n      <td>0.0</td>\n      <td>0.0</td>\n      <td>0.0</td>\n      <td>0.0</td>\n      <td>0.0</td>\n      <td>0.0</td>\n      <td>other</td>\n      <td>NaN</td>\n      <td>NaN</td>\n      <td>NaN</td>\n    </tr>\n    <tr>\n      <th>3</th>\n      <td>27hFQQS3cVUmIK3ser5bpu</td>\n      <td>More Than Gravity</td>\n      <td>More Than Gravity</td>\n      <td>4kcSIHj40oMyfHgMG6XAmO</td>\n      <td>Colin &amp; Caroline</td>\n      <td>[\"2Y4125mDrgQyPD7dt76Rtm\"]</td>\n      <td>1</td>\n      <td>1</td>\n      <td>False</td>\n      <td>266078</td>\n      <td>...</td>\n      <td>0.0</td>\n      <td>0.0</td>\n      <td>0.0</td>\n      <td>0.0</td>\n      <td>0.0</td>\n      <td>0.0</td>\n      <td>acoustic cover</td>\n      <td>NaN</td>\n      <td>NaN</td>\n      <td>NaN</td>\n    </tr>\n    <tr>\n      <th>4</th>\n      <td>1YcqYmviKagJ68DOmjSWQW</td>\n      <td>Tojo Tojo</td>\n      <td>Tojo Tojo</td>\n      <td>58NV8EvCFPHWwi7HHdVqSy</td>\n      <td>Nik Tendo, Karlo</td>\n      <td>[\"28oxY7ZfDt1BJFf8FVfpEh\", \"6gvVFtkTV4OCyQSCzG...</td>\n      <td>1</td>\n      <td>1</td>\n      <td>True</td>\n      <td>197010</td>\n      <td>...</td>\n      <td>0.0</td>\n      <td>0.0</td>\n      <td>81.0</td>\n      <td>0.0</td>\n      <td>0.0</td>\n      <td>68.0</td>\n      <td>czsk hip hop</td>\n      <td>W.C. Records</td>\n      <td>0.0</td>\n      <td>1.0</td>\n    </tr>\n  </tbody>\n</table>\n<p>5 rows × 67 columns</p>\n</div>"
     },
     "execution_count": 14,
     "metadata": {},
     "output_type": "execute_result"
    }
   ],
   "source": [
    "def with_labels(df, labels_df):\n",
    "    labels_df = labels_df.drop_duplicates([\"album_id\"])\n",
    "    # labels_df = labels_df.drop(columns=[\"id\", \"artist_ids\"])\n",
    "    labels_df[\"label_matched\"] = 1\n",
    "    df = pd.merge(df, labels_df, on=\"album_id\", how=\"left\")\n",
    "    return df\n",
    "    df[\"label_matched\"] = df[\"label_matched\"].fillna(0)\n",
    "    # df[\"major_label\"] = df[\"major_label\"].fillna(0)\n",
    "    return df\n",
    "\n",
    "\n",
    "labels_df = pd.read_parquet(data_path / \"labels/albums_with_annotated_labels.pq\")\n",
    "tracks_df = with_labels(tracks_df, labels_df)\n",
    "print(tracks_df.shape)\n",
    "print(tracks_df[tracks_df[\"label_matched\"] == 0].shape)\n",
    "tracks_df.head()"
   ],
   "metadata": {
    "collapsed": false,
    "pycharm": {
     "name": "#%%\n"
    }
   }
  },
  {
   "cell_type": "code",
   "execution_count": 15,
   "outputs": [
    {
     "name": "stdout",
     "output_type": "stream",
     "text": [
      "(14967, 69)\n"
     ]
    },
    {
     "data": {
      "text/plain": "                       id                                       name  \\\n0  10iesoGb4mCYTcur1QfdO9                                       JCVD   \n1  0DlHQxrVijRqVUfuS6PKaY              Deixa de Onda (Porra Nenhuma)   \n2  2QtM6ZVLx13TBOO1iwmXYy  Cubra Libre Bar - Café Buddha del Mar Mix   \n3  27hFQQS3cVUmIK3ser5bpu                          More Than Gravity   \n4  1YcqYmviKagJ68DOmjSWQW                                  Tojo Tojo   \n\n                                               album                album_id  \\\n0                                      Rien 100 Rien  2GLuHlc49dJKY8yzxUZb8p   \n1                      Deixa de Onda (Porra Nenhuma)  1fjkJADMiiZWMDusZSMNix   \n2  Hotel Paradise del Mar (Chill Out Lounge Café ...  3wsWiiFbTF3TpC41yStCTL   \n3                                  More Than Gravity  4kcSIHj40oMyfHgMG6XAmO   \n4                                          Tojo Tojo  58NV8EvCFPHWwi7HHdVqSy   \n\n                  artists                                         artist_ids  \\\n0                     Jul                         [\"3IW7ScrzXmPvZhB27hmfgy\"]   \n1  DENNIS, Xamã, LUDMILLA  [\"6xlRSRMLgZbsSNd0BMobwy\", \"5YwzDz4RJfTiMHS4td...   \n2          Mark Bareilles                         [\"22PKRoZlEMpKexRXSLStVP\"]   \n3        Colin & Caroline                         [\"2Y4125mDrgQyPD7dt76Rtm\"]   \n4        Nik Tendo, Karlo  [\"28oxY7ZfDt1BJFf8FVfpEh\", \"6gvVFtkTV4OCyQSCzG...   \n\n   track_number  disc_number  explicit  duration_ms  ...  artist_releases  \\\n0             2            1      True       194266  ...             39.0   \n1             1            1      True       184999  ...            158.0   \n2            12            1     False       332068  ...              0.0   \n3             1            1     False       266078  ...              0.0   \n4             1            1      True       197010  ...             81.0   \n\n  artist_chart_months  artist_chart_months_recently  artist_releases_recently  \\\n0                 0.0                           0.0                      33.0   \n1                 0.0                           0.0                     118.0   \n2                 0.0                           0.0                       0.0   \n3                 0.0                           0.0                       0.0   \n4                 0.0                           0.0                      68.0   \n\n              genre          label_name  major_label  label_matched  \\\n0     rap marseille  D’Or et de Platine          0.0            1.0   \n1  funk das antigas          Sony Music          1.0            1.0   \n2             other                 NaN          NaN            NaN   \n3    acoustic cover                 NaN          NaN            NaN   \n4      czsk hip hop        W.C. Records          0.0            1.0   \n\n   chart_status  award_status  \n0             0             0  \n1             0             0  \n2             0             0  \n3             0             0  \n4             0             0  \n\n[5 rows x 69 columns]",
      "text/html": "<div>\n<style scoped>\n    .dataframe tbody tr th:only-of-type {\n        vertical-align: middle;\n    }\n\n    .dataframe tbody tr th {\n        vertical-align: top;\n    }\n\n    .dataframe thead th {\n        text-align: right;\n    }\n</style>\n<table border=\"1\" class=\"dataframe\">\n  <thead>\n    <tr style=\"text-align: right;\">\n      <th></th>\n      <th>id</th>\n      <th>name</th>\n      <th>album</th>\n      <th>album_id</th>\n      <th>artists</th>\n      <th>artist_ids</th>\n      <th>track_number</th>\n      <th>disc_number</th>\n      <th>explicit</th>\n      <th>duration_ms</th>\n      <th>...</th>\n      <th>artist_releases</th>\n      <th>artist_chart_months</th>\n      <th>artist_chart_months_recently</th>\n      <th>artist_releases_recently</th>\n      <th>genre</th>\n      <th>label_name</th>\n      <th>major_label</th>\n      <th>label_matched</th>\n      <th>chart_status</th>\n      <th>award_status</th>\n    </tr>\n  </thead>\n  <tbody>\n    <tr>\n      <th>0</th>\n      <td>10iesoGb4mCYTcur1QfdO9</td>\n      <td>JCVD</td>\n      <td>Rien 100 Rien</td>\n      <td>2GLuHlc49dJKY8yzxUZb8p</td>\n      <td>Jul</td>\n      <td>[\"3IW7ScrzXmPvZhB27hmfgy\"]</td>\n      <td>2</td>\n      <td>1</td>\n      <td>True</td>\n      <td>194266</td>\n      <td>...</td>\n      <td>39.0</td>\n      <td>0.0</td>\n      <td>0.0</td>\n      <td>33.0</td>\n      <td>rap marseille</td>\n      <td>D’Or et de Platine</td>\n      <td>0.0</td>\n      <td>1.0</td>\n      <td>0</td>\n      <td>0</td>\n    </tr>\n    <tr>\n      <th>1</th>\n      <td>0DlHQxrVijRqVUfuS6PKaY</td>\n      <td>Deixa de Onda (Porra Nenhuma)</td>\n      <td>Deixa de Onda (Porra Nenhuma)</td>\n      <td>1fjkJADMiiZWMDusZSMNix</td>\n      <td>DENNIS, Xamã, LUDMILLA</td>\n      <td>[\"6xlRSRMLgZbsSNd0BMobwy\", \"5YwzDz4RJfTiMHS4td...</td>\n      <td>1</td>\n      <td>1</td>\n      <td>True</td>\n      <td>184999</td>\n      <td>...</td>\n      <td>158.0</td>\n      <td>0.0</td>\n      <td>0.0</td>\n      <td>118.0</td>\n      <td>funk das antigas</td>\n      <td>Sony Music</td>\n      <td>1.0</td>\n      <td>1.0</td>\n      <td>0</td>\n      <td>0</td>\n    </tr>\n    <tr>\n      <th>2</th>\n      <td>2QtM6ZVLx13TBOO1iwmXYy</td>\n      <td>Cubra Libre Bar - Café Buddha del Mar Mix</td>\n      <td>Hotel Paradise del Mar (Chill Out Lounge Café ...</td>\n      <td>3wsWiiFbTF3TpC41yStCTL</td>\n      <td>Mark Bareilles</td>\n      <td>[\"22PKRoZlEMpKexRXSLStVP\"]</td>\n      <td>12</td>\n      <td>1</td>\n      <td>False</td>\n      <td>332068</td>\n      <td>...</td>\n      <td>0.0</td>\n      <td>0.0</td>\n      <td>0.0</td>\n      <td>0.0</td>\n      <td>other</td>\n      <td>NaN</td>\n      <td>NaN</td>\n      <td>NaN</td>\n      <td>0</td>\n      <td>0</td>\n    </tr>\n    <tr>\n      <th>3</th>\n      <td>27hFQQS3cVUmIK3ser5bpu</td>\n      <td>More Than Gravity</td>\n      <td>More Than Gravity</td>\n      <td>4kcSIHj40oMyfHgMG6XAmO</td>\n      <td>Colin &amp; Caroline</td>\n      <td>[\"2Y4125mDrgQyPD7dt76Rtm\"]</td>\n      <td>1</td>\n      <td>1</td>\n      <td>False</td>\n      <td>266078</td>\n      <td>...</td>\n      <td>0.0</td>\n      <td>0.0</td>\n      <td>0.0</td>\n      <td>0.0</td>\n      <td>acoustic cover</td>\n      <td>NaN</td>\n      <td>NaN</td>\n      <td>NaN</td>\n      <td>0</td>\n      <td>0</td>\n    </tr>\n    <tr>\n      <th>4</th>\n      <td>1YcqYmviKagJ68DOmjSWQW</td>\n      <td>Tojo Tojo</td>\n      <td>Tojo Tojo</td>\n      <td>58NV8EvCFPHWwi7HHdVqSy</td>\n      <td>Nik Tendo, Karlo</td>\n      <td>[\"28oxY7ZfDt1BJFf8FVfpEh\", \"6gvVFtkTV4OCyQSCzG...</td>\n      <td>1</td>\n      <td>1</td>\n      <td>True</td>\n      <td>197010</td>\n      <td>...</td>\n      <td>81.0</td>\n      <td>0.0</td>\n      <td>0.0</td>\n      <td>68.0</td>\n      <td>czsk hip hop</td>\n      <td>W.C. Records</td>\n      <td>0.0</td>\n      <td>1.0</td>\n      <td>0</td>\n      <td>0</td>\n    </tr>\n  </tbody>\n</table>\n<p>5 rows × 69 columns</p>\n</div>"
     },
     "execution_count": 15,
     "metadata": {},
     "output_type": "execute_result"
    }
   ],
   "source": [
    "tracks_df = tracks_df.rename(columns={\"chart_months\": \"track_chart_months\"})\n",
    "tracks_df = tracks_df[tracks_df[\"year\"] >= 2000]\n",
    "# features\n",
    "# - chart_status  => [0: never charts, 1: has charted, 2: charted top 10]\n",
    "# - award_status  => [0: never nominated, 1: nominated, 2: won]\n",
    "# - artist_status => [0: never nominated, 1: previously nominated, 2: previous winner]\n",
    "\n",
    "def chart_status(r):\n",
    "    # should chart status account for album or artist charting?\n",
    "    return 2 if r[\"track_chart_peak\"] <= 25\\\n",
    "        else 1 if r[\"track_chart_peak\"] > 0\\\n",
    "        else 0\n",
    "\n",
    "\n",
    "def award_status(r):\n",
    "    # should award status account for album or artist winning?\n",
    "    return 2 if r[\"recording_award_winner\"] >= 1\\\n",
    "        else 1 if r[\"recording_award_nominee\"] >= 1\\\n",
    "        else 0\n",
    "\n",
    "\n",
    "tracks_df[\"chart_status\"] = tracks_df.apply(chart_status, axis=1)\n",
    "tracks_df[\"award_status\"] =  tracks_df.apply(award_status, axis=1)\n",
    "# df[\"artist_status\"] = df.apply(artist_status, axis=1)\n",
    "\n",
    "print(tracks_df.shape)\n",
    "tracks_df.head()"
   ],
   "metadata": {
    "collapsed": false,
    "pycharm": {
     "name": "#%%\n"
    }
   }
  },
  {
   "cell_type": "code",
   "execution_count": 24,
   "outputs": [
    {
     "name": "stdout",
     "output_type": "stream",
     "text": [
      "(72, 69)\n",
      "(71, 69)\n",
      "(8604, 69)\n"
     ]
    },
    {
     "data": {
      "text/plain": "                           id  \\\n534    2UM93jKUu4r3wYujXSczbM   \n598    2htzIJ4B3XBJteChnc1H3m   \n625    55yWXzQRjFqKea0mgxY0K7   \n680    6IFOw9Ck9mWHRQgw6QrPYx   \n992    17rwMsRgXow9SXnUv6Crrq   \n...                       ...   \n15733  0v9wroQ8upZXY63IrpvL5u   \n15793  0C8PBBobLj0eeUQMWbwpSj   \n15925  4J6zcs7YMYiKBLjJUPMHLc   \n16015  3hiRNpEwJBKzYHM0LaP1E7   \n16071  3seflYvRN3gmh50Iih5yMd   \n\n                                                    name  \\\n534    Last Night - Made famous by P Diddy Ft. Keyshi...   \n598    Das geht ab - Wir feiern die ganze Nacht - Atz...   \n625            2012 (If the World Would End) - Radio Mix   \n680                            Music (feat. Marvin Gaye)   \n992                   Haus am See (Tribute To Peter Fox)   \n...                                                  ...   \n15733  Blah Blah Blah (Made Famous by Ke$ha feat. 3OH!3)   \n15793                                   Around the World   \n15925                                      About You Now   \n16015                Stan (Made Famous By Eminem & Dido)   \n16071                                   U Know What's Up   \n\n                                                   album  \\\n534                                  2007 Hot Hits vol 3   \n598    Der Original Bierkönig DJ Chriss Tuxi Präsenti...   \n625                                                Smile   \n680                                                Music   \n992                             Deutsche Klub Musik Hits   \n...                                                  ...   \n15733                  100 Dance Beats For DJs & Singers   \n15793                          Hits 2001 - Abra o Volume   \n15925                                    Noughties Music   \n16015                                    Tunes Now: Hits   \n16071                           The Best of Donell Jones   \n\n                     album_id artists  \\\n534    1qTZxNtKBc5NuO3FDtlBl2           \n598    1e2JmLDonfxWwjia59Nfj1           \n625    1pHPfwu4vFFyEwJK1rSuvA           \n680    7mUzxkBleB7QiVUw6wJsXU           \n992    7epov5fKkbtHMZtySqFugp           \n...                       ...     ...   \n15733  27Ncg4roNEGgvPehJfWNw4           \n15793  5To2tM5XzqpZgNHNvCFsti           \n15925  6Zx6kXuqFy9igTJ3oNesvq           \n16015  7AYPLkS0ZfoqDYEXVG7CFi           \n16071  5L5nD7OgxeVH86DQMQb0Pf           \n\n                                              artist_ids  track_number  \\\n534                           [\"0yHtl7OPYS3CaDLsOzFFw0\"]             1   \n598    [\"38KSpOSYnwQX9zcOcVKdym\", \"4EAaUVCNTVA5rvmdyx...             3   \n625    [\"24Sxfn1uAoJmuR9N72drt9\", \"5zntHEBXOIjmsrPNkd...             8   \n680    [\"2VX0o9LDIVmKIgpnwdJpOJ\", \"3koiLjNrgRTNbOwViD...             4   \n992                           [\"1oTxfI1gMBnoDMtPzrqgWO\"]             6   \n...                                                  ...           ...   \n15733                         [\"6WJseLnjdHlIirNj1d3TLa\"]            11   \n15793                         [\"6BfoBSjpisCQJ2jzeMfnXa\"]             7   \n15925                         [\"7rZNSLWMjTbwdLNskFbzFf\"]             6   \n16015                         [\"5itJHkE0MNCpDbj3SSwIL8\"]            12   \n16071                         [\"5KNqYrivNgVCHBssEUSu5B\"]             1   \n\n       disc_number  explicit  duration_ms  ...  artist_releases  \\\n534              1     False       268761  ...              0.0   \n598              1     False       209230  ...              0.0   \n625              1     False       166963  ...              0.0   \n680              1      True       223133  ...              0.0   \n992              1     False       225843  ...              0.0   \n...            ...       ...          ...  ...              ...   \n15733            2     False       172564  ...              0.0   \n15793            1     False       312354  ...              0.0   \n15925            1     False       212226  ...              0.0   \n16015            2     False       333741  ...              0.0   \n16071            1     False       240813  ...              0.0   \n\n      artist_chart_months  artist_chart_months_recently  \\\n534                   0.0                           0.0   \n598                   0.0                           0.0   \n625                   0.0                           0.0   \n680                   0.0                           0.0   \n992                   0.0                           0.0   \n...                   ...                           ...   \n15733                 0.0                           0.0   \n15793                 0.0                           0.0   \n15925                 0.0                           0.0   \n16015                 0.0                           0.0   \n16071                 0.0                           0.0   \n\n       artist_releases_recently  genre  label_name  major_label  \\\n534                         0.0  other         NaN          NaN   \n598                         0.0  other         NaN          NaN   \n625                         0.0  other         NaN          NaN   \n680                         0.0  other         NaN          NaN   \n992                         0.0  other         NaN          NaN   \n...                         ...    ...         ...          ...   \n15733                       0.0  other         NaN          NaN   \n15793                       0.0  other         NaN          NaN   \n15925                       0.0  other         NaN          NaN   \n16015                       0.0  other         NaN          NaN   \n16071                       0.0  other         NaN          NaN   \n\n       label_matched  chart_status  award_status  \n534              NaN             2             0  \n598              NaN             1             0  \n625              NaN             1             0  \n680              NaN             1             0  \n992              NaN             1             0  \n...              ...           ...           ...  \n15733            NaN             2             0  \n15793            NaN             1             0  \n15925            NaN             2             0  \n16015            NaN             2             0  \n16071            NaN             2             0  \n\n[71 rows x 69 columns]",
      "text/html": "<div>\n<style scoped>\n    .dataframe tbody tr th:only-of-type {\n        vertical-align: middle;\n    }\n\n    .dataframe tbody tr th {\n        vertical-align: top;\n    }\n\n    .dataframe thead th {\n        text-align: right;\n    }\n</style>\n<table border=\"1\" class=\"dataframe\">\n  <thead>\n    <tr style=\"text-align: right;\">\n      <th></th>\n      <th>id</th>\n      <th>name</th>\n      <th>album</th>\n      <th>album_id</th>\n      <th>artists</th>\n      <th>artist_ids</th>\n      <th>track_number</th>\n      <th>disc_number</th>\n      <th>explicit</th>\n      <th>duration_ms</th>\n      <th>...</th>\n      <th>artist_releases</th>\n      <th>artist_chart_months</th>\n      <th>artist_chart_months_recently</th>\n      <th>artist_releases_recently</th>\n      <th>genre</th>\n      <th>label_name</th>\n      <th>major_label</th>\n      <th>label_matched</th>\n      <th>chart_status</th>\n      <th>award_status</th>\n    </tr>\n  </thead>\n  <tbody>\n    <tr>\n      <th>534</th>\n      <td>2UM93jKUu4r3wYujXSczbM</td>\n      <td>Last Night - Made famous by P Diddy Ft. Keyshi...</td>\n      <td>2007 Hot Hits vol 3</td>\n      <td>1qTZxNtKBc5NuO3FDtlBl2</td>\n      <td></td>\n      <td>[\"0yHtl7OPYS3CaDLsOzFFw0\"]</td>\n      <td>1</td>\n      <td>1</td>\n      <td>False</td>\n      <td>268761</td>\n      <td>...</td>\n      <td>0.0</td>\n      <td>0.0</td>\n      <td>0.0</td>\n      <td>0.0</td>\n      <td>other</td>\n      <td>NaN</td>\n      <td>NaN</td>\n      <td>NaN</td>\n      <td>2</td>\n      <td>0</td>\n    </tr>\n    <tr>\n      <th>598</th>\n      <td>2htzIJ4B3XBJteChnc1H3m</td>\n      <td>Das geht ab - Wir feiern die ganze Nacht - Atz...</td>\n      <td>Der Original Bierkönig DJ Chriss Tuxi Präsenti...</td>\n      <td>1e2JmLDonfxWwjia59Nfj1</td>\n      <td></td>\n      <td>[\"38KSpOSYnwQX9zcOcVKdym\", \"4EAaUVCNTVA5rvmdyx...</td>\n      <td>3</td>\n      <td>1</td>\n      <td>False</td>\n      <td>209230</td>\n      <td>...</td>\n      <td>0.0</td>\n      <td>0.0</td>\n      <td>0.0</td>\n      <td>0.0</td>\n      <td>other</td>\n      <td>NaN</td>\n      <td>NaN</td>\n      <td>NaN</td>\n      <td>1</td>\n      <td>0</td>\n    </tr>\n    <tr>\n      <th>625</th>\n      <td>55yWXzQRjFqKea0mgxY0K7</td>\n      <td>2012 (If the World Would End) - Radio Mix</td>\n      <td>Smile</td>\n      <td>1pHPfwu4vFFyEwJK1rSuvA</td>\n      <td></td>\n      <td>[\"24Sxfn1uAoJmuR9N72drt9\", \"5zntHEBXOIjmsrPNkd...</td>\n      <td>8</td>\n      <td>1</td>\n      <td>False</td>\n      <td>166963</td>\n      <td>...</td>\n      <td>0.0</td>\n      <td>0.0</td>\n      <td>0.0</td>\n      <td>0.0</td>\n      <td>other</td>\n      <td>NaN</td>\n      <td>NaN</td>\n      <td>NaN</td>\n      <td>1</td>\n      <td>0</td>\n    </tr>\n    <tr>\n      <th>680</th>\n      <td>6IFOw9Ck9mWHRQgw6QrPYx</td>\n      <td>Music (feat. Marvin Gaye)</td>\n      <td>Music</td>\n      <td>7mUzxkBleB7QiVUw6wJsXU</td>\n      <td></td>\n      <td>[\"2VX0o9LDIVmKIgpnwdJpOJ\", \"3koiLjNrgRTNbOwViD...</td>\n      <td>4</td>\n      <td>1</td>\n      <td>True</td>\n      <td>223133</td>\n      <td>...</td>\n      <td>0.0</td>\n      <td>0.0</td>\n      <td>0.0</td>\n      <td>0.0</td>\n      <td>other</td>\n      <td>NaN</td>\n      <td>NaN</td>\n      <td>NaN</td>\n      <td>1</td>\n      <td>0</td>\n    </tr>\n    <tr>\n      <th>992</th>\n      <td>17rwMsRgXow9SXnUv6Crrq</td>\n      <td>Haus am See (Tribute To Peter Fox)</td>\n      <td>Deutsche Klub Musik Hits</td>\n      <td>7epov5fKkbtHMZtySqFugp</td>\n      <td></td>\n      <td>[\"1oTxfI1gMBnoDMtPzrqgWO\"]</td>\n      <td>6</td>\n      <td>1</td>\n      <td>False</td>\n      <td>225843</td>\n      <td>...</td>\n      <td>0.0</td>\n      <td>0.0</td>\n      <td>0.0</td>\n      <td>0.0</td>\n      <td>other</td>\n      <td>NaN</td>\n      <td>NaN</td>\n      <td>NaN</td>\n      <td>1</td>\n      <td>0</td>\n    </tr>\n    <tr>\n      <th>...</th>\n      <td>...</td>\n      <td>...</td>\n      <td>...</td>\n      <td>...</td>\n      <td>...</td>\n      <td>...</td>\n      <td>...</td>\n      <td>...</td>\n      <td>...</td>\n      <td>...</td>\n      <td>...</td>\n      <td>...</td>\n      <td>...</td>\n      <td>...</td>\n      <td>...</td>\n      <td>...</td>\n      <td>...</td>\n      <td>...</td>\n      <td>...</td>\n      <td>...</td>\n      <td>...</td>\n    </tr>\n    <tr>\n      <th>15733</th>\n      <td>0v9wroQ8upZXY63IrpvL5u</td>\n      <td>Blah Blah Blah (Made Famous by Ke$ha feat. 3OH!3)</td>\n      <td>100 Dance Beats For DJs &amp; Singers</td>\n      <td>27Ncg4roNEGgvPehJfWNw4</td>\n      <td></td>\n      <td>[\"6WJseLnjdHlIirNj1d3TLa\"]</td>\n      <td>11</td>\n      <td>2</td>\n      <td>False</td>\n      <td>172564</td>\n      <td>...</td>\n      <td>0.0</td>\n      <td>0.0</td>\n      <td>0.0</td>\n      <td>0.0</td>\n      <td>other</td>\n      <td>NaN</td>\n      <td>NaN</td>\n      <td>NaN</td>\n      <td>2</td>\n      <td>0</td>\n    </tr>\n    <tr>\n      <th>15793</th>\n      <td>0C8PBBobLj0eeUQMWbwpSj</td>\n      <td>Around the World</td>\n      <td>Hits 2001 - Abra o Volume</td>\n      <td>5To2tM5XzqpZgNHNvCFsti</td>\n      <td></td>\n      <td>[\"6BfoBSjpisCQJ2jzeMfnXa\"]</td>\n      <td>7</td>\n      <td>1</td>\n      <td>False</td>\n      <td>312354</td>\n      <td>...</td>\n      <td>0.0</td>\n      <td>0.0</td>\n      <td>0.0</td>\n      <td>0.0</td>\n      <td>other</td>\n      <td>NaN</td>\n      <td>NaN</td>\n      <td>NaN</td>\n      <td>1</td>\n      <td>0</td>\n    </tr>\n    <tr>\n      <th>15925</th>\n      <td>4J6zcs7YMYiKBLjJUPMHLc</td>\n      <td>About You Now</td>\n      <td>Noughties Music</td>\n      <td>6Zx6kXuqFy9igTJ3oNesvq</td>\n      <td></td>\n      <td>[\"7rZNSLWMjTbwdLNskFbzFf\"]</td>\n      <td>6</td>\n      <td>1</td>\n      <td>False</td>\n      <td>212226</td>\n      <td>...</td>\n      <td>0.0</td>\n      <td>0.0</td>\n      <td>0.0</td>\n      <td>0.0</td>\n      <td>other</td>\n      <td>NaN</td>\n      <td>NaN</td>\n      <td>NaN</td>\n      <td>2</td>\n      <td>0</td>\n    </tr>\n    <tr>\n      <th>16015</th>\n      <td>3hiRNpEwJBKzYHM0LaP1E7</td>\n      <td>Stan (Made Famous By Eminem &amp; Dido)</td>\n      <td>Tunes Now: Hits</td>\n      <td>7AYPLkS0ZfoqDYEXVG7CFi</td>\n      <td></td>\n      <td>[\"5itJHkE0MNCpDbj3SSwIL8\"]</td>\n      <td>12</td>\n      <td>2</td>\n      <td>False</td>\n      <td>333741</td>\n      <td>...</td>\n      <td>0.0</td>\n      <td>0.0</td>\n      <td>0.0</td>\n      <td>0.0</td>\n      <td>other</td>\n      <td>NaN</td>\n      <td>NaN</td>\n      <td>NaN</td>\n      <td>2</td>\n      <td>0</td>\n    </tr>\n    <tr>\n      <th>16071</th>\n      <td>3seflYvRN3gmh50Iih5yMd</td>\n      <td>U Know What's Up</td>\n      <td>The Best of Donell Jones</td>\n      <td>5L5nD7OgxeVH86DQMQb0Pf</td>\n      <td></td>\n      <td>[\"5KNqYrivNgVCHBssEUSu5B\"]</td>\n      <td>1</td>\n      <td>1</td>\n      <td>False</td>\n      <td>240813</td>\n      <td>...</td>\n      <td>0.0</td>\n      <td>0.0</td>\n      <td>0.0</td>\n      <td>0.0</td>\n      <td>other</td>\n      <td>NaN</td>\n      <td>NaN</td>\n      <td>NaN</td>\n      <td>2</td>\n      <td>0</td>\n    </tr>\n  </tbody>\n</table>\n<p>71 rows × 69 columns</p>\n</div>"
     },
     "execution_count": 24,
     "metadata": {},
     "output_type": "execute_result"
    }
   ],
   "source": [
    "print(tracks_df[tracks_df[\"artist_matched\"] == 0].shape)\n",
    "print(tracks_df[(tracks_df[\"artist_matched\"] == 0) & (tracks_df[\"track_chart_months\"] >= 1)].shape)\n",
    "print(tracks_df[tracks_df[\"label_matched\"] != 1].shape)\n",
    "tracks_df[(tracks_df[\"artist_matched\"] == 0) & (tracks_df[\"track_chart_months\"] >= 1)]"
   ],
   "metadata": {
    "collapsed": false,
    "pycharm": {
     "name": "#%%\n"
    }
   }
  },
  {
   "cell_type": "code",
   "execution_count": 20,
   "outputs": [
    {
     "name": "stdout",
     "output_type": "stream",
     "text": [
      "no. tracks: 14967\n",
      "no. chart2000 songs: 12900\n",
      "no. spotify chart songs: 15000\n",
      "no. grammy songs: 580\n",
      "no. tracks w/out features: 2\n",
      "no. tracks w/out chart position: 0\n",
      "no. charted songs w/ nominations: 457\n",
      "no. songs w/out nomination or chart: 14510\n"
     ]
    },
    {
     "data": {
      "text/plain": "                              id   name  album  album_id  artists  artist_ids  \\\nchart_status award_status                                                       \n0            0             11460  11460  11460     11460    11460       11460   \n             1               211    211    211       211      211         211   \n             2                37     37     37        37       37          37   \n1            0              1525   1525   1525      1525     1525        1525   \n             1                41     41     41        41       41          41   \n             2                 3      3      3         3        3           3   \n2            0              1525   1525   1525      1525     1525        1525   \n             1               141    141    141       141      141         141   \n             2                24     24     24        24       24          24   \n\n                           track_number  disc_number  explicit  duration_ms  \\\nchart_status award_status                                                     \n0            0                    11460        11460     11460        11460   \n             1                      211          211       211          211   \n             2                       37           37        37           37   \n1            0                     1525         1525      1525         1525   \n             1                       41           41        41           41   \n             2                        3            3         3            3   \n2            0                     1525         1525      1525         1525   \n             1                      141          141       141          141   \n             2                       24           24        24           24   \n\n                           ...  artist_nominations  artist_wins  \\\nchart_status award_status  ...                                    \n0            0             ...               11460        11460   \n             1             ...                 211          211   \n             2             ...                  37           37   \n1            0             ...                1525         1525   \n             1             ...                  41           41   \n             2             ...                   3            3   \n2            0             ...                1525         1525   \n             1             ...                 141          141   \n             2             ...                  24           24   \n\n                           artist_releases  artist_chart_months  \\\nchart_status award_status                                         \n0            0                       11460                11460   \n             1                         211                  211   \n             2                          37                   37   \n1            0                        1525                 1525   \n             1                          41                   41   \n             2                           3                    3   \n2            0                        1525                 1525   \n             1                         141                  141   \n             2                          24                   24   \n\n                           artist_chart_months_recently  \\\nchart_status award_status                                 \n0            0                                    11460   \n             1                                      211   \n             2                                       37   \n1            0                                     1525   \n             1                                       41   \n             2                                        3   \n2            0                                     1525   \n             1                                      141   \n             2                                       24   \n\n                           artist_releases_recently  genre  label_name  \\\nchart_status award_status                                                \n0            0                                11460  11460        4997   \n             1                                  211    211           0   \n             2                                   37     37           0   \n1            0                                 1525   1525          19   \n             1                                   41     41           0   \n             2                                    3      3           0   \n2            0                                 1525   1525          17   \n             1                                  141    141           0   \n             2                                   24     24           0   \n\n                           major_label  label_matched  \nchart_status award_status                              \n0            0                    6318           6318  \n             1                       0              0  \n             2                       0              0  \n1            0                      23             23  \n             1                       0              0  \n             2                       0              0  \n2            0                      22             22  \n             1                       0              0  \n             2                       0              0  \n\n[9 rows x 67 columns]",
      "text/html": "<div>\n<style scoped>\n    .dataframe tbody tr th:only-of-type {\n        vertical-align: middle;\n    }\n\n    .dataframe tbody tr th {\n        vertical-align: top;\n    }\n\n    .dataframe thead th {\n        text-align: right;\n    }\n</style>\n<table border=\"1\" class=\"dataframe\">\n  <thead>\n    <tr style=\"text-align: right;\">\n      <th></th>\n      <th></th>\n      <th>id</th>\n      <th>name</th>\n      <th>album</th>\n      <th>album_id</th>\n      <th>artists</th>\n      <th>artist_ids</th>\n      <th>track_number</th>\n      <th>disc_number</th>\n      <th>explicit</th>\n      <th>duration_ms</th>\n      <th>...</th>\n      <th>artist_nominations</th>\n      <th>artist_wins</th>\n      <th>artist_releases</th>\n      <th>artist_chart_months</th>\n      <th>artist_chart_months_recently</th>\n      <th>artist_releases_recently</th>\n      <th>genre</th>\n      <th>label_name</th>\n      <th>major_label</th>\n      <th>label_matched</th>\n    </tr>\n    <tr>\n      <th>chart_status</th>\n      <th>award_status</th>\n      <th></th>\n      <th></th>\n      <th></th>\n      <th></th>\n      <th></th>\n      <th></th>\n      <th></th>\n      <th></th>\n      <th></th>\n      <th></th>\n      <th></th>\n      <th></th>\n      <th></th>\n      <th></th>\n      <th></th>\n      <th></th>\n      <th></th>\n      <th></th>\n      <th></th>\n      <th></th>\n      <th></th>\n    </tr>\n  </thead>\n  <tbody>\n    <tr>\n      <th rowspan=\"3\" valign=\"top\">0</th>\n      <th>0</th>\n      <td>11460</td>\n      <td>11460</td>\n      <td>11460</td>\n      <td>11460</td>\n      <td>11460</td>\n      <td>11460</td>\n      <td>11460</td>\n      <td>11460</td>\n      <td>11460</td>\n      <td>11460</td>\n      <td>...</td>\n      <td>11460</td>\n      <td>11460</td>\n      <td>11460</td>\n      <td>11460</td>\n      <td>11460</td>\n      <td>11460</td>\n      <td>11460</td>\n      <td>4997</td>\n      <td>6318</td>\n      <td>6318</td>\n    </tr>\n    <tr>\n      <th>1</th>\n      <td>211</td>\n      <td>211</td>\n      <td>211</td>\n      <td>211</td>\n      <td>211</td>\n      <td>211</td>\n      <td>211</td>\n      <td>211</td>\n      <td>211</td>\n      <td>211</td>\n      <td>...</td>\n      <td>211</td>\n      <td>211</td>\n      <td>211</td>\n      <td>211</td>\n      <td>211</td>\n      <td>211</td>\n      <td>211</td>\n      <td>0</td>\n      <td>0</td>\n      <td>0</td>\n    </tr>\n    <tr>\n      <th>2</th>\n      <td>37</td>\n      <td>37</td>\n      <td>37</td>\n      <td>37</td>\n      <td>37</td>\n      <td>37</td>\n      <td>37</td>\n      <td>37</td>\n      <td>37</td>\n      <td>37</td>\n      <td>...</td>\n      <td>37</td>\n      <td>37</td>\n      <td>37</td>\n      <td>37</td>\n      <td>37</td>\n      <td>37</td>\n      <td>37</td>\n      <td>0</td>\n      <td>0</td>\n      <td>0</td>\n    </tr>\n    <tr>\n      <th rowspan=\"3\" valign=\"top\">1</th>\n      <th>0</th>\n      <td>1525</td>\n      <td>1525</td>\n      <td>1525</td>\n      <td>1525</td>\n      <td>1525</td>\n      <td>1525</td>\n      <td>1525</td>\n      <td>1525</td>\n      <td>1525</td>\n      <td>1525</td>\n      <td>...</td>\n      <td>1525</td>\n      <td>1525</td>\n      <td>1525</td>\n      <td>1525</td>\n      <td>1525</td>\n      <td>1525</td>\n      <td>1525</td>\n      <td>19</td>\n      <td>23</td>\n      <td>23</td>\n    </tr>\n    <tr>\n      <th>1</th>\n      <td>41</td>\n      <td>41</td>\n      <td>41</td>\n      <td>41</td>\n      <td>41</td>\n      <td>41</td>\n      <td>41</td>\n      <td>41</td>\n      <td>41</td>\n      <td>41</td>\n      <td>...</td>\n      <td>41</td>\n      <td>41</td>\n      <td>41</td>\n      <td>41</td>\n      <td>41</td>\n      <td>41</td>\n      <td>41</td>\n      <td>0</td>\n      <td>0</td>\n      <td>0</td>\n    </tr>\n    <tr>\n      <th>2</th>\n      <td>3</td>\n      <td>3</td>\n      <td>3</td>\n      <td>3</td>\n      <td>3</td>\n      <td>3</td>\n      <td>3</td>\n      <td>3</td>\n      <td>3</td>\n      <td>3</td>\n      <td>...</td>\n      <td>3</td>\n      <td>3</td>\n      <td>3</td>\n      <td>3</td>\n      <td>3</td>\n      <td>3</td>\n      <td>3</td>\n      <td>0</td>\n      <td>0</td>\n      <td>0</td>\n    </tr>\n    <tr>\n      <th rowspan=\"3\" valign=\"top\">2</th>\n      <th>0</th>\n      <td>1525</td>\n      <td>1525</td>\n      <td>1525</td>\n      <td>1525</td>\n      <td>1525</td>\n      <td>1525</td>\n      <td>1525</td>\n      <td>1525</td>\n      <td>1525</td>\n      <td>1525</td>\n      <td>...</td>\n      <td>1525</td>\n      <td>1525</td>\n      <td>1525</td>\n      <td>1525</td>\n      <td>1525</td>\n      <td>1525</td>\n      <td>1525</td>\n      <td>17</td>\n      <td>22</td>\n      <td>22</td>\n    </tr>\n    <tr>\n      <th>1</th>\n      <td>141</td>\n      <td>141</td>\n      <td>141</td>\n      <td>141</td>\n      <td>141</td>\n      <td>141</td>\n      <td>141</td>\n      <td>141</td>\n      <td>141</td>\n      <td>141</td>\n      <td>...</td>\n      <td>141</td>\n      <td>141</td>\n      <td>141</td>\n      <td>141</td>\n      <td>141</td>\n      <td>141</td>\n      <td>141</td>\n      <td>0</td>\n      <td>0</td>\n      <td>0</td>\n    </tr>\n    <tr>\n      <th>2</th>\n      <td>24</td>\n      <td>24</td>\n      <td>24</td>\n      <td>24</td>\n      <td>24</td>\n      <td>24</td>\n      <td>24</td>\n      <td>24</td>\n      <td>24</td>\n      <td>24</td>\n      <td>...</td>\n      <td>24</td>\n      <td>24</td>\n      <td>24</td>\n      <td>24</td>\n      <td>24</td>\n      <td>24</td>\n      <td>24</td>\n      <td>0</td>\n      <td>0</td>\n      <td>0</td>\n    </tr>\n  </tbody>\n</table>\n<p>9 rows × 67 columns</p>\n</div>"
     },
     "execution_count": 20,
     "metadata": {},
     "output_type": "execute_result"
    }
   ],
   "source": [
    "print(f\"no. tracks: {len(tracks_df)}\")\n",
    "print(f\"no. chart2000 songs: {len(song_chart_df)}\")\n",
    "print(f\"no. spotify chart songs: {len(spotify_chart_df)}\")\n",
    "print(f\"no. grammy songs: {len(recording_nominations_df)}\")\n",
    "print(f\"no. tracks w/out features: {(tracks_df['audio_features'] == 0).sum()}\")\n",
    "# print(f\"no. track features w/out nominations: {tracks_df['spotify_track_id'].isnull().sum()}\")\n",
    "print(f\"no. tracks w/out chart position: {len(tracks_df[(tracks_df['track_chart_months'].isnull()) & (tracks_df['recording_award_nominee'] > 0)])}\")\n",
    "print(f\"no. charted songs w/ nominations: {len(tracks_df[(~tracks_df['track_chart_months'].isnull()) & (tracks_df['recording_award_nominee'] > 0)])}\")\n",
    "print(f\"no. songs w/out nomination or chart: {len(tracks_df[(~tracks_df['track_chart_months'].isnull()) & (tracks_df['recording_award_nominee'] == 0)])}\")\n",
    "\n",
    "tracks_df.to_csv(data_path / \"tracks.csv.gz\", compression=\"gzip\", index=False)\n",
    "tracks_df.to_parquet(data_path / \"tracks.pq\", index=False)\n",
    "\n",
    "tracks_df.groupby([\"chart_status\", \"award_status\"]).count()"
   ],
   "metadata": {
    "collapsed": false,
    "pycharm": {
     "name": "#%%\n"
    }
   }
  },
  {
   "cell_type": "code",
   "execution_count": 18,
   "outputs": [
    {
     "data": {
      "text/plain": "       track_chart_months  recording_award_nominee\n0                     0.0                      0.0\n1                     0.0                      0.0\n2                     0.0                      0.0\n3                     0.0                      0.0\n4                     0.0                      0.0\n...                   ...                      ...\n16123                 0.0                      0.0\n16124                 1.0                      0.0\n16125                 0.0                      0.0\n16127                 0.0                      0.0\n16128                 5.0                      0.0\n\n[14510 rows x 2 columns]",
      "text/html": "<div>\n<style scoped>\n    .dataframe tbody tr th:only-of-type {\n        vertical-align: middle;\n    }\n\n    .dataframe tbody tr th {\n        vertical-align: top;\n    }\n\n    .dataframe thead th {\n        text-align: right;\n    }\n</style>\n<table border=\"1\" class=\"dataframe\">\n  <thead>\n    <tr style=\"text-align: right;\">\n      <th></th>\n      <th>track_chart_months</th>\n      <th>recording_award_nominee</th>\n    </tr>\n  </thead>\n  <tbody>\n    <tr>\n      <th>0</th>\n      <td>0.0</td>\n      <td>0.0</td>\n    </tr>\n    <tr>\n      <th>1</th>\n      <td>0.0</td>\n      <td>0.0</td>\n    </tr>\n    <tr>\n      <th>2</th>\n      <td>0.0</td>\n      <td>0.0</td>\n    </tr>\n    <tr>\n      <th>3</th>\n      <td>0.0</td>\n      <td>0.0</td>\n    </tr>\n    <tr>\n      <th>4</th>\n      <td>0.0</td>\n      <td>0.0</td>\n    </tr>\n    <tr>\n      <th>...</th>\n      <td>...</td>\n      <td>...</td>\n    </tr>\n    <tr>\n      <th>16123</th>\n      <td>0.0</td>\n      <td>0.0</td>\n    </tr>\n    <tr>\n      <th>16124</th>\n      <td>1.0</td>\n      <td>0.0</td>\n    </tr>\n    <tr>\n      <th>16125</th>\n      <td>0.0</td>\n      <td>0.0</td>\n    </tr>\n    <tr>\n      <th>16127</th>\n      <td>0.0</td>\n      <td>0.0</td>\n    </tr>\n    <tr>\n      <th>16128</th>\n      <td>5.0</td>\n      <td>0.0</td>\n    </tr>\n  </tbody>\n</table>\n<p>14510 rows × 2 columns</p>\n</div>"
     },
     "execution_count": 18,
     "metadata": {},
     "output_type": "execute_result"
    }
   ],
   "source": [
    "tracks_df[[\"track_chart_months\", \"recording_award_nominee\"]][(~tracks_df['track_chart_months'].isnull()) & (tracks_df['recording_award_nominee'] == 0)]"
   ],
   "metadata": {
    "collapsed": false,
    "pycharm": {
     "name": "#%%\n"
    }
   }
  },
  {
   "cell_type": "code",
   "execution_count": 19,
   "outputs": [
    {
     "ename": "NameError",
     "evalue": "name 'df' is not defined",
     "output_type": "error",
     "traceback": [
      "\u001B[0;31m---------------------------------------------------------------------------\u001B[0m",
      "\u001B[0;31mNameError\u001B[0m                                 Traceback (most recent call last)",
      "\u001B[0;32m/var/folders/x2/3tdlb6px40qfq870vwx5y6080000gn/T/ipykernel_61616/1127206283.py\u001B[0m in \u001B[0;36m<module>\u001B[0;34m\u001B[0m\n\u001B[0;32m----> 1\u001B[0;31m track_features_full_df = df[[\n\u001B[0m\u001B[1;32m      2\u001B[0m     \u001B[0;34m'id'\u001B[0m\u001B[0;34m,\u001B[0m\u001B[0;34m\u001B[0m\u001B[0;34m\u001B[0m\u001B[0m\n\u001B[1;32m      3\u001B[0m     \u001B[0;34m'name'\u001B[0m\u001B[0;34m,\u001B[0m\u001B[0;34m\u001B[0m\u001B[0;34m\u001B[0m\u001B[0m\n\u001B[1;32m      4\u001B[0m     \u001B[0;34m'album'\u001B[0m\u001B[0;34m,\u001B[0m\u001B[0;34m\u001B[0m\u001B[0;34m\u001B[0m\u001B[0m\n\u001B[1;32m      5\u001B[0m     \u001B[0;34m'album_id'\u001B[0m\u001B[0;34m,\u001B[0m\u001B[0;34m\u001B[0m\u001B[0;34m\u001B[0m\u001B[0m\n",
      "\u001B[0;31mNameError\u001B[0m: name 'df' is not defined"
     ]
    }
   ],
   "source": [
    "track_features_full_df = df[[\n",
    "    'id',\n",
    "    'name',\n",
    "    'album',\n",
    "    'album_id',\n",
    "    'artists',\n",
    "    'artist_ids',\n",
    "    'track_number',\n",
    "    'disc_number',\n",
    "    'explicit',\n",
    "    'duration_ms',\n",
    "    'year',\n",
    "    'release_date',\n",
    "    'popularity',\n",
    "    'isrc',\n",
    "    # spotify audio features\n",
    "    'audio_features', # has audio features\n",
    "    'danceability',\n",
    "    'energy',\n",
    "    'key',\n",
    "    'loudness',\n",
    "    'mode',\n",
    "    'speechiness',\n",
    "    'acousticness',\n",
    "    'instrumentalness',\n",
    "    'liveness',\n",
    "    'valence',\n",
    "    'tempo',\n",
    "    'time_signature',\n",
    "    # artist\n",
    "    'artist_genre',\n",
    "    'artist_gender',\n",
    "    'artist_country',\n",
    "    'artist_hometown',\n",
    "    'artist_begin',\n",
    "    'artist_total_releases'\n",
    "    # charts2000\n",
    "    'months', # num months on charts\n",
    "    'indicativerevenue',\n",
    "    'position_min',\n",
    "    'position_mean',\n",
    "    'position_median',\n",
    "    # grammy award result for this song\n",
    "    'recording_award_category',\n",
    "    'recording_award_nominee',\n",
    "    'recording_award_winner',\n",
    "    # grammy award result for this song\n",
    "    'album_award_category',\n",
    "    'album_award_nominee',\n",
    "    'album_award_winner',\n",
    "    # grammy nomination history for artist\n",
    "    'artist_total_nominations',\n",
    "    'artist_total_wins',\n",
    "    'artist_first_nomination',\n",
    "    'artist_first_win',\n",
    "    'artist_previous_nominations',\n",
    "    'artist_previous_wins',\n",
    "    # quick categories\n",
    "    'chart_status',\n",
    "    'award_status',\n",
    "    'artist_status'\n",
    "]]\n",
    "\n",
    "track_features_full_df.to_csv(\"../../data/02-track_features_balanced_wide.csv.gz\", compression=\"gzip\", index=False)\n",
    "track_features_full_df.to_parquet(\"../../data/02-track_features_balanced_wide.pq\", index=False)\n",
    "\n",
    "track_features_slim_df = df[[\n",
    "    'id',\n",
    "    'name',\n",
    "    'album',\n",
    "    'album_id',\n",
    "    'artists',\n",
    "    'artist_ids',\n",
    "    'track_number',\n",
    "    'disc_number',\n",
    "    'explicit',\n",
    "    'duration_ms',\n",
    "    'year',\n",
    "    'release_date',\n",
    "    'popularity',\n",
    "    # spotify audio features\n",
    "    'audio_features', # has audio features\n",
    "    'danceability',\n",
    "    'energy',\n",
    "    'key',\n",
    "    'loudness',\n",
    "    'mode',\n",
    "    'speechiness',\n",
    "    'acousticness',\n",
    "    'instrumentalness',\n",
    "    'liveness',\n",
    "    'valence',\n",
    "    'tempo',\n",
    "    'time_signature',\n",
    "    # artist\n",
    "    'artist_genre',\n",
    "    'artist_gender',\n",
    "    'artist_country',\n",
    "    'artist_hometown',\n",
    "    'artist_begin',\n",
    "    'artist_total_releases',\n",
    "    # quick categories\n",
    "    'chart_status',\n",
    "    'award_status',\n",
    "    'artist_status'\n",
    "]]\n",
    "\n",
    "track_features_slim_df.to_csv(\"../../data/02-track_features_balanced.csv.gz\", compression=\"gzip\", index=False)\n",
    "track_features_slim_df.to_parquet(\"../../data/02-track_features_balanced.pq\", index=False)"
   ],
   "metadata": {
    "collapsed": false,
    "pycharm": {
     "name": "#%%\n"
    }
   }
  },
  {
   "cell_type": "markdown",
   "source": [],
   "metadata": {
    "collapsed": false
   }
  },
  {
   "cell_type": "code",
   "execution_count": null,
   "outputs": [],
   "source": [
    "track_df = pd.read_parquet(data_path / \"tracks.pq\")\n",
    "print(track_df[track_df[\"artist_matched\"] == 0].shape)\n",
    "print(track_df[track_df[\"label_matched\"] == 0].shape)"
   ],
   "metadata": {
    "collapsed": false,
    "pycharm": {
     "name": "#%%\n"
    }
   }
  },
  {
   "cell_type": "markdown",
   "source": [],
   "metadata": {
    "collapsed": false
   }
  },
  {
   "cell_type": "code",
   "execution_count": null,
   "outputs": [],
   "source": [
    "tracks_df = pd.read_parquet(data_path / \"tracks.pq\")\n",
    "print(tracks_df[tracks_df[\"artist_matched\"] == 0].shape)\n",
    "print(tracks_df[tracks_df[\"label_matched\"] == 0].shape)"
   ],
   "metadata": {
    "collapsed": false,
    "pycharm": {
     "name": "#%%\n"
    }
   }
  },
  {
   "cell_type": "code",
   "execution_count": null,
   "outputs": [],
   "source": [],
   "metadata": {
    "collapsed": false,
    "pycharm": {
     "name": "#%%\n"
    }
   }
  }
 ],
 "metadata": {
  "kernelspec": {
   "display_name": "Python 3",
   "language": "python",
   "name": "python3"
  },
  "language_info": {
   "codemirror_mode": {
    "name": "ipython",
    "version": 2
   },
   "file_extension": ".py",
   "mimetype": "text/x-python",
   "name": "python",
   "nbconvert_exporter": "python",
   "pygments_lexer": "ipython2",
   "version": "2.7.6"
  }
 },
 "nbformat": 4,
 "nbformat_minor": 0
}