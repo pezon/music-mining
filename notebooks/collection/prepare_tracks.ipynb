{
 "cells": [
  {
   "cell_type": "code",
   "execution_count": 57,
   "outputs": [],
   "source": [
    "import json\n",
    "import itertools\n",
    "import os\n",
    "import random\n",
    "from pathlib import Path\n",
    "from time import sleep\n",
    "\n",
    "import numpy as np\n",
    "import pandas as pd\n",
    "from dotenv import load_dotenv\n",
    "\n",
    "from spotipy import Spotify\n",
    "from spotipy.oauth2 import SpotifyClientCredentials\n",
    "\n",
    "diff_dataset = True\n",
    "\n",
    "data_path = Path(\"../../data\").resolve()\n",
    "os.makedirs(data_path, exist_ok=True)\n",
    "\n",
    "load_dotenv()\n",
    "spotify = Spotify(client_credentials_manager=SpotifyClientCredentials(),\n",
    "                  requests_timeout=10, retries=3)"
   ],
   "metadata": {
    "collapsed": false,
    "pycharm": {
     "name": "#%%\n"
    }
   }
  },
  {
   "cell_type": "code",
   "execution_count": 58,
   "metadata": {
    "collapsed": true
   },
   "outputs": [],
   "source": [
    "def fetch_spotify_chart(filepath, num_samples=1000, seed=42):\n",
    "    # currently: batshit crazy 4.3 GB spotify top200 chart CSV from kaggle: https://www.kaggle.com/general/232036\n",
    "    # @TODO: series of fetching for random date from 1/1/2017 to present day.\n",
    "    # url = \"https://spotifycharts.com/regional/global/weekly/2018-10-12--2018-10-19/download\"\n",
    "    random.seed(seed)\n",
    "    n = sum(1 for line in open(filepath)) - 1  # number of records in file (excludes header)\n",
    "    s = num_samples  # desired sample size\n",
    "    skip = sorted(random.sample(range(1, n + 1), n - s))  # the 0-indexed header will not be included in the skip list\n",
    "    df = pd.read_csv(filepath, skiprows=skip)\n",
    "    df[\"id\"] = df[\"url\"].apply(lambda url: url.split(\"/\")[-1])\n",
    "    return df\n",
    "\n",
    "\n",
    "spotify_chart_df = fetch_spotify_chart(\"/Users/pez/Downloads/charts.csv\", num_samples=15000, seed=42)"
   ]
  },
  {
   "cell_type": "code",
   "execution_count": 59,
   "outputs": [
    {
     "name": "stdout",
     "output_type": "stream",
     "text": [
      "unique track_ids: 11339\n"
     ]
    }
   ],
   "source": [
    "def extract_track_ids(df, id_key=\"id\"):\n",
    "    return list(df[(~df[id_key].isnull())]\n",
    "                [id_key].to_dict().values())\n",
    "\n",
    "# track ids from spotify top 200 daily charts selected at random\n",
    "spotify_chart_track_ids = extract_track_ids(spotify_chart_df, \"id\")\n",
    "\n",
    "# track ids from grammy nominations dataset\n",
    "recording_nominations_df = pd.read_parquet(data_path / \"raw/recording_nominations.pq\")\n",
    "recording_nominations_track_ids = extract_track_ids(recording_nominations_df, \"spotify_track_id\")\n",
    "\n",
    "# track ids from chart2000 dataset\n",
    "song_chart_df = pd.read_parquet(data_path / \"raw/song_chart_by_month.pq\")\n",
    "song_chart_track_ids = extract_track_ids(song_chart_df, \"spotify_track_id\")\n",
    "\n",
    "track_ids = list(set(\n",
    "    recording_nominations_track_ids\n",
    "    + song_chart_track_ids\n",
    "    + spotify_chart_track_ids\n",
    "))\n",
    "\n",
    "print(f\"unique track_ids: {len(track_ids)}\")"
   ],
   "metadata": {
    "collapsed": false,
    "pycharm": {
     "name": "#%%\n"
    }
   }
  },
  {
   "cell_type": "code",
   "execution_count": 60,
   "outputs": [
    {
     "name": "stdout",
     "output_type": "stream",
     "text": [
      "fetching track metadata: 0 (0.00)\n",
      "fetching track metadata: 500 (4.41)\n",
      "fetching track metadata: 1000 (8.82)\n",
      "fetching track metadata: 1500 (13.23)\n",
      "fetching track metadata: 2000 (17.64)\n",
      "fetching track metadata: 2500 (22.05)\n",
      "fetching track metadata: 3000 (26.46)\n",
      "fetching track metadata: 3500 (30.87)\n",
      "fetching track metadata: 4000 (35.28)\n",
      "fetching track metadata: 4500 (39.69)\n",
      "fetching track metadata: 5000 (44.10)\n",
      "fetching track metadata: 5500 (48.51)\n",
      "fetching track metadata: 6000 (52.91)\n",
      "fetching track metadata: 6500 (57.32)\n",
      "fetching track metadata: 7000 (61.73)\n",
      "fetching track metadata: 7500 (66.14)\n",
      "fetching track metadata: 8000 (70.55)\n",
      "fetching track metadata: 8500 (74.96)\n",
      "fetching track metadata: 9000 (79.37)\n",
      "fetching track metadata: 9500 (83.78)\n",
      "fetching track metadata: 10000 (88.19)\n",
      "fetching track metadata: 10500 (92.60)\n",
      "fetching track metadata: 11000 (97.01)\n",
      "(11339, 27)\n"
     ]
    },
    {
     "data": {
      "text/plain": "                       id                         name  \\\n0  36W02sCbiFy6lQTEHCV7Ci                   Slime Love   \n1  5AsFlY8KFYMDTlQkOdBl39                Cielito Lindo   \n2  5HaKldnT9gWe70hr8bstmh  Tình Nào Không Như Tình Đầu   \n3  2ZAx6NDhX2yE5aL5ueEQgY                 Mr. Saxobeat   \n4  2Oycxb8QbPkpHTo8ZrmG0B                     Prisoner   \n\n                         album                album_id  \\\n0                   Slime Love  0CztyGcRJxeiQxekV49lst   \n1                Cielito Lindo  1Dam295LxkVAmxAPhdsvKf   \n2  Tình Nào Không Như Tình Đầu  0PJ9GHkwJeFdhGC9WkTvrZ   \n3                    Saxobeats  25hD73WRfQAPuFMRibSjby   \n4               Plastic Hearts  5BRhg6NSEZOj0BR6Iz56fR   \n\n                       artists  \\\n0      [\"uglystephan archive\"]   \n1            [\"Carlos Rivera\"]   \n2          [\"Trung Qu\\u00e2n\"]   \n3           [\"Alexandra Stan\"]   \n4  [\"Miley Cyrus\", \"Dua Lipa\"]   \n\n                                          artist_ids  track_number  \\\n0                         [\"4De9u0pfKn6Eu4qSZgDnKZ\"]             1   \n1                         [\"39yVoqm6sYFvvqF1RciUVf\"]             1   \n2                         [\"5Cf9nBDNc99UFkq9Yqap7Q\"]             1   \n3                         [\"0BmLNz4nSLfoWYW1cYsElL\"]             1   \n4  [\"5YGY8feqx7naU7z4HrwZM6\", \"6M2wZ9GZgrQXHCFfjv...             4   \n\n   disc_number  explicit  duration_ms  ...  key loudness  mode  speechiness  \\\n0            1      True       188871  ...  6.0  -15.353   0.0       0.2120   \n1            1     False       227106  ...  2.0   -6.093   1.0       0.0607   \n2            1     False       281960  ...  3.0   -8.746   1.0       0.0386   \n3            1     False       195105  ...  4.0   -4.165   0.0       0.0511   \n4            1     False       169333  ...  3.0   -3.912   0.0       0.0452   \n\n  acousticness  instrumentalness  liveness  valence    tempo  time_signature  \n0       0.6450          0.000611    0.1400    0.374  141.107             4.0  \n1       0.0899          0.000030    0.9080    0.689  116.992             4.0  \n2       0.8020          0.000000    0.0754    0.309  130.025             4.0  \n3       0.0276          0.000238    0.1400    0.781  127.004             4.0  \n4       0.0103          0.000000    0.0761    0.595  127.990             4.0  \n\n[5 rows x 27 columns]",
      "text/html": "<div>\n<style scoped>\n    .dataframe tbody tr th:only-of-type {\n        vertical-align: middle;\n    }\n\n    .dataframe tbody tr th {\n        vertical-align: top;\n    }\n\n    .dataframe thead th {\n        text-align: right;\n    }\n</style>\n<table border=\"1\" class=\"dataframe\">\n  <thead>\n    <tr style=\"text-align: right;\">\n      <th></th>\n      <th>id</th>\n      <th>name</th>\n      <th>album</th>\n      <th>album_id</th>\n      <th>artists</th>\n      <th>artist_ids</th>\n      <th>track_number</th>\n      <th>disc_number</th>\n      <th>explicit</th>\n      <th>duration_ms</th>\n      <th>...</th>\n      <th>key</th>\n      <th>loudness</th>\n      <th>mode</th>\n      <th>speechiness</th>\n      <th>acousticness</th>\n      <th>instrumentalness</th>\n      <th>liveness</th>\n      <th>valence</th>\n      <th>tempo</th>\n      <th>time_signature</th>\n    </tr>\n  </thead>\n  <tbody>\n    <tr>\n      <th>0</th>\n      <td>36W02sCbiFy6lQTEHCV7Ci</td>\n      <td>Slime Love</td>\n      <td>Slime Love</td>\n      <td>0CztyGcRJxeiQxekV49lst</td>\n      <td>[\"uglystephan archive\"]</td>\n      <td>[\"4De9u0pfKn6Eu4qSZgDnKZ\"]</td>\n      <td>1</td>\n      <td>1</td>\n      <td>True</td>\n      <td>188871</td>\n      <td>...</td>\n      <td>6.0</td>\n      <td>-15.353</td>\n      <td>0.0</td>\n      <td>0.2120</td>\n      <td>0.6450</td>\n      <td>0.000611</td>\n      <td>0.1400</td>\n      <td>0.374</td>\n      <td>141.107</td>\n      <td>4.0</td>\n    </tr>\n    <tr>\n      <th>1</th>\n      <td>5AsFlY8KFYMDTlQkOdBl39</td>\n      <td>Cielito Lindo</td>\n      <td>Cielito Lindo</td>\n      <td>1Dam295LxkVAmxAPhdsvKf</td>\n      <td>[\"Carlos Rivera\"]</td>\n      <td>[\"39yVoqm6sYFvvqF1RciUVf\"]</td>\n      <td>1</td>\n      <td>1</td>\n      <td>False</td>\n      <td>227106</td>\n      <td>...</td>\n      <td>2.0</td>\n      <td>-6.093</td>\n      <td>1.0</td>\n      <td>0.0607</td>\n      <td>0.0899</td>\n      <td>0.000030</td>\n      <td>0.9080</td>\n      <td>0.689</td>\n      <td>116.992</td>\n      <td>4.0</td>\n    </tr>\n    <tr>\n      <th>2</th>\n      <td>5HaKldnT9gWe70hr8bstmh</td>\n      <td>Tình Nào Không Như Tình Đầu</td>\n      <td>Tình Nào Không Như Tình Đầu</td>\n      <td>0PJ9GHkwJeFdhGC9WkTvrZ</td>\n      <td>[\"Trung Qu\\u00e2n\"]</td>\n      <td>[\"5Cf9nBDNc99UFkq9Yqap7Q\"]</td>\n      <td>1</td>\n      <td>1</td>\n      <td>False</td>\n      <td>281960</td>\n      <td>...</td>\n      <td>3.0</td>\n      <td>-8.746</td>\n      <td>1.0</td>\n      <td>0.0386</td>\n      <td>0.8020</td>\n      <td>0.000000</td>\n      <td>0.0754</td>\n      <td>0.309</td>\n      <td>130.025</td>\n      <td>4.0</td>\n    </tr>\n    <tr>\n      <th>3</th>\n      <td>2ZAx6NDhX2yE5aL5ueEQgY</td>\n      <td>Mr. Saxobeat</td>\n      <td>Saxobeats</td>\n      <td>25hD73WRfQAPuFMRibSjby</td>\n      <td>[\"Alexandra Stan\"]</td>\n      <td>[\"0BmLNz4nSLfoWYW1cYsElL\"]</td>\n      <td>1</td>\n      <td>1</td>\n      <td>False</td>\n      <td>195105</td>\n      <td>...</td>\n      <td>4.0</td>\n      <td>-4.165</td>\n      <td>0.0</td>\n      <td>0.0511</td>\n      <td>0.0276</td>\n      <td>0.000238</td>\n      <td>0.1400</td>\n      <td>0.781</td>\n      <td>127.004</td>\n      <td>4.0</td>\n    </tr>\n    <tr>\n      <th>4</th>\n      <td>2Oycxb8QbPkpHTo8ZrmG0B</td>\n      <td>Prisoner</td>\n      <td>Plastic Hearts</td>\n      <td>5BRhg6NSEZOj0BR6Iz56fR</td>\n      <td>[\"Miley Cyrus\", \"Dua Lipa\"]</td>\n      <td>[\"5YGY8feqx7naU7z4HrwZM6\", \"6M2wZ9GZgrQXHCFfjv...</td>\n      <td>4</td>\n      <td>1</td>\n      <td>False</td>\n      <td>169333</td>\n      <td>...</td>\n      <td>3.0</td>\n      <td>-3.912</td>\n      <td>0.0</td>\n      <td>0.0452</td>\n      <td>0.0103</td>\n      <td>0.000000</td>\n      <td>0.0761</td>\n      <td>0.595</td>\n      <td>127.990</td>\n      <td>4.0</td>\n    </tr>\n  </tbody>\n</table>\n<p>5 rows × 27 columns</p>\n</div>"
     },
     "execution_count": 60,
     "metadata": {},
     "output_type": "execute_result"
    }
   ],
   "source": [
    "def fetch_bulk_track_features(track_ids):\n",
    "    fetched_tracks = []\n",
    "    for i in range(0, len(track_ids), 50):\n",
    "        chunk = track_ids[i:i + 50]\n",
    "        if i % 500 == 0:\n",
    "            print(f\"fetching track metadata: {i} ({i / len(track_ids) * 100:.2f})\")\n",
    "        tracks = spotify.tracks(chunk)[\"tracks\"]\n",
    "        sleep(.50)\n",
    "        track_audio_features = spotify.audio_features(chunk)\n",
    "        sleep(.50)\n",
    "        for track, audio_features in zip(tracks, track_audio_features):\n",
    "            track_ = {\n",
    "                \"id\": track[\"id\"],\n",
    "                \"name\": track[\"name\"],\n",
    "                \"album\": track[\"album\"][\"name\"],\n",
    "                \"album_id\": track[\"album\"][\"id\"],\n",
    "                \"artists\": json.dumps([a[\"name\"] for a in track[\"artists\"]]),\n",
    "                \"artist_ids\": json.dumps([a[\"id\"] for a in track[\"artists\"]]),\n",
    "                \"track_number\": track[\"track_number\"],\n",
    "                \"disc_number\": track[\"disc_number\"],\n",
    "                \"explicit\": track[\"explicit\"],\n",
    "                \"duration_ms\": track[\"duration_ms\"],\n",
    "                \"year\": int(track[\"album\"][\"release_date\"][0:4]),\n",
    "                \"release_date\": track[\"album\"][\"release_date\"],\n",
    "                \"popularity\": track[\"popularity\"],\n",
    "                \"audio_features\": 0,\n",
    "                \"isrc\": track.get(\"external_ids\", {}).get(\"isrc\")\n",
    "            }\n",
    "            if audio_features is not None:\n",
    "                track_.update({\n",
    "                    \"audio_features\": 1,\n",
    "                    \"danceability\": audio_features[\"danceability\"],\n",
    "                    \"energy\": audio_features[\"energy\"],\n",
    "                    \"key\": audio_features[\"key\"],\n",
    "                    \"loudness\": audio_features[\"loudness\"],\n",
    "                    \"mode\": audio_features[\"mode\"],\n",
    "                    \"speechiness\": audio_features[\"speechiness\"],\n",
    "                    \"acousticness\": audio_features[\"acousticness\"],\n",
    "                    \"instrumentalness\": audio_features[\"instrumentalness\"],\n",
    "                    \"liveness\": audio_features[\"liveness\"],\n",
    "                    \"valence\": audio_features[\"valence\"],\n",
    "                    \"tempo\": audio_features[\"tempo\"],\n",
    "                    \"time_signature\": audio_features[\"time_signature\"],\n",
    "                })\n",
    "            fetched_tracks.append(track_)\n",
    "    return pd.DataFrame(fetched_tracks)\n",
    "\n",
    "\n",
    "tracks_df = fetch_bulk_track_features(track_ids)\n",
    "print(tracks_df.shape)\n",
    "tracks_df.head()"
   ],
   "metadata": {
    "collapsed": false,
    "pycharm": {
     "name": "#%%\n"
    }
   }
  },
  {
   "cell_type": "code",
   "execution_count": 61,
   "outputs": [
    {
     "name": "stdout",
     "output_type": "stream",
     "text": [
      "(11339, 32)\n"
     ]
    },
    {
     "data": {
      "text/plain": "                       id                         name  \\\n0  36W02sCbiFy6lQTEHCV7Ci                   Slime Love   \n1  5AsFlY8KFYMDTlQkOdBl39                Cielito Lindo   \n2  5HaKldnT9gWe70hr8bstmh  Tình Nào Không Như Tình Đầu   \n3  2ZAx6NDhX2yE5aL5ueEQgY                 Mr. Saxobeat   \n4  2Oycxb8QbPkpHTo8ZrmG0B                     Prisoner   \n\n                         album                album_id  \\\n0                   Slime Love  0CztyGcRJxeiQxekV49lst   \n1                Cielito Lindo  1Dam295LxkVAmxAPhdsvKf   \n2  Tình Nào Không Như Tình Đầu  0PJ9GHkwJeFdhGC9WkTvrZ   \n3                    Saxobeats  25hD73WRfQAPuFMRibSjby   \n4               Plastic Hearts  5BRhg6NSEZOj0BR6Iz56fR   \n\n                       artists  \\\n0      [\"uglystephan archive\"]   \n1            [\"Carlos Rivera\"]   \n2          [\"Trung Qu\\u00e2n\"]   \n3           [\"Alexandra Stan\"]   \n4  [\"Miley Cyrus\", \"Dua Lipa\"]   \n\n                                          artist_ids  track_number  \\\n0                         [\"4De9u0pfKn6Eu4qSZgDnKZ\"]             1   \n1                         [\"39yVoqm6sYFvvqF1RciUVf\"]             1   \n2                         [\"5Cf9nBDNc99UFkq9Yqap7Q\"]             1   \n3                         [\"0BmLNz4nSLfoWYW1cYsElL\"]             1   \n4  [\"5YGY8feqx7naU7z4HrwZM6\", \"6M2wZ9GZgrQXHCFfjv...             4   \n\n   disc_number  explicit  duration_ms  ...  instrumentalness liveness  \\\n0            1      True       188871  ...          0.000611   0.1400   \n1            1     False       227106  ...          0.000030   0.9080   \n2            1     False       281960  ...          0.000000   0.0754   \n3            1     False       195105  ...          0.000238   0.1400   \n4            1     False       169333  ...          0.000000   0.0761   \n\n   valence    tempo time_signature  track_chart_months  \\\n0    0.374  141.107            4.0                 0.0   \n1    0.689  116.992            4.0                 0.0   \n2    0.309  130.025            4.0                 0.0   \n3    0.781  127.004            4.0                 7.0   \n4    0.595  127.990            4.0                 0.0   \n\n   track_chart_indicativerevenue  track_chart_peak  track_chart_mean  \\\n0                          0.000               NaN               NaN   \n1                          0.000               NaN               NaN   \n2                          0.000               NaN               NaN   \n3                       7095.468               7.0         18.142857   \n4                          0.000               NaN               NaN   \n\n   track_chart_median  \n0                 NaN  \n1                 NaN  \n2                 NaN  \n3                17.0  \n4                 NaN  \n\n[5 rows x 32 columns]",
      "text/html": "<div>\n<style scoped>\n    .dataframe tbody tr th:only-of-type {\n        vertical-align: middle;\n    }\n\n    .dataframe tbody tr th {\n        vertical-align: top;\n    }\n\n    .dataframe thead th {\n        text-align: right;\n    }\n</style>\n<table border=\"1\" class=\"dataframe\">\n  <thead>\n    <tr style=\"text-align: right;\">\n      <th></th>\n      <th>id</th>\n      <th>name</th>\n      <th>album</th>\n      <th>album_id</th>\n      <th>artists</th>\n      <th>artist_ids</th>\n      <th>track_number</th>\n      <th>disc_number</th>\n      <th>explicit</th>\n      <th>duration_ms</th>\n      <th>...</th>\n      <th>instrumentalness</th>\n      <th>liveness</th>\n      <th>valence</th>\n      <th>tempo</th>\n      <th>time_signature</th>\n      <th>track_chart_months</th>\n      <th>track_chart_indicativerevenue</th>\n      <th>track_chart_peak</th>\n      <th>track_chart_mean</th>\n      <th>track_chart_median</th>\n    </tr>\n  </thead>\n  <tbody>\n    <tr>\n      <th>0</th>\n      <td>36W02sCbiFy6lQTEHCV7Ci</td>\n      <td>Slime Love</td>\n      <td>Slime Love</td>\n      <td>0CztyGcRJxeiQxekV49lst</td>\n      <td>[\"uglystephan archive\"]</td>\n      <td>[\"4De9u0pfKn6Eu4qSZgDnKZ\"]</td>\n      <td>1</td>\n      <td>1</td>\n      <td>True</td>\n      <td>188871</td>\n      <td>...</td>\n      <td>0.000611</td>\n      <td>0.1400</td>\n      <td>0.374</td>\n      <td>141.107</td>\n      <td>4.0</td>\n      <td>0.0</td>\n      <td>0.000</td>\n      <td>NaN</td>\n      <td>NaN</td>\n      <td>NaN</td>\n    </tr>\n    <tr>\n      <th>1</th>\n      <td>5AsFlY8KFYMDTlQkOdBl39</td>\n      <td>Cielito Lindo</td>\n      <td>Cielito Lindo</td>\n      <td>1Dam295LxkVAmxAPhdsvKf</td>\n      <td>[\"Carlos Rivera\"]</td>\n      <td>[\"39yVoqm6sYFvvqF1RciUVf\"]</td>\n      <td>1</td>\n      <td>1</td>\n      <td>False</td>\n      <td>227106</td>\n      <td>...</td>\n      <td>0.000030</td>\n      <td>0.9080</td>\n      <td>0.689</td>\n      <td>116.992</td>\n      <td>4.0</td>\n      <td>0.0</td>\n      <td>0.000</td>\n      <td>NaN</td>\n      <td>NaN</td>\n      <td>NaN</td>\n    </tr>\n    <tr>\n      <th>2</th>\n      <td>5HaKldnT9gWe70hr8bstmh</td>\n      <td>Tình Nào Không Như Tình Đầu</td>\n      <td>Tình Nào Không Như Tình Đầu</td>\n      <td>0PJ9GHkwJeFdhGC9WkTvrZ</td>\n      <td>[\"Trung Qu\\u00e2n\"]</td>\n      <td>[\"5Cf9nBDNc99UFkq9Yqap7Q\"]</td>\n      <td>1</td>\n      <td>1</td>\n      <td>False</td>\n      <td>281960</td>\n      <td>...</td>\n      <td>0.000000</td>\n      <td>0.0754</td>\n      <td>0.309</td>\n      <td>130.025</td>\n      <td>4.0</td>\n      <td>0.0</td>\n      <td>0.000</td>\n      <td>NaN</td>\n      <td>NaN</td>\n      <td>NaN</td>\n    </tr>\n    <tr>\n      <th>3</th>\n      <td>2ZAx6NDhX2yE5aL5ueEQgY</td>\n      <td>Mr. Saxobeat</td>\n      <td>Saxobeats</td>\n      <td>25hD73WRfQAPuFMRibSjby</td>\n      <td>[\"Alexandra Stan\"]</td>\n      <td>[\"0BmLNz4nSLfoWYW1cYsElL\"]</td>\n      <td>1</td>\n      <td>1</td>\n      <td>False</td>\n      <td>195105</td>\n      <td>...</td>\n      <td>0.000238</td>\n      <td>0.1400</td>\n      <td>0.781</td>\n      <td>127.004</td>\n      <td>4.0</td>\n      <td>7.0</td>\n      <td>7095.468</td>\n      <td>7.0</td>\n      <td>18.142857</td>\n      <td>17.0</td>\n    </tr>\n    <tr>\n      <th>4</th>\n      <td>2Oycxb8QbPkpHTo8ZrmG0B</td>\n      <td>Prisoner</td>\n      <td>Plastic Hearts</td>\n      <td>5BRhg6NSEZOj0BR6Iz56fR</td>\n      <td>[\"Miley Cyrus\", \"Dua Lipa\"]</td>\n      <td>[\"5YGY8feqx7naU7z4HrwZM6\", \"6M2wZ9GZgrQXHCFfjv...</td>\n      <td>4</td>\n      <td>1</td>\n      <td>False</td>\n      <td>169333</td>\n      <td>...</td>\n      <td>0.000000</td>\n      <td>0.0761</td>\n      <td>0.595</td>\n      <td>127.990</td>\n      <td>4.0</td>\n      <td>0.0</td>\n      <td>0.000</td>\n      <td>NaN</td>\n      <td>NaN</td>\n      <td>NaN</td>\n    </tr>\n  </tbody>\n</table>\n<p>5 rows × 32 columns</p>\n</div>"
     },
     "execution_count": 61,
     "metadata": {},
     "output_type": "execute_result"
    }
   ],
   "source": [
    "def with_track_charting_summary(df, song_chart_df):\n",
    "    song_chart_df = song_chart_df.rename(columns={\n",
    "        \"spotify_artist_id\": \"artist_id\",\n",
    "        \"spotify_track_id\": \"id\"\n",
    "    })\n",
    "    song_chart_df[\"chart_months\"] = 1\n",
    "    song_chart_df = (\n",
    "        song_chart_df\n",
    "            .sort_values(by=[\"id\"])\n",
    "            .groupby([\"id\"])\n",
    "            .aggregate({\n",
    "                \"chart_months\": \"sum\",\n",
    "                \"indicativerevenue\": \"sum\",\n",
    "                \"position\": [\"min\", \"mean\", \"median\"],\n",
    "            })\n",
    "            .reset_index()\n",
    "            .set_axis([\"id\", \"track_chart_months\", \"track_chart_indicativerevenue\", \"track_chart_peak\", \"track_chart_mean\", \"track_chart_median\"], axis=1)\n",
    "    )\n",
    "\n",
    "    df = pd.merge(df, song_chart_df, on=\"id\", how=\"left\")\n",
    "    df[\"track_chart_months\"] = df[\"track_chart_months\"].fillna(0)\n",
    "    df[\"track_chart_indicativerevenue\"] = df[\"track_chart_indicativerevenue\"].fillna(0)\n",
    "    return df\n",
    "\n",
    "\n",
    "drop_columns = [col for col in tracks_df.columns if col.startswith(\"track_chart_\")]\n",
    "tracks_df = tracks_df.drop(columns=drop_columns)\n",
    "\n",
    "song_chart_df = pd.read_parquet(data_path / \"raw/song_chart_by_month.pq\")\n",
    "tracks_df = with_track_charting_summary(tracks_df, song_chart_df)\n",
    "print(tracks_df.shape)\n",
    "tracks_df.head()"
   ],
   "metadata": {
    "collapsed": false,
    "pycharm": {
     "name": "#%%\n"
    }
   }
  },
  {
   "cell_type": "code",
   "execution_count": 62,
   "outputs": [
    {
     "name": "stdout",
     "output_type": "stream",
     "text": [
      "(11339, 35)\n"
     ]
    },
    {
     "data": {
      "text/plain": "                       id                         name  \\\n0  36W02sCbiFy6lQTEHCV7Ci                   Slime Love   \n1  5AsFlY8KFYMDTlQkOdBl39                Cielito Lindo   \n2  5HaKldnT9gWe70hr8bstmh  Tình Nào Không Như Tình Đầu   \n3  2ZAx6NDhX2yE5aL5ueEQgY                 Mr. Saxobeat   \n4  2Oycxb8QbPkpHTo8ZrmG0B                     Prisoner   \n\n                         album                album_id  \\\n0                   Slime Love  0CztyGcRJxeiQxekV49lst   \n1                Cielito Lindo  1Dam295LxkVAmxAPhdsvKf   \n2  Tình Nào Không Như Tình Đầu  0PJ9GHkwJeFdhGC9WkTvrZ   \n3                    Saxobeats  25hD73WRfQAPuFMRibSjby   \n4               Plastic Hearts  5BRhg6NSEZOj0BR6Iz56fR   \n\n                       artists  \\\n0      [\"uglystephan archive\"]   \n1            [\"Carlos Rivera\"]   \n2          [\"Trung Qu\\u00e2n\"]   \n3           [\"Alexandra Stan\"]   \n4  [\"Miley Cyrus\", \"Dua Lipa\"]   \n\n                                          artist_ids  track_number  \\\n0                         [\"4De9u0pfKn6Eu4qSZgDnKZ\"]             1   \n1                         [\"39yVoqm6sYFvvqF1RciUVf\"]             1   \n2                         [\"5Cf9nBDNc99UFkq9Yqap7Q\"]             1   \n3                         [\"0BmLNz4nSLfoWYW1cYsElL\"]             1   \n4  [\"5YGY8feqx7naU7z4HrwZM6\", \"6M2wZ9GZgrQXHCFfjv...             4   \n\n   disc_number  explicit  duration_ms  ...    tempo time_signature  \\\n0            1      True       188871  ...  141.107            4.0   \n1            1     False       227106  ...  116.992            4.0   \n2            1     False       281960  ...  130.025            4.0   \n3            1     False       195105  ...  127.004            4.0   \n4            1     False       169333  ...  127.990            4.0   \n\n   track_chart_months  track_chart_indicativerevenue track_chart_peak  \\\n0                 0.0                          0.000              NaN   \n1                 0.0                          0.000              NaN   \n2                 0.0                          0.000              NaN   \n3                 7.0                       7095.468              7.0   \n4                 0.0                          0.000              NaN   \n\n   track_chart_mean  track_chart_median  recording_award_category  \\\n0               NaN                 NaN                       NaN   \n1               NaN                 NaN                       NaN   \n2               NaN                 NaN                       NaN   \n3         18.142857                17.0                       NaN   \n4               NaN                 NaN                       NaN   \n\n   recording_award_nominee  recording_award_winner  \n0                      0.0                     0.0  \n1                      0.0                     0.0  \n2                      0.0                     0.0  \n3                      0.0                     0.0  \n4                      0.0                     0.0  \n\n[5 rows x 35 columns]",
      "text/html": "<div>\n<style scoped>\n    .dataframe tbody tr th:only-of-type {\n        vertical-align: middle;\n    }\n\n    .dataframe tbody tr th {\n        vertical-align: top;\n    }\n\n    .dataframe thead th {\n        text-align: right;\n    }\n</style>\n<table border=\"1\" class=\"dataframe\">\n  <thead>\n    <tr style=\"text-align: right;\">\n      <th></th>\n      <th>id</th>\n      <th>name</th>\n      <th>album</th>\n      <th>album_id</th>\n      <th>artists</th>\n      <th>artist_ids</th>\n      <th>track_number</th>\n      <th>disc_number</th>\n      <th>explicit</th>\n      <th>duration_ms</th>\n      <th>...</th>\n      <th>tempo</th>\n      <th>time_signature</th>\n      <th>track_chart_months</th>\n      <th>track_chart_indicativerevenue</th>\n      <th>track_chart_peak</th>\n      <th>track_chart_mean</th>\n      <th>track_chart_median</th>\n      <th>recording_award_category</th>\n      <th>recording_award_nominee</th>\n      <th>recording_award_winner</th>\n    </tr>\n  </thead>\n  <tbody>\n    <tr>\n      <th>0</th>\n      <td>36W02sCbiFy6lQTEHCV7Ci</td>\n      <td>Slime Love</td>\n      <td>Slime Love</td>\n      <td>0CztyGcRJxeiQxekV49lst</td>\n      <td>[\"uglystephan archive\"]</td>\n      <td>[\"4De9u0pfKn6Eu4qSZgDnKZ\"]</td>\n      <td>1</td>\n      <td>1</td>\n      <td>True</td>\n      <td>188871</td>\n      <td>...</td>\n      <td>141.107</td>\n      <td>4.0</td>\n      <td>0.0</td>\n      <td>0.000</td>\n      <td>NaN</td>\n      <td>NaN</td>\n      <td>NaN</td>\n      <td>NaN</td>\n      <td>0.0</td>\n      <td>0.0</td>\n    </tr>\n    <tr>\n      <th>1</th>\n      <td>5AsFlY8KFYMDTlQkOdBl39</td>\n      <td>Cielito Lindo</td>\n      <td>Cielito Lindo</td>\n      <td>1Dam295LxkVAmxAPhdsvKf</td>\n      <td>[\"Carlos Rivera\"]</td>\n      <td>[\"39yVoqm6sYFvvqF1RciUVf\"]</td>\n      <td>1</td>\n      <td>1</td>\n      <td>False</td>\n      <td>227106</td>\n      <td>...</td>\n      <td>116.992</td>\n      <td>4.0</td>\n      <td>0.0</td>\n      <td>0.000</td>\n      <td>NaN</td>\n      <td>NaN</td>\n      <td>NaN</td>\n      <td>NaN</td>\n      <td>0.0</td>\n      <td>0.0</td>\n    </tr>\n    <tr>\n      <th>2</th>\n      <td>5HaKldnT9gWe70hr8bstmh</td>\n      <td>Tình Nào Không Như Tình Đầu</td>\n      <td>Tình Nào Không Như Tình Đầu</td>\n      <td>0PJ9GHkwJeFdhGC9WkTvrZ</td>\n      <td>[\"Trung Qu\\u00e2n\"]</td>\n      <td>[\"5Cf9nBDNc99UFkq9Yqap7Q\"]</td>\n      <td>1</td>\n      <td>1</td>\n      <td>False</td>\n      <td>281960</td>\n      <td>...</td>\n      <td>130.025</td>\n      <td>4.0</td>\n      <td>0.0</td>\n      <td>0.000</td>\n      <td>NaN</td>\n      <td>NaN</td>\n      <td>NaN</td>\n      <td>NaN</td>\n      <td>0.0</td>\n      <td>0.0</td>\n    </tr>\n    <tr>\n      <th>3</th>\n      <td>2ZAx6NDhX2yE5aL5ueEQgY</td>\n      <td>Mr. Saxobeat</td>\n      <td>Saxobeats</td>\n      <td>25hD73WRfQAPuFMRibSjby</td>\n      <td>[\"Alexandra Stan\"]</td>\n      <td>[\"0BmLNz4nSLfoWYW1cYsElL\"]</td>\n      <td>1</td>\n      <td>1</td>\n      <td>False</td>\n      <td>195105</td>\n      <td>...</td>\n      <td>127.004</td>\n      <td>4.0</td>\n      <td>7.0</td>\n      <td>7095.468</td>\n      <td>7.0</td>\n      <td>18.142857</td>\n      <td>17.0</td>\n      <td>NaN</td>\n      <td>0.0</td>\n      <td>0.0</td>\n    </tr>\n    <tr>\n      <th>4</th>\n      <td>2Oycxb8QbPkpHTo8ZrmG0B</td>\n      <td>Prisoner</td>\n      <td>Plastic Hearts</td>\n      <td>5BRhg6NSEZOj0BR6Iz56fR</td>\n      <td>[\"Miley Cyrus\", \"Dua Lipa\"]</td>\n      <td>[\"5YGY8feqx7naU7z4HrwZM6\", \"6M2wZ9GZgrQXHCFfjv...</td>\n      <td>4</td>\n      <td>1</td>\n      <td>False</td>\n      <td>169333</td>\n      <td>...</td>\n      <td>127.990</td>\n      <td>4.0</td>\n      <td>0.0</td>\n      <td>0.000</td>\n      <td>NaN</td>\n      <td>NaN</td>\n      <td>NaN</td>\n      <td>NaN</td>\n      <td>0.0</td>\n      <td>0.0</td>\n    </tr>\n  </tbody>\n</table>\n<p>5 rows × 35 columns</p>\n</div>"
     },
     "execution_count": 62,
     "metadata": {},
     "output_type": "execute_result"
    }
   ],
   "source": [
    "def with_recording_nominations(df, recording_nominations_df):\n",
    "    recording_nominations_df = (\n",
    "        recording_nominations_df[[\n",
    "                \"award_category\",\n",
    "                \"award_nominee\",\n",
    "                \"award_winner\",\n",
    "                \"spotify_track_id\",\n",
    "            ]]\n",
    "            .groupby([\"spotify_track_id\"])\n",
    "            .aggregate({\n",
    "                \"award_category\": \"max\",\n",
    "                \"award_nominee\": \"sum\",\n",
    "                \"award_winner\": \"sum\",\n",
    "            })\n",
    "            .reset_index()\n",
    "            .drop_duplicates(subset=[\"spotify_track_id\"])\n",
    "            .rename(columns={\n",
    "                \"spotify_track_id\": \"id\",\n",
    "                \"award_category\": \"recording_award_category\",\n",
    "                \"award_nominee\": \"recording_award_nominee\",\n",
    "                \"award_winner\": \"recording_award_winner\",\n",
    "            })\n",
    "    )\n",
    "    df = pd.merge(df, recording_nominations_df, on=\"id\", how=\"outer\")\n",
    "    df[\"recording_award_nominee\"] = df[\"recording_award_nominee\"].fillna(0)\n",
    "    df[\"recording_award_winner\"] = df[\"recording_award_winner\"].fillna(0)\n",
    "    return df\n",
    "\n",
    "\n",
    "drop_columns = [col for col in tracks_df.columns if col.startswith(\"recording_award_\")]\n",
    "tracks_df = tracks_df.drop(columns=drop_columns)\n",
    "\n",
    "recording_nominations_df = pd.read_parquet(data_path / \"raw/recording_nominations.pq\")\n",
    "tracks_df = with_recording_nominations(tracks_df, recording_nominations_df)\n",
    "print(tracks_df.shape)\n",
    "tracks_df.head()"
   ],
   "metadata": {
    "collapsed": false,
    "pycharm": {
     "name": "#%%\n"
    }
   }
  },
  {
   "cell_type": "code",
   "execution_count": 63,
   "outputs": [
    {
     "name": "stdout",
     "output_type": "stream",
     "text": [
      "(11339, 38)\n"
     ]
    },
    {
     "data": {
      "text/plain": "                       id                         name  \\\n0  36W02sCbiFy6lQTEHCV7Ci                   Slime Love   \n1  5AsFlY8KFYMDTlQkOdBl39                Cielito Lindo   \n2  5HaKldnT9gWe70hr8bstmh  Tình Nào Không Như Tình Đầu   \n3  2ZAx6NDhX2yE5aL5ueEQgY                 Mr. Saxobeat   \n4  2Oycxb8QbPkpHTo8ZrmG0B                     Prisoner   \n\n                         album                album_id  \\\n0                   Slime Love  0CztyGcRJxeiQxekV49lst   \n1                Cielito Lindo  1Dam295LxkVAmxAPhdsvKf   \n2  Tình Nào Không Như Tình Đầu  0PJ9GHkwJeFdhGC9WkTvrZ   \n3                    Saxobeats  25hD73WRfQAPuFMRibSjby   \n4               Plastic Hearts  5BRhg6NSEZOj0BR6Iz56fR   \n\n                       artists  \\\n0      [\"uglystephan archive\"]   \n1            [\"Carlos Rivera\"]   \n2          [\"Trung Qu\\u00e2n\"]   \n3           [\"Alexandra Stan\"]   \n4  [\"Miley Cyrus\", \"Dua Lipa\"]   \n\n                                          artist_ids  track_number  \\\n0                         [\"4De9u0pfKn6Eu4qSZgDnKZ\"]             1   \n1                         [\"39yVoqm6sYFvvqF1RciUVf\"]             1   \n2                         [\"5Cf9nBDNc99UFkq9Yqap7Q\"]             1   \n3                         [\"0BmLNz4nSLfoWYW1cYsElL\"]             1   \n4  [\"5YGY8feqx7naU7z4HrwZM6\", \"6M2wZ9GZgrQXHCFfjv...             4   \n\n   disc_number  explicit  duration_ms  ...  track_chart_indicativerevenue  \\\n0            1      True       188871  ...                          0.000   \n1            1     False       227106  ...                          0.000   \n2            1     False       281960  ...                          0.000   \n3            1     False       195105  ...                       7095.468   \n4            1     False       169333  ...                          0.000   \n\n  track_chart_peak  track_chart_mean  track_chart_median  \\\n0              NaN               NaN                 NaN   \n1              NaN               NaN                 NaN   \n2              NaN               NaN                 NaN   \n3              7.0         18.142857                17.0   \n4              NaN               NaN                 NaN   \n\n  recording_award_category  recording_award_nominee  recording_award_winner  \\\n0                      NaN                      0.0                     0.0   \n1                      NaN                      0.0                     0.0   \n2                      NaN                      0.0                     0.0   \n3                      NaN                      0.0                     0.0   \n4                      NaN                      0.0                     0.0   \n\n   album_award_category  album_award_nominee  album_award_winner  \n0                   NaN                  NaN                 NaN  \n1                   NaN                  NaN                 NaN  \n2                   NaN                  NaN                 NaN  \n3                   NaN                  NaN                 NaN  \n4                   NaN                  NaN                 NaN  \n\n[5 rows x 38 columns]",
      "text/html": "<div>\n<style scoped>\n    .dataframe tbody tr th:only-of-type {\n        vertical-align: middle;\n    }\n\n    .dataframe tbody tr th {\n        vertical-align: top;\n    }\n\n    .dataframe thead th {\n        text-align: right;\n    }\n</style>\n<table border=\"1\" class=\"dataframe\">\n  <thead>\n    <tr style=\"text-align: right;\">\n      <th></th>\n      <th>id</th>\n      <th>name</th>\n      <th>album</th>\n      <th>album_id</th>\n      <th>artists</th>\n      <th>artist_ids</th>\n      <th>track_number</th>\n      <th>disc_number</th>\n      <th>explicit</th>\n      <th>duration_ms</th>\n      <th>...</th>\n      <th>track_chart_indicativerevenue</th>\n      <th>track_chart_peak</th>\n      <th>track_chart_mean</th>\n      <th>track_chart_median</th>\n      <th>recording_award_category</th>\n      <th>recording_award_nominee</th>\n      <th>recording_award_winner</th>\n      <th>album_award_category</th>\n      <th>album_award_nominee</th>\n      <th>album_award_winner</th>\n    </tr>\n  </thead>\n  <tbody>\n    <tr>\n      <th>0</th>\n      <td>36W02sCbiFy6lQTEHCV7Ci</td>\n      <td>Slime Love</td>\n      <td>Slime Love</td>\n      <td>0CztyGcRJxeiQxekV49lst</td>\n      <td>[\"uglystephan archive\"]</td>\n      <td>[\"4De9u0pfKn6Eu4qSZgDnKZ\"]</td>\n      <td>1</td>\n      <td>1</td>\n      <td>True</td>\n      <td>188871</td>\n      <td>...</td>\n      <td>0.000</td>\n      <td>NaN</td>\n      <td>NaN</td>\n      <td>NaN</td>\n      <td>NaN</td>\n      <td>0.0</td>\n      <td>0.0</td>\n      <td>NaN</td>\n      <td>NaN</td>\n      <td>NaN</td>\n    </tr>\n    <tr>\n      <th>1</th>\n      <td>5AsFlY8KFYMDTlQkOdBl39</td>\n      <td>Cielito Lindo</td>\n      <td>Cielito Lindo</td>\n      <td>1Dam295LxkVAmxAPhdsvKf</td>\n      <td>[\"Carlos Rivera\"]</td>\n      <td>[\"39yVoqm6sYFvvqF1RciUVf\"]</td>\n      <td>1</td>\n      <td>1</td>\n      <td>False</td>\n      <td>227106</td>\n      <td>...</td>\n      <td>0.000</td>\n      <td>NaN</td>\n      <td>NaN</td>\n      <td>NaN</td>\n      <td>NaN</td>\n      <td>0.0</td>\n      <td>0.0</td>\n      <td>NaN</td>\n      <td>NaN</td>\n      <td>NaN</td>\n    </tr>\n    <tr>\n      <th>2</th>\n      <td>5HaKldnT9gWe70hr8bstmh</td>\n      <td>Tình Nào Không Như Tình Đầu</td>\n      <td>Tình Nào Không Như Tình Đầu</td>\n      <td>0PJ9GHkwJeFdhGC9WkTvrZ</td>\n      <td>[\"Trung Qu\\u00e2n\"]</td>\n      <td>[\"5Cf9nBDNc99UFkq9Yqap7Q\"]</td>\n      <td>1</td>\n      <td>1</td>\n      <td>False</td>\n      <td>281960</td>\n      <td>...</td>\n      <td>0.000</td>\n      <td>NaN</td>\n      <td>NaN</td>\n      <td>NaN</td>\n      <td>NaN</td>\n      <td>0.0</td>\n      <td>0.0</td>\n      <td>NaN</td>\n      <td>NaN</td>\n      <td>NaN</td>\n    </tr>\n    <tr>\n      <th>3</th>\n      <td>2ZAx6NDhX2yE5aL5ueEQgY</td>\n      <td>Mr. Saxobeat</td>\n      <td>Saxobeats</td>\n      <td>25hD73WRfQAPuFMRibSjby</td>\n      <td>[\"Alexandra Stan\"]</td>\n      <td>[\"0BmLNz4nSLfoWYW1cYsElL\"]</td>\n      <td>1</td>\n      <td>1</td>\n      <td>False</td>\n      <td>195105</td>\n      <td>...</td>\n      <td>7095.468</td>\n      <td>7.0</td>\n      <td>18.142857</td>\n      <td>17.0</td>\n      <td>NaN</td>\n      <td>0.0</td>\n      <td>0.0</td>\n      <td>NaN</td>\n      <td>NaN</td>\n      <td>NaN</td>\n    </tr>\n    <tr>\n      <th>4</th>\n      <td>2Oycxb8QbPkpHTo8ZrmG0B</td>\n      <td>Prisoner</td>\n      <td>Plastic Hearts</td>\n      <td>5BRhg6NSEZOj0BR6Iz56fR</td>\n      <td>[\"Miley Cyrus\", \"Dua Lipa\"]</td>\n      <td>[\"5YGY8feqx7naU7z4HrwZM6\", \"6M2wZ9GZgrQXHCFfjv...</td>\n      <td>4</td>\n      <td>1</td>\n      <td>False</td>\n      <td>169333</td>\n      <td>...</td>\n      <td>0.000</td>\n      <td>NaN</td>\n      <td>NaN</td>\n      <td>NaN</td>\n      <td>NaN</td>\n      <td>0.0</td>\n      <td>0.0</td>\n      <td>NaN</td>\n      <td>NaN</td>\n      <td>NaN</td>\n    </tr>\n  </tbody>\n</table>\n<p>5 rows × 38 columns</p>\n</div>"
     },
     "execution_count": 63,
     "metadata": {},
     "output_type": "execute_result"
    }
   ],
   "source": [
    "def with_album_nominations(df, album_nominations_df):\n",
    "    album_nominations_df = (\n",
    "        album_nominations_df[[\n",
    "            \"award_category\",\n",
    "            \"award_nominee\",\n",
    "            \"award_winner\",\n",
    "            \"spotify_album_id\",\n",
    "        ]]\n",
    "        .groupby([\"spotify_album_id\"])\n",
    "        .aggregate({\n",
    "            \"award_category\": \"max\",\n",
    "            \"award_nominee\": \"sum\",\n",
    "            \"award_winner\": \"sum\",\n",
    "        })\n",
    "        .reset_index()\n",
    "        .drop_duplicates(subset=[\"spotify_album_id\"])\n",
    "        .rename(columns={\n",
    "            \"spotify_album_id\": \"album_id\",\n",
    "            \"award_category\": \"album_award_category\",\n",
    "            \"award_nominee\": \"album_award_nominee\",\n",
    "            \"award_winner\": \"album_award_winner\",\n",
    "        })\n",
    "    )\n",
    "    return (\n",
    "        pd.merge(df, album_nominations_df, on=\"album_id\",  how=\"left\")\n",
    "    )\n",
    "\n",
    "\n",
    "album_nominations_df = pd.read_parquet(data_path / \"raw/album_nominations.pq\")\n",
    "tracks_df = with_album_nominations(tracks_df, album_nominations_df)\n",
    "print(tracks_df.shape)\n",
    "tracks_df.head()"
   ],
   "metadata": {
    "collapsed": false,
    "pycharm": {
     "name": "#%%\n"
    }
   }
  },
  {
   "cell_type": "code",
   "execution_count": 88,
   "outputs": [
    {
     "name": "stdout",
     "output_type": "stream",
     "text": [
      "(11339, 64)\n"
     ]
    },
    {
     "data": {
      "text/plain": "                       id                         name  \\\n0  36W02sCbiFy6lQTEHCV7Ci                   Slime Love   \n1  5AsFlY8KFYMDTlQkOdBl39                Cielito Lindo   \n2  5HaKldnT9gWe70hr8bstmh  Tình Nào Không Như Tình Đầu   \n3  2ZAx6NDhX2yE5aL5ueEQgY                 Mr. Saxobeat   \n4  2Oycxb8QbPkpHTo8ZrmG0B                     Prisoner   \n\n                         album                album_id                artists  \\\n0                   Slime Love  0CztyGcRJxeiQxekV49lst    uglystephan archive   \n1                Cielito Lindo  1Dam295LxkVAmxAPhdsvKf          Carlos Rivera   \n2  Tình Nào Không Như Tình Đầu  0PJ9GHkwJeFdhGC9WkTvrZ             Trung Quân   \n3                    Saxobeats  25hD73WRfQAPuFMRibSjby         Alexandra Stan   \n4               Plastic Hearts  5BRhg6NSEZOj0BR6Iz56fR  Miley Cyrus, Dua Lipa   \n\n                                          artist_ids  track_number  \\\n0                         [\"4De9u0pfKn6Eu4qSZgDnKZ\"]             1   \n1                         [\"39yVoqm6sYFvvqF1RciUVf\"]             1   \n2                         [\"5Cf9nBDNc99UFkq9Yqap7Q\"]             1   \n3                         [\"0BmLNz4nSLfoWYW1cYsElL\"]             1   \n4  [\"5YGY8feqx7naU7z4HrwZM6\", \"6M2wZ9GZgrQXHCFfjv...             4   \n\n   disc_number  explicit  duration_ms  ...  artist_first_chart_year  \\\n0            1      True       188871  ...                      0.0   \n1            1     False       227106  ...                      0.0   \n2            1     False       281960  ...                      0.0   \n3            1     False       195105  ...                   2011.0   \n4            1     False       169333  ...                   2008.0   \n\n  artist_chart_tracks  artist_chart_peak  artist_nominations artist_wins  \\\n0                 0.0                0.0                 0.0         0.0   \n1                 0.0                0.0                 0.0         0.0   \n2                 0.0                0.0                 0.0         0.0   \n3                 1.0                7.0                 0.0         0.0   \n4                13.0                2.0                 1.0         0.0   \n\n   artist_releases  artist_chart_months  artist_chart_months_recently  \\\n0              0.0                    0                           0.0   \n1             20.0                    0                           0.0   \n2             35.0                    0                           0.0   \n3              1.0                    0                           0.0   \n4             28.0                    0                           0.0   \n\n   artist_releases_recently  genre  \n0                       0.0  other  \n1                      14.0  other  \n2                      14.0  other  \n3                       1.0  other  \n4                       9.0  other  \n\n[5 rows x 64 columns]",
      "text/html": "<div>\n<style scoped>\n    .dataframe tbody tr th:only-of-type {\n        vertical-align: middle;\n    }\n\n    .dataframe tbody tr th {\n        vertical-align: top;\n    }\n\n    .dataframe thead th {\n        text-align: right;\n    }\n</style>\n<table border=\"1\" class=\"dataframe\">\n  <thead>\n    <tr style=\"text-align: right;\">\n      <th></th>\n      <th>id</th>\n      <th>name</th>\n      <th>album</th>\n      <th>album_id</th>\n      <th>artists</th>\n      <th>artist_ids</th>\n      <th>track_number</th>\n      <th>disc_number</th>\n      <th>explicit</th>\n      <th>duration_ms</th>\n      <th>...</th>\n      <th>artist_first_chart_year</th>\n      <th>artist_chart_tracks</th>\n      <th>artist_chart_peak</th>\n      <th>artist_nominations</th>\n      <th>artist_wins</th>\n      <th>artist_releases</th>\n      <th>artist_chart_months</th>\n      <th>artist_chart_months_recently</th>\n      <th>artist_releases_recently</th>\n      <th>genre</th>\n    </tr>\n  </thead>\n  <tbody>\n    <tr>\n      <th>0</th>\n      <td>36W02sCbiFy6lQTEHCV7Ci</td>\n      <td>Slime Love</td>\n      <td>Slime Love</td>\n      <td>0CztyGcRJxeiQxekV49lst</td>\n      <td>uglystephan archive</td>\n      <td>[\"4De9u0pfKn6Eu4qSZgDnKZ\"]</td>\n      <td>1</td>\n      <td>1</td>\n      <td>True</td>\n      <td>188871</td>\n      <td>...</td>\n      <td>0.0</td>\n      <td>0.0</td>\n      <td>0.0</td>\n      <td>0.0</td>\n      <td>0.0</td>\n      <td>0.0</td>\n      <td>0</td>\n      <td>0.0</td>\n      <td>0.0</td>\n      <td>other</td>\n    </tr>\n    <tr>\n      <th>1</th>\n      <td>5AsFlY8KFYMDTlQkOdBl39</td>\n      <td>Cielito Lindo</td>\n      <td>Cielito Lindo</td>\n      <td>1Dam295LxkVAmxAPhdsvKf</td>\n      <td>Carlos Rivera</td>\n      <td>[\"39yVoqm6sYFvvqF1RciUVf\"]</td>\n      <td>1</td>\n      <td>1</td>\n      <td>False</td>\n      <td>227106</td>\n      <td>...</td>\n      <td>0.0</td>\n      <td>0.0</td>\n      <td>0.0</td>\n      <td>0.0</td>\n      <td>0.0</td>\n      <td>20.0</td>\n      <td>0</td>\n      <td>0.0</td>\n      <td>14.0</td>\n      <td>other</td>\n    </tr>\n    <tr>\n      <th>2</th>\n      <td>5HaKldnT9gWe70hr8bstmh</td>\n      <td>Tình Nào Không Như Tình Đầu</td>\n      <td>Tình Nào Không Như Tình Đầu</td>\n      <td>0PJ9GHkwJeFdhGC9WkTvrZ</td>\n      <td>Trung Quân</td>\n      <td>[\"5Cf9nBDNc99UFkq9Yqap7Q\"]</td>\n      <td>1</td>\n      <td>1</td>\n      <td>False</td>\n      <td>281960</td>\n      <td>...</td>\n      <td>0.0</td>\n      <td>0.0</td>\n      <td>0.0</td>\n      <td>0.0</td>\n      <td>0.0</td>\n      <td>35.0</td>\n      <td>0</td>\n      <td>0.0</td>\n      <td>14.0</td>\n      <td>other</td>\n    </tr>\n    <tr>\n      <th>3</th>\n      <td>2ZAx6NDhX2yE5aL5ueEQgY</td>\n      <td>Mr. Saxobeat</td>\n      <td>Saxobeats</td>\n      <td>25hD73WRfQAPuFMRibSjby</td>\n      <td>Alexandra Stan</td>\n      <td>[\"0BmLNz4nSLfoWYW1cYsElL\"]</td>\n      <td>1</td>\n      <td>1</td>\n      <td>False</td>\n      <td>195105</td>\n      <td>...</td>\n      <td>2011.0</td>\n      <td>1.0</td>\n      <td>7.0</td>\n      <td>0.0</td>\n      <td>0.0</td>\n      <td>1.0</td>\n      <td>0</td>\n      <td>0.0</td>\n      <td>1.0</td>\n      <td>other</td>\n    </tr>\n    <tr>\n      <th>4</th>\n      <td>2Oycxb8QbPkpHTo8ZrmG0B</td>\n      <td>Prisoner</td>\n      <td>Plastic Hearts</td>\n      <td>5BRhg6NSEZOj0BR6Iz56fR</td>\n      <td>Miley Cyrus, Dua Lipa</td>\n      <td>[\"5YGY8feqx7naU7z4HrwZM6\", \"6M2wZ9GZgrQXHCFfjv...</td>\n      <td>4</td>\n      <td>1</td>\n      <td>False</td>\n      <td>169333</td>\n      <td>...</td>\n      <td>2008.0</td>\n      <td>13.0</td>\n      <td>2.0</td>\n      <td>1.0</td>\n      <td>0.0</td>\n      <td>28.0</td>\n      <td>0</td>\n      <td>0.0</td>\n      <td>9.0</td>\n      <td>other</td>\n    </tr>\n  </tbody>\n</table>\n<p>5 rows × 64 columns</p>\n</div>"
     },
     "execution_count": 88,
     "metadata": {},
     "output_type": "execute_result"
    }
   ],
   "source": [
    "def lookup(artist_df, artist_ids):\n",
    "    artist_ids = json.loads(artist_ids.replace(\"'\", \"\\\"\"))\n",
    "    artists_ = []\n",
    "    for artist_id in artist_ids:\n",
    "        matches = artist_df[artist_df[\"id\"] == artist_id]\n",
    "        if len(matches) > 0:\n",
    "            artists_.append(matches.to_dict('records')[0])\n",
    "    return artists_\n",
    "\n",
    "\n",
    "def with_artist_summary(df, artist_df):\n",
    "    df = df.copy()\n",
    "    df[\"num_artists\"] = df.apply(lambda r: len(df[\"artists\"]) > 0, axis=1)\n",
    "    df[\"artists\"] = df.apply(lambda r: lookup(artist_df, r[\"artist_ids\"]), axis=1)\n",
    "    df[\"artist_matched\"] = df.apply(lambda r: len(r[\"artists\"]) > 0, axis=1)\n",
    "    df[\"artist_names\"] = df.apply(lambda r: [a[\"name\"] for a in r[\"artists\"]], axis=1)\n",
    "    df[\"artist_names\"] = df.apply(lambda r: \", \".join(r[\"artist_names\"]), axis=1)\n",
    "    df[\"artist_genres\"] = df.apply(lambda r: [a[\"genres\"] for a in r[\"artists\"]], axis=1)\n",
    "    df[\"artist_genres\"] = df.apply(lambda r: list(itertools.chain(*r[\"artist_genres\"])), axis=1)\n",
    "    df[\"artist_genres\"] = df.apply(lambda r: r[\"artist_genres\"] if r[\"artist_genres\"] else np.nan, axis=1)\n",
    "    # df[\"artist_genres\"] = df.apply(lambda r: \"; \".join(list(itertools.chain(*r[\"artist_genres\"]))), axis=1)\n",
    "    df[\"artist_popularity\"] = df.apply(lambda r: [a[\"popularity\"] for a in r[\"artists\"]], axis=1)\n",
    "    df[\"artist_popularity\"] = df.apply(lambda r: max(r[\"artist_popularity\"]) if r[\"artist_popularity\"] else 0, axis=1)\n",
    "    df[\"artist_first_release\"] = df.apply(lambda r: [a[\"first_release\"] for a in r[\"artists\"]], axis=1)\n",
    "    df[\"artist_first_release\"] = df.apply(lambda r: min(r[\"artist_first_release\"]) if r[\"artist_first_release\"] else np.nan, axis=1)\n",
    "    # df[\"artist_last_release\"] = df.apply(lambda r: [a[\"last_release\"] for a in r[\"artists\"]], axis=1)\n",
    "    # df[f\"artist_last_release\"] = df.apply(lambda r: max(df[\"artist_last_release\"])\n",
    "    df[\"artist_lifetime_releases\"] = df.apply(lambda r: [a[\"total_releases\"] for a in r[\"artists\"]], axis=1)\n",
    "    df[\"artist_lifetime_releases\"] = df.apply(lambda r: sum(m for m in r[\"artist_lifetime_releases\"] if m is not None), axis=1).fillna(0)\n",
    "    df[\"artist_gender\"] = df.apply(lambda r: [a[\"gender\"] for a in r[\"artists\"]], axis=1)\n",
    "    #df[\"artist_gender\"] = df.apply(lambda r: r[\"artist_gender\"][0] if r[\"artist_gender\"] else np.nan, axis=1)\n",
    "    df[\"artist_country\"] = df.apply(lambda r:[a[\"country\"] for a in r[\"artists\"]], axis=1)\n",
    "    df[\"artist_country\"] = df.apply(lambda r: r[\"artist_country\"][0] if r[\"artist_country\"] else np.nan, axis=1)\n",
    "    df[\"artist_hometown\"] = df.apply(lambda r: [a[\"hometown\"] for a in r[\"artists\"]], axis=1)\n",
    "    df[\"artist_hometown\"] = df.apply(lambda r: r[\"artist_hometown\"][0] if r[\"artist_hometown\"] else np.nan, axis=1)\n",
    "    df[\"artist_first_win\"] = df.apply(lambda r: [a[\"first_win\"] for a in r[\"artists\"]], axis=1)\n",
    "    df[\"artist_first_win\"] = df.apply(lambda r: min(r[\"artist_first_win\"]) if r[\"artist_first_win\"] else np.nan, axis=1)\n",
    "    df[\"artist_first_nomination\"] = df.apply(lambda r: [a[\"first_nomination\"] for a in r[\"artists\"]], axis=1)\n",
    "    df[\"artist_first_nomination\"] = df.apply(lambda r: min(r[\"artist_first_nomination\"]) if r[\"artist_first_nomination\"] else np.nan, axis=1)\n",
    "    # df[\"artist_last_win\"] = df.apply(lambda r: [a[\"last_win\"] for a in r[\"artists\"]], axis=1)\n",
    "    # df[\"artist_last_win\"] = df.apply(lambda r: max(df[\"artist_last_win\"])\n",
    "    # df[\"artist_last_nomination\"] = df.apply(lambda r: [a[\"last_nomination\"] for a in r[\"artists\"]], axis=1)\n",
    "    # df[\"artist_last_nomination\"] = df.apply(lambda r: max(df[\"artist_last_nomination\"])\n",
    "    df[\"artist_lifetime_wins\"] = df.apply(lambda r: [a[\"total_wins\"] for a in r[\"artists\"]], axis=1)\n",
    "    df[\"artist_lifetime_wins\"] = df.apply(lambda r: sum(m for m in r[\"artist_lifetime_wins\"] if m is not None), axis=1).fillna(0)\n",
    "    df[\"artist_lifetime_nominations\"] = df.apply(lambda r: [a[\"total_nominations\"] for a in r[\"artists\"]], axis=1)\n",
    "    df[\"artist_lifetime_nominations\"] = df.apply(lambda r: sum(m for m in r[\"artist_lifetime_nominations\"] if m is not None), axis=1).fillna(0)\n",
    "    df[\"artist_lifetime_chart_months\"] = df.apply(lambda r: [a[\"chart_months\"] for a in r[\"artists\"]], axis=1)\n",
    "    df[\"artist_lifetime_chart_months\"] = df.apply(lambda r: sum(r[\"artist_lifetime_chart_months\"]), axis=1).fillna(0)\n",
    "    df[\"artist_lifetime_revenue\"] = df.apply(lambda r: [a[\"total_revenue\"] for a in r[\"artists\"]], axis=1)\n",
    "    df[\"artist_lifetime_revenue\"] = df.apply(lambda r: sum(m for m in r[\"artist_lifetime_revenue\"] if m is not None), axis=1).fillna(0)\n",
    "    df[\"artist_first_chart_year\"] = df.apply(lambda r: [a[\"first_chart_year\"] for a in r[\"artists\"]], axis=1)\n",
    "    df[\"artist_first_chart_year\"] = df.apply(lambda r: min(r[\"artist_first_chart_year\"]) if r[\"artist_first_chart_year\"] else np.nan, axis=1)\n",
    "    # df[\"artist_last_chart_year\"] = df.apply(lambda r: [a[\"last_chart_year\"] for a in r[\"artists\"]], axis=1)\n",
    "    # df[\"artist_last_chart_year\"] = df.apply(lambda r: max(df[\"artist_last_chart_year\"])\n",
    "    df[\"artist_chart_tracks\"] = df.apply(lambda r: [a[\"chart_tracks\"] for a in r[\"artists\"]], axis=1)\n",
    "    df[\"artist_chart_tracks\"] = df.apply(lambda r: max(r[\"artist_chart_tracks\"]) if r[\"artist_chart_tracks\"] else 0, axis=1).fillna(0)\n",
    "    df[\"artist_chart_peak\"] = df.apply(lambda r: [a[\"chart_peak\"] for a in r[\"artists\"]], axis=1)\n",
    "    df[\"artist_chart_peak\"] = df.apply(lambda r: min(r[\"artist_chart_peak\"]) if r[\"artist_chart_peak\"] else 0, axis=1)\n",
    "    df[\"artist_nominations\"] = df.apply(lambda r: [a.get(f\"grammy_nominated_{r['year'] - 1}\") for a in r[\"artists\"]], axis=1)\n",
    "    df[\"artist_nominations\"] = df.apply(lambda r: sum(m for m in r[\"artist_nominations\"] if m is not None), axis=1).fillna(0)\n",
    "    df[\"artist_wins\"] = df.apply(lambda r: [a.get(f\"grammy_won_{r['year'] - 1}\") for a in r[\"artists\"]], axis=1)\n",
    "    df[\"artist_wins\"] = df.apply(lambda r: sum(m for m in r[\"artist_wins\"] if m is not None), axis=1).fillna(0)\n",
    "    df[\"artist_releases\"] = df.apply(lambda r: [a.get(f\"releases_{r['year'] - 1}\") for a in r[\"artists\"]], axis=1)\n",
    "    df[\"artist_releases\"] = df.apply(lambda r: sum(m for m in r[\"artist_releases\"] if m is not None), axis=1).fillna(0)\n",
    "    df[\"artist_chart_months\"] = df.apply(lambda r: [a.get(\"chart_months_{track_release_year - 1}\") for a in r[\"artists\"]], axis=1)\n",
    "    df[\"artist_chart_months\"] = df.apply(lambda r: sum(m for m in r[\"artist_chart_months\"] if m is not None), axis=1).fillna(0)\n",
    "    df[\"artist_chart_months_recently\"] = df.apply(lambda r: [a.get(f\"chart_months_recently_{r['year'] - 1}\") for a in r[\"artists\"]], axis=1)\n",
    "    df[\"artist_chart_months_recently\"] = df.apply(lambda r: sum(m for m in r[\"artist_chart_months_recently\"] if m is not None), axis=1).fillna(0)\n",
    "    df[\"artist_releases_recently\"] = df.apply(lambda r:  [a.get(f\"releases_{r['year'] - 1}\", 0) - a.get(f\"releases_{r['year'] - 4}\") for a in r[\"artists\"]], axis=1)\n",
    "    df[\"artist_releases_recently\"] = df.apply(lambda r: sum(m for m in r[\"artist_releases_recently\"] if m is not None), axis=1).fillna(0)\n",
    "    df[\"artists\"] = df[\"artist_names\"]\n",
    "    return df\n",
    "\n",
    "\n",
    "artist_df = pd.read_parquet(data_path / \"artist_summary.pq\")\n",
    "tracks_df = with_artist_summary(tracks_df, artist_df)\n",
    "print(tracks_df.shape)\n",
    "tracks_df.head()"
   ],
   "metadata": {
    "collapsed": false,
    "pycharm": {
     "name": "#%%\n"
    }
   }
  },
  {
   "cell_type": "code",
   "execution_count": 113,
   "outputs": [
    {
     "name": "stdout",
     "output_type": "stream",
     "text": [
      "(11339, 64)\n"
     ]
    },
    {
     "data": {
      "text/plain": "                       id                         name  \\\n0  36W02sCbiFy6lQTEHCV7Ci                   Slime Love   \n1  5AsFlY8KFYMDTlQkOdBl39                Cielito Lindo   \n2  5HaKldnT9gWe70hr8bstmh  Tình Nào Không Như Tình Đầu   \n3  2ZAx6NDhX2yE5aL5ueEQgY                 Mr. Saxobeat   \n4  2Oycxb8QbPkpHTo8ZrmG0B                     Prisoner   \n\n                         album                album_id                artists  \\\n0                   Slime Love  0CztyGcRJxeiQxekV49lst    uglystephan archive   \n1                Cielito Lindo  1Dam295LxkVAmxAPhdsvKf          Carlos Rivera   \n2  Tình Nào Không Như Tình Đầu  0PJ9GHkwJeFdhGC9WkTvrZ             Trung Quân   \n3                    Saxobeats  25hD73WRfQAPuFMRibSjby         Alexandra Stan   \n4               Plastic Hearts  5BRhg6NSEZOj0BR6Iz56fR  Miley Cyrus, Dua Lipa   \n\n                                          artist_ids  track_number  \\\n0                         [\"4De9u0pfKn6Eu4qSZgDnKZ\"]             1   \n1                         [\"39yVoqm6sYFvvqF1RciUVf\"]             1   \n2                         [\"5Cf9nBDNc99UFkq9Yqap7Q\"]             1   \n3                         [\"0BmLNz4nSLfoWYW1cYsElL\"]             1   \n4  [\"5YGY8feqx7naU7z4HrwZM6\", \"6M2wZ9GZgrQXHCFfjv...             4   \n\n   disc_number  explicit  duration_ms  ...  artist_first_chart_year  \\\n0            1      True       188871  ...                      0.0   \n1            1     False       227106  ...                      0.0   \n2            1     False       281960  ...                      0.0   \n3            1     False       195105  ...                   2011.0   \n4            1     False       169333  ...                   2008.0   \n\n  artist_chart_tracks  artist_chart_peak  artist_nominations artist_wins  \\\n0                 0.0                0.0                 0.0         0.0   \n1                 0.0                0.0                 0.0         0.0   \n2                 0.0                0.0                 0.0         0.0   \n3                 1.0                7.0                 0.0         0.0   \n4                13.0                2.0                 1.0         0.0   \n\n   artist_releases  artist_chart_months  artist_chart_months_recently  \\\n0              0.0                    0                           0.0   \n1             20.0                    0                           0.0   \n2             35.0                    0                           0.0   \n3              1.0                    0                           0.0   \n4             28.0                    0                           0.0   \n\n   artist_releases_recently            genre  \n0                       0.0  russian hip hop  \n1                      14.0  latin arena pop  \n2                      14.0            v-pop  \n3                       1.0     romanian pop  \n4                       9.0           uk pop  \n\n[5 rows x 64 columns]",
      "text/html": "<div>\n<style scoped>\n    .dataframe tbody tr th:only-of-type {\n        vertical-align: middle;\n    }\n\n    .dataframe tbody tr th {\n        vertical-align: top;\n    }\n\n    .dataframe thead th {\n        text-align: right;\n    }\n</style>\n<table border=\"1\" class=\"dataframe\">\n  <thead>\n    <tr style=\"text-align: right;\">\n      <th></th>\n      <th>id</th>\n      <th>name</th>\n      <th>album</th>\n      <th>album_id</th>\n      <th>artists</th>\n      <th>artist_ids</th>\n      <th>track_number</th>\n      <th>disc_number</th>\n      <th>explicit</th>\n      <th>duration_ms</th>\n      <th>...</th>\n      <th>artist_first_chart_year</th>\n      <th>artist_chart_tracks</th>\n      <th>artist_chart_peak</th>\n      <th>artist_nominations</th>\n      <th>artist_wins</th>\n      <th>artist_releases</th>\n      <th>artist_chart_months</th>\n      <th>artist_chart_months_recently</th>\n      <th>artist_releases_recently</th>\n      <th>genre</th>\n    </tr>\n  </thead>\n  <tbody>\n    <tr>\n      <th>0</th>\n      <td>36W02sCbiFy6lQTEHCV7Ci</td>\n      <td>Slime Love</td>\n      <td>Slime Love</td>\n      <td>0CztyGcRJxeiQxekV49lst</td>\n      <td>uglystephan archive</td>\n      <td>[\"4De9u0pfKn6Eu4qSZgDnKZ\"]</td>\n      <td>1</td>\n      <td>1</td>\n      <td>True</td>\n      <td>188871</td>\n      <td>...</td>\n      <td>0.0</td>\n      <td>0.0</td>\n      <td>0.0</td>\n      <td>0.0</td>\n      <td>0.0</td>\n      <td>0.0</td>\n      <td>0</td>\n      <td>0.0</td>\n      <td>0.0</td>\n      <td>russian hip hop</td>\n    </tr>\n    <tr>\n      <th>1</th>\n      <td>5AsFlY8KFYMDTlQkOdBl39</td>\n      <td>Cielito Lindo</td>\n      <td>Cielito Lindo</td>\n      <td>1Dam295LxkVAmxAPhdsvKf</td>\n      <td>Carlos Rivera</td>\n      <td>[\"39yVoqm6sYFvvqF1RciUVf\"]</td>\n      <td>1</td>\n      <td>1</td>\n      <td>False</td>\n      <td>227106</td>\n      <td>...</td>\n      <td>0.0</td>\n      <td>0.0</td>\n      <td>0.0</td>\n      <td>0.0</td>\n      <td>0.0</td>\n      <td>20.0</td>\n      <td>0</td>\n      <td>0.0</td>\n      <td>14.0</td>\n      <td>latin arena pop</td>\n    </tr>\n    <tr>\n      <th>2</th>\n      <td>5HaKldnT9gWe70hr8bstmh</td>\n      <td>Tình Nào Không Như Tình Đầu</td>\n      <td>Tình Nào Không Như Tình Đầu</td>\n      <td>0PJ9GHkwJeFdhGC9WkTvrZ</td>\n      <td>Trung Quân</td>\n      <td>[\"5Cf9nBDNc99UFkq9Yqap7Q\"]</td>\n      <td>1</td>\n      <td>1</td>\n      <td>False</td>\n      <td>281960</td>\n      <td>...</td>\n      <td>0.0</td>\n      <td>0.0</td>\n      <td>0.0</td>\n      <td>0.0</td>\n      <td>0.0</td>\n      <td>35.0</td>\n      <td>0</td>\n      <td>0.0</td>\n      <td>14.0</td>\n      <td>v-pop</td>\n    </tr>\n    <tr>\n      <th>3</th>\n      <td>2ZAx6NDhX2yE5aL5ueEQgY</td>\n      <td>Mr. Saxobeat</td>\n      <td>Saxobeats</td>\n      <td>25hD73WRfQAPuFMRibSjby</td>\n      <td>Alexandra Stan</td>\n      <td>[\"0BmLNz4nSLfoWYW1cYsElL\"]</td>\n      <td>1</td>\n      <td>1</td>\n      <td>False</td>\n      <td>195105</td>\n      <td>...</td>\n      <td>2011.0</td>\n      <td>1.0</td>\n      <td>7.0</td>\n      <td>0.0</td>\n      <td>0.0</td>\n      <td>1.0</td>\n      <td>0</td>\n      <td>0.0</td>\n      <td>1.0</td>\n      <td>romanian pop</td>\n    </tr>\n    <tr>\n      <th>4</th>\n      <td>2Oycxb8QbPkpHTo8ZrmG0B</td>\n      <td>Prisoner</td>\n      <td>Plastic Hearts</td>\n      <td>5BRhg6NSEZOj0BR6Iz56fR</td>\n      <td>Miley Cyrus, Dua Lipa</td>\n      <td>[\"5YGY8feqx7naU7z4HrwZM6\", \"6M2wZ9GZgrQXHCFfjv...</td>\n      <td>4</td>\n      <td>1</td>\n      <td>False</td>\n      <td>169333</td>\n      <td>...</td>\n      <td>2008.0</td>\n      <td>13.0</td>\n      <td>2.0</td>\n      <td>1.0</td>\n      <td>0.0</td>\n      <td>28.0</td>\n      <td>0</td>\n      <td>0.0</td>\n      <td>9.0</td>\n      <td>uk pop</td>\n    </tr>\n  </tbody>\n</table>\n<p>5 rows × 64 columns</p>\n</div>"
     },
     "execution_count": 113,
     "metadata": {},
     "output_type": "execute_result"
    }
   ],
   "source": [
    "def resolve_genre(genres, genre_weights):\n",
    "    genre = sorted(genres, key=genre_weights.get)[0]\\\n",
    "        if genres is not None and isinstance(genres, list) and len(genres) > 0\\\n",
    "        else \"other\"\n",
    "    # print(f\"{genres} => {genre}\")\n",
    "    return genre\n",
    "\n",
    "\n",
    "def with_genres_resolved(tracks_df, artist_df):\n",
    "    genre_weights = artist_df[\"genres\"].explode().value_counts().to_dict()\n",
    "    genre_weight_values = list(genre_weights.values())\n",
    "    genre_weight_cutoff = np.average(genre_weight_values) + 1.5 * np.std(genre_weight_values)\n",
    "    genre_weights = dict((k, v if v > genre_weight_cutoff else 0) for k, v in genre_weights.items())\n",
    "    tracks_df[\"genre\"] = tracks_df[\"artist_genres\"].apply(lambda genres: resolve_genre(genres, genre_weights))\n",
    "    return tracks_df\n",
    "\n",
    "# tracks_df = tracks_df.drop(columns=[\"genre\"])\n",
    "\n",
    "artist_df = pd.read_parquet(data_path / \"artist_summary.pq\")\n",
    "tracks_df = with_genres_resolved(tracks_df, artist_df)\n",
    "print(tracks_df.shape)\n",
    "tracks_df.head()"
   ],
   "metadata": {
    "collapsed": false,
    "pycharm": {
     "name": "#%%\n"
    }
   }
  },
  {
   "cell_type": "code",
   "execution_count": 115,
   "outputs": [
    {
     "name": "stdout",
     "output_type": "stream",
     "text": [
      "(11339, 67)\n"
     ]
    },
    {
     "data": {
      "text/plain": "                       id                         name  \\\n0  36W02sCbiFy6lQTEHCV7Ci                   Slime Love   \n1  5AsFlY8KFYMDTlQkOdBl39                Cielito Lindo   \n2  5HaKldnT9gWe70hr8bstmh  Tình Nào Không Như Tình Đầu   \n3  2ZAx6NDhX2yE5aL5ueEQgY                 Mr. Saxobeat   \n4  2Oycxb8QbPkpHTo8ZrmG0B                     Prisoner   \n\n                         album                album_id                artists  \\\n0                   Slime Love  0CztyGcRJxeiQxekV49lst    uglystephan archive   \n1                Cielito Lindo  1Dam295LxkVAmxAPhdsvKf          Carlos Rivera   \n2  Tình Nào Không Như Tình Đầu  0PJ9GHkwJeFdhGC9WkTvrZ             Trung Quân   \n3                    Saxobeats  25hD73WRfQAPuFMRibSjby         Alexandra Stan   \n4               Plastic Hearts  5BRhg6NSEZOj0BR6Iz56fR  Miley Cyrus, Dua Lipa   \n\n                                          artist_ids  track_number  \\\n0                         [\"4De9u0pfKn6Eu4qSZgDnKZ\"]             1   \n1                         [\"39yVoqm6sYFvvqF1RciUVf\"]             1   \n2                         [\"5Cf9nBDNc99UFkq9Yqap7Q\"]             1   \n3                         [\"0BmLNz4nSLfoWYW1cYsElL\"]             1   \n4  [\"5YGY8feqx7naU7z4HrwZM6\", \"6M2wZ9GZgrQXHCFfjv...             4   \n\n   disc_number  explicit  duration_ms  ...  artist_nominations artist_wins  \\\n0            1      True       188871  ...                 0.0         0.0   \n1            1     False       227106  ...                 0.0         0.0   \n2            1     False       281960  ...                 0.0         0.0   \n3            1     False       195105  ...                 0.0         0.0   \n4            1     False       169333  ...                 1.0         0.0   \n\n   artist_releases  artist_chart_months artist_chart_months_recently  \\\n0              0.0                    0                          0.0   \n1             20.0                    0                          0.0   \n2             35.0                    0                          0.0   \n3              1.0                    0                          0.0   \n4             28.0                    0                          0.0   \n\n   artist_releases_recently            genre           label_name  \\\n0                       0.0  russian hip hop  Deutsche Grammophon   \n1                      14.0  latin arena pop                 None   \n2                      14.0            v-pop             Thúy Nga   \n3                       1.0     romanian pop                  NaN   \n4                       9.0           uk pop                  NaN   \n\n   major_label  label_matched  \n0          1.0            1.0  \n1          1.0            1.0  \n2          0.0            1.0  \n3          NaN            0.0  \n4          NaN            0.0  \n\n[5 rows x 67 columns]",
      "text/html": "<div>\n<style scoped>\n    .dataframe tbody tr th:only-of-type {\n        vertical-align: middle;\n    }\n\n    .dataframe tbody tr th {\n        vertical-align: top;\n    }\n\n    .dataframe thead th {\n        text-align: right;\n    }\n</style>\n<table border=\"1\" class=\"dataframe\">\n  <thead>\n    <tr style=\"text-align: right;\">\n      <th></th>\n      <th>id</th>\n      <th>name</th>\n      <th>album</th>\n      <th>album_id</th>\n      <th>artists</th>\n      <th>artist_ids</th>\n      <th>track_number</th>\n      <th>disc_number</th>\n      <th>explicit</th>\n      <th>duration_ms</th>\n      <th>...</th>\n      <th>artist_nominations</th>\n      <th>artist_wins</th>\n      <th>artist_releases</th>\n      <th>artist_chart_months</th>\n      <th>artist_chart_months_recently</th>\n      <th>artist_releases_recently</th>\n      <th>genre</th>\n      <th>label_name</th>\n      <th>major_label</th>\n      <th>label_matched</th>\n    </tr>\n  </thead>\n  <tbody>\n    <tr>\n      <th>0</th>\n      <td>36W02sCbiFy6lQTEHCV7Ci</td>\n      <td>Slime Love</td>\n      <td>Slime Love</td>\n      <td>0CztyGcRJxeiQxekV49lst</td>\n      <td>uglystephan archive</td>\n      <td>[\"4De9u0pfKn6Eu4qSZgDnKZ\"]</td>\n      <td>1</td>\n      <td>1</td>\n      <td>True</td>\n      <td>188871</td>\n      <td>...</td>\n      <td>0.0</td>\n      <td>0.0</td>\n      <td>0.0</td>\n      <td>0</td>\n      <td>0.0</td>\n      <td>0.0</td>\n      <td>russian hip hop</td>\n      <td>Deutsche Grammophon</td>\n      <td>1.0</td>\n      <td>1.0</td>\n    </tr>\n    <tr>\n      <th>1</th>\n      <td>5AsFlY8KFYMDTlQkOdBl39</td>\n      <td>Cielito Lindo</td>\n      <td>Cielito Lindo</td>\n      <td>1Dam295LxkVAmxAPhdsvKf</td>\n      <td>Carlos Rivera</td>\n      <td>[\"39yVoqm6sYFvvqF1RciUVf\"]</td>\n      <td>1</td>\n      <td>1</td>\n      <td>False</td>\n      <td>227106</td>\n      <td>...</td>\n      <td>0.0</td>\n      <td>0.0</td>\n      <td>20.0</td>\n      <td>0</td>\n      <td>0.0</td>\n      <td>14.0</td>\n      <td>latin arena pop</td>\n      <td>None</td>\n      <td>1.0</td>\n      <td>1.0</td>\n    </tr>\n    <tr>\n      <th>2</th>\n      <td>5HaKldnT9gWe70hr8bstmh</td>\n      <td>Tình Nào Không Như Tình Đầu</td>\n      <td>Tình Nào Không Như Tình Đầu</td>\n      <td>0PJ9GHkwJeFdhGC9WkTvrZ</td>\n      <td>Trung Quân</td>\n      <td>[\"5Cf9nBDNc99UFkq9Yqap7Q\"]</td>\n      <td>1</td>\n      <td>1</td>\n      <td>False</td>\n      <td>281960</td>\n      <td>...</td>\n      <td>0.0</td>\n      <td>0.0</td>\n      <td>35.0</td>\n      <td>0</td>\n      <td>0.0</td>\n      <td>14.0</td>\n      <td>v-pop</td>\n      <td>Thúy Nga</td>\n      <td>0.0</td>\n      <td>1.0</td>\n    </tr>\n    <tr>\n      <th>3</th>\n      <td>2ZAx6NDhX2yE5aL5ueEQgY</td>\n      <td>Mr. Saxobeat</td>\n      <td>Saxobeats</td>\n      <td>25hD73WRfQAPuFMRibSjby</td>\n      <td>Alexandra Stan</td>\n      <td>[\"0BmLNz4nSLfoWYW1cYsElL\"]</td>\n      <td>1</td>\n      <td>1</td>\n      <td>False</td>\n      <td>195105</td>\n      <td>...</td>\n      <td>0.0</td>\n      <td>0.0</td>\n      <td>1.0</td>\n      <td>0</td>\n      <td>0.0</td>\n      <td>1.0</td>\n      <td>romanian pop</td>\n      <td>NaN</td>\n      <td>NaN</td>\n      <td>0.0</td>\n    </tr>\n    <tr>\n      <th>4</th>\n      <td>2Oycxb8QbPkpHTo8ZrmG0B</td>\n      <td>Prisoner</td>\n      <td>Plastic Hearts</td>\n      <td>5BRhg6NSEZOj0BR6Iz56fR</td>\n      <td>Miley Cyrus, Dua Lipa</td>\n      <td>[\"5YGY8feqx7naU7z4HrwZM6\", \"6M2wZ9GZgrQXHCFfjv...</td>\n      <td>4</td>\n      <td>1</td>\n      <td>False</td>\n      <td>169333</td>\n      <td>...</td>\n      <td>1.0</td>\n      <td>0.0</td>\n      <td>28.0</td>\n      <td>0</td>\n      <td>0.0</td>\n      <td>9.0</td>\n      <td>uk pop</td>\n      <td>NaN</td>\n      <td>NaN</td>\n      <td>0.0</td>\n    </tr>\n  </tbody>\n</table>\n<p>5 rows × 67 columns</p>\n</div>"
     },
     "execution_count": 115,
     "metadata": {},
     "output_type": "execute_result"
    }
   ],
   "source": [
    "def with_labels(df, labels_df):\n",
    "    labels_df = labels_df.drop_duplicates([\"album_id\"])\n",
    "    # labels_df = labels_df.drop(columns=[\"id\", \"artist_ids\"])\n",
    "    labels_df[\"label_matched\"] = 1\n",
    "    df = pd.merge(df, labels_df, on=\"album_id\", how=\"left\")\n",
    "    df[\"label_matched\"] = df[\"label_matched\"].fillna(0)\n",
    "    # df[\"major_label\"] = df[\"major_label\"].fillna(0)\n",
    "    return df\n",
    "\n",
    "\n",
    "labels_df = pd.read_parquet(data_path / \"labels/albums_with_annotated_labels.pq\")\n",
    "tracks_df = with_labels(tracks_df, labels_df)\n",
    "print(tracks_df.shape)\n",
    "tracks_df.head()"
   ],
   "metadata": {
    "collapsed": false,
    "pycharm": {
     "name": "#%%\n"
    }
   }
  },
  {
   "cell_type": "code",
   "execution_count": 116,
   "outputs": [
    {
     "name": "stdout",
     "output_type": "stream",
     "text": [
      "(10988, 69)\n"
     ]
    },
    {
     "data": {
      "text/plain": "                       id                         name  \\\n0  36W02sCbiFy6lQTEHCV7Ci                   Slime Love   \n1  5AsFlY8KFYMDTlQkOdBl39                Cielito Lindo   \n2  5HaKldnT9gWe70hr8bstmh  Tình Nào Không Như Tình Đầu   \n3  2ZAx6NDhX2yE5aL5ueEQgY                 Mr. Saxobeat   \n4  2Oycxb8QbPkpHTo8ZrmG0B                     Prisoner   \n\n                         album                album_id                artists  \\\n0                   Slime Love  0CztyGcRJxeiQxekV49lst    uglystephan archive   \n1                Cielito Lindo  1Dam295LxkVAmxAPhdsvKf          Carlos Rivera   \n2  Tình Nào Không Như Tình Đầu  0PJ9GHkwJeFdhGC9WkTvrZ             Trung Quân   \n3                    Saxobeats  25hD73WRfQAPuFMRibSjby         Alexandra Stan   \n4               Plastic Hearts  5BRhg6NSEZOj0BR6Iz56fR  Miley Cyrus, Dua Lipa   \n\n                                          artist_ids  track_number  \\\n0                         [\"4De9u0pfKn6Eu4qSZgDnKZ\"]             1   \n1                         [\"39yVoqm6sYFvvqF1RciUVf\"]             1   \n2                         [\"5Cf9nBDNc99UFkq9Yqap7Q\"]             1   \n3                         [\"0BmLNz4nSLfoWYW1cYsElL\"]             1   \n4  [\"5YGY8feqx7naU7z4HrwZM6\", \"6M2wZ9GZgrQXHCFfjv...             4   \n\n   disc_number  explicit  duration_ms  ...  artist_releases  \\\n0            1      True       188871  ...              0.0   \n1            1     False       227106  ...             20.0   \n2            1     False       281960  ...             35.0   \n3            1     False       195105  ...              1.0   \n4            1     False       169333  ...             28.0   \n\n  artist_chart_months  artist_chart_months_recently  artist_releases_recently  \\\n0                   0                           0.0                       0.0   \n1                   0                           0.0                      14.0   \n2                   0                           0.0                      14.0   \n3                   0                           0.0                       1.0   \n4                   0                           0.0                       9.0   \n\n             genre           label_name  major_label  label_matched  \\\n0  russian hip hop  Deutsche Grammophon          1.0            1.0   \n1  latin arena pop                 None          1.0            1.0   \n2            v-pop             Thúy Nga          0.0            1.0   \n3     romanian pop                  NaN          NaN            0.0   \n4           uk pop                  NaN          NaN            0.0   \n\n   chart_status  award_status  \n0             0             0  \n1             0             0  \n2             0             0  \n3             2             0  \n4             0             0  \n\n[5 rows x 69 columns]",
      "text/html": "<div>\n<style scoped>\n    .dataframe tbody tr th:only-of-type {\n        vertical-align: middle;\n    }\n\n    .dataframe tbody tr th {\n        vertical-align: top;\n    }\n\n    .dataframe thead th {\n        text-align: right;\n    }\n</style>\n<table border=\"1\" class=\"dataframe\">\n  <thead>\n    <tr style=\"text-align: right;\">\n      <th></th>\n      <th>id</th>\n      <th>name</th>\n      <th>album</th>\n      <th>album_id</th>\n      <th>artists</th>\n      <th>artist_ids</th>\n      <th>track_number</th>\n      <th>disc_number</th>\n      <th>explicit</th>\n      <th>duration_ms</th>\n      <th>...</th>\n      <th>artist_releases</th>\n      <th>artist_chart_months</th>\n      <th>artist_chart_months_recently</th>\n      <th>artist_releases_recently</th>\n      <th>genre</th>\n      <th>label_name</th>\n      <th>major_label</th>\n      <th>label_matched</th>\n      <th>chart_status</th>\n      <th>award_status</th>\n    </tr>\n  </thead>\n  <tbody>\n    <tr>\n      <th>0</th>\n      <td>36W02sCbiFy6lQTEHCV7Ci</td>\n      <td>Slime Love</td>\n      <td>Slime Love</td>\n      <td>0CztyGcRJxeiQxekV49lst</td>\n      <td>uglystephan archive</td>\n      <td>[\"4De9u0pfKn6Eu4qSZgDnKZ\"]</td>\n      <td>1</td>\n      <td>1</td>\n      <td>True</td>\n      <td>188871</td>\n      <td>...</td>\n      <td>0.0</td>\n      <td>0</td>\n      <td>0.0</td>\n      <td>0.0</td>\n      <td>russian hip hop</td>\n      <td>Deutsche Grammophon</td>\n      <td>1.0</td>\n      <td>1.0</td>\n      <td>0</td>\n      <td>0</td>\n    </tr>\n    <tr>\n      <th>1</th>\n      <td>5AsFlY8KFYMDTlQkOdBl39</td>\n      <td>Cielito Lindo</td>\n      <td>Cielito Lindo</td>\n      <td>1Dam295LxkVAmxAPhdsvKf</td>\n      <td>Carlos Rivera</td>\n      <td>[\"39yVoqm6sYFvvqF1RciUVf\"]</td>\n      <td>1</td>\n      <td>1</td>\n      <td>False</td>\n      <td>227106</td>\n      <td>...</td>\n      <td>20.0</td>\n      <td>0</td>\n      <td>0.0</td>\n      <td>14.0</td>\n      <td>latin arena pop</td>\n      <td>None</td>\n      <td>1.0</td>\n      <td>1.0</td>\n      <td>0</td>\n      <td>0</td>\n    </tr>\n    <tr>\n      <th>2</th>\n      <td>5HaKldnT9gWe70hr8bstmh</td>\n      <td>Tình Nào Không Như Tình Đầu</td>\n      <td>Tình Nào Không Như Tình Đầu</td>\n      <td>0PJ9GHkwJeFdhGC9WkTvrZ</td>\n      <td>Trung Quân</td>\n      <td>[\"5Cf9nBDNc99UFkq9Yqap7Q\"]</td>\n      <td>1</td>\n      <td>1</td>\n      <td>False</td>\n      <td>281960</td>\n      <td>...</td>\n      <td>35.0</td>\n      <td>0</td>\n      <td>0.0</td>\n      <td>14.0</td>\n      <td>v-pop</td>\n      <td>Thúy Nga</td>\n      <td>0.0</td>\n      <td>1.0</td>\n      <td>0</td>\n      <td>0</td>\n    </tr>\n    <tr>\n      <th>3</th>\n      <td>2ZAx6NDhX2yE5aL5ueEQgY</td>\n      <td>Mr. Saxobeat</td>\n      <td>Saxobeats</td>\n      <td>25hD73WRfQAPuFMRibSjby</td>\n      <td>Alexandra Stan</td>\n      <td>[\"0BmLNz4nSLfoWYW1cYsElL\"]</td>\n      <td>1</td>\n      <td>1</td>\n      <td>False</td>\n      <td>195105</td>\n      <td>...</td>\n      <td>1.0</td>\n      <td>0</td>\n      <td>0.0</td>\n      <td>1.0</td>\n      <td>romanian pop</td>\n      <td>NaN</td>\n      <td>NaN</td>\n      <td>0.0</td>\n      <td>2</td>\n      <td>0</td>\n    </tr>\n    <tr>\n      <th>4</th>\n      <td>2Oycxb8QbPkpHTo8ZrmG0B</td>\n      <td>Prisoner</td>\n      <td>Plastic Hearts</td>\n      <td>5BRhg6NSEZOj0BR6Iz56fR</td>\n      <td>Miley Cyrus, Dua Lipa</td>\n      <td>[\"5YGY8feqx7naU7z4HrwZM6\", \"6M2wZ9GZgrQXHCFfjv...</td>\n      <td>4</td>\n      <td>1</td>\n      <td>False</td>\n      <td>169333</td>\n      <td>...</td>\n      <td>28.0</td>\n      <td>0</td>\n      <td>0.0</td>\n      <td>9.0</td>\n      <td>uk pop</td>\n      <td>NaN</td>\n      <td>NaN</td>\n      <td>0.0</td>\n      <td>0</td>\n      <td>0</td>\n    </tr>\n  </tbody>\n</table>\n<p>5 rows × 69 columns</p>\n</div>"
     },
     "execution_count": 116,
     "metadata": {},
     "output_type": "execute_result"
    }
   ],
   "source": [
    "tracks_df = tracks_df.rename(columns={\"chart_months\": \"track_chart_months\"})\n",
    "tracks_df = tracks_df[tracks_df[\"year\"] >= 2000]\n",
    "# features\n",
    "# - chart_status  => [0: never charts, 1: has charted, 2: charted top 10]\n",
    "# - award_status  => [0: never nominated, 1: nominated, 2: won]\n",
    "# - artist_status => [0: never nominated, 1: previously nominated, 2: previous winner]\n",
    "\n",
    "def chart_status(r):\n",
    "    # should chart status account for album or artist charting?\n",
    "    return 2 if r[\"track_chart_peak\"] <= 25\\\n",
    "        else 1 if r[\"track_chart_peak\"] > 0\\\n",
    "        else 0\n",
    "\n",
    "\n",
    "def award_status(r):\n",
    "    # should award status account for album or artist winning?\n",
    "    return 2 if r[\"recording_award_winner\"] >= 1\\\n",
    "        else 1 if r[\"recording_award_nominee\"] >= 1\\\n",
    "        else 0\n",
    "\n",
    "\n",
    "tracks_df[\"chart_status\"] = tracks_df.apply(chart_status, axis=1)\n",
    "tracks_df[\"award_status\"] =  tracks_df.apply(award_status, axis=1)\n",
    "# df[\"artist_status\"] = df.apply(artist_status, axis=1)\n",
    "\n",
    "print(tracks_df.shape)\n",
    "tracks_df.head()"
   ],
   "metadata": {
    "collapsed": false,
    "pycharm": {
     "name": "#%%\n"
    }
   }
  },
  {
   "cell_type": "code",
   "execution_count": 119,
   "outputs": [
    {
     "name": "stdout",
     "output_type": "stream",
     "text": [
      "no. tracks: 10988\n",
      "no. chart2000 songs: 12900\n",
      "no. spotify chart songs: 15000\n",
      "no. grammy songs: 580\n",
      "no. tracks w/out features: 1\n",
      "no. tracks w/out chart position: 0\n",
      "no. charted songs w/ nominations: 457\n",
      "no. songs w/out nomination or chart: 10531\n"
     ]
    },
    {
     "data": {
      "text/plain": "                             id  name  album  album_id  artists  artist_ids  \\\nchart_status award_status                                                     \n0            0             7547  7547   7547      7547     7547        7547   \n             1              211   211    211       211      211         211   \n             2               35    35     35        35       35          35   \n1            0             1464  1464   1464      1464     1464        1464   \n             1               45    45     45        45       45          45   \n             2                2     2      2         2        2           2   \n2            0             1520  1520   1520      1520     1520        1520   \n             1              137   137    137       137      137         137   \n             2               27    27     27        27       27          27   \n\n                           track_number  disc_number  explicit  duration_ms  \\\nchart_status award_status                                                     \n0            0                     7547         7547      7547         7547   \n             1                      211          211       211          211   \n             2                       35           35        35           35   \n1            0                     1464         1464      1464         1464   \n             1                       45           45        45           45   \n             2                        2            2         2            2   \n2            0                     1520         1520      1520         1520   \n             1                      137          137       137          137   \n             2                       27           27        27           27   \n\n                           ...  artist_nominations  artist_wins  \\\nchart_status award_status  ...                                    \n0            0             ...                7547         7547   \n             1             ...                 211          211   \n             2             ...                  35           35   \n1            0             ...                1464         1464   \n             1             ...                  45           45   \n             2             ...                   2            2   \n2            0             ...                1520         1520   \n             1             ...                 137          137   \n             2             ...                  27           27   \n\n                           artist_releases  artist_chart_months  \\\nchart_status award_status                                         \n0            0                        7547                 7547   \n             1                         211                  211   \n             2                          35                   35   \n1            0                        1464                 1464   \n             1                          45                   45   \n             2                           2                    2   \n2            0                        1520                 1520   \n             1                         137                  137   \n             2                          27                   27   \n\n                           artist_chart_months_recently  \\\nchart_status award_status                                 \n0            0                                     7547   \n             1                                      211   \n             2                                       35   \n1            0                                     1464   \n             1                                       45   \n             2                                        2   \n2            0                                     1520   \n             1                                      137   \n             2                                       27   \n\n                           artist_releases_recently  genre  label_name  \\\nchart_status award_status                                                \n0            0                                 7547   7547        4911   \n             1                                  211    211           0   \n             2                                   35     35           0   \n1            0                                 1464   1464           0   \n             1                                   45     45           0   \n             2                                    2      2           0   \n2            0                                 1520   1520           0   \n             1                                  137    137           0   \n             2                                   27     27           0   \n\n                           major_label  label_matched  \nchart_status award_status                              \n0            0                    6220           7547  \n             1                       0            211  \n             2                       0             35  \n1            0                       0           1464  \n             1                       0             45  \n             2                       0              2  \n2            0                       0           1520  \n             1                       0            137  \n             2                       0             27  \n\n[9 rows x 67 columns]",
      "text/html": "<div>\n<style scoped>\n    .dataframe tbody tr th:only-of-type {\n        vertical-align: middle;\n    }\n\n    .dataframe tbody tr th {\n        vertical-align: top;\n    }\n\n    .dataframe thead th {\n        text-align: right;\n    }\n</style>\n<table border=\"1\" class=\"dataframe\">\n  <thead>\n    <tr style=\"text-align: right;\">\n      <th></th>\n      <th></th>\n      <th>id</th>\n      <th>name</th>\n      <th>album</th>\n      <th>album_id</th>\n      <th>artists</th>\n      <th>artist_ids</th>\n      <th>track_number</th>\n      <th>disc_number</th>\n      <th>explicit</th>\n      <th>duration_ms</th>\n      <th>...</th>\n      <th>artist_nominations</th>\n      <th>artist_wins</th>\n      <th>artist_releases</th>\n      <th>artist_chart_months</th>\n      <th>artist_chart_months_recently</th>\n      <th>artist_releases_recently</th>\n      <th>genre</th>\n      <th>label_name</th>\n      <th>major_label</th>\n      <th>label_matched</th>\n    </tr>\n    <tr>\n      <th>chart_status</th>\n      <th>award_status</th>\n      <th></th>\n      <th></th>\n      <th></th>\n      <th></th>\n      <th></th>\n      <th></th>\n      <th></th>\n      <th></th>\n      <th></th>\n      <th></th>\n      <th></th>\n      <th></th>\n      <th></th>\n      <th></th>\n      <th></th>\n      <th></th>\n      <th></th>\n      <th></th>\n      <th></th>\n      <th></th>\n      <th></th>\n    </tr>\n  </thead>\n  <tbody>\n    <tr>\n      <th rowspan=\"3\" valign=\"top\">0</th>\n      <th>0</th>\n      <td>7547</td>\n      <td>7547</td>\n      <td>7547</td>\n      <td>7547</td>\n      <td>7547</td>\n      <td>7547</td>\n      <td>7547</td>\n      <td>7547</td>\n      <td>7547</td>\n      <td>7547</td>\n      <td>...</td>\n      <td>7547</td>\n      <td>7547</td>\n      <td>7547</td>\n      <td>7547</td>\n      <td>7547</td>\n      <td>7547</td>\n      <td>7547</td>\n      <td>4911</td>\n      <td>6220</td>\n      <td>7547</td>\n    </tr>\n    <tr>\n      <th>1</th>\n      <td>211</td>\n      <td>211</td>\n      <td>211</td>\n      <td>211</td>\n      <td>211</td>\n      <td>211</td>\n      <td>211</td>\n      <td>211</td>\n      <td>211</td>\n      <td>211</td>\n      <td>...</td>\n      <td>211</td>\n      <td>211</td>\n      <td>211</td>\n      <td>211</td>\n      <td>211</td>\n      <td>211</td>\n      <td>211</td>\n      <td>0</td>\n      <td>0</td>\n      <td>211</td>\n    </tr>\n    <tr>\n      <th>2</th>\n      <td>35</td>\n      <td>35</td>\n      <td>35</td>\n      <td>35</td>\n      <td>35</td>\n      <td>35</td>\n      <td>35</td>\n      <td>35</td>\n      <td>35</td>\n      <td>35</td>\n      <td>...</td>\n      <td>35</td>\n      <td>35</td>\n      <td>35</td>\n      <td>35</td>\n      <td>35</td>\n      <td>35</td>\n      <td>35</td>\n      <td>0</td>\n      <td>0</td>\n      <td>35</td>\n    </tr>\n    <tr>\n      <th rowspan=\"3\" valign=\"top\">1</th>\n      <th>0</th>\n      <td>1464</td>\n      <td>1464</td>\n      <td>1464</td>\n      <td>1464</td>\n      <td>1464</td>\n      <td>1464</td>\n      <td>1464</td>\n      <td>1464</td>\n      <td>1464</td>\n      <td>1464</td>\n      <td>...</td>\n      <td>1464</td>\n      <td>1464</td>\n      <td>1464</td>\n      <td>1464</td>\n      <td>1464</td>\n      <td>1464</td>\n      <td>1464</td>\n      <td>0</td>\n      <td>0</td>\n      <td>1464</td>\n    </tr>\n    <tr>\n      <th>1</th>\n      <td>45</td>\n      <td>45</td>\n      <td>45</td>\n      <td>45</td>\n      <td>45</td>\n      <td>45</td>\n      <td>45</td>\n      <td>45</td>\n      <td>45</td>\n      <td>45</td>\n      <td>...</td>\n      <td>45</td>\n      <td>45</td>\n      <td>45</td>\n      <td>45</td>\n      <td>45</td>\n      <td>45</td>\n      <td>45</td>\n      <td>0</td>\n      <td>0</td>\n      <td>45</td>\n    </tr>\n    <tr>\n      <th>2</th>\n      <td>2</td>\n      <td>2</td>\n      <td>2</td>\n      <td>2</td>\n      <td>2</td>\n      <td>2</td>\n      <td>2</td>\n      <td>2</td>\n      <td>2</td>\n      <td>2</td>\n      <td>...</td>\n      <td>2</td>\n      <td>2</td>\n      <td>2</td>\n      <td>2</td>\n      <td>2</td>\n      <td>2</td>\n      <td>2</td>\n      <td>0</td>\n      <td>0</td>\n      <td>2</td>\n    </tr>\n    <tr>\n      <th rowspan=\"3\" valign=\"top\">2</th>\n      <th>0</th>\n      <td>1520</td>\n      <td>1520</td>\n      <td>1520</td>\n      <td>1520</td>\n      <td>1520</td>\n      <td>1520</td>\n      <td>1520</td>\n      <td>1520</td>\n      <td>1520</td>\n      <td>1520</td>\n      <td>...</td>\n      <td>1520</td>\n      <td>1520</td>\n      <td>1520</td>\n      <td>1520</td>\n      <td>1520</td>\n      <td>1520</td>\n      <td>1520</td>\n      <td>0</td>\n      <td>0</td>\n      <td>1520</td>\n    </tr>\n    <tr>\n      <th>1</th>\n      <td>137</td>\n      <td>137</td>\n      <td>137</td>\n      <td>137</td>\n      <td>137</td>\n      <td>137</td>\n      <td>137</td>\n      <td>137</td>\n      <td>137</td>\n      <td>137</td>\n      <td>...</td>\n      <td>137</td>\n      <td>137</td>\n      <td>137</td>\n      <td>137</td>\n      <td>137</td>\n      <td>137</td>\n      <td>137</td>\n      <td>0</td>\n      <td>0</td>\n      <td>137</td>\n    </tr>\n    <tr>\n      <th>2</th>\n      <td>27</td>\n      <td>27</td>\n      <td>27</td>\n      <td>27</td>\n      <td>27</td>\n      <td>27</td>\n      <td>27</td>\n      <td>27</td>\n      <td>27</td>\n      <td>27</td>\n      <td>...</td>\n      <td>27</td>\n      <td>27</td>\n      <td>27</td>\n      <td>27</td>\n      <td>27</td>\n      <td>27</td>\n      <td>27</td>\n      <td>0</td>\n      <td>0</td>\n      <td>27</td>\n    </tr>\n  </tbody>\n</table>\n<p>9 rows × 67 columns</p>\n</div>"
     },
     "execution_count": 119,
     "metadata": {},
     "output_type": "execute_result"
    }
   ],
   "source": [
    "print(f\"no. tracks: {len(tracks_df)}\")\n",
    "print(f\"no. chart2000 songs: {len(song_chart_df)}\")\n",
    "print(f\"no. spotify chart songs: {len(spotify_chart_df)}\")\n",
    "print(f\"no. grammy songs: {len(recording_nominations_df)}\")\n",
    "print(f\"no. tracks w/out features: {(tracks_df['audio_features'] == 0).sum()}\")\n",
    "# print(f\"no. track features w/out nominations: {tracks_df['spotify_track_id'].isnull().sum()}\")\n",
    "print(f\"no. tracks w/out chart position: {len(tracks_df[(tracks_df['track_chart_months'].isnull()) & (tracks_df['recording_award_nominee'] > 0)])}\")\n",
    "print(f\"no. charted songs w/ nominations: {len(tracks_df[(~tracks_df['track_chart_months'].isnull()) & (tracks_df['recording_award_nominee'] > 0)])}\")\n",
    "print(f\"no. songs w/out nomination or chart: {len(tracks_df[(~tracks_df['track_chart_months'].isnull()) & (tracks_df['recording_award_nominee'] == 0)])}\")\n",
    "\n",
    "tracks_df.to_csv(data_path / \"tracks.csv.gz\", compression=\"gzip\", index=False)\n",
    "tracks_df.to_parquet(data_path / \"tracks.pq\", index=False)\n",
    "\n",
    "tracks_df.groupby([\"chart_status\", \"award_status\"]).count()"
   ],
   "metadata": {
    "collapsed": false,
    "pycharm": {
     "name": "#%%\n"
    }
   }
  },
  {
   "cell_type": "code",
   "execution_count": 118,
   "outputs": [
    {
     "data": {
      "text/plain": "       track_chart_months  recording_award_nominee\n0                     0.0                      0.0\n1                     0.0                      0.0\n2                     0.0                      0.0\n3                     7.0                      0.0\n4                     0.0                      0.0\n...                   ...                      ...\n11334                 0.0                      0.0\n11335                 1.0                      0.0\n11336                 0.0                      0.0\n11337                 4.0                      0.0\n11338                 0.0                      0.0\n\n[10531 rows x 2 columns]",
      "text/html": "<div>\n<style scoped>\n    .dataframe tbody tr th:only-of-type {\n        vertical-align: middle;\n    }\n\n    .dataframe tbody tr th {\n        vertical-align: top;\n    }\n\n    .dataframe thead th {\n        text-align: right;\n    }\n</style>\n<table border=\"1\" class=\"dataframe\">\n  <thead>\n    <tr style=\"text-align: right;\">\n      <th></th>\n      <th>track_chart_months</th>\n      <th>recording_award_nominee</th>\n    </tr>\n  </thead>\n  <tbody>\n    <tr>\n      <th>0</th>\n      <td>0.0</td>\n      <td>0.0</td>\n    </tr>\n    <tr>\n      <th>1</th>\n      <td>0.0</td>\n      <td>0.0</td>\n    </tr>\n    <tr>\n      <th>2</th>\n      <td>0.0</td>\n      <td>0.0</td>\n    </tr>\n    <tr>\n      <th>3</th>\n      <td>7.0</td>\n      <td>0.0</td>\n    </tr>\n    <tr>\n      <th>4</th>\n      <td>0.0</td>\n      <td>0.0</td>\n    </tr>\n    <tr>\n      <th>...</th>\n      <td>...</td>\n      <td>...</td>\n    </tr>\n    <tr>\n      <th>11334</th>\n      <td>0.0</td>\n      <td>0.0</td>\n    </tr>\n    <tr>\n      <th>11335</th>\n      <td>1.0</td>\n      <td>0.0</td>\n    </tr>\n    <tr>\n      <th>11336</th>\n      <td>0.0</td>\n      <td>0.0</td>\n    </tr>\n    <tr>\n      <th>11337</th>\n      <td>4.0</td>\n      <td>0.0</td>\n    </tr>\n    <tr>\n      <th>11338</th>\n      <td>0.0</td>\n      <td>0.0</td>\n    </tr>\n  </tbody>\n</table>\n<p>10531 rows × 2 columns</p>\n</div>"
     },
     "execution_count": 118,
     "metadata": {},
     "output_type": "execute_result"
    }
   ],
   "source": [
    "tracks_df[[\"track_chart_months\", \"recording_award_nominee\"]][(~tracks_df['track_chart_months'].isnull()) & (tracks_df['recording_award_nominee'] == 0)]"
   ],
   "metadata": {
    "collapsed": false,
    "pycharm": {
     "name": "#%%\n"
    }
   }
  },
  {
   "cell_type": "code",
   "execution_count": null,
   "outputs": [],
   "source": [
    "track_features_full_df = df[[\n",
    "    'id',\n",
    "    'name',\n",
    "    'album',\n",
    "    'album_id',\n",
    "    'artists',\n",
    "    'artist_ids',\n",
    "    'track_number',\n",
    "    'disc_number',\n",
    "    'explicit',\n",
    "    'duration_ms',\n",
    "    'year',\n",
    "    'release_date',\n",
    "    'popularity',\n",
    "    'isrc',\n",
    "    # spotify audio features\n",
    "    'audio_features', # has audio features\n",
    "    'danceability',\n",
    "    'energy',\n",
    "    'key',\n",
    "    'loudness',\n",
    "    'mode',\n",
    "    'speechiness',\n",
    "    'acousticness',\n",
    "    'instrumentalness',\n",
    "    'liveness',\n",
    "    'valence',\n",
    "    'tempo',\n",
    "    'time_signature',\n",
    "    # artist\n",
    "    'artist_genre',\n",
    "    'artist_gender',\n",
    "    'artist_country',\n",
    "    'artist_hometown',\n",
    "    'artist_begin',\n",
    "    'artist_total_releases'\n",
    "    # charts2000\n",
    "    'months', # num months on charts\n",
    "    'indicativerevenue',\n",
    "    'position_min',\n",
    "    'position_mean',\n",
    "    'position_median',\n",
    "    # grammy award result for this song\n",
    "    'recording_award_category',\n",
    "    'recording_award_nominee',\n",
    "    'recording_award_winner',\n",
    "    # grammy award result for this song\n",
    "    'album_award_category',\n",
    "    'album_award_nominee',\n",
    "    'album_award_winner',\n",
    "    # grammy nomination history for artist\n",
    "    'artist_total_nominations',\n",
    "    'artist_total_wins',\n",
    "    'artist_first_nomination',\n",
    "    'artist_first_win',\n",
    "    'artist_previous_nominations',\n",
    "    'artist_previous_wins',\n",
    "    # quick categories\n",
    "    'chart_status',\n",
    "    'award_status',\n",
    "    'artist_status'\n",
    "]]\n",
    "\n",
    "track_features_full_df.to_csv(\"../../data/02-track_features_balanced_wide.csv.gz\", compression=\"gzip\", index=False)\n",
    "track_features_full_df.to_parquet(\"../../data/02-track_features_balanced_wide.pq\", index=False)\n",
    "\n",
    "track_features_slim_df = df[[\n",
    "    'id',\n",
    "    'name',\n",
    "    'album',\n",
    "    'album_id',\n",
    "    'artists',\n",
    "    'artist_ids',\n",
    "    'track_number',\n",
    "    'disc_number',\n",
    "    'explicit',\n",
    "    'duration_ms',\n",
    "    'year',\n",
    "    'release_date',\n",
    "    'popularity',\n",
    "    # spotify audio features\n",
    "    'audio_features', # has audio features\n",
    "    'danceability',\n",
    "    'energy',\n",
    "    'key',\n",
    "    'loudness',\n",
    "    'mode',\n",
    "    'speechiness',\n",
    "    'acousticness',\n",
    "    'instrumentalness',\n",
    "    'liveness',\n",
    "    'valence',\n",
    "    'tempo',\n",
    "    'time_signature',\n",
    "    # artist\n",
    "    'artist_genre',\n",
    "    'artist_gender',\n",
    "    'artist_country',\n",
    "    'artist_hometown',\n",
    "    'artist_begin',\n",
    "    'artist_total_releases',\n",
    "    # quick categories\n",
    "    'chart_status',\n",
    "    'award_status',\n",
    "    'artist_status'\n",
    "]]\n",
    "\n",
    "track_features_slim_df.to_csv(\"../../data/02-track_features_balanced.csv.gz\", compression=\"gzip\", index=False)\n",
    "track_features_slim_df.to_parquet(\"../../data/02-track_features_balanced.pq\", index=False)"
   ],
   "metadata": {
    "collapsed": false,
    "pycharm": {
     "name": "#%%\n"
    }
   }
  },
  {
   "cell_type": "markdown",
   "source": [],
   "metadata": {
    "collapsed": false
   }
  },
  {
   "cell_type": "markdown",
   "source": [],
   "metadata": {
    "collapsed": false
   }
  },
  {
   "cell_type": "code",
   "execution_count": null,
   "outputs": [],
   "source": [],
   "metadata": {
    "collapsed": false,
    "pycharm": {
     "name": "#%%\n"
    }
   }
  }
 ],
 "metadata": {
  "kernelspec": {
   "display_name": "Python 3",
   "language": "python",
   "name": "python3"
  },
  "language_info": {
   "codemirror_mode": {
    "name": "ipython",
    "version": 2
   },
   "file_extension": ".py",
   "mimetype": "text/x-python",
   "name": "python",
   "nbconvert_exporter": "python",
   "pygments_lexer": "ipython2",
   "version": "2.7.6"
  }
 },
 "nbformat": 4,
 "nbformat_minor": 0
}