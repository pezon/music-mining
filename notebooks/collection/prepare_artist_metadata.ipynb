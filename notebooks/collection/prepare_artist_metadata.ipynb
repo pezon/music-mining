{
 "cells": [
  {
   "cell_type": "code",
   "execution_count": null,
   "metadata": {
    "collapsed": true,
    "pycharm": {
     "is_executing": true
    }
   },
   "outputs": [],
   "source": [
    "import pandas as pd\n",
    "from time import time\n",
    "\n",
    "from util import with_mbz_artist_metadata\n",
    "\n",
    "\n",
    "df = pd.read_parquet(\"../../data/02-track_features_balanced_wide.pq\")\n",
    "# print(df.shape)\n",
    "df = df[[\"artists\", \"artist_ids\"]].drop_duplicates()\n",
    "# print(df.shape)\n",
    "time1 = time()\n",
    "df = with_mbz_artist_metadata(df)\n",
    "time2 = time()\n",
    "# df.to_parquet(\"../../data/raw/artist_metadata.pq\")\n",
    "# df.to_csv(\"../../data/raw/artist_metadata.csv\")\n",
    "# df\n",
    "print(df.shape, time2 - time1)"
   ]
  },
  {
   "cell_type": "code",
   "execution_count": null,
   "outputs": [],
   "source": [
    "2425 * 2 / 60 / 60"
   ],
   "metadata": {
    "collapsed": false,
    "pycharm": {
     "name": "#%%\n",
     "is_executing": true
    }
   }
  },
  {
   "cell_type": "code",
   "execution_count": null,
   "outputs": [],
   "source": [
    "296 / 100 * 2425 / 60 / 60"
   ],
   "metadata": {
    "collapsed": false,
    "pycharm": {
     "name": "#%%\n",
     "is_executing": true
    }
   }
  },
  {
   "cell_type": "code",
   "execution_count": null,
   "outputs": [],
   "source": [],
   "metadata": {
    "collapsed": false,
    "pycharm": {
     "name": "#%%\n"
    }
   }
  }
 ],
 "metadata": {
  "kernelspec": {
   "display_name": "Python 3",
   "language": "python",
   "name": "python3"
  },
  "language_info": {
   "codemirror_mode": {
    "name": "ipython",
    "version": 2
   },
   "file_extension": ".py",
   "mimetype": "text/x-python",
   "name": "python",
   "nbconvert_exporter": "python",
   "pygments_lexer": "ipython2",
   "version": "2.7.6"
  }
 },
 "nbformat": 4,
 "nbformat_minor": 0
}