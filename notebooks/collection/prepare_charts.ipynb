{
 "cells": [
  {
   "cell_type": "code",
   "execution_count": 1,
   "metadata": {
    "collapsed": true
   },
   "outputs": [
    {
     "name": "stderr",
     "output_type": "stream",
     "text": [
      "/Users/pez/.conda/envs/dataspell-2/lib/python3.9/site-packages/thefuzz/fuzz.py:11: UserWarning: Using slow pure-python SequenceMatcher. Install python-Levenshtein to remove this warning\n",
      "  warnings.warn('Using slow pure-python SequenceMatcher. Install python-Levenshtein to remove this warning')\n"
     ]
    }
   ],
   "source": [
    "import os\n",
    "from pathlib import Path\n",
    "\n",
    "import pandas as pd\n",
    "\n",
    "from util import with_spotify_track_metadata\n",
    "\n",
    "diff_dataset = True\n",
    "data_path = Path(\"../../data\").resolve()\n",
    "os.makedirs(data_path, exist_ok=True)"
   ]
  },
  {
   "cell_type": "code",
   "execution_count": 2,
   "outputs": [
    {
     "name": "stdout",
     "output_type": "stream",
     "text": [
      "status: 0.23 (8 / 3454\n",
      "status: 0.90 (31 / 3454\n",
      "status: 1.13 (39 / 3454\n",
      "status: 1.88 (65 / 3454\n",
      "status: 2.20 (76 / 3454\n",
      "status: 2.29 (79 / 3454\n",
      "status: 2.69 (93 / 3454\n",
      "status: 2.81 (97 / 3454\n",
      "status: 3.13 (108 / 3454\n",
      "status: 3.91 (135 / 3454\n",
      "status: 4.20 (145 / 3454\n",
      "status: 4.46 (154 / 3454\n",
      "status: 4.86 (168 / 3454\n",
      "status: 5.30 (183 / 3454\n",
      "status: 5.44 (188 / 3454\n",
      "status: 5.79 (200 / 3454\n",
      "status: 5.82 (201 / 3454\n",
      "status: 6.14 (212 / 3454\n",
      "status: 6.46 (223 / 3454\n",
      "status: 6.72 (232 / 3454\n",
      "status: 6.89 (238 / 3454\n",
      "status: 7.12 (246 / 3454\n",
      "status: 7.30 (252 / 3454\n",
      "status: 7.50 (259 / 3454\n",
      "status: 8.54 (295 / 3454\n",
      "status: 8.71 (301 / 3454\n",
      "status: 9.03 (312 / 3454\n",
      "status: 9.09 (314 / 3454\n",
      "status: 9.29 (321 / 3454\n",
      "status: 9.58 (331 / 3454\n",
      "status: 9.99 (345 / 3454\n",
      "status: 10.63 (367 / 3454\n",
      "status: 10.83 (374 / 3454\n",
      "status: 11.12 (384 / 3454\n",
      "status: 11.61 (401 / 3454\n",
      "status: 11.96 (413 / 3454\n",
      "status: 12.28 (424 / 3454\n",
      "status: 12.48 (431 / 3454\n",
      "status: 12.57 (434 / 3454\n",
      "status: 12.88 (445 / 3454\n",
      "status: 13.64 (471 / 3454\n",
      "status: 13.98 (483 / 3454\n",
      "status: 14.36 (496 / 3454\n",
      "status: 14.85 (513 / 3454\n",
      "status: 15.03 (519 / 3454\n",
      "status: 15.75 (544 / 3454\n",
      "status: 15.92 (550 / 3454\n",
      "status: 16.01 (553 / 3454\n",
      "status: 16.42 (567 / 3454\n",
      "status: 16.50 (570 / 3454\n",
      "status: 16.59 (573 / 3454\n",
      "status: 17.17 (593 / 3454\n",
      "status: 17.98 (621 / 3454\n",
      "status: 18.33 (633 / 3454\n",
      "status: 18.82 (650 / 3454\n",
      "status: 19.08 (659 / 3454\n",
      "status: 19.89 (687 / 3454\n",
      "status: 20.06 (693 / 3454\n",
      "status: 20.38 (704 / 3454\n",
      "status: 20.61 (712 / 3454\n",
      "status: 20.79 (718 / 3454\n",
      "status: 21.05 (727 / 3454\n",
      "status: 21.31 (736 / 3454\n",
      "status: 21.83 (754 / 3454\n",
      "status: 22.26 (769 / 3454\n",
      "status: 22.90 (791 / 3454\n",
      "status: 22.93 (792 / 3454\n",
      "status: 23.36 (807 / 3454\n",
      "status: 23.77 (821 / 3454\n",
      "status: 23.94 (827 / 3454\n",
      "status: 24.17 (835 / 3454\n",
      "status: 24.32 (840 / 3454\n",
      "status: 24.72 (854 / 3454\n",
      "status: 24.99 (863 / 3454\n",
      "status: 25.10 (867 / 3454\n",
      "status: 25.51 (881 / 3454\n",
      "status: 25.68 (887 / 3454\n",
      "status: 25.85 (893 / 3454\n",
      "status: 26.46 (914 / 3454\n",
      "status: 26.49 (915 / 3454\n",
      "status: 26.69 (922 / 3454\n",
      "status: 26.75 (924 / 3454\n",
      "status: 27.27 (942 / 3454\n",
      "status: 28.23 (975 / 3454\n",
      "status: 28.52 (985 / 3454\n",
      "status: 29.01 (1002 / 3454\n",
      "status: 29.10 (1005 / 3454\n",
      "status: 29.53 (1020 / 3454\n",
      "status: 30.02 (1037 / 3454\n",
      "status: 30.31 (1047 / 3454\n",
      "status: 30.66 (1059 / 3454\n",
      "status: 31.24 (1079 / 3454\n",
      "status: 31.38 (1084 / 3454\n",
      "status: 31.76 (1097 / 3454\n",
      "status: 31.91 (1102 / 3454\n",
      "status: 31.93 (1103 / 3454\n",
      "status: 32.08 (1108 / 3454\n",
      "status: 32.14 (1110 / 3454\n",
      "status: 32.60 (1126 / 3454\n",
      "status: 32.66 (1128 / 3454\n",
      "status: 32.80 (1133 / 3454\n",
      "status: 33.58 (1160 / 3454\n",
      "status: 34.11 (1178 / 3454\n",
      "status: 34.28 (1184 / 3454\n",
      "status: 34.42 (1189 / 3454\n",
      "status: 34.92 (1206 / 3454\n",
      "status: 35.09 (1212 / 3454\n",
      "status: 35.15 (1214 / 3454\n",
      "status: 35.18 (1215 / 3454\n",
      "status: 35.90 (1240 / 3454\n",
      "status: 35.99 (1243 / 3454\n",
      "status: 36.31 (1254 / 3454\n",
      "status: 36.60 (1264 / 3454\n",
      "status: 37.00 (1278 / 3454\n",
      "status: 37.29 (1288 / 3454\n",
      "status: 37.41 (1292 / 3454\n",
      "status: 37.52 (1296 / 3454\n",
      "status: 37.55 (1297 / 3454\n",
      "status: 37.67 (1301 / 3454\n",
      "status: 38.68 (1336 / 3454\n",
      "status: 39.49 (1364 / 3454\n",
      "status: 39.55 (1366 / 3454\n",
      "status: 40.04 (1383 / 3454\n",
      "status: 40.24 (1390 / 3454\n",
      "status: 40.30 (1392 / 3454\n",
      "status: 40.71 (1406 / 3454\n",
      "status: 41.37 (1429 / 3454\n",
      "status: 41.60 (1437 / 3454\n",
      "status: 42.13 (1455 / 3454\n",
      "status: 42.39 (1464 / 3454\n",
      "status: 42.94 (1483 / 3454\n",
      "status: 43.25 (1494 / 3454\n",
      "status: 43.49 (1502 / 3454\n",
      "status: 43.57 (1505 / 3454\n",
      "status: 43.83 (1514 / 3454\n",
      "status: 43.95 (1518 / 3454\n",
      "status: 44.09 (1523 / 3454\n",
      "status: 44.88 (1550 / 3454\n",
      "status: 44.96 (1553 / 3454\n",
      "status: 45.43 (1569 / 3454\n",
      "status: 45.54 (1573 / 3454\n",
      "status: 45.86 (1584 / 3454\n",
      "status: 45.89 (1585 / 3454\n",
      "status: 46.21 (1596 / 3454\n",
      "status: 46.84 (1618 / 3454\n",
      "status: 48.00 (1658 / 3454\n",
      "status: 48.12 (1662 / 3454\n",
      "status: 48.38 (1671 / 3454\n",
      "status: 48.41 (1672 / 3454\n",
      "status: 49.22 (1700 / 3454\n",
      "status: 49.31 (1703 / 3454\n",
      "status: 49.36 (1705 / 3454\n",
      "status: 50.84 (1756 / 3454\n",
      "status: 50.98 (1761 / 3454\n",
      "status: 51.24 (1770 / 3454\n",
      "status: 51.51 (1779 / 3454\n",
      "status: 52.26 (1805 / 3454\n",
      "status: 52.46 (1812 / 3454\n",
      "status: 52.63 (1818 / 3454\n",
      "status: 52.95 (1829 / 3454\n",
      "status: 53.39 (1844 / 3454\n",
      "status: 53.97 (1864 / 3454\n",
      "status: 54.46 (1881 / 3454\n",
      "status: 54.60 (1886 / 3454\n",
      "status: 54.95 (1898 / 3454\n",
      "status: 55.21 (1907 / 3454\n",
      "status: 55.47 (1916 / 3454\n",
      "status: 55.82 (1928 / 3454\n",
      "status: 56.11 (1938 / 3454\n",
      "status: 56.17 (1940 / 3454\n",
      "status: 56.46 (1950 / 3454\n",
      "status: 56.69 (1958 / 3454\n",
      "status: 56.77 (1961 / 3454\n",
      "status: 56.86 (1964 / 3454\n",
      "status: 57.04 (1970 / 3454\n",
      "status: 57.18 (1975 / 3454\n",
      "status: 57.38 (1982 / 3454\n",
      "status: 57.56 (1988 / 3454\n",
      "status: 57.73 (1994 / 3454\n",
      "status: 58.22 (2011 / 3454\n",
      "status: 58.77 (2030 / 3454\n",
      "status: 59.79 (2065 / 3454\n",
      "status: 59.99 (2072 / 3454\n",
      "status: 60.89 (2103 / 3454\n",
      "status: 61.26 (2116 / 3454\n",
      "status: 61.35 (2119 / 3454\n",
      "status: 61.93 (2139 / 3454\n",
      "status: 62.71 (2166 / 3454\n",
      "status: 62.77 (2168 / 3454\n",
      "status: 62.88 (2172 / 3454\n",
      "status: 63.17 (2182 / 3454\n"
     ]
    }
   ],
   "source": [
    "def fetch_song_chart_by_month():\n",
    "    \"\"\"Chart 2000 - 2021: the top 50 chart for every month from Jan 2000 to Jun 2021\n",
    "    Note: song and albums ranked weekly by indicative revenue globally over a certain period. Indicative Revenue is a model for global sales volume, adjusted for inflation and currency exchange, and using IFPI estimated annual revenue for the recorded music industry in each country.\n",
    "    #songs_chart_by_month = pd.read_csv(\"https://chart2000.com/data/chart2000-songmonth-0-3-0063.csv\")\n",
    "    \"\"\"\n",
    "    return pd.read_csv(\"/Users/pez/Downloads/chart2000-songmonth-0-3-0063.csv\")\n",
    "\n",
    "\n",
    "songs_chart_by_month = fetch_song_chart_by_month()\n",
    "song_artist_df = songs_chart_by_month[[\"song\", \"artist\"]].drop_duplicates()\n",
    "song_artist_df = with_spotify_track_metadata(song_artist_df)\n",
    "#songs_chart_by_month.to_parquet(data_path / \"raw/song_chart_by_month.pq\", index=False)\n",
    "#songs_chart_by_month.to_csv(data_path / \"song_chart_by_month.csv.gz\", compression=\"gzip\", index=False)"
   ],
   "metadata": {
    "collapsed": false,
    "pycharm": {
     "name": "#%%\n"
    }
   }
  },
  {
   "cell_type": "code",
   "execution_count": 6,
   "outputs": [
    {
     "data": {
      "text/plain": "                     song                                  artist  \\\n0                  Smooth                    Rob Thomas & Santana   \n4        Blue (Da Ba Dee)                               Eiffel 65   \n8                Hot Boyz  Missy 'Misdemeanor' Elliott, NAS & Eve   \n12     Bring It All To Me                                  Blaque   \n20            Satisfy You                       P Diddy & R Kelly   \n...                   ...                                     ...   \n12846                 Bed        Joel Corry & RAYE & David Guetta   \n12872             my.life              J Cole, 21 Savage & Morray   \n12881  Every Chance I Get         DJ Khaled & Lil Baby & Lil Durk   \n12884  pride.is.the.devil                      J. Cole & Lil Baby   \n12889      Famous Friends                Chris Young & Kane Brown   \n\n      spotify_track_id spotify_artist_id spotify_album_id  \\\n0                  NaN               NaN              NaN   \n4                  NaN               NaN              NaN   \n8                  NaN               NaN              NaN   \n12                 NaN               NaN              NaN   \n20                 NaN               NaN              NaN   \n...                ...               ...              ...   \n12846              NaN               NaN              NaN   \n12872              NaN               NaN              NaN   \n12881              NaN               NaN              NaN   \n12884              NaN               NaN              NaN   \n12889              NaN               NaN              NaN   \n\n       spotify_track_popularity spotify_track_explicit  \\\n0                           NaN                    NaN   \n4                           NaN                    NaN   \n8                           NaN                    NaN   \n12                          NaN                    NaN   \n20                          NaN                    NaN   \n...                         ...                    ...   \n12846                       NaN                    NaN   \n12872                       NaN                    NaN   \n12881                       NaN                    NaN   \n12884                       NaN                    NaN   \n12889                       NaN                    NaN   \n\n       spotify_track_duration_ms spotify_track_album_release_date  \\\n0                            NaN                              NaN   \n4                            NaN                              NaN   \n8                            NaN                              NaN   \n12                           NaN                              NaN   \n20                           NaN                              NaN   \n...                          ...                              ...   \n12846                        NaN                              NaN   \n12872                        NaN                              NaN   \n12881                        NaN                              NaN   \n12884                        NaN                              NaN   \n12889                        NaN                              NaN   \n\n      spotify_track_album_release_date_precision  \n0                                            NaN  \n4                                            NaN  \n8                                            NaN  \n12                                           NaN  \n20                                           NaN  \n...                                          ...  \n12846                                        NaN  \n12872                                        NaN  \n12881                                        NaN  \n12884                                        NaN  \n12889                                        NaN  \n\n[1268 rows x 10 columns]",
      "text/html": "<div>\n<style scoped>\n    .dataframe tbody tr th:only-of-type {\n        vertical-align: middle;\n    }\n\n    .dataframe tbody tr th {\n        vertical-align: top;\n    }\n\n    .dataframe thead th {\n        text-align: right;\n    }\n</style>\n<table border=\"1\" class=\"dataframe\">\n  <thead>\n    <tr style=\"text-align: right;\">\n      <th></th>\n      <th>song</th>\n      <th>artist</th>\n      <th>spotify_track_id</th>\n      <th>spotify_artist_id</th>\n      <th>spotify_album_id</th>\n      <th>spotify_track_popularity</th>\n      <th>spotify_track_explicit</th>\n      <th>spotify_track_duration_ms</th>\n      <th>spotify_track_album_release_date</th>\n      <th>spotify_track_album_release_date_precision</th>\n    </tr>\n  </thead>\n  <tbody>\n    <tr>\n      <th>0</th>\n      <td>Smooth</td>\n      <td>Rob Thomas &amp; Santana</td>\n      <td>NaN</td>\n      <td>NaN</td>\n      <td>NaN</td>\n      <td>NaN</td>\n      <td>NaN</td>\n      <td>NaN</td>\n      <td>NaN</td>\n      <td>NaN</td>\n    </tr>\n    <tr>\n      <th>4</th>\n      <td>Blue (Da Ba Dee)</td>\n      <td>Eiffel 65</td>\n      <td>NaN</td>\n      <td>NaN</td>\n      <td>NaN</td>\n      <td>NaN</td>\n      <td>NaN</td>\n      <td>NaN</td>\n      <td>NaN</td>\n      <td>NaN</td>\n    </tr>\n    <tr>\n      <th>8</th>\n      <td>Hot Boyz</td>\n      <td>Missy 'Misdemeanor' Elliott, NAS &amp; Eve</td>\n      <td>NaN</td>\n      <td>NaN</td>\n      <td>NaN</td>\n      <td>NaN</td>\n      <td>NaN</td>\n      <td>NaN</td>\n      <td>NaN</td>\n      <td>NaN</td>\n    </tr>\n    <tr>\n      <th>12</th>\n      <td>Bring It All To Me</td>\n      <td>Blaque</td>\n      <td>NaN</td>\n      <td>NaN</td>\n      <td>NaN</td>\n      <td>NaN</td>\n      <td>NaN</td>\n      <td>NaN</td>\n      <td>NaN</td>\n      <td>NaN</td>\n    </tr>\n    <tr>\n      <th>20</th>\n      <td>Satisfy You</td>\n      <td>P Diddy &amp; R Kelly</td>\n      <td>NaN</td>\n      <td>NaN</td>\n      <td>NaN</td>\n      <td>NaN</td>\n      <td>NaN</td>\n      <td>NaN</td>\n      <td>NaN</td>\n      <td>NaN</td>\n    </tr>\n    <tr>\n      <th>...</th>\n      <td>...</td>\n      <td>...</td>\n      <td>...</td>\n      <td>...</td>\n      <td>...</td>\n      <td>...</td>\n      <td>...</td>\n      <td>...</td>\n      <td>...</td>\n      <td>...</td>\n    </tr>\n    <tr>\n      <th>12846</th>\n      <td>Bed</td>\n      <td>Joel Corry &amp; RAYE &amp; David Guetta</td>\n      <td>NaN</td>\n      <td>NaN</td>\n      <td>NaN</td>\n      <td>NaN</td>\n      <td>NaN</td>\n      <td>NaN</td>\n      <td>NaN</td>\n      <td>NaN</td>\n    </tr>\n    <tr>\n      <th>12872</th>\n      <td>my.life</td>\n      <td>J Cole, 21 Savage &amp; Morray</td>\n      <td>NaN</td>\n      <td>NaN</td>\n      <td>NaN</td>\n      <td>NaN</td>\n      <td>NaN</td>\n      <td>NaN</td>\n      <td>NaN</td>\n      <td>NaN</td>\n    </tr>\n    <tr>\n      <th>12881</th>\n      <td>Every Chance I Get</td>\n      <td>DJ Khaled &amp; Lil Baby &amp; Lil Durk</td>\n      <td>NaN</td>\n      <td>NaN</td>\n      <td>NaN</td>\n      <td>NaN</td>\n      <td>NaN</td>\n      <td>NaN</td>\n      <td>NaN</td>\n      <td>NaN</td>\n    </tr>\n    <tr>\n      <th>12884</th>\n      <td>pride.is.the.devil</td>\n      <td>J. Cole &amp; Lil Baby</td>\n      <td>NaN</td>\n      <td>NaN</td>\n      <td>NaN</td>\n      <td>NaN</td>\n      <td>NaN</td>\n      <td>NaN</td>\n      <td>NaN</td>\n      <td>NaN</td>\n    </tr>\n    <tr>\n      <th>12889</th>\n      <td>Famous Friends</td>\n      <td>Chris Young &amp; Kane Brown</td>\n      <td>NaN</td>\n      <td>NaN</td>\n      <td>NaN</td>\n      <td>NaN</td>\n      <td>NaN</td>\n      <td>NaN</td>\n      <td>NaN</td>\n      <td>NaN</td>\n    </tr>\n  </tbody>\n</table>\n<p>1268 rows × 10 columns</p>\n</div>"
     },
     "execution_count": 6,
     "metadata": {},
     "output_type": "execute_result"
    }
   ],
   "source": [
    "song_artist_df[song_artist_df[\"spotify_track_id\"].isnull()]"
   ],
   "metadata": {
    "collapsed": false,
    "pycharm": {
     "name": "#%%\n"
    }
   }
  },
  {
   "cell_type": "code",
   "execution_count": 4,
   "outputs": [
    {
     "data": {
      "text/plain": "          month  position                artist                          song  \\\n0      Jan 2000         1  Rob Thomas & Santana                        Smooth   \n1      Jan 2000         2    Christina Aguilera             What A Girl Wants   \n2      Jan 2000         3         Savage Garden            I Knew I Loved You   \n3      Jan 2000         4           Celine Dion          That's The Way It Is   \n4      Jan 2000         5             Eiffel 65              Blue (Da Ba Dee)   \n...         ...       ...                   ...                           ...   \n12895  Jun 2021        46         Ariana Grande                           POV   \n12896  Jun 2021        47        Dierks Bentley                          Gone   \n12897  Jun 2021        48        Olivia Rodrigo            Jealousy, Jealousy   \n12898  Jun 2021        49        Olivia Rodrigo  1 Step Forward, 3 Steps Back   \n12899  Jun 2021        50             Pop Smoke       What You Know Bout Love   \n\n       indicativerevenue  us  uk  de  fr  ca  au  \n0               3911.953   1   -  44   -   -   5  \n1               3787.015   1  81  18   -   1   9  \n2               3693.844   1  56  68  43   1  21  \n3               3341.488   8  20   9  10   -  14  \n4               3340.978   6  28  22  10   1   1  \n...                  ...  ..  ..  ..  ..  ..  ..  \n12895            849.983  33   -   -   -   -   -  \n12896            843.855  32   -   -   -  85   -  \n12897            838.863  24   -   -   -  21  22  \n12898            837.277  19   -   -   -  17  18  \n12899            822.709  41   -   -   -   -   -  \n\n[12900 rows x 11 columns]",
      "text/html": "<div>\n<style scoped>\n    .dataframe tbody tr th:only-of-type {\n        vertical-align: middle;\n    }\n\n    .dataframe tbody tr th {\n        vertical-align: top;\n    }\n\n    .dataframe thead th {\n        text-align: right;\n    }\n</style>\n<table border=\"1\" class=\"dataframe\">\n  <thead>\n    <tr style=\"text-align: right;\">\n      <th></th>\n      <th>month</th>\n      <th>position</th>\n      <th>artist</th>\n      <th>song</th>\n      <th>indicativerevenue</th>\n      <th>us</th>\n      <th>uk</th>\n      <th>de</th>\n      <th>fr</th>\n      <th>ca</th>\n      <th>au</th>\n    </tr>\n  </thead>\n  <tbody>\n    <tr>\n      <th>0</th>\n      <td>Jan 2000</td>\n      <td>1</td>\n      <td>Rob Thomas &amp; Santana</td>\n      <td>Smooth</td>\n      <td>3911.953</td>\n      <td>1</td>\n      <td>-</td>\n      <td>44</td>\n      <td>-</td>\n      <td>-</td>\n      <td>5</td>\n    </tr>\n    <tr>\n      <th>1</th>\n      <td>Jan 2000</td>\n      <td>2</td>\n      <td>Christina Aguilera</td>\n      <td>What A Girl Wants</td>\n      <td>3787.015</td>\n      <td>1</td>\n      <td>81</td>\n      <td>18</td>\n      <td>-</td>\n      <td>1</td>\n      <td>9</td>\n    </tr>\n    <tr>\n      <th>2</th>\n      <td>Jan 2000</td>\n      <td>3</td>\n      <td>Savage Garden</td>\n      <td>I Knew I Loved You</td>\n      <td>3693.844</td>\n      <td>1</td>\n      <td>56</td>\n      <td>68</td>\n      <td>43</td>\n      <td>1</td>\n      <td>21</td>\n    </tr>\n    <tr>\n      <th>3</th>\n      <td>Jan 2000</td>\n      <td>4</td>\n      <td>Celine Dion</td>\n      <td>That's The Way It Is</td>\n      <td>3341.488</td>\n      <td>8</td>\n      <td>20</td>\n      <td>9</td>\n      <td>10</td>\n      <td>-</td>\n      <td>14</td>\n    </tr>\n    <tr>\n      <th>4</th>\n      <td>Jan 2000</td>\n      <td>5</td>\n      <td>Eiffel 65</td>\n      <td>Blue (Da Ba Dee)</td>\n      <td>3340.978</td>\n      <td>6</td>\n      <td>28</td>\n      <td>22</td>\n      <td>10</td>\n      <td>1</td>\n      <td>1</td>\n    </tr>\n    <tr>\n      <th>...</th>\n      <td>...</td>\n      <td>...</td>\n      <td>...</td>\n      <td>...</td>\n      <td>...</td>\n      <td>...</td>\n      <td>...</td>\n      <td>...</td>\n      <td>...</td>\n      <td>...</td>\n      <td>...</td>\n    </tr>\n    <tr>\n      <th>12895</th>\n      <td>Jun 2021</td>\n      <td>46</td>\n      <td>Ariana Grande</td>\n      <td>POV</td>\n      <td>849.983</td>\n      <td>33</td>\n      <td>-</td>\n      <td>-</td>\n      <td>-</td>\n      <td>-</td>\n      <td>-</td>\n    </tr>\n    <tr>\n      <th>12896</th>\n      <td>Jun 2021</td>\n      <td>47</td>\n      <td>Dierks Bentley</td>\n      <td>Gone</td>\n      <td>843.855</td>\n      <td>32</td>\n      <td>-</td>\n      <td>-</td>\n      <td>-</td>\n      <td>85</td>\n      <td>-</td>\n    </tr>\n    <tr>\n      <th>12897</th>\n      <td>Jun 2021</td>\n      <td>48</td>\n      <td>Olivia Rodrigo</td>\n      <td>Jealousy, Jealousy</td>\n      <td>838.863</td>\n      <td>24</td>\n      <td>-</td>\n      <td>-</td>\n      <td>-</td>\n      <td>21</td>\n      <td>22</td>\n    </tr>\n    <tr>\n      <th>12898</th>\n      <td>Jun 2021</td>\n      <td>49</td>\n      <td>Olivia Rodrigo</td>\n      <td>1 Step Forward, 3 Steps Back</td>\n      <td>837.277</td>\n      <td>19</td>\n      <td>-</td>\n      <td>-</td>\n      <td>-</td>\n      <td>17</td>\n      <td>18</td>\n    </tr>\n    <tr>\n      <th>12899</th>\n      <td>Jun 2021</td>\n      <td>50</td>\n      <td>Pop Smoke</td>\n      <td>What You Know Bout Love</td>\n      <td>822.709</td>\n      <td>41</td>\n      <td>-</td>\n      <td>-</td>\n      <td>-</td>\n      <td>-</td>\n      <td>-</td>\n    </tr>\n  </tbody>\n</table>\n<p>12900 rows × 11 columns</p>\n</div>"
     },
     "execution_count": 4,
     "metadata": {},
     "output_type": "execute_result"
    }
   ],
   "source": [
    "songs_chart_by_month"
   ],
   "metadata": {
    "collapsed": false,
    "pycharm": {
     "name": "#%%\n"
    }
   }
  },
  {
   "cell_type": "code",
   "execution_count": 3,
   "outputs": [
    {
     "name": "stderr",
     "output_type": "stream",
     "text": [
      "/Users/pez/.conda/envs/dataspell-2/lib/python3.9/site-packages/pandas/core/indexing.py:1684: SettingWithCopyWarning: \n",
      "A value is trying to be set on a copy of a slice from a DataFrame.\n",
      "Try using .loc[row_indexer,col_indexer] = value instead\n",
      "\n",
      "See the caveats in the documentation: https://pandas.pydata.org/pandas-docs/stable/user_guide/indexing.html#returning-a-view-versus-a-copy\n",
      "  self.obj[key] = infer_fill_value(value)\n",
      "/Users/pez/.conda/envs/dataspell-2/lib/python3.9/site-packages/pandas/core/indexing.py:1817: SettingWithCopyWarning: \n",
      "A value is trying to be set on a copy of a slice from a DataFrame.\n",
      "Try using .loc[row_indexer,col_indexer] = value instead\n",
      "\n",
      "See the caveats in the documentation: https://pandas.pydata.org/pandas-docs/stable/user_guide/indexing.html#returning-a-view-versus-a-copy\n",
      "  self._setitem_single_column(loc, value, pi)\n"
     ]
    },
    {
     "data": {
      "text/plain": "         month  position               artist  \\\n43    Jan 2000        44  The Backstreet Boys   \n56    Feb 2000         7  The Backstreet Boys   \n102   Mar 2000         3  The Backstreet Boys   \n158   Apr 2000         9  The Backstreet Boys   \n219   May 2000        20  The Backstreet Boys   \n275   Jun 2000        26  The Backstreet Boys   \n321   Jul 2000        22  The Backstreet Boys   \n504   Nov 2000         5  The Backstreet Boys   \n552   Dec 2000         3  The Backstreet Boys   \n619   Jan 2001        20  The Backstreet Boys   \n690   Feb 2001        41  The Backstreet Boys   \n731   Mar 2001        32  The Backstreet Boys   \n889   Jun 2001        40  The Backstreet Boys   \n916   Jul 2001        17  The Backstreet Boys   \n995   Aug 2001        46  The Backstreet Boys   \n1128  Nov 2001        29  The Backstreet Boys   \n1190  Dec 2001        41  The Backstreet Boys   \n1241  Jan 2002        42  The Backstreet Boys   \n3235  May 2005        36  The Backstreet Boys   \n3262  Jun 2005        13  The Backstreet Boys   \n3307  Jul 2005         8  The Backstreet Boys   \n3369  Aug 2005        20  The Backstreet Boys   \n\n                                     song  indicativerevenue  us  uk  de  fr  \\\n43    Show Me The Meaning Of Being Lonely           1457.522  16  97   -   -   \n56    Show Me The Meaning Of Being Lonely           2914.772  10   3   3   -   \n102   Show Me The Meaning Of Being Lonely           3678.622   6   3   4   -   \n158   Show Me The Meaning Of Being Lonely           2945.213   6  28  22   -   \n219   Show Me The Meaning Of Being Lonely           1919.076  19  64  66   -   \n275                               The One           1857.997  31   8  15   -   \n321                               The One           1997.071  30  15  41   -   \n504                     Shape Of My Heart           3351.040  10   4   2   -   \n552                     Shape Of My Heart           3408.347   9  20   3   -   \n619                     Shape Of My Heart           2208.448  19  49  14   -   \n690                     Shape Of My Heart           1250.329  31  82  36   -   \n731                              The Call           1516.261  52  16  23   -   \n889                        More Than That           1395.529  27   -  25   -   \n916                        More Than That           2213.888  27  12  35   -   \n995                        More Than That           1372.241  34  69  55   -   \n1128                             Drowning           1763.293  28  96  11   -   \n1190                             Drowning           1464.743  39   -  24   -   \n1241                             Drowning           1301.031  80   4  60   -   \n3235                           Incomplete           1383.423  14   -   -   -   \n3262                           Incomplete           2214.428  13   -   3   -   \n3307                           Incomplete           2559.923  14   8   6   -   \n3369                           Incomplete           1911.213  40  52  27  19   \n\n     ca  au        spotify_track_id       spotify_artist_id  \\\n43    -   -  3BsaRV5QIulYz2lV9WWa8T  5rSXSAkZ67PYJSvpUpkOr7   \n56    1  20  3BsaRV5QIulYz2lV9WWa8T  5rSXSAkZ67PYJSvpUpkOr7   \n102   1  19  3BsaRV5QIulYz2lV9WWa8T  5rSXSAkZ67PYJSvpUpkOr7   \n158   -  23  3BsaRV5QIulYz2lV9WWa8T  5rSXSAkZ67PYJSvpUpkOr7   \n219   -  41  3BsaRV5QIulYz2lV9WWa8T  5rSXSAkZ67PYJSvpUpkOr7   \n275   -   -  44kgtDJyAFv4Z01z7bIxco  5rSXSAkZ67PYJSvpUpkOr7   \n321   -  41  44kgtDJyAFv4Z01z7bIxco  5rSXSAkZ67PYJSvpUpkOr7   \n504   1   5  35o9a4iAfLl5jRmqMX9c1D  5rSXSAkZ67PYJSvpUpkOr7   \n552   1  11  35o9a4iAfLl5jRmqMX9c1D  5rSXSAkZ67PYJSvpUpkOr7   \n619   -  17  35o9a4iAfLl5jRmqMX9c1D  5rSXSAkZ67PYJSvpUpkOr7   \n690   -  31  35o9a4iAfLl5jRmqMX9c1D  5rSXSAkZ67PYJSvpUpkOr7   \n731   -  26  1mxTCArq9EhSg4QPGqhjhT  5rSXSAkZ67PYJSvpUpkOr7   \n889   -  25  4XRUKxDIn28c7uHEzbGFgj  5rSXSAkZ67PYJSvpUpkOr7   \n916   -  34  4XRUKxDIn28c7uHEzbGFgj  5rSXSAkZ67PYJSvpUpkOr7   \n995   -  38  4XRUKxDIn28c7uHEzbGFgj  5rSXSAkZ67PYJSvpUpkOr7   \n1128  -  49  0AiTIiCQ15NW8QHQwSxKuR  5rSXSAkZ67PYJSvpUpkOr7   \n1190  -  49  0AiTIiCQ15NW8QHQwSxKuR  5rSXSAkZ67PYJSvpUpkOr7   \n1241  -   -  0AiTIiCQ15NW8QHQwSxKuR  5rSXSAkZ67PYJSvpUpkOr7   \n3235  -   -  0CnD7Hiw6pae6rLsZw5q5W  5rSXSAkZ67PYJSvpUpkOr7   \n3262  -   1  0CnD7Hiw6pae6rLsZw5q5W  5rSXSAkZ67PYJSvpUpkOr7   \n3307  -   1  0CnD7Hiw6pae6rLsZw5q5W  5rSXSAkZ67PYJSvpUpkOr7   \n3369  -   4  0CnD7Hiw6pae6rLsZw5q5W  5rSXSAkZ67PYJSvpUpkOr7   \n\n            spotify_album_id  spotify_track_popularity spotify_track_explicit  \\\n43    5ySxm9hxBNss01WCL7GLyQ                      71.0                  False   \n56    5ySxm9hxBNss01WCL7GLyQ                      71.0                  False   \n102   5ySxm9hxBNss01WCL7GLyQ                      71.0                  False   \n158   5ySxm9hxBNss01WCL7GLyQ                      71.0                  False   \n219   5ySxm9hxBNss01WCL7GLyQ                      71.0                  False   \n275   5ySxm9hxBNss01WCL7GLyQ                      62.0                  False   \n321   5ySxm9hxBNss01WCL7GLyQ                      62.0                  False   \n504   41zXjyVr6dzmchWf8tv3UO                      74.0                  False   \n552   41zXjyVr6dzmchWf8tv3UO                      74.0                  False   \n619   41zXjyVr6dzmchWf8tv3UO                      74.0                  False   \n690   41zXjyVr6dzmchWf8tv3UO                      74.0                  False   \n731   41zXjyVr6dzmchWf8tv3UO                      64.0                  False   \n889   41zXjyVr6dzmchWf8tv3UO                      59.0                  False   \n916   41zXjyVr6dzmchWf8tv3UO                      59.0                  False   \n995   41zXjyVr6dzmchWf8tv3UO                      59.0                  False   \n1128  1NslKOZobWxINFaFkLol3r                      65.0                  False   \n1190  1NslKOZobWxINFaFkLol3r                      65.0                  False   \n1241  1NslKOZobWxINFaFkLol3r                      65.0                  False   \n3235  1Wz9PANLXjaOskUv575hRV                      67.0                  False   \n3262  1Wz9PANLXjaOskUv575hRV                      67.0                  False   \n3307  1Wz9PANLXjaOskUv575hRV                      67.0                  False   \n3369  1Wz9PANLXjaOskUv575hRV                      67.0                  False   \n\n      spotify_track_duration_ms spotify_track_album_release_date  \\\n43                     234960.0                       1999-05-18   \n56                     234960.0                       1999-05-18   \n102                    234960.0                       1999-05-18   \n158                    234960.0                       1999-05-18   \n219                    234960.0                       1999-05-18   \n275                    226933.0                       1999-05-18   \n321                    226933.0                       1999-05-18   \n504                    230093.0                       2000-11-21   \n552                    230093.0                       2000-11-21   \n619                    230093.0                       2000-11-21   \n690                    230093.0                       2000-11-21   \n731                    204800.0                       2000-11-21   \n889                    224933.0                       2000-11-21   \n916                    224933.0                       2000-11-21   \n995                    224933.0                       2000-11-21   \n1128                   267226.0                       2001-10-23   \n1190                   267226.0                       2001-10-23   \n1241                   267226.0                       2001-10-23   \n3235                   239586.0                       2005-06-14   \n3262                   239586.0                       2005-06-14   \n3307                   239586.0                       2005-06-14   \n3369                   239586.0                       2005-06-14   \n\n     spotify_track_album_release_date_precision  \n43                                          day  \n56                                          day  \n102                                         day  \n158                                         day  \n219                                         day  \n275                                         day  \n321                                         day  \n504                                         day  \n552                                         day  \n619                                         day  \n690                                         day  \n731                                         day  \n889                                         day  \n916                                         day  \n995                                         day  \n1128                                        day  \n1190                                        day  \n1241                                        day  \n3235                                        day  \n3262                                        day  \n3307                                        day  \n3369                                        day  ",
      "text/html": "<div>\n<style scoped>\n    .dataframe tbody tr th:only-of-type {\n        vertical-align: middle;\n    }\n\n    .dataframe tbody tr th {\n        vertical-align: top;\n    }\n\n    .dataframe thead th {\n        text-align: right;\n    }\n</style>\n<table border=\"1\" class=\"dataframe\">\n  <thead>\n    <tr style=\"text-align: right;\">\n      <th></th>\n      <th>month</th>\n      <th>position</th>\n      <th>artist</th>\n      <th>song</th>\n      <th>indicativerevenue</th>\n      <th>us</th>\n      <th>uk</th>\n      <th>de</th>\n      <th>fr</th>\n      <th>ca</th>\n      <th>au</th>\n      <th>spotify_track_id</th>\n      <th>spotify_artist_id</th>\n      <th>spotify_album_id</th>\n      <th>spotify_track_popularity</th>\n      <th>spotify_track_explicit</th>\n      <th>spotify_track_duration_ms</th>\n      <th>spotify_track_album_release_date</th>\n      <th>spotify_track_album_release_date_precision</th>\n    </tr>\n  </thead>\n  <tbody>\n    <tr>\n      <th>43</th>\n      <td>Jan 2000</td>\n      <td>44</td>\n      <td>The Backstreet Boys</td>\n      <td>Show Me The Meaning Of Being Lonely</td>\n      <td>1457.522</td>\n      <td>16</td>\n      <td>97</td>\n      <td>-</td>\n      <td>-</td>\n      <td>-</td>\n      <td>-</td>\n      <td>3BsaRV5QIulYz2lV9WWa8T</td>\n      <td>5rSXSAkZ67PYJSvpUpkOr7</td>\n      <td>5ySxm9hxBNss01WCL7GLyQ</td>\n      <td>71.0</td>\n      <td>False</td>\n      <td>234960.0</td>\n      <td>1999-05-18</td>\n      <td>day</td>\n    </tr>\n    <tr>\n      <th>56</th>\n      <td>Feb 2000</td>\n      <td>7</td>\n      <td>The Backstreet Boys</td>\n      <td>Show Me The Meaning Of Being Lonely</td>\n      <td>2914.772</td>\n      <td>10</td>\n      <td>3</td>\n      <td>3</td>\n      <td>-</td>\n      <td>1</td>\n      <td>20</td>\n      <td>3BsaRV5QIulYz2lV9WWa8T</td>\n      <td>5rSXSAkZ67PYJSvpUpkOr7</td>\n      <td>5ySxm9hxBNss01WCL7GLyQ</td>\n      <td>71.0</td>\n      <td>False</td>\n      <td>234960.0</td>\n      <td>1999-05-18</td>\n      <td>day</td>\n    </tr>\n    <tr>\n      <th>102</th>\n      <td>Mar 2000</td>\n      <td>3</td>\n      <td>The Backstreet Boys</td>\n      <td>Show Me The Meaning Of Being Lonely</td>\n      <td>3678.622</td>\n      <td>6</td>\n      <td>3</td>\n      <td>4</td>\n      <td>-</td>\n      <td>1</td>\n      <td>19</td>\n      <td>3BsaRV5QIulYz2lV9WWa8T</td>\n      <td>5rSXSAkZ67PYJSvpUpkOr7</td>\n      <td>5ySxm9hxBNss01WCL7GLyQ</td>\n      <td>71.0</td>\n      <td>False</td>\n      <td>234960.0</td>\n      <td>1999-05-18</td>\n      <td>day</td>\n    </tr>\n    <tr>\n      <th>158</th>\n      <td>Apr 2000</td>\n      <td>9</td>\n      <td>The Backstreet Boys</td>\n      <td>Show Me The Meaning Of Being Lonely</td>\n      <td>2945.213</td>\n      <td>6</td>\n      <td>28</td>\n      <td>22</td>\n      <td>-</td>\n      <td>-</td>\n      <td>23</td>\n      <td>3BsaRV5QIulYz2lV9WWa8T</td>\n      <td>5rSXSAkZ67PYJSvpUpkOr7</td>\n      <td>5ySxm9hxBNss01WCL7GLyQ</td>\n      <td>71.0</td>\n      <td>False</td>\n      <td>234960.0</td>\n      <td>1999-05-18</td>\n      <td>day</td>\n    </tr>\n    <tr>\n      <th>219</th>\n      <td>May 2000</td>\n      <td>20</td>\n      <td>The Backstreet Boys</td>\n      <td>Show Me The Meaning Of Being Lonely</td>\n      <td>1919.076</td>\n      <td>19</td>\n      <td>64</td>\n      <td>66</td>\n      <td>-</td>\n      <td>-</td>\n      <td>41</td>\n      <td>3BsaRV5QIulYz2lV9WWa8T</td>\n      <td>5rSXSAkZ67PYJSvpUpkOr7</td>\n      <td>5ySxm9hxBNss01WCL7GLyQ</td>\n      <td>71.0</td>\n      <td>False</td>\n      <td>234960.0</td>\n      <td>1999-05-18</td>\n      <td>day</td>\n    </tr>\n    <tr>\n      <th>275</th>\n      <td>Jun 2000</td>\n      <td>26</td>\n      <td>The Backstreet Boys</td>\n      <td>The One</td>\n      <td>1857.997</td>\n      <td>31</td>\n      <td>8</td>\n      <td>15</td>\n      <td>-</td>\n      <td>-</td>\n      <td>-</td>\n      <td>44kgtDJyAFv4Z01z7bIxco</td>\n      <td>5rSXSAkZ67PYJSvpUpkOr7</td>\n      <td>5ySxm9hxBNss01WCL7GLyQ</td>\n      <td>62.0</td>\n      <td>False</td>\n      <td>226933.0</td>\n      <td>1999-05-18</td>\n      <td>day</td>\n    </tr>\n    <tr>\n      <th>321</th>\n      <td>Jul 2000</td>\n      <td>22</td>\n      <td>The Backstreet Boys</td>\n      <td>The One</td>\n      <td>1997.071</td>\n      <td>30</td>\n      <td>15</td>\n      <td>41</td>\n      <td>-</td>\n      <td>-</td>\n      <td>41</td>\n      <td>44kgtDJyAFv4Z01z7bIxco</td>\n      <td>5rSXSAkZ67PYJSvpUpkOr7</td>\n      <td>5ySxm9hxBNss01WCL7GLyQ</td>\n      <td>62.0</td>\n      <td>False</td>\n      <td>226933.0</td>\n      <td>1999-05-18</td>\n      <td>day</td>\n    </tr>\n    <tr>\n      <th>504</th>\n      <td>Nov 2000</td>\n      <td>5</td>\n      <td>The Backstreet Boys</td>\n      <td>Shape Of My Heart</td>\n      <td>3351.040</td>\n      <td>10</td>\n      <td>4</td>\n      <td>2</td>\n      <td>-</td>\n      <td>1</td>\n      <td>5</td>\n      <td>35o9a4iAfLl5jRmqMX9c1D</td>\n      <td>5rSXSAkZ67PYJSvpUpkOr7</td>\n      <td>41zXjyVr6dzmchWf8tv3UO</td>\n      <td>74.0</td>\n      <td>False</td>\n      <td>230093.0</td>\n      <td>2000-11-21</td>\n      <td>day</td>\n    </tr>\n    <tr>\n      <th>552</th>\n      <td>Dec 2000</td>\n      <td>3</td>\n      <td>The Backstreet Boys</td>\n      <td>Shape Of My Heart</td>\n      <td>3408.347</td>\n      <td>9</td>\n      <td>20</td>\n      <td>3</td>\n      <td>-</td>\n      <td>1</td>\n      <td>11</td>\n      <td>35o9a4iAfLl5jRmqMX9c1D</td>\n      <td>5rSXSAkZ67PYJSvpUpkOr7</td>\n      <td>41zXjyVr6dzmchWf8tv3UO</td>\n      <td>74.0</td>\n      <td>False</td>\n      <td>230093.0</td>\n      <td>2000-11-21</td>\n      <td>day</td>\n    </tr>\n    <tr>\n      <th>619</th>\n      <td>Jan 2001</td>\n      <td>20</td>\n      <td>The Backstreet Boys</td>\n      <td>Shape Of My Heart</td>\n      <td>2208.448</td>\n      <td>19</td>\n      <td>49</td>\n      <td>14</td>\n      <td>-</td>\n      <td>-</td>\n      <td>17</td>\n      <td>35o9a4iAfLl5jRmqMX9c1D</td>\n      <td>5rSXSAkZ67PYJSvpUpkOr7</td>\n      <td>41zXjyVr6dzmchWf8tv3UO</td>\n      <td>74.0</td>\n      <td>False</td>\n      <td>230093.0</td>\n      <td>2000-11-21</td>\n      <td>day</td>\n    </tr>\n    <tr>\n      <th>690</th>\n      <td>Feb 2001</td>\n      <td>41</td>\n      <td>The Backstreet Boys</td>\n      <td>Shape Of My Heart</td>\n      <td>1250.329</td>\n      <td>31</td>\n      <td>82</td>\n      <td>36</td>\n      <td>-</td>\n      <td>-</td>\n      <td>31</td>\n      <td>35o9a4iAfLl5jRmqMX9c1D</td>\n      <td>5rSXSAkZ67PYJSvpUpkOr7</td>\n      <td>41zXjyVr6dzmchWf8tv3UO</td>\n      <td>74.0</td>\n      <td>False</td>\n      <td>230093.0</td>\n      <td>2000-11-21</td>\n      <td>day</td>\n    </tr>\n    <tr>\n      <th>731</th>\n      <td>Mar 2001</td>\n      <td>32</td>\n      <td>The Backstreet Boys</td>\n      <td>The Call</td>\n      <td>1516.261</td>\n      <td>52</td>\n      <td>16</td>\n      <td>23</td>\n      <td>-</td>\n      <td>-</td>\n      <td>26</td>\n      <td>1mxTCArq9EhSg4QPGqhjhT</td>\n      <td>5rSXSAkZ67PYJSvpUpkOr7</td>\n      <td>41zXjyVr6dzmchWf8tv3UO</td>\n      <td>64.0</td>\n      <td>False</td>\n      <td>204800.0</td>\n      <td>2000-11-21</td>\n      <td>day</td>\n    </tr>\n    <tr>\n      <th>889</th>\n      <td>Jun 2001</td>\n      <td>40</td>\n      <td>The Backstreet Boys</td>\n      <td>More Than That</td>\n      <td>1395.529</td>\n      <td>27</td>\n      <td>-</td>\n      <td>25</td>\n      <td>-</td>\n      <td>-</td>\n      <td>25</td>\n      <td>4XRUKxDIn28c7uHEzbGFgj</td>\n      <td>5rSXSAkZ67PYJSvpUpkOr7</td>\n      <td>41zXjyVr6dzmchWf8tv3UO</td>\n      <td>59.0</td>\n      <td>False</td>\n      <td>224933.0</td>\n      <td>2000-11-21</td>\n      <td>day</td>\n    </tr>\n    <tr>\n      <th>916</th>\n      <td>Jul 2001</td>\n      <td>17</td>\n      <td>The Backstreet Boys</td>\n      <td>More Than That</td>\n      <td>2213.888</td>\n      <td>27</td>\n      <td>12</td>\n      <td>35</td>\n      <td>-</td>\n      <td>-</td>\n      <td>34</td>\n      <td>4XRUKxDIn28c7uHEzbGFgj</td>\n      <td>5rSXSAkZ67PYJSvpUpkOr7</td>\n      <td>41zXjyVr6dzmchWf8tv3UO</td>\n      <td>59.0</td>\n      <td>False</td>\n      <td>224933.0</td>\n      <td>2000-11-21</td>\n      <td>day</td>\n    </tr>\n    <tr>\n      <th>995</th>\n      <td>Aug 2001</td>\n      <td>46</td>\n      <td>The Backstreet Boys</td>\n      <td>More Than That</td>\n      <td>1372.241</td>\n      <td>34</td>\n      <td>69</td>\n      <td>55</td>\n      <td>-</td>\n      <td>-</td>\n      <td>38</td>\n      <td>4XRUKxDIn28c7uHEzbGFgj</td>\n      <td>5rSXSAkZ67PYJSvpUpkOr7</td>\n      <td>41zXjyVr6dzmchWf8tv3UO</td>\n      <td>59.0</td>\n      <td>False</td>\n      <td>224933.0</td>\n      <td>2000-11-21</td>\n      <td>day</td>\n    </tr>\n    <tr>\n      <th>1128</th>\n      <td>Nov 2001</td>\n      <td>29</td>\n      <td>The Backstreet Boys</td>\n      <td>Drowning</td>\n      <td>1763.293</td>\n      <td>28</td>\n      <td>96</td>\n      <td>11</td>\n      <td>-</td>\n      <td>-</td>\n      <td>49</td>\n      <td>0AiTIiCQ15NW8QHQwSxKuR</td>\n      <td>5rSXSAkZ67PYJSvpUpkOr7</td>\n      <td>1NslKOZobWxINFaFkLol3r</td>\n      <td>65.0</td>\n      <td>False</td>\n      <td>267226.0</td>\n      <td>2001-10-23</td>\n      <td>day</td>\n    </tr>\n    <tr>\n      <th>1190</th>\n      <td>Dec 2001</td>\n      <td>41</td>\n      <td>The Backstreet Boys</td>\n      <td>Drowning</td>\n      <td>1464.743</td>\n      <td>39</td>\n      <td>-</td>\n      <td>24</td>\n      <td>-</td>\n      <td>-</td>\n      <td>49</td>\n      <td>0AiTIiCQ15NW8QHQwSxKuR</td>\n      <td>5rSXSAkZ67PYJSvpUpkOr7</td>\n      <td>1NslKOZobWxINFaFkLol3r</td>\n      <td>65.0</td>\n      <td>False</td>\n      <td>267226.0</td>\n      <td>2001-10-23</td>\n      <td>day</td>\n    </tr>\n    <tr>\n      <th>1241</th>\n      <td>Jan 2002</td>\n      <td>42</td>\n      <td>The Backstreet Boys</td>\n      <td>Drowning</td>\n      <td>1301.031</td>\n      <td>80</td>\n      <td>4</td>\n      <td>60</td>\n      <td>-</td>\n      <td>-</td>\n      <td>-</td>\n      <td>0AiTIiCQ15NW8QHQwSxKuR</td>\n      <td>5rSXSAkZ67PYJSvpUpkOr7</td>\n      <td>1NslKOZobWxINFaFkLol3r</td>\n      <td>65.0</td>\n      <td>False</td>\n      <td>267226.0</td>\n      <td>2001-10-23</td>\n      <td>day</td>\n    </tr>\n    <tr>\n      <th>3235</th>\n      <td>May 2005</td>\n      <td>36</td>\n      <td>The Backstreet Boys</td>\n      <td>Incomplete</td>\n      <td>1383.423</td>\n      <td>14</td>\n      <td>-</td>\n      <td>-</td>\n      <td>-</td>\n      <td>-</td>\n      <td>-</td>\n      <td>0CnD7Hiw6pae6rLsZw5q5W</td>\n      <td>5rSXSAkZ67PYJSvpUpkOr7</td>\n      <td>1Wz9PANLXjaOskUv575hRV</td>\n      <td>67.0</td>\n      <td>False</td>\n      <td>239586.0</td>\n      <td>2005-06-14</td>\n      <td>day</td>\n    </tr>\n    <tr>\n      <th>3262</th>\n      <td>Jun 2005</td>\n      <td>13</td>\n      <td>The Backstreet Boys</td>\n      <td>Incomplete</td>\n      <td>2214.428</td>\n      <td>13</td>\n      <td>-</td>\n      <td>3</td>\n      <td>-</td>\n      <td>-</td>\n      <td>1</td>\n      <td>0CnD7Hiw6pae6rLsZw5q5W</td>\n      <td>5rSXSAkZ67PYJSvpUpkOr7</td>\n      <td>1Wz9PANLXjaOskUv575hRV</td>\n      <td>67.0</td>\n      <td>False</td>\n      <td>239586.0</td>\n      <td>2005-06-14</td>\n      <td>day</td>\n    </tr>\n    <tr>\n      <th>3307</th>\n      <td>Jul 2005</td>\n      <td>8</td>\n      <td>The Backstreet Boys</td>\n      <td>Incomplete</td>\n      <td>2559.923</td>\n      <td>14</td>\n      <td>8</td>\n      <td>6</td>\n      <td>-</td>\n      <td>-</td>\n      <td>1</td>\n      <td>0CnD7Hiw6pae6rLsZw5q5W</td>\n      <td>5rSXSAkZ67PYJSvpUpkOr7</td>\n      <td>1Wz9PANLXjaOskUv575hRV</td>\n      <td>67.0</td>\n      <td>False</td>\n      <td>239586.0</td>\n      <td>2005-06-14</td>\n      <td>day</td>\n    </tr>\n    <tr>\n      <th>3369</th>\n      <td>Aug 2005</td>\n      <td>20</td>\n      <td>The Backstreet Boys</td>\n      <td>Incomplete</td>\n      <td>1911.213</td>\n      <td>40</td>\n      <td>52</td>\n      <td>27</td>\n      <td>19</td>\n      <td>-</td>\n      <td>4</td>\n      <td>0CnD7Hiw6pae6rLsZw5q5W</td>\n      <td>5rSXSAkZ67PYJSvpUpkOr7</td>\n      <td>1Wz9PANLXjaOskUv575hRV</td>\n      <td>67.0</td>\n      <td>False</td>\n      <td>239586.0</td>\n      <td>2005-06-14</td>\n      <td>day</td>\n    </tr>\n  </tbody>\n</table>\n</div>"
     },
     "execution_count": 3,
     "metadata": {},
     "output_type": "execute_result"
    }
   ],
   "source": [
    "songs_chart_by_month = fetch_song_chart_by_month()\n",
    "bsb_songs_chart = songs_chart_by_month[songs_chart_by_month[\"artist\"].str.contains(\"Backstreet Boys\")]\n",
    "bsb_songs_chart = with_spotify_track_metadata(bsb_songs_chart)\n",
    "bsb_songs_chart"
   ],
   "metadata": {
    "collapsed": false,
    "pycharm": {
     "name": "#%%\n"
    }
   }
  },
  {
   "cell_type": "code",
   "execution_count": 5,
   "outputs": [
    {
     "name": "stdout",
     "output_type": "stream",
     "text": [
      "fetching track metadata: 0 (0.00)\n"
     ]
    },
    {
     "data": {
      "text/plain": "                        id                                 name  \\\n0   3BsaRV5QIulYz2lV9WWa8T  Show Me the Meaning of Being Lonely   \n1   3BsaRV5QIulYz2lV9WWa8T  Show Me the Meaning of Being Lonely   \n2   3BsaRV5QIulYz2lV9WWa8T  Show Me the Meaning of Being Lonely   \n3   3BsaRV5QIulYz2lV9WWa8T  Show Me the Meaning of Being Lonely   \n4   3BsaRV5QIulYz2lV9WWa8T  Show Me the Meaning of Being Lonely   \n5   44kgtDJyAFv4Z01z7bIxco                              The One   \n6   44kgtDJyAFv4Z01z7bIxco                              The One   \n7   35o9a4iAfLl5jRmqMX9c1D                    Shape of My Heart   \n8   35o9a4iAfLl5jRmqMX9c1D                    Shape of My Heart   \n9   35o9a4iAfLl5jRmqMX9c1D                    Shape of My Heart   \n10  35o9a4iAfLl5jRmqMX9c1D                    Shape of My Heart   \n11  1mxTCArq9EhSg4QPGqhjhT                             The Call   \n12  4XRUKxDIn28c7uHEzbGFgj                       More Than That   \n13  4XRUKxDIn28c7uHEzbGFgj                       More Than That   \n14  4XRUKxDIn28c7uHEzbGFgj                       More Than That   \n15  0AiTIiCQ15NW8QHQwSxKuR                             Drowning   \n16  0AiTIiCQ15NW8QHQwSxKuR                             Drowning   \n17  0AiTIiCQ15NW8QHQwSxKuR                             Drowning   \n18  0CnD7Hiw6pae6rLsZw5q5W                           Incomplete   \n19  0CnD7Hiw6pae6rLsZw5q5W                           Incomplete   \n20  0CnD7Hiw6pae6rLsZw5q5W                           Incomplete   \n21  0CnD7Hiw6pae6rLsZw5q5W                           Incomplete   \n\n                    album                album_id              artists  \\\n0              Millennium  5ySxm9hxBNss01WCL7GLyQ  [\"Backstreet Boys\"]   \n1              Millennium  5ySxm9hxBNss01WCL7GLyQ  [\"Backstreet Boys\"]   \n2              Millennium  5ySxm9hxBNss01WCL7GLyQ  [\"Backstreet Boys\"]   \n3              Millennium  5ySxm9hxBNss01WCL7GLyQ  [\"Backstreet Boys\"]   \n4              Millennium  5ySxm9hxBNss01WCL7GLyQ  [\"Backstreet Boys\"]   \n5              Millennium  5ySxm9hxBNss01WCL7GLyQ  [\"Backstreet Boys\"]   \n6              Millennium  5ySxm9hxBNss01WCL7GLyQ  [\"Backstreet Boys\"]   \n7            Black & Blue  41zXjyVr6dzmchWf8tv3UO  [\"Backstreet Boys\"]   \n8            Black & Blue  41zXjyVr6dzmchWf8tv3UO  [\"Backstreet Boys\"]   \n9            Black & Blue  41zXjyVr6dzmchWf8tv3UO  [\"Backstreet Boys\"]   \n10           Black & Blue  41zXjyVr6dzmchWf8tv3UO  [\"Backstreet Boys\"]   \n11           Black & Blue  41zXjyVr6dzmchWf8tv3UO  [\"Backstreet Boys\"]   \n12           Black & Blue  41zXjyVr6dzmchWf8tv3UO  [\"Backstreet Boys\"]   \n13           Black & Blue  41zXjyVr6dzmchWf8tv3UO  [\"Backstreet Boys\"]   \n14           Black & Blue  41zXjyVr6dzmchWf8tv3UO  [\"Backstreet Boys\"]   \n15  The Hits--Chapter One  1NslKOZobWxINFaFkLol3r  [\"Backstreet Boys\"]   \n16  The Hits--Chapter One  1NslKOZobWxINFaFkLol3r  [\"Backstreet Boys\"]   \n17  The Hits--Chapter One  1NslKOZobWxINFaFkLol3r  [\"Backstreet Boys\"]   \n18             Never Gone  1Wz9PANLXjaOskUv575hRV  [\"Backstreet Boys\"]   \n19             Never Gone  1Wz9PANLXjaOskUv575hRV  [\"Backstreet Boys\"]   \n20             Never Gone  1Wz9PANLXjaOskUv575hRV  [\"Backstreet Boys\"]   \n21             Never Gone  1Wz9PANLXjaOskUv575hRV  [\"Backstreet Boys\"]   \n\n                    artist_ids  track_number  disc_number  explicit  \\\n0   [\"5rSXSAkZ67PYJSvpUpkOr7\"]             3            1     False   \n1   [\"5rSXSAkZ67PYJSvpUpkOr7\"]             3            1     False   \n2   [\"5rSXSAkZ67PYJSvpUpkOr7\"]             3            1     False   \n3   [\"5rSXSAkZ67PYJSvpUpkOr7\"]             3            1     False   \n4   [\"5rSXSAkZ67PYJSvpUpkOr7\"]             3            1     False   \n5   [\"5rSXSAkZ67PYJSvpUpkOr7\"]             8            1     False   \n6   [\"5rSXSAkZ67PYJSvpUpkOr7\"]             8            1     False   \n7   [\"5rSXSAkZ67PYJSvpUpkOr7\"]             2            1     False   \n8   [\"5rSXSAkZ67PYJSvpUpkOr7\"]             2            1     False   \n9   [\"5rSXSAkZ67PYJSvpUpkOr7\"]             2            1     False   \n10  [\"5rSXSAkZ67PYJSvpUpkOr7\"]             2            1     False   \n11  [\"5rSXSAkZ67PYJSvpUpkOr7\"]             1            1     False   \n12  [\"5rSXSAkZ67PYJSvpUpkOr7\"]             8            1     False   \n13  [\"5rSXSAkZ67PYJSvpUpkOr7\"]             8            1     False   \n14  [\"5rSXSAkZ67PYJSvpUpkOr7\"]             8            1     False   \n15  [\"5rSXSAkZ67PYJSvpUpkOr7\"]            13            1     False   \n16  [\"5rSXSAkZ67PYJSvpUpkOr7\"]            13            1     False   \n17  [\"5rSXSAkZ67PYJSvpUpkOr7\"]            13            1     False   \n18  [\"5rSXSAkZ67PYJSvpUpkOr7\"]             1            1     False   \n19  [\"5rSXSAkZ67PYJSvpUpkOr7\"]             1            1     False   \n20  [\"5rSXSAkZ67PYJSvpUpkOr7\"]             1            1     False   \n21  [\"5rSXSAkZ67PYJSvpUpkOr7\"]             1            1     False   \n\n    duration_ms  ...  key loudness  mode  speechiness acousticness  \\\n0        234960  ...    6   -5.088     0       0.0252       0.2310   \n1        234960  ...    6   -5.088     0       0.0252       0.2310   \n2        234960  ...    6   -5.088     0       0.0252       0.2310   \n3        234960  ...    6   -5.088     0       0.0252       0.2310   \n4        234960  ...    6   -5.088     0       0.0252       0.2310   \n5        226933  ...    5   -4.227     0       0.0348       0.0646   \n6        226933  ...    5   -4.227     0       0.0348       0.0646   \n7        230093  ...    9   -4.353     1       0.0296       0.2520   \n8        230093  ...    9   -4.353     1       0.0296       0.2520   \n9        230093  ...    9   -4.353     1       0.0296       0.2520   \n10       230093  ...    9   -4.353     1       0.0296       0.2520   \n11       204800  ...   10   -3.318     0       0.0772       0.1170   \n12       224933  ...    4   -6.705     0       0.0287       0.0102   \n13       224933  ...    4   -6.705     0       0.0287       0.0102   \n14       224933  ...    4   -6.705     0       0.0287       0.0102   \n15       267226  ...    6   -5.968     1       0.0396       0.0799   \n16       267226  ...    6   -5.968     1       0.0396       0.0799   \n17       267226  ...    6   -5.968     1       0.0396       0.0799   \n18       239586  ...    4   -4.834     1       0.0331       0.2310   \n19       239586  ...    4   -4.834     1       0.0331       0.2310   \n20       239586  ...    4   -4.834     1       0.0331       0.2310   \n21       239586  ...    4   -4.834     1       0.0331       0.2310   \n\n    instrumentalness  liveness  valence    tempo  time_signature  \n0                  0    0.0765    0.683  167.998               4  \n1                  0    0.0765    0.683  167.998               4  \n2                  0    0.0765    0.683  167.998               4  \n3                  0    0.0765    0.683  167.998               4  \n4                  0    0.0765    0.683  167.998               4  \n5                  0    0.1640    0.621  110.031               4  \n6                  0    0.1640    0.621  110.031               4  \n7                  0    0.1590    0.518   96.102               4  \n8                  0    0.1590    0.518   96.102               4  \n9                  0    0.1590    0.518   96.102               4  \n10                 0    0.1590    0.518   96.102               4  \n11                 0    0.3310    0.747  104.196               4  \n12                 0    0.0805    0.483   80.061               4  \n13                 0    0.0805    0.483   80.061               4  \n14                 0    0.0805    0.483   80.061               4  \n15                 0    0.0985    0.481  141.942               4  \n16                 0    0.0985    0.481  141.942               4  \n17                 0    0.0985    0.481  141.942               4  \n18                 0    0.0768    0.165  133.631               4  \n19                 0    0.0768    0.165  133.631               4  \n20                 0    0.0768    0.165  133.631               4  \n21                 0    0.0768    0.165  133.631               4  \n\n[22 rows x 27 columns]",
      "text/html": "<div>\n<style scoped>\n    .dataframe tbody tr th:only-of-type {\n        vertical-align: middle;\n    }\n\n    .dataframe tbody tr th {\n        vertical-align: top;\n    }\n\n    .dataframe thead th {\n        text-align: right;\n    }\n</style>\n<table border=\"1\" class=\"dataframe\">\n  <thead>\n    <tr style=\"text-align: right;\">\n      <th></th>\n      <th>id</th>\n      <th>name</th>\n      <th>album</th>\n      <th>album_id</th>\n      <th>artists</th>\n      <th>artist_ids</th>\n      <th>track_number</th>\n      <th>disc_number</th>\n      <th>explicit</th>\n      <th>duration_ms</th>\n      <th>...</th>\n      <th>key</th>\n      <th>loudness</th>\n      <th>mode</th>\n      <th>speechiness</th>\n      <th>acousticness</th>\n      <th>instrumentalness</th>\n      <th>liveness</th>\n      <th>valence</th>\n      <th>tempo</th>\n      <th>time_signature</th>\n    </tr>\n  </thead>\n  <tbody>\n    <tr>\n      <th>0</th>\n      <td>3BsaRV5QIulYz2lV9WWa8T</td>\n      <td>Show Me the Meaning of Being Lonely</td>\n      <td>Millennium</td>\n      <td>5ySxm9hxBNss01WCL7GLyQ</td>\n      <td>[\"Backstreet Boys\"]</td>\n      <td>[\"5rSXSAkZ67PYJSvpUpkOr7\"]</td>\n      <td>3</td>\n      <td>1</td>\n      <td>False</td>\n      <td>234960</td>\n      <td>...</td>\n      <td>6</td>\n      <td>-5.088</td>\n      <td>0</td>\n      <td>0.0252</td>\n      <td>0.2310</td>\n      <td>0</td>\n      <td>0.0765</td>\n      <td>0.683</td>\n      <td>167.998</td>\n      <td>4</td>\n    </tr>\n    <tr>\n      <th>1</th>\n      <td>3BsaRV5QIulYz2lV9WWa8T</td>\n      <td>Show Me the Meaning of Being Lonely</td>\n      <td>Millennium</td>\n      <td>5ySxm9hxBNss01WCL7GLyQ</td>\n      <td>[\"Backstreet Boys\"]</td>\n      <td>[\"5rSXSAkZ67PYJSvpUpkOr7\"]</td>\n      <td>3</td>\n      <td>1</td>\n      <td>False</td>\n      <td>234960</td>\n      <td>...</td>\n      <td>6</td>\n      <td>-5.088</td>\n      <td>0</td>\n      <td>0.0252</td>\n      <td>0.2310</td>\n      <td>0</td>\n      <td>0.0765</td>\n      <td>0.683</td>\n      <td>167.998</td>\n      <td>4</td>\n    </tr>\n    <tr>\n      <th>2</th>\n      <td>3BsaRV5QIulYz2lV9WWa8T</td>\n      <td>Show Me the Meaning of Being Lonely</td>\n      <td>Millennium</td>\n      <td>5ySxm9hxBNss01WCL7GLyQ</td>\n      <td>[\"Backstreet Boys\"]</td>\n      <td>[\"5rSXSAkZ67PYJSvpUpkOr7\"]</td>\n      <td>3</td>\n      <td>1</td>\n      <td>False</td>\n      <td>234960</td>\n      <td>...</td>\n      <td>6</td>\n      <td>-5.088</td>\n      <td>0</td>\n      <td>0.0252</td>\n      <td>0.2310</td>\n      <td>0</td>\n      <td>0.0765</td>\n      <td>0.683</td>\n      <td>167.998</td>\n      <td>4</td>\n    </tr>\n    <tr>\n      <th>3</th>\n      <td>3BsaRV5QIulYz2lV9WWa8T</td>\n      <td>Show Me the Meaning of Being Lonely</td>\n      <td>Millennium</td>\n      <td>5ySxm9hxBNss01WCL7GLyQ</td>\n      <td>[\"Backstreet Boys\"]</td>\n      <td>[\"5rSXSAkZ67PYJSvpUpkOr7\"]</td>\n      <td>3</td>\n      <td>1</td>\n      <td>False</td>\n      <td>234960</td>\n      <td>...</td>\n      <td>6</td>\n      <td>-5.088</td>\n      <td>0</td>\n      <td>0.0252</td>\n      <td>0.2310</td>\n      <td>0</td>\n      <td>0.0765</td>\n      <td>0.683</td>\n      <td>167.998</td>\n      <td>4</td>\n    </tr>\n    <tr>\n      <th>4</th>\n      <td>3BsaRV5QIulYz2lV9WWa8T</td>\n      <td>Show Me the Meaning of Being Lonely</td>\n      <td>Millennium</td>\n      <td>5ySxm9hxBNss01WCL7GLyQ</td>\n      <td>[\"Backstreet Boys\"]</td>\n      <td>[\"5rSXSAkZ67PYJSvpUpkOr7\"]</td>\n      <td>3</td>\n      <td>1</td>\n      <td>False</td>\n      <td>234960</td>\n      <td>...</td>\n      <td>6</td>\n      <td>-5.088</td>\n      <td>0</td>\n      <td>0.0252</td>\n      <td>0.2310</td>\n      <td>0</td>\n      <td>0.0765</td>\n      <td>0.683</td>\n      <td>167.998</td>\n      <td>4</td>\n    </tr>\n    <tr>\n      <th>5</th>\n      <td>44kgtDJyAFv4Z01z7bIxco</td>\n      <td>The One</td>\n      <td>Millennium</td>\n      <td>5ySxm9hxBNss01WCL7GLyQ</td>\n      <td>[\"Backstreet Boys\"]</td>\n      <td>[\"5rSXSAkZ67PYJSvpUpkOr7\"]</td>\n      <td>8</td>\n      <td>1</td>\n      <td>False</td>\n      <td>226933</td>\n      <td>...</td>\n      <td>5</td>\n      <td>-4.227</td>\n      <td>0</td>\n      <td>0.0348</td>\n      <td>0.0646</td>\n      <td>0</td>\n      <td>0.1640</td>\n      <td>0.621</td>\n      <td>110.031</td>\n      <td>4</td>\n    </tr>\n    <tr>\n      <th>6</th>\n      <td>44kgtDJyAFv4Z01z7bIxco</td>\n      <td>The One</td>\n      <td>Millennium</td>\n      <td>5ySxm9hxBNss01WCL7GLyQ</td>\n      <td>[\"Backstreet Boys\"]</td>\n      <td>[\"5rSXSAkZ67PYJSvpUpkOr7\"]</td>\n      <td>8</td>\n      <td>1</td>\n      <td>False</td>\n      <td>226933</td>\n      <td>...</td>\n      <td>5</td>\n      <td>-4.227</td>\n      <td>0</td>\n      <td>0.0348</td>\n      <td>0.0646</td>\n      <td>0</td>\n      <td>0.1640</td>\n      <td>0.621</td>\n      <td>110.031</td>\n      <td>4</td>\n    </tr>\n    <tr>\n      <th>7</th>\n      <td>35o9a4iAfLl5jRmqMX9c1D</td>\n      <td>Shape of My Heart</td>\n      <td>Black &amp; Blue</td>\n      <td>41zXjyVr6dzmchWf8tv3UO</td>\n      <td>[\"Backstreet Boys\"]</td>\n      <td>[\"5rSXSAkZ67PYJSvpUpkOr7\"]</td>\n      <td>2</td>\n      <td>1</td>\n      <td>False</td>\n      <td>230093</td>\n      <td>...</td>\n      <td>9</td>\n      <td>-4.353</td>\n      <td>1</td>\n      <td>0.0296</td>\n      <td>0.2520</td>\n      <td>0</td>\n      <td>0.1590</td>\n      <td>0.518</td>\n      <td>96.102</td>\n      <td>4</td>\n    </tr>\n    <tr>\n      <th>8</th>\n      <td>35o9a4iAfLl5jRmqMX9c1D</td>\n      <td>Shape of My Heart</td>\n      <td>Black &amp; Blue</td>\n      <td>41zXjyVr6dzmchWf8tv3UO</td>\n      <td>[\"Backstreet Boys\"]</td>\n      <td>[\"5rSXSAkZ67PYJSvpUpkOr7\"]</td>\n      <td>2</td>\n      <td>1</td>\n      <td>False</td>\n      <td>230093</td>\n      <td>...</td>\n      <td>9</td>\n      <td>-4.353</td>\n      <td>1</td>\n      <td>0.0296</td>\n      <td>0.2520</td>\n      <td>0</td>\n      <td>0.1590</td>\n      <td>0.518</td>\n      <td>96.102</td>\n      <td>4</td>\n    </tr>\n    <tr>\n      <th>9</th>\n      <td>35o9a4iAfLl5jRmqMX9c1D</td>\n      <td>Shape of My Heart</td>\n      <td>Black &amp; Blue</td>\n      <td>41zXjyVr6dzmchWf8tv3UO</td>\n      <td>[\"Backstreet Boys\"]</td>\n      <td>[\"5rSXSAkZ67PYJSvpUpkOr7\"]</td>\n      <td>2</td>\n      <td>1</td>\n      <td>False</td>\n      <td>230093</td>\n      <td>...</td>\n      <td>9</td>\n      <td>-4.353</td>\n      <td>1</td>\n      <td>0.0296</td>\n      <td>0.2520</td>\n      <td>0</td>\n      <td>0.1590</td>\n      <td>0.518</td>\n      <td>96.102</td>\n      <td>4</td>\n    </tr>\n    <tr>\n      <th>10</th>\n      <td>35o9a4iAfLl5jRmqMX9c1D</td>\n      <td>Shape of My Heart</td>\n      <td>Black &amp; Blue</td>\n      <td>41zXjyVr6dzmchWf8tv3UO</td>\n      <td>[\"Backstreet Boys\"]</td>\n      <td>[\"5rSXSAkZ67PYJSvpUpkOr7\"]</td>\n      <td>2</td>\n      <td>1</td>\n      <td>False</td>\n      <td>230093</td>\n      <td>...</td>\n      <td>9</td>\n      <td>-4.353</td>\n      <td>1</td>\n      <td>0.0296</td>\n      <td>0.2520</td>\n      <td>0</td>\n      <td>0.1590</td>\n      <td>0.518</td>\n      <td>96.102</td>\n      <td>4</td>\n    </tr>\n    <tr>\n      <th>11</th>\n      <td>1mxTCArq9EhSg4QPGqhjhT</td>\n      <td>The Call</td>\n      <td>Black &amp; Blue</td>\n      <td>41zXjyVr6dzmchWf8tv3UO</td>\n      <td>[\"Backstreet Boys\"]</td>\n      <td>[\"5rSXSAkZ67PYJSvpUpkOr7\"]</td>\n      <td>1</td>\n      <td>1</td>\n      <td>False</td>\n      <td>204800</td>\n      <td>...</td>\n      <td>10</td>\n      <td>-3.318</td>\n      <td>0</td>\n      <td>0.0772</td>\n      <td>0.1170</td>\n      <td>0</td>\n      <td>0.3310</td>\n      <td>0.747</td>\n      <td>104.196</td>\n      <td>4</td>\n    </tr>\n    <tr>\n      <th>12</th>\n      <td>4XRUKxDIn28c7uHEzbGFgj</td>\n      <td>More Than That</td>\n      <td>Black &amp; Blue</td>\n      <td>41zXjyVr6dzmchWf8tv3UO</td>\n      <td>[\"Backstreet Boys\"]</td>\n      <td>[\"5rSXSAkZ67PYJSvpUpkOr7\"]</td>\n      <td>8</td>\n      <td>1</td>\n      <td>False</td>\n      <td>224933</td>\n      <td>...</td>\n      <td>4</td>\n      <td>-6.705</td>\n      <td>0</td>\n      <td>0.0287</td>\n      <td>0.0102</td>\n      <td>0</td>\n      <td>0.0805</td>\n      <td>0.483</td>\n      <td>80.061</td>\n      <td>4</td>\n    </tr>\n    <tr>\n      <th>13</th>\n      <td>4XRUKxDIn28c7uHEzbGFgj</td>\n      <td>More Than That</td>\n      <td>Black &amp; Blue</td>\n      <td>41zXjyVr6dzmchWf8tv3UO</td>\n      <td>[\"Backstreet Boys\"]</td>\n      <td>[\"5rSXSAkZ67PYJSvpUpkOr7\"]</td>\n      <td>8</td>\n      <td>1</td>\n      <td>False</td>\n      <td>224933</td>\n      <td>...</td>\n      <td>4</td>\n      <td>-6.705</td>\n      <td>0</td>\n      <td>0.0287</td>\n      <td>0.0102</td>\n      <td>0</td>\n      <td>0.0805</td>\n      <td>0.483</td>\n      <td>80.061</td>\n      <td>4</td>\n    </tr>\n    <tr>\n      <th>14</th>\n      <td>4XRUKxDIn28c7uHEzbGFgj</td>\n      <td>More Than That</td>\n      <td>Black &amp; Blue</td>\n      <td>41zXjyVr6dzmchWf8tv3UO</td>\n      <td>[\"Backstreet Boys\"]</td>\n      <td>[\"5rSXSAkZ67PYJSvpUpkOr7\"]</td>\n      <td>8</td>\n      <td>1</td>\n      <td>False</td>\n      <td>224933</td>\n      <td>...</td>\n      <td>4</td>\n      <td>-6.705</td>\n      <td>0</td>\n      <td>0.0287</td>\n      <td>0.0102</td>\n      <td>0</td>\n      <td>0.0805</td>\n      <td>0.483</td>\n      <td>80.061</td>\n      <td>4</td>\n    </tr>\n    <tr>\n      <th>15</th>\n      <td>0AiTIiCQ15NW8QHQwSxKuR</td>\n      <td>Drowning</td>\n      <td>The Hits--Chapter One</td>\n      <td>1NslKOZobWxINFaFkLol3r</td>\n      <td>[\"Backstreet Boys\"]</td>\n      <td>[\"5rSXSAkZ67PYJSvpUpkOr7\"]</td>\n      <td>13</td>\n      <td>1</td>\n      <td>False</td>\n      <td>267226</td>\n      <td>...</td>\n      <td>6</td>\n      <td>-5.968</td>\n      <td>1</td>\n      <td>0.0396</td>\n      <td>0.0799</td>\n      <td>0</td>\n      <td>0.0985</td>\n      <td>0.481</td>\n      <td>141.942</td>\n      <td>4</td>\n    </tr>\n    <tr>\n      <th>16</th>\n      <td>0AiTIiCQ15NW8QHQwSxKuR</td>\n      <td>Drowning</td>\n      <td>The Hits--Chapter One</td>\n      <td>1NslKOZobWxINFaFkLol3r</td>\n      <td>[\"Backstreet Boys\"]</td>\n      <td>[\"5rSXSAkZ67PYJSvpUpkOr7\"]</td>\n      <td>13</td>\n      <td>1</td>\n      <td>False</td>\n      <td>267226</td>\n      <td>...</td>\n      <td>6</td>\n      <td>-5.968</td>\n      <td>1</td>\n      <td>0.0396</td>\n      <td>0.0799</td>\n      <td>0</td>\n      <td>0.0985</td>\n      <td>0.481</td>\n      <td>141.942</td>\n      <td>4</td>\n    </tr>\n    <tr>\n      <th>17</th>\n      <td>0AiTIiCQ15NW8QHQwSxKuR</td>\n      <td>Drowning</td>\n      <td>The Hits--Chapter One</td>\n      <td>1NslKOZobWxINFaFkLol3r</td>\n      <td>[\"Backstreet Boys\"]</td>\n      <td>[\"5rSXSAkZ67PYJSvpUpkOr7\"]</td>\n      <td>13</td>\n      <td>1</td>\n      <td>False</td>\n      <td>267226</td>\n      <td>...</td>\n      <td>6</td>\n      <td>-5.968</td>\n      <td>1</td>\n      <td>0.0396</td>\n      <td>0.0799</td>\n      <td>0</td>\n      <td>0.0985</td>\n      <td>0.481</td>\n      <td>141.942</td>\n      <td>4</td>\n    </tr>\n    <tr>\n      <th>18</th>\n      <td>0CnD7Hiw6pae6rLsZw5q5W</td>\n      <td>Incomplete</td>\n      <td>Never Gone</td>\n      <td>1Wz9PANLXjaOskUv575hRV</td>\n      <td>[\"Backstreet Boys\"]</td>\n      <td>[\"5rSXSAkZ67PYJSvpUpkOr7\"]</td>\n      <td>1</td>\n      <td>1</td>\n      <td>False</td>\n      <td>239586</td>\n      <td>...</td>\n      <td>4</td>\n      <td>-4.834</td>\n      <td>1</td>\n      <td>0.0331</td>\n      <td>0.2310</td>\n      <td>0</td>\n      <td>0.0768</td>\n      <td>0.165</td>\n      <td>133.631</td>\n      <td>4</td>\n    </tr>\n    <tr>\n      <th>19</th>\n      <td>0CnD7Hiw6pae6rLsZw5q5W</td>\n      <td>Incomplete</td>\n      <td>Never Gone</td>\n      <td>1Wz9PANLXjaOskUv575hRV</td>\n      <td>[\"Backstreet Boys\"]</td>\n      <td>[\"5rSXSAkZ67PYJSvpUpkOr7\"]</td>\n      <td>1</td>\n      <td>1</td>\n      <td>False</td>\n      <td>239586</td>\n      <td>...</td>\n      <td>4</td>\n      <td>-4.834</td>\n      <td>1</td>\n      <td>0.0331</td>\n      <td>0.2310</td>\n      <td>0</td>\n      <td>0.0768</td>\n      <td>0.165</td>\n      <td>133.631</td>\n      <td>4</td>\n    </tr>\n    <tr>\n      <th>20</th>\n      <td>0CnD7Hiw6pae6rLsZw5q5W</td>\n      <td>Incomplete</td>\n      <td>Never Gone</td>\n      <td>1Wz9PANLXjaOskUv575hRV</td>\n      <td>[\"Backstreet Boys\"]</td>\n      <td>[\"5rSXSAkZ67PYJSvpUpkOr7\"]</td>\n      <td>1</td>\n      <td>1</td>\n      <td>False</td>\n      <td>239586</td>\n      <td>...</td>\n      <td>4</td>\n      <td>-4.834</td>\n      <td>1</td>\n      <td>0.0331</td>\n      <td>0.2310</td>\n      <td>0</td>\n      <td>0.0768</td>\n      <td>0.165</td>\n      <td>133.631</td>\n      <td>4</td>\n    </tr>\n    <tr>\n      <th>21</th>\n      <td>0CnD7Hiw6pae6rLsZw5q5W</td>\n      <td>Incomplete</td>\n      <td>Never Gone</td>\n      <td>1Wz9PANLXjaOskUv575hRV</td>\n      <td>[\"Backstreet Boys\"]</td>\n      <td>[\"5rSXSAkZ67PYJSvpUpkOr7\"]</td>\n      <td>1</td>\n      <td>1</td>\n      <td>False</td>\n      <td>239586</td>\n      <td>...</td>\n      <td>4</td>\n      <td>-4.834</td>\n      <td>1</td>\n      <td>0.0331</td>\n      <td>0.2310</td>\n      <td>0</td>\n      <td>0.0768</td>\n      <td>0.165</td>\n      <td>133.631</td>\n      <td>4</td>\n    </tr>\n  </tbody>\n</table>\n<p>22 rows × 27 columns</p>\n</div>"
     },
     "execution_count": 5,
     "metadata": {},
     "output_type": "execute_result"
    }
   ],
   "source": [
    "import json\n",
    "from time import sleep\n",
    "\n",
    "from util import spotify\n",
    "\n",
    "\n",
    "def fetch_bulk_track_features(track_ids):\n",
    "    fetched_tracks = []\n",
    "    for i in range(0, len(track_ids), 50):\n",
    "        chunk = track_ids[i:i + 50]\n",
    "        if i % 500 == 0:\n",
    "            print(f\"fetching track metadata: {i} ({i / len(track_ids) * 100:.2f})\")\n",
    "        tracks = spotify.tracks(chunk)[\"tracks\"]\n",
    "        sleep(.50)\n",
    "        track_audio_features = spotify.audio_features(chunk)\n",
    "        sleep(.50)\n",
    "        for track, audio_features in zip(tracks, track_audio_features):\n",
    "            track_ = {\n",
    "                \"id\": track[\"id\"],\n",
    "                \"name\": track[\"name\"],\n",
    "                \"album\": track[\"album\"][\"name\"],\n",
    "                \"album_id\": track[\"album\"][\"id\"],\n",
    "                \"artists\": json.dumps([a[\"name\"] for a in track[\"artists\"]]),\n",
    "                \"artist_ids\": json.dumps([a[\"id\"] for a in track[\"artists\"]]),\n",
    "                \"track_number\": track[\"track_number\"],\n",
    "                \"disc_number\": track[\"disc_number\"],\n",
    "                \"explicit\": track[\"explicit\"],\n",
    "                \"duration_ms\": track[\"duration_ms\"],\n",
    "                \"year\": int(track[\"album\"][\"release_date\"][0:4]),\n",
    "                \"release_date\": track[\"album\"][\"release_date\"],\n",
    "                \"popularity\": track[\"popularity\"],\n",
    "                \"audio_features\": 0,\n",
    "                \"isrc\": track.get(\"external_ids\", {}).get(\"isrc\")\n",
    "            }\n",
    "            if audio_features is not None:\n",
    "                track_.update({\n",
    "                    \"audio_features\": 1,\n",
    "                    \"danceability\": audio_features[\"danceability\"],\n",
    "                    \"energy\": audio_features[\"energy\"],\n",
    "                    \"key\": audio_features[\"key\"],\n",
    "                    \"loudness\": audio_features[\"loudness\"],\n",
    "                    \"mode\": audio_features[\"mode\"],\n",
    "                    \"speechiness\": audio_features[\"speechiness\"],\n",
    "                    \"acousticness\": audio_features[\"acousticness\"],\n",
    "                    \"instrumentalness\": audio_features[\"instrumentalness\"],\n",
    "                    \"liveness\": audio_features[\"liveness\"],\n",
    "                    \"valence\": audio_features[\"valence\"],\n",
    "                    \"tempo\": audio_features[\"tempo\"],\n",
    "                    \"time_signature\": audio_features[\"time_signature\"],\n",
    "                })\n",
    "            fetched_tracks.append(track_)\n",
    "    return pd.DataFrame(fetched_tracks)\n",
    "\n",
    "track_ids = bsb_songs_chart[\"spotify_track_id\"].tolist()\n",
    "tracks_df = fetch_bulk_track_features(track_ids)\n",
    "tracks_df"
   ],
   "metadata": {
    "collapsed": false,
    "pycharm": {
     "name": "#%%\n"
    }
   }
  },
  {
   "cell_type": "code",
   "execution_count": 6,
   "outputs": [
    {
     "data": {
      "text/plain": "         month  position               artist  \\\n43    Jan 2000        44  The Backstreet Boys   \n56    Feb 2000         7  The Backstreet Boys   \n102   Mar 2000         3  The Backstreet Boys   \n158   Apr 2000         9  The Backstreet Boys   \n219   May 2000        20  The Backstreet Boys   \n275   Jun 2000        26  The Backstreet Boys   \n321   Jul 2000        22  The Backstreet Boys   \n504   Nov 2000         5  The Backstreet Boys   \n552   Dec 2000         3  The Backstreet Boys   \n619   Jan 2001        20  The Backstreet Boys   \n690   Feb 2001        41  The Backstreet Boys   \n731   Mar 2001        32  The Backstreet Boys   \n889   Jun 2001        40  The Backstreet Boys   \n916   Jul 2001        17  The Backstreet Boys   \n995   Aug 2001        46  The Backstreet Boys   \n1128  Nov 2001        29  The Backstreet Boys   \n1190  Dec 2001        41  The Backstreet Boys   \n1241  Jan 2002        42  The Backstreet Boys   \n3235  May 2005        36  The Backstreet Boys   \n3262  Jun 2005        13  The Backstreet Boys   \n3307  Jul 2005         8  The Backstreet Boys   \n3369  Aug 2005        20  The Backstreet Boys   \n\n                                     song  indicativerevenue  us  uk  de  fr  \\\n43    Show Me The Meaning Of Being Lonely           1457.522  16  97   -   -   \n56    Show Me The Meaning Of Being Lonely           2914.772  10   3   3   -   \n102   Show Me The Meaning Of Being Lonely           3678.622   6   3   4   -   \n158   Show Me The Meaning Of Being Lonely           2945.213   6  28  22   -   \n219   Show Me The Meaning Of Being Lonely           1919.076  19  64  66   -   \n275                               The One           1857.997  31   8  15   -   \n321                               The One           1997.071  30  15  41   -   \n504                     Shape Of My Heart           3351.040  10   4   2   -   \n552                     Shape Of My Heart           3408.347   9  20   3   -   \n619                     Shape Of My Heart           2208.448  19  49  14   -   \n690                     Shape Of My Heart           1250.329  31  82  36   -   \n731                              The Call           1516.261  52  16  23   -   \n889                        More Than That           1395.529  27   -  25   -   \n916                        More Than That           2213.888  27  12  35   -   \n995                        More Than That           1372.241  34  69  55   -   \n1128                             Drowning           1763.293  28  96  11   -   \n1190                             Drowning           1464.743  39   -  24   -   \n1241                             Drowning           1301.031  80   4  60   -   \n3235                           Incomplete           1383.423  14   -   -   -   \n3262                           Incomplete           2214.428  13   -   3   -   \n3307                           Incomplete           2559.923  14   8   6   -   \n3369                           Incomplete           1911.213  40  52  27  19   \n\n     ca  au        spotify_track_id       spotify_artist_id  \\\n43    -   -  3BsaRV5QIulYz2lV9WWa8T  5rSXSAkZ67PYJSvpUpkOr7   \n56    1  20  3BsaRV5QIulYz2lV9WWa8T  5rSXSAkZ67PYJSvpUpkOr7   \n102   1  19  3BsaRV5QIulYz2lV9WWa8T  5rSXSAkZ67PYJSvpUpkOr7   \n158   -  23  3BsaRV5QIulYz2lV9WWa8T  5rSXSAkZ67PYJSvpUpkOr7   \n219   -  41  3BsaRV5QIulYz2lV9WWa8T  5rSXSAkZ67PYJSvpUpkOr7   \n275   -   -  44kgtDJyAFv4Z01z7bIxco  5rSXSAkZ67PYJSvpUpkOr7   \n321   -  41  44kgtDJyAFv4Z01z7bIxco  5rSXSAkZ67PYJSvpUpkOr7   \n504   1   5  35o9a4iAfLl5jRmqMX9c1D  5rSXSAkZ67PYJSvpUpkOr7   \n552   1  11  35o9a4iAfLl5jRmqMX9c1D  5rSXSAkZ67PYJSvpUpkOr7   \n619   -  17  35o9a4iAfLl5jRmqMX9c1D  5rSXSAkZ67PYJSvpUpkOr7   \n690   -  31  35o9a4iAfLl5jRmqMX9c1D  5rSXSAkZ67PYJSvpUpkOr7   \n731   -  26  1mxTCArq9EhSg4QPGqhjhT  5rSXSAkZ67PYJSvpUpkOr7   \n889   -  25  4XRUKxDIn28c7uHEzbGFgj  5rSXSAkZ67PYJSvpUpkOr7   \n916   -  34  4XRUKxDIn28c7uHEzbGFgj  5rSXSAkZ67PYJSvpUpkOr7   \n995   -  38  4XRUKxDIn28c7uHEzbGFgj  5rSXSAkZ67PYJSvpUpkOr7   \n1128  -  49  0AiTIiCQ15NW8QHQwSxKuR  5rSXSAkZ67PYJSvpUpkOr7   \n1190  -  49  0AiTIiCQ15NW8QHQwSxKuR  5rSXSAkZ67PYJSvpUpkOr7   \n1241  -   -  0AiTIiCQ15NW8QHQwSxKuR  5rSXSAkZ67PYJSvpUpkOr7   \n3235  -   -  0CnD7Hiw6pae6rLsZw5q5W  5rSXSAkZ67PYJSvpUpkOr7   \n3262  -   1  0CnD7Hiw6pae6rLsZw5q5W  5rSXSAkZ67PYJSvpUpkOr7   \n3307  -   1  0CnD7Hiw6pae6rLsZw5q5W  5rSXSAkZ67PYJSvpUpkOr7   \n3369  -   4  0CnD7Hiw6pae6rLsZw5q5W  5rSXSAkZ67PYJSvpUpkOr7   \n\n            spotify_album_id  spotify_track_popularity spotify_track_explicit  \\\n43    5ySxm9hxBNss01WCL7GLyQ                      71.0                  False   \n56    5ySxm9hxBNss01WCL7GLyQ                      71.0                  False   \n102   5ySxm9hxBNss01WCL7GLyQ                      71.0                  False   \n158   5ySxm9hxBNss01WCL7GLyQ                      71.0                  False   \n219   5ySxm9hxBNss01WCL7GLyQ                      71.0                  False   \n275   5ySxm9hxBNss01WCL7GLyQ                      62.0                  False   \n321   5ySxm9hxBNss01WCL7GLyQ                      62.0                  False   \n504   41zXjyVr6dzmchWf8tv3UO                      74.0                  False   \n552   41zXjyVr6dzmchWf8tv3UO                      74.0                  False   \n619   41zXjyVr6dzmchWf8tv3UO                      74.0                  False   \n690   41zXjyVr6dzmchWf8tv3UO                      74.0                  False   \n731   41zXjyVr6dzmchWf8tv3UO                      64.0                  False   \n889   41zXjyVr6dzmchWf8tv3UO                      59.0                  False   \n916   41zXjyVr6dzmchWf8tv3UO                      59.0                  False   \n995   41zXjyVr6dzmchWf8tv3UO                      59.0                  False   \n1128  1NslKOZobWxINFaFkLol3r                      65.0                  False   \n1190  1NslKOZobWxINFaFkLol3r                      65.0                  False   \n1241  1NslKOZobWxINFaFkLol3r                      65.0                  False   \n3235  1Wz9PANLXjaOskUv575hRV                      67.0                  False   \n3262  1Wz9PANLXjaOskUv575hRV                      67.0                  False   \n3307  1Wz9PANLXjaOskUv575hRV                      67.0                  False   \n3369  1Wz9PANLXjaOskUv575hRV                      67.0                  False   \n\n      spotify_track_duration_ms spotify_track_album_release_date  \\\n43                     234960.0                       1999-05-18   \n56                     234960.0                       1999-05-18   \n102                    234960.0                       1999-05-18   \n158                    234960.0                       1999-05-18   \n219                    234960.0                       1999-05-18   \n275                    226933.0                       1999-05-18   \n321                    226933.0                       1999-05-18   \n504                    230093.0                       2000-11-21   \n552                    230093.0                       2000-11-21   \n619                    230093.0                       2000-11-21   \n690                    230093.0                       2000-11-21   \n731                    204800.0                       2000-11-21   \n889                    224933.0                       2000-11-21   \n916                    224933.0                       2000-11-21   \n995                    224933.0                       2000-11-21   \n1128                   267226.0                       2001-10-23   \n1190                   267226.0                       2001-10-23   \n1241                   267226.0                       2001-10-23   \n3235                   239586.0                       2005-06-14   \n3262                   239586.0                       2005-06-14   \n3307                   239586.0                       2005-06-14   \n3369                   239586.0                       2005-06-14   \n\n     spotify_track_album_release_date_precision  \n43                                          day  \n56                                          day  \n102                                         day  \n158                                         day  \n219                                         day  \n275                                         day  \n321                                         day  \n504                                         day  \n552                                         day  \n619                                         day  \n690                                         day  \n731                                         day  \n889                                         day  \n916                                         day  \n995                                         day  \n1128                                        day  \n1190                                        day  \n1241                                        day  \n3235                                        day  \n3262                                        day  \n3307                                        day  \n3369                                        day  ",
      "text/html": "<div>\n<style scoped>\n    .dataframe tbody tr th:only-of-type {\n        vertical-align: middle;\n    }\n\n    .dataframe tbody tr th {\n        vertical-align: top;\n    }\n\n    .dataframe thead th {\n        text-align: right;\n    }\n</style>\n<table border=\"1\" class=\"dataframe\">\n  <thead>\n    <tr style=\"text-align: right;\">\n      <th></th>\n      <th>month</th>\n      <th>position</th>\n      <th>artist</th>\n      <th>song</th>\n      <th>indicativerevenue</th>\n      <th>us</th>\n      <th>uk</th>\n      <th>de</th>\n      <th>fr</th>\n      <th>ca</th>\n      <th>au</th>\n      <th>spotify_track_id</th>\n      <th>spotify_artist_id</th>\n      <th>spotify_album_id</th>\n      <th>spotify_track_popularity</th>\n      <th>spotify_track_explicit</th>\n      <th>spotify_track_duration_ms</th>\n      <th>spotify_track_album_release_date</th>\n      <th>spotify_track_album_release_date_precision</th>\n    </tr>\n  </thead>\n  <tbody>\n    <tr>\n      <th>43</th>\n      <td>Jan 2000</td>\n      <td>44</td>\n      <td>The Backstreet Boys</td>\n      <td>Show Me The Meaning Of Being Lonely</td>\n      <td>1457.522</td>\n      <td>16</td>\n      <td>97</td>\n      <td>-</td>\n      <td>-</td>\n      <td>-</td>\n      <td>-</td>\n      <td>3BsaRV5QIulYz2lV9WWa8T</td>\n      <td>5rSXSAkZ67PYJSvpUpkOr7</td>\n      <td>5ySxm9hxBNss01WCL7GLyQ</td>\n      <td>71.0</td>\n      <td>False</td>\n      <td>234960.0</td>\n      <td>1999-05-18</td>\n      <td>day</td>\n    </tr>\n    <tr>\n      <th>56</th>\n      <td>Feb 2000</td>\n      <td>7</td>\n      <td>The Backstreet Boys</td>\n      <td>Show Me The Meaning Of Being Lonely</td>\n      <td>2914.772</td>\n      <td>10</td>\n      <td>3</td>\n      <td>3</td>\n      <td>-</td>\n      <td>1</td>\n      <td>20</td>\n      <td>3BsaRV5QIulYz2lV9WWa8T</td>\n      <td>5rSXSAkZ67PYJSvpUpkOr7</td>\n      <td>5ySxm9hxBNss01WCL7GLyQ</td>\n      <td>71.0</td>\n      <td>False</td>\n      <td>234960.0</td>\n      <td>1999-05-18</td>\n      <td>day</td>\n    </tr>\n    <tr>\n      <th>102</th>\n      <td>Mar 2000</td>\n      <td>3</td>\n      <td>The Backstreet Boys</td>\n      <td>Show Me The Meaning Of Being Lonely</td>\n      <td>3678.622</td>\n      <td>6</td>\n      <td>3</td>\n      <td>4</td>\n      <td>-</td>\n      <td>1</td>\n      <td>19</td>\n      <td>3BsaRV5QIulYz2lV9WWa8T</td>\n      <td>5rSXSAkZ67PYJSvpUpkOr7</td>\n      <td>5ySxm9hxBNss01WCL7GLyQ</td>\n      <td>71.0</td>\n      <td>False</td>\n      <td>234960.0</td>\n      <td>1999-05-18</td>\n      <td>day</td>\n    </tr>\n    <tr>\n      <th>158</th>\n      <td>Apr 2000</td>\n      <td>9</td>\n      <td>The Backstreet Boys</td>\n      <td>Show Me The Meaning Of Being Lonely</td>\n      <td>2945.213</td>\n      <td>6</td>\n      <td>28</td>\n      <td>22</td>\n      <td>-</td>\n      <td>-</td>\n      <td>23</td>\n      <td>3BsaRV5QIulYz2lV9WWa8T</td>\n      <td>5rSXSAkZ67PYJSvpUpkOr7</td>\n      <td>5ySxm9hxBNss01WCL7GLyQ</td>\n      <td>71.0</td>\n      <td>False</td>\n      <td>234960.0</td>\n      <td>1999-05-18</td>\n      <td>day</td>\n    </tr>\n    <tr>\n      <th>219</th>\n      <td>May 2000</td>\n      <td>20</td>\n      <td>The Backstreet Boys</td>\n      <td>Show Me The Meaning Of Being Lonely</td>\n      <td>1919.076</td>\n      <td>19</td>\n      <td>64</td>\n      <td>66</td>\n      <td>-</td>\n      <td>-</td>\n      <td>41</td>\n      <td>3BsaRV5QIulYz2lV9WWa8T</td>\n      <td>5rSXSAkZ67PYJSvpUpkOr7</td>\n      <td>5ySxm9hxBNss01WCL7GLyQ</td>\n      <td>71.0</td>\n      <td>False</td>\n      <td>234960.0</td>\n      <td>1999-05-18</td>\n      <td>day</td>\n    </tr>\n    <tr>\n      <th>275</th>\n      <td>Jun 2000</td>\n      <td>26</td>\n      <td>The Backstreet Boys</td>\n      <td>The One</td>\n      <td>1857.997</td>\n      <td>31</td>\n      <td>8</td>\n      <td>15</td>\n      <td>-</td>\n      <td>-</td>\n      <td>-</td>\n      <td>44kgtDJyAFv4Z01z7bIxco</td>\n      <td>5rSXSAkZ67PYJSvpUpkOr7</td>\n      <td>5ySxm9hxBNss01WCL7GLyQ</td>\n      <td>62.0</td>\n      <td>False</td>\n      <td>226933.0</td>\n      <td>1999-05-18</td>\n      <td>day</td>\n    </tr>\n    <tr>\n      <th>321</th>\n      <td>Jul 2000</td>\n      <td>22</td>\n      <td>The Backstreet Boys</td>\n      <td>The One</td>\n      <td>1997.071</td>\n      <td>30</td>\n      <td>15</td>\n      <td>41</td>\n      <td>-</td>\n      <td>-</td>\n      <td>41</td>\n      <td>44kgtDJyAFv4Z01z7bIxco</td>\n      <td>5rSXSAkZ67PYJSvpUpkOr7</td>\n      <td>5ySxm9hxBNss01WCL7GLyQ</td>\n      <td>62.0</td>\n      <td>False</td>\n      <td>226933.0</td>\n      <td>1999-05-18</td>\n      <td>day</td>\n    </tr>\n    <tr>\n      <th>504</th>\n      <td>Nov 2000</td>\n      <td>5</td>\n      <td>The Backstreet Boys</td>\n      <td>Shape Of My Heart</td>\n      <td>3351.040</td>\n      <td>10</td>\n      <td>4</td>\n      <td>2</td>\n      <td>-</td>\n      <td>1</td>\n      <td>5</td>\n      <td>35o9a4iAfLl5jRmqMX9c1D</td>\n      <td>5rSXSAkZ67PYJSvpUpkOr7</td>\n      <td>41zXjyVr6dzmchWf8tv3UO</td>\n      <td>74.0</td>\n      <td>False</td>\n      <td>230093.0</td>\n      <td>2000-11-21</td>\n      <td>day</td>\n    </tr>\n    <tr>\n      <th>552</th>\n      <td>Dec 2000</td>\n      <td>3</td>\n      <td>The Backstreet Boys</td>\n      <td>Shape Of My Heart</td>\n      <td>3408.347</td>\n      <td>9</td>\n      <td>20</td>\n      <td>3</td>\n      <td>-</td>\n      <td>1</td>\n      <td>11</td>\n      <td>35o9a4iAfLl5jRmqMX9c1D</td>\n      <td>5rSXSAkZ67PYJSvpUpkOr7</td>\n      <td>41zXjyVr6dzmchWf8tv3UO</td>\n      <td>74.0</td>\n      <td>False</td>\n      <td>230093.0</td>\n      <td>2000-11-21</td>\n      <td>day</td>\n    </tr>\n    <tr>\n      <th>619</th>\n      <td>Jan 2001</td>\n      <td>20</td>\n      <td>The Backstreet Boys</td>\n      <td>Shape Of My Heart</td>\n      <td>2208.448</td>\n      <td>19</td>\n      <td>49</td>\n      <td>14</td>\n      <td>-</td>\n      <td>-</td>\n      <td>17</td>\n      <td>35o9a4iAfLl5jRmqMX9c1D</td>\n      <td>5rSXSAkZ67PYJSvpUpkOr7</td>\n      <td>41zXjyVr6dzmchWf8tv3UO</td>\n      <td>74.0</td>\n      <td>False</td>\n      <td>230093.0</td>\n      <td>2000-11-21</td>\n      <td>day</td>\n    </tr>\n    <tr>\n      <th>690</th>\n      <td>Feb 2001</td>\n      <td>41</td>\n      <td>The Backstreet Boys</td>\n      <td>Shape Of My Heart</td>\n      <td>1250.329</td>\n      <td>31</td>\n      <td>82</td>\n      <td>36</td>\n      <td>-</td>\n      <td>-</td>\n      <td>31</td>\n      <td>35o9a4iAfLl5jRmqMX9c1D</td>\n      <td>5rSXSAkZ67PYJSvpUpkOr7</td>\n      <td>41zXjyVr6dzmchWf8tv3UO</td>\n      <td>74.0</td>\n      <td>False</td>\n      <td>230093.0</td>\n      <td>2000-11-21</td>\n      <td>day</td>\n    </tr>\n    <tr>\n      <th>731</th>\n      <td>Mar 2001</td>\n      <td>32</td>\n      <td>The Backstreet Boys</td>\n      <td>The Call</td>\n      <td>1516.261</td>\n      <td>52</td>\n      <td>16</td>\n      <td>23</td>\n      <td>-</td>\n      <td>-</td>\n      <td>26</td>\n      <td>1mxTCArq9EhSg4QPGqhjhT</td>\n      <td>5rSXSAkZ67PYJSvpUpkOr7</td>\n      <td>41zXjyVr6dzmchWf8tv3UO</td>\n      <td>64.0</td>\n      <td>False</td>\n      <td>204800.0</td>\n      <td>2000-11-21</td>\n      <td>day</td>\n    </tr>\n    <tr>\n      <th>889</th>\n      <td>Jun 2001</td>\n      <td>40</td>\n      <td>The Backstreet Boys</td>\n      <td>More Than That</td>\n      <td>1395.529</td>\n      <td>27</td>\n      <td>-</td>\n      <td>25</td>\n      <td>-</td>\n      <td>-</td>\n      <td>25</td>\n      <td>4XRUKxDIn28c7uHEzbGFgj</td>\n      <td>5rSXSAkZ67PYJSvpUpkOr7</td>\n      <td>41zXjyVr6dzmchWf8tv3UO</td>\n      <td>59.0</td>\n      <td>False</td>\n      <td>224933.0</td>\n      <td>2000-11-21</td>\n      <td>day</td>\n    </tr>\n    <tr>\n      <th>916</th>\n      <td>Jul 2001</td>\n      <td>17</td>\n      <td>The Backstreet Boys</td>\n      <td>More Than That</td>\n      <td>2213.888</td>\n      <td>27</td>\n      <td>12</td>\n      <td>35</td>\n      <td>-</td>\n      <td>-</td>\n      <td>34</td>\n      <td>4XRUKxDIn28c7uHEzbGFgj</td>\n      <td>5rSXSAkZ67PYJSvpUpkOr7</td>\n      <td>41zXjyVr6dzmchWf8tv3UO</td>\n      <td>59.0</td>\n      <td>False</td>\n      <td>224933.0</td>\n      <td>2000-11-21</td>\n      <td>day</td>\n    </tr>\n    <tr>\n      <th>995</th>\n      <td>Aug 2001</td>\n      <td>46</td>\n      <td>The Backstreet Boys</td>\n      <td>More Than That</td>\n      <td>1372.241</td>\n      <td>34</td>\n      <td>69</td>\n      <td>55</td>\n      <td>-</td>\n      <td>-</td>\n      <td>38</td>\n      <td>4XRUKxDIn28c7uHEzbGFgj</td>\n      <td>5rSXSAkZ67PYJSvpUpkOr7</td>\n      <td>41zXjyVr6dzmchWf8tv3UO</td>\n      <td>59.0</td>\n      <td>False</td>\n      <td>224933.0</td>\n      <td>2000-11-21</td>\n      <td>day</td>\n    </tr>\n    <tr>\n      <th>1128</th>\n      <td>Nov 2001</td>\n      <td>29</td>\n      <td>The Backstreet Boys</td>\n      <td>Drowning</td>\n      <td>1763.293</td>\n      <td>28</td>\n      <td>96</td>\n      <td>11</td>\n      <td>-</td>\n      <td>-</td>\n      <td>49</td>\n      <td>0AiTIiCQ15NW8QHQwSxKuR</td>\n      <td>5rSXSAkZ67PYJSvpUpkOr7</td>\n      <td>1NslKOZobWxINFaFkLol3r</td>\n      <td>65.0</td>\n      <td>False</td>\n      <td>267226.0</td>\n      <td>2001-10-23</td>\n      <td>day</td>\n    </tr>\n    <tr>\n      <th>1190</th>\n      <td>Dec 2001</td>\n      <td>41</td>\n      <td>The Backstreet Boys</td>\n      <td>Drowning</td>\n      <td>1464.743</td>\n      <td>39</td>\n      <td>-</td>\n      <td>24</td>\n      <td>-</td>\n      <td>-</td>\n      <td>49</td>\n      <td>0AiTIiCQ15NW8QHQwSxKuR</td>\n      <td>5rSXSAkZ67PYJSvpUpkOr7</td>\n      <td>1NslKOZobWxINFaFkLol3r</td>\n      <td>65.0</td>\n      <td>False</td>\n      <td>267226.0</td>\n      <td>2001-10-23</td>\n      <td>day</td>\n    </tr>\n    <tr>\n      <th>1241</th>\n      <td>Jan 2002</td>\n      <td>42</td>\n      <td>The Backstreet Boys</td>\n      <td>Drowning</td>\n      <td>1301.031</td>\n      <td>80</td>\n      <td>4</td>\n      <td>60</td>\n      <td>-</td>\n      <td>-</td>\n      <td>-</td>\n      <td>0AiTIiCQ15NW8QHQwSxKuR</td>\n      <td>5rSXSAkZ67PYJSvpUpkOr7</td>\n      <td>1NslKOZobWxINFaFkLol3r</td>\n      <td>65.0</td>\n      <td>False</td>\n      <td>267226.0</td>\n      <td>2001-10-23</td>\n      <td>day</td>\n    </tr>\n    <tr>\n      <th>3235</th>\n      <td>May 2005</td>\n      <td>36</td>\n      <td>The Backstreet Boys</td>\n      <td>Incomplete</td>\n      <td>1383.423</td>\n      <td>14</td>\n      <td>-</td>\n      <td>-</td>\n      <td>-</td>\n      <td>-</td>\n      <td>-</td>\n      <td>0CnD7Hiw6pae6rLsZw5q5W</td>\n      <td>5rSXSAkZ67PYJSvpUpkOr7</td>\n      <td>1Wz9PANLXjaOskUv575hRV</td>\n      <td>67.0</td>\n      <td>False</td>\n      <td>239586.0</td>\n      <td>2005-06-14</td>\n      <td>day</td>\n    </tr>\n    <tr>\n      <th>3262</th>\n      <td>Jun 2005</td>\n      <td>13</td>\n      <td>The Backstreet Boys</td>\n      <td>Incomplete</td>\n      <td>2214.428</td>\n      <td>13</td>\n      <td>-</td>\n      <td>3</td>\n      <td>-</td>\n      <td>-</td>\n      <td>1</td>\n      <td>0CnD7Hiw6pae6rLsZw5q5W</td>\n      <td>5rSXSAkZ67PYJSvpUpkOr7</td>\n      <td>1Wz9PANLXjaOskUv575hRV</td>\n      <td>67.0</td>\n      <td>False</td>\n      <td>239586.0</td>\n      <td>2005-06-14</td>\n      <td>day</td>\n    </tr>\n    <tr>\n      <th>3307</th>\n      <td>Jul 2005</td>\n      <td>8</td>\n      <td>The Backstreet Boys</td>\n      <td>Incomplete</td>\n      <td>2559.923</td>\n      <td>14</td>\n      <td>8</td>\n      <td>6</td>\n      <td>-</td>\n      <td>-</td>\n      <td>1</td>\n      <td>0CnD7Hiw6pae6rLsZw5q5W</td>\n      <td>5rSXSAkZ67PYJSvpUpkOr7</td>\n      <td>1Wz9PANLXjaOskUv575hRV</td>\n      <td>67.0</td>\n      <td>False</td>\n      <td>239586.0</td>\n      <td>2005-06-14</td>\n      <td>day</td>\n    </tr>\n    <tr>\n      <th>3369</th>\n      <td>Aug 2005</td>\n      <td>20</td>\n      <td>The Backstreet Boys</td>\n      <td>Incomplete</td>\n      <td>1911.213</td>\n      <td>40</td>\n      <td>52</td>\n      <td>27</td>\n      <td>19</td>\n      <td>-</td>\n      <td>4</td>\n      <td>0CnD7Hiw6pae6rLsZw5q5W</td>\n      <td>5rSXSAkZ67PYJSvpUpkOr7</td>\n      <td>1Wz9PANLXjaOskUv575hRV</td>\n      <td>67.0</td>\n      <td>False</td>\n      <td>239586.0</td>\n      <td>2005-06-14</td>\n      <td>day</td>\n    </tr>\n  </tbody>\n</table>\n</div>"
     },
     "execution_count": 6,
     "metadata": {},
     "output_type": "execute_result"
    }
   ],
   "source": [
    "bsb_songs_chart"
   ],
   "metadata": {
    "collapsed": false,
    "pycharm": {
     "name": "#%%\n"
    }
   }
  },
  {
   "cell_type": "code",
   "execution_count": 42,
   "outputs": [],
   "source": [
    "song_artist_df_2 = song_artist_df[song_artist_df[\"spotify_track_id\"].isnull()]"
   ],
   "metadata": {
    "collapsed": false,
    "pycharm": {
     "name": "#%%\n"
    }
   }
  },
  {
   "cell_type": "code",
   "execution_count": 44,
   "outputs": [
    {
     "name": "stderr",
     "output_type": "stream",
     "text": [
      "/Users/pez/.conda/envs/dataspell-2/lib/python3.9/site-packages/pandas/core/indexing.py:1817: SettingWithCopyWarning: \n",
      "A value is trying to be set on a copy of a slice from a DataFrame.\n",
      "Try using .loc[row_indexer,col_indexer] = value instead\n",
      "\n",
      "See the caveats in the documentation: https://pandas.pydata.org/pandas-docs/stable/user_guide/indexing.html#returning-a-view-versus-a-copy\n",
      "  self._setitem_single_column(loc, value, pi)\n"
     ]
    },
    {
     "name": "stdout",
     "output_type": "stream",
     "text": [
      "status: 0.32 (4 / 1268\n",
      "status: 0.39 (5 / 1268\n",
      "status: 0.55 (7 / 1268\n",
      "status: 1.26 (16 / 1268\n",
      "status: 5.05 (64 / 1268\n",
      "status: 6.07 (77 / 1268\n",
      "status: 7.33 (93 / 1268\n",
      "status: 7.65 (97 / 1268\n",
      "status: 8.28 (105 / 1268\n",
      "status: 9.23 (117 / 1268\n",
      "status: 11.75 (149 / 1268\n",
      "status: 12.38 (157 / 1268\n",
      "status: 13.17 (167 / 1268\n",
      "status: 14.43 (183 / 1268\n",
      "status: 14.51 (184 / 1268\n",
      "status: 14.91 (189 / 1268\n",
      "status: 16.40 (208 / 1268\n",
      "status: 17.67 (224 / 1268\n",
      "status: 19.64 (249 / 1268\n",
      "status: 20.90 (265 / 1268\n",
      "status: 23.11 (293 / 1268\n",
      "status: 23.34 (296 / 1268\n",
      "status: 23.97 (304 / 1268\n",
      "status: 24.84 (315 / 1268\n",
      "status: 25.55 (324 / 1268\n",
      "status: 26.10 (331 / 1268\n",
      "status: 27.44 (348 / 1268\n",
      "status: 28.86 (366 / 1268\n",
      "status: 29.97 (380 / 1268\n",
      "status: 30.91 (392 / 1268\n",
      "status: 31.62 (401 / 1268\n",
      "status: 32.33 (410 / 1268\n",
      "status: 32.73 (415 / 1268\n",
      "status: 35.09 (445 / 1268\n",
      "status: 35.33 (448 / 1268\n",
      "status: 36.67 (465 / 1268\n",
      "status: 39.12 (496 / 1268\n",
      "status: 39.35 (499 / 1268\n",
      "status: 40.77 (517 / 1268\n",
      "status: 42.35 (537 / 1268\n",
      "status: 43.85 (556 / 1268\n",
      "status: 45.11 (572 / 1268\n",
      "status: 45.50 (577 / 1268\n",
      "status: 46.61 (591 / 1268\n",
      "status: 49.05 (622 / 1268\n",
      "status: 49.13 (623 / 1268\n",
      "status: 49.84 (632 / 1268\n",
      "status: 50.16 (636 / 1268\n",
      "status: 50.47 (640 / 1268\n",
      "status: 50.63 (642 / 1268\n",
      "status: 51.58 (654 / 1268\n",
      "status: 51.66 (655 / 1268\n",
      "status: 53.31 (676 / 1268\n",
      "status: 53.79 (682 / 1268\n",
      "status: 54.18 (687 / 1268\n",
      "status: 54.73 (694 / 1268\n",
      "status: 55.68 (706 / 1268\n",
      "status: 56.78 (720 / 1268\n",
      "status: 57.57 (730 / 1268\n",
      "status: 59.38 (753 / 1268\n",
      "status: 59.78 (758 / 1268\n",
      "status: 61.20 (776 / 1268\n",
      "status: 61.36 (778 / 1268\n",
      "status: 61.59 (781 / 1268\n",
      "status: 62.30 (790 / 1268\n",
      "status: 63.01 (799 / 1268\n",
      "status: 63.72 (808 / 1268\n",
      "status: 65.54 (831 / 1268\n",
      "status: 67.03 (850 / 1268\n",
      "status: 67.35 (854 / 1268\n",
      "status: 68.06 (863 / 1268\n",
      "status: 68.53 (869 / 1268\n",
      "status: 69.09 (876 / 1268\n",
      "status: 69.40 (880 / 1268\n",
      "status: 70.03 (888 / 1268\n",
      "status: 70.82 (898 / 1268\n",
      "status: 71.06 (901 / 1268\n",
      "status: 71.61 (908 / 1268\n",
      "status: 72.16 (915 / 1268\n",
      "status: 72.40 (918 / 1268\n",
      "status: 72.87 (924 / 1268\n",
      "status: 72.95 (925 / 1268\n",
      "status: 73.58 (933 / 1268\n",
      "status: 74.29 (942 / 1268\n",
      "status: 74.68 (947 / 1268\n",
      "status: 75.32 (955 / 1268\n",
      "status: 76.42 (969 / 1268\n",
      "status: 76.74 (973 / 1268\n",
      "status: 76.97 (976 / 1268\n",
      "status: 77.37 (981 / 1268\n",
      "status: 77.44 (982 / 1268\n",
      "status: 79.34 (1006 / 1268\n",
      "status: 79.57 (1009 / 1268\n",
      "status: 80.36 (1019 / 1268\n",
      "status: 81.23 (1030 / 1268\n",
      "status: 82.41 (1045 / 1268\n",
      "status: 82.57 (1047 / 1268\n",
      "status: 83.20 (1055 / 1268\n",
      "status: 83.52 (1059 / 1268\n",
      "status: 84.31 (1069 / 1268\n",
      "status: 84.70 (1074 / 1268\n",
      "status: 86.36 (1095 / 1268\n",
      "status: 86.99 (1103 / 1268\n",
      "status: 87.30 (1107 / 1268\n"
     ]
    }
   ],
   "source": [
    "from time import sleep\n",
    "\n",
    "from thefuzz import fuzz\n",
    "from requests.exceptions import ReadTimeout\n",
    "\n",
    "from util import spotify, resolve_names, filter_by_track\n",
    "\n",
    "\n",
    "def best_match(result, artist, track):\n",
    "    for t in result[\"tracks\"][\"items\"]:\n",
    "        t_artist = t[\"artists\"][0][\"name\"]\n",
    "        t_track = t[\"name\"]\n",
    "        if \"karaoke\" in t_artist.lower() or \"karaoke\" in t_track.lower():\n",
    "            continue\n",
    "        if \"version\" in t_track.lower() and not \"version\" in track.lower():\n",
    "            continue\n",
    "        artist_fuzz_score = fuzz.token_set_ratio(artist, t_artist)\n",
    "        track_fuzz_score = fuzz.token_set_ratio(track, t_track)\n",
    "        compound_fuzz_score = fuzz.token_set_ratio(f\"{artist} {track}\", f\"{t_artist} {t_track}\")\n",
    "        # print(artist, t_artist, artist_fuzz_score, track, t_track, track_fuzz_score, compound_fuzz_score)\n",
    "        if (artist_fuzz_score > 85 and track_fuzz_score > 85) or compound_fuzz_score > 90:\n",
    "            return t\n",
    "    return None\n",
    "\n",
    "\n",
    "def fetch_track(artist, track):\n",
    "    artists = [artist]\n",
    "    if artist.startswith(\"The \"):\n",
    "        artists.append(artist[4:])\n",
    "    for artist in artists:\n",
    "        try:\n",
    "            artist_ = artist\n",
    "            result = spotify.search(f\"track:{track} artist:{artist}\")\n",
    "            sleep(.25)\n",
    "            best_match_ = best_match(result, artist, track)\n",
    "            if result[\"tracks\"][\"total\"] == 0 or not best_match_:\n",
    "                artist_, _ = resolve_names(artist, track)\n",
    "                result = spotify.search(f\"track:{track} artist:{artist_}\")\n",
    "                best_match_ = best_match(result, artist, track)\n",
    "                sleep(.25)\n",
    "            if result[\"tracks\"][\"total\"] == 0 or not best_match_:\n",
    "                result = spotify.search(f\"{artist} {track}\")\n",
    "                best_match_ = best_match(result, artist, track)\n",
    "                sleep(.25)\n",
    "            if result[\"tracks\"][\"total\"] == 0 or not best_match_:\n",
    "                result = spotify.search(f\"{artist_} {track}\")\n",
    "                best_match_ = best_match(result, artist, track)\n",
    "                sleep(.25)\n",
    "            if result[\"tracks\"][\"total\"] == 0 or not best_match_:\n",
    "                return None\n",
    "        except ReadTimeout:\n",
    "            print(\"spotify time out.\")\n",
    "            return None\n",
    "        if best_match_:\n",
    "            return best_match_\n",
    "    return None\n",
    "\n",
    "\n",
    "def with_spotify_track_metadata(df, artist_key=\"artist\", track_key=\"song\"):\n",
    "    \"\"\"\n",
    "    Add Spotify ids and metadata to chart songs.\n",
    "    Songs that have charted are often on the chart the following week.\n",
    "    As ids and metadata are added to multiple rows at a time.\n",
    "    Make sure to skip rows that already have id and metadata.\n",
    "    \"\"\"\n",
    "    for index, record in df.iterrows():\n",
    "        artist, track = record[artist_key], record[track_key]\n",
    "        # logging.info(f\"artist: {artist}, track: {track}\")\n",
    "        filter_by_track_ = filter_by_track(artist_key=artist_key,\n",
    "                                           track_key=track_key)\n",
    "\n",
    "        # check if track id is already present\n",
    "        if \"spotify_track_id\" in df\\\n",
    "                and len(filter_by_track_(df, artist, track)\n",
    "                        & (df[\"spotify_track_id\"].isna())) == 0:\n",
    "            # logging.info(\"skipped: metadata exists\")\n",
    "            continue\n",
    "\n",
    "        # search for song on spotify\n",
    "        spotify_track = fetch_track(artist, track)\n",
    "        if spotify_track is None:\n",
    "            # logging.info(f\"skipped: no track found: {artist} - {track}\")\n",
    "            continue\n",
    "\n",
    "        # add id and metadata to dataframe\n",
    "        df.loc[filter_by_track_(df, artist, track),\n",
    "               \"spotify_track_id\"] = spotify_track[\"id\"]\n",
    "        df.loc[filter_by_track_(df, artist, track),\n",
    "               \"spotify_artist_id\"] = spotify_track[\"artists\"][0][\"id\"]\n",
    "        df.loc[filter_by_track_(df, artist, track),\n",
    "               \"spotify_album_id\"] = spotify_track[\"album\"][\"id\"]\n",
    "        df.loc[filter_by_track_(df, artist, track),\n",
    "               \"spotify_track_popularity\"] = spotify_track[\"popularity\"]\n",
    "        df.loc[filter_by_track_(df, artist, track),\n",
    "               \"spotify_track_explicit\"] = spotify_track[\"explicit\"]\n",
    "        df.loc[filter_by_track_(df, artist, track),\n",
    "               \"spotify_track_duration_ms\"] = spotify_track[\"duration_ms\"]\n",
    "        df.loc[filter_by_track_(df, artist, track),\n",
    "               \"spotify_track_album_release_date\"] =\\\n",
    "            spotify_track[\"album\"][\"release_date\"]\n",
    "        df.loc[filter_by_track_(df, artist, track),\n",
    "               \"spotify_track_album_release_date_precision\"] =\\\n",
    "            spotify_track[\"album\"][\"release_date_precision\"]\n",
    "\n",
    "        # don't trigger spotify rate-limit\n",
    "        sleep(1)\n",
    "        if index % 10 == 0:\n",
    "            total_tracks = len(df)\n",
    "            null_tracks = df[\"spotify_track_id\"].isnull().sum()\n",
    "            print(f\"status: {100 - null_tracks / total_tracks * 100:.2f} \"\n",
    "                  f\"({total_tracks - null_tracks} / {total_tracks}\")\n",
    "    return df\n",
    "\n",
    "# fetch_track(\"Rob Thomas & Santana\", \"Smooth\")\n",
    "# fetch_track(\"Rob Thomas Santana\", \"Smooth\")\n",
    "# fetch_track(\"Eiffel 65\", \"Blue (Da Ba Dee)\")\n",
    "# fetch_track(\"Missy Elliott\", \"Hot Boyz\")\n",
    "# fetch_track(\"P Diddy & R Kelly\", \"Satisfy You\")\n",
    "# fetch_track(\"Will Smith\", \"Will 2K\")\n",
    "# fetch_track(\"Ja Rule, Lil' Mo & Vita\", \"Put It On Me\")\n",
    "# fetch_track(\"Joe Thomas Mystikal\", \"Stutter\")\n",
    "# fetch_track(\"Ricky Martin & Christina Aguilera\", \"Nobody Wants To Be Lonely\")\n",
    "# fetch_track(\"ATC\", \"Around The World (La La La La La)\")\n",
    "song_artist_df_2 = with_spotify_track_metadata(song_artist_df_2)"
   ],
   "metadata": {
    "collapsed": false,
    "pycharm": {
     "name": "#%%\n"
    }
   }
  },
  {
   "cell_type": "code",
   "execution_count": 48,
   "outputs": [
    {
     "data": {
      "text/plain": "                                       song  \\\n74                         The Great Beyond   \n84                             I Wanna Know   \n124                            There You Go   \n392    Take A Look Around (Theme From MI 2)   \n399                                   Faded   \n...                                     ...   \n12149                                 Slide   \n12191                        Nobody But You   \n12376                                I Hope   \n12547                                 Hawai   \n12884                    pride.is.the.devil   \n\n                                  artist spotify_track_id spotify_artist_id  \\\n74                                   REM              NaN               NaN   \n84                            Joe Thomas              NaN               NaN   \n124                                 Pink              NaN               NaN   \n392                          Limp Bizkit              NaN               NaN   \n399                SoulDecision & Thrust              NaN               NaN   \n...                                  ...              ...               ...   \n12149                        H.E.R. & YG              NaN               NaN   \n12191  Blake Shelton Duet & Gwen Stefani              NaN               NaN   \n12376       Gabby Barrett & Charlie Puth              NaN               NaN   \n12547                Maluma & The Weeknd              NaN               NaN   \n12884                 J. Cole & Lil Baby              NaN               NaN   \n\n      spotify_album_id  spotify_track_popularity spotify_track_explicit  \\\n74                 NaN                       NaN                    NaN   \n84                 NaN                       NaN                    NaN   \n124                NaN                       NaN                    NaN   \n392                NaN                       NaN                    NaN   \n399                NaN                       NaN                    NaN   \n...                ...                       ...                    ...   \n12149              NaN                       NaN                    NaN   \n12191              NaN                       NaN                    NaN   \n12376              NaN                       NaN                    NaN   \n12547              NaN                       NaN                    NaN   \n12884              NaN                       NaN                    NaN   \n\n       spotify_track_duration_ms spotify_track_album_release_date  \\\n74                           NaN                              NaN   \n84                           NaN                              NaN   \n124                          NaN                              NaN   \n392                          NaN                              NaN   \n399                          NaN                              NaN   \n...                          ...                              ...   \n12149                        NaN                              NaN   \n12191                        NaN                              NaN   \n12376                        NaN                              NaN   \n12547                        NaN                              NaN   \n12884                        NaN                              NaN   \n\n      spotify_track_album_release_date_precision  \n74                                           NaN  \n84                                           NaN  \n124                                          NaN  \n392                                          NaN  \n399                                          NaN  \n...                                          ...  \n12149                                        NaN  \n12191                                        NaN  \n12376                                        NaN  \n12547                                        NaN  \n12884                                        NaN  \n\n[151 rows x 10 columns]",
      "text/html": "<div>\n<style scoped>\n    .dataframe tbody tr th:only-of-type {\n        vertical-align: middle;\n    }\n\n    .dataframe tbody tr th {\n        vertical-align: top;\n    }\n\n    .dataframe thead th {\n        text-align: right;\n    }\n</style>\n<table border=\"1\" class=\"dataframe\">\n  <thead>\n    <tr style=\"text-align: right;\">\n      <th></th>\n      <th>song</th>\n      <th>artist</th>\n      <th>spotify_track_id</th>\n      <th>spotify_artist_id</th>\n      <th>spotify_album_id</th>\n      <th>spotify_track_popularity</th>\n      <th>spotify_track_explicit</th>\n      <th>spotify_track_duration_ms</th>\n      <th>spotify_track_album_release_date</th>\n      <th>spotify_track_album_release_date_precision</th>\n    </tr>\n  </thead>\n  <tbody>\n    <tr>\n      <th>74</th>\n      <td>The Great Beyond</td>\n      <td>REM</td>\n      <td>NaN</td>\n      <td>NaN</td>\n      <td>NaN</td>\n      <td>NaN</td>\n      <td>NaN</td>\n      <td>NaN</td>\n      <td>NaN</td>\n      <td>NaN</td>\n    </tr>\n    <tr>\n      <th>84</th>\n      <td>I Wanna Know</td>\n      <td>Joe Thomas</td>\n      <td>NaN</td>\n      <td>NaN</td>\n      <td>NaN</td>\n      <td>NaN</td>\n      <td>NaN</td>\n      <td>NaN</td>\n      <td>NaN</td>\n      <td>NaN</td>\n    </tr>\n    <tr>\n      <th>124</th>\n      <td>There You Go</td>\n      <td>Pink</td>\n      <td>NaN</td>\n      <td>NaN</td>\n      <td>NaN</td>\n      <td>NaN</td>\n      <td>NaN</td>\n      <td>NaN</td>\n      <td>NaN</td>\n      <td>NaN</td>\n    </tr>\n    <tr>\n      <th>392</th>\n      <td>Take A Look Around (Theme From MI 2)</td>\n      <td>Limp Bizkit</td>\n      <td>NaN</td>\n      <td>NaN</td>\n      <td>NaN</td>\n      <td>NaN</td>\n      <td>NaN</td>\n      <td>NaN</td>\n      <td>NaN</td>\n      <td>NaN</td>\n    </tr>\n    <tr>\n      <th>399</th>\n      <td>Faded</td>\n      <td>SoulDecision &amp; Thrust</td>\n      <td>NaN</td>\n      <td>NaN</td>\n      <td>NaN</td>\n      <td>NaN</td>\n      <td>NaN</td>\n      <td>NaN</td>\n      <td>NaN</td>\n      <td>NaN</td>\n    </tr>\n    <tr>\n      <th>...</th>\n      <td>...</td>\n      <td>...</td>\n      <td>...</td>\n      <td>...</td>\n      <td>...</td>\n      <td>...</td>\n      <td>...</td>\n      <td>...</td>\n      <td>...</td>\n      <td>...</td>\n    </tr>\n    <tr>\n      <th>12149</th>\n      <td>Slide</td>\n      <td>H.E.R. &amp; YG</td>\n      <td>NaN</td>\n      <td>NaN</td>\n      <td>NaN</td>\n      <td>NaN</td>\n      <td>NaN</td>\n      <td>NaN</td>\n      <td>NaN</td>\n      <td>NaN</td>\n    </tr>\n    <tr>\n      <th>12191</th>\n      <td>Nobody But You</td>\n      <td>Blake Shelton Duet &amp; Gwen Stefani</td>\n      <td>NaN</td>\n      <td>NaN</td>\n      <td>NaN</td>\n      <td>NaN</td>\n      <td>NaN</td>\n      <td>NaN</td>\n      <td>NaN</td>\n      <td>NaN</td>\n    </tr>\n    <tr>\n      <th>12376</th>\n      <td>I Hope</td>\n      <td>Gabby Barrett &amp; Charlie Puth</td>\n      <td>NaN</td>\n      <td>NaN</td>\n      <td>NaN</td>\n      <td>NaN</td>\n      <td>NaN</td>\n      <td>NaN</td>\n      <td>NaN</td>\n      <td>NaN</td>\n    </tr>\n    <tr>\n      <th>12547</th>\n      <td>Hawai</td>\n      <td>Maluma &amp; The Weeknd</td>\n      <td>NaN</td>\n      <td>NaN</td>\n      <td>NaN</td>\n      <td>NaN</td>\n      <td>NaN</td>\n      <td>NaN</td>\n      <td>NaN</td>\n      <td>NaN</td>\n    </tr>\n    <tr>\n      <th>12884</th>\n      <td>pride.is.the.devil</td>\n      <td>J. Cole &amp; Lil Baby</td>\n      <td>NaN</td>\n      <td>NaN</td>\n      <td>NaN</td>\n      <td>NaN</td>\n      <td>NaN</td>\n      <td>NaN</td>\n      <td>NaN</td>\n      <td>NaN</td>\n    </tr>\n  </tbody>\n</table>\n<p>151 rows × 10 columns</p>\n</div>"
     },
     "execution_count": 48,
     "metadata": {},
     "output_type": "execute_result"
    }
   ],
   "source": [
    "song_artist_df_3 = song_artist_df_2[song_artist_df_2[\"spotify_track_id\"].isnull()]\n",
    "song_artist_df_3"
   ],
   "metadata": {
    "collapsed": false,
    "pycharm": {
     "name": "#%%\n"
    }
   }
  },
  {
   "cell_type": "code",
   "execution_count": 81,
   "outputs": [
    {
     "name": "stderr",
     "output_type": "stream",
     "text": [
      "/Users/pez/.conda/envs/dataspell-2/lib/python3.9/site-packages/pandas/core/indexing.py:1817: SettingWithCopyWarning: \n",
      "A value is trying to be set on a copy of a slice from a DataFrame.\n",
      "Try using .loc[row_indexer,col_indexer] = value instead\n",
      "\n",
      "See the caveats in the documentation: https://pandas.pydata.org/pandas-docs/stable/user_guide/indexing.html#returning-a-view-versus-a-copy\n",
      "  self._setitem_single_column(loc, value, pi)\n"
     ]
    },
    {
     "name": "stdout",
     "output_type": "stream",
     "text": [
      "status: 15.23 (23 / 151\n",
      "status: 23.18 (35 / 151\n",
      "status: 33.77 (51 / 151\n",
      "status: 35.10 (53 / 151\n",
      "status: 48.34 (73 / 151\n",
      "status: 50.33 (76 / 151\n"
     ]
    },
    {
     "data": {
      "text/plain": "                                       song  \\\n74                         The Great Beyond   \n84                             I Wanna Know   \n124                            There You Go   \n392    Take A Look Around (Theme From MI 2)   \n399                                   Faded   \n...                                     ...   \n12149                                 Slide   \n12191                        Nobody But You   \n12376                                I Hope   \n12547                                 Hawai   \n12884                    pride.is.the.devil   \n\n                                  artist        spotify_track_id  \\\n74                                   REM  7w57O4o0xCTn9YpKuaPZDd   \n84                            Joe Thomas                     NaN   \n124                                 Pink  6dJ2mSRaKE9ctYw9qWNGWQ   \n392                          Limp Bizkit  2avKuMN2QXkaG9vvHa2JLt   \n399                SoulDecision & Thrust  4WP1XJnAUkZfTtMdZTaN9k   \n...                                  ...                     ...   \n12149                        H.E.R. & YG  6MO2bfLHKykUgCChFdw91H   \n12191  Blake Shelton Duet & Gwen Stefani  5M8goiFYynmNxhueYW6grR   \n12376       Gabby Barrett & Charlie Puth  23T0OX7QOiIUFShSzbJ5Uo   \n12547                Maluma & The Weeknd  1yoMvmasuxZfqHEipJhRbp   \n12884                 J. Cole & Lil Baby                     NaN   \n\n            spotify_artist_id        spotify_album_id  \\\n74     4KWTAlx2RvbpseOGMEmROg  3UvVHQ31PhSMtI2GIS91Lz   \n84                        NaN                     NaN   \n124    1KCSPY1glIKqW2TotWuXOR  6PSOOxrBZuoLe88zn0wGQr   \n392    165ZgPlLkK7bf5bDoFc6Sb  5mi7FKaWE5CtcOjdyxScA7   \n399    6hYrBYtoVGArYJcqvYxN4r  125budnbeWLmbMmMR6jV4t   \n...                       ...                     ...   \n12149  3Y7RZ31TRPVadSFVy1o8os  7LMJKPGcBZjZf6AEnTBS2t   \n12191  1UTPBmNbXNTittyMJrNkvw  4Kd33JPxTOcjTM29FrKoyT   \n12376  6Iz3eq2aQGFf7TbGT2iahL  4Iqfx63CZhFGGIHiAvLxXY   \n12547  1r4hJ1h58CWwUQe3MxPuau  0p2yf6DucEgvj8Uk8KXJJv   \n12884                     NaN                     NaN   \n\n       spotify_track_popularity spotify_track_explicit  \\\n74                         54.0                  False   \n84                          NaN                    NaN   \n124                        59.0                  False   \n392                        76.0                  False   \n399                        53.0                  False   \n...                         ...                    ...   \n12149                      76.0                  False   \n12191                      70.0                  False   \n12376                      79.0                  False   \n12547                      81.0                  False   \n12884                       NaN                    NaN   \n\n       spotify_track_duration_ms spotify_track_album_release_date  \\\n74                      307000.0                       2003-01-01   \n84                           NaN                              NaN   \n124                     202800.0                       2000-04-04   \n392                     321040.0                       2000-10-17   \n399                     208666.0                             2000   \n...                          ...                              ...   \n12149                   296011.0                       2020-01-17   \n12191                   194866.0                       2019-12-13   \n12376                   210772.0                       2020-06-19   \n12547                   199112.0                       2020-08-21   \n12884                        NaN                              NaN   \n\n      spotify_track_album_release_date_precision  \n74                                           day  \n84                                           NaN  \n124                                          day  \n392                                          day  \n399                                         year  \n...                                          ...  \n12149                                        day  \n12191                                        day  \n12376                                        day  \n12547                                        day  \n12884                                        NaN  \n\n[151 rows x 10 columns]",
      "text/html": "<div>\n<style scoped>\n    .dataframe tbody tr th:only-of-type {\n        vertical-align: middle;\n    }\n\n    .dataframe tbody tr th {\n        vertical-align: top;\n    }\n\n    .dataframe thead th {\n        text-align: right;\n    }\n</style>\n<table border=\"1\" class=\"dataframe\">\n  <thead>\n    <tr style=\"text-align: right;\">\n      <th></th>\n      <th>song</th>\n      <th>artist</th>\n      <th>spotify_track_id</th>\n      <th>spotify_artist_id</th>\n      <th>spotify_album_id</th>\n      <th>spotify_track_popularity</th>\n      <th>spotify_track_explicit</th>\n      <th>spotify_track_duration_ms</th>\n      <th>spotify_track_album_release_date</th>\n      <th>spotify_track_album_release_date_precision</th>\n    </tr>\n  </thead>\n  <tbody>\n    <tr>\n      <th>74</th>\n      <td>The Great Beyond</td>\n      <td>REM</td>\n      <td>7w57O4o0xCTn9YpKuaPZDd</td>\n      <td>4KWTAlx2RvbpseOGMEmROg</td>\n      <td>3UvVHQ31PhSMtI2GIS91Lz</td>\n      <td>54.0</td>\n      <td>False</td>\n      <td>307000.0</td>\n      <td>2003-01-01</td>\n      <td>day</td>\n    </tr>\n    <tr>\n      <th>84</th>\n      <td>I Wanna Know</td>\n      <td>Joe Thomas</td>\n      <td>NaN</td>\n      <td>NaN</td>\n      <td>NaN</td>\n      <td>NaN</td>\n      <td>NaN</td>\n      <td>NaN</td>\n      <td>NaN</td>\n      <td>NaN</td>\n    </tr>\n    <tr>\n      <th>124</th>\n      <td>There You Go</td>\n      <td>Pink</td>\n      <td>6dJ2mSRaKE9ctYw9qWNGWQ</td>\n      <td>1KCSPY1glIKqW2TotWuXOR</td>\n      <td>6PSOOxrBZuoLe88zn0wGQr</td>\n      <td>59.0</td>\n      <td>False</td>\n      <td>202800.0</td>\n      <td>2000-04-04</td>\n      <td>day</td>\n    </tr>\n    <tr>\n      <th>392</th>\n      <td>Take A Look Around (Theme From MI 2)</td>\n      <td>Limp Bizkit</td>\n      <td>2avKuMN2QXkaG9vvHa2JLt</td>\n      <td>165ZgPlLkK7bf5bDoFc6Sb</td>\n      <td>5mi7FKaWE5CtcOjdyxScA7</td>\n      <td>76.0</td>\n      <td>False</td>\n      <td>321040.0</td>\n      <td>2000-10-17</td>\n      <td>day</td>\n    </tr>\n    <tr>\n      <th>399</th>\n      <td>Faded</td>\n      <td>SoulDecision &amp; Thrust</td>\n      <td>4WP1XJnAUkZfTtMdZTaN9k</td>\n      <td>6hYrBYtoVGArYJcqvYxN4r</td>\n      <td>125budnbeWLmbMmMR6jV4t</td>\n      <td>53.0</td>\n      <td>False</td>\n      <td>208666.0</td>\n      <td>2000</td>\n      <td>year</td>\n    </tr>\n    <tr>\n      <th>...</th>\n      <td>...</td>\n      <td>...</td>\n      <td>...</td>\n      <td>...</td>\n      <td>...</td>\n      <td>...</td>\n      <td>...</td>\n      <td>...</td>\n      <td>...</td>\n      <td>...</td>\n    </tr>\n    <tr>\n      <th>12149</th>\n      <td>Slide</td>\n      <td>H.E.R. &amp; YG</td>\n      <td>6MO2bfLHKykUgCChFdw91H</td>\n      <td>3Y7RZ31TRPVadSFVy1o8os</td>\n      <td>7LMJKPGcBZjZf6AEnTBS2t</td>\n      <td>76.0</td>\n      <td>False</td>\n      <td>296011.0</td>\n      <td>2020-01-17</td>\n      <td>day</td>\n    </tr>\n    <tr>\n      <th>12191</th>\n      <td>Nobody But You</td>\n      <td>Blake Shelton Duet &amp; Gwen Stefani</td>\n      <td>5M8goiFYynmNxhueYW6grR</td>\n      <td>1UTPBmNbXNTittyMJrNkvw</td>\n      <td>4Kd33JPxTOcjTM29FrKoyT</td>\n      <td>70.0</td>\n      <td>False</td>\n      <td>194866.0</td>\n      <td>2019-12-13</td>\n      <td>day</td>\n    </tr>\n    <tr>\n      <th>12376</th>\n      <td>I Hope</td>\n      <td>Gabby Barrett &amp; Charlie Puth</td>\n      <td>23T0OX7QOiIUFShSzbJ5Uo</td>\n      <td>6Iz3eq2aQGFf7TbGT2iahL</td>\n      <td>4Iqfx63CZhFGGIHiAvLxXY</td>\n      <td>79.0</td>\n      <td>False</td>\n      <td>210772.0</td>\n      <td>2020-06-19</td>\n      <td>day</td>\n    </tr>\n    <tr>\n      <th>12547</th>\n      <td>Hawai</td>\n      <td>Maluma &amp; The Weeknd</td>\n      <td>1yoMvmasuxZfqHEipJhRbp</td>\n      <td>1r4hJ1h58CWwUQe3MxPuau</td>\n      <td>0p2yf6DucEgvj8Uk8KXJJv</td>\n      <td>81.0</td>\n      <td>False</td>\n      <td>199112.0</td>\n      <td>2020-08-21</td>\n      <td>day</td>\n    </tr>\n    <tr>\n      <th>12884</th>\n      <td>pride.is.the.devil</td>\n      <td>J. Cole &amp; Lil Baby</td>\n      <td>NaN</td>\n      <td>NaN</td>\n      <td>NaN</td>\n      <td>NaN</td>\n      <td>NaN</td>\n      <td>NaN</td>\n      <td>NaN</td>\n      <td>NaN</td>\n    </tr>\n  </tbody>\n</table>\n<p>151 rows × 10 columns</p>\n</div>"
     },
     "execution_count": 81,
     "metadata": {},
     "output_type": "execute_result"
    }
   ],
   "source": [
    "import re\n",
    "\n",
    "\n",
    "def best_match(result, artist, track):\n",
    "    artist = artist.replace(\".\", \"\")\n",
    "    track = track.replace(\".\", \"\")\n",
    "    for t in result[\"tracks\"][\"items\"]:\n",
    "        t_artist = t[\"artists\"][0][\"name\"].replace(\".\", \"\")\n",
    "        t_track = t[\"name\"].replace(\".\", \"\")\n",
    "        if \"karaoke\" in t_artist.lower() or \"karaoke\" in t_track.lower():\n",
    "            continue\n",
    "        if \"version\" in t_track.lower() and not \"version\" in track.lower():\n",
    "            continue\n",
    "        artist_fuzz_score = fuzz.token_set_ratio(artist, t_artist)\n",
    "        track_fuzz_score = fuzz.token_set_ratio(track, t_track)\n",
    "        compound_fuzz_score = fuzz.token_set_ratio(f\"{artist} {track}\", f\"{t_artist} {t_track}\")\n",
    "        compound_ratio_fuzz_score = fuzz.ratio(f\"{artist} {track}\", f\"{t_artist} {t_track}\")\n",
    "        # print(artist, t_artist, artist_fuzz_score, track, t_track, track_fuzz_score, compound_fuzz_score, compound_ratio_fuzz_score)\n",
    "        if (artist_fuzz_score > 85 and track_fuzz_score > 85) or compound_fuzz_score > 90 or compound_ratio_fuzz_score > 90:\n",
    "            return t\n",
    "    return None\n",
    "\n",
    "\n",
    "def fetch_track(artist, track):\n",
    "    artists = [artist]\n",
    "    if \",\" in artist:\n",
    "        artists += artist.split(\",\")\n",
    "    if artist.startswith(\"The \"):\n",
    "        artists.append(artist[4:])\n",
    "    for artist in artists:\n",
    "        if \" & \" in artist:\n",
    "            artists += artist.split(\"&\")\n",
    "        try:\n",
    "            # print(artist, track)\n",
    "            artist_ = artist\n",
    "            track_ =  re.sub(\"[\\(\\[].*?[\\)\\]]\", \"\", track)\n",
    "            result = spotify.search(f\"track:{track} artist:{artist}\")\n",
    "            sleep(.25)\n",
    "            best_match_ = best_match(result, artist, track)\n",
    "            if result[\"tracks\"][\"total\"] == 0 or not best_match_:\n",
    "                artist_, _ = resolve_names(artist, track)\n",
    "                result = spotify.search(f\"track:{track} artist:{artist_}\")\n",
    "                best_match_ = best_match(result, artist, track)\n",
    "                sleep(.25)\n",
    "            if result[\"tracks\"][\"total\"] == 0 or not best_match_:\n",
    "                result = spotify.search(f\"{artist} {track}\")\n",
    "                best_match_ = best_match(result, artist, track)\n",
    "                sleep(.25)\n",
    "            if result[\"tracks\"][\"total\"] == 0 or not best_match_:\n",
    "                result = spotify.search(f\"{artist_} {track}\")\n",
    "                best_match_ = best_match(result, artist, track)\n",
    "                sleep(.25)\n",
    "            if result[\"tracks\"][\"total\"] == 0 or not best_match_:\n",
    "                result = spotify.search(f\"{artist} {track_}\")\n",
    "                best_match_ = best_match(result, artist, track)\n",
    "                sleep(.25)\n",
    "            if result[\"tracks\"][\"total\"] == 0 or not best_match_:\n",
    "                artist_ = re.sub(\"'.*?'\", \"\", artist)\n",
    "                result = spotify.search(f\"{artist_} {track}\")\n",
    "                best_match_ = best_match(result, artist_, track)\n",
    "                sleep(.25)\n",
    "            if result[\"tracks\"][\"total\"] == 0 or not best_match_:\n",
    "                continue\n",
    "        except ReadTimeout:\n",
    "            print(\"spotify time out.\")\n",
    "            continue\n",
    "        if best_match_:\n",
    "            return best_match_\n",
    "    return None\n",
    "\n",
    "\n",
    "# fetch_track(\"Limp Bizkit\", \"Take A Look Around (Theme From MI 2)\")\n",
    "# fetch_track(\"Ludacris & Shauna\", \"What's Your Fantasy\")\n",
    "# fetch_track(\"ATC\", \"Around The World (La La La La La)\")\n",
    "# fetch_track(\"Joe Thomas & Mystikal\", \"Stutter\")\n",
    "# fetch_track(\"QB Finest, Nas & Bravehearts\", \"Oochie Wally\")\n",
    "# fetch_track(\"Missy 'Misdemeanor' Elliott\", \"Get Ur Freak On\")\n",
    "# fetch_track(\"Christina Aguilera, Lil' Kim, Mya & Pink\", \"Lady Marmalade (Voulez-Vous Coucher Aver Moi Ce Soir?)\")\n",
    "\n",
    "song_artist_df_3 = with_spotify_track_metadata(song_artist_df_3)\n",
    "song_artist_df_3"
   ],
   "metadata": {
    "collapsed": false,
    "pycharm": {
     "name": "#%%\n"
    }
   }
  },
  {
   "cell_type": "code",
   "execution_count": 82,
   "outputs": [
    {
     "data": {
      "text/plain": "                               song                        artist  \\\n84                     I Wanna Know                    Joe Thomas   \n532                  He Loves U Not                         Dream   \n637             So In Love With Two                       Micaela   \n673                You Make Me Sick                          Pink   \n777                        Bizounce                        Olivia   \n...                             ...                           ...   \n10117  Juju On Dat Beat (TZ Anthem)  Zay Hilfiger & Zayion McCall   \n10286               How Far I'll Go                  Alessia Cara   \n11342         I'll Never Love Again    Lady Gaga & Bradley Cooper   \n11739                        Ran$om                     Lil Tecca   \n12884            pride.is.the.devil            J. Cole & Lil Baby   \n\n      spotify_track_id spotify_artist_id spotify_album_id  \\\n84                 NaN               NaN              NaN   \n532                NaN               NaN              NaN   \n637                NaN               NaN              NaN   \n673                NaN               NaN              NaN   \n777                NaN               NaN              NaN   \n...                ...               ...              ...   \n10117              NaN               NaN              NaN   \n10286              NaN               NaN              NaN   \n11342              NaN               NaN              NaN   \n11739              NaN               NaN              NaN   \n12884              NaN               NaN              NaN   \n\n       spotify_track_popularity spotify_track_explicit  \\\n84                          NaN                    NaN   \n532                         NaN                    NaN   \n637                         NaN                    NaN   \n673                         NaN                    NaN   \n777                         NaN                    NaN   \n...                         ...                    ...   \n10117                       NaN                    NaN   \n10286                       NaN                    NaN   \n11342                       NaN                    NaN   \n11739                       NaN                    NaN   \n12884                       NaN                    NaN   \n\n       spotify_track_duration_ms spotify_track_album_release_date  \\\n84                           NaN                              NaN   \n532                          NaN                              NaN   \n637                          NaN                              NaN   \n673                          NaN                              NaN   \n777                          NaN                              NaN   \n...                          ...                              ...   \n10117                        NaN                              NaN   \n10286                        NaN                              NaN   \n11342                        NaN                              NaN   \n11739                        NaN                              NaN   \n12884                        NaN                              NaN   \n\n      spotify_track_album_release_date_precision  \n84                                           NaN  \n532                                          NaN  \n637                                          NaN  \n673                                          NaN  \n777                                          NaN  \n...                                          ...  \n10117                                        NaN  \n10286                                        NaN  \n11342                                        NaN  \n11739                                        NaN  \n12884                                        NaN  \n\n[63 rows x 10 columns]",
      "text/html": "<div>\n<style scoped>\n    .dataframe tbody tr th:only-of-type {\n        vertical-align: middle;\n    }\n\n    .dataframe tbody tr th {\n        vertical-align: top;\n    }\n\n    .dataframe thead th {\n        text-align: right;\n    }\n</style>\n<table border=\"1\" class=\"dataframe\">\n  <thead>\n    <tr style=\"text-align: right;\">\n      <th></th>\n      <th>song</th>\n      <th>artist</th>\n      <th>spotify_track_id</th>\n      <th>spotify_artist_id</th>\n      <th>spotify_album_id</th>\n      <th>spotify_track_popularity</th>\n      <th>spotify_track_explicit</th>\n      <th>spotify_track_duration_ms</th>\n      <th>spotify_track_album_release_date</th>\n      <th>spotify_track_album_release_date_precision</th>\n    </tr>\n  </thead>\n  <tbody>\n    <tr>\n      <th>84</th>\n      <td>I Wanna Know</td>\n      <td>Joe Thomas</td>\n      <td>NaN</td>\n      <td>NaN</td>\n      <td>NaN</td>\n      <td>NaN</td>\n      <td>NaN</td>\n      <td>NaN</td>\n      <td>NaN</td>\n      <td>NaN</td>\n    </tr>\n    <tr>\n      <th>532</th>\n      <td>He Loves U Not</td>\n      <td>Dream</td>\n      <td>NaN</td>\n      <td>NaN</td>\n      <td>NaN</td>\n      <td>NaN</td>\n      <td>NaN</td>\n      <td>NaN</td>\n      <td>NaN</td>\n      <td>NaN</td>\n    </tr>\n    <tr>\n      <th>637</th>\n      <td>So In Love With Two</td>\n      <td>Micaela</td>\n      <td>NaN</td>\n      <td>NaN</td>\n      <td>NaN</td>\n      <td>NaN</td>\n      <td>NaN</td>\n      <td>NaN</td>\n      <td>NaN</td>\n      <td>NaN</td>\n    </tr>\n    <tr>\n      <th>673</th>\n      <td>You Make Me Sick</td>\n      <td>Pink</td>\n      <td>NaN</td>\n      <td>NaN</td>\n      <td>NaN</td>\n      <td>NaN</td>\n      <td>NaN</td>\n      <td>NaN</td>\n      <td>NaN</td>\n      <td>NaN</td>\n    </tr>\n    <tr>\n      <th>777</th>\n      <td>Bizounce</td>\n      <td>Olivia</td>\n      <td>NaN</td>\n      <td>NaN</td>\n      <td>NaN</td>\n      <td>NaN</td>\n      <td>NaN</td>\n      <td>NaN</td>\n      <td>NaN</td>\n      <td>NaN</td>\n    </tr>\n    <tr>\n      <th>...</th>\n      <td>...</td>\n      <td>...</td>\n      <td>...</td>\n      <td>...</td>\n      <td>...</td>\n      <td>...</td>\n      <td>...</td>\n      <td>...</td>\n      <td>...</td>\n      <td>...</td>\n    </tr>\n    <tr>\n      <th>10117</th>\n      <td>Juju On Dat Beat (TZ Anthem)</td>\n      <td>Zay Hilfiger &amp; Zayion McCall</td>\n      <td>NaN</td>\n      <td>NaN</td>\n      <td>NaN</td>\n      <td>NaN</td>\n      <td>NaN</td>\n      <td>NaN</td>\n      <td>NaN</td>\n      <td>NaN</td>\n    </tr>\n    <tr>\n      <th>10286</th>\n      <td>How Far I'll Go</td>\n      <td>Alessia Cara</td>\n      <td>NaN</td>\n      <td>NaN</td>\n      <td>NaN</td>\n      <td>NaN</td>\n      <td>NaN</td>\n      <td>NaN</td>\n      <td>NaN</td>\n      <td>NaN</td>\n    </tr>\n    <tr>\n      <th>11342</th>\n      <td>I'll Never Love Again</td>\n      <td>Lady Gaga &amp; Bradley Cooper</td>\n      <td>NaN</td>\n      <td>NaN</td>\n      <td>NaN</td>\n      <td>NaN</td>\n      <td>NaN</td>\n      <td>NaN</td>\n      <td>NaN</td>\n      <td>NaN</td>\n    </tr>\n    <tr>\n      <th>11739</th>\n      <td>Ran$om</td>\n      <td>Lil Tecca</td>\n      <td>NaN</td>\n      <td>NaN</td>\n      <td>NaN</td>\n      <td>NaN</td>\n      <td>NaN</td>\n      <td>NaN</td>\n      <td>NaN</td>\n      <td>NaN</td>\n    </tr>\n    <tr>\n      <th>12884</th>\n      <td>pride.is.the.devil</td>\n      <td>J. Cole &amp; Lil Baby</td>\n      <td>NaN</td>\n      <td>NaN</td>\n      <td>NaN</td>\n      <td>NaN</td>\n      <td>NaN</td>\n      <td>NaN</td>\n      <td>NaN</td>\n      <td>NaN</td>\n    </tr>\n  </tbody>\n</table>\n<p>63 rows × 10 columns</p>\n</div>"
     },
     "execution_count": 82,
     "metadata": {},
     "output_type": "execute_result"
    }
   ],
   "source": [
    "song_artist_df_4 = song_artist_df_3[song_artist_df_3[\"spotify_track_id\"].isnull()]\n",
    "song_artist_df_4"
   ],
   "metadata": {
    "collapsed": false,
    "pycharm": {
     "name": "#%%\n"
    }
   }
  },
  {
   "cell_type": "code",
   "execution_count": 84,
   "outputs": [
    {
     "name": "stdout",
     "output_type": "stream",
     "text": [
      "T-Pain & Mike Jones Hei$enberg 30 I'm In Love with A Stripper Roller Coaster 29 23 11\n",
      "T-Pain & Mike Jones Drew DeLeon 21 I'm In Love with A Stripper Tina 13 16 10\n",
      "T-Pain & Mike Jones Jyourz 17 I'm In Love with A Stripper Move 19 14 17\n",
      "T-Pain & Mike Jones Queso Tone 22 I'm In Love with A Stripper Dance Like You Work at the Club 41 37 31\n",
      "T-Pain & Mike Jones Queso Tone 22 I'm In Love with A Stripper Dance Like You Work at the Club 41 37 31\n",
      "T-Pain & Mike Jones Queso Tone 22 I'm In Love with A Stripper Dance Like You Work at the Club 41 37 31\n",
      "T-Pain & Mike Jones Queso Tone 22 I'm In Love with A Stripper Dance Like You Work at the Club 41 37 31\n",
      "T-Pain & Mike Jones Queso Tone 22 I'm In Love with A Stripper Dance Like You Work at the Club 41 37 31\n",
      "T-Pain & Mike Jones Hei$enberg 30 I'm In Love with A Stripper Roller Coaster - Radio Edit 31 22 14\n",
      "T-Pain  Hei$enberg 12 I'm In Love with A Stripper Roller Coaster 29 27 13\n",
      "T-Pain  Drew DeLeon 24 I'm In Love with A Stripper Tina 13 20 12\n",
      "T-Pain  Jyourz 0 I'm In Love with A Stripper Move 19 18 17\n",
      "T-Pain  Queso Tone 25 I'm In Love with A Stripper Dance Like You Work at the Club 41 34 26\n",
      "T-Pain  Queso Tone 25 I'm In Love with A Stripper Dance Like You Work at the Club 41 34 26\n",
      "T-Pain  Queso Tone 25 I'm In Love with A Stripper Dance Like You Work at the Club 41 34 26\n",
      "T-Pain  Queso Tone 25 I'm In Love with A Stripper Dance Like You Work at the Club 41 34 26\n",
      "T-Pain  Queso Tone 25 I'm In Love with A Stripper Dance Like You Work at the Club 41 34 26\n",
      "T-Pain  Hei$enberg 12 I'm In Love with A Stripper Roller Coaster - Radio Edit 31 26 16\n",
      "T-Pain  Hei$enberg 12 I'm In Love with A Stripper Roller Coaster 29 27 13\n",
      "T-Pain  Drew DeLeon 24 I'm In Love with A Stripper Tina 13 20 12\n",
      "T-Pain  Jyourz 0 I'm In Love with A Stripper Move 19 18 17\n",
      "T-Pain  Queso Tone 25 I'm In Love with A Stripper Dance Like You Work at the Club 41 34 26\n",
      "T-Pain  Queso Tone 25 I'm In Love with A Stripper Dance Like You Work at the Club 41 34 26\n",
      "T-Pain  Queso Tone 25 I'm In Love with A Stripper Dance Like You Work at the Club 41 34 26\n",
      "T-Pain  Queso Tone 25 I'm In Love with A Stripper Dance Like You Work at the Club 41 34 26\n",
      "T-Pain  Queso Tone 25 I'm In Love with A Stripper Dance Like You Work at the Club 41 34 26\n",
      "T-Pain  Hei$enberg 12 I'm In Love with A Stripper Roller Coaster - Radio Edit 31 26 16\n",
      "T-Pain  Hei$enberg 12 I'm In Love with A Stripper Roller Coaster 29 27 13\n",
      "T-Pain  Drew DeLeon 24 I'm In Love with A Stripper Tina 13 20 12\n",
      "T-Pain  Jyourz 0 I'm In Love with A Stripper Move 19 18 17\n",
      "T-Pain  Queso Tone 25 I'm In Love with A Stripper Dance Like You Work at the Club 41 34 26\n",
      "T-Pain  Queso Tone 25 I'm In Love with A Stripper Dance Like You Work at the Club 41 34 26\n",
      "T-Pain  Queso Tone 25 I'm In Love with A Stripper Dance Like You Work at the Club 41 34 26\n",
      "T-Pain  Queso Tone 25 I'm In Love with A Stripper Dance Like You Work at the Club 41 34 26\n",
      "T-Pain  Queso Tone 25 I'm In Love with A Stripper Dance Like You Work at the Club 41 34 26\n",
      "T-Pain  Hei$enberg 12 I'm In Love with A Stripper Roller Coaster - Radio Edit 31 26 16\n",
      "T-Pain  Hei$enberg 12 I'm In Love with A Stripper Roller Coaster 29 27 13\n",
      "T-Pain  Drew DeLeon 24 I'm In Love with A Stripper Tina 13 20 12\n",
      "T-Pain  Jyourz 0 I'm In Love with A Stripper Move 19 18 17\n",
      "T-Pain  Queso Tone 25 I'm In Love with A Stripper Dance Like You Work at the Club 41 34 26\n",
      "T-Pain  Queso Tone 25 I'm In Love with A Stripper Dance Like You Work at the Club 41 34 26\n",
      "T-Pain  Queso Tone 25 I'm In Love with A Stripper Dance Like You Work at the Club 41 34 26\n",
      "T-Pain  Queso Tone 25 I'm In Love with A Stripper Dance Like You Work at the Club 41 34 26\n",
      "T-Pain  Queso Tone 25 I'm In Love with A Stripper Dance Like You Work at the Club 41 34 26\n",
      "T-Pain  Hei$enberg 12 I'm In Love with A Stripper Roller Coaster - Radio Edit 31 26 16\n",
      " Mike Jones T-Pain 25 I'm In Love with A Stripper I'm N Luv (Wit a Stripper) (feat Mike Jones) 72 79 24\n",
      " Mike Jones T-Pain 25 I'm In Love with A Stripper I'm N Luv (Wit a Stripper) (feat Mike Jones) 72 79 24\n",
      " Mike Jones T-Pain 25 I'm In Love with A Stripper I'm N Luv (Wit A Stripper) - iSoul Clear Heels Remix 68 54 49\n",
      " Mike Jones Hei$enberg 40 I'm In Love with A Stripper Roller Coaster 29 22 16\n",
      " Mike Jones Drew DeLeon 29 I'm In Love with A Stripper Tina 13 15 22\n",
      " Mike Jones Jyourz 25 I'm In Love with A Stripper Move 19 16 20\n",
      " Mike Jones Queso Tone 30 I'm In Love with A Stripper Dance Like You Work at the Club 41 40 27\n",
      " Mike Jones Queso Tone 30 I'm In Love with A Stripper Dance Like You Work at the Club 41 40 27\n",
      " Mike Jones Queso Tone 30 I'm In Love with A Stripper Dance Like You Work at the Club 41 40 27\n",
      " Mike Jones Queso Tone 30 I'm In Love with A Stripper Dance Like You Work at the Club 41 40 27\n",
      " Mike Jones Queso Tone 30 I'm In Love with A Stripper Dance Like You Work at the Club 41 40 27\n",
      " Mike Jones Hei$enberg 40 I'm In Love with A Stripper Roller Coaster - Radio Edit 31 24 13\n",
      " Mike Jones T-Pain 25 I'm In Love with A Stripper I'm N Luv (Wit a Stripper) (feat Mike Jones) 72 79 24\n",
      " Mike Jones T-Pain 25 I'm In Love with A Stripper I'm N Luv (Wit a Stripper) (feat Mike Jones) 72 79 24\n",
      " Mike Jones T-Pain 25 I'm In Love with A Stripper I'm N Luv (Wit A Stripper) - iSoul Clear Heels Remix 68 54 49\n",
      " Mike Jones T-Pain 25 I'm In Love with A Stripper I'm N Luv (Wit a Stripper) (feat Mike Jones) 72 79 24\n",
      " Mike Jones T-Pain 25 I'm In Love with A Stripper I'm N Luv (Wit a Stripper) (feat Mike Jones) 72 79 24\n",
      " Mike Jones T-Pain 25 I'm In Love with A Stripper I'm N Luv (Wit A Stripper) - iSoul Clear Heels Remix 68 54 49\n"
     ]
    }
   ],
   "source": [
    "def best_match(result, artist, track):\n",
    "    artist = artist.replace(\".\", \"\")\n",
    "    track = track.replace(\".\", \"\")\n",
    "    for t in result[\"tracks\"][\"items\"]:\n",
    "        t_artist = t[\"artists\"][0][\"name\"].replace(\".\", \"\")\n",
    "        t_track = t[\"name\"].replace(\".\", \"\")\n",
    "        if \"karaoke\" in t_artist.lower() or \"karaoke\" in t_track.lower():\n",
    "            continue\n",
    "        if \"version\" in t_track.lower() and not \"version\" in track.lower():\n",
    "            continue\n",
    "        artist_fuzz_score = fuzz.token_set_ratio(artist, t_artist)\n",
    "        track_fuzz_score = fuzz.token_set_ratio(track, t_track)\n",
    "        compound_fuzz_score = fuzz.token_set_ratio(f\"{artist} {track}\", f\"{t_artist} {t_track}\")\n",
    "        compound_ratio_fuzz_score = fuzz.ratio(f\"{artist} {track}\", f\"{t_artist} {t_track}\")\n",
    "        print(artist, t_artist, artist_fuzz_score, track, t_track, track_fuzz_score, compound_fuzz_score, compound_ratio_fuzz_score)\n",
    "        if (artist_fuzz_score > 85 and track_fuzz_score > 85) or compound_fuzz_score > 90 or compound_ratio_fuzz_score > 90:\n",
    "            return t\n",
    "    return None\n",
    "\n",
    "\n",
    "def fetch_track(artist, track):\n",
    "    artists = [artist]\n",
    "    if \",\" in artist:\n",
    "        artists += artist.split(\",\")\n",
    "    if artist.startswith(\"The \"):\n",
    "        artists.append(artist[4:])\n",
    "    for artist in artists:\n",
    "        if \" & \" in artist:\n",
    "            artists += artist.split(\"&\")\n",
    "        try:\n",
    "            # print(artist, track)\n",
    "            artist_ = artist\n",
    "            track_ =  re.sub(\"[\\(\\[].*?[\\)\\]]\", \"\", track)\n",
    "            result = spotify.search(f\"track:{track} artist:{artist}\")\n",
    "            sleep(.25)\n",
    "            best_match_ = best_match(result, artist, track)\n",
    "            if result[\"tracks\"][\"total\"] == 0 or not best_match_:\n",
    "                artist_, _ = resolve_names(artist, track)\n",
    "                result = spotify.search(f\"track:{track} artist:{artist_}\")\n",
    "                best_match_ = best_match(result, artist, track)\n",
    "                sleep(.25)\n",
    "            if result[\"tracks\"][\"total\"] == 0 or not best_match_:\n",
    "                result = spotify.search(f\"{artist} {track}\")\n",
    "                best_match_ = best_match(result, artist, track)\n",
    "                sleep(.25)\n",
    "            if result[\"tracks\"][\"total\"] == 0 or not best_match_:\n",
    "                result = spotify.search(f\"{artist_} {track}\")\n",
    "                best_match_ = best_match(result, artist, track)\n",
    "                sleep(.25)\n",
    "            if result[\"tracks\"][\"total\"] == 0 or not best_match_:\n",
    "                result = spotify.search(f\"{artist} {track_}\")\n",
    "                best_match_ = best_match(result, artist, track)\n",
    "                sleep(.25)\n",
    "            if result[\"tracks\"][\"total\"] == 0 or not best_match_:\n",
    "                artist_ = re.sub(\"'.*?'\", \"\", artist)\n",
    "                result = spotify.search(f\"{artist_} {track}\")\n",
    "                best_match_ = best_match(result, artist_, track)\n",
    "                sleep(.25)\n",
    "            if result[\"tracks\"][\"total\"] == 0 or not best_match_:\n",
    "                continue\n",
    "        except ReadTimeout:\n",
    "            print(\"spotify time out.\")\n",
    "            continue\n",
    "        if best_match_:\n",
    "            return best_match_\n",
    "    return None\n",
    "\n",
    "\n",
    "fetch_track(\"T-Pain & Mike Jones\", \"I'm In Love with A Stripper\")"
   ],
   "metadata": {
    "collapsed": false,
    "pycharm": {
     "name": "#%%\n"
    }
   }
  },
  {
   "cell_type": "code",
   "execution_count": 100,
   "outputs": [
    {
     "data": {
      "text/plain": "                       song                              artist  \\\n1         What A Girl Wants                  Christina Aguilera   \n2        I Knew I Loved You                       Savage Garden   \n3      That's The Way It Is                         Celine Dion   \n5               Back At One                      Brian McKnight   \n6       Waiting For Tonight                      Jennifer Lopez   \n...                     ...                                 ...   \n11178           Jackie Chan  Tiesto, Dzeko, Preme & Post Malone   \n11542          Walk Me Home                                Pink   \n12149                 Slide                         H.E.R. & YG   \n12191        Nobody But You   Blake Shelton Duet & Gwen Stefani   \n12547                 Hawai                 Maluma & The Weeknd   \n\n             spotify_track_id       spotify_artist_id        spotify_album_id  \\\n1      5bGmuxShUba9maPswDnhCs  1l7ZsJRRS8wlW3WfJfPfNS  6fpPZS13ImRVpr7Tqs6yP9   \n2      6nozDLxeL0TE4MS9GqYU1v  3NRFinRTEqUCfaTTZmk8ek  3w69KK7uEA8OsKuW3OeQcC   \n3      5s4catxeZsaWFnOrvrXZHf  4S9EykWXhStSc15wEx8QFK  51DfHvunyUysUZoBJEwbF8   \n5      6mwA6YiKDjAUG8kWvRRUPh  6k0IBR0lU42s2GYpNX7kA9  0ZnKlkQrZb1xDbT8bmPSjo   \n6      5yaCquc7koPqtgj7v0lwHX  2DlGxzQSjYe5N6G9nkYghR  3Gby5NNeNYkMgAnrtEA3lc   \n...                       ...                     ...                     ...   \n11178  4kWO6O1BUXcZmaxitpVUwp  2o5jDhtHVPhrJdv3cEQ99Z  0vRcQquqBlFvnezWldWfmt   \n11542  7DHApOHsIFo7EyfieArYGE  1KCSPY1glIKqW2TotWuXOR  2KKdF2S0u36Ug2jm2qTXlZ   \n12149  6MO2bfLHKykUgCChFdw91H  3Y7RZ31TRPVadSFVy1o8os  7LMJKPGcBZjZf6AEnTBS2t   \n12191  5M8goiFYynmNxhueYW6grR  1UTPBmNbXNTittyMJrNkvw  4Kd33JPxTOcjTM29FrKoyT   \n12547  1yoMvmasuxZfqHEipJhRbp  1r4hJ1h58CWwUQe3MxPuau  0p2yf6DucEgvj8Uk8KXJJv   \n\n       spotify_track_popularity spotify_track_explicit  \\\n1                          67.0                  False   \n2                          73.0                  False   \n3                          69.0                  False   \n5                          74.0                  False   \n6                          65.0                  False   \n...                         ...                    ...   \n11178                      76.0                   True   \n11542                      71.0                  False   \n12149                      76.0                  False   \n12191                      70.0                  False   \n12547                      81.0                  False   \n\n       spotify_track_duration_ms spotify_track_album_release_date  \\\n1                       215800.0                             1999   \n2                       250360.0                       1999-11-09   \n3                       241373.0                             1999   \n5                       263666.0                       1999-09-21   \n6                       246426.0                       1999-06-01   \n...                          ...                              ...   \n11178                   215759.0                       2018-05-18   \n11542                   177390.0                       2019-02-20   \n12149                   296011.0                       2020-01-17   \n12191                   194866.0                       2019-12-13   \n12547                   199112.0                       2020-08-21   \n\n      spotify_track_album_release_date_precision  \n1                                           year  \n2                                            day  \n3                                           year  \n5                                            day  \n6                                            day  \n...                                          ...  \n11178                                        day  \n11542                                        day  \n12149                                        day  \n12191                                        day  \n12547                                        day  \n\n[3379 rows x 10 columns]",
      "text/html": "<div>\n<style scoped>\n    .dataframe tbody tr th:only-of-type {\n        vertical-align: middle;\n    }\n\n    .dataframe tbody tr th {\n        vertical-align: top;\n    }\n\n    .dataframe thead th {\n        text-align: right;\n    }\n</style>\n<table border=\"1\" class=\"dataframe\">\n  <thead>\n    <tr style=\"text-align: right;\">\n      <th></th>\n      <th>song</th>\n      <th>artist</th>\n      <th>spotify_track_id</th>\n      <th>spotify_artist_id</th>\n      <th>spotify_album_id</th>\n      <th>spotify_track_popularity</th>\n      <th>spotify_track_explicit</th>\n      <th>spotify_track_duration_ms</th>\n      <th>spotify_track_album_release_date</th>\n      <th>spotify_track_album_release_date_precision</th>\n    </tr>\n  </thead>\n  <tbody>\n    <tr>\n      <th>1</th>\n      <td>What A Girl Wants</td>\n      <td>Christina Aguilera</td>\n      <td>5bGmuxShUba9maPswDnhCs</td>\n      <td>1l7ZsJRRS8wlW3WfJfPfNS</td>\n      <td>6fpPZS13ImRVpr7Tqs6yP9</td>\n      <td>67.0</td>\n      <td>False</td>\n      <td>215800.0</td>\n      <td>1999</td>\n      <td>year</td>\n    </tr>\n    <tr>\n      <th>2</th>\n      <td>I Knew I Loved You</td>\n      <td>Savage Garden</td>\n      <td>6nozDLxeL0TE4MS9GqYU1v</td>\n      <td>3NRFinRTEqUCfaTTZmk8ek</td>\n      <td>3w69KK7uEA8OsKuW3OeQcC</td>\n      <td>73.0</td>\n      <td>False</td>\n      <td>250360.0</td>\n      <td>1999-11-09</td>\n      <td>day</td>\n    </tr>\n    <tr>\n      <th>3</th>\n      <td>That's The Way It Is</td>\n      <td>Celine Dion</td>\n      <td>5s4catxeZsaWFnOrvrXZHf</td>\n      <td>4S9EykWXhStSc15wEx8QFK</td>\n      <td>51DfHvunyUysUZoBJEwbF8</td>\n      <td>69.0</td>\n      <td>False</td>\n      <td>241373.0</td>\n      <td>1999</td>\n      <td>year</td>\n    </tr>\n    <tr>\n      <th>5</th>\n      <td>Back At One</td>\n      <td>Brian McKnight</td>\n      <td>6mwA6YiKDjAUG8kWvRRUPh</td>\n      <td>6k0IBR0lU42s2GYpNX7kA9</td>\n      <td>0ZnKlkQrZb1xDbT8bmPSjo</td>\n      <td>74.0</td>\n      <td>False</td>\n      <td>263666.0</td>\n      <td>1999-09-21</td>\n      <td>day</td>\n    </tr>\n    <tr>\n      <th>6</th>\n      <td>Waiting For Tonight</td>\n      <td>Jennifer Lopez</td>\n      <td>5yaCquc7koPqtgj7v0lwHX</td>\n      <td>2DlGxzQSjYe5N6G9nkYghR</td>\n      <td>3Gby5NNeNYkMgAnrtEA3lc</td>\n      <td>65.0</td>\n      <td>False</td>\n      <td>246426.0</td>\n      <td>1999-06-01</td>\n      <td>day</td>\n    </tr>\n    <tr>\n      <th>...</th>\n      <td>...</td>\n      <td>...</td>\n      <td>...</td>\n      <td>...</td>\n      <td>...</td>\n      <td>...</td>\n      <td>...</td>\n      <td>...</td>\n      <td>...</td>\n      <td>...</td>\n    </tr>\n    <tr>\n      <th>11178</th>\n      <td>Jackie Chan</td>\n      <td>Tiesto, Dzeko, Preme &amp; Post Malone</td>\n      <td>4kWO6O1BUXcZmaxitpVUwp</td>\n      <td>2o5jDhtHVPhrJdv3cEQ99Z</td>\n      <td>0vRcQquqBlFvnezWldWfmt</td>\n      <td>76.0</td>\n      <td>True</td>\n      <td>215759.0</td>\n      <td>2018-05-18</td>\n      <td>day</td>\n    </tr>\n    <tr>\n      <th>11542</th>\n      <td>Walk Me Home</td>\n      <td>Pink</td>\n      <td>7DHApOHsIFo7EyfieArYGE</td>\n      <td>1KCSPY1glIKqW2TotWuXOR</td>\n      <td>2KKdF2S0u36Ug2jm2qTXlZ</td>\n      <td>71.0</td>\n      <td>False</td>\n      <td>177390.0</td>\n      <td>2019-02-20</td>\n      <td>day</td>\n    </tr>\n    <tr>\n      <th>12149</th>\n      <td>Slide</td>\n      <td>H.E.R. &amp; YG</td>\n      <td>6MO2bfLHKykUgCChFdw91H</td>\n      <td>3Y7RZ31TRPVadSFVy1o8os</td>\n      <td>7LMJKPGcBZjZf6AEnTBS2t</td>\n      <td>76.0</td>\n      <td>False</td>\n      <td>296011.0</td>\n      <td>2020-01-17</td>\n      <td>day</td>\n    </tr>\n    <tr>\n      <th>12191</th>\n      <td>Nobody But You</td>\n      <td>Blake Shelton Duet &amp; Gwen Stefani</td>\n      <td>5M8goiFYynmNxhueYW6grR</td>\n      <td>1UTPBmNbXNTittyMJrNkvw</td>\n      <td>4Kd33JPxTOcjTM29FrKoyT</td>\n      <td>70.0</td>\n      <td>False</td>\n      <td>194866.0</td>\n      <td>2019-12-13</td>\n      <td>day</td>\n    </tr>\n    <tr>\n      <th>12547</th>\n      <td>Hawai</td>\n      <td>Maluma &amp; The Weeknd</td>\n      <td>1yoMvmasuxZfqHEipJhRbp</td>\n      <td>1r4hJ1h58CWwUQe3MxPuau</td>\n      <td>0p2yf6DucEgvj8Uk8KXJJv</td>\n      <td>81.0</td>\n      <td>False</td>\n      <td>199112.0</td>\n      <td>2020-08-21</td>\n      <td>day</td>\n    </tr>\n  </tbody>\n</table>\n<p>3379 rows × 10 columns</p>\n</div>"
     },
     "execution_count": 100,
     "metadata": {},
     "output_type": "execute_result"
    }
   ],
   "source": [
    "song_artist_df_all = pd.concat([\n",
    "    song_artist_df,\n",
    "    song_artist_df_2,\n",
    "    song_artist_df_3,\n",
    "])\n",
    "song_artist_df_all = song_artist_df_all[~song_artist_df_all[\"spotify_track_id\"].isnull()].drop_duplicates(\"spotify_track_id\")\n",
    "song_artist_df_all"
   ],
   "metadata": {
    "collapsed": false,
    "pycharm": {
     "name": "#%%\n"
    }
   }
  },
  {
   "cell_type": "code",
   "execution_count": 101,
   "outputs": [
    {
     "data": {
      "text/plain": "          month  position                artist                          song  \\\n0      Jan 2000         1  Rob Thomas & Santana                        Smooth   \n1      Jan 2000         2    Christina Aguilera             What A Girl Wants   \n2      Jan 2000         3         Savage Garden            I Knew I Loved You   \n3      Jan 2000         4           Celine Dion          That's The Way It Is   \n4      Jan 2000         5             Eiffel 65              Blue (Da Ba Dee)   \n...         ...       ...                   ...                           ...   \n12895  Jun 2021        46         Ariana Grande                           POV   \n12896  Jun 2021        47        Dierks Bentley                          Gone   \n12897  Jun 2021        48        Olivia Rodrigo            Jealousy, Jealousy   \n12898  Jun 2021        49        Olivia Rodrigo  1 Step Forward, 3 Steps Back   \n12899  Jun 2021        50             Pop Smoke       What You Know Bout Love   \n\n       indicativerevenue  us  uk  de  fr  ca  ...  \\\n0               3911.953   1   -  44   -   -  ...   \n1               3787.015   1  81  18   -   1  ...   \n2               3693.844   1  56  68  43   1  ...   \n3               3341.488   8  20   9  10   -  ...   \n4               3340.978   6  28  22  10   1  ...   \n...                  ...  ..  ..  ..  ..  ..  ...   \n12895            849.983  33   -   -   -   -  ...   \n12896            843.855  32   -   -   -  85  ...   \n12897            838.863  24   -   -   -  21  ...   \n12898            837.277  19   -   -   -  17  ...   \n12899            822.709  41   -   -   -   -  ...   \n\n      spotify_track_album_release_date_x  \\\n0                             2005-03-01   \n1                                   1999   \n2                             1999-11-09   \n3                                   1999   \n4                             2011-01-05   \n...                                  ...   \n12895                         2020-10-30   \n12896                         2020-10-22   \n12897                         2021-05-21   \n12898                         2021-05-21   \n12899                         2020-07-03   \n\n      spotify_track_album_release_date_precision_x      spotify_track_id_y  \\\n0                                              day  4qUfTdPwpeTKwck2ptbj4h   \n1                                             year  5bGmuxShUba9maPswDnhCs   \n2                                              day  6nozDLxeL0TE4MS9GqYU1v   \n3                                             year  5s4catxeZsaWFnOrvrXZHf   \n4                                              day  2yAVzRiEQooPEJ9SYx11L3   \n...                                            ...                     ...   \n12895                                          day  3UoULw70kMsiVXxW0L3A33   \n12896                                          day  7IhfjcaXuXCq20ZiAA7igK   \n12897                                          day  0MMyJUC3WNnFS1lit5pTjk   \n12898                                          day  4wcBRRpIfesgcyUtis7PEg   \n12899                                          day  1tkg4EHVoqnhR6iFEXb60y   \n\n          spotify_artist_id_y      spotify_album_id_y  \\\n0      6GI52t8N5F02MxU0g5U69P  4gZuhUyDg1VRwosegw9pU2   \n1      1l7ZsJRRS8wlW3WfJfPfNS  6fpPZS13ImRVpr7Tqs6yP9   \n2      3NRFinRTEqUCfaTTZmk8ek  3w69KK7uEA8OsKuW3OeQcC   \n3      4S9EykWXhStSc15wEx8QFK  51DfHvunyUysUZoBJEwbF8   \n4      64rxQRJsLgZwHHyWKB8fiF  54vbD17F1t5q3yHkj1cX37   \n...                       ...                     ...   \n12895  66CXWjxzNUsdJxJ2JdwvnR  3euz4vS7ezKGnNSwgyvKcd   \n12896  7x8nK0m0cP2ksQf0mjWdPS  7zEA1JpBgLz8Zj6cGcIvIV   \n12897  1McMsnEElThX1knmY4oliG  6s84u2TUpR3wdUv4NgKA2j   \n12898  1McMsnEElThX1knmY4oliG  6s84u2TUpR3wdUv4NgKA2j   \n12899  0eDvMgVFoNV3TpwtrVCoTj  7e7t0MCrNDcJZsPwUKjmOc   \n\n      spotify_track_popularity_y  spotify_track_explicit_y  \\\n0                           26.0                     False   \n1                           67.0                     False   \n2                           73.0                     False   \n3                           69.0                     False   \n4                           79.0                     False   \n...                          ...                       ...   \n12895                       82.0                     False   \n12896                       69.0                     False   \n12897                       88.0                     False   \n12898                       82.0                      True   \n12899                       86.0                      True   \n\n      spotify_track_duration_ms_y spotify_track_album_release_date_y  \\\n0                        233400.0                         2003-12-15   \n1                        215800.0                               1999   \n2                        250360.0                         1999-11-09   \n3                        241373.0                               1999   \n4                        283747.0                         2011-01-05   \n...                           ...                                ...   \n12895                    201882.0                         2020-10-30   \n12896                    205960.0                         2020-10-22   \n12897                    173160.0                         2021-05-21   \n12898                    163586.0                         2021-05-21   \n12899                    160000.0                         2020-07-03   \n\n      spotify_track_album_release_date_precision_y  \n0                                              day  \n1                                             year  \n2                                              day  \n3                                             year  \n4                                              day  \n...                                            ...  \n12895                                          day  \n12896                                          day  \n12897                                          day  \n12898                                          day  \n12899                                          day  \n\n[12900 rows x 27 columns]",
      "text/html": "<div>\n<style scoped>\n    .dataframe tbody tr th:only-of-type {\n        vertical-align: middle;\n    }\n\n    .dataframe tbody tr th {\n        vertical-align: top;\n    }\n\n    .dataframe thead th {\n        text-align: right;\n    }\n</style>\n<table border=\"1\" class=\"dataframe\">\n  <thead>\n    <tr style=\"text-align: right;\">\n      <th></th>\n      <th>month</th>\n      <th>position</th>\n      <th>artist</th>\n      <th>song</th>\n      <th>indicativerevenue</th>\n      <th>us</th>\n      <th>uk</th>\n      <th>de</th>\n      <th>fr</th>\n      <th>ca</th>\n      <th>...</th>\n      <th>spotify_track_album_release_date_x</th>\n      <th>spotify_track_album_release_date_precision_x</th>\n      <th>spotify_track_id_y</th>\n      <th>spotify_artist_id_y</th>\n      <th>spotify_album_id_y</th>\n      <th>spotify_track_popularity_y</th>\n      <th>spotify_track_explicit_y</th>\n      <th>spotify_track_duration_ms_y</th>\n      <th>spotify_track_album_release_date_y</th>\n      <th>spotify_track_album_release_date_precision_y</th>\n    </tr>\n  </thead>\n  <tbody>\n    <tr>\n      <th>0</th>\n      <td>Jan 2000</td>\n      <td>1</td>\n      <td>Rob Thomas &amp; Santana</td>\n      <td>Smooth</td>\n      <td>3911.953</td>\n      <td>1</td>\n      <td>-</td>\n      <td>44</td>\n      <td>-</td>\n      <td>-</td>\n      <td>...</td>\n      <td>2005-03-01</td>\n      <td>day</td>\n      <td>4qUfTdPwpeTKwck2ptbj4h</td>\n      <td>6GI52t8N5F02MxU0g5U69P</td>\n      <td>4gZuhUyDg1VRwosegw9pU2</td>\n      <td>26.0</td>\n      <td>False</td>\n      <td>233400.0</td>\n      <td>2003-12-15</td>\n      <td>day</td>\n    </tr>\n    <tr>\n      <th>1</th>\n      <td>Jan 2000</td>\n      <td>2</td>\n      <td>Christina Aguilera</td>\n      <td>What A Girl Wants</td>\n      <td>3787.015</td>\n      <td>1</td>\n      <td>81</td>\n      <td>18</td>\n      <td>-</td>\n      <td>1</td>\n      <td>...</td>\n      <td>1999</td>\n      <td>year</td>\n      <td>5bGmuxShUba9maPswDnhCs</td>\n      <td>1l7ZsJRRS8wlW3WfJfPfNS</td>\n      <td>6fpPZS13ImRVpr7Tqs6yP9</td>\n      <td>67.0</td>\n      <td>False</td>\n      <td>215800.0</td>\n      <td>1999</td>\n      <td>year</td>\n    </tr>\n    <tr>\n      <th>2</th>\n      <td>Jan 2000</td>\n      <td>3</td>\n      <td>Savage Garden</td>\n      <td>I Knew I Loved You</td>\n      <td>3693.844</td>\n      <td>1</td>\n      <td>56</td>\n      <td>68</td>\n      <td>43</td>\n      <td>1</td>\n      <td>...</td>\n      <td>1999-11-09</td>\n      <td>day</td>\n      <td>6nozDLxeL0TE4MS9GqYU1v</td>\n      <td>3NRFinRTEqUCfaTTZmk8ek</td>\n      <td>3w69KK7uEA8OsKuW3OeQcC</td>\n      <td>73.0</td>\n      <td>False</td>\n      <td>250360.0</td>\n      <td>1999-11-09</td>\n      <td>day</td>\n    </tr>\n    <tr>\n      <th>3</th>\n      <td>Jan 2000</td>\n      <td>4</td>\n      <td>Celine Dion</td>\n      <td>That's The Way It Is</td>\n      <td>3341.488</td>\n      <td>8</td>\n      <td>20</td>\n      <td>9</td>\n      <td>10</td>\n      <td>-</td>\n      <td>...</td>\n      <td>1999</td>\n      <td>year</td>\n      <td>5s4catxeZsaWFnOrvrXZHf</td>\n      <td>4S9EykWXhStSc15wEx8QFK</td>\n      <td>51DfHvunyUysUZoBJEwbF8</td>\n      <td>69.0</td>\n      <td>False</td>\n      <td>241373.0</td>\n      <td>1999</td>\n      <td>year</td>\n    </tr>\n    <tr>\n      <th>4</th>\n      <td>Jan 2000</td>\n      <td>5</td>\n      <td>Eiffel 65</td>\n      <td>Blue (Da Ba Dee)</td>\n      <td>3340.978</td>\n      <td>6</td>\n      <td>28</td>\n      <td>22</td>\n      <td>10</td>\n      <td>1</td>\n      <td>...</td>\n      <td>2011-01-05</td>\n      <td>day</td>\n      <td>2yAVzRiEQooPEJ9SYx11L3</td>\n      <td>64rxQRJsLgZwHHyWKB8fiF</td>\n      <td>54vbD17F1t5q3yHkj1cX37</td>\n      <td>79.0</td>\n      <td>False</td>\n      <td>283747.0</td>\n      <td>2011-01-05</td>\n      <td>day</td>\n    </tr>\n    <tr>\n      <th>...</th>\n      <td>...</td>\n      <td>...</td>\n      <td>...</td>\n      <td>...</td>\n      <td>...</td>\n      <td>...</td>\n      <td>...</td>\n      <td>...</td>\n      <td>...</td>\n      <td>...</td>\n      <td>...</td>\n      <td>...</td>\n      <td>...</td>\n      <td>...</td>\n      <td>...</td>\n      <td>...</td>\n      <td>...</td>\n      <td>...</td>\n      <td>...</td>\n      <td>...</td>\n      <td>...</td>\n    </tr>\n    <tr>\n      <th>12895</th>\n      <td>Jun 2021</td>\n      <td>46</td>\n      <td>Ariana Grande</td>\n      <td>POV</td>\n      <td>849.983</td>\n      <td>33</td>\n      <td>-</td>\n      <td>-</td>\n      <td>-</td>\n      <td>-</td>\n      <td>...</td>\n      <td>2020-10-30</td>\n      <td>day</td>\n      <td>3UoULw70kMsiVXxW0L3A33</td>\n      <td>66CXWjxzNUsdJxJ2JdwvnR</td>\n      <td>3euz4vS7ezKGnNSwgyvKcd</td>\n      <td>82.0</td>\n      <td>False</td>\n      <td>201882.0</td>\n      <td>2020-10-30</td>\n      <td>day</td>\n    </tr>\n    <tr>\n      <th>12896</th>\n      <td>Jun 2021</td>\n      <td>47</td>\n      <td>Dierks Bentley</td>\n      <td>Gone</td>\n      <td>843.855</td>\n      <td>32</td>\n      <td>-</td>\n      <td>-</td>\n      <td>-</td>\n      <td>85</td>\n      <td>...</td>\n      <td>2020-10-22</td>\n      <td>day</td>\n      <td>7IhfjcaXuXCq20ZiAA7igK</td>\n      <td>7x8nK0m0cP2ksQf0mjWdPS</td>\n      <td>7zEA1JpBgLz8Zj6cGcIvIV</td>\n      <td>69.0</td>\n      <td>False</td>\n      <td>205960.0</td>\n      <td>2020-10-22</td>\n      <td>day</td>\n    </tr>\n    <tr>\n      <th>12897</th>\n      <td>Jun 2021</td>\n      <td>48</td>\n      <td>Olivia Rodrigo</td>\n      <td>Jealousy, Jealousy</td>\n      <td>838.863</td>\n      <td>24</td>\n      <td>-</td>\n      <td>-</td>\n      <td>-</td>\n      <td>21</td>\n      <td>...</td>\n      <td>2021-05-21</td>\n      <td>day</td>\n      <td>0MMyJUC3WNnFS1lit5pTjk</td>\n      <td>1McMsnEElThX1knmY4oliG</td>\n      <td>6s84u2TUpR3wdUv4NgKA2j</td>\n      <td>88.0</td>\n      <td>False</td>\n      <td>173160.0</td>\n      <td>2021-05-21</td>\n      <td>day</td>\n    </tr>\n    <tr>\n      <th>12898</th>\n      <td>Jun 2021</td>\n      <td>49</td>\n      <td>Olivia Rodrigo</td>\n      <td>1 Step Forward, 3 Steps Back</td>\n      <td>837.277</td>\n      <td>19</td>\n      <td>-</td>\n      <td>-</td>\n      <td>-</td>\n      <td>17</td>\n      <td>...</td>\n      <td>2021-05-21</td>\n      <td>day</td>\n      <td>4wcBRRpIfesgcyUtis7PEg</td>\n      <td>1McMsnEElThX1knmY4oliG</td>\n      <td>6s84u2TUpR3wdUv4NgKA2j</td>\n      <td>82.0</td>\n      <td>True</td>\n      <td>163586.0</td>\n      <td>2021-05-21</td>\n      <td>day</td>\n    </tr>\n    <tr>\n      <th>12899</th>\n      <td>Jun 2021</td>\n      <td>50</td>\n      <td>Pop Smoke</td>\n      <td>What You Know Bout Love</td>\n      <td>822.709</td>\n      <td>41</td>\n      <td>-</td>\n      <td>-</td>\n      <td>-</td>\n      <td>-</td>\n      <td>...</td>\n      <td>2020-07-03</td>\n      <td>day</td>\n      <td>1tkg4EHVoqnhR6iFEXb60y</td>\n      <td>0eDvMgVFoNV3TpwtrVCoTj</td>\n      <td>7e7t0MCrNDcJZsPwUKjmOc</td>\n      <td>86.0</td>\n      <td>True</td>\n      <td>160000.0</td>\n      <td>2020-07-03</td>\n      <td>day</td>\n    </tr>\n  </tbody>\n</table>\n<p>12900 rows × 27 columns</p>\n</div>"
     },
     "execution_count": 101,
     "metadata": {},
     "output_type": "execute_result"
    }
   ],
   "source": [
    "pd.merge(songs_chart_by_month, song_artist_df_all, left_on=[\"song\", \"artist\"], right_on=[\"song\", \"artist\"], how=\"left\")"
   ],
   "metadata": {
    "collapsed": false,
    "pycharm": {
     "name": "#%%\n"
    }
   }
  },
  {
   "cell_type": "code",
   "execution_count": 104,
   "outputs": [
    {
     "data": {
      "text/plain": "          month  position                artist                          song  \\\n0      Jan 2000         1  Rob Thomas & Santana                        Smooth   \n1      Jan 2000         2    Christina Aguilera             What A Girl Wants   \n2      Jan 2000         3         Savage Garden            I Knew I Loved You   \n3      Jan 2000         4           Celine Dion          That's The Way It Is   \n4      Jan 2000         5             Eiffel 65              Blue (Da Ba Dee)   \n...         ...       ...                   ...                           ...   \n12895  Jun 2021        46         Ariana Grande                           POV   \n12896  Jun 2021        47        Dierks Bentley                          Gone   \n12897  Jun 2021        48        Olivia Rodrigo            Jealousy, Jealousy   \n12898  Jun 2021        49        Olivia Rodrigo  1 Step Forward, 3 Steps Back   \n12899  Jun 2021        50             Pop Smoke       What You Know Bout Love   \n\n       indicativerevenue  us  uk  de  fr  ca  au        spotify_track_id  \\\n0               3911.953   1   -  44   -   -   5  5IALWUYK0zDSEmZgb4ICvc   \n1               3787.015   1  81  18   -   1   9  5bGmuxShUba9maPswDnhCs   \n2               3693.844   1  56  68  43   1  21  6nozDLxeL0TE4MS9GqYU1v   \n3               3341.488   8  20   9  10   -  14  5s4catxeZsaWFnOrvrXZHf   \n4               3340.978   6  28  22  10   1   1  2yAVzRiEQooPEJ9SYx11L3   \n...                  ...  ..  ..  ..  ..  ..  ..                     ...   \n12895            849.983  33   -   -   -   -   -  3UoULw70kMsiVXxW0L3A33   \n12896            843.855  32   -   -   -  85   -  7IhfjcaXuXCq20ZiAA7igK   \n12897            838.863  24   -   -   -  21  22  0MMyJUC3WNnFS1lit5pTjk   \n12898            837.277  19   -   -   -  17  18  4wcBRRpIfesgcyUtis7PEg   \n12899            822.709  41   -   -   -   -   -  1tkg4EHVoqnhR6iFEXb60y   \n\n            spotify_artist_id        spotify_album_id  \\\n0      7BB7DAcx48BfzNf34VMr7y  6rkqnXiK12wQ8UthL6A52E   \n1      1l7ZsJRRS8wlW3WfJfPfNS  6fpPZS13ImRVpr7Tqs6yP9   \n2      3NRFinRTEqUCfaTTZmk8ek  3w69KK7uEA8OsKuW3OeQcC   \n3      4S9EykWXhStSc15wEx8QFK  51DfHvunyUysUZoBJEwbF8   \n4      64rxQRJsLgZwHHyWKB8fiF  54vbD17F1t5q3yHkj1cX37   \n...                       ...                     ...   \n12895  66CXWjxzNUsdJxJ2JdwvnR  3euz4vS7ezKGnNSwgyvKcd   \n12896  7x8nK0m0cP2ksQf0mjWdPS  7zEA1JpBgLz8Zj6cGcIvIV   \n12897  1McMsnEElThX1knmY4oliG  6s84u2TUpR3wdUv4NgKA2j   \n12898  1McMsnEElThX1knmY4oliG  6s84u2TUpR3wdUv4NgKA2j   \n12899  0eDvMgVFoNV3TpwtrVCoTj  7e7t0MCrNDcJZsPwUKjmOc   \n\n       spotify_track_popularity spotify_track_explicit  \\\n0                           1.0                  False   \n1                          65.0                  False   \n2                          71.0                  False   \n3                          67.0                  False   \n4                          77.0                  False   \n...                         ...                    ...   \n12895                      81.0                  False   \n12896                      68.0                  False   \n12897                      86.0                  False   \n12898                      81.0                   True   \n12899                      85.0                   True   \n\n       spotify_track_duration_ms spotify_track_album_release_date  \\\n0                       244924.0                       2005-03-01   \n1                       215800.0                             1999   \n2                       250360.0                       1999-11-09   \n3                       241373.0                             1999   \n4                       283747.0                       2011-01-05   \n...                          ...                              ...   \n12895                   201882.0                       2020-10-30   \n12896                   205960.0                       2020-10-22   \n12897                   173160.0                       2021-05-21   \n12898                   163586.0                       2021-05-21   \n12899                   160000.0                       2020-07-03   \n\n      spotify_track_album_release_date_precision  \n0                                            day  \n1                                           year  \n2                                            day  \n3                                           year  \n4                                            day  \n...                                          ...  \n12895                                        day  \n12896                                        day  \n12897                                        day  \n12898                                        day  \n12899                                        day  \n\n[12900 rows x 19 columns]",
      "text/html": "<div>\n<style scoped>\n    .dataframe tbody tr th:only-of-type {\n        vertical-align: middle;\n    }\n\n    .dataframe tbody tr th {\n        vertical-align: top;\n    }\n\n    .dataframe thead th {\n        text-align: right;\n    }\n</style>\n<table border=\"1\" class=\"dataframe\">\n  <thead>\n    <tr style=\"text-align: right;\">\n      <th></th>\n      <th>month</th>\n      <th>position</th>\n      <th>artist</th>\n      <th>song</th>\n      <th>indicativerevenue</th>\n      <th>us</th>\n      <th>uk</th>\n      <th>de</th>\n      <th>fr</th>\n      <th>ca</th>\n      <th>au</th>\n      <th>spotify_track_id</th>\n      <th>spotify_artist_id</th>\n      <th>spotify_album_id</th>\n      <th>spotify_track_popularity</th>\n      <th>spotify_track_explicit</th>\n      <th>spotify_track_duration_ms</th>\n      <th>spotify_track_album_release_date</th>\n      <th>spotify_track_album_release_date_precision</th>\n    </tr>\n  </thead>\n  <tbody>\n    <tr>\n      <th>0</th>\n      <td>Jan 2000</td>\n      <td>1</td>\n      <td>Rob Thomas &amp; Santana</td>\n      <td>Smooth</td>\n      <td>3911.953</td>\n      <td>1</td>\n      <td>-</td>\n      <td>44</td>\n      <td>-</td>\n      <td>-</td>\n      <td>5</td>\n      <td>5IALWUYK0zDSEmZgb4ICvc</td>\n      <td>7BB7DAcx48BfzNf34VMr7y</td>\n      <td>6rkqnXiK12wQ8UthL6A52E</td>\n      <td>1.0</td>\n      <td>False</td>\n      <td>244924.0</td>\n      <td>2005-03-01</td>\n      <td>day</td>\n    </tr>\n    <tr>\n      <th>1</th>\n      <td>Jan 2000</td>\n      <td>2</td>\n      <td>Christina Aguilera</td>\n      <td>What A Girl Wants</td>\n      <td>3787.015</td>\n      <td>1</td>\n      <td>81</td>\n      <td>18</td>\n      <td>-</td>\n      <td>1</td>\n      <td>9</td>\n      <td>5bGmuxShUba9maPswDnhCs</td>\n      <td>1l7ZsJRRS8wlW3WfJfPfNS</td>\n      <td>6fpPZS13ImRVpr7Tqs6yP9</td>\n      <td>65.0</td>\n      <td>False</td>\n      <td>215800.0</td>\n      <td>1999</td>\n      <td>year</td>\n    </tr>\n    <tr>\n      <th>2</th>\n      <td>Jan 2000</td>\n      <td>3</td>\n      <td>Savage Garden</td>\n      <td>I Knew I Loved You</td>\n      <td>3693.844</td>\n      <td>1</td>\n      <td>56</td>\n      <td>68</td>\n      <td>43</td>\n      <td>1</td>\n      <td>21</td>\n      <td>6nozDLxeL0TE4MS9GqYU1v</td>\n      <td>3NRFinRTEqUCfaTTZmk8ek</td>\n      <td>3w69KK7uEA8OsKuW3OeQcC</td>\n      <td>71.0</td>\n      <td>False</td>\n      <td>250360.0</td>\n      <td>1999-11-09</td>\n      <td>day</td>\n    </tr>\n    <tr>\n      <th>3</th>\n      <td>Jan 2000</td>\n      <td>4</td>\n      <td>Celine Dion</td>\n      <td>That's The Way It Is</td>\n      <td>3341.488</td>\n      <td>8</td>\n      <td>20</td>\n      <td>9</td>\n      <td>10</td>\n      <td>-</td>\n      <td>14</td>\n      <td>5s4catxeZsaWFnOrvrXZHf</td>\n      <td>4S9EykWXhStSc15wEx8QFK</td>\n      <td>51DfHvunyUysUZoBJEwbF8</td>\n      <td>67.0</td>\n      <td>False</td>\n      <td>241373.0</td>\n      <td>1999</td>\n      <td>year</td>\n    </tr>\n    <tr>\n      <th>4</th>\n      <td>Jan 2000</td>\n      <td>5</td>\n      <td>Eiffel 65</td>\n      <td>Blue (Da Ba Dee)</td>\n      <td>3340.978</td>\n      <td>6</td>\n      <td>28</td>\n      <td>22</td>\n      <td>10</td>\n      <td>1</td>\n      <td>1</td>\n      <td>2yAVzRiEQooPEJ9SYx11L3</td>\n      <td>64rxQRJsLgZwHHyWKB8fiF</td>\n      <td>54vbD17F1t5q3yHkj1cX37</td>\n      <td>77.0</td>\n      <td>False</td>\n      <td>283747.0</td>\n      <td>2011-01-05</td>\n      <td>day</td>\n    </tr>\n    <tr>\n      <th>...</th>\n      <td>...</td>\n      <td>...</td>\n      <td>...</td>\n      <td>...</td>\n      <td>...</td>\n      <td>...</td>\n      <td>...</td>\n      <td>...</td>\n      <td>...</td>\n      <td>...</td>\n      <td>...</td>\n      <td>...</td>\n      <td>...</td>\n      <td>...</td>\n      <td>...</td>\n      <td>...</td>\n      <td>...</td>\n      <td>...</td>\n      <td>...</td>\n    </tr>\n    <tr>\n      <th>12895</th>\n      <td>Jun 2021</td>\n      <td>46</td>\n      <td>Ariana Grande</td>\n      <td>POV</td>\n      <td>849.983</td>\n      <td>33</td>\n      <td>-</td>\n      <td>-</td>\n      <td>-</td>\n      <td>-</td>\n      <td>-</td>\n      <td>3UoULw70kMsiVXxW0L3A33</td>\n      <td>66CXWjxzNUsdJxJ2JdwvnR</td>\n      <td>3euz4vS7ezKGnNSwgyvKcd</td>\n      <td>81.0</td>\n      <td>False</td>\n      <td>201882.0</td>\n      <td>2020-10-30</td>\n      <td>day</td>\n    </tr>\n    <tr>\n      <th>12896</th>\n      <td>Jun 2021</td>\n      <td>47</td>\n      <td>Dierks Bentley</td>\n      <td>Gone</td>\n      <td>843.855</td>\n      <td>32</td>\n      <td>-</td>\n      <td>-</td>\n      <td>-</td>\n      <td>85</td>\n      <td>-</td>\n      <td>7IhfjcaXuXCq20ZiAA7igK</td>\n      <td>7x8nK0m0cP2ksQf0mjWdPS</td>\n      <td>7zEA1JpBgLz8Zj6cGcIvIV</td>\n      <td>68.0</td>\n      <td>False</td>\n      <td>205960.0</td>\n      <td>2020-10-22</td>\n      <td>day</td>\n    </tr>\n    <tr>\n      <th>12897</th>\n      <td>Jun 2021</td>\n      <td>48</td>\n      <td>Olivia Rodrigo</td>\n      <td>Jealousy, Jealousy</td>\n      <td>838.863</td>\n      <td>24</td>\n      <td>-</td>\n      <td>-</td>\n      <td>-</td>\n      <td>21</td>\n      <td>22</td>\n      <td>0MMyJUC3WNnFS1lit5pTjk</td>\n      <td>1McMsnEElThX1knmY4oliG</td>\n      <td>6s84u2TUpR3wdUv4NgKA2j</td>\n      <td>86.0</td>\n      <td>False</td>\n      <td>173160.0</td>\n      <td>2021-05-21</td>\n      <td>day</td>\n    </tr>\n    <tr>\n      <th>12898</th>\n      <td>Jun 2021</td>\n      <td>49</td>\n      <td>Olivia Rodrigo</td>\n      <td>1 Step Forward, 3 Steps Back</td>\n      <td>837.277</td>\n      <td>19</td>\n      <td>-</td>\n      <td>-</td>\n      <td>-</td>\n      <td>17</td>\n      <td>18</td>\n      <td>4wcBRRpIfesgcyUtis7PEg</td>\n      <td>1McMsnEElThX1knmY4oliG</td>\n      <td>6s84u2TUpR3wdUv4NgKA2j</td>\n      <td>81.0</td>\n      <td>True</td>\n      <td>163586.0</td>\n      <td>2021-05-21</td>\n      <td>day</td>\n    </tr>\n    <tr>\n      <th>12899</th>\n      <td>Jun 2021</td>\n      <td>50</td>\n      <td>Pop Smoke</td>\n      <td>What You Know Bout Love</td>\n      <td>822.709</td>\n      <td>41</td>\n      <td>-</td>\n      <td>-</td>\n      <td>-</td>\n      <td>-</td>\n      <td>-</td>\n      <td>1tkg4EHVoqnhR6iFEXb60y</td>\n      <td>0eDvMgVFoNV3TpwtrVCoTj</td>\n      <td>7e7t0MCrNDcJZsPwUKjmOc</td>\n      <td>85.0</td>\n      <td>True</td>\n      <td>160000.0</td>\n      <td>2020-07-03</td>\n      <td>day</td>\n    </tr>\n  </tbody>\n</table>\n<p>12900 rows × 19 columns</p>\n</div>"
     },
     "execution_count": 104,
     "metadata": {},
     "output_type": "execute_result"
    }
   ],
   "source": [
    "songs_chart_by_month"
   ],
   "metadata": {
    "collapsed": false,
    "pycharm": {
     "name": "#%%\n"
    }
   }
  },
  {
   "cell_type": "code",
   "execution_count": 97,
   "outputs": [],
   "source": [
    "songs_chart_by_month = pd.read_parquet(data_path / \"raw/song_chart_by_month.pq\")\n",
    "songs_chart_by_month.to_parquet(data_path / \"raw/song_chart_by_month_v0.pq\", index=False)"
   ],
   "metadata": {
    "collapsed": false,
    "pycharm": {
     "name": "#%%\n"
    }
   }
  },
  {
   "cell_type": "code",
   "execution_count": 105,
   "outputs": [],
   "source": [
    "songs_chart_by_month = fetch_song_chart_by_month()\n",
    "song_chart_by_month_v2 = pd.merge(songs_chart_by_month, song_artist_df_all, left_on=[\"song\", \"artist\"], right_on=[\"song\", \"artist\"], how=\"left\")\n",
    "song_chart_by_month_v2.to_parquet(data_path / \"raw/song_chart_by_month.pq\", index=False)"
   ],
   "metadata": {
    "collapsed": false,
    "pycharm": {
     "name": "#%%\n"
    }
   }
  },
  {
   "cell_type": "code",
   "execution_count": 106,
   "outputs": [
    {
     "data": {
      "text/plain": "          month  position                artist                          song  \\\n0      Jan 2000         1  Rob Thomas & Santana                        Smooth   \n1      Jan 2000         2    Christina Aguilera             What A Girl Wants   \n2      Jan 2000         3         Savage Garden            I Knew I Loved You   \n3      Jan 2000         4           Celine Dion          That's The Way It Is   \n4      Jan 2000         5             Eiffel 65              Blue (Da Ba Dee)   \n...         ...       ...                   ...                           ...   \n12895  Jun 2021        46         Ariana Grande                           POV   \n12896  Jun 2021        47        Dierks Bentley                          Gone   \n12897  Jun 2021        48        Olivia Rodrigo            Jealousy, Jealousy   \n12898  Jun 2021        49        Olivia Rodrigo  1 Step Forward, 3 Steps Back   \n12899  Jun 2021        50             Pop Smoke       What You Know Bout Love   \n\n       indicativerevenue  us  uk  de  fr  ca  au        spotify_track_id  \\\n0               3911.953   1   -  44   -   -   5  4qUfTdPwpeTKwck2ptbj4h   \n1               3787.015   1  81  18   -   1   9  5bGmuxShUba9maPswDnhCs   \n2               3693.844   1  56  68  43   1  21  6nozDLxeL0TE4MS9GqYU1v   \n3               3341.488   8  20   9  10   -  14  5s4catxeZsaWFnOrvrXZHf   \n4               3340.978   6  28  22  10   1   1  2yAVzRiEQooPEJ9SYx11L3   \n...                  ...  ..  ..  ..  ..  ..  ..                     ...   \n12895            849.983  33   -   -   -   -   -  3UoULw70kMsiVXxW0L3A33   \n12896            843.855  32   -   -   -  85   -  7IhfjcaXuXCq20ZiAA7igK   \n12897            838.863  24   -   -   -  21  22  0MMyJUC3WNnFS1lit5pTjk   \n12898            837.277  19   -   -   -  17  18  4wcBRRpIfesgcyUtis7PEg   \n12899            822.709  41   -   -   -   -   -  1tkg4EHVoqnhR6iFEXb60y   \n\n            spotify_artist_id        spotify_album_id  \\\n0      6GI52t8N5F02MxU0g5U69P  4gZuhUyDg1VRwosegw9pU2   \n1      1l7ZsJRRS8wlW3WfJfPfNS  6fpPZS13ImRVpr7Tqs6yP9   \n2      3NRFinRTEqUCfaTTZmk8ek  3w69KK7uEA8OsKuW3OeQcC   \n3      4S9EykWXhStSc15wEx8QFK  51DfHvunyUysUZoBJEwbF8   \n4      64rxQRJsLgZwHHyWKB8fiF  54vbD17F1t5q3yHkj1cX37   \n...                       ...                     ...   \n12895  66CXWjxzNUsdJxJ2JdwvnR  3euz4vS7ezKGnNSwgyvKcd   \n12896  7x8nK0m0cP2ksQf0mjWdPS  7zEA1JpBgLz8Zj6cGcIvIV   \n12897  1McMsnEElThX1knmY4oliG  6s84u2TUpR3wdUv4NgKA2j   \n12898  1McMsnEElThX1knmY4oliG  6s84u2TUpR3wdUv4NgKA2j   \n12899  0eDvMgVFoNV3TpwtrVCoTj  7e7t0MCrNDcJZsPwUKjmOc   \n\n       spotify_track_popularity spotify_track_explicit  \\\n0                          26.0                  False   \n1                          67.0                  False   \n2                          73.0                  False   \n3                          69.0                  False   \n4                          79.0                  False   \n...                         ...                    ...   \n12895                      82.0                  False   \n12896                      69.0                  False   \n12897                      88.0                  False   \n12898                      82.0                   True   \n12899                      86.0                   True   \n\n       spotify_track_duration_ms spotify_track_album_release_date  \\\n0                       233400.0                       2003-12-15   \n1                       215800.0                             1999   \n2                       250360.0                       1999-11-09   \n3                       241373.0                             1999   \n4                       283747.0                       2011-01-05   \n...                          ...                              ...   \n12895                   201882.0                       2020-10-30   \n12896                   205960.0                       2020-10-22   \n12897                   173160.0                       2021-05-21   \n12898                   163586.0                       2021-05-21   \n12899                   160000.0                       2020-07-03   \n\n      spotify_track_album_release_date_precision  \n0                                            day  \n1                                           year  \n2                                            day  \n3                                           year  \n4                                            day  \n...                                          ...  \n12895                                        day  \n12896                                        day  \n12897                                        day  \n12898                                        day  \n12899                                        day  \n\n[12900 rows x 19 columns]",
      "text/html": "<div>\n<style scoped>\n    .dataframe tbody tr th:only-of-type {\n        vertical-align: middle;\n    }\n\n    .dataframe tbody tr th {\n        vertical-align: top;\n    }\n\n    .dataframe thead th {\n        text-align: right;\n    }\n</style>\n<table border=\"1\" class=\"dataframe\">\n  <thead>\n    <tr style=\"text-align: right;\">\n      <th></th>\n      <th>month</th>\n      <th>position</th>\n      <th>artist</th>\n      <th>song</th>\n      <th>indicativerevenue</th>\n      <th>us</th>\n      <th>uk</th>\n      <th>de</th>\n      <th>fr</th>\n      <th>ca</th>\n      <th>au</th>\n      <th>spotify_track_id</th>\n      <th>spotify_artist_id</th>\n      <th>spotify_album_id</th>\n      <th>spotify_track_popularity</th>\n      <th>spotify_track_explicit</th>\n      <th>spotify_track_duration_ms</th>\n      <th>spotify_track_album_release_date</th>\n      <th>spotify_track_album_release_date_precision</th>\n    </tr>\n  </thead>\n  <tbody>\n    <tr>\n      <th>0</th>\n      <td>Jan 2000</td>\n      <td>1</td>\n      <td>Rob Thomas &amp; Santana</td>\n      <td>Smooth</td>\n      <td>3911.953</td>\n      <td>1</td>\n      <td>-</td>\n      <td>44</td>\n      <td>-</td>\n      <td>-</td>\n      <td>5</td>\n      <td>4qUfTdPwpeTKwck2ptbj4h</td>\n      <td>6GI52t8N5F02MxU0g5U69P</td>\n      <td>4gZuhUyDg1VRwosegw9pU2</td>\n      <td>26.0</td>\n      <td>False</td>\n      <td>233400.0</td>\n      <td>2003-12-15</td>\n      <td>day</td>\n    </tr>\n    <tr>\n      <th>1</th>\n      <td>Jan 2000</td>\n      <td>2</td>\n      <td>Christina Aguilera</td>\n      <td>What A Girl Wants</td>\n      <td>3787.015</td>\n      <td>1</td>\n      <td>81</td>\n      <td>18</td>\n      <td>-</td>\n      <td>1</td>\n      <td>9</td>\n      <td>5bGmuxShUba9maPswDnhCs</td>\n      <td>1l7ZsJRRS8wlW3WfJfPfNS</td>\n      <td>6fpPZS13ImRVpr7Tqs6yP9</td>\n      <td>67.0</td>\n      <td>False</td>\n      <td>215800.0</td>\n      <td>1999</td>\n      <td>year</td>\n    </tr>\n    <tr>\n      <th>2</th>\n      <td>Jan 2000</td>\n      <td>3</td>\n      <td>Savage Garden</td>\n      <td>I Knew I Loved You</td>\n      <td>3693.844</td>\n      <td>1</td>\n      <td>56</td>\n      <td>68</td>\n      <td>43</td>\n      <td>1</td>\n      <td>21</td>\n      <td>6nozDLxeL0TE4MS9GqYU1v</td>\n      <td>3NRFinRTEqUCfaTTZmk8ek</td>\n      <td>3w69KK7uEA8OsKuW3OeQcC</td>\n      <td>73.0</td>\n      <td>False</td>\n      <td>250360.0</td>\n      <td>1999-11-09</td>\n      <td>day</td>\n    </tr>\n    <tr>\n      <th>3</th>\n      <td>Jan 2000</td>\n      <td>4</td>\n      <td>Celine Dion</td>\n      <td>That's The Way It Is</td>\n      <td>3341.488</td>\n      <td>8</td>\n      <td>20</td>\n      <td>9</td>\n      <td>10</td>\n      <td>-</td>\n      <td>14</td>\n      <td>5s4catxeZsaWFnOrvrXZHf</td>\n      <td>4S9EykWXhStSc15wEx8QFK</td>\n      <td>51DfHvunyUysUZoBJEwbF8</td>\n      <td>69.0</td>\n      <td>False</td>\n      <td>241373.0</td>\n      <td>1999</td>\n      <td>year</td>\n    </tr>\n    <tr>\n      <th>4</th>\n      <td>Jan 2000</td>\n      <td>5</td>\n      <td>Eiffel 65</td>\n      <td>Blue (Da Ba Dee)</td>\n      <td>3340.978</td>\n      <td>6</td>\n      <td>28</td>\n      <td>22</td>\n      <td>10</td>\n      <td>1</td>\n      <td>1</td>\n      <td>2yAVzRiEQooPEJ9SYx11L3</td>\n      <td>64rxQRJsLgZwHHyWKB8fiF</td>\n      <td>54vbD17F1t5q3yHkj1cX37</td>\n      <td>79.0</td>\n      <td>False</td>\n      <td>283747.0</td>\n      <td>2011-01-05</td>\n      <td>day</td>\n    </tr>\n    <tr>\n      <th>...</th>\n      <td>...</td>\n      <td>...</td>\n      <td>...</td>\n      <td>...</td>\n      <td>...</td>\n      <td>...</td>\n      <td>...</td>\n      <td>...</td>\n      <td>...</td>\n      <td>...</td>\n      <td>...</td>\n      <td>...</td>\n      <td>...</td>\n      <td>...</td>\n      <td>...</td>\n      <td>...</td>\n      <td>...</td>\n      <td>...</td>\n      <td>...</td>\n    </tr>\n    <tr>\n      <th>12895</th>\n      <td>Jun 2021</td>\n      <td>46</td>\n      <td>Ariana Grande</td>\n      <td>POV</td>\n      <td>849.983</td>\n      <td>33</td>\n      <td>-</td>\n      <td>-</td>\n      <td>-</td>\n      <td>-</td>\n      <td>-</td>\n      <td>3UoULw70kMsiVXxW0L3A33</td>\n      <td>66CXWjxzNUsdJxJ2JdwvnR</td>\n      <td>3euz4vS7ezKGnNSwgyvKcd</td>\n      <td>82.0</td>\n      <td>False</td>\n      <td>201882.0</td>\n      <td>2020-10-30</td>\n      <td>day</td>\n    </tr>\n    <tr>\n      <th>12896</th>\n      <td>Jun 2021</td>\n      <td>47</td>\n      <td>Dierks Bentley</td>\n      <td>Gone</td>\n      <td>843.855</td>\n      <td>32</td>\n      <td>-</td>\n      <td>-</td>\n      <td>-</td>\n      <td>85</td>\n      <td>-</td>\n      <td>7IhfjcaXuXCq20ZiAA7igK</td>\n      <td>7x8nK0m0cP2ksQf0mjWdPS</td>\n      <td>7zEA1JpBgLz8Zj6cGcIvIV</td>\n      <td>69.0</td>\n      <td>False</td>\n      <td>205960.0</td>\n      <td>2020-10-22</td>\n      <td>day</td>\n    </tr>\n    <tr>\n      <th>12897</th>\n      <td>Jun 2021</td>\n      <td>48</td>\n      <td>Olivia Rodrigo</td>\n      <td>Jealousy, Jealousy</td>\n      <td>838.863</td>\n      <td>24</td>\n      <td>-</td>\n      <td>-</td>\n      <td>-</td>\n      <td>21</td>\n      <td>22</td>\n      <td>0MMyJUC3WNnFS1lit5pTjk</td>\n      <td>1McMsnEElThX1knmY4oliG</td>\n      <td>6s84u2TUpR3wdUv4NgKA2j</td>\n      <td>88.0</td>\n      <td>False</td>\n      <td>173160.0</td>\n      <td>2021-05-21</td>\n      <td>day</td>\n    </tr>\n    <tr>\n      <th>12898</th>\n      <td>Jun 2021</td>\n      <td>49</td>\n      <td>Olivia Rodrigo</td>\n      <td>1 Step Forward, 3 Steps Back</td>\n      <td>837.277</td>\n      <td>19</td>\n      <td>-</td>\n      <td>-</td>\n      <td>-</td>\n      <td>17</td>\n      <td>18</td>\n      <td>4wcBRRpIfesgcyUtis7PEg</td>\n      <td>1McMsnEElThX1knmY4oliG</td>\n      <td>6s84u2TUpR3wdUv4NgKA2j</td>\n      <td>82.0</td>\n      <td>True</td>\n      <td>163586.0</td>\n      <td>2021-05-21</td>\n      <td>day</td>\n    </tr>\n    <tr>\n      <th>12899</th>\n      <td>Jun 2021</td>\n      <td>50</td>\n      <td>Pop Smoke</td>\n      <td>What You Know Bout Love</td>\n      <td>822.709</td>\n      <td>41</td>\n      <td>-</td>\n      <td>-</td>\n      <td>-</td>\n      <td>-</td>\n      <td>-</td>\n      <td>1tkg4EHVoqnhR6iFEXb60y</td>\n      <td>0eDvMgVFoNV3TpwtrVCoTj</td>\n      <td>7e7t0MCrNDcJZsPwUKjmOc</td>\n      <td>86.0</td>\n      <td>True</td>\n      <td>160000.0</td>\n      <td>2020-07-03</td>\n      <td>day</td>\n    </tr>\n  </tbody>\n</table>\n<p>12900 rows × 19 columns</p>\n</div>"
     },
     "execution_count": 106,
     "metadata": {},
     "output_type": "execute_result"
    }
   ],
   "source": [
    "song_chart_by_month_v2"
   ],
   "metadata": {
    "collapsed": false,
    "pycharm": {
     "name": "#%%\n"
    }
   }
  },
  {
   "cell_type": "code",
   "execution_count": null,
   "outputs": [],
   "source": [],
   "metadata": {
    "collapsed": false,
    "pycharm": {
     "name": "#%%\n"
    }
   }
  }
 ],
 "metadata": {
  "kernelspec": {
   "display_name": "Python 3",
   "language": "python",
   "name": "python3"
  },
  "language_info": {
   "codemirror_mode": {
    "name": "ipython",
    "version": 2
   },
   "file_extension": ".py",
   "mimetype": "text/x-python",
   "name": "python",
   "nbconvert_exporter": "python",
   "pygments_lexer": "ipython2",
   "version": "2.7.6"
  }
 },
 "nbformat": 4,
 "nbformat_minor": 0
}