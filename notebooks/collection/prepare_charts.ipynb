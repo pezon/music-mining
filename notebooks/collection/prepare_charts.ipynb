{
 "cells": [
  {
   "cell_type": "code",
   "execution_count": 1,
   "metadata": {
    "collapsed": true
   },
   "outputs": [],
   "source": [
    "import os\n",
    "from pathlib import Path\n",
    "\n",
    "import pandas as pd\n",
    "\n",
    "from util import with_spotify_track_metadata\n",
    "\n",
    "diff_dataset = True\n",
    "data_path = Path(\"../../data\").resolve()\n",
    "os.makedirs(data_path, exist_ok=True)"
   ]
  },
  {
   "cell_type": "code",
   "execution_count": null,
   "outputs": [],
   "source": [
    "def fetch_song_chart_by_month():\n",
    "    \"\"\"Chart 2000 - 2021: the top 50 chart for every month from Jan 2000 to Jun 2021\n",
    "    Note: song and albums ranked weekly by indicative revenue globally over a certain period. Indicative Revenue is a model for global sales volume, adjusted for inflation and currency exchange, and using IFPI estimated annual revenue for the recorded music industry in each country.\n",
    "    #songs_chart_by_month = pd.read_csv(\"https://chart2000.com/data/chart2000-songmonth-0-3-0063.csv\")\n",
    "    \"\"\"\n",
    "    return pd.read_csv(\"/Users/pez/Downloads/chart2000-albummonth-0-3-0063.csv\")\n",
    "\n",
    "\n",
    "songs_chart_by_month = fetch_song_chart_by_month()\n",
    "songs_chart_by_month = with_spotify_track_metadata(songs_chart_by_month)\n",
    "songs_chart_by_month.to_parquet(data_path / \"raw/song_chart_by_month.pq\", index=False)\n",
    "songs_chart_by_month.to_csv(data_path / \"grammy_recordings.csv.gz\", compression=\"gzip\", index=False)"
   ],
   "metadata": {
    "collapsed": false,
    "pycharm": {
     "name": "#%%\n"
    }
   }
  }
 ],
 "metadata": {
  "kernelspec": {
   "display_name": "Python 3",
   "language": "python",
   "name": "python3"
  },
  "language_info": {
   "codemirror_mode": {
    "name": "ipython",
    "version": 2
   },
   "file_extension": ".py",
   "mimetype": "text/x-python",
   "name": "python",
   "nbconvert_exporter": "python",
   "pygments_lexer": "ipython2",
   "version": "2.7.6"
  }
 },
 "nbformat": 4,
 "nbformat_minor": 0
}