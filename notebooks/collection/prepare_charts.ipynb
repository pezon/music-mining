{
 "cells": [
  {
   "cell_type": "code",
   "execution_count": 4,
   "outputs": [
    {
     "name": "stdout",
     "output_type": "stream",
     "text": [
      "\u001B[31mERROR: Could not open requirements file: [Errno 2] No such file or directory: 'requirements.txt'\u001B[0m\r\n"
     ]
    }
   ],
   "source": [
    "!pip install -r requirements.txt"
   ],
   "metadata": {
    "collapsed": false,
    "pycharm": {
     "name": "#%%\n"
    }
   }
  },
  {
   "cell_type": "code",
   "execution_count": 1,
   "metadata": {
    "collapsed": true
   },
   "outputs": [],
   "source": [
    "import pandas as pd\n",
    "from util import fetch_song_chart_by_month, with_spotify_track_metadata\n"
   ]
  },
  {
   "cell_type": "code",
   "execution_count": 2,
   "outputs": [],
   "source": [
    "def prepare_song_chart():\n",
    "    songs_chart_by_month = fetch_song_chart_by_month()\n",
    "    songs_chart_by_month = with_spotify_track_metadata(songs_chart_by_month)\n",
    "    songs_chart_by_month.to_parquet(\"data/raw/song_chart_by_month.pq\")\n",
    "    songs_chart_by_month.to_csv(\"data/grammy_recordings.csv.gz\", compression=\"gzip\")\n",
    "    return songs_chart_by_month"
   ],
   "metadata": {
    "collapsed": false,
    "pycharm": {
     "name": "#%%\n"
    }
   }
  },
  {
   "cell_type": "code",
   "execution_count": 4,
   "outputs": [
    {
     "data": {
      "text/plain": "                          id               artist_id                album_id  \\\n0     003FTlCpBTM4eSqYSWPv4H  3vAaWhdBR38Q02ohXqaNHT  0TvOeelcHQXYgPcyQiLhyR   \n1     005lwxGU1tms6HGELIcUv9  6jJ0s89eD6GaHleKKya26X  0r2BUyPTmpbfuz4rR39mLl   \n2     009ImBOrIUlWgla8U05RAC  6jJ0s89eD6GaHleKKya26X  3jB9yFDwRe3KhtGnHXJntk   \n3     00FROhC5g4iJdax5US8jRr  59wfkuBoNyhDMQGCljbUbA  2dHr0LpUe6CNV5lNsr8x0W   \n4     00Mb3DuaIH1kjrwOku9CGU  0p4nmQO2msCgU4IF37Wi3j  3zXjR3y2dUWklKmmp6lEhy   \n...                      ...                     ...                     ...   \n3308  7zL9xrz5krsuC6qVNluQQw  4iHNK0tOyZPYnBU7nGAgpQ  43iBTEWECK7hSnE0p6GgNo   \n3309  7zLV30iLRt2GsEQgUEY2OL  4KkHjCe8ouh8C2P9LPoD4F  57qvObQidfcN8quFMvQOXm   \n3310  7zMcNqs55Mxer82bvZFkpg  06HL4z0CvFAxyc27GXpf02  7mzrIsaAjnXihW3InKjlC3   \n3311  7zmqbdEqmQWgU2wOoBPG83  4SQxI8xg6LcSWL3KuGVHLa  4MJcuG31fFG8rimuSCvJyx   \n3312  7zywdG4ysfC5XNBzjQAo2o  3bGXaFVQLASmDMdjjeJr8a  6yITsogKnqqWkEKqODSrDG   \n\n      months  indicativerevenue  position_min  position_mean  position_median  \n0          1           1182.013            47      47.000000             47.0  \n1          8          15482.793             1      14.250000             12.5  \n2          4           3685.317            12      25.000000             25.5  \n3          1           1913.610            21      21.000000             21.0  \n4          4           7754.159            15      18.500000             19.0  \n...      ...                ...           ...            ...              ...  \n3308       5           8440.983            11      26.000000             22.0  \n3309       7           7471.540             5      17.428571             13.0  \n3310       4           3225.695            32      35.500000             35.5  \n3311       1            496.469            46      46.000000             46.0  \n3312       1           1202.333            47      47.000000             47.0  \n\n[3313 rows x 8 columns]",
      "text/html": "<div>\n<style scoped>\n    .dataframe tbody tr th:only-of-type {\n        vertical-align: middle;\n    }\n\n    .dataframe tbody tr th {\n        vertical-align: top;\n    }\n\n    .dataframe thead th {\n        text-align: right;\n    }\n</style>\n<table border=\"1\" class=\"dataframe\">\n  <thead>\n    <tr style=\"text-align: right;\">\n      <th></th>\n      <th>id</th>\n      <th>artist_id</th>\n      <th>album_id</th>\n      <th>months</th>\n      <th>indicativerevenue</th>\n      <th>position_min</th>\n      <th>position_mean</th>\n      <th>position_median</th>\n    </tr>\n  </thead>\n  <tbody>\n    <tr>\n      <th>0</th>\n      <td>003FTlCpBTM4eSqYSWPv4H</td>\n      <td>3vAaWhdBR38Q02ohXqaNHT</td>\n      <td>0TvOeelcHQXYgPcyQiLhyR</td>\n      <td>1</td>\n      <td>1182.013</td>\n      <td>47</td>\n      <td>47.000000</td>\n      <td>47.0</td>\n    </tr>\n    <tr>\n      <th>1</th>\n      <td>005lwxGU1tms6HGELIcUv9</td>\n      <td>6jJ0s89eD6GaHleKKya26X</td>\n      <td>0r2BUyPTmpbfuz4rR39mLl</td>\n      <td>8</td>\n      <td>15482.793</td>\n      <td>1</td>\n      <td>14.250000</td>\n      <td>12.5</td>\n    </tr>\n    <tr>\n      <th>2</th>\n      <td>009ImBOrIUlWgla8U05RAC</td>\n      <td>6jJ0s89eD6GaHleKKya26X</td>\n      <td>3jB9yFDwRe3KhtGnHXJntk</td>\n      <td>4</td>\n      <td>3685.317</td>\n      <td>12</td>\n      <td>25.000000</td>\n      <td>25.5</td>\n    </tr>\n    <tr>\n      <th>3</th>\n      <td>00FROhC5g4iJdax5US8jRr</td>\n      <td>59wfkuBoNyhDMQGCljbUbA</td>\n      <td>2dHr0LpUe6CNV5lNsr8x0W</td>\n      <td>1</td>\n      <td>1913.610</td>\n      <td>21</td>\n      <td>21.000000</td>\n      <td>21.0</td>\n    </tr>\n    <tr>\n      <th>4</th>\n      <td>00Mb3DuaIH1kjrwOku9CGU</td>\n      <td>0p4nmQO2msCgU4IF37Wi3j</td>\n      <td>3zXjR3y2dUWklKmmp6lEhy</td>\n      <td>4</td>\n      <td>7754.159</td>\n      <td>15</td>\n      <td>18.500000</td>\n      <td>19.0</td>\n    </tr>\n    <tr>\n      <th>...</th>\n      <td>...</td>\n      <td>...</td>\n      <td>...</td>\n      <td>...</td>\n      <td>...</td>\n      <td>...</td>\n      <td>...</td>\n      <td>...</td>\n    </tr>\n    <tr>\n      <th>3308</th>\n      <td>7zL9xrz5krsuC6qVNluQQw</td>\n      <td>4iHNK0tOyZPYnBU7nGAgpQ</td>\n      <td>43iBTEWECK7hSnE0p6GgNo</td>\n      <td>5</td>\n      <td>8440.983</td>\n      <td>11</td>\n      <td>26.000000</td>\n      <td>22.0</td>\n    </tr>\n    <tr>\n      <th>3309</th>\n      <td>7zLV30iLRt2GsEQgUEY2OL</td>\n      <td>4KkHjCe8ouh8C2P9LPoD4F</td>\n      <td>57qvObQidfcN8quFMvQOXm</td>\n      <td>7</td>\n      <td>7471.540</td>\n      <td>5</td>\n      <td>17.428571</td>\n      <td>13.0</td>\n    </tr>\n    <tr>\n      <th>3310</th>\n      <td>7zMcNqs55Mxer82bvZFkpg</td>\n      <td>06HL4z0CvFAxyc27GXpf02</td>\n      <td>7mzrIsaAjnXihW3InKjlC3</td>\n      <td>4</td>\n      <td>3225.695</td>\n      <td>32</td>\n      <td>35.500000</td>\n      <td>35.5</td>\n    </tr>\n    <tr>\n      <th>3311</th>\n      <td>7zmqbdEqmQWgU2wOoBPG83</td>\n      <td>4SQxI8xg6LcSWL3KuGVHLa</td>\n      <td>4MJcuG31fFG8rimuSCvJyx</td>\n      <td>1</td>\n      <td>496.469</td>\n      <td>46</td>\n      <td>46.000000</td>\n      <td>46.0</td>\n    </tr>\n    <tr>\n      <th>3312</th>\n      <td>7zywdG4ysfC5XNBzjQAo2o</td>\n      <td>3bGXaFVQLASmDMdjjeJr8a</td>\n      <td>6yITsogKnqqWkEKqODSrDG</td>\n      <td>1</td>\n      <td>1202.333</td>\n      <td>47</td>\n      <td>47.000000</td>\n      <td>47.0</td>\n    </tr>\n  </tbody>\n</table>\n<p>3313 rows × 8 columns</p>\n</div>"
     },
     "execution_count": 4,
     "metadata": {},
     "output_type": "execute_result"
    }
   ],
   "source": [
    "song_chart_summary_df = (\n",
    "    pd.read_parquet(\"data/raw/song_chart_by_month.pq\")\n",
    "        .groupby([\"spotify_track_id\", \"spotify_artist_id\", \"spotify_album_id\"]).aggregate({\n",
    "        \"month\": \"count\",\n",
    "        \"indicativerevenue\": \"sum\",\n",
    "        \"position\": [\"min\", \"mean\", \"median\"],\n",
    "    })\n",
    "    .reset_index()\n",
    "    .reset_index()\n",
    "    .set_axis([\"index\", \"id\", \"artist_id\", \"album_id\", \"months\", \"indicativerevenue\", \"position_min\", \"position_mean\", \"position_median\"], axis=1)\n",
    "    .drop(columns=[\"index\"])\n",
    ")\n",
    "\n",
    "song_chart_summary_df.to_csv(\"data/song_chart_summary.csv\", index=False)\n",
    "song_chart_summary_df.to_parquet(\"data/song_chart_summary.pq\")\n",
    "song_chart_summary_df"
   ],
   "metadata": {
    "collapsed": false,
    "pycharm": {
     "name": "#%%\n"
    }
   }
  },
  {
   "cell_type": "code",
   "execution_count": 9,
   "outputs": [
    {
     "name": "stdout",
     "output_type": "stream",
     "text": [
      "/Users/pez/DataspellProjects/music-mining/notebooks\r\n"
     ]
    }
   ],
   "source": [
    "!pwd"
   ],
   "metadata": {
    "collapsed": false,
    "pycharm": {
     "name": "#%%\n"
    }
   }
  },
  {
   "cell_type": "code",
   "execution_count": null,
   "outputs": [],
   "source": [],
   "metadata": {
    "collapsed": false,
    "pycharm": {
     "name": "#%%\n"
    }
   }
  }
 ],
 "metadata": {
  "kernelspec": {
   "display_name": "Python 3",
   "language": "python",
   "name": "python3"
  },
  "language_info": {
   "codemirror_mode": {
    "name": "ipython",
    "version": 2
   },
   "file_extension": ".py",
   "mimetype": "text/x-python",
   "name": "python",
   "nbconvert_exporter": "python",
   "pygments_lexer": "ipython2",
   "version": "2.7.6"
  }
 },
 "nbformat": 4,
 "nbformat_minor": 0
}