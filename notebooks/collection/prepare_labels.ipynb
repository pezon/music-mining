{
 "cells": [
  {
   "cell_type": "code",
   "execution_count": 1,
   "metadata": {
    "collapsed": true
   },
   "outputs": [],
   "source": [
    "import json\n",
    "import itertools\n",
    "from time import sleep\n",
    "from pprint import pprint\n",
    "\n",
    "import pandas as pd\n",
    "import requests\n",
    "from dotenv import load_dotenv\n",
    "from spotipy import Spotify, SpotifyClientCredentials\n",
    "\n",
    "from util import mbz\n",
    "\n",
    "load_dotenv()\n",
    "\n",
    "spotify = Spotify(client_credentials_manager=SpotifyClientCredentials(),\n",
    "                  requests_timeout=10, retries=3)"
   ]
  },
  {
   "cell_type": "code",
   "execution_count": 2,
   "outputs": [],
   "source": [
    "def fetch_label(isrc):\n",
    "    url = f\"https://musicbrainz.org/ws/2/isrc/{isrc}?fmt=json&inc=label-rels\"\n",
    "    r = requests.get(url)\n",
    "    #print(r)\n",
    "    try:\n",
    "        sleep(1)\n",
    "        if not r.ok:\n",
    "            #print(\"NOT OK\")\n",
    "            return\n",
    "        recordings = r.json()[\"recordings\"]\n",
    "    except Exception as err:\n",
    "        #print(\"ERROR\")\n",
    "        return\n",
    "    if len(recordings) == 0:\n",
    "        #print(\"NO RECORDS\")\n",
    "        return\n",
    "    for recording in recordings:\n",
    "        if \"relations\" not in recording:\n",
    "            continue\n",
    "        for relation in recording[\"relations\"]:\n",
    "            #print(relation)\n",
    "            label = relation[\"label\"]\n",
    "            yield {\n",
    "                \"id\": label[\"id\"],\n",
    "                \"name\": label[\"name\"],\n",
    "                \"begin\": relation[\"begin\"],\n",
    "                \"rel_type\": relation.get(\"type\"),\n",
    "                \"label_type\": label.get(\"type\"),\n",
    "            } # relation\n",
    "        break"
   ],
   "metadata": {
    "collapsed": false,
    "pycharm": {
     "name": "#%%\n"
    }
   }
  },
  {
   "cell_type": "code",
   "execution_count": 3,
   "outputs": [],
   "source": [
    "def fetch_parent_label(label_id):\n",
    "    label = mbz.get_label_by_id(label_id, includes=[\"label-rels\"])[\"label\"]\n",
    "    sleep(1)\n",
    "    if \"label-relation-list\" not in label:\n",
    "        return\n",
    "    for ll in label[\"label-relation-list\"]:\n",
    "        if ll[\"direction\"] == \"forward\": #\\\n",
    "                #or ll[\"label\"].get(\"type\") != \"Holding\":\n",
    "            continue\n",
    "        yield {\n",
    "            \"id\": ll[\"label\"][\"id\"],\n",
    "            \"name\": ll[\"label\"][\"name\"],\n",
    "            \"rel_type\": ll.get(\"type\"),\n",
    "            \"label_type\": ll[\"label\"].get(\"type\"),\n",
    "        }"
   ],
   "metadata": {
    "collapsed": false,
    "pycharm": {
     "name": "#%%\n"
    }
   }
  },
  {
   "cell_type": "code",
   "execution_count": 4,
   "outputs": [],
   "source": [
    "def search_label(album_name, artist_name):\n",
    "    releases = mbz.search_releases(f\"album: {album_name} artist: {artist_name}\")\n",
    "    #print(album_name, artist_name)\n",
    "    sleep(1)\n",
    "    if \"release-list\" not in releases:\n",
    "        return\n",
    "    for i in range(0, 3):\n",
    "        try:\n",
    "            release = releases[\"release-list\"][i]\n",
    "        except IndexError as err:\n",
    "            break\n",
    "        if \"label-info-list\" not in release:\n",
    "            break\n",
    "        for label in release[\"label-info-list\"]:\n",
    "            if \"label\" in label:\n",
    "                yield label[\"label\"]\n",
    "            # break"
   ],
   "metadata": {
    "collapsed": false,
    "pycharm": {
     "name": "#%%\n"
    }
   }
  },
  {
   "cell_type": "code",
   "execution_count": 5,
   "outputs": [],
   "source": [
    "def get_artist_info(artist_name):\n",
    "    artists = mbz.search_artists(artist_name)\n",
    "    if artists[\"artist-count\"] > 0:\n",
    "        artist = artists[\"artist-list\"][0]\n",
    "        artist_gender = artist.get(\"gender\")\n",
    "        artist_country= artist.get(\"country\")\n",
    "        artist_tags = artist.get(\"tag-list\")\n",
    "        artist_begin_area = artist.get(\"begin-area\", {}).get(\"name\")\n",
    "        try:\n",
    "            top_genre = sorted(artist_tags, key=lambda tag: tag[\"count\"])[-1][\"name\"]\n",
    "        except:\n",
    "            top_genre = None\n",
    "        return {\n",
    "            \"gender\": artist_gender,\n",
    "            \"country\": artist_country,\n",
    "            \"genre\": top_genre,\n",
    "            \"begin_area\": artist_begin_area,\n",
    "        }\n",
    "    return {}"
   ],
   "metadata": {
    "collapsed": false,
    "pycharm": {
     "name": "#%%\n"
    }
   }
  },
  {
   "cell_type": "code",
   "execution_count": 8,
   "outputs": [
    {
     "ename": "FileNotFoundError",
     "evalue": "[Errno 2] No such file or directory: 'data/02-track_features_balanced_wide_w_labels.pq'",
     "output_type": "error",
     "traceback": [
      "\u001B[0;31m---------------------------------------------------------------------------\u001B[0m",
      "\u001B[0;31mFileNotFoundError\u001B[0m                         Traceback (most recent call last)",
      "\u001B[0;32m/var/folders/x2/3tdlb6px40qfq870vwx5y6080000gn/T/ipykernel_30925/3992449074.py\u001B[0m in \u001B[0;36m<module>\u001B[0;34m\u001B[0m\n\u001B[1;32m      4\u001B[0m \u001B[0mtracks_df\u001B[0m\u001B[0;34m[\u001B[0m\u001B[0;34m\"parent_holding\"\u001B[0m\u001B[0;34m]\u001B[0m \u001B[0;34m=\u001B[0m \u001B[0mtracks_df\u001B[0m\u001B[0;34m[\u001B[0m\u001B[0;34m\"parent_labels\"\u001B[0m\u001B[0;34m]\u001B[0m\u001B[0;34m.\u001B[0m\u001B[0mapply\u001B[0m\u001B[0;34m(\u001B[0m\u001B[0;32mlambda\u001B[0m \u001B[0mlabels_list\u001B[0m\u001B[0;34m:\u001B[0m \u001B[0;34m[\u001B[0m\u001B[0ml\u001B[0m \u001B[0;32mfor\u001B[0m \u001B[0ml\u001B[0m \u001B[0;32min\u001B[0m \u001B[0mitertools\u001B[0m\u001B[0;34m.\u001B[0m\u001B[0mchain\u001B[0m\u001B[0;34m(\u001B[0m\u001B[0;34m*\u001B[0m\u001B[0mlabels_list\u001B[0m\u001B[0;34m)\u001B[0m \u001B[0;32mif\u001B[0m \u001B[0ml\u001B[0m\u001B[0;34m[\u001B[0m\u001B[0;34m\"label_type\"\u001B[0m\u001B[0;34m]\u001B[0m \u001B[0;34m==\u001B[0m \u001B[0;34m\"Holding\"\u001B[0m\u001B[0;34m]\u001B[0m\u001B[0;34m)\u001B[0m\u001B[0;34m\u001B[0m\u001B[0;34m\u001B[0m\u001B[0m\n\u001B[1;32m      5\u001B[0m \u001B[0mtracks_df\u001B[0m\u001B[0;34m[\u001B[0m\u001B[0;34m\"parent_distrib\"\u001B[0m\u001B[0;34m]\u001B[0m \u001B[0;34m=\u001B[0m \u001B[0mtracks_df\u001B[0m\u001B[0;34m[\u001B[0m\u001B[0;34m\"parent_labels\"\u001B[0m\u001B[0;34m]\u001B[0m\u001B[0;34m.\u001B[0m\u001B[0mapply\u001B[0m\u001B[0;34m(\u001B[0m\u001B[0;32mlambda\u001B[0m \u001B[0mlabels_list\u001B[0m\u001B[0;34m:\u001B[0m \u001B[0;34m[\u001B[0m\u001B[0ml\u001B[0m \u001B[0;32mfor\u001B[0m \u001B[0ml\u001B[0m \u001B[0;32min\u001B[0m \u001B[0mitertools\u001B[0m\u001B[0;34m.\u001B[0m\u001B[0mchain\u001B[0m\u001B[0;34m(\u001B[0m\u001B[0;34m*\u001B[0m\u001B[0mlabels_list\u001B[0m\u001B[0;34m)\u001B[0m \u001B[0;32mif\u001B[0m \u001B[0ml\u001B[0m\u001B[0;34m[\u001B[0m\u001B[0;34m\"label_type\"\u001B[0m\u001B[0;34m]\u001B[0m \u001B[0;34m==\u001B[0m \u001B[0;34m\"Holding\"\u001B[0m\u001B[0;34m]\u001B[0m\u001B[0;34m)\u001B[0m\u001B[0;34m\u001B[0m\u001B[0;34m\u001B[0m\u001B[0m\n\u001B[0;32m----> 6\u001B[0;31m \u001B[0mtracks_df\u001B[0m\u001B[0;34m.\u001B[0m\u001B[0mto_parquet\u001B[0m\u001B[0;34m(\u001B[0m\u001B[0;34m\"data/02-track_features_balanced_wide_w_labels.pq\"\u001B[0m\u001B[0;34m)\u001B[0m\u001B[0;34m\u001B[0m\u001B[0;34m\u001B[0m\u001B[0m\n\u001B[0m",
      "\u001B[0;32m~/.conda/envs/dataspell-2/lib/python3.9/site-packages/pandas/util/_decorators.py\u001B[0m in \u001B[0;36mwrapper\u001B[0;34m(*args, **kwargs)\u001B[0m\n\u001B[1;32m    205\u001B[0m                 \u001B[0;32melse\u001B[0m\u001B[0;34m:\u001B[0m\u001B[0;34m\u001B[0m\u001B[0;34m\u001B[0m\u001B[0m\n\u001B[1;32m    206\u001B[0m                     \u001B[0mkwargs\u001B[0m\u001B[0;34m[\u001B[0m\u001B[0mnew_arg_name\u001B[0m\u001B[0;34m]\u001B[0m \u001B[0;34m=\u001B[0m \u001B[0mnew_arg_value\u001B[0m\u001B[0;34m\u001B[0m\u001B[0;34m\u001B[0m\u001B[0m\n\u001B[0;32m--> 207\u001B[0;31m             \u001B[0;32mreturn\u001B[0m \u001B[0mfunc\u001B[0m\u001B[0;34m(\u001B[0m\u001B[0;34m*\u001B[0m\u001B[0margs\u001B[0m\u001B[0;34m,\u001B[0m \u001B[0;34m**\u001B[0m\u001B[0mkwargs\u001B[0m\u001B[0;34m)\u001B[0m\u001B[0;34m\u001B[0m\u001B[0;34m\u001B[0m\u001B[0m\n\u001B[0m\u001B[1;32m    208\u001B[0m \u001B[0;34m\u001B[0m\u001B[0m\n\u001B[1;32m    209\u001B[0m         \u001B[0;32mreturn\u001B[0m \u001B[0mcast\u001B[0m\u001B[0;34m(\u001B[0m\u001B[0mF\u001B[0m\u001B[0;34m,\u001B[0m \u001B[0mwrapper\u001B[0m\u001B[0;34m)\u001B[0m\u001B[0;34m\u001B[0m\u001B[0;34m\u001B[0m\u001B[0m\n",
      "\u001B[0;32m~/.conda/envs/dataspell-2/lib/python3.9/site-packages/pandas/core/frame.py\u001B[0m in \u001B[0;36mto_parquet\u001B[0;34m(self, path, engine, compression, index, partition_cols, storage_options, **kwargs)\u001B[0m\n\u001B[1;32m   2675\u001B[0m         \u001B[0;32mfrom\u001B[0m \u001B[0mpandas\u001B[0m\u001B[0;34m.\u001B[0m\u001B[0mio\u001B[0m\u001B[0;34m.\u001B[0m\u001B[0mparquet\u001B[0m \u001B[0;32mimport\u001B[0m \u001B[0mto_parquet\u001B[0m\u001B[0;34m\u001B[0m\u001B[0;34m\u001B[0m\u001B[0m\n\u001B[1;32m   2676\u001B[0m \u001B[0;34m\u001B[0m\u001B[0m\n\u001B[0;32m-> 2677\u001B[0;31m         return to_parquet(\n\u001B[0m\u001B[1;32m   2678\u001B[0m             \u001B[0mself\u001B[0m\u001B[0;34m,\u001B[0m\u001B[0;34m\u001B[0m\u001B[0;34m\u001B[0m\u001B[0m\n\u001B[1;32m   2679\u001B[0m             \u001B[0mpath\u001B[0m\u001B[0;34m,\u001B[0m\u001B[0;34m\u001B[0m\u001B[0;34m\u001B[0m\u001B[0m\n",
      "\u001B[0;32m~/.conda/envs/dataspell-2/lib/python3.9/site-packages/pandas/io/parquet.py\u001B[0m in \u001B[0;36mto_parquet\u001B[0;34m(df, path, engine, compression, index, storage_options, partition_cols, **kwargs)\u001B[0m\n\u001B[1;32m    414\u001B[0m     \u001B[0mpath_or_buf\u001B[0m\u001B[0;34m:\u001B[0m \u001B[0mFilePathOrBuffer\u001B[0m \u001B[0;34m=\u001B[0m \u001B[0mio\u001B[0m\u001B[0;34m.\u001B[0m\u001B[0mBytesIO\u001B[0m\u001B[0;34m(\u001B[0m\u001B[0;34m)\u001B[0m \u001B[0;32mif\u001B[0m \u001B[0mpath\u001B[0m \u001B[0;32mis\u001B[0m \u001B[0;32mNone\u001B[0m \u001B[0;32melse\u001B[0m \u001B[0mpath\u001B[0m\u001B[0;34m\u001B[0m\u001B[0;34m\u001B[0m\u001B[0m\n\u001B[1;32m    415\u001B[0m \u001B[0;34m\u001B[0m\u001B[0m\n\u001B[0;32m--> 416\u001B[0;31m     impl.write(\n\u001B[0m\u001B[1;32m    417\u001B[0m         \u001B[0mdf\u001B[0m\u001B[0;34m,\u001B[0m\u001B[0;34m\u001B[0m\u001B[0;34m\u001B[0m\u001B[0m\n\u001B[1;32m    418\u001B[0m         \u001B[0mpath_or_buf\u001B[0m\u001B[0;34m,\u001B[0m\u001B[0;34m\u001B[0m\u001B[0;34m\u001B[0m\u001B[0m\n",
      "\u001B[0;32m~/.conda/envs/dataspell-2/lib/python3.9/site-packages/pandas/io/parquet.py\u001B[0m in \u001B[0;36mwrite\u001B[0;34m(self, df, path, compression, index, storage_options, partition_cols, **kwargs)\u001B[0m\n\u001B[1;32m    173\u001B[0m         \u001B[0mtable\u001B[0m \u001B[0;34m=\u001B[0m \u001B[0mself\u001B[0m\u001B[0;34m.\u001B[0m\u001B[0mapi\u001B[0m\u001B[0;34m.\u001B[0m\u001B[0mTable\u001B[0m\u001B[0;34m.\u001B[0m\u001B[0mfrom_pandas\u001B[0m\u001B[0;34m(\u001B[0m\u001B[0mdf\u001B[0m\u001B[0;34m,\u001B[0m \u001B[0;34m**\u001B[0m\u001B[0mfrom_pandas_kwargs\u001B[0m\u001B[0;34m)\u001B[0m\u001B[0;34m\u001B[0m\u001B[0;34m\u001B[0m\u001B[0m\n\u001B[1;32m    174\u001B[0m \u001B[0;34m\u001B[0m\u001B[0m\n\u001B[0;32m--> 175\u001B[0;31m         path_or_handle, handles, kwargs[\"filesystem\"] = _get_path_or_handle(\n\u001B[0m\u001B[1;32m    176\u001B[0m             \u001B[0mpath\u001B[0m\u001B[0;34m,\u001B[0m\u001B[0;34m\u001B[0m\u001B[0;34m\u001B[0m\u001B[0m\n\u001B[1;32m    177\u001B[0m             \u001B[0mkwargs\u001B[0m\u001B[0;34m.\u001B[0m\u001B[0mpop\u001B[0m\u001B[0;34m(\u001B[0m\u001B[0;34m\"filesystem\"\u001B[0m\u001B[0;34m,\u001B[0m \u001B[0;32mNone\u001B[0m\u001B[0;34m)\u001B[0m\u001B[0;34m,\u001B[0m\u001B[0;34m\u001B[0m\u001B[0;34m\u001B[0m\u001B[0m\n",
      "\u001B[0;32m~/.conda/envs/dataspell-2/lib/python3.9/site-packages/pandas/io/parquet.py\u001B[0m in \u001B[0;36m_get_path_or_handle\u001B[0;34m(path, fs, storage_options, mode, is_dir)\u001B[0m\n\u001B[1;32m     99\u001B[0m         \u001B[0;31m# fsspec resources can also point to directories\u001B[0m\u001B[0;34m\u001B[0m\u001B[0;34m\u001B[0m\u001B[0m\n\u001B[1;32m    100\u001B[0m         \u001B[0;31m# this branch is used for example when reading from non-fsspec URLs\u001B[0m\u001B[0;34m\u001B[0m\u001B[0;34m\u001B[0m\u001B[0m\n\u001B[0;32m--> 101\u001B[0;31m         handles = get_handle(\n\u001B[0m\u001B[1;32m    102\u001B[0m             \u001B[0mpath_or_handle\u001B[0m\u001B[0;34m,\u001B[0m \u001B[0mmode\u001B[0m\u001B[0;34m,\u001B[0m \u001B[0mis_text\u001B[0m\u001B[0;34m=\u001B[0m\u001B[0;32mFalse\u001B[0m\u001B[0;34m,\u001B[0m \u001B[0mstorage_options\u001B[0m\u001B[0;34m=\u001B[0m\u001B[0mstorage_options\u001B[0m\u001B[0;34m\u001B[0m\u001B[0;34m\u001B[0m\u001B[0m\n\u001B[1;32m    103\u001B[0m         )\n",
      "\u001B[0;32m~/.conda/envs/dataspell-2/lib/python3.9/site-packages/pandas/io/common.py\u001B[0m in \u001B[0;36mget_handle\u001B[0;34m(path_or_buf, mode, encoding, compression, memory_map, is_text, errors, storage_options)\u001B[0m\n\u001B[1;32m    709\u001B[0m         \u001B[0;32melse\u001B[0m\u001B[0;34m:\u001B[0m\u001B[0;34m\u001B[0m\u001B[0;34m\u001B[0m\u001B[0m\n\u001B[1;32m    710\u001B[0m             \u001B[0;31m# Binary mode\u001B[0m\u001B[0;34m\u001B[0m\u001B[0;34m\u001B[0m\u001B[0m\n\u001B[0;32m--> 711\u001B[0;31m             \u001B[0mhandle\u001B[0m \u001B[0;34m=\u001B[0m \u001B[0mopen\u001B[0m\u001B[0;34m(\u001B[0m\u001B[0mhandle\u001B[0m\u001B[0;34m,\u001B[0m \u001B[0mioargs\u001B[0m\u001B[0;34m.\u001B[0m\u001B[0mmode\u001B[0m\u001B[0;34m)\u001B[0m\u001B[0;34m\u001B[0m\u001B[0;34m\u001B[0m\u001B[0m\n\u001B[0m\u001B[1;32m    712\u001B[0m         \u001B[0mhandles\u001B[0m\u001B[0;34m.\u001B[0m\u001B[0mappend\u001B[0m\u001B[0;34m(\u001B[0m\u001B[0mhandle\u001B[0m\u001B[0;34m)\u001B[0m\u001B[0;34m\u001B[0m\u001B[0;34m\u001B[0m\u001B[0m\n\u001B[1;32m    713\u001B[0m \u001B[0;34m\u001B[0m\u001B[0m\n",
      "\u001B[0;31mFileNotFoundError\u001B[0m: [Errno 2] No such file or directory: 'data/02-track_features_balanced_wide_w_labels.pq'"
     ]
    }
   ],
   "source": [
    "tracks_df = pd.read_parquet(\"../../data/02-track_features_balanced_wide.pq\")\n",
    "tracks_df[\"labels\"] = tracks_df.apply(lambda r: list(search_label(r[\"album\"], json.loads(r[\"artists\"])[0])), axis=1)\n",
    "tracks_df[\"parent_labels\"] = tracks_df[\"labels\"].apply(lambda labels: [list(fetch_parent_label(label[\"id\"])) for label in labels if \"id\" in label])\n",
    "tracks_df[\"parent_holding\"] = tracks_df[\"parent_labels\"].apply(lambda labels_list: [l for l in itertools.chain(*labels_list) if l[\"label_type\"] == \"Holding\"])\n",
    "tracks_df[\"parent_distrib\"] = tracks_df[\"parent_labels\"].apply(lambda labels_list: [l for l in itertools.chain(*labels_list) if l[\"label_type\"] == \"Holding\"])\n",
    "tracks_df.to_parquet(\"data/02-track_features_balanced_wide_w_labels.pq\")"
   ],
   "metadata": {
    "collapsed": false,
    "pycharm": {
     "name": "#%%\n"
    }
   }
  },
  {
   "cell_type": "markdown",
   "source": [],
   "metadata": {
    "collapsed": false
   }
  },
  {
   "cell_type": "markdown",
   "source": [],
   "metadata": {
    "collapsed": false
   }
  },
  {
   "cell_type": "code",
   "execution_count": 9,
   "outputs": [],
   "source": [
    "labels_df = tracks_df[[\"id\", \"album_id\", \"artist_ids\", \"labels\", \"parent_labels\", \"parent_holding\", \"parent_distrib\"]]\n",
    "labels_df.to_parquet(\"../../data/raw/labels.pq\")\n",
    "labels_df.to_csv(\"../../data/raw/labels.csv\")"
   ],
   "metadata": {
    "collapsed": false,
    "pycharm": {
     "name": "#%%\n"
    }
   }
  },
  {
   "cell_type": "code",
   "execution_count": 10,
   "outputs": [
    {
     "data": {
      "text/plain": "                          id                album_id  \\\n0     3tv697PZNnaQN0Mn2zGhS5  17jzAujoXwIF60ojew1yHU   \n1     5pL1kLX6Na0U0TMcjr4uCX  2kwDzS0PeUOLvCBFrfdgXZ   \n2     08Xghd9UmgnmPnC5TXaHPb  040Q4a68MlNNNn6Wiqc3y9   \n3     4wd4XuOegRaSCUh8h0v0nT  66s167lmALWxjRCd09LYLq   \n4     2UVbBKQOdFAekPTRsnkzcf  7fd7SEK25VS3gJAUgSwL6y   \n...                      ...                     ...   \n4241  5FPnjikbwlDMULCCCa6ZCJ  6WivmTXugLZLmAWnZhlz7g   \n4242  4675yUu8AUbE72T94BkLCD  0knL5fTAXqq9oq4Yeyibc8   \n4243  0Sg5kWoILCs2zBoIHIsDAa  0xBQEVKKlFKaetqike1qXK   \n4244  4G2npa34uNpY4IOnAhA02K  7f6DVhjTCZa9dZMOe21eUp   \n4245  0B1k8wvb1HepHWYj2y2Nfv  6Odezd4PL6tk5CmNqoSvVC   \n\n                                             artist_ids  \\\n0                            [\"7MiDcPa6UiV3In7lIM71IN\"]   \n1                            [\"6LYGxFCmlJvAG6loQiNeox\"]   \n2                            [\"7wxdiKcDiQBZmlu0TA7QwB\"]   \n3                            [\"2XsudBfsvfyV3kgElVU8iF\"]   \n4                            [\"6oMuImdp5ZcFhWP0ESe6mG\"]   \n...                                                 ...   \n4241                         [\"0hEurMDQu99nJRq8pTxO14\"]   \n4242  [\"7hJcb9fa4alzcOq3EaNPoG\", \"2RdwBSPQiwcmiDo9ki...   \n4243                         [\"0u2FHSq3ln94y5Q57xazwf\"]   \n4244                         [\"0JbfYwi6VX4DlyGp0mDJnS\"]   \n4245  [\"7o9Nl7K1Al6NNAHX6jn6iG\", \"0du5cEVh5yTK9QJze8...   \n\n                                                 labels  \\\n0     [{'id': '9e6b4d7f-4958-4db7-8504-d89e315836af'...   \n1                                                    []   \n2                                                    []   \n3     [{'id': '011d1192-6f65-45bd-85c4-0400dd45693e'...   \n4     [{'id': 'abea2d3e-eabf-4480-ab24-9382dd642c73'...   \n...                                                 ...   \n4241  [{'id': '88a12c3e-4dcf-440c-9a89-c2f4036cfba0'...   \n4242  [{'id': '977bebc6-0299-414a-a1e7-294771483efe'...   \n4243  [{'id': 'abea2d3e-eabf-4480-ab24-9382dd642c73'...   \n4244                                                 []   \n4245                                                 []   \n\n                                          parent_labels  \\\n0     [[{'id': '76165151-48c0-49da-aa6e-ff50cda698e2...   \n1                                                    []   \n2                                                    []   \n3     [[{'id': 'a18a216f-fc97-4d3e-9b8b-aaa93446f0e5...   \n4     [[{'id': 'e63fbdc9-1547-4ffa-96d1-c4e887b6af28...   \n...                                                 ...   \n4241  [[{'id': '9311b139-862e-476b-95e9-f46de04953de...   \n4242  [[{'id': 'ce7a2977-c7dd-4695-97e0-5e72572bf0d3...   \n4243  [[{'id': 'e63fbdc9-1547-4ffa-96d1-c4e887b6af28...   \n4244                                                 []   \n4245                                                 []   \n\n                                         parent_holding  \\\n0     [{'id': 'e097dfe4-25e6-40ee-b720-f81e513609d2'...   \n1                                                    []   \n2                                                    []   \n3     [{'id': '27795d9f-3994-4643-9cd2-c5f2b304472d'...   \n4     [{'id': 'e63fbdc9-1547-4ffa-96d1-c4e887b6af28'...   \n...                                                 ...   \n4241                                                 []   \n4242  [{'id': '399a1a44-54b2-4cf2-99be-d95d096eebd3'...   \n4243  [{'id': 'e63fbdc9-1547-4ffa-96d1-c4e887b6af28'...   \n4244                                                 []   \n4245                                                 []   \n\n                                         parent_distrib  \n0     [{'id': 'e097dfe4-25e6-40ee-b720-f81e513609d2'...  \n1                                                    []  \n2                                                    []  \n3     [{'id': '27795d9f-3994-4643-9cd2-c5f2b304472d'...  \n4     [{'id': 'e63fbdc9-1547-4ffa-96d1-c4e887b6af28'...  \n...                                                 ...  \n4241                                                 []  \n4242  [{'id': '399a1a44-54b2-4cf2-99be-d95d096eebd3'...  \n4243  [{'id': 'e63fbdc9-1547-4ffa-96d1-c4e887b6af28'...  \n4244                                                 []  \n4245                                                 []  \n\n[4246 rows x 7 columns]",
      "text/html": "<div>\n<style scoped>\n    .dataframe tbody tr th:only-of-type {\n        vertical-align: middle;\n    }\n\n    .dataframe tbody tr th {\n        vertical-align: top;\n    }\n\n    .dataframe thead th {\n        text-align: right;\n    }\n</style>\n<table border=\"1\" class=\"dataframe\">\n  <thead>\n    <tr style=\"text-align: right;\">\n      <th></th>\n      <th>id</th>\n      <th>album_id</th>\n      <th>artist_ids</th>\n      <th>labels</th>\n      <th>parent_labels</th>\n      <th>parent_holding</th>\n      <th>parent_distrib</th>\n    </tr>\n  </thead>\n  <tbody>\n    <tr>\n      <th>0</th>\n      <td>3tv697PZNnaQN0Mn2zGhS5</td>\n      <td>17jzAujoXwIF60ojew1yHU</td>\n      <td>[\"7MiDcPa6UiV3In7lIM71IN\"]</td>\n      <td>[{'id': '9e6b4d7f-4958-4db7-8504-d89e315836af'...</td>\n      <td>[[{'id': '76165151-48c0-49da-aa6e-ff50cda698e2...</td>\n      <td>[{'id': 'e097dfe4-25e6-40ee-b720-f81e513609d2'...</td>\n      <td>[{'id': 'e097dfe4-25e6-40ee-b720-f81e513609d2'...</td>\n    </tr>\n    <tr>\n      <th>1</th>\n      <td>5pL1kLX6Na0U0TMcjr4uCX</td>\n      <td>2kwDzS0PeUOLvCBFrfdgXZ</td>\n      <td>[\"6LYGxFCmlJvAG6loQiNeox\"]</td>\n      <td>[]</td>\n      <td>[]</td>\n      <td>[]</td>\n      <td>[]</td>\n    </tr>\n    <tr>\n      <th>2</th>\n      <td>08Xghd9UmgnmPnC5TXaHPb</td>\n      <td>040Q4a68MlNNNn6Wiqc3y9</td>\n      <td>[\"7wxdiKcDiQBZmlu0TA7QwB\"]</td>\n      <td>[]</td>\n      <td>[]</td>\n      <td>[]</td>\n      <td>[]</td>\n    </tr>\n    <tr>\n      <th>3</th>\n      <td>4wd4XuOegRaSCUh8h0v0nT</td>\n      <td>66s167lmALWxjRCd09LYLq</td>\n      <td>[\"2XsudBfsvfyV3kgElVU8iF\"]</td>\n      <td>[{'id': '011d1192-6f65-45bd-85c4-0400dd45693e'...</td>\n      <td>[[{'id': 'a18a216f-fc97-4d3e-9b8b-aaa93446f0e5...</td>\n      <td>[{'id': '27795d9f-3994-4643-9cd2-c5f2b304472d'...</td>\n      <td>[{'id': '27795d9f-3994-4643-9cd2-c5f2b304472d'...</td>\n    </tr>\n    <tr>\n      <th>4</th>\n      <td>2UVbBKQOdFAekPTRsnkzcf</td>\n      <td>7fd7SEK25VS3gJAUgSwL6y</td>\n      <td>[\"6oMuImdp5ZcFhWP0ESe6mG\"]</td>\n      <td>[{'id': 'abea2d3e-eabf-4480-ab24-9382dd642c73'...</td>\n      <td>[[{'id': 'e63fbdc9-1547-4ffa-96d1-c4e887b6af28...</td>\n      <td>[{'id': 'e63fbdc9-1547-4ffa-96d1-c4e887b6af28'...</td>\n      <td>[{'id': 'e63fbdc9-1547-4ffa-96d1-c4e887b6af28'...</td>\n    </tr>\n    <tr>\n      <th>...</th>\n      <td>...</td>\n      <td>...</td>\n      <td>...</td>\n      <td>...</td>\n      <td>...</td>\n      <td>...</td>\n      <td>...</td>\n    </tr>\n    <tr>\n      <th>4241</th>\n      <td>5FPnjikbwlDMULCCCa6ZCJ</td>\n      <td>6WivmTXugLZLmAWnZhlz7g</td>\n      <td>[\"0hEurMDQu99nJRq8pTxO14\"]</td>\n      <td>[{'id': '88a12c3e-4dcf-440c-9a89-c2f4036cfba0'...</td>\n      <td>[[{'id': '9311b139-862e-476b-95e9-f46de04953de...</td>\n      <td>[]</td>\n      <td>[]</td>\n    </tr>\n    <tr>\n      <th>4242</th>\n      <td>4675yUu8AUbE72T94BkLCD</td>\n      <td>0knL5fTAXqq9oq4Yeyibc8</td>\n      <td>[\"7hJcb9fa4alzcOq3EaNPoG\", \"2RdwBSPQiwcmiDo9ki...</td>\n      <td>[{'id': '977bebc6-0299-414a-a1e7-294771483efe'...</td>\n      <td>[[{'id': 'ce7a2977-c7dd-4695-97e0-5e72572bf0d3...</td>\n      <td>[{'id': '399a1a44-54b2-4cf2-99be-d95d096eebd3'...</td>\n      <td>[{'id': '399a1a44-54b2-4cf2-99be-d95d096eebd3'...</td>\n    </tr>\n    <tr>\n      <th>4243</th>\n      <td>0Sg5kWoILCs2zBoIHIsDAa</td>\n      <td>0xBQEVKKlFKaetqike1qXK</td>\n      <td>[\"0u2FHSq3ln94y5Q57xazwf\"]</td>\n      <td>[{'id': 'abea2d3e-eabf-4480-ab24-9382dd642c73'...</td>\n      <td>[[{'id': 'e63fbdc9-1547-4ffa-96d1-c4e887b6af28...</td>\n      <td>[{'id': 'e63fbdc9-1547-4ffa-96d1-c4e887b6af28'...</td>\n      <td>[{'id': 'e63fbdc9-1547-4ffa-96d1-c4e887b6af28'...</td>\n    </tr>\n    <tr>\n      <th>4244</th>\n      <td>4G2npa34uNpY4IOnAhA02K</td>\n      <td>7f6DVhjTCZa9dZMOe21eUp</td>\n      <td>[\"0JbfYwi6VX4DlyGp0mDJnS\"]</td>\n      <td>[]</td>\n      <td>[]</td>\n      <td>[]</td>\n      <td>[]</td>\n    </tr>\n    <tr>\n      <th>4245</th>\n      <td>0B1k8wvb1HepHWYj2y2Nfv</td>\n      <td>6Odezd4PL6tk5CmNqoSvVC</td>\n      <td>[\"7o9Nl7K1Al6NNAHX6jn6iG\", \"0du5cEVh5yTK9QJze8...</td>\n      <td>[]</td>\n      <td>[]</td>\n      <td>[]</td>\n      <td>[]</td>\n    </tr>\n  </tbody>\n</table>\n<p>4246 rows × 7 columns</p>\n</div>"
     },
     "execution_count": 10,
     "metadata": {},
     "output_type": "execute_result"
    }
   ],
   "source": [
    "labels_df"
   ],
   "metadata": {
    "collapsed": false,
    "pycharm": {
     "name": "#%%\n"
    }
   }
  },
  {
   "cell_type": "code",
   "execution_count": null,
   "outputs": [],
   "source": [],
   "metadata": {
    "collapsed": false,
    "pycharm": {
     "name": "#%%\n"
    }
   }
  }
 ],
 "metadata": {
  "kernelspec": {
   "display_name": "Python 3",
   "language": "python",
   "name": "python3"
  },
  "language_info": {
   "codemirror_mode": {
    "name": "ipython",
    "version": 2
   },
   "file_extension": ".py",
   "mimetype": "text/x-python",
   "name": "python",
   "nbconvert_exporter": "python",
   "pygments_lexer": "ipython2",
   "version": "2.7.6"
  }
 },
 "nbformat": 4,
 "nbformat_minor": 0
}