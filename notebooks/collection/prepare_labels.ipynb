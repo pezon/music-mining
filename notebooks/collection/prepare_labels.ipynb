{
 "cells": [
  {
   "cell_type": "code",
   "execution_count": 1,
   "metadata": {
    "collapsed": true
   },
   "outputs": [],
   "source": [
    "import json\n",
    "import itertools\n",
    "from time import sleep\n",
    "from pprint import pprint\n",
    "\n",
    "import pandas as pd\n",
    "import requests\n",
    "from dotenv import load_dotenv\n",
    "from spotipy import Spotify, SpotifyClientCredentials\n",
    "\n",
    "from util import mbz\n",
    "\n",
    "load_dotenv()\n",
    "\n",
    "spotify = Spotify(client_credentials_manager=SpotifyClientCredentials(),\n",
    "                  requests_timeout=10, retries=3)"
   ]
  },
  {
   "cell_type": "code",
   "execution_count": 2,
   "outputs": [],
   "source": [
    "def fetch_label(isrc):\n",
    "    url = f\"https://musicbrainz.org/ws/2/isrc/{isrc}?fmt=json&inc=label-rels\"\n",
    "    r = requests.get(url)\n",
    "    #print(r)\n",
    "    try:\n",
    "        sleep(1)\n",
    "        if not r.ok:\n",
    "            #print(\"NOT OK\")\n",
    "            return\n",
    "        recordings = r.json()[\"recordings\"]\n",
    "    except Exception as err:\n",
    "        #print(\"ERROR\")\n",
    "        return\n",
    "    if len(recordings) == 0:\n",
    "        #print(\"NO RECORDS\")\n",
    "        return\n",
    "    for recording in recordings:\n",
    "        if \"relations\" not in recording:\n",
    "            continue\n",
    "        for relation in recording[\"relations\"]:\n",
    "            #print(relation)\n",
    "            label = relation[\"label\"]\n",
    "            yield {\n",
    "                \"id\": label[\"id\"],\n",
    "                \"name\": label[\"name\"],\n",
    "                \"begin\": relation[\"begin\"],\n",
    "                \"rel_type\": relation.get(\"type\"),\n",
    "                \"label_type\": label.get(\"type\"),\n",
    "            } # relation\n",
    "        break"
   ],
   "metadata": {
    "collapsed": false,
    "pycharm": {
     "name": "#%%\n"
    }
   }
  },
  {
   "cell_type": "code",
   "execution_count": 4,
   "outputs": [],
   "source": [
    "def fetch_parent_label(label_id):\n",
    "    label = mbz.get_label_by_id(label_id, includes=[\"label-rels\"])[\"label\"]\n",
    "    sleep(1)\n",
    "    if \"label-relation-list\" not in label:\n",
    "        return\n",
    "    for ll in label[\"label-relation-list\"]:\n",
    "        if ll[\"direction\"] == \"forward\": #\\\n",
    "                #or ll[\"label\"].get(\"type\") != \"Holding\":\n",
    "            continue\n",
    "        yield {\n",
    "            \"id\": ll[\"label\"][\"id\"],\n",
    "            \"name\": ll[\"label\"][\"name\"],\n",
    "            \"rel_type\": ll.get(\"type\"),\n",
    "            \"label_type\": ll[\"label\"].get(\"type\"),\n",
    "        }"
   ],
   "metadata": {
    "collapsed": false,
    "pycharm": {
     "name": "#%%\n"
    }
   }
  },
  {
   "cell_type": "code",
   "execution_count": 8,
   "outputs": [],
   "source": [
    "def search_label(album_name, artist_name):\n",
    "    releases = mbz.search_releases(f\"album: {album_name} artist: {artist_name}\")\n",
    "    #print(album_name, artist_name)\n",
    "    sleep(1)\n",
    "    if \"release-list\" not in releases:\n",
    "        return\n",
    "    for i in range(0, 3):\n",
    "        try:\n",
    "            release = releases[\"release-list\"][i]\n",
    "        except IndexError as err:\n",
    "            break\n",
    "        if \"label-info-list\" not in release:\n",
    "            break\n",
    "        for label in release[\"label-info-list\"]:\n",
    "            if \"label\" in label:\n",
    "                yield label[\"label\"]\n",
    "            # break"
   ],
   "metadata": {
    "collapsed": false,
    "pycharm": {
     "name": "#%%\n"
    }
   }
  },
  {
   "cell_type": "code",
   "execution_count": 6,
   "outputs": [],
   "source": [
    "def get_artist_info(artist_name):\n",
    "    artists = mbz.search_artists(artist_name)\n",
    "    if artists[\"artist-count\"] > 0:\n",
    "        artist = artists[\"artist-list\"][0]\n",
    "        artist_gender = artist.get(\"gender\")\n",
    "        artist_country= artist.get(\"country\")\n",
    "        artist_tags = artist.get(\"tag-list\")\n",
    "        artist_begin_area = artist.get(\"begin-area\", {}).get(\"name\")\n",
    "        try:\n",
    "            top_genre = sorted(artist_tags, key=lambda tag: tag[\"count\"])[-1][\"name\"]\n",
    "        except:\n",
    "            top_genre = None\n",
    "        return {\n",
    "            \"gender\": artist_gender,\n",
    "            \"country\": artist_country,\n",
    "            \"genre\": top_genre,\n",
    "            \"begin_area\": artist_begin_area,\n",
    "        }\n",
    "    return {}"
   ],
   "metadata": {
    "collapsed": false,
    "pycharm": {
     "name": "#%%\n"
    }
   }
  },
  {
   "cell_type": "code",
   "execution_count": null,
   "outputs": [],
   "source": [
    "tracks_df = pd.read_parquet(\"data/02-track_features_balanced_wide.pq\")\n",
    "tracks_df[\"labels\"] = tracks_df.apply(lambda r: list(search_label(r[\"album\"], json.loads(r[\"artists\"])[0])), axis=1)\n",
    "tracks_df[\"parent_labels\"] = tracks_df[\"labels\"].apply(lambda labels: [list(fetch_parent_label(label[\"id\"])) for label in labels if \"id\" in label])\n",
    "tracks_df[\"parent_holding\"] = tracks_df[\"parent_labels\"].apply(lambda labels_list: [l for l in itertools.chain(*labels_list) if l[\"label_type\"] == \"Holding\"])\n",
    "tracks_df[\"parent_distrib\"] = tracks_df[\"parent_labels\"].apply(lambda labels_list: [l for l in itertools.chain(*labels_list) if l[\"label_type\"] == \"Holding\"])\n",
    "tracks_df.to_parquet(\"data/02-track_features_balanced_wide_w_labels.pq\")"
   ],
   "metadata": {
    "collapsed": false,
    "pycharm": {
     "name": "#%%\n",
     "is_executing": true
    }
   }
  },
  {
   "cell_type": "markdown",
   "source": [],
   "metadata": {
    "collapsed": false
   }
  },
  {
   "cell_type": "markdown",
   "source": [],
   "metadata": {
    "collapsed": false
   }
  },
  {
   "cell_type": "code",
   "execution_count": null,
   "outputs": [],
   "source": [],
   "metadata": {
    "collapsed": false,
    "pycharm": {
     "name": "#%%\n"
    }
   }
  }
 ],
 "metadata": {
  "kernelspec": {
   "display_name": "Python 3",
   "language": "python",
   "name": "python3"
  },
  "language_info": {
   "codemirror_mode": {
    "name": "ipython",
    "version": 2
   },
   "file_extension": ".py",
   "mimetype": "text/x-python",
   "name": "python",
   "nbconvert_exporter": "python",
   "pygments_lexer": "ipython2",
   "version": "2.7.6"
  }
 },
 "nbformat": 4,
 "nbformat_minor": 0
}