{
 "cells": [
  {
   "cell_type": "code",
   "execution_count": 70,
   "outputs": [],
   "source": [
    "import itertools\n",
    "import json\n",
    "import os\n",
    "from pathlib import Path\n",
    "from time import time, sleep\n",
    "\n",
    "import pandas as pd\n",
    "import numpy as np\n",
    "from slugify import slugify\n",
    "from util import mbz, spotify, filter_by_artist\n",
    "\n",
    "diff_dataset = False\n",
    "\n",
    "data_path = Path(\"../../data\").resolve()\n",
    "os.makedirs(data_path, exist_ok=True)\n",
    "\n",
    "mbz.set_useragent(\"music-mining-artists\", 0.3, \"pezon@uchicago.edu\")"
   ],
   "metadata": {
    "collapsed": false,
    "pycharm": {
     "name": "#%%\n"
    }
   }
  },
  {
   "cell_type": "code",
   "execution_count": 71,
   "outputs": [
    {
     "data": {
      "text/plain": "6914"
     },
     "execution_count": 71,
     "metadata": {},
     "output_type": "execute_result"
    }
   ],
   "source": [
    "def extract_artist_ids(df, artist_ids_key=\"artist_ids\"):\n",
    "    return df[artist_ids_key].apply(json.loads).explode(artist_ids_key)\n",
    "\n",
    "\n",
    "df = pd.read_parquet(data_path / \"tracks.pq\")\n",
    "if diff_dataset:\n",
    "    df = df[df[\"artist_matched\"] == 0]\n",
    "\n",
    "artist_ids = list(set(extract_artist_ids(df).tolist()))\n",
    "len(artist_ids)"
   ],
   "metadata": {
    "collapsed": false,
    "pycharm": {
     "name": "#%%\n"
    }
   }
  },
  {
   "cell_type": "code",
   "execution_count": 73,
   "outputs": [
    {
     "name": "stdout",
     "output_type": "stream",
     "text": [
      "(6870, 4)\n"
     ]
    },
    {
     "data": {
      "text/plain": "                       id              name  popularity  \\\n0  40Ojab0UtVQFjA76qXr8Ot           Apparat          55   \n1  4cdse9xf7xbAOParaySF6u        Holy Grail          17   \n2  3iri9nBFs9e4wN7PLIetAw      Garrett Nash          70   \n3  12CpR4SNDzVIlDoPSeNFeW  Shashaa Tirupati          71   \n4  1oZePnbK6Qe8NewfhLhJWF             Cromo          37   \n\n                                              genres  \n0  [ambient pop, electronica, glitch, microhouse,...  \n1                                                 []  \n2       [electropop, pop, pop rap, social media pop]  \n3                                            [filmi]  \n4                    [italian hip hop, rap genovese]  ",
      "text/html": "<div>\n<style scoped>\n    .dataframe tbody tr th:only-of-type {\n        vertical-align: middle;\n    }\n\n    .dataframe tbody tr th {\n        vertical-align: top;\n    }\n\n    .dataframe thead th {\n        text-align: right;\n    }\n</style>\n<table border=\"1\" class=\"dataframe\">\n  <thead>\n    <tr style=\"text-align: right;\">\n      <th></th>\n      <th>id</th>\n      <th>name</th>\n      <th>popularity</th>\n      <th>genres</th>\n    </tr>\n  </thead>\n  <tbody>\n    <tr>\n      <th>0</th>\n      <td>40Ojab0UtVQFjA76qXr8Ot</td>\n      <td>Apparat</td>\n      <td>55</td>\n      <td>[ambient pop, electronica, glitch, microhouse,...</td>\n    </tr>\n    <tr>\n      <th>1</th>\n      <td>4cdse9xf7xbAOParaySF6u</td>\n      <td>Holy Grail</td>\n      <td>17</td>\n      <td>[]</td>\n    </tr>\n    <tr>\n      <th>2</th>\n      <td>3iri9nBFs9e4wN7PLIetAw</td>\n      <td>Garrett Nash</td>\n      <td>70</td>\n      <td>[electropop, pop, pop rap, social media pop]</td>\n    </tr>\n    <tr>\n      <th>3</th>\n      <td>12CpR4SNDzVIlDoPSeNFeW</td>\n      <td>Shashaa Tirupati</td>\n      <td>71</td>\n      <td>[filmi]</td>\n    </tr>\n    <tr>\n      <th>4</th>\n      <td>1oZePnbK6Qe8NewfhLhJWF</td>\n      <td>Cromo</td>\n      <td>37</td>\n      <td>[italian hip hop, rap genovese]</td>\n    </tr>\n  </tbody>\n</table>\n</div>"
     },
     "execution_count": 73,
     "metadata": {},
     "output_type": "execute_result"
    }
   ],
   "source": [
    "def fetch_spotify_metadata(artist_ids):\n",
    "    artists = []\n",
    "    for i in range(0, len(artist_ids), 50):\n",
    "        chunk = artist_ids[i:i + 50]\n",
    "        artists.append(\n",
    "            {\n",
    "                \"id\": artist[\"id\"],\n",
    "                \"name\": artist[\"name\"],\n",
    "                \"popularity\": artist[\"popularity\"],\n",
    "                \"genres\": artist[\"genres\"],\n",
    "            }\n",
    "            for artist in spotify.artists(chunk)[\"artists\"]\n",
    "            if \"Karaoke\" not in artist[\"name\"]\n",
    "        )\n",
    "        sleep(0.25)\n",
    "\n",
    "        # logging status to console\n",
    "        total_artists = len(artist_ids)\n",
    "        fetched_artists = len(artists)\n",
    "        if fetched_artists % 500 == 0:\n",
    "            print(f\"status: {fetched_artists / total_artists * 100:.2f} \"\n",
    "                  f\"({fetched_artists} / {total_artists})\")\n",
    "    return pd.DataFrame(itertools.chain(*artists))\n",
    "\n",
    "\n",
    "artist_df = fetch_spotify_metadata(artist_ids)\n",
    "print(artist_df.shape)\n",
    "artist_df.head()"
   ],
   "metadata": {
    "collapsed": false,
    "pycharm": {
     "name": "#%%\n"
    }
   }
  },
  {
   "cell_type": "code",
   "execution_count": 74,
   "outputs": [
    {
     "ename": "KeyboardInterrupt",
     "evalue": "",
     "output_type": "error",
     "traceback": [
      "\u001B[0;31m---------------------------------------------------------------------------\u001B[0m",
      "\u001B[0;31mKeyboardInterrupt\u001B[0m                         Traceback (most recent call last)",
      "\u001B[0;32m/var/folders/x2/3tdlb6px40qfq870vwx5y6080000gn/T/ipykernel_40109/4101451290.py\u001B[0m in \u001B[0;36m<module>\u001B[0;34m\u001B[0m\n\u001B[1;32m     28\u001B[0m \u001B[0;34m\u001B[0m\u001B[0m\n\u001B[1;32m     29\u001B[0m \u001B[0;34m\u001B[0m\u001B[0m\n\u001B[0;32m---> 30\u001B[0;31m \u001B[0martist_df\u001B[0m \u001B[0;34m=\u001B[0m \u001B[0mwith_release_years\u001B[0m\u001B[0;34m(\u001B[0m\u001B[0martist_df\u001B[0m\u001B[0;34m)\u001B[0m\u001B[0;34m\u001B[0m\u001B[0;34m\u001B[0m\u001B[0m\n\u001B[0m\u001B[1;32m     31\u001B[0m \u001B[0mprint\u001B[0m\u001B[0;34m(\u001B[0m\u001B[0martist_df\u001B[0m\u001B[0;34m.\u001B[0m\u001B[0mshape\u001B[0m\u001B[0;34m)\u001B[0m\u001B[0;34m\u001B[0m\u001B[0;34m\u001B[0m\u001B[0m\n\u001B[1;32m     32\u001B[0m \u001B[0martist_df\u001B[0m\u001B[0;34m.\u001B[0m\u001B[0mhead\u001B[0m\u001B[0;34m(\u001B[0m\u001B[0;34m)\u001B[0m\u001B[0;34m\u001B[0m\u001B[0;34m\u001B[0m\u001B[0m\n",
      "\u001B[0;32m/var/folders/x2/3tdlb6px40qfq870vwx5y6080000gn/T/ipykernel_40109/4101451290.py\u001B[0m in \u001B[0;36mwith_release_years\u001B[0;34m(artist_df)\u001B[0m\n\u001B[1;32m     24\u001B[0m \u001B[0;34m\u001B[0m\u001B[0m\n\u001B[1;32m     25\u001B[0m \u001B[0;32mdef\u001B[0m \u001B[0mwith_release_years\u001B[0m\u001B[0;34m(\u001B[0m\u001B[0martist_df\u001B[0m\u001B[0;34m)\u001B[0m\u001B[0;34m:\u001B[0m\u001B[0;34m\u001B[0m\u001B[0;34m\u001B[0m\u001B[0m\n\u001B[0;32m---> 26\u001B[0;31m     \u001B[0martist_df\u001B[0m\u001B[0;34m[\u001B[0m\u001B[0;34m\"release_years\"\u001B[0m\u001B[0;34m]\u001B[0m \u001B[0;34m=\u001B[0m \u001B[0martist_df\u001B[0m\u001B[0;34m[\u001B[0m\u001B[0;34m\"id\"\u001B[0m\u001B[0;34m]\u001B[0m\u001B[0;34m.\u001B[0m\u001B[0mapply\u001B[0m\u001B[0;34m(\u001B[0m\u001B[0mfetch_release_years\u001B[0m\u001B[0;34m)\u001B[0m\u001B[0;34m\u001B[0m\u001B[0;34m\u001B[0m\u001B[0m\n\u001B[0m\u001B[1;32m     27\u001B[0m     \u001B[0;32mreturn\u001B[0m \u001B[0martist_df\u001B[0m\u001B[0;34m\u001B[0m\u001B[0;34m\u001B[0m\u001B[0m\n\u001B[1;32m     28\u001B[0m \u001B[0;34m\u001B[0m\u001B[0m\n",
      "\u001B[0;32m~/.conda/envs/dataspell-2/lib/python3.9/site-packages/pandas/core/series.py\u001B[0m in \u001B[0;36mapply\u001B[0;34m(self, func, convert_dtype, args, **kwargs)\u001B[0m\n\u001B[1;32m   4355\u001B[0m         \u001B[0mdtype\u001B[0m\u001B[0;34m:\u001B[0m \u001B[0mfloat64\u001B[0m\u001B[0;34m\u001B[0m\u001B[0;34m\u001B[0m\u001B[0m\n\u001B[1;32m   4356\u001B[0m         \"\"\"\n\u001B[0;32m-> 4357\u001B[0;31m         \u001B[0;32mreturn\u001B[0m \u001B[0mSeriesApply\u001B[0m\u001B[0;34m(\u001B[0m\u001B[0mself\u001B[0m\u001B[0;34m,\u001B[0m \u001B[0mfunc\u001B[0m\u001B[0;34m,\u001B[0m \u001B[0mconvert_dtype\u001B[0m\u001B[0;34m,\u001B[0m \u001B[0margs\u001B[0m\u001B[0;34m,\u001B[0m \u001B[0mkwargs\u001B[0m\u001B[0;34m)\u001B[0m\u001B[0;34m.\u001B[0m\u001B[0mapply\u001B[0m\u001B[0;34m(\u001B[0m\u001B[0;34m)\u001B[0m\u001B[0;34m\u001B[0m\u001B[0;34m\u001B[0m\u001B[0m\n\u001B[0m\u001B[1;32m   4358\u001B[0m \u001B[0;34m\u001B[0m\u001B[0m\n\u001B[1;32m   4359\u001B[0m     def _reduce(\n",
      "\u001B[0;32m~/.conda/envs/dataspell-2/lib/python3.9/site-packages/pandas/core/apply.py\u001B[0m in \u001B[0;36mapply\u001B[0;34m(self)\u001B[0m\n\u001B[1;32m   1041\u001B[0m             \u001B[0;32mreturn\u001B[0m \u001B[0mself\u001B[0m\u001B[0;34m.\u001B[0m\u001B[0mapply_str\u001B[0m\u001B[0;34m(\u001B[0m\u001B[0;34m)\u001B[0m\u001B[0;34m\u001B[0m\u001B[0;34m\u001B[0m\u001B[0m\n\u001B[1;32m   1042\u001B[0m \u001B[0;34m\u001B[0m\u001B[0m\n\u001B[0;32m-> 1043\u001B[0;31m         \u001B[0;32mreturn\u001B[0m \u001B[0mself\u001B[0m\u001B[0;34m.\u001B[0m\u001B[0mapply_standard\u001B[0m\u001B[0;34m(\u001B[0m\u001B[0;34m)\u001B[0m\u001B[0;34m\u001B[0m\u001B[0;34m\u001B[0m\u001B[0m\n\u001B[0m\u001B[1;32m   1044\u001B[0m \u001B[0;34m\u001B[0m\u001B[0m\n\u001B[1;32m   1045\u001B[0m     \u001B[0;32mdef\u001B[0m \u001B[0magg\u001B[0m\u001B[0;34m(\u001B[0m\u001B[0mself\u001B[0m\u001B[0;34m)\u001B[0m\u001B[0;34m:\u001B[0m\u001B[0;34m\u001B[0m\u001B[0;34m\u001B[0m\u001B[0m\n",
      "\u001B[0;32m~/.conda/envs/dataspell-2/lib/python3.9/site-packages/pandas/core/apply.py\u001B[0m in \u001B[0;36mapply_standard\u001B[0;34m(self)\u001B[0m\n\u001B[1;32m   1096\u001B[0m                 \u001B[0;31m# List[Union[Callable[..., Any], str]]]]]\"; expected\u001B[0m\u001B[0;34m\u001B[0m\u001B[0;34m\u001B[0m\u001B[0m\n\u001B[1;32m   1097\u001B[0m                 \u001B[0;31m# \"Callable[[Any], Any]\"\u001B[0m\u001B[0;34m\u001B[0m\u001B[0;34m\u001B[0m\u001B[0m\n\u001B[0;32m-> 1098\u001B[0;31m                 mapped = lib.map_infer(\n\u001B[0m\u001B[1;32m   1099\u001B[0m                     \u001B[0mvalues\u001B[0m\u001B[0;34m,\u001B[0m\u001B[0;34m\u001B[0m\u001B[0;34m\u001B[0m\u001B[0m\n\u001B[1;32m   1100\u001B[0m                     \u001B[0mf\u001B[0m\u001B[0;34m,\u001B[0m  \u001B[0;31m# type: ignore[arg-type]\u001B[0m\u001B[0;34m\u001B[0m\u001B[0;34m\u001B[0m\u001B[0m\n",
      "\u001B[0;32m~/.conda/envs/dataspell-2/lib/python3.9/site-packages/pandas/_libs/lib.pyx\u001B[0m in \u001B[0;36mpandas._libs.lib.map_infer\u001B[0;34m()\u001B[0m\n",
      "\u001B[0;32m/var/folders/x2/3tdlb6px40qfq870vwx5y6080000gn/T/ipykernel_40109/4101451290.py\u001B[0m in \u001B[0;36mfetch_release_years\u001B[0;34m(artist_id)\u001B[0m\n\u001B[1;32m      7\u001B[0m     \u001B[0;32mfor\u001B[0m \u001B[0mi\u001B[0m \u001B[0;32min\u001B[0m \u001B[0mrange\u001B[0m\u001B[0;34m(\u001B[0m\u001B[0;36m0\u001B[0m\u001B[0;34m,\u001B[0m \u001B[0malbums_resp\u001B[0m\u001B[0;34m[\u001B[0m\u001B[0;34m\"total\"\u001B[0m\u001B[0;34m]\u001B[0m\u001B[0;34m,\u001B[0m \u001B[0;36m50\u001B[0m\u001B[0;34m)\u001B[0m\u001B[0;34m:\u001B[0m\u001B[0;34m\u001B[0m\u001B[0;34m\u001B[0m\u001B[0m\n\u001B[1;32m      8\u001B[0m         \u001B[0malbum_chunks\u001B[0m \u001B[0;34m+=\u001B[0m \u001B[0mspotify\u001B[0m\u001B[0;34m.\u001B[0m\u001B[0martist_albums\u001B[0m\u001B[0;34m(\u001B[0m\u001B[0martist_id\u001B[0m\u001B[0;34m,\u001B[0m \u001B[0mlimit\u001B[0m\u001B[0;34m=\u001B[0m\u001B[0;36m50\u001B[0m\u001B[0;34m,\u001B[0m \u001B[0moffset\u001B[0m\u001B[0;34m=\u001B[0m\u001B[0;34m(\u001B[0m\u001B[0mi\u001B[0m \u001B[0;34m+\u001B[0m \u001B[0;36m1\u001B[0m\u001B[0;34m)\u001B[0m \u001B[0;34m*\u001B[0m \u001B[0;36m50\u001B[0m\u001B[0;34m)\u001B[0m\u001B[0;34m[\u001B[0m\u001B[0;34m\"items\"\u001B[0m\u001B[0;34m]\u001B[0m\u001B[0;34m\u001B[0m\u001B[0;34m\u001B[0m\u001B[0m\n\u001B[0;32m----> 9\u001B[0;31m         \u001B[0msleep\u001B[0m\u001B[0;34m(\u001B[0m\u001B[0;36m0.20\u001B[0m\u001B[0;34m)\u001B[0m\u001B[0;34m\u001B[0m\u001B[0;34m\u001B[0m\u001B[0m\n\u001B[0m\u001B[1;32m     10\u001B[0m         \u001B[0;32mfor\u001B[0m \u001B[0malbum\u001B[0m \u001B[0;32min\u001B[0m \u001B[0mitertools\u001B[0m\u001B[0;34m.\u001B[0m\u001B[0mchain\u001B[0m\u001B[0;34m(\u001B[0m\u001B[0malbum_chunks\u001B[0m\u001B[0;34m)\u001B[0m\u001B[0;34m:\u001B[0m\u001B[0;34m\u001B[0m\u001B[0;34m\u001B[0m\u001B[0m\n\u001B[1;32m     11\u001B[0m             \u001B[0;32mif\u001B[0m \u001B[0malbum\u001B[0m\u001B[0;34m[\u001B[0m\u001B[0;34m\"album_type\"\u001B[0m\u001B[0;34m]\u001B[0m \u001B[0;34m==\u001B[0m \u001B[0;34m\"compilation\"\u001B[0m\u001B[0;31m\\\u001B[0m\u001B[0;34m\u001B[0m\u001B[0;34m\u001B[0m\u001B[0m\n",
      "\u001B[0;31mKeyboardInterrupt\u001B[0m: "
     ]
    }
   ],
   "source": [
    "def fetch_release_years(artist_id):\n",
    "    albums_resp = spotify.artist_albums(artist_id, limit=50)\n",
    "    sleep(0.20)\n",
    "    album_chunks = albums_resp[\"items\"]\n",
    "    album_years = []\n",
    "    album_names = []\n",
    "    for i in range(0, albums_resp[\"total\"], 50):\n",
    "        album_chunks += spotify.artist_albums(artist_id, limit=50, offset=(i + 1) * 50)[\"items\"]\n",
    "        sleep(0.20)\n",
    "        for album in itertools.chain(album_chunks):\n",
    "            if album[\"album_type\"] == \"compilation\"\\\n",
    "                    or \"Deluxe\" in album[\"name\"]\\\n",
    "                    or \"Remaster\" in album[\"name\"]\\\n",
    "                    or \"Karaoke\" in album[\"name\"]\\\n",
    "                    or \"Acappella\" in album[\"name\"]\\\n",
    "                    or \"Version\" in album[\"name\"]\\\n",
    "                    or (\"Remix\" in album[\"name\"] and album[\"album_type\"] == \"single\")\\\n",
    "                    or slugify(album[\"name\"]) in album_names:\n",
    "                continue\n",
    "            album_names.append(slugify(album[\"name\"]))\n",
    "            album_years.append(album[\"release_date\"][0:4])\n",
    "    return album_years\n",
    "\n",
    "\n",
    "def with_release_years(artist_df):\n",
    "    artist_df[\"release_years\"] = artist_df[\"id\"].apply(fetch_release_years)\n",
    "    return artist_df\n",
    "\n",
    "\n",
    "artist_df = with_release_years(artist_df)\n",
    "print(artist_df.shape)\n",
    "artist_df.head()"
   ],
   "metadata": {
    "collapsed": false,
    "pycharm": {
     "name": "#%%\n"
    }
   }
  },
  {
   "cell_type": "code",
   "execution_count": null,
   "outputs": [],
   "source": [
    "def with_release_year_stats(artist_df):\n",
    "    df_ = artist_df.copy()\n",
    "    df_[\"first_release\"] = df_[\"release_years\"].apply(lambda years: min(years) if len(years) > 0 else None)\n",
    "    df_[\"last_release\"] = df_[\"release_years\"].apply(lambda years: max(years) if len(years) > 0 else None)\n",
    "    df_[\"total_releases\"] = df_[\"release_years\"].apply(lambda years: len(years) if len(years) > 0 else None)\n",
    "    return df_\n",
    "\n",
    "\n",
    "artist_df = with_release_year_stats(artist_df)\n",
    "print(artist_df.shape)\n",
    "artist_df.head()"
   ],
   "metadata": {
    "collapsed": false,
    "pycharm": {
     "name": "#%%\n"
    }
   }
  },
  {
   "cell_type": "code",
   "execution_count": null,
   "outputs": [],
   "source": [
    "def with_release_years_csum_columns(artist_df):\n",
    "    df_ = artist_df.explode(\"release_years\")\n",
    "    df_ = df_[[\"id\", \"release_years\"]]\n",
    "    df_[\"csum\"] = 1\n",
    "    df_ = (\n",
    "        df_.groupby([\"id\", \"release_years\"]).sum()\n",
    "            .groupby(level=0).cumsum()\n",
    "            .reset_index()\n",
    "    )\n",
    "    start_year = max(1975, int(min(df_[\"release_years\"])))\n",
    "    end_year = int(max(df_[\"release_years\"]))\n",
    "    df_ = (\n",
    "        df_.pivot(index=\"id\", columns=\"release_years\", values=\"csum\")\n",
    "            .fillna(0)\n",
    "            .reset_index()\n",
    "            .rename_axis(None, axis=1)\n",
    "            #.set_index(\"id\")\n",
    "    )\n",
    "    columns = [\"id\"]\n",
    "    for year in range(start_year, end_year):\n",
    "        columns.append(str(f\"releases_{year}\"))\n",
    "        if str(year) not in df_.columns:\n",
    "            df_[str(year)] = 0\n",
    "        if str(year + 1) not in df_.columns:\n",
    "            df_[str(year + 1)] = 0\n",
    "        df_.loc[df_[str(year + 1)] == 0, str(year + 1)] = df_[str(year)]\n",
    "        df_[f\"releases_{year}\"] = df_[str(year)]\n",
    "    df_ = df_.fillna(0)\n",
    "    df_ = pd.merge(artist_df, df_[columns], on=\"id\", how=\"left\")\n",
    "    return df_\n",
    "\n",
    "drop_columns = [col for col in artist_df.columns if col.startswith(\"releases_\")]\n",
    "artist_df = artist_df.drop(columns=drop_columns)\n",
    "artist_df = with_release_years_csum_columns(artist_df)\n",
    "print(artist_df.shape)\n",
    "artist_df.head()"
   ],
   "metadata": {
    "collapsed": false,
    "pycharm": {
     "name": "#%%\n"
    }
   }
  },
  {
   "cell_type": "code",
   "execution_count": null,
   "outputs": [],
   "source": [
    "def get_artist_bio(artist_name):\n",
    "    artists = mbz.search_artists(artist_name)\n",
    "    sleep(1)\n",
    "    if artists[\"artist-count\"] > 0:\n",
    "        artist = artists[\"artist-list\"][0]\n",
    "        artist_tags = artist.get(\"tag-list\")\n",
    "        return {\n",
    "            \"gender\": artist.get(\"gender\"),\n",
    "            \"country\": artist.get(\"country\"),\n",
    "            \"hometown\": artist.get(\"begin-area\", {}).get(\"name\"),\n",
    "        }\n",
    "    else:\n",
    "        return {}\n",
    "\n",
    "\n",
    "def with_artist_bio(df, artist_key=\"name\"):\n",
    "    \"\"\"\n",
    "    Add Spotify ids and metadata to dataframe with artist data\n",
    "    As ids and metadata are added to multiple rows at a time.\n",
    "    Make sure to skip rows that already have id and metadata.\n",
    "    \"\"\"\n",
    "    for index, record in df.iterrows():\n",
    "        artist = record[artist_key]\n",
    "        filter_by_artist_ = filter_by_artist(artist_key=artist_key)\n",
    "\n",
    "        # check if artist id is already present\n",
    "        if \"hometown\" in df\\\n",
    "                and len(df[(filter_by_artist_(df, artist))\n",
    "                           & (df[\"hometown\"].isna())]) == 0:\n",
    "            continue\n",
    "\n",
    "        # search for artist on mbz\n",
    "        mbz_artist = get_artist_bio(artist)\n",
    "        if mbz_artist is None:\n",
    "            continue\n",
    "\n",
    "        # add id and metadata to dataframe\n",
    "        df.loc[filter_by_artist_(df, artist),\n",
    "               \"gender\"] = mbz_artist.get(\"gender\")\n",
    "        df.loc[filter_by_artist_(df, artist),\n",
    "               \"country\"] = mbz_artist.get(\"country\")\n",
    "        df.loc[filter_by_artist_(df, artist),\n",
    "               \"hometown\"] = mbz_artist.get(\"hometown\")\n",
    "        df[\"hometown\"] = df[\"hometown\"].replace(\"None\", np.NaN)\n",
    "\n",
    "        if index % 500 == 0:\n",
    "            total_artists = len(df)\n",
    "            null_artists = df[\"hometown\"].isnull().sum()\n",
    "            print(f\"status: {100 - null_artists / total_artists * 100:.2f} \"\n",
    "                  f\"({total_artists - null_artists} / {total_artists})\")\n",
    "    return df\n",
    "\n",
    "\n",
    "artist_df = with_artist_bio(artist_df)\n",
    "print(artist_df.shape)\n",
    "artist_df.head()"
   ],
   "metadata": {
    "collapsed": false,
    "pycharm": {
     "name": "#%%\n"
    }
   }
  },
  {
   "cell_type": "code",
   "execution_count": 31,
   "outputs": [
    {
     "name": "stderr",
     "output_type": "stream",
     "text": [
      "/var/folders/x2/3tdlb6px40qfq870vwx5y6080000gn/T/ipykernel_40109/2495104231.py:4: SettingWithCopyWarning: \n",
      "A value is trying to be set on a copy of a slice from a DataFrame.\n",
      "Try using .loc[row_indexer,col_indexer] = value instead\n",
      "\n",
      "See the caveats in the documentation: https://pandas.pydata.org/pandas-docs/stable/user_guide/indexing.html#returning-a-view-versus-a-copy\n",
      "  df[f\"grammy_nominated_1994\"] = 0\n",
      "/var/folders/x2/3tdlb6px40qfq870vwx5y6080000gn/T/ipykernel_40109/2495104231.py:5: SettingWithCopyWarning: \n",
      "A value is trying to be set on a copy of a slice from a DataFrame.\n",
      "Try using .loc[row_indexer,col_indexer] = value instead\n",
      "\n",
      "See the caveats in the documentation: https://pandas.pydata.org/pandas-docs/stable/user_guide/indexing.html#returning-a-view-versus-a-copy\n",
      "  df[f\"grammy_won_1994\"] = 0\n",
      "/var/folders/x2/3tdlb6px40qfq870vwx5y6080000gn/T/ipykernel_40109/2495104231.py:7: SettingWithCopyWarning: \n",
      "A value is trying to be set on a copy of a slice from a DataFrame.\n",
      "Try using .loc[row_indexer,col_indexer] = value instead\n",
      "\n",
      "See the caveats in the documentation: https://pandas.pydata.org/pandas-docs/stable/user_guide/indexing.html#returning-a-view-versus-a-copy\n",
      "  df[f\"grammy_nominated_{year}\"] = ((df[\"award_year\"] == year) & (df[\"award_nominee\"] == 1)).astype(int)\n",
      "/var/folders/x2/3tdlb6px40qfq870vwx5y6080000gn/T/ipykernel_40109/2495104231.py:8: SettingWithCopyWarning: \n",
      "A value is trying to be set on a copy of a slice from a DataFrame.\n",
      "Try using .loc[row_indexer,col_indexer] = value instead\n",
      "\n",
      "See the caveats in the documentation: https://pandas.pydata.org/pandas-docs/stable/user_guide/indexing.html#returning-a-view-versus-a-copy\n",
      "  df[f\"grammy_nominated_{year}\"] = df[f\"grammy_nominated_{year - 1}\"] + df[f\"grammy_nominated_{year}\"]\n",
      "/var/folders/x2/3tdlb6px40qfq870vwx5y6080000gn/T/ipykernel_40109/2495104231.py:9: SettingWithCopyWarning: \n",
      "A value is trying to be set on a copy of a slice from a DataFrame.\n",
      "Try using .loc[row_indexer,col_indexer] = value instead\n",
      "\n",
      "See the caveats in the documentation: https://pandas.pydata.org/pandas-docs/stable/user_guide/indexing.html#returning-a-view-versus-a-copy\n",
      "  df[f\"grammy_won_{year}\"] = ((df[\"award_year\"] == year) & (df[\"award_winner\"] == 1)).astype(int)\n",
      "/var/folders/x2/3tdlb6px40qfq870vwx5y6080000gn/T/ipykernel_40109/2495104231.py:10: SettingWithCopyWarning: \n",
      "A value is trying to be set on a copy of a slice from a DataFrame.\n",
      "Try using .loc[row_indexer,col_indexer] = value instead\n",
      "\n",
      "See the caveats in the documentation: https://pandas.pydata.org/pandas-docs/stable/user_guide/indexing.html#returning-a-view-versus-a-copy\n",
      "  df[f\"grammy_won_{year}\"] = df[f\"grammy_won_{year - 1}\"] + df[f\"grammy_won_{year}\"]\n",
      "/var/folders/x2/3tdlb6px40qfq870vwx5y6080000gn/T/ipykernel_40109/2495104231.py:46: SettingWithCopyWarning: \n",
      "A value is trying to be set on a copy of a slice from a DataFrame.\n",
      "Try using .loc[row_indexer,col_indexer] = value instead\n",
      "\n",
      "See the caveats in the documentation: https://pandas.pydata.org/pandas-docs/stable/user_guide/indexing.html#returning-a-view-versus-a-copy\n",
      "  df[\"total_nominations\"] = df[\"award_nominee\"]\n",
      "/var/folders/x2/3tdlb6px40qfq870vwx5y6080000gn/T/ipykernel_40109/2495104231.py:47: SettingWithCopyWarning: \n",
      "A value is trying to be set on a copy of a slice from a DataFrame.\n",
      "Try using .loc[row_indexer,col_indexer] = value instead\n",
      "\n",
      "See the caveats in the documentation: https://pandas.pydata.org/pandas-docs/stable/user_guide/indexing.html#returning-a-view-versus-a-copy\n",
      "  df[\"total_wins\"] = df[\"award_winner\"]\n"
     ]
    },
    {
     "data": {
      "text/plain": "                       id                         name  popularity  \\\n0  0gGd4WhPXBSgDX6fdOHcOw                    Rhymastic          54   \n1  7MBNcpWHn8RTZFUQv5fNPp  Alessio La Profunda Melodia          49   \n2  40Ojab0UtVQFjA76qXr8Ot                      Apparat          55   \n3  5zVu34ozw0BzXIcNHqkO0u                 Liana Flores          65   \n4  2HGPd1n5wmvFCJccRPRJ9k                       Herrat          41   \n\n                                              genres  \\\n0                        [v-pop, vietnamese hip hop]   \n1                                                 []   \n2  [ambient pop, electronica, glitch, microhouse,...   \n3                                        [indie pop]   \n4  [finnish dance pop, finnish hip hop, finnish pop]   \n\n                                       release_years first_release  \\\n0  [2021, 2021, 2021, 2021, 2021, 2021, 2020, 202...          2013   \n1  [2021, 2019, 2021, 2020, 2019, 2019, 2018, 201...          2016   \n2  [2020, 2020, 2020, 2020, 2019, 2015, 2013, 201...          2001   \n3                                 [2020, 2019, 2018]          2018   \n4  [2021, 2021, 2020, 2020, 2020, 2020, 2020, 201...          2017   \n\n  last_release  total_releases  releases_0  releases_1  ...  \\\n0         2022            35.0         0.0         0.0  ...   \n1         2021            24.0         0.0         0.0  ...   \n2         2020            49.0         0.0         0.0  ...   \n3         2020             3.0         0.0         0.0  ...   \n4         2021            16.0         0.0         0.0  ...   \n\n   grammy_nominated_2020  grammy_won_2020  grammy_nominated_2021  \\\n0                    NaN              NaN                    NaN   \n1                    NaN              NaN                    NaN   \n2                    NaN              NaN                    NaN   \n3                    NaN              NaN                    NaN   \n4                    NaN              NaN                    NaN   \n\n   grammy_won_2021  total_nominations  total_wins  first_win  last_win  \\\n0              NaN                NaN         NaN        NaN       NaN   \n1              NaN                NaN         NaN        NaN       NaN   \n2              NaN                NaN         NaN        NaN       NaN   \n3              NaN                NaN         NaN        NaN       NaN   \n4              NaN                NaN         NaN        NaN       NaN   \n\n   first_nomination  last_nomination  \n0               NaN              NaN  \n1               NaN              NaN  \n2               NaN              NaN  \n3               NaN              NaN  \n4               NaN              NaN  \n\n[5 rows x 2095 columns]",
      "text/html": "<div>\n<style scoped>\n    .dataframe tbody tr th:only-of-type {\n        vertical-align: middle;\n    }\n\n    .dataframe tbody tr th {\n        vertical-align: top;\n    }\n\n    .dataframe thead th {\n        text-align: right;\n    }\n</style>\n<table border=\"1\" class=\"dataframe\">\n  <thead>\n    <tr style=\"text-align: right;\">\n      <th></th>\n      <th>id</th>\n      <th>name</th>\n      <th>popularity</th>\n      <th>genres</th>\n      <th>release_years</th>\n      <th>first_release</th>\n      <th>last_release</th>\n      <th>total_releases</th>\n      <th>releases_0</th>\n      <th>releases_1</th>\n      <th>...</th>\n      <th>grammy_nominated_2020</th>\n      <th>grammy_won_2020</th>\n      <th>grammy_nominated_2021</th>\n      <th>grammy_won_2021</th>\n      <th>total_nominations</th>\n      <th>total_wins</th>\n      <th>first_win</th>\n      <th>last_win</th>\n      <th>first_nomination</th>\n      <th>last_nomination</th>\n    </tr>\n  </thead>\n  <tbody>\n    <tr>\n      <th>0</th>\n      <td>0gGd4WhPXBSgDX6fdOHcOw</td>\n      <td>Rhymastic</td>\n      <td>54</td>\n      <td>[v-pop, vietnamese hip hop]</td>\n      <td>[2021, 2021, 2021, 2021, 2021, 2021, 2020, 202...</td>\n      <td>2013</td>\n      <td>2022</td>\n      <td>35.0</td>\n      <td>0.0</td>\n      <td>0.0</td>\n      <td>...</td>\n      <td>NaN</td>\n      <td>NaN</td>\n      <td>NaN</td>\n      <td>NaN</td>\n      <td>NaN</td>\n      <td>NaN</td>\n      <td>NaN</td>\n      <td>NaN</td>\n      <td>NaN</td>\n      <td>NaN</td>\n    </tr>\n    <tr>\n      <th>1</th>\n      <td>7MBNcpWHn8RTZFUQv5fNPp</td>\n      <td>Alessio La Profunda Melodia</td>\n      <td>49</td>\n      <td>[]</td>\n      <td>[2021, 2019, 2021, 2020, 2019, 2019, 2018, 201...</td>\n      <td>2016</td>\n      <td>2021</td>\n      <td>24.0</td>\n      <td>0.0</td>\n      <td>0.0</td>\n      <td>...</td>\n      <td>NaN</td>\n      <td>NaN</td>\n      <td>NaN</td>\n      <td>NaN</td>\n      <td>NaN</td>\n      <td>NaN</td>\n      <td>NaN</td>\n      <td>NaN</td>\n      <td>NaN</td>\n      <td>NaN</td>\n    </tr>\n    <tr>\n      <th>2</th>\n      <td>40Ojab0UtVQFjA76qXr8Ot</td>\n      <td>Apparat</td>\n      <td>55</td>\n      <td>[ambient pop, electronica, glitch, microhouse,...</td>\n      <td>[2020, 2020, 2020, 2020, 2019, 2015, 2013, 201...</td>\n      <td>2001</td>\n      <td>2020</td>\n      <td>49.0</td>\n      <td>0.0</td>\n      <td>0.0</td>\n      <td>...</td>\n      <td>NaN</td>\n      <td>NaN</td>\n      <td>NaN</td>\n      <td>NaN</td>\n      <td>NaN</td>\n      <td>NaN</td>\n      <td>NaN</td>\n      <td>NaN</td>\n      <td>NaN</td>\n      <td>NaN</td>\n    </tr>\n    <tr>\n      <th>3</th>\n      <td>5zVu34ozw0BzXIcNHqkO0u</td>\n      <td>Liana Flores</td>\n      <td>65</td>\n      <td>[indie pop]</td>\n      <td>[2020, 2019, 2018]</td>\n      <td>2018</td>\n      <td>2020</td>\n      <td>3.0</td>\n      <td>0.0</td>\n      <td>0.0</td>\n      <td>...</td>\n      <td>NaN</td>\n      <td>NaN</td>\n      <td>NaN</td>\n      <td>NaN</td>\n      <td>NaN</td>\n      <td>NaN</td>\n      <td>NaN</td>\n      <td>NaN</td>\n      <td>NaN</td>\n      <td>NaN</td>\n    </tr>\n    <tr>\n      <th>4</th>\n      <td>2HGPd1n5wmvFCJccRPRJ9k</td>\n      <td>Herrat</td>\n      <td>41</td>\n      <td>[finnish dance pop, finnish hip hop, finnish pop]</td>\n      <td>[2021, 2021, 2020, 2020, 2020, 2020, 2020, 201...</td>\n      <td>2017</td>\n      <td>2021</td>\n      <td>16.0</td>\n      <td>0.0</td>\n      <td>0.0</td>\n      <td>...</td>\n      <td>NaN</td>\n      <td>NaN</td>\n      <td>NaN</td>\n      <td>NaN</td>\n      <td>NaN</td>\n      <td>NaN</td>\n      <td>NaN</td>\n      <td>NaN</td>\n      <td>NaN</td>\n      <td>NaN</td>\n    </tr>\n  </tbody>\n</table>\n<p>5 rows × 2095 columns</p>\n</div>"
     },
     "execution_count": 31,
     "metadata": {},
     "output_type": "execute_result"
    }
   ],
   "source": [
    "def summarize_artist_nominations(df):\n",
    "    df = df[~df[\"spotify_artist_id\"].isna()]\n",
    "\n",
    "    df[f\"grammy_nominated_1994\"] = 0\n",
    "    df[f\"grammy_won_1994\"] = 0\n",
    "    for year in range(1995, 2022):\n",
    "        df[f\"grammy_nominated_{year}\"] = ((df[\"award_year\"] == year) & (df[\"award_nominee\"] == 1)).astype(int)\n",
    "        df[f\"grammy_nominated_{year}\"] = df[f\"grammy_nominated_{year - 1}\"] + df[f\"grammy_nominated_{year}\"]\n",
    "        df[f\"grammy_won_{year}\"] = ((df[\"award_year\"] == year) & (df[\"award_winner\"] == 1)).astype(int)\n",
    "        df[f\"grammy_won_{year}\"] = df[f\"grammy_won_{year - 1}\"] + df[f\"grammy_won_{year}\"]\n",
    "\n",
    "    artist_first_win = (\n",
    "        df[df[\"award_winner\"] == 1]\n",
    "            .groupby(\"artist_mbid\")\n",
    "            .min(\"award_year\")\n",
    "            .reset_index()\n",
    "            .rename(columns={\"award_year\": \"first_win\"})\n",
    "        [[\"artist_mbid\", \"first_win\"]]\n",
    "    )\n",
    "\n",
    "    artist_last_win = (\n",
    "        df[df[\"award_winner\"] == 1]\n",
    "            .groupby(\"artist_mbid\")\n",
    "            .max(\"award_year\")\n",
    "            .reset_index()\n",
    "            .rename(columns={\"award_year\": \"last_win\"})\n",
    "        [[\"artist_mbid\", \"last_win\"]]\n",
    "    )\n",
    "\n",
    "    artist_first_nomination = (\n",
    "        df.groupby(\"artist_mbid\")\n",
    "            .min(\"award_year\")\n",
    "            .reset_index()\n",
    "            .rename(columns={\"award_year\": \"first_nomination\"})\n",
    "        [[\"artist_mbid\", \"first_nomination\"]]\n",
    "    )\n",
    "\n",
    "    artist_last_nomination = (\n",
    "        df.groupby(\"artist_mbid\")\n",
    "            .min(\"award_year\")\n",
    "            .reset_index()\n",
    "            .rename(columns={\"award_year\": \"last_nomination\"})\n",
    "        [[\"artist_mbid\", \"last_nomination\"]]\n",
    "    )\n",
    "\n",
    "    df[\"total_nominations\"] = df[\"award_nominee\"]\n",
    "    df[\"total_wins\"] = df[\"award_winner\"]\n",
    "    df = (\n",
    "        df.groupby([\"artist_mbid\", \"spotify_artist_id\", \"artist_name\"])\n",
    "            .agg(\"sum\")\n",
    "            .reset_index()\n",
    "            .drop(columns=[\"award_year\", \"release_year\", \"award_nominee\", \"award_winner\",\n",
    "                           \"spotify_track_popularity\", \"artist_name\"])\n",
    "    )\n",
    "\n",
    "    df = pd.merge(df, artist_first_win, on=\"artist_mbid\", how=\"outer\")\n",
    "    df = pd.merge(df, artist_last_win, on=\"artist_mbid\", how=\"outer\")\n",
    "    df = pd.merge(df, artist_first_nomination, on=\"artist_mbid\", how=\"outer\")\n",
    "    df = pd.merge(df, artist_last_nomination, on=\"artist_mbid\", how=\"outer\")\n",
    "    df = df.drop_duplicates(\"artist_mbid\")\n",
    "    df = df.drop(columns=[\"artist_mbid\"])\n",
    "    return df.fillna(0)\n",
    "\n",
    "\n",
    "def with_grammy_nomination_csum_columns(artist_df, artist_nominations_df):\n",
    "    artist_nominations_summary_df = summarize_artist_nominations(artist_nominations_df)\n",
    "    df_ = pd.merge(artist_df, artist_nominations_summary_df, left_on=\"id\", right_on=\"spotify_artist_id\", how=\"left\")\n",
    "    df_ = df_.drop(columns=[\"spotify_artist_id\"])\n",
    "    return df_\n",
    "\n",
    "\n",
    "artist_nominations_df = pd.read_parquet(\"../../data/raw/artist_nominations.pq\")\n",
    "artist_df = with_grammy_nomination_csum_columns(artist_df, artist_nominations_df)\n",
    "print(artist_df.shape)\n",
    "artist_df.head()"
   ],
   "metadata": {
    "collapsed": false,
    "pycharm": {
     "name": "#%%\n"
    }
   }
  },
  {
   "cell_type": "code",
   "execution_count": 102,
   "outputs": [
    {
     "name": "stdout",
     "output_type": "stream",
     "text": [
      "(6140, 243)\n"
     ]
    },
    {
     "data": {
      "text/plain": "                       id                     name  popularity  \\\n0  1Yfe3ONJlioHys7jwHdfVm                  Lomepal          71   \n1  6OqQbeNe7Pi7Zi7SNTi9ko             Billy Gilman          37   \n2  0aqgzJNXZRtRY2tacDnses             Van She Tech          11   \n3  1Hsdzj7Dlq2I7tHP7501T4              Niall Horan          81   \n4  5NtLSCw6j3lTSOUjHnZASC  Juvenile, Wacko, & Skip          29   \n\n                            genres  \\\n0  [french hip hop, rap conscient]   \n1         [country, queer country]   \n2                               []   \n3  [dance pop, pop, post-teen pop]   \n4                               []   \n\n                                       release_years  first_release  \\\n0  [2019, 2019, 2018, 2017, 2015, 2014, 2013, 201...           2011   \n1  [2016, 2006, 2005, 2003, 2001, 2000, 2000, 202...           2000   \n2  [2021, 2019, 2021, 2009, 2008, 2008, 2008, 200...           2007   \n3  [2020, 2019, 2017, 2021, 2021, 2021, 2021, 202...           2016   \n4                                       [2013, 2004]           2004   \n\n   last_release  total_releases  releases_1900  releases_1901  ...  \\\n0          2021            46.0            0.0            0.0  ...   \n1          2020            21.0            0.0            0.0  ...   \n2          2021             9.0            0.0            0.0  ...   \n3          2022            23.0            0.0            0.0  ...   \n4          2013             2.0            0.0            0.0  ...   \n\n   chart_months_2019  chart_months_recently_2019  chart_months_2020  \\\n0                0.0                         0.0                0.0   \n1                0.0                         0.0                0.0   \n2                0.0                         0.0                0.0   \n3                0.0                         0.0                0.0   \n4                0.0                         0.0                0.0   \n\n   chart_months_recently_2020  chart_months  total_revenue  first_chart_year  \\\n0                         0.0           0.0          0.000                 0   \n1                         0.0           1.0       1292.924              2000   \n2                         0.0           0.0          0.000                 0   \n3                         0.0          11.0      10510.417              2016   \n4                         0.0           2.0       2437.735              2004   \n\n   last_chart_year  chart_tracks  chart_peak  \n0                0           0.0         0.0  \n1             2000           1.0        48.0  \n2                0           0.0         0.0  \n3             2017           2.0        19.0  \n4             2004           1.0        43.0  \n\n[5 rows x 243 columns]",
      "text/html": "<div>\n<style scoped>\n    .dataframe tbody tr th:only-of-type {\n        vertical-align: middle;\n    }\n\n    .dataframe tbody tr th {\n        vertical-align: top;\n    }\n\n    .dataframe thead th {\n        text-align: right;\n    }\n</style>\n<table border=\"1\" class=\"dataframe\">\n  <thead>\n    <tr style=\"text-align: right;\">\n      <th></th>\n      <th>id</th>\n      <th>name</th>\n      <th>popularity</th>\n      <th>genres</th>\n      <th>release_years</th>\n      <th>first_release</th>\n      <th>last_release</th>\n      <th>total_releases</th>\n      <th>releases_1900</th>\n      <th>releases_1901</th>\n      <th>...</th>\n      <th>chart_months_2019</th>\n      <th>chart_months_recently_2019</th>\n      <th>chart_months_2020</th>\n      <th>chart_months_recently_2020</th>\n      <th>chart_months</th>\n      <th>total_revenue</th>\n      <th>first_chart_year</th>\n      <th>last_chart_year</th>\n      <th>chart_tracks</th>\n      <th>chart_peak</th>\n    </tr>\n  </thead>\n  <tbody>\n    <tr>\n      <th>0</th>\n      <td>1Yfe3ONJlioHys7jwHdfVm</td>\n      <td>Lomepal</td>\n      <td>71</td>\n      <td>[french hip hop, rap conscient]</td>\n      <td>[2019, 2019, 2018, 2017, 2015, 2014, 2013, 201...</td>\n      <td>2011</td>\n      <td>2021</td>\n      <td>46.0</td>\n      <td>0.0</td>\n      <td>0.0</td>\n      <td>...</td>\n      <td>0.0</td>\n      <td>0.0</td>\n      <td>0.0</td>\n      <td>0.0</td>\n      <td>0.0</td>\n      <td>0.000</td>\n      <td>0</td>\n      <td>0</td>\n      <td>0.0</td>\n      <td>0.0</td>\n    </tr>\n    <tr>\n      <th>1</th>\n      <td>6OqQbeNe7Pi7Zi7SNTi9ko</td>\n      <td>Billy Gilman</td>\n      <td>37</td>\n      <td>[country, queer country]</td>\n      <td>[2016, 2006, 2005, 2003, 2001, 2000, 2000, 202...</td>\n      <td>2000</td>\n      <td>2020</td>\n      <td>21.0</td>\n      <td>0.0</td>\n      <td>0.0</td>\n      <td>...</td>\n      <td>0.0</td>\n      <td>0.0</td>\n      <td>0.0</td>\n      <td>0.0</td>\n      <td>1.0</td>\n      <td>1292.924</td>\n      <td>2000</td>\n      <td>2000</td>\n      <td>1.0</td>\n      <td>48.0</td>\n    </tr>\n    <tr>\n      <th>2</th>\n      <td>0aqgzJNXZRtRY2tacDnses</td>\n      <td>Van She Tech</td>\n      <td>11</td>\n      <td>[]</td>\n      <td>[2021, 2019, 2021, 2009, 2008, 2008, 2008, 200...</td>\n      <td>2007</td>\n      <td>2021</td>\n      <td>9.0</td>\n      <td>0.0</td>\n      <td>0.0</td>\n      <td>...</td>\n      <td>0.0</td>\n      <td>0.0</td>\n      <td>0.0</td>\n      <td>0.0</td>\n      <td>0.0</td>\n      <td>0.000</td>\n      <td>0</td>\n      <td>0</td>\n      <td>0.0</td>\n      <td>0.0</td>\n    </tr>\n    <tr>\n      <th>3</th>\n      <td>1Hsdzj7Dlq2I7tHP7501T4</td>\n      <td>Niall Horan</td>\n      <td>81</td>\n      <td>[dance pop, pop, post-teen pop]</td>\n      <td>[2020, 2019, 2017, 2021, 2021, 2021, 2021, 202...</td>\n      <td>2016</td>\n      <td>2022</td>\n      <td>23.0</td>\n      <td>0.0</td>\n      <td>0.0</td>\n      <td>...</td>\n      <td>0.0</td>\n      <td>0.0</td>\n      <td>0.0</td>\n      <td>0.0</td>\n      <td>11.0</td>\n      <td>10510.417</td>\n      <td>2016</td>\n      <td>2017</td>\n      <td>2.0</td>\n      <td>19.0</td>\n    </tr>\n    <tr>\n      <th>4</th>\n      <td>5NtLSCw6j3lTSOUjHnZASC</td>\n      <td>Juvenile, Wacko, &amp; Skip</td>\n      <td>29</td>\n      <td>[]</td>\n      <td>[2013, 2004]</td>\n      <td>2004</td>\n      <td>2013</td>\n      <td>2.0</td>\n      <td>0.0</td>\n      <td>0.0</td>\n      <td>...</td>\n      <td>0.0</td>\n      <td>0.0</td>\n      <td>0.0</td>\n      <td>0.0</td>\n      <td>2.0</td>\n      <td>2437.735</td>\n      <td>2004</td>\n      <td>2004</td>\n      <td>1.0</td>\n      <td>43.0</td>\n    </tr>\n  </tbody>\n</table>\n<p>5 rows × 243 columns</p>\n</div>"
     },
     "execution_count": 102,
     "metadata": {},
     "output_type": "execute_result"
    }
   ],
   "source": [
    "def with_chart_stats(artist_df, song_chart_df):\n",
    "    song_chart_df[\"year\"] = song_chart_df[\"month\"].apply(lambda month: month.split(\" \")[-1])\n",
    "    # track number of months artist has tracks in charts\n",
    "    song_chart_df[\"chart_months\"] = 1\n",
    "    song_chart_df = (\n",
    "        song_chart_df\n",
    "            .groupby([\"spotify_artist_id\"])\n",
    "            .aggregate({\n",
    "                \"chart_months\": \"sum\",\n",
    "                \"indicativerevenue\": \"sum\",\n",
    "                \"year\": [\"min\", \"max\"],\n",
    "                \"spotify_track_id\": \"nunique\",\n",
    "                \"position\": \"min\",\n",
    "            })\n",
    "            .reset_index()\n",
    "            .set_axis([\"id\", \"chart_months\", \"total_revenue\", \"first_chart_year\",\n",
    "                       \"last_chart_year\", \"chart_tracks\", \"chart_peak\"], axis=1)\n",
    "    )\n",
    "    df = pd.merge(artist_df, song_chart_df, on=\"id\", how=\"left\").fillna(0)\n",
    "    return df\n",
    "\n",
    "\n",
    "artist_df = (\n",
    "    pd.read_parquet(\"../../data/artist_summary.pq\")\n",
    "        .drop(columns=[\"chart_months\", \"total_revenue\", \"first_chart_year\", \"last_chart_year\", \"chart_tracks\", \"chart_peak\"])\n",
    ")\n",
    "song_chart_summary_df = pd.read_parquet(data_path / \"raw/song_chart_by_month.pq\")\n",
    "artist_df = with_chart_stats(artist_df, song_chart_summary_df)\n",
    "print(artist_df.shape)\n",
    "artist_df.head()"
   ],
   "metadata": {
    "collapsed": false,
    "pycharm": {
     "name": "#%%\n"
    }
   }
  },
  {
   "cell_type": "code",
   "execution_count": 104,
   "outputs": [
    {
     "data": {
      "text/plain": "                          id                     name  popularity  \\\n1     6OqQbeNe7Pi7Zi7SNTi9ko             Billy Gilman          37   \n3     1Hsdzj7Dlq2I7tHP7501T4              Niall Horan          81   \n4     5NtLSCw6j3lTSOUjHnZASC  Juvenile, Wacko, & Skip          29   \n8     790FomKkXshlbRYZFtlgla                  KAROL G          88   \n12    6MPCFvOQv5cIGfw3jODMF0           Internet Money          80   \n...                      ...                      ...         ...   \n2395  7JfutRemdlJGyQsIZ7wWQ9            Workout Buddy          32   \n3957  1dfeR4HaWDbWqFHLkxsg1d                    Queen          88   \n4912  7CyeXFnOrfC1N6z4naIpgo             The Ronettes          68   \n4937  5Z1CCuBsyhEHngq3U5IraY                 Westlife          74   \n5020  4wLXwxDeWQ8mtUIRPxGiD6             Marc Anthony          80   \n\n                                                 genres  \\\n1                              [country, queer country]   \n3                       [dance pop, pop, post-teen pop]   \n4                                                    []   \n8     [latin, reggaeton, reggaeton colombiano, trap ...   \n12                                          [rap, trap]   \n...                                                 ...   \n2395                                  [workout product]   \n3957                    [classic rock, glam rock, rock]   \n4912  [adult standards, brill building pop, classic ...   \n4937                     [boy band, dance pop, europop]   \n5020  [latin, latin pop, modern salsa, salsa, tropical]   \n\n                                          release_years  first_release  \\\n1     [2016, 2006, 2005, 2003, 2001, 2000, 2000, 202...           2000   \n3     [2020, 2019, 2017, 2021, 2021, 2021, 2021, 202...           2016   \n4                                          [2013, 2004]           2004   \n8     [2021, 2019, 2017, 2022, 2021, 2021, 2021, 202...           2014   \n12    [2020, 2020, 2022, 2022, 2021, 2021, 2021, 202...           2019   \n...                                                 ...            ...   \n2395  [2022, 2022, 2022, 2022, 2022, 2022, 2021, 202...           2020   \n3957  [2018, 2016, 2016, 2015, 2014, 2014, 2012, 200...           1973   \n4912   [2021, 2020, 2016, 2013, 1964, 1964, 2017, 2016]           1964   \n4937  [2019, 2010, 2009, 2007, 2006, 2005, 2004, 200...           1999   \n5020  [2019, 2018, 2017, 2013, 2010, 2007, 2006, 200...           1991   \n\n      last_release  total_releases  releases_1900  releases_1901  ...  \\\n1             2020            21.0            0.0            0.0  ...   \n3             2022            23.0            0.0            0.0  ...   \n4             2013             2.0            0.0            0.0  ...   \n8             2022            53.0            0.0            0.0  ...   \n12            2022            26.0            0.0            0.0  ...   \n...            ...             ...            ...            ...  ...   \n2395          2022            99.0            0.0            0.0  ...   \n3957          2020            31.0            0.0            0.0  ...   \n4912          2021             8.0            0.0            0.0  ...   \n4937          2021            24.0            0.0            0.0  ...   \n5020          2022            52.0            0.0            0.0  ...   \n\n      chart_months_2019  chart_months_recently_2019  chart_months_2020  \\\n1                   0.0                         0.0                0.0   \n3                   0.0                         0.0                0.0   \n4                   0.0                         0.0                0.0   \n8                   0.0                         0.0                0.0   \n12                  0.0                         0.0                0.0   \n...                 ...                         ...                ...   \n2395                0.0                         0.0                0.0   \n3957                0.0                         0.0                0.0   \n4912                0.0                         0.0                0.0   \n4937                0.0                         0.0                0.0   \n5020                0.0                         0.0                0.0   \n\n      chart_months_recently_2020  chart_months  total_revenue  \\\n1                            0.0           1.0       1292.924   \n3                            0.0          11.0      10510.417   \n4                            0.0           2.0       2437.735   \n8                            0.0           3.0       3840.116   \n12                           0.0           7.0       8167.606   \n...                          ...           ...            ...   \n2395                         0.0           7.0       6248.887   \n3957                         0.0           1.0        760.980   \n4912                         0.0           1.0       1022.560   \n4937                         0.0           3.0       4739.251   \n5020                         0.0          12.0      26338.902   \n\n      first_chart_year  last_chart_year  chart_tracks  chart_peak  \n1                 2000             2000           1.0        48.0  \n3                 2016             2017           2.0        19.0  \n4                 2004             2004           1.0        43.0  \n8                 2020             2020           1.0        33.0  \n12                2020             2021           1.0        17.0  \n...                ...              ...           ...         ...  \n2395              2013             2013           1.0         9.0  \n3957              2018             2018           1.0        48.0  \n4912              2020             2020           1.0        36.0  \n4937              2000             2000           1.0        29.0  \n5020              2000             2000           2.0         6.0  \n\n[1222 rows x 243 columns]",
      "text/html": "<div>\n<style scoped>\n    .dataframe tbody tr th:only-of-type {\n        vertical-align: middle;\n    }\n\n    .dataframe tbody tr th {\n        vertical-align: top;\n    }\n\n    .dataframe thead th {\n        text-align: right;\n    }\n</style>\n<table border=\"1\" class=\"dataframe\">\n  <thead>\n    <tr style=\"text-align: right;\">\n      <th></th>\n      <th>id</th>\n      <th>name</th>\n      <th>popularity</th>\n      <th>genres</th>\n      <th>release_years</th>\n      <th>first_release</th>\n      <th>last_release</th>\n      <th>total_releases</th>\n      <th>releases_1900</th>\n      <th>releases_1901</th>\n      <th>...</th>\n      <th>chart_months_2019</th>\n      <th>chart_months_recently_2019</th>\n      <th>chart_months_2020</th>\n      <th>chart_months_recently_2020</th>\n      <th>chart_months</th>\n      <th>total_revenue</th>\n      <th>first_chart_year</th>\n      <th>last_chart_year</th>\n      <th>chart_tracks</th>\n      <th>chart_peak</th>\n    </tr>\n  </thead>\n  <tbody>\n    <tr>\n      <th>1</th>\n      <td>6OqQbeNe7Pi7Zi7SNTi9ko</td>\n      <td>Billy Gilman</td>\n      <td>37</td>\n      <td>[country, queer country]</td>\n      <td>[2016, 2006, 2005, 2003, 2001, 2000, 2000, 202...</td>\n      <td>2000</td>\n      <td>2020</td>\n      <td>21.0</td>\n      <td>0.0</td>\n      <td>0.0</td>\n      <td>...</td>\n      <td>0.0</td>\n      <td>0.0</td>\n      <td>0.0</td>\n      <td>0.0</td>\n      <td>1.0</td>\n      <td>1292.924</td>\n      <td>2000</td>\n      <td>2000</td>\n      <td>1.0</td>\n      <td>48.0</td>\n    </tr>\n    <tr>\n      <th>3</th>\n      <td>1Hsdzj7Dlq2I7tHP7501T4</td>\n      <td>Niall Horan</td>\n      <td>81</td>\n      <td>[dance pop, pop, post-teen pop]</td>\n      <td>[2020, 2019, 2017, 2021, 2021, 2021, 2021, 202...</td>\n      <td>2016</td>\n      <td>2022</td>\n      <td>23.0</td>\n      <td>0.0</td>\n      <td>0.0</td>\n      <td>...</td>\n      <td>0.0</td>\n      <td>0.0</td>\n      <td>0.0</td>\n      <td>0.0</td>\n      <td>11.0</td>\n      <td>10510.417</td>\n      <td>2016</td>\n      <td>2017</td>\n      <td>2.0</td>\n      <td>19.0</td>\n    </tr>\n    <tr>\n      <th>4</th>\n      <td>5NtLSCw6j3lTSOUjHnZASC</td>\n      <td>Juvenile, Wacko, &amp; Skip</td>\n      <td>29</td>\n      <td>[]</td>\n      <td>[2013, 2004]</td>\n      <td>2004</td>\n      <td>2013</td>\n      <td>2.0</td>\n      <td>0.0</td>\n      <td>0.0</td>\n      <td>...</td>\n      <td>0.0</td>\n      <td>0.0</td>\n      <td>0.0</td>\n      <td>0.0</td>\n      <td>2.0</td>\n      <td>2437.735</td>\n      <td>2004</td>\n      <td>2004</td>\n      <td>1.0</td>\n      <td>43.0</td>\n    </tr>\n    <tr>\n      <th>8</th>\n      <td>790FomKkXshlbRYZFtlgla</td>\n      <td>KAROL G</td>\n      <td>88</td>\n      <td>[latin, reggaeton, reggaeton colombiano, trap ...</td>\n      <td>[2021, 2019, 2017, 2022, 2021, 2021, 2021, 202...</td>\n      <td>2014</td>\n      <td>2022</td>\n      <td>53.0</td>\n      <td>0.0</td>\n      <td>0.0</td>\n      <td>...</td>\n      <td>0.0</td>\n      <td>0.0</td>\n      <td>0.0</td>\n      <td>0.0</td>\n      <td>3.0</td>\n      <td>3840.116</td>\n      <td>2020</td>\n      <td>2020</td>\n      <td>1.0</td>\n      <td>33.0</td>\n    </tr>\n    <tr>\n      <th>12</th>\n      <td>6MPCFvOQv5cIGfw3jODMF0</td>\n      <td>Internet Money</td>\n      <td>80</td>\n      <td>[rap, trap]</td>\n      <td>[2020, 2020, 2022, 2022, 2021, 2021, 2021, 202...</td>\n      <td>2019</td>\n      <td>2022</td>\n      <td>26.0</td>\n      <td>0.0</td>\n      <td>0.0</td>\n      <td>...</td>\n      <td>0.0</td>\n      <td>0.0</td>\n      <td>0.0</td>\n      <td>0.0</td>\n      <td>7.0</td>\n      <td>8167.606</td>\n      <td>2020</td>\n      <td>2021</td>\n      <td>1.0</td>\n      <td>17.0</td>\n    </tr>\n    <tr>\n      <th>...</th>\n      <td>...</td>\n      <td>...</td>\n      <td>...</td>\n      <td>...</td>\n      <td>...</td>\n      <td>...</td>\n      <td>...</td>\n      <td>...</td>\n      <td>...</td>\n      <td>...</td>\n      <td>...</td>\n      <td>...</td>\n      <td>...</td>\n      <td>...</td>\n      <td>...</td>\n      <td>...</td>\n      <td>...</td>\n      <td>...</td>\n      <td>...</td>\n      <td>...</td>\n      <td>...</td>\n    </tr>\n    <tr>\n      <th>2395</th>\n      <td>7JfutRemdlJGyQsIZ7wWQ9</td>\n      <td>Workout Buddy</td>\n      <td>32</td>\n      <td>[workout product]</td>\n      <td>[2022, 2022, 2022, 2022, 2022, 2022, 2021, 202...</td>\n      <td>2020</td>\n      <td>2022</td>\n      <td>99.0</td>\n      <td>0.0</td>\n      <td>0.0</td>\n      <td>...</td>\n      <td>0.0</td>\n      <td>0.0</td>\n      <td>0.0</td>\n      <td>0.0</td>\n      <td>7.0</td>\n      <td>6248.887</td>\n      <td>2013</td>\n      <td>2013</td>\n      <td>1.0</td>\n      <td>9.0</td>\n    </tr>\n    <tr>\n      <th>3957</th>\n      <td>1dfeR4HaWDbWqFHLkxsg1d</td>\n      <td>Queen</td>\n      <td>88</td>\n      <td>[classic rock, glam rock, rock]</td>\n      <td>[2018, 2016, 2016, 2015, 2014, 2014, 2012, 200...</td>\n      <td>1973</td>\n      <td>2020</td>\n      <td>31.0</td>\n      <td>0.0</td>\n      <td>0.0</td>\n      <td>...</td>\n      <td>0.0</td>\n      <td>0.0</td>\n      <td>0.0</td>\n      <td>0.0</td>\n      <td>1.0</td>\n      <td>760.980</td>\n      <td>2018</td>\n      <td>2018</td>\n      <td>1.0</td>\n      <td>48.0</td>\n    </tr>\n    <tr>\n      <th>4912</th>\n      <td>7CyeXFnOrfC1N6z4naIpgo</td>\n      <td>The Ronettes</td>\n      <td>68</td>\n      <td>[adult standards, brill building pop, classic ...</td>\n      <td>[2021, 2020, 2016, 2013, 1964, 1964, 2017, 2016]</td>\n      <td>1964</td>\n      <td>2021</td>\n      <td>8.0</td>\n      <td>0.0</td>\n      <td>0.0</td>\n      <td>...</td>\n      <td>0.0</td>\n      <td>0.0</td>\n      <td>0.0</td>\n      <td>0.0</td>\n      <td>1.0</td>\n      <td>1022.560</td>\n      <td>2020</td>\n      <td>2020</td>\n      <td>1.0</td>\n      <td>36.0</td>\n    </tr>\n    <tr>\n      <th>4937</th>\n      <td>5Z1CCuBsyhEHngq3U5IraY</td>\n      <td>Westlife</td>\n      <td>74</td>\n      <td>[boy band, dance pop, europop]</td>\n      <td>[2019, 2010, 2009, 2007, 2006, 2005, 2004, 200...</td>\n      <td>1999</td>\n      <td>2021</td>\n      <td>24.0</td>\n      <td>0.0</td>\n      <td>0.0</td>\n      <td>...</td>\n      <td>0.0</td>\n      <td>0.0</td>\n      <td>0.0</td>\n      <td>0.0</td>\n      <td>3.0</td>\n      <td>4739.251</td>\n      <td>2000</td>\n      <td>2000</td>\n      <td>1.0</td>\n      <td>29.0</td>\n    </tr>\n    <tr>\n      <th>5020</th>\n      <td>4wLXwxDeWQ8mtUIRPxGiD6</td>\n      <td>Marc Anthony</td>\n      <td>80</td>\n      <td>[latin, latin pop, modern salsa, salsa, tropical]</td>\n      <td>[2019, 2018, 2017, 2013, 2010, 2007, 2006, 200...</td>\n      <td>1991</td>\n      <td>2022</td>\n      <td>52.0</td>\n      <td>0.0</td>\n      <td>0.0</td>\n      <td>...</td>\n      <td>0.0</td>\n      <td>0.0</td>\n      <td>0.0</td>\n      <td>0.0</td>\n      <td>12.0</td>\n      <td>26338.902</td>\n      <td>2000</td>\n      <td>2000</td>\n      <td>2.0</td>\n      <td>6.0</td>\n    </tr>\n  </tbody>\n</table>\n<p>1222 rows × 243 columns</p>\n</div>"
     },
     "execution_count": 104,
     "metadata": {},
     "output_type": "execute_result"
    }
   ],
   "source": [
    "artist_df[artist_df[\"chart_months\"] > 0]"
   ],
   "metadata": {
    "collapsed": false,
    "pycharm": {
     "name": "#%%\n"
    }
   }
  },
  {
   "cell_type": "code",
   "execution_count": 85,
   "outputs": [
    {
     "name": "stdout",
     "output_type": "stream",
     "text": [
      "(6140, 243)\n"
     ]
    },
    {
     "data": {
      "text/plain": "                       id                     name  popularity  \\\n0  1Yfe3ONJlioHys7jwHdfVm                  Lomepal          71   \n1  6OqQbeNe7Pi7Zi7SNTi9ko             Billy Gilman          37   \n2  0aqgzJNXZRtRY2tacDnses             Van She Tech          11   \n3  1Hsdzj7Dlq2I7tHP7501T4              Niall Horan          81   \n4  5NtLSCw6j3lTSOUjHnZASC  Juvenile, Wacko, & Skip          29   \n\n                            genres  \\\n0  [french hip hop, rap conscient]   \n1         [country, queer country]   \n2                               []   \n3  [dance pop, pop, post-teen pop]   \n4                               []   \n\n                                       release_years  first_release  \\\n0  [2019, 2019, 2018, 2017, 2015, 2014, 2013, 201...           2011   \n1  [2016, 2006, 2005, 2003, 2001, 2000, 2000, 202...           2000   \n2  [2021, 2019, 2021, 2009, 2008, 2008, 2008, 200...           2007   \n3  [2020, 2019, 2017, 2021, 2021, 2021, 2021, 202...           2016   \n4                                       [2013, 2004]           2004   \n\n   last_release  total_releases  releases_1900  releases_1901  ...  \\\n0          2021            46.0            0.0            0.0  ...   \n1          2020            21.0            0.0            0.0  ...   \n2          2021             9.0            0.0            0.0  ...   \n3          2022            23.0            0.0            0.0  ...   \n4          2013             2.0            0.0            0.0  ...   \n\n   chart_months_2016  chart_months_recently_2016  chart_months_2017  \\\n0                NaN                         NaN                NaN   \n1                0.0                         0.0                0.0   \n2                NaN                         NaN                NaN   \n3                0.0                         0.0                0.0   \n4                0.0                         0.0                0.0   \n\n   chart_months_recently_2017  chart_months_2018  chart_months_recently_2018  \\\n0                         NaN                NaN                         NaN   \n1                         0.0                0.0                         0.0   \n2                         NaN                NaN                         NaN   \n3                         0.0                0.0                         0.0   \n4                         0.0                0.0                         0.0   \n\n   chart_months_2019  chart_months_recently_2019  chart_months_2020  \\\n0                NaN                         NaN                NaN   \n1                0.0                         0.0                0.0   \n2                NaN                         NaN                NaN   \n3                0.0                         0.0                0.0   \n4                0.0                         0.0                0.0   \n\n   chart_months_recently_2020  \n0                         NaN  \n1                         0.0  \n2                         NaN  \n3                         0.0  \n4                         0.0  \n\n[5 rows x 243 columns]",
      "text/html": "<div>\n<style scoped>\n    .dataframe tbody tr th:only-of-type {\n        vertical-align: middle;\n    }\n\n    .dataframe tbody tr th {\n        vertical-align: top;\n    }\n\n    .dataframe thead th {\n        text-align: right;\n    }\n</style>\n<table border=\"1\" class=\"dataframe\">\n  <thead>\n    <tr style=\"text-align: right;\">\n      <th></th>\n      <th>id</th>\n      <th>name</th>\n      <th>popularity</th>\n      <th>genres</th>\n      <th>release_years</th>\n      <th>first_release</th>\n      <th>last_release</th>\n      <th>total_releases</th>\n      <th>releases_1900</th>\n      <th>releases_1901</th>\n      <th>...</th>\n      <th>chart_months_2016</th>\n      <th>chart_months_recently_2016</th>\n      <th>chart_months_2017</th>\n      <th>chart_months_recently_2017</th>\n      <th>chart_months_2018</th>\n      <th>chart_months_recently_2018</th>\n      <th>chart_months_2019</th>\n      <th>chart_months_recently_2019</th>\n      <th>chart_months_2020</th>\n      <th>chart_months_recently_2020</th>\n    </tr>\n  </thead>\n  <tbody>\n    <tr>\n      <th>0</th>\n      <td>1Yfe3ONJlioHys7jwHdfVm</td>\n      <td>Lomepal</td>\n      <td>71</td>\n      <td>[french hip hop, rap conscient]</td>\n      <td>[2019, 2019, 2018, 2017, 2015, 2014, 2013, 201...</td>\n      <td>2011</td>\n      <td>2021</td>\n      <td>46.0</td>\n      <td>0.0</td>\n      <td>0.0</td>\n      <td>...</td>\n      <td>NaN</td>\n      <td>NaN</td>\n      <td>NaN</td>\n      <td>NaN</td>\n      <td>NaN</td>\n      <td>NaN</td>\n      <td>NaN</td>\n      <td>NaN</td>\n      <td>NaN</td>\n      <td>NaN</td>\n    </tr>\n    <tr>\n      <th>1</th>\n      <td>6OqQbeNe7Pi7Zi7SNTi9ko</td>\n      <td>Billy Gilman</td>\n      <td>37</td>\n      <td>[country, queer country]</td>\n      <td>[2016, 2006, 2005, 2003, 2001, 2000, 2000, 202...</td>\n      <td>2000</td>\n      <td>2020</td>\n      <td>21.0</td>\n      <td>0.0</td>\n      <td>0.0</td>\n      <td>...</td>\n      <td>0.0</td>\n      <td>0.0</td>\n      <td>0.0</td>\n      <td>0.0</td>\n      <td>0.0</td>\n      <td>0.0</td>\n      <td>0.0</td>\n      <td>0.0</td>\n      <td>0.0</td>\n      <td>0.0</td>\n    </tr>\n    <tr>\n      <th>2</th>\n      <td>0aqgzJNXZRtRY2tacDnses</td>\n      <td>Van She Tech</td>\n      <td>11</td>\n      <td>[]</td>\n      <td>[2021, 2019, 2021, 2009, 2008, 2008, 2008, 200...</td>\n      <td>2007</td>\n      <td>2021</td>\n      <td>9.0</td>\n      <td>0.0</td>\n      <td>0.0</td>\n      <td>...</td>\n      <td>NaN</td>\n      <td>NaN</td>\n      <td>NaN</td>\n      <td>NaN</td>\n      <td>NaN</td>\n      <td>NaN</td>\n      <td>NaN</td>\n      <td>NaN</td>\n      <td>NaN</td>\n      <td>NaN</td>\n    </tr>\n    <tr>\n      <th>3</th>\n      <td>1Hsdzj7Dlq2I7tHP7501T4</td>\n      <td>Niall Horan</td>\n      <td>81</td>\n      <td>[dance pop, pop, post-teen pop]</td>\n      <td>[2020, 2019, 2017, 2021, 2021, 2021, 2021, 202...</td>\n      <td>2016</td>\n      <td>2022</td>\n      <td>23.0</td>\n      <td>0.0</td>\n      <td>0.0</td>\n      <td>...</td>\n      <td>0.0</td>\n      <td>0.0</td>\n      <td>0.0</td>\n      <td>0.0</td>\n      <td>0.0</td>\n      <td>0.0</td>\n      <td>0.0</td>\n      <td>0.0</td>\n      <td>0.0</td>\n      <td>0.0</td>\n    </tr>\n    <tr>\n      <th>4</th>\n      <td>5NtLSCw6j3lTSOUjHnZASC</td>\n      <td>Juvenile, Wacko, &amp; Skip</td>\n      <td>29</td>\n      <td>[]</td>\n      <td>[2013, 2004]</td>\n      <td>2004</td>\n      <td>2013</td>\n      <td>2.0</td>\n      <td>0.0</td>\n      <td>0.0</td>\n      <td>...</td>\n      <td>0.0</td>\n      <td>0.0</td>\n      <td>0.0</td>\n      <td>0.0</td>\n      <td>0.0</td>\n      <td>0.0</td>\n      <td>0.0</td>\n      <td>0.0</td>\n      <td>0.0</td>\n      <td>0.0</td>\n    </tr>\n  </tbody>\n</table>\n<p>5 rows × 243 columns</p>\n</div>"
     },
     "execution_count": 85,
     "metadata": {},
     "output_type": "execute_result"
    }
   ],
   "source": [
    "def with_chart_months_csum_columns(artist_df, song_chart_df):\n",
    "    song_chart_df[\"year\"] = song_chart_df[\"month\"].apply(lambda month: month.split(\" \")[-1]).astype(int)\n",
    "    song_chart_df[\"chart_months\"] = 1\n",
    "    df_ = (\n",
    "        song_chart_df\n",
    "            .sort_values(by=[\"spotify_artist_id\", \"spotify_track_id\", \"year\"])\n",
    "            .groupby([\"spotify_artist_id\", \"year\"]).sum()\n",
    "            .groupby(level=0)\n",
    "            .aggregate({\n",
    "                \"chart_months\": \"cumsum\",\n",
    "                \"indicativerevenue\": \"cumsum\",\n",
    "            })\n",
    "            .reset_index()\n",
    "            .pivot(index=\"spotify_artist_id\", columns=\"year\", values=\"chart_months\")\n",
    "            .fillna(0)\n",
    "            .reset_index()\n",
    "            .rename_axis(None, axis=1)\n",
    "            #.set_index(\"id\")\n",
    "    )\n",
    "    columns = [\"id\"]\n",
    "    df_[\"1999\"] = 0\n",
    "    df_[\"1998\"] = 0\n",
    "    df_[\"1997\"] = 0\n",
    "    for year in range(2000, 2021):\n",
    "        columns.append(str(f\"chart_months_{year}\"))\n",
    "        columns.append(str(f\"chart_months_recently_{year}\"))\n",
    "        if str(year) not in df_.columns:\n",
    "            df_[str(year)] = 0\n",
    "        if str(year + 1) not in df_.columns:\n",
    "            df_[str(year + 1)] = 0\n",
    "        df_.loc[df_[str(year + 1)] == 0, str(year + 1)] = df_[str(year)]\n",
    "        df_[f\"chart_months_{year}\"] = df_[str(year)]\n",
    "        df_[f\"chart_months_recently_{year}\"] = df_[str(year)] - df_[str(year - 3)]\n",
    "    df_ = df_.rename(columns={\"spotify_artist_id\": \"id\"}).fillna(0)\n",
    "    df_ = pd.merge(artist_df, df_[columns], on=\"id\", how=\"left\")\n",
    "    return df_\n",
    "\n",
    "\n",
    "artist_df = artist_df.drop(\n",
    "    columns=[col for col in artist_df.columns\n",
    "             if col.startswith(\"chart_months_\")])\n",
    "song_chart_df = pd.read_parquet(data_path / \"raw/song_chart_by_month.pq\")\n",
    "artist_df = with_chart_months_csum_columns(artist_df, song_chart_df)\n",
    "print(artist_df.shape)\n",
    "artist_df.head()"
   ],
   "metadata": {
    "collapsed": false,
    "pycharm": {
     "name": "#%%\n"
    }
   }
  },
  {
   "cell_type": "code",
   "execution_count": 105,
   "outputs": [
    {
     "name": "stdout",
     "output_type": "stream",
     "text": [
      "False\n"
     ]
    }
   ],
   "source": [
    "artist_df = artist_df.drop_duplicates([\"id\"])\n",
    "artist_df[\"first_release\"] = artist_df[\"first_release\"].astype(int)\n",
    "artist_df[\"last_release\"] = artist_df[\"last_release\"].astype(int)\n",
    "artist_df[\"gender\"] = artist_df[\"gender\"].astype(str)\n",
    "artist_df[\"country\"] = artist_df[\"country\"].astype(str)\n",
    "artist_df[\"hometown\"] = artist_df[\"hometown\"].astype(str)\n",
    "artist_df[\"first_chart_year\"] = artist_df[\"first_chart_year\"].astype(int)\n",
    "artist_df[\"last_chart_year\"] = artist_df[\"last_chart_year\"].astype(int)\n",
    "\n",
    "print(diff_dataset)\n",
    "if diff_dataset:\n",
    "    artist_df_0 = pd.read_parquet(data_path / \"artist_summary.pq\")\n",
    "    artist_df_concat = pd.concat([artist_df_0, artist_df]).drop_duplicates([\"id\"])\n",
    "    artist_df_concat.to_csv(data_path / \"artist_summary.csv.gz\")\n",
    "    artist_df_concat.to_parquet(data_path / \"artist_summary.pq\")\n",
    "else:\n",
    "    artist_df.to_csv(data_path / \"artist_summary.csv.gz\")\n",
    "    artist_df.to_parquet(data_path / \"artist_summary.pq\")"
   ],
   "metadata": {
    "collapsed": false,
    "pycharm": {
     "name": "#%%\n"
    }
   }
  },
  {
   "cell_type": "code",
   "execution_count": 87,
   "outputs": [
    {
     "data": {
      "text/plain": "(2399, 243)"
     },
     "execution_count": 87,
     "metadata": {},
     "output_type": "execute_result"
    }
   ],
   "source": [
    "artist_df_0.shape"
   ],
   "metadata": {
    "collapsed": false,
    "pycharm": {
     "name": "#%%\n"
    }
   }
  },
  {
   "cell_type": "code",
   "execution_count": 106,
   "outputs": [
    {
     "data": {
      "text/plain": "(6140, 243)"
     },
     "execution_count": 106,
     "metadata": {},
     "output_type": "execute_result"
    }
   ],
   "source": [
    "artist_df.shape"
   ],
   "metadata": {
    "collapsed": false,
    "pycharm": {
     "name": "#%%\n"
    }
   }
  },
  {
   "cell_type": "code",
   "execution_count": 107,
   "outputs": [
    {
     "data": {
      "text/plain": "(6140, 243)"
     },
     "execution_count": 107,
     "metadata": {},
     "output_type": "execute_result"
    }
   ],
   "source": [
    "artist_df_concat.shape"
   ],
   "metadata": {
    "collapsed": false,
    "pycharm": {
     "name": "#%%\n"
    }
   }
  },
  {
   "cell_type": "code",
   "execution_count": 108,
   "outputs": [
    {
     "data": {
      "text/plain": "(6140, 243)"
     },
     "execution_count": 108,
     "metadata": {},
     "output_type": "execute_result"
    }
   ],
   "source": [
    "artist_df_concat.drop_duplicates([\"id\"]).shape"
   ],
   "metadata": {
    "collapsed": false,
    "pycharm": {
     "name": "#%%\n"
    }
   }
  },
  {
   "cell_type": "code",
   "execution_count": null,
   "outputs": [],
   "source": [],
   "metadata": {
    "collapsed": false,
    "pycharm": {
     "name": "#%%\n"
    }
   }
  }
 ],
 "metadata": {
  "kernelspec": {
   "display_name": "Python 3",
   "language": "python",
   "name": "python3"
  },
  "language_info": {
   "codemirror_mode": {
    "name": "ipython",
    "version": 2
   },
   "file_extension": ".py",
   "mimetype": "text/x-python",
   "name": "python",
   "nbconvert_exporter": "python",
   "pygments_lexer": "ipython2",
   "version": "2.7.6"
  }
 },
 "nbformat": 4,
 "nbformat_minor": 0
}