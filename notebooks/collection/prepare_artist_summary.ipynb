{
 "cells": [
  {
   "cell_type": "code",
   "execution_count": 1,
   "outputs": [],
   "source": [
    "import itertools\n",
    "import json\n",
    "import os\n",
    "from pathlib import Path\n",
    "from time import time, sleep\n",
    "\n",
    "import pandas as pd\n",
    "import numpy as np\n",
    "from slugify import slugify\n",
    "from util import mbz, spotify, filter_by_artist\n",
    "\n",
    "diff_dataset = True\n",
    "\n",
    "data_path = Path(\"../../data\").resolve()\n",
    "os.makedirs(data_path, exist_ok=True)\n",
    "\n",
    "mbz.set_useragent(\"music-mining-artists\", 0.3, \"pezon@uchicago.edu\")"
   ],
   "metadata": {
    "collapsed": false,
    "pycharm": {
     "name": "#%%\n"
    }
   }
  },
  {
   "cell_type": "code",
   "execution_count": 2,
   "outputs": [
    {
     "data": {
      "text/plain": "2002"
     },
     "execution_count": 2,
     "metadata": {},
     "output_type": "execute_result"
    }
   ],
   "source": [
    "def extract_artist_ids(df, artist_ids_key=\"artist_ids\"):\n",
    "    return df[artist_ids_key].apply(json.loads).explode(artist_ids_key)\n",
    "\n",
    "\n",
    "df = pd.read_parquet(data_path / \"tracks.pq\")\n",
    "if diff_dataset:\n",
    "    df = df[df[\"artist_matched\"] == 0]\n",
    "\n",
    "artist_ids = list(set(extract_artist_ids(df).tolist()))\n",
    "len(artist_ids)"
   ],
   "metadata": {
    "collapsed": false,
    "pycharm": {
     "name": "#%%\n"
    }
   }
  },
  {
   "cell_type": "code",
   "execution_count": 3,
   "outputs": [
    {
     "name": "stdout",
     "output_type": "stream",
     "text": [
      "(1958, 4)\n"
     ]
    },
    {
     "data": {
      "text/plain": "                       id                name  popularity  \\\n0  4pCed3LdHxqECCLGyIdzn3          Rafe Gomez           5   \n1  6AUl0ykLLpvTktob97x9hO        Tee Grizzley          73   \n2  3GFO1X5LAHduvR314sXnqI             Sam Rui          36   \n3  2zTqYdZYO1KenNZPdaZNlY  The Painted Pianos           2   \n4  5lR7yDVN4z9kahOiUSlMhe  The King's Singers          48   \n\n                                              genres  \n0                                                 []  \n1  [detroit hip hop, detroit trap, hip hop, pop r...  \n2                                  [singaporean pop]  \n3                                    [indie rockism]  \n4  [a cappella, british choir, cambridge choir, c...  ",
      "text/html": "<div>\n<style scoped>\n    .dataframe tbody tr th:only-of-type {\n        vertical-align: middle;\n    }\n\n    .dataframe tbody tr th {\n        vertical-align: top;\n    }\n\n    .dataframe thead th {\n        text-align: right;\n    }\n</style>\n<table border=\"1\" class=\"dataframe\">\n  <thead>\n    <tr style=\"text-align: right;\">\n      <th></th>\n      <th>id</th>\n      <th>name</th>\n      <th>popularity</th>\n      <th>genres</th>\n    </tr>\n  </thead>\n  <tbody>\n    <tr>\n      <th>0</th>\n      <td>4pCed3LdHxqECCLGyIdzn3</td>\n      <td>Rafe Gomez</td>\n      <td>5</td>\n      <td>[]</td>\n    </tr>\n    <tr>\n      <th>1</th>\n      <td>6AUl0ykLLpvTktob97x9hO</td>\n      <td>Tee Grizzley</td>\n      <td>73</td>\n      <td>[detroit hip hop, detroit trap, hip hop, pop r...</td>\n    </tr>\n    <tr>\n      <th>2</th>\n      <td>3GFO1X5LAHduvR314sXnqI</td>\n      <td>Sam Rui</td>\n      <td>36</td>\n      <td>[singaporean pop]</td>\n    </tr>\n    <tr>\n      <th>3</th>\n      <td>2zTqYdZYO1KenNZPdaZNlY</td>\n      <td>The Painted Pianos</td>\n      <td>2</td>\n      <td>[indie rockism]</td>\n    </tr>\n    <tr>\n      <th>4</th>\n      <td>5lR7yDVN4z9kahOiUSlMhe</td>\n      <td>The King's Singers</td>\n      <td>48</td>\n      <td>[a cappella, british choir, cambridge choir, c...</td>\n    </tr>\n  </tbody>\n</table>\n</div>"
     },
     "execution_count": 3,
     "metadata": {},
     "output_type": "execute_result"
    }
   ],
   "source": [
    "def fetch_spotify_metadata(artist_ids):\n",
    "    artists = []\n",
    "    for i in range(0, len(artist_ids), 50):\n",
    "        chunk = artist_ids[i:i + 50]\n",
    "        artists.append(\n",
    "            {\n",
    "                \"id\": artist[\"id\"],\n",
    "                \"name\": artist[\"name\"],\n",
    "                \"popularity\": artist[\"popularity\"],\n",
    "                \"genres\": artist[\"genres\"],\n",
    "            }\n",
    "            for artist in spotify.artists(chunk)[\"artists\"]\n",
    "            if \"Karaoke\" not in artist[\"name\"]\n",
    "        )\n",
    "        sleep(0.25)\n",
    "\n",
    "        # logging status to console\n",
    "        total_artists = len(artist_ids)\n",
    "        fetched_artists = len(artists)\n",
    "        if fetched_artists % 500 == 0:\n",
    "            print(f\"status: {fetched_artists / total_artists * 100:.2f} \"\n",
    "                  f\"({fetched_artists} / {total_artists})\")\n",
    "    return pd.DataFrame(itertools.chain(*artists))\n",
    "\n",
    "\n",
    "artist_df = fetch_spotify_metadata(artist_ids)\n",
    "print(artist_df.shape)\n",
    "artist_df.head()"
   ],
   "metadata": {
    "collapsed": false,
    "pycharm": {
     "name": "#%%\n"
    }
   }
  },
  {
   "cell_type": "code",
   "execution_count": 4,
   "outputs": [
    {
     "name": "stdout",
     "output_type": "stream",
     "text": [
      "(1958, 5)\n"
     ]
    },
    {
     "data": {
      "text/plain": "                       id                name  popularity  \\\n0  4pCed3LdHxqECCLGyIdzn3          Rafe Gomez           5   \n1  6AUl0ykLLpvTktob97x9hO        Tee Grizzley          73   \n2  3GFO1X5LAHduvR314sXnqI             Sam Rui          36   \n3  2zTqYdZYO1KenNZPdaZNlY  The Painted Pianos           2   \n4  5lR7yDVN4z9kahOiUSlMhe  The King's Singers          48   \n\n                                              genres  \\\n0                                                 []   \n1  [detroit hip hop, detroit trap, hip hop, pop r...   \n2                                  [singaporean pop]   \n3                                    [indie rockism]   \n4  [a cappella, british choir, cambridge choir, c...   \n\n                                       release_years  \n0                                                 []  \n1  [2021, 2020, 2019, 2018, 2018, 2017, 2017, 202...  \n2  [2017, 2020, 2020, 2020, 2019, 2019, 2018, 201...  \n3                                       [2018, 2018]  \n4  [2021, 2020, 2020, 2019, 2018, 2017, 2017, 201...  ",
      "text/html": "<div>\n<style scoped>\n    .dataframe tbody tr th:only-of-type {\n        vertical-align: middle;\n    }\n\n    .dataframe tbody tr th {\n        vertical-align: top;\n    }\n\n    .dataframe thead th {\n        text-align: right;\n    }\n</style>\n<table border=\"1\" class=\"dataframe\">\n  <thead>\n    <tr style=\"text-align: right;\">\n      <th></th>\n      <th>id</th>\n      <th>name</th>\n      <th>popularity</th>\n      <th>genres</th>\n      <th>release_years</th>\n    </tr>\n  </thead>\n  <tbody>\n    <tr>\n      <th>0</th>\n      <td>4pCed3LdHxqECCLGyIdzn3</td>\n      <td>Rafe Gomez</td>\n      <td>5</td>\n      <td>[]</td>\n      <td>[]</td>\n    </tr>\n    <tr>\n      <th>1</th>\n      <td>6AUl0ykLLpvTktob97x9hO</td>\n      <td>Tee Grizzley</td>\n      <td>73</td>\n      <td>[detroit hip hop, detroit trap, hip hop, pop r...</td>\n      <td>[2021, 2020, 2019, 2018, 2018, 2017, 2017, 202...</td>\n    </tr>\n    <tr>\n      <th>2</th>\n      <td>3GFO1X5LAHduvR314sXnqI</td>\n      <td>Sam Rui</td>\n      <td>36</td>\n      <td>[singaporean pop]</td>\n      <td>[2017, 2020, 2020, 2020, 2019, 2019, 2018, 201...</td>\n    </tr>\n    <tr>\n      <th>3</th>\n      <td>2zTqYdZYO1KenNZPdaZNlY</td>\n      <td>The Painted Pianos</td>\n      <td>2</td>\n      <td>[indie rockism]</td>\n      <td>[2018, 2018]</td>\n    </tr>\n    <tr>\n      <th>4</th>\n      <td>5lR7yDVN4z9kahOiUSlMhe</td>\n      <td>The King's Singers</td>\n      <td>48</td>\n      <td>[a cappella, british choir, cambridge choir, c...</td>\n      <td>[2021, 2020, 2020, 2019, 2018, 2017, 2017, 201...</td>\n    </tr>\n  </tbody>\n</table>\n</div>"
     },
     "execution_count": 4,
     "metadata": {},
     "output_type": "execute_result"
    }
   ],
   "source": [
    "def fetch_release_years(artist_id):\n",
    "    albums_resp = spotify.artist_albums(artist_id, limit=50)\n",
    "    sleep(0.20)\n",
    "    album_chunks = albums_resp[\"items\"]\n",
    "    album_years = []\n",
    "    album_names = []\n",
    "    for i in range(0, albums_resp[\"total\"], 50):\n",
    "        album_chunks += spotify.artist_albums(artist_id, limit=50, offset=(i + 1) * 50)[\"items\"]\n",
    "        sleep(0.20)\n",
    "        for album in itertools.chain(album_chunks):\n",
    "            if album[\"album_type\"] == \"compilation\"\\\n",
    "                    or \"Deluxe\" in album[\"name\"]\\\n",
    "                    or \"Remaster\" in album[\"name\"]\\\n",
    "                    or \"Karaoke\" in album[\"name\"]\\\n",
    "                    or \"Acappella\" in album[\"name\"]\\\n",
    "                    or \"Version\" in album[\"name\"]\\\n",
    "                    or (\"Remix\" in album[\"name\"] and album[\"album_type\"] == \"single\")\\\n",
    "                    or slugify(album[\"name\"]) in album_names:\n",
    "                continue\n",
    "            album_names.append(slugify(album[\"name\"]))\n",
    "            album_years.append(album[\"release_date\"][0:4])\n",
    "    return album_years\n",
    "\n",
    "\n",
    "def with_release_years(artist_df):\n",
    "    artist_df[\"release_years\"] = artist_df[\"id\"].apply(fetch_release_years)\n",
    "    return artist_df\n",
    "\n",
    "\n",
    "artist_df = with_release_years(artist_df)\n",
    "print(artist_df.shape)\n",
    "artist_df.head()"
   ],
   "metadata": {
    "collapsed": false,
    "pycharm": {
     "name": "#%%\n"
    }
   }
  },
  {
   "cell_type": "code",
   "execution_count": 5,
   "outputs": [
    {
     "name": "stdout",
     "output_type": "stream",
     "text": [
      "(1958, 8)\n"
     ]
    },
    {
     "data": {
      "text/plain": "                       id                name  popularity  \\\n0  4pCed3LdHxqECCLGyIdzn3          Rafe Gomez           5   \n1  6AUl0ykLLpvTktob97x9hO        Tee Grizzley          73   \n2  3GFO1X5LAHduvR314sXnqI             Sam Rui          36   \n3  2zTqYdZYO1KenNZPdaZNlY  The Painted Pianos           2   \n4  5lR7yDVN4z9kahOiUSlMhe  The King's Singers          48   \n\n                                              genres  \\\n0                                                 []   \n1  [detroit hip hop, detroit trap, hip hop, pop r...   \n2                                  [singaporean pop]   \n3                                    [indie rockism]   \n4  [a cappella, british choir, cambridge choir, c...   \n\n                                       release_years first_release  \\\n0                                                 []          None   \n1  [2021, 2020, 2019, 2018, 2018, 2017, 2017, 202...          2017   \n2  [2017, 2020, 2020, 2020, 2019, 2019, 2018, 201...          2016   \n3                                       [2018, 2018]          2018   \n4  [2021, 2020, 2020, 2019, 2018, 2017, 2017, 201...          1985   \n\n  last_release  total_releases  \n0         None             NaN  \n1         2022            57.0  \n2         2020            17.0  \n3         2018             2.0  \n4         2021            88.0  ",
      "text/html": "<div>\n<style scoped>\n    .dataframe tbody tr th:only-of-type {\n        vertical-align: middle;\n    }\n\n    .dataframe tbody tr th {\n        vertical-align: top;\n    }\n\n    .dataframe thead th {\n        text-align: right;\n    }\n</style>\n<table border=\"1\" class=\"dataframe\">\n  <thead>\n    <tr style=\"text-align: right;\">\n      <th></th>\n      <th>id</th>\n      <th>name</th>\n      <th>popularity</th>\n      <th>genres</th>\n      <th>release_years</th>\n      <th>first_release</th>\n      <th>last_release</th>\n      <th>total_releases</th>\n    </tr>\n  </thead>\n  <tbody>\n    <tr>\n      <th>0</th>\n      <td>4pCed3LdHxqECCLGyIdzn3</td>\n      <td>Rafe Gomez</td>\n      <td>5</td>\n      <td>[]</td>\n      <td>[]</td>\n      <td>None</td>\n      <td>None</td>\n      <td>NaN</td>\n    </tr>\n    <tr>\n      <th>1</th>\n      <td>6AUl0ykLLpvTktob97x9hO</td>\n      <td>Tee Grizzley</td>\n      <td>73</td>\n      <td>[detroit hip hop, detroit trap, hip hop, pop r...</td>\n      <td>[2021, 2020, 2019, 2018, 2018, 2017, 2017, 202...</td>\n      <td>2017</td>\n      <td>2022</td>\n      <td>57.0</td>\n    </tr>\n    <tr>\n      <th>2</th>\n      <td>3GFO1X5LAHduvR314sXnqI</td>\n      <td>Sam Rui</td>\n      <td>36</td>\n      <td>[singaporean pop]</td>\n      <td>[2017, 2020, 2020, 2020, 2019, 2019, 2018, 201...</td>\n      <td>2016</td>\n      <td>2020</td>\n      <td>17.0</td>\n    </tr>\n    <tr>\n      <th>3</th>\n      <td>2zTqYdZYO1KenNZPdaZNlY</td>\n      <td>The Painted Pianos</td>\n      <td>2</td>\n      <td>[indie rockism]</td>\n      <td>[2018, 2018]</td>\n      <td>2018</td>\n      <td>2018</td>\n      <td>2.0</td>\n    </tr>\n    <tr>\n      <th>4</th>\n      <td>5lR7yDVN4z9kahOiUSlMhe</td>\n      <td>The King's Singers</td>\n      <td>48</td>\n      <td>[a cappella, british choir, cambridge choir, c...</td>\n      <td>[2021, 2020, 2020, 2019, 2018, 2017, 2017, 201...</td>\n      <td>1985</td>\n      <td>2021</td>\n      <td>88.0</td>\n    </tr>\n  </tbody>\n</table>\n</div>"
     },
     "execution_count": 5,
     "metadata": {},
     "output_type": "execute_result"
    }
   ],
   "source": [
    "def with_release_year_stats(artist_df):\n",
    "    df_ = artist_df.copy()\n",
    "    df_[\"first_release\"] = df_[\"release_years\"].apply(lambda years: min(years) if len(years) > 0 else None)\n",
    "    df_[\"last_release\"] = df_[\"release_years\"].apply(lambda years: max(years) if len(years) > 0 else None)\n",
    "    df_[\"total_releases\"] = df_[\"release_years\"].apply(lambda years: len(years) if len(years) > 0 else None)\n",
    "    return df_\n",
    "\n",
    "\n",
    "artist_df = with_release_year_stats(artist_df)\n",
    "print(artist_df.shape)\n",
    "artist_df.head()"
   ],
   "metadata": {
    "collapsed": false,
    "pycharm": {
     "name": "#%%\n"
    }
   }
  },
  {
   "cell_type": "code",
   "execution_count": 6,
   "outputs": [
    {
     "name": "stdout",
     "output_type": "stream",
     "text": [
      "(1958, 55)\n"
     ]
    },
    {
     "data": {
      "text/plain": "                       id                name  popularity  \\\n0  4pCed3LdHxqECCLGyIdzn3          Rafe Gomez           5   \n1  6AUl0ykLLpvTktob97x9hO        Tee Grizzley          73   \n2  3GFO1X5LAHduvR314sXnqI             Sam Rui          36   \n3  2zTqYdZYO1KenNZPdaZNlY  The Painted Pianos           2   \n4  5lR7yDVN4z9kahOiUSlMhe  The King's Singers          48   \n\n                                              genres  \\\n0                                                 []   \n1  [detroit hip hop, detroit trap, hip hop, pop r...   \n2                                  [singaporean pop]   \n3                                    [indie rockism]   \n4  [a cappella, british choir, cambridge choir, c...   \n\n                                       release_years first_release  \\\n0                                                 []          None   \n1  [2021, 2020, 2019, 2018, 2018, 2017, 2017, 202...          2017   \n2  [2017, 2020, 2020, 2020, 2019, 2019, 2018, 201...          2016   \n3                                       [2018, 2018]          2018   \n4  [2021, 2020, 2020, 2019, 2018, 2017, 2017, 201...          1985   \n\n  last_release  total_releases  releases_1975  releases_1976  ...  \\\n0         None             NaN            NaN            NaN  ...   \n1         2022            57.0            0.0            0.0  ...   \n2         2020            17.0            0.0            0.0  ...   \n3         2018             2.0            0.0            0.0  ...   \n4         2021            88.0            0.0            0.0  ...   \n\n   releases_2012  releases_2013  releases_2014  releases_2015  releases_2016  \\\n0            NaN            NaN            NaN            NaN            NaN   \n1            0.0            0.0            0.0            0.0            0.0   \n2            0.0            0.0            0.0            0.0            2.0   \n3            0.0            0.0            0.0            0.0            0.0   \n4           47.0           51.0           54.0           57.0           60.0   \n\n   releases_2017  releases_2018  releases_2019  releases_2020  releases_2021  \n0            NaN            NaN            NaN            NaN            NaN  \n1           13.0           19.0           24.0           34.0           53.0  \n2            5.0            7.0           12.0           17.0           17.0  \n3            0.0            2.0            2.0            2.0            2.0  \n4           69.0           72.0           75.0           85.0           88.0  \n\n[5 rows x 55 columns]",
      "text/html": "<div>\n<style scoped>\n    .dataframe tbody tr th:only-of-type {\n        vertical-align: middle;\n    }\n\n    .dataframe tbody tr th {\n        vertical-align: top;\n    }\n\n    .dataframe thead th {\n        text-align: right;\n    }\n</style>\n<table border=\"1\" class=\"dataframe\">\n  <thead>\n    <tr style=\"text-align: right;\">\n      <th></th>\n      <th>id</th>\n      <th>name</th>\n      <th>popularity</th>\n      <th>genres</th>\n      <th>release_years</th>\n      <th>first_release</th>\n      <th>last_release</th>\n      <th>total_releases</th>\n      <th>releases_1975</th>\n      <th>releases_1976</th>\n      <th>...</th>\n      <th>releases_2012</th>\n      <th>releases_2013</th>\n      <th>releases_2014</th>\n      <th>releases_2015</th>\n      <th>releases_2016</th>\n      <th>releases_2017</th>\n      <th>releases_2018</th>\n      <th>releases_2019</th>\n      <th>releases_2020</th>\n      <th>releases_2021</th>\n    </tr>\n  </thead>\n  <tbody>\n    <tr>\n      <th>0</th>\n      <td>4pCed3LdHxqECCLGyIdzn3</td>\n      <td>Rafe Gomez</td>\n      <td>5</td>\n      <td>[]</td>\n      <td>[]</td>\n      <td>None</td>\n      <td>None</td>\n      <td>NaN</td>\n      <td>NaN</td>\n      <td>NaN</td>\n      <td>...</td>\n      <td>NaN</td>\n      <td>NaN</td>\n      <td>NaN</td>\n      <td>NaN</td>\n      <td>NaN</td>\n      <td>NaN</td>\n      <td>NaN</td>\n      <td>NaN</td>\n      <td>NaN</td>\n      <td>NaN</td>\n    </tr>\n    <tr>\n      <th>1</th>\n      <td>6AUl0ykLLpvTktob97x9hO</td>\n      <td>Tee Grizzley</td>\n      <td>73</td>\n      <td>[detroit hip hop, detroit trap, hip hop, pop r...</td>\n      <td>[2021, 2020, 2019, 2018, 2018, 2017, 2017, 202...</td>\n      <td>2017</td>\n      <td>2022</td>\n      <td>57.0</td>\n      <td>0.0</td>\n      <td>0.0</td>\n      <td>...</td>\n      <td>0.0</td>\n      <td>0.0</td>\n      <td>0.0</td>\n      <td>0.0</td>\n      <td>0.0</td>\n      <td>13.0</td>\n      <td>19.0</td>\n      <td>24.0</td>\n      <td>34.0</td>\n      <td>53.0</td>\n    </tr>\n    <tr>\n      <th>2</th>\n      <td>3GFO1X5LAHduvR314sXnqI</td>\n      <td>Sam Rui</td>\n      <td>36</td>\n      <td>[singaporean pop]</td>\n      <td>[2017, 2020, 2020, 2020, 2019, 2019, 2018, 201...</td>\n      <td>2016</td>\n      <td>2020</td>\n      <td>17.0</td>\n      <td>0.0</td>\n      <td>0.0</td>\n      <td>...</td>\n      <td>0.0</td>\n      <td>0.0</td>\n      <td>0.0</td>\n      <td>0.0</td>\n      <td>2.0</td>\n      <td>5.0</td>\n      <td>7.0</td>\n      <td>12.0</td>\n      <td>17.0</td>\n      <td>17.0</td>\n    </tr>\n    <tr>\n      <th>3</th>\n      <td>2zTqYdZYO1KenNZPdaZNlY</td>\n      <td>The Painted Pianos</td>\n      <td>2</td>\n      <td>[indie rockism]</td>\n      <td>[2018, 2018]</td>\n      <td>2018</td>\n      <td>2018</td>\n      <td>2.0</td>\n      <td>0.0</td>\n      <td>0.0</td>\n      <td>...</td>\n      <td>0.0</td>\n      <td>0.0</td>\n      <td>0.0</td>\n      <td>0.0</td>\n      <td>0.0</td>\n      <td>0.0</td>\n      <td>2.0</td>\n      <td>2.0</td>\n      <td>2.0</td>\n      <td>2.0</td>\n    </tr>\n    <tr>\n      <th>4</th>\n      <td>5lR7yDVN4z9kahOiUSlMhe</td>\n      <td>The King's Singers</td>\n      <td>48</td>\n      <td>[a cappella, british choir, cambridge choir, c...</td>\n      <td>[2021, 2020, 2020, 2019, 2018, 2017, 2017, 201...</td>\n      <td>1985</td>\n      <td>2021</td>\n      <td>88.0</td>\n      <td>0.0</td>\n      <td>0.0</td>\n      <td>...</td>\n      <td>47.0</td>\n      <td>51.0</td>\n      <td>54.0</td>\n      <td>57.0</td>\n      <td>60.0</td>\n      <td>69.0</td>\n      <td>72.0</td>\n      <td>75.0</td>\n      <td>85.0</td>\n      <td>88.0</td>\n    </tr>\n  </tbody>\n</table>\n<p>5 rows × 55 columns</p>\n</div>"
     },
     "execution_count": 6,
     "metadata": {},
     "output_type": "execute_result"
    }
   ],
   "source": [
    "def with_release_years_csum_columns(artist_df):\n",
    "    df_ = artist_df.explode(\"release_years\")\n",
    "    df_ = df_[[\"id\", \"release_years\"]]\n",
    "    df_[\"csum\"] = 1\n",
    "    df_ = (\n",
    "        df_.groupby([\"id\", \"release_years\"]).sum()\n",
    "            .groupby(level=0).cumsum()\n",
    "            .reset_index()\n",
    "    )\n",
    "    start_year = max(1975, int(min(df_[\"release_years\"])))\n",
    "    end_year = int(max(df_[\"release_years\"]))\n",
    "    df_ = (\n",
    "        df_.pivot(index=\"id\", columns=\"release_years\", values=\"csum\")\n",
    "            .fillna(0)\n",
    "            .reset_index()\n",
    "            .rename_axis(None, axis=1)\n",
    "            #.set_index(\"id\")\n",
    "    )\n",
    "    columns = [\"id\"]\n",
    "    for year in range(start_year, end_year):\n",
    "        columns.append(str(f\"releases_{year}\"))\n",
    "        if str(year) not in df_.columns:\n",
    "            df_[str(year)] = 0\n",
    "        if str(year + 1) not in df_.columns:\n",
    "            df_[str(year + 1)] = 0\n",
    "        df_.loc[df_[str(year + 1)] == 0, str(year + 1)] = df_[str(year)]\n",
    "        df_[f\"releases_{year}\"] = df_[str(year)]\n",
    "    df_ = df_.fillna(0)\n",
    "    df_ = pd.merge(artist_df, df_[columns], on=\"id\", how=\"left\")\n",
    "    return df_\n",
    "\n",
    "drop_columns = [col for col in artist_df.columns if col.startswith(\"releases_\")]\n",
    "artist_df = artist_df.drop(columns=drop_columns)\n",
    "artist_df = with_release_years_csum_columns(artist_df)\n",
    "print(artist_df.shape)\n",
    "artist_df.head()"
   ],
   "metadata": {
    "collapsed": false,
    "pycharm": {
     "name": "#%%\n"
    }
   }
  },
  {
   "cell_type": "code",
   "execution_count": 7,
   "outputs": [
    {
     "name": "stdout",
     "output_type": "stream",
     "text": [
      "status: 0.00 (0 / 1958)\n",
      "status: 15.63 (306 / 1958)\n",
      "status: 30.85 (604 / 1958)\n",
      "status: 47.91 (938 / 1958)\n",
      "(1958, 58)\n"
     ]
    },
    {
     "data": {
      "text/plain": "                       id                name  popularity  \\\n0  4pCed3LdHxqECCLGyIdzn3          Rafe Gomez           5   \n1  6AUl0ykLLpvTktob97x9hO        Tee Grizzley          73   \n2  3GFO1X5LAHduvR314sXnqI             Sam Rui          36   \n3  2zTqYdZYO1KenNZPdaZNlY  The Painted Pianos           2   \n4  5lR7yDVN4z9kahOiUSlMhe  The King's Singers          48   \n\n                                              genres  \\\n0                                                 []   \n1  [detroit hip hop, detroit trap, hip hop, pop r...   \n2                                  [singaporean pop]   \n3                                    [indie rockism]   \n4  [a cappella, british choir, cambridge choir, c...   \n\n                                       release_years first_release  \\\n0                                                 []          None   \n1  [2021, 2020, 2019, 2018, 2018, 2017, 2017, 202...          2017   \n2  [2017, 2020, 2020, 2020, 2019, 2019, 2018, 201...          2016   \n3                                       [2018, 2018]          2018   \n4  [2021, 2020, 2020, 2019, 2018, 2017, 2017, 201...          1985   \n\n  last_release  total_releases  releases_1975  releases_1976  ...  \\\n0         None             NaN            NaN            NaN  ...   \n1         2022            57.0            0.0            0.0  ...   \n2         2020            17.0            0.0            0.0  ...   \n3         2018             2.0            0.0            0.0  ...   \n4         2021            88.0            0.0            0.0  ...   \n\n   releases_2015  releases_2016  releases_2017  releases_2018  releases_2019  \\\n0            NaN            NaN            NaN            NaN            NaN   \n1            0.0            0.0           13.0           19.0           24.0   \n2            0.0            2.0            5.0            7.0           12.0   \n3            0.0            0.0            0.0            2.0            2.0   \n4           57.0           60.0           69.0           72.0           75.0   \n\n   releases_2020  releases_2021  gender  country    hometown  \n0            NaN            NaN     NaN      NaN         NaN  \n1           34.0           53.0    male      NaN     Detroit  \n2           17.0           17.0  female       SG   Singapore  \n3            2.0            2.0    None       US  Fort Myers  \n4           85.0           88.0    None       GB   Cambridge  \n\n[5 rows x 58 columns]",
      "text/html": "<div>\n<style scoped>\n    .dataframe tbody tr th:only-of-type {\n        vertical-align: middle;\n    }\n\n    .dataframe tbody tr th {\n        vertical-align: top;\n    }\n\n    .dataframe thead th {\n        text-align: right;\n    }\n</style>\n<table border=\"1\" class=\"dataframe\">\n  <thead>\n    <tr style=\"text-align: right;\">\n      <th></th>\n      <th>id</th>\n      <th>name</th>\n      <th>popularity</th>\n      <th>genres</th>\n      <th>release_years</th>\n      <th>first_release</th>\n      <th>last_release</th>\n      <th>total_releases</th>\n      <th>releases_1975</th>\n      <th>releases_1976</th>\n      <th>...</th>\n      <th>releases_2015</th>\n      <th>releases_2016</th>\n      <th>releases_2017</th>\n      <th>releases_2018</th>\n      <th>releases_2019</th>\n      <th>releases_2020</th>\n      <th>releases_2021</th>\n      <th>gender</th>\n      <th>country</th>\n      <th>hometown</th>\n    </tr>\n  </thead>\n  <tbody>\n    <tr>\n      <th>0</th>\n      <td>4pCed3LdHxqECCLGyIdzn3</td>\n      <td>Rafe Gomez</td>\n      <td>5</td>\n      <td>[]</td>\n      <td>[]</td>\n      <td>None</td>\n      <td>None</td>\n      <td>NaN</td>\n      <td>NaN</td>\n      <td>NaN</td>\n      <td>...</td>\n      <td>NaN</td>\n      <td>NaN</td>\n      <td>NaN</td>\n      <td>NaN</td>\n      <td>NaN</td>\n      <td>NaN</td>\n      <td>NaN</td>\n      <td>NaN</td>\n      <td>NaN</td>\n      <td>NaN</td>\n    </tr>\n    <tr>\n      <th>1</th>\n      <td>6AUl0ykLLpvTktob97x9hO</td>\n      <td>Tee Grizzley</td>\n      <td>73</td>\n      <td>[detroit hip hop, detroit trap, hip hop, pop r...</td>\n      <td>[2021, 2020, 2019, 2018, 2018, 2017, 2017, 202...</td>\n      <td>2017</td>\n      <td>2022</td>\n      <td>57.0</td>\n      <td>0.0</td>\n      <td>0.0</td>\n      <td>...</td>\n      <td>0.0</td>\n      <td>0.0</td>\n      <td>13.0</td>\n      <td>19.0</td>\n      <td>24.0</td>\n      <td>34.0</td>\n      <td>53.0</td>\n      <td>male</td>\n      <td>NaN</td>\n      <td>Detroit</td>\n    </tr>\n    <tr>\n      <th>2</th>\n      <td>3GFO1X5LAHduvR314sXnqI</td>\n      <td>Sam Rui</td>\n      <td>36</td>\n      <td>[singaporean pop]</td>\n      <td>[2017, 2020, 2020, 2020, 2019, 2019, 2018, 201...</td>\n      <td>2016</td>\n      <td>2020</td>\n      <td>17.0</td>\n      <td>0.0</td>\n      <td>0.0</td>\n      <td>...</td>\n      <td>0.0</td>\n      <td>2.0</td>\n      <td>5.0</td>\n      <td>7.0</td>\n      <td>12.0</td>\n      <td>17.0</td>\n      <td>17.0</td>\n      <td>female</td>\n      <td>SG</td>\n      <td>Singapore</td>\n    </tr>\n    <tr>\n      <th>3</th>\n      <td>2zTqYdZYO1KenNZPdaZNlY</td>\n      <td>The Painted Pianos</td>\n      <td>2</td>\n      <td>[indie rockism]</td>\n      <td>[2018, 2018]</td>\n      <td>2018</td>\n      <td>2018</td>\n      <td>2.0</td>\n      <td>0.0</td>\n      <td>0.0</td>\n      <td>...</td>\n      <td>0.0</td>\n      <td>0.0</td>\n      <td>0.0</td>\n      <td>2.0</td>\n      <td>2.0</td>\n      <td>2.0</td>\n      <td>2.0</td>\n      <td>None</td>\n      <td>US</td>\n      <td>Fort Myers</td>\n    </tr>\n    <tr>\n      <th>4</th>\n      <td>5lR7yDVN4z9kahOiUSlMhe</td>\n      <td>The King's Singers</td>\n      <td>48</td>\n      <td>[a cappella, british choir, cambridge choir, c...</td>\n      <td>[2021, 2020, 2020, 2019, 2018, 2017, 2017, 201...</td>\n      <td>1985</td>\n      <td>2021</td>\n      <td>88.0</td>\n      <td>0.0</td>\n      <td>0.0</td>\n      <td>...</td>\n      <td>57.0</td>\n      <td>60.0</td>\n      <td>69.0</td>\n      <td>72.0</td>\n      <td>75.0</td>\n      <td>85.0</td>\n      <td>88.0</td>\n      <td>None</td>\n      <td>GB</td>\n      <td>Cambridge</td>\n    </tr>\n  </tbody>\n</table>\n<p>5 rows × 58 columns</p>\n</div>"
     },
     "execution_count": 7,
     "metadata": {},
     "output_type": "execute_result"
    }
   ],
   "source": [
    "def get_artist_bio(artist_name):\n",
    "    artists = mbz.search_artists(artist_name)\n",
    "    sleep(1)\n",
    "    if artists[\"artist-count\"] > 0:\n",
    "        artist = artists[\"artist-list\"][0]\n",
    "        artist_tags = artist.get(\"tag-list\")\n",
    "        return {\n",
    "            \"gender\": artist.get(\"gender\"),\n",
    "            \"country\": artist.get(\"country\"),\n",
    "            \"hometown\": artist.get(\"begin-area\", {}).get(\"name\"),\n",
    "        }\n",
    "    else:\n",
    "        return {}\n",
    "\n",
    "\n",
    "def with_artist_bio(df, artist_key=\"name\"):\n",
    "    \"\"\"\n",
    "    Add Spotify ids and metadata to dataframe with artist data\n",
    "    As ids and metadata are added to multiple rows at a time.\n",
    "    Make sure to skip rows that already have id and metadata.\n",
    "    \"\"\"\n",
    "    for index, record in df.iterrows():\n",
    "        artist = record[artist_key]\n",
    "        filter_by_artist_ = filter_by_artist(artist_key=artist_key)\n",
    "\n",
    "        # check if artist id is already present\n",
    "        if \"hometown\" in df\\\n",
    "                and len(df[(filter_by_artist_(df, artist))\n",
    "                           & (df[\"hometown\"].isna())]) == 0:\n",
    "            continue\n",
    "\n",
    "        # search for artist on mbz\n",
    "        mbz_artist = get_artist_bio(artist)\n",
    "        if mbz_artist is None:\n",
    "            continue\n",
    "\n",
    "        # add id and metadata to dataframe\n",
    "        df.loc[filter_by_artist_(df, artist),\n",
    "               \"gender\"] = mbz_artist.get(\"gender\")\n",
    "        df.loc[filter_by_artist_(df, artist),\n",
    "               \"country\"] = mbz_artist.get(\"country\")\n",
    "        df.loc[filter_by_artist_(df, artist),\n",
    "               \"hometown\"] = mbz_artist.get(\"hometown\")\n",
    "        df[\"hometown\"] = df[\"hometown\"].replace(\"None\", np.NaN)\n",
    "\n",
    "        if index % 500 == 0:\n",
    "            total_artists = len(df)\n",
    "            null_artists = df[\"hometown\"].isnull().sum()\n",
    "            print(f\"status: {100 - null_artists / total_artists * 100:.2f} \"\n",
    "                  f\"({total_artists - null_artists} / {total_artists})\")\n",
    "    return df\n",
    "\n",
    "\n",
    "artist_df = with_artist_bio(artist_df)\n",
    "print(artist_df.shape)\n",
    "artist_df.head()"
   ],
   "metadata": {
    "collapsed": false,
    "pycharm": {
     "name": "#%%\n"
    }
   }
  },
  {
   "cell_type": "code",
   "execution_count": 8,
   "outputs": [
    {
     "name": "stdout",
     "output_type": "stream",
     "text": [
      "(1958, 120)\n"
     ]
    },
    {
     "name": "stderr",
     "output_type": "stream",
     "text": [
      "/var/folders/x2/3tdlb6px40qfq870vwx5y6080000gn/T/ipykernel_24455/556159941.py:4: SettingWithCopyWarning: \n",
      "A value is trying to be set on a copy of a slice from a DataFrame.\n",
      "Try using .loc[row_indexer,col_indexer] = value instead\n",
      "\n",
      "See the caveats in the documentation: https://pandas.pydata.org/pandas-docs/stable/user_guide/indexing.html#returning-a-view-versus-a-copy\n",
      "  df[f\"grammy_nominated_1994\"] = 0\n",
      "/var/folders/x2/3tdlb6px40qfq870vwx5y6080000gn/T/ipykernel_24455/556159941.py:5: SettingWithCopyWarning: \n",
      "A value is trying to be set on a copy of a slice from a DataFrame.\n",
      "Try using .loc[row_indexer,col_indexer] = value instead\n",
      "\n",
      "See the caveats in the documentation: https://pandas.pydata.org/pandas-docs/stable/user_guide/indexing.html#returning-a-view-versus-a-copy\n",
      "  df[f\"grammy_won_1994\"] = 0\n",
      "/var/folders/x2/3tdlb6px40qfq870vwx5y6080000gn/T/ipykernel_24455/556159941.py:7: SettingWithCopyWarning: \n",
      "A value is trying to be set on a copy of a slice from a DataFrame.\n",
      "Try using .loc[row_indexer,col_indexer] = value instead\n",
      "\n",
      "See the caveats in the documentation: https://pandas.pydata.org/pandas-docs/stable/user_guide/indexing.html#returning-a-view-versus-a-copy\n",
      "  df[f\"grammy_nominated_{year}\"] = ((df[\"award_year\"] == year) & (df[\"award_nominee\"] == 1)).astype(int)\n",
      "/var/folders/x2/3tdlb6px40qfq870vwx5y6080000gn/T/ipykernel_24455/556159941.py:8: SettingWithCopyWarning: \n",
      "A value is trying to be set on a copy of a slice from a DataFrame.\n",
      "Try using .loc[row_indexer,col_indexer] = value instead\n",
      "\n",
      "See the caveats in the documentation: https://pandas.pydata.org/pandas-docs/stable/user_guide/indexing.html#returning-a-view-versus-a-copy\n",
      "  df[f\"grammy_nominated_{year}\"] = df[f\"grammy_nominated_{year - 1}\"] + df[f\"grammy_nominated_{year}\"]\n",
      "/var/folders/x2/3tdlb6px40qfq870vwx5y6080000gn/T/ipykernel_24455/556159941.py:9: SettingWithCopyWarning: \n",
      "A value is trying to be set on a copy of a slice from a DataFrame.\n",
      "Try using .loc[row_indexer,col_indexer] = value instead\n",
      "\n",
      "See the caveats in the documentation: https://pandas.pydata.org/pandas-docs/stable/user_guide/indexing.html#returning-a-view-versus-a-copy\n",
      "  df[f\"grammy_won_{year}\"] = ((df[\"award_year\"] == year) & (df[\"award_winner\"] == 1)).astype(int)\n",
      "/var/folders/x2/3tdlb6px40qfq870vwx5y6080000gn/T/ipykernel_24455/556159941.py:10: SettingWithCopyWarning: \n",
      "A value is trying to be set on a copy of a slice from a DataFrame.\n",
      "Try using .loc[row_indexer,col_indexer] = value instead\n",
      "\n",
      "See the caveats in the documentation: https://pandas.pydata.org/pandas-docs/stable/user_guide/indexing.html#returning-a-view-versus-a-copy\n",
      "  df[f\"grammy_won_{year}\"] = df[f\"grammy_won_{year - 1}\"] + df[f\"grammy_won_{year}\"]\n",
      "/var/folders/x2/3tdlb6px40qfq870vwx5y6080000gn/T/ipykernel_24455/556159941.py:46: SettingWithCopyWarning: \n",
      "A value is trying to be set on a copy of a slice from a DataFrame.\n",
      "Try using .loc[row_indexer,col_indexer] = value instead\n",
      "\n",
      "See the caveats in the documentation: https://pandas.pydata.org/pandas-docs/stable/user_guide/indexing.html#returning-a-view-versus-a-copy\n",
      "  df[\"total_nominations\"] = df[\"award_nominee\"]\n",
      "/var/folders/x2/3tdlb6px40qfq870vwx5y6080000gn/T/ipykernel_24455/556159941.py:47: SettingWithCopyWarning: \n",
      "A value is trying to be set on a copy of a slice from a DataFrame.\n",
      "Try using .loc[row_indexer,col_indexer] = value instead\n",
      "\n",
      "See the caveats in the documentation: https://pandas.pydata.org/pandas-docs/stable/user_guide/indexing.html#returning-a-view-versus-a-copy\n",
      "  df[\"total_wins\"] = df[\"award_winner\"]\n"
     ]
    },
    {
     "data": {
      "text/plain": "                       id                name  popularity  \\\n0  4pCed3LdHxqECCLGyIdzn3          Rafe Gomez           5   \n1  6AUl0ykLLpvTktob97x9hO        Tee Grizzley          73   \n2  3GFO1X5LAHduvR314sXnqI             Sam Rui          36   \n3  2zTqYdZYO1KenNZPdaZNlY  The Painted Pianos           2   \n4  5lR7yDVN4z9kahOiUSlMhe  The King's Singers          48   \n\n                                              genres  \\\n0                                                 []   \n1  [detroit hip hop, detroit trap, hip hop, pop r...   \n2                                  [singaporean pop]   \n3                                    [indie rockism]   \n4  [a cappella, british choir, cambridge choir, c...   \n\n                                       release_years first_release  \\\n0                                                 []          None   \n1  [2021, 2020, 2019, 2018, 2018, 2017, 2017, 202...          2017   \n2  [2017, 2020, 2020, 2020, 2019, 2019, 2018, 201...          2016   \n3                                       [2018, 2018]          2018   \n4  [2021, 2020, 2020, 2019, 2018, 2017, 2017, 201...          1985   \n\n  last_release  total_releases  releases_1975  releases_1976  ...  \\\n0         None             NaN            NaN            NaN  ...   \n1         2022            57.0            0.0            0.0  ...   \n2         2020            17.0            0.0            0.0  ...   \n3         2018             2.0            0.0            0.0  ...   \n4         2021            88.0            0.0            0.0  ...   \n\n   grammy_nominated_2020  grammy_won_2020  grammy_nominated_2021  \\\n0                    NaN              NaN                    NaN   \n1                    NaN              NaN                    NaN   \n2                    NaN              NaN                    NaN   \n3                    NaN              NaN                    NaN   \n4                    NaN              NaN                    NaN   \n\n   grammy_won_2021  total_nominations  total_wins  first_win  last_win  \\\n0              NaN                NaN         NaN        NaN       NaN   \n1              NaN                NaN         NaN        NaN       NaN   \n2              NaN                NaN         NaN        NaN       NaN   \n3              NaN                NaN         NaN        NaN       NaN   \n4              NaN                NaN         NaN        NaN       NaN   \n\n   first_nomination  last_nomination  \n0               NaN              NaN  \n1               NaN              NaN  \n2               NaN              NaN  \n3               NaN              NaN  \n4               NaN              NaN  \n\n[5 rows x 120 columns]",
      "text/html": "<div>\n<style scoped>\n    .dataframe tbody tr th:only-of-type {\n        vertical-align: middle;\n    }\n\n    .dataframe tbody tr th {\n        vertical-align: top;\n    }\n\n    .dataframe thead th {\n        text-align: right;\n    }\n</style>\n<table border=\"1\" class=\"dataframe\">\n  <thead>\n    <tr style=\"text-align: right;\">\n      <th></th>\n      <th>id</th>\n      <th>name</th>\n      <th>popularity</th>\n      <th>genres</th>\n      <th>release_years</th>\n      <th>first_release</th>\n      <th>last_release</th>\n      <th>total_releases</th>\n      <th>releases_1975</th>\n      <th>releases_1976</th>\n      <th>...</th>\n      <th>grammy_nominated_2020</th>\n      <th>grammy_won_2020</th>\n      <th>grammy_nominated_2021</th>\n      <th>grammy_won_2021</th>\n      <th>total_nominations</th>\n      <th>total_wins</th>\n      <th>first_win</th>\n      <th>last_win</th>\n      <th>first_nomination</th>\n      <th>last_nomination</th>\n    </tr>\n  </thead>\n  <tbody>\n    <tr>\n      <th>0</th>\n      <td>4pCed3LdHxqECCLGyIdzn3</td>\n      <td>Rafe Gomez</td>\n      <td>5</td>\n      <td>[]</td>\n      <td>[]</td>\n      <td>None</td>\n      <td>None</td>\n      <td>NaN</td>\n      <td>NaN</td>\n      <td>NaN</td>\n      <td>...</td>\n      <td>NaN</td>\n      <td>NaN</td>\n      <td>NaN</td>\n      <td>NaN</td>\n      <td>NaN</td>\n      <td>NaN</td>\n      <td>NaN</td>\n      <td>NaN</td>\n      <td>NaN</td>\n      <td>NaN</td>\n    </tr>\n    <tr>\n      <th>1</th>\n      <td>6AUl0ykLLpvTktob97x9hO</td>\n      <td>Tee Grizzley</td>\n      <td>73</td>\n      <td>[detroit hip hop, detroit trap, hip hop, pop r...</td>\n      <td>[2021, 2020, 2019, 2018, 2018, 2017, 2017, 202...</td>\n      <td>2017</td>\n      <td>2022</td>\n      <td>57.0</td>\n      <td>0.0</td>\n      <td>0.0</td>\n      <td>...</td>\n      <td>NaN</td>\n      <td>NaN</td>\n      <td>NaN</td>\n      <td>NaN</td>\n      <td>NaN</td>\n      <td>NaN</td>\n      <td>NaN</td>\n      <td>NaN</td>\n      <td>NaN</td>\n      <td>NaN</td>\n    </tr>\n    <tr>\n      <th>2</th>\n      <td>3GFO1X5LAHduvR314sXnqI</td>\n      <td>Sam Rui</td>\n      <td>36</td>\n      <td>[singaporean pop]</td>\n      <td>[2017, 2020, 2020, 2020, 2019, 2019, 2018, 201...</td>\n      <td>2016</td>\n      <td>2020</td>\n      <td>17.0</td>\n      <td>0.0</td>\n      <td>0.0</td>\n      <td>...</td>\n      <td>NaN</td>\n      <td>NaN</td>\n      <td>NaN</td>\n      <td>NaN</td>\n      <td>NaN</td>\n      <td>NaN</td>\n      <td>NaN</td>\n      <td>NaN</td>\n      <td>NaN</td>\n      <td>NaN</td>\n    </tr>\n    <tr>\n      <th>3</th>\n      <td>2zTqYdZYO1KenNZPdaZNlY</td>\n      <td>The Painted Pianos</td>\n      <td>2</td>\n      <td>[indie rockism]</td>\n      <td>[2018, 2018]</td>\n      <td>2018</td>\n      <td>2018</td>\n      <td>2.0</td>\n      <td>0.0</td>\n      <td>0.0</td>\n      <td>...</td>\n      <td>NaN</td>\n      <td>NaN</td>\n      <td>NaN</td>\n      <td>NaN</td>\n      <td>NaN</td>\n      <td>NaN</td>\n      <td>NaN</td>\n      <td>NaN</td>\n      <td>NaN</td>\n      <td>NaN</td>\n    </tr>\n    <tr>\n      <th>4</th>\n      <td>5lR7yDVN4z9kahOiUSlMhe</td>\n      <td>The King's Singers</td>\n      <td>48</td>\n      <td>[a cappella, british choir, cambridge choir, c...</td>\n      <td>[2021, 2020, 2020, 2019, 2018, 2017, 2017, 201...</td>\n      <td>1985</td>\n      <td>2021</td>\n      <td>88.0</td>\n      <td>0.0</td>\n      <td>0.0</td>\n      <td>...</td>\n      <td>NaN</td>\n      <td>NaN</td>\n      <td>NaN</td>\n      <td>NaN</td>\n      <td>NaN</td>\n      <td>NaN</td>\n      <td>NaN</td>\n      <td>NaN</td>\n      <td>NaN</td>\n      <td>NaN</td>\n    </tr>\n  </tbody>\n</table>\n<p>5 rows × 120 columns</p>\n</div>"
     },
     "execution_count": 8,
     "metadata": {},
     "output_type": "execute_result"
    }
   ],
   "source": [
    "def summarize_artist_nominations(df):\n",
    "    df = df[~df[\"spotify_artist_id\"].isna()]\n",
    "\n",
    "    df[f\"grammy_nominated_1994\"] = 0\n",
    "    df[f\"grammy_won_1994\"] = 0\n",
    "    for year in range(1995, 2022):\n",
    "        df[f\"grammy_nominated_{year}\"] = ((df[\"award_year\"] == year) & (df[\"award_nominee\"] == 1)).astype(int)\n",
    "        df[f\"grammy_nominated_{year}\"] = df[f\"grammy_nominated_{year - 1}\"] + df[f\"grammy_nominated_{year}\"]\n",
    "        df[f\"grammy_won_{year}\"] = ((df[\"award_year\"] == year) & (df[\"award_winner\"] == 1)).astype(int)\n",
    "        df[f\"grammy_won_{year}\"] = df[f\"grammy_won_{year - 1}\"] + df[f\"grammy_won_{year}\"]\n",
    "\n",
    "    artist_first_win = (\n",
    "        df[df[\"award_winner\"] == 1]\n",
    "            .groupby(\"artist_mbid\")\n",
    "            .min(\"award_year\")\n",
    "            .reset_index()\n",
    "            .rename(columns={\"award_year\": \"first_win\"})\n",
    "        [[\"artist_mbid\", \"first_win\"]]\n",
    "    )\n",
    "\n",
    "    artist_last_win = (\n",
    "        df[df[\"award_winner\"] == 1]\n",
    "            .groupby(\"artist_mbid\")\n",
    "            .max(\"award_year\")\n",
    "            .reset_index()\n",
    "            .rename(columns={\"award_year\": \"last_win\"})\n",
    "        [[\"artist_mbid\", \"last_win\"]]\n",
    "    )\n",
    "\n",
    "    artist_first_nomination = (\n",
    "        df.groupby(\"artist_mbid\")\n",
    "            .min(\"award_year\")\n",
    "            .reset_index()\n",
    "            .rename(columns={\"award_year\": \"first_nomination\"})\n",
    "        [[\"artist_mbid\", \"first_nomination\"]]\n",
    "    )\n",
    "\n",
    "    artist_last_nomination = (\n",
    "        df.groupby(\"artist_mbid\")\n",
    "            .min(\"award_year\")\n",
    "            .reset_index()\n",
    "            .rename(columns={\"award_year\": \"last_nomination\"})\n",
    "        [[\"artist_mbid\", \"last_nomination\"]]\n",
    "    )\n",
    "\n",
    "    df[\"total_nominations\"] = df[\"award_nominee\"]\n",
    "    df[\"total_wins\"] = df[\"award_winner\"]\n",
    "    df = (\n",
    "        df.groupby([\"artist_mbid\", \"spotify_artist_id\", \"artist_name\"])\n",
    "            .agg(\"sum\")\n",
    "            .reset_index()\n",
    "            .drop(columns=[\"award_year\", \"release_year\", \"award_nominee\", \"award_winner\",\n",
    "                           \"spotify_track_popularity\", \"artist_name\"])\n",
    "    )\n",
    "\n",
    "    df = pd.merge(df, artist_first_win, on=\"artist_mbid\", how=\"outer\")\n",
    "    df = pd.merge(df, artist_last_win, on=\"artist_mbid\", how=\"outer\")\n",
    "    df = pd.merge(df, artist_first_nomination, on=\"artist_mbid\", how=\"outer\")\n",
    "    df = pd.merge(df, artist_last_nomination, on=\"artist_mbid\", how=\"outer\")\n",
    "    df = df.drop_duplicates(\"artist_mbid\")\n",
    "    df = df.drop(columns=[\"artist_mbid\"])\n",
    "    return df.fillna(0)\n",
    "\n",
    "\n",
    "def with_grammy_nomination_csum_columns(artist_df, artist_nominations_df):\n",
    "    artist_nominations_summary_df = summarize_artist_nominations(artist_nominations_df)\n",
    "    df_ = pd.merge(artist_df, artist_nominations_summary_df, left_on=\"id\", right_on=\"spotify_artist_id\", how=\"left\")\n",
    "    df_ = df_.drop(columns=[\"spotify_artist_id\"])\n",
    "    return df_\n",
    "\n",
    "\n",
    "artist_nominations_df = pd.read_parquet(data_path / \"raw/artist_nominations.pq\")\n",
    "artist_df = with_grammy_nomination_csum_columns(artist_df, artist_nominations_df)\n",
    "print(artist_df.shape)\n",
    "artist_df.head()"
   ],
   "metadata": {
    "collapsed": false,
    "pycharm": {
     "name": "#%%\n"
    }
   }
  },
  {
   "cell_type": "code",
   "execution_count": 9,
   "outputs": [
    {
     "name": "stdout",
     "output_type": "stream",
     "text": [
      "(1958, 127)\n"
     ]
    },
    {
     "data": {
      "text/plain": "                       id                name  popularity  \\\n0  4pCed3LdHxqECCLGyIdzn3          Rafe Gomez           5   \n1  6AUl0ykLLpvTktob97x9hO        Tee Grizzley          73   \n2  3GFO1X5LAHduvR314sXnqI             Sam Rui          36   \n3  2zTqYdZYO1KenNZPdaZNlY  The Painted Pianos           2   \n4  5lR7yDVN4z9kahOiUSlMhe  The King's Singers          48   \n\n                                              genres  \\\n0                                                 []   \n1  [detroit hip hop, detroit trap, hip hop, pop r...   \n2                                  [singaporean pop]   \n3                                    [indie rockism]   \n4  [a cappella, british choir, cambridge choir, c...   \n\n                                       release_years first_release  \\\n0                                                 []          None   \n1  [2021, 2020, 2019, 2018, 2018, 2017, 2017, 202...          2017   \n2  [2017, 2020, 2020, 2020, 2019, 2019, 2018, 201...          2016   \n3                                       [2018, 2018]          2018   \n4  [2021, 2020, 2020, 2019, 2018, 2017, 2017, 201...          1985   \n\n  last_release  total_releases  releases_1975  releases_1976  ...  last_win  \\\n0         None             NaN            NaN            NaN  ...       NaN   \n1         2022            57.0            0.0            0.0  ...       NaN   \n2         2020            17.0            0.0            0.0  ...       NaN   \n3         2018             2.0            0.0            0.0  ...       NaN   \n4         2021            88.0            0.0            0.0  ...       NaN   \n\n   first_nomination  last_nomination  artist_id  chart_months  total_revenue  \\\n0               NaN              NaN        NaN           NaN            NaN   \n1               NaN              NaN        NaN           NaN            NaN   \n2               NaN              NaN        NaN           NaN            NaN   \n3               NaN              NaN        NaN           NaN            NaN   \n4               NaN              NaN        NaN           NaN            NaN   \n\n   first_chart_year  last_chart_year  chart_tracks  chart_peak  \n0               NaN              NaN           NaN         NaN  \n1               NaN              NaN           NaN         NaN  \n2               NaN              NaN           NaN         NaN  \n3               NaN              NaN           NaN         NaN  \n4               NaN              NaN           NaN         NaN  \n\n[5 rows x 127 columns]",
      "text/html": "<div>\n<style scoped>\n    .dataframe tbody tr th:only-of-type {\n        vertical-align: middle;\n    }\n\n    .dataframe tbody tr th {\n        vertical-align: top;\n    }\n\n    .dataframe thead th {\n        text-align: right;\n    }\n</style>\n<table border=\"1\" class=\"dataframe\">\n  <thead>\n    <tr style=\"text-align: right;\">\n      <th></th>\n      <th>id</th>\n      <th>name</th>\n      <th>popularity</th>\n      <th>genres</th>\n      <th>release_years</th>\n      <th>first_release</th>\n      <th>last_release</th>\n      <th>total_releases</th>\n      <th>releases_1975</th>\n      <th>releases_1976</th>\n      <th>...</th>\n      <th>last_win</th>\n      <th>first_nomination</th>\n      <th>last_nomination</th>\n      <th>artist_id</th>\n      <th>chart_months</th>\n      <th>total_revenue</th>\n      <th>first_chart_year</th>\n      <th>last_chart_year</th>\n      <th>chart_tracks</th>\n      <th>chart_peak</th>\n    </tr>\n  </thead>\n  <tbody>\n    <tr>\n      <th>0</th>\n      <td>4pCed3LdHxqECCLGyIdzn3</td>\n      <td>Rafe Gomez</td>\n      <td>5</td>\n      <td>[]</td>\n      <td>[]</td>\n      <td>None</td>\n      <td>None</td>\n      <td>NaN</td>\n      <td>NaN</td>\n      <td>NaN</td>\n      <td>...</td>\n      <td>NaN</td>\n      <td>NaN</td>\n      <td>NaN</td>\n      <td>NaN</td>\n      <td>NaN</td>\n      <td>NaN</td>\n      <td>NaN</td>\n      <td>NaN</td>\n      <td>NaN</td>\n      <td>NaN</td>\n    </tr>\n    <tr>\n      <th>1</th>\n      <td>6AUl0ykLLpvTktob97x9hO</td>\n      <td>Tee Grizzley</td>\n      <td>73</td>\n      <td>[detroit hip hop, detroit trap, hip hop, pop r...</td>\n      <td>[2021, 2020, 2019, 2018, 2018, 2017, 2017, 202...</td>\n      <td>2017</td>\n      <td>2022</td>\n      <td>57.0</td>\n      <td>0.0</td>\n      <td>0.0</td>\n      <td>...</td>\n      <td>NaN</td>\n      <td>NaN</td>\n      <td>NaN</td>\n      <td>NaN</td>\n      <td>NaN</td>\n      <td>NaN</td>\n      <td>NaN</td>\n      <td>NaN</td>\n      <td>NaN</td>\n      <td>NaN</td>\n    </tr>\n    <tr>\n      <th>2</th>\n      <td>3GFO1X5LAHduvR314sXnqI</td>\n      <td>Sam Rui</td>\n      <td>36</td>\n      <td>[singaporean pop]</td>\n      <td>[2017, 2020, 2020, 2020, 2019, 2019, 2018, 201...</td>\n      <td>2016</td>\n      <td>2020</td>\n      <td>17.0</td>\n      <td>0.0</td>\n      <td>0.0</td>\n      <td>...</td>\n      <td>NaN</td>\n      <td>NaN</td>\n      <td>NaN</td>\n      <td>NaN</td>\n      <td>NaN</td>\n      <td>NaN</td>\n      <td>NaN</td>\n      <td>NaN</td>\n      <td>NaN</td>\n      <td>NaN</td>\n    </tr>\n    <tr>\n      <th>3</th>\n      <td>2zTqYdZYO1KenNZPdaZNlY</td>\n      <td>The Painted Pianos</td>\n      <td>2</td>\n      <td>[indie rockism]</td>\n      <td>[2018, 2018]</td>\n      <td>2018</td>\n      <td>2018</td>\n      <td>2.0</td>\n      <td>0.0</td>\n      <td>0.0</td>\n      <td>...</td>\n      <td>NaN</td>\n      <td>NaN</td>\n      <td>NaN</td>\n      <td>NaN</td>\n      <td>NaN</td>\n      <td>NaN</td>\n      <td>NaN</td>\n      <td>NaN</td>\n      <td>NaN</td>\n      <td>NaN</td>\n    </tr>\n    <tr>\n      <th>4</th>\n      <td>5lR7yDVN4z9kahOiUSlMhe</td>\n      <td>The King's Singers</td>\n      <td>48</td>\n      <td>[a cappella, british choir, cambridge choir, c...</td>\n      <td>[2021, 2020, 2020, 2019, 2018, 2017, 2017, 201...</td>\n      <td>1985</td>\n      <td>2021</td>\n      <td>88.0</td>\n      <td>0.0</td>\n      <td>0.0</td>\n      <td>...</td>\n      <td>NaN</td>\n      <td>NaN</td>\n      <td>NaN</td>\n      <td>NaN</td>\n      <td>NaN</td>\n      <td>NaN</td>\n      <td>NaN</td>\n      <td>NaN</td>\n      <td>NaN</td>\n      <td>NaN</td>\n    </tr>\n  </tbody>\n</table>\n<p>5 rows × 127 columns</p>\n</div>"
     },
     "execution_count": 9,
     "metadata": {},
     "output_type": "execute_result"
    }
   ],
   "source": [
    "def with_chart_stats(artist_df, song_chart_df):\n",
    "    song_chart_df[\"year\"] = song_chart_df[\"month\"].apply(lambda month: month.split(\" \")[-1])\n",
    "    # track number of months artist has tracks in charts\n",
    "    song_chart_df[\"chart_months\"] = 1\n",
    "    song_chart_df = (\n",
    "        song_chart_df\n",
    "            .groupby([\"spotify_artist_id\"])\n",
    "            .aggregate({\n",
    "                \"chart_months\": \"sum\",\n",
    "                \"indicativerevenue\": \"sum\",\n",
    "                \"year\": [\"min\", \"max\"],\n",
    "                \"spotify_track_id\": \"nunique\",\n",
    "                \"position\": \"min\",\n",
    "            })\n",
    "            .reset_index()\n",
    "            .set_axis([\"artist_id\", \"chart_months\", \"total_revenue\", \"first_chart_year\",\n",
    "                       \"last_chart_year\", \"chart_tracks\", \"chart_peak\"], axis=1)\n",
    "    )\n",
    "    df = pd.merge(artist_df, song_chart_df, left_on=\"id\", right_on=\"artist_id\", how=\"left\")\n",
    "    return df.drop_duplicates([\"id\"])\n",
    "\n",
    "\n",
    "# artist_df = (\n",
    "#    pd.read_parquet(data_path / \"artist_summary.pq\")\n",
    "#        .drop(columns=[\"chart_months\", \"total_revenue\", \"first_chart_year\", \"last_chart_year\", \"chart_tracks\", \"chart_peak\"])\n",
    "#)\n",
    "song_chart_summary_df = pd.read_parquet(data_path / \"raw/song_chart_by_month.pq\")\n",
    "artist_df = with_chart_stats(artist_df, song_chart_summary_df)\n",
    "print(artist_df.shape)\n",
    "artist_df.head()"
   ],
   "metadata": {
    "collapsed": false,
    "pycharm": {
     "name": "#%%\n"
    }
   }
  },
  {
   "cell_type": "code",
   "execution_count": 11,
   "outputs": [
    {
     "name": "stdout",
     "output_type": "stream",
     "text": [
      "(1958, 169)\n"
     ]
    },
    {
     "data": {
      "text/plain": "                       id                name  popularity  \\\n0  4pCed3LdHxqECCLGyIdzn3          Rafe Gomez           5   \n1  6AUl0ykLLpvTktob97x9hO        Tee Grizzley          73   \n2  3GFO1X5LAHduvR314sXnqI             Sam Rui          36   \n3  2zTqYdZYO1KenNZPdaZNlY  The Painted Pianos           2   \n4  5lR7yDVN4z9kahOiUSlMhe  The King's Singers          48   \n\n                                              genres  \\\n0                                                 []   \n1  [detroit hip hop, detroit trap, hip hop, pop r...   \n2                                  [singaporean pop]   \n3                                    [indie rockism]   \n4  [a cappella, british choir, cambridge choir, c...   \n\n                                       release_years first_release  \\\n0                                                 []          None   \n1  [2021, 2020, 2019, 2018, 2018, 2017, 2017, 202...          2017   \n2  [2017, 2020, 2020, 2020, 2019, 2019, 2018, 201...          2016   \n3                                       [2018, 2018]          2018   \n4  [2021, 2020, 2020, 2019, 2018, 2017, 2017, 201...          1985   \n\n  last_release  total_releases  releases_1975  releases_1976  ...  \\\n0         None             NaN            NaN            NaN  ...   \n1         2022            57.0            0.0            0.0  ...   \n2         2020            17.0            0.0            0.0  ...   \n3         2018             2.0            0.0            0.0  ...   \n4         2021            88.0            0.0            0.0  ...   \n\n   chart_months_2016  chart_months_recently_2016  chart_months_2017  \\\n0                0.0                         0.0                0.0   \n1                0.0                         0.0                0.0   \n2                0.0                         0.0                0.0   \n3                0.0                         0.0                0.0   \n4                0.0                         0.0                0.0   \n\n   chart_months_recently_2017  chart_months_2018  chart_months_recently_2018  \\\n0                         0.0                0.0                         0.0   \n1                         0.0                0.0                         0.0   \n2                         0.0                0.0                         0.0   \n3                         0.0                0.0                         0.0   \n4                         0.0                0.0                         0.0   \n\n   chart_months_2019  chart_months_recently_2019  chart_months_2020  \\\n0                0.0                         0.0                0.0   \n1                0.0                         0.0                0.0   \n2                0.0                         0.0                0.0   \n3                0.0                         0.0                0.0   \n4                0.0                         0.0                0.0   \n\n   chart_months_recently_2020  \n0                         0.0  \n1                         0.0  \n2                         0.0  \n3                         0.0  \n4                         0.0  \n\n[5 rows x 169 columns]",
      "text/html": "<div>\n<style scoped>\n    .dataframe tbody tr th:only-of-type {\n        vertical-align: middle;\n    }\n\n    .dataframe tbody tr th {\n        vertical-align: top;\n    }\n\n    .dataframe thead th {\n        text-align: right;\n    }\n</style>\n<table border=\"1\" class=\"dataframe\">\n  <thead>\n    <tr style=\"text-align: right;\">\n      <th></th>\n      <th>id</th>\n      <th>name</th>\n      <th>popularity</th>\n      <th>genres</th>\n      <th>release_years</th>\n      <th>first_release</th>\n      <th>last_release</th>\n      <th>total_releases</th>\n      <th>releases_1975</th>\n      <th>releases_1976</th>\n      <th>...</th>\n      <th>chart_months_2016</th>\n      <th>chart_months_recently_2016</th>\n      <th>chart_months_2017</th>\n      <th>chart_months_recently_2017</th>\n      <th>chart_months_2018</th>\n      <th>chart_months_recently_2018</th>\n      <th>chart_months_2019</th>\n      <th>chart_months_recently_2019</th>\n      <th>chart_months_2020</th>\n      <th>chart_months_recently_2020</th>\n    </tr>\n  </thead>\n  <tbody>\n    <tr>\n      <th>0</th>\n      <td>4pCed3LdHxqECCLGyIdzn3</td>\n      <td>Rafe Gomez</td>\n      <td>5</td>\n      <td>[]</td>\n      <td>[]</td>\n      <td>None</td>\n      <td>None</td>\n      <td>NaN</td>\n      <td>NaN</td>\n      <td>NaN</td>\n      <td>...</td>\n      <td>0.0</td>\n      <td>0.0</td>\n      <td>0.0</td>\n      <td>0.0</td>\n      <td>0.0</td>\n      <td>0.0</td>\n      <td>0.0</td>\n      <td>0.0</td>\n      <td>0.0</td>\n      <td>0.0</td>\n    </tr>\n    <tr>\n      <th>1</th>\n      <td>6AUl0ykLLpvTktob97x9hO</td>\n      <td>Tee Grizzley</td>\n      <td>73</td>\n      <td>[detroit hip hop, detroit trap, hip hop, pop r...</td>\n      <td>[2021, 2020, 2019, 2018, 2018, 2017, 2017, 202...</td>\n      <td>2017</td>\n      <td>2022</td>\n      <td>57.0</td>\n      <td>0.0</td>\n      <td>0.0</td>\n      <td>...</td>\n      <td>0.0</td>\n      <td>0.0</td>\n      <td>0.0</td>\n      <td>0.0</td>\n      <td>0.0</td>\n      <td>0.0</td>\n      <td>0.0</td>\n      <td>0.0</td>\n      <td>0.0</td>\n      <td>0.0</td>\n    </tr>\n    <tr>\n      <th>2</th>\n      <td>3GFO1X5LAHduvR314sXnqI</td>\n      <td>Sam Rui</td>\n      <td>36</td>\n      <td>[singaporean pop]</td>\n      <td>[2017, 2020, 2020, 2020, 2019, 2019, 2018, 201...</td>\n      <td>2016</td>\n      <td>2020</td>\n      <td>17.0</td>\n      <td>0.0</td>\n      <td>0.0</td>\n      <td>...</td>\n      <td>0.0</td>\n      <td>0.0</td>\n      <td>0.0</td>\n      <td>0.0</td>\n      <td>0.0</td>\n      <td>0.0</td>\n      <td>0.0</td>\n      <td>0.0</td>\n      <td>0.0</td>\n      <td>0.0</td>\n    </tr>\n    <tr>\n      <th>3</th>\n      <td>2zTqYdZYO1KenNZPdaZNlY</td>\n      <td>The Painted Pianos</td>\n      <td>2</td>\n      <td>[indie rockism]</td>\n      <td>[2018, 2018]</td>\n      <td>2018</td>\n      <td>2018</td>\n      <td>2.0</td>\n      <td>0.0</td>\n      <td>0.0</td>\n      <td>...</td>\n      <td>0.0</td>\n      <td>0.0</td>\n      <td>0.0</td>\n      <td>0.0</td>\n      <td>0.0</td>\n      <td>0.0</td>\n      <td>0.0</td>\n      <td>0.0</td>\n      <td>0.0</td>\n      <td>0.0</td>\n    </tr>\n    <tr>\n      <th>4</th>\n      <td>5lR7yDVN4z9kahOiUSlMhe</td>\n      <td>The King's Singers</td>\n      <td>48</td>\n      <td>[a cappella, british choir, cambridge choir, c...</td>\n      <td>[2021, 2020, 2020, 2019, 2018, 2017, 2017, 201...</td>\n      <td>1985</td>\n      <td>2021</td>\n      <td>88.0</td>\n      <td>0.0</td>\n      <td>0.0</td>\n      <td>...</td>\n      <td>0.0</td>\n      <td>0.0</td>\n      <td>0.0</td>\n      <td>0.0</td>\n      <td>0.0</td>\n      <td>0.0</td>\n      <td>0.0</td>\n      <td>0.0</td>\n      <td>0.0</td>\n      <td>0.0</td>\n    </tr>\n  </tbody>\n</table>\n<p>5 rows × 169 columns</p>\n</div>"
     },
     "execution_count": 11,
     "metadata": {},
     "output_type": "execute_result"
    }
   ],
   "source": [
    "def with_chart_months_csum_columns(artist_df, song_chart_df):\n",
    "    song_chart_df[\"year\"] = song_chart_df[\"month\"].apply(lambda month: month.split(\" \")[-1]).astype(int).astype(str)\n",
    "    song_chart_df[\"chart_months\"] = 1\n",
    "    df_ = (\n",
    "        song_chart_df\n",
    "            .sort_values(by=[\"spotify_artist_id\", \"spotify_track_id\", \"year\"])\n",
    "            .groupby([\"spotify_artist_id\", \"year\"]).sum()\n",
    "            .groupby(level=0)\n",
    "            .aggregate({\n",
    "                \"chart_months\": \"cumsum\",\n",
    "                \"indicativerevenue\": \"cumsum\",\n",
    "            })\n",
    "            .reset_index()\n",
    "            .pivot(index=\"spotify_artist_id\", columns=\"year\", values=\"chart_months\")\n",
    "            .fillna(0)\n",
    "            .reset_index()\n",
    "            .rename_axis(None, axis=1)\n",
    "            #.set_index(\"id\")\n",
    "    )\n",
    "    columns = [\"id\"]\n",
    "    df_[\"1999\"] = 0\n",
    "    df_[\"1998\"] = 0\n",
    "    df_[\"1997\"] = 0\n",
    "    for year in range(2000, 2021):\n",
    "        columns.append(str(f\"chart_months_{year}\"))\n",
    "        columns.append(str(f\"chart_months_recently_{year}\"))\n",
    "        if str(year) not in df_.columns:\n",
    "            df_[str(year)] = 0\n",
    "        if str(year + 1) not in df_.columns:\n",
    "            df_[str(year + 1)] = 0\n",
    "        df_.loc[df_[str(year + 1)] == 0, str(year + 1)] = df_[str(year)]\n",
    "        df_[f\"chart_months_{year}\"] = df_[str(year)]\n",
    "        df_[f\"chart_months_recently_{year}\"] = df_[str(year)] - df_[str(year - 3)]\n",
    "    df_ = df_.rename(columns={\"spotify_artist_id\": \"id\"}).fillna(0)\n",
    "    df_ = pd.merge(artist_df, df_[columns], on=\"id\", how=\"left\")\n",
    "    for col in df_.columns:\n",
    "        if col.startswith(\"chart_months_\"):\n",
    "            df_[col] = df_[col].fillna(0)\n",
    "    return df_\n",
    "\n",
    "\n",
    "# artist_df = artist_df.drop(\n",
    "#    columns=[col for col in artist_df.columns\n",
    "#             if col.startswith(\"chart_months_\")])\n",
    "song_chart_df = pd.read_parquet(data_path / \"raw/song_chart_by_month.pq\")\n",
    "artist_df = with_chart_months_csum_columns(artist_df, song_chart_df)\n",
    "print(artist_df.shape)\n",
    "artist_df.head()"
   ],
   "metadata": {
    "collapsed": false,
    "pycharm": {
     "name": "#%%\n"
    }
   }
  },
  {
   "cell_type": "code",
   "execution_count": 18,
   "outputs": [
    {
     "name": "stdout",
     "output_type": "stream",
     "text": [
      "True\n"
     ]
    }
   ],
   "source": [
    "artist_df = artist_df.drop_duplicates([\"id\"])\n",
    "artist_df[\"first_release\"] = artist_df[\"first_release\"].astype(float)\n",
    "artist_df[\"last_release\"] = artist_df[\"last_release\"].astype(float)\n",
    "artist_df[\"gender\"] = artist_df[\"gender\"].astype(str)\n",
    "artist_df[\"country\"] = artist_df[\"country\"].astype(str)\n",
    "artist_df[\"hometown\"] = artist_df[\"hometown\"].astype(str)\n",
    "artist_df[\"first_chart_year\"] = artist_df[\"first_chart_year\"].astype(float)\n",
    "artist_df[\"last_chart_year\"] = artist_df[\"last_chart_year\"].astype(float)\n",
    "\n",
    "print(diff_dataset)\n",
    "if diff_dataset:\n",
    "    artist_df_0 = pd.read_parquet(data_path / \"artist_summary.pq\")\n",
    "    artist_df_concat = pd.concat([artist_df_0, artist_df]).drop_duplicates([\"id\"])\n",
    "    artist_df_concat.to_csv(data_path / \"artist_summary.csv.gz\")\n",
    "    artist_df_concat.to_parquet(data_path / \"artist_summary.pq\")\n",
    "else:\n",
    "    artist_df.to_csv(data_path / \"artist_summary.csv.gz\")\n",
    "    artist_df.to_parquet(data_path / \"artist_summary.pq\")"
   ],
   "metadata": {
    "collapsed": false,
    "pycharm": {
     "name": "#%%\n"
    }
   }
  },
  {
   "cell_type": "code",
   "execution_count": 14,
   "outputs": [
    {
     "data": {
      "text/plain": "(6140, 243)"
     },
     "execution_count": 14,
     "metadata": {},
     "output_type": "execute_result"
    }
   ],
   "source": [
    "artist_df_0.shape"
   ],
   "metadata": {
    "collapsed": false,
    "pycharm": {
     "name": "#%%\n"
    }
   }
  },
  {
   "cell_type": "code",
   "execution_count": 15,
   "outputs": [
    {
     "data": {
      "text/plain": "(1958, 169)"
     },
     "execution_count": 15,
     "metadata": {},
     "output_type": "execute_result"
    }
   ],
   "source": [
    "artist_df.shape"
   ],
   "metadata": {
    "collapsed": false,
    "pycharm": {
     "name": "#%%\n"
    }
   }
  },
  {
   "cell_type": "code",
   "execution_count": 16,
   "outputs": [
    {
     "data": {
      "text/plain": "(8098, 244)"
     },
     "execution_count": 16,
     "metadata": {},
     "output_type": "execute_result"
    }
   ],
   "source": [
    "artist_df_concat.shape"
   ],
   "metadata": {
    "collapsed": false,
    "pycharm": {
     "name": "#%%\n"
    }
   }
  },
  {
   "cell_type": "code",
   "execution_count": 17,
   "outputs": [
    {
     "data": {
      "text/plain": "(8098, 244)"
     },
     "execution_count": 17,
     "metadata": {},
     "output_type": "execute_result"
    }
   ],
   "source": [
    "artist_df_concat.drop_duplicates([\"id\"]).shape"
   ],
   "metadata": {
    "collapsed": false,
    "pycharm": {
     "name": "#%%\n"
    }
   }
  },
  {
   "cell_type": "code",
   "execution_count": null,
   "outputs": [],
   "source": [],
   "metadata": {
    "collapsed": false,
    "pycharm": {
     "name": "#%%\n",
     "is_executing": true
    }
   }
  }
 ],
 "metadata": {
  "kernelspec": {
   "display_name": "Python 3",
   "language": "python",
   "name": "python3"
  },
  "language_info": {
   "codemirror_mode": {
    "name": "ipython",
    "version": 2
   },
   "file_extension": ".py",
   "mimetype": "text/x-python",
   "name": "python",
   "nbconvert_exporter": "python",
   "pygments_lexer": "ipython2",
   "version": "2.7.6"
  }
 },
 "nbformat": 4,
 "nbformat_minor": 0
}